{
 "cells": [
  {
   "cell_type": "markdown",
   "id": "bcd4eed5-9d99-4a68-a33f-689829ef9285",
   "metadata": {},
   "source": [
    "## 1. Libraries & Importing Dataset"
   ]
  },
  {
   "cell_type": "code",
   "execution_count": 1,
   "id": "bca79f0f-290b-4d60-acf0-25c9dfa59f05",
   "metadata": {},
   "outputs": [],
   "source": [
    "import polars as pl\n",
    "import pandas as pd\n",
    "import unicodedata\n",
    "import numpy as np\n",
    "import seaborn as sns\n",
    "import matplotlib.pyplot as plt\n",
    "from mpl_toolkits.mplot3d import Axes3D\n",
    "from scipy import stats\n",
    "from sklearn.preprocessing import OrdinalEncoder , TargetEncoder , RobustScaler , LabelEncoder , StandardScaler\n",
    "from sklearn.cluster import KMeans\n",
    "from yellowbrick.cluster import KElbowVisualizer\n",
    "from sklearn.feature_selection import SelectKBest \n",
    "from sklearn.feature_selection import f_classif\n",
    "from sklearn.feature_selection import chi2\n",
    "from sklearn.decomposition import PCA\n",
    "from sklearn.feature_extraction.text import TfidfVectorizer\n",
    "from sklearn.metrics import silhouette_score\n",
    "\n",
    "# Define the input CSV file and create a DataFrame\n",
    "csv = 'input.csv'\n",
    "df_csv = pl.read_csv(csv)"
   ]
  },
  {
   "cell_type": "markdown",
   "id": "ecff599c-dbe4-434b-985d-7eb2509a06cd",
   "metadata": {},
   "source": [
    "## 2. Data Exploration"
   ]
  },
  {
   "cell_type": "code",
   "execution_count": 2,
   "id": "869b132c-ac4b-442a-8023-12d835a7b0c2",
   "metadata": {},
   "outputs": [
    {
     "name": "stdout",
     "output_type": "stream",
     "text": [
      "(1433, 63)\n"
     ]
    }
   ],
   "source": [
    "# Get the shape of dataframe\n",
    "print(df_csv.shape)"
   ]
  },
  {
   "cell_type": "code",
   "execution_count": 3,
   "id": "0a6fe6e7-389b-401a-b85f-9274136e2dcc",
   "metadata": {},
   "outputs": [
    {
     "data": {
      "text/html": [
       "<div><style>\n",
       ".dataframe > thead > tr,\n",
       ".dataframe > tbody > tr {\n",
       "  text-align: right;\n",
       "  white-space: pre-wrap;\n",
       "}\n",
       "</style>\n",
       "<small>shape: (9, 64)</small><table border=\"1\" class=\"dataframe\"><thead><tr><th>statistic</th><th>Are you self-employed?</th><th>How many employees does your company or organization have?</th><th>Is your employer primarily a tech company/organization?</th><th>Is your primary role within your company related to tech/IT?</th><th>Does your employer provide mental health benefits as part of healthcare coverage?</th><th>Do you know the options for mental health care available under your employer-provided coverage?</th><th>Has your employer ever formally discussed mental health (for example, as part of a wellness campaign or other official communication)?</th><th>Does your employer offer resources to learn more about mental health concerns and options for seeking help?</th><th>Is your anonymity protected if you choose to take advantage of mental health or substance abuse treatment resources provided by your employer?</th><th>If a mental health issue prompted you to request a medical leave from work, asking for that leave would be:</th><th>Do you think that discussing a mental health disorder with your employer would have negative consequences?</th><th>Do you think that discussing a physical health issue with your employer would have negative consequences?</th><th>Would you feel comfortable discussing a mental health disorder with your coworkers?</th><th>Would you feel comfortable discussing a mental health disorder with your direct supervisor(s)?</th><th>Do you feel that your employer takes mental health as seriously as physical health?</th><th>Have you heard of or observed negative consequences for co-workers who have been open about mental health issues in your workplace?</th><th>Do you have medical coverage (private insurance or state-provided) which includes treatment of  mental health issues?</th><th>Do you know local or online resources to seek help for a mental health disorder?</th><th>If you have been diagnosed or treated for a mental health disorder, do you ever reveal this to clients or business contacts?</th><th>If you have revealed a mental health issue to a client or business contact, do you believe this has impacted you negatively?</th><th>If you have been diagnosed or treated for a mental health disorder, do you ever reveal this to coworkers or employees?</th><th>If you have revealed a mental health issue to a coworker or employee, do you believe this has impacted you negatively?</th><th>Do you believe your productivity is ever affected by a mental health issue?</th><th>If yes, what percentage of your work time (time performing primary or secondary job functions) is affected by a mental health issue?</th><th>Do you have previous employers?</th><th>Have your previous employers provided mental health benefits?</th><th>Were you aware of the options for mental health care provided by your previous employers?</th><th>Did your previous employers ever formally discuss mental health (as part of a wellness campaign or other official communication)?</th><th>Did your previous employers provide resources to learn more about mental health issues and how to seek help?</th><th>Was your anonymity protected if you chose to take advantage of mental health or substance abuse treatment resources with previous employers?</th><th>Do you think that discussing a mental health disorder with previous employers would have negative consequences?</th><th>Do you think that discussing a physical health issue with previous employers would have negative consequences?</th><th>Would you have been willing to discuss a mental health issue with your previous co-workers?</th><th>Would you have been willing to discuss a mental health issue with your direct supervisor(s)?</th><th>Did you feel that your previous employers took mental health as seriously as physical health?</th><th>Did you hear of or observe negative consequences for co-workers with mental health issues in your previous workplaces?</th><th>Would you be willing to bring up a physical health issue with a potential employer in an interview?</th><th>Why or why not?</th><th>Would you bring up a mental health issue with a potential employer in an interview?</th><th>Why or why not?_duplicated_0</th><th>Do you feel that being identified as a person with a mental health issue would hurt your career?</th><th>Do you think that team members/co-workers would view you more negatively if they knew you suffered from a mental health issue?</th><th>How willing would you be to share with friends and family that you have a mental illness?</th><th>Have you observed or experienced an unsupportive or badly handled response to a mental health issue in your current or previous workplace?</th><th>Have your observations of how another individual who discussed a mental health disorder made you less likely to reveal a mental health issue yourself in your current workplace?</th><th>Do you have a family history of mental illness?</th><th>Have you had a mental health disorder in the past?</th><th>Do you currently have a mental health disorder?</th><th>If yes, what condition(s) have you been diagnosed with?</th><th>If maybe, what condition(s) do you believe you have?</th><th>Have you been diagnosed with a mental health condition by a medical professional?</th><th>If so, what condition(s) were you diagnosed with?</th><th>Have you ever sought treatment for a mental health issue from a mental health professional?</th><th>If you have a mental health issue, do you feel that it interferes with your work when being treated effectively?</th><th>If you have a mental health issue, do you feel that it interferes with your work when NOT being treated effectively?</th><th>What is your age?</th><th>What is your gender?</th><th>What country do you live in?</th><th>What US state or territory do you live in?</th><th>What country do you work in?</th><th>What US state or territory do you work in?</th><th>Which of the following best describes your work position?</th><th>Do you work remotely?</th></tr><tr><td>str</td><td>f64</td><td>str</td><td>f64</td><td>f64</td><td>str</td><td>str</td><td>str</td><td>str</td><td>str</td><td>str</td><td>str</td><td>str</td><td>str</td><td>str</td><td>str</td><td>str</td><td>f64</td><td>str</td><td>str</td><td>str</td><td>str</td><td>str</td><td>str</td><td>str</td><td>f64</td><td>str</td><td>str</td><td>str</td><td>str</td><td>str</td><td>str</td><td>str</td><td>str</td><td>str</td><td>str</td><td>str</td><td>str</td><td>str</td><td>str</td><td>str</td><td>str</td><td>str</td><td>str</td><td>str</td><td>str</td><td>str</td><td>str</td><td>str</td><td>str</td><td>str</td><td>str</td><td>str</td><td>f64</td><td>str</td><td>str</td><td>f64</td><td>str</td><td>str</td><td>str</td><td>str</td><td>str</td><td>str</td><td>str</td></tr></thead><tbody><tr><td>&quot;count&quot;</td><td>1433.0</td><td>&quot;1146&quot;</td><td>1146.0</td><td>263.0</td><td>&quot;1146&quot;</td><td>&quot;1146&quot;</td><td>&quot;1146&quot;</td><td>&quot;1146&quot;</td><td>&quot;1146&quot;</td><td>&quot;1146&quot;</td><td>&quot;1146&quot;</td><td>&quot;1146&quot;</td><td>&quot;1146&quot;</td><td>&quot;1146&quot;</td><td>&quot;1146&quot;</td><td>&quot;1146&quot;</td><td>287.0</td><td>&quot;287&quot;</td><td>&quot;287&quot;</td><td>&quot;287&quot;</td><td>&quot;287&quot;</td><td>&quot;287&quot;</td><td>&quot;287&quot;</td><td>&quot;204&quot;</td><td>1433.0</td><td>&quot;1264&quot;</td><td>&quot;1264&quot;</td><td>&quot;1264&quot;</td><td>&quot;1264&quot;</td><td>&quot;1264&quot;</td><td>&quot;1264&quot;</td><td>&quot;1264&quot;</td><td>&quot;1264&quot;</td><td>&quot;1264&quot;</td><td>&quot;1264&quot;</td><td>&quot;1264&quot;</td><td>&quot;1433&quot;</td><td>&quot;1097&quot;</td><td>&quot;1433&quot;</td><td>&quot;1127&quot;</td><td>&quot;1433&quot;</td><td>&quot;1433&quot;</td><td>&quot;1433&quot;</td><td>&quot;1433&quot;</td><td>&quot;774&quot;</td><td>&quot;1433&quot;</td><td>&quot;1433&quot;</td><td>&quot;1433&quot;</td><td>&quot;568&quot;</td><td>&quot;322&quot;</td><td>&quot;1433&quot;</td><td>&quot;711&quot;</td><td>1433.0</td><td>&quot;1433&quot;</td><td>&quot;1433&quot;</td><td>1433.0</td><td>&quot;1432&quot;</td><td>&quot;1433&quot;</td><td>&quot;840&quot;</td><td>&quot;1433&quot;</td><td>&quot;851&quot;</td><td>&quot;1433&quot;</td><td>&quot;1433&quot;</td></tr><tr><td>&quot;null_count&quot;</td><td>0.0</td><td>&quot;287&quot;</td><td>287.0</td><td>1170.0</td><td>&quot;287&quot;</td><td>&quot;287&quot;</td><td>&quot;287&quot;</td><td>&quot;287&quot;</td><td>&quot;287&quot;</td><td>&quot;287&quot;</td><td>&quot;287&quot;</td><td>&quot;287&quot;</td><td>&quot;287&quot;</td><td>&quot;287&quot;</td><td>&quot;287&quot;</td><td>&quot;287&quot;</td><td>1146.0</td><td>&quot;1146&quot;</td><td>&quot;1146&quot;</td><td>&quot;1146&quot;</td><td>&quot;1146&quot;</td><td>&quot;1146&quot;</td><td>&quot;1146&quot;</td><td>&quot;1229&quot;</td><td>0.0</td><td>&quot;169&quot;</td><td>&quot;169&quot;</td><td>&quot;169&quot;</td><td>&quot;169&quot;</td><td>&quot;169&quot;</td><td>&quot;169&quot;</td><td>&quot;169&quot;</td><td>&quot;169&quot;</td><td>&quot;169&quot;</td><td>&quot;169&quot;</td><td>&quot;169&quot;</td><td>&quot;0&quot;</td><td>&quot;336&quot;</td><td>&quot;0&quot;</td><td>&quot;306&quot;</td><td>&quot;0&quot;</td><td>&quot;0&quot;</td><td>&quot;0&quot;</td><td>&quot;0&quot;</td><td>&quot;659&quot;</td><td>&quot;0&quot;</td><td>&quot;0&quot;</td><td>&quot;0&quot;</td><td>&quot;865&quot;</td><td>&quot;1111&quot;</td><td>&quot;0&quot;</td><td>&quot;722&quot;</td><td>0.0</td><td>&quot;0&quot;</td><td>&quot;0&quot;</td><td>0.0</td><td>&quot;1&quot;</td><td>&quot;0&quot;</td><td>&quot;593&quot;</td><td>&quot;0&quot;</td><td>&quot;582&quot;</td><td>&quot;0&quot;</td><td>&quot;0&quot;</td></tr><tr><td>&quot;mean&quot;</td><td>0.200279</td><td>null</td><td>0.770506</td><td>0.942966</td><td>null</td><td>null</td><td>null</td><td>null</td><td>null</td><td>null</td><td>null</td><td>null</td><td>null</td><td>null</td><td>null</td><td>null</td><td>0.644599</td><td>null</td><td>null</td><td>null</td><td>null</td><td>null</td><td>null</td><td>null</td><td>0.882066</td><td>null</td><td>null</td><td>null</td><td>null</td><td>null</td><td>null</td><td>null</td><td>null</td><td>null</td><td>null</td><td>null</td><td>null</td><td>null</td><td>null</td><td>null</td><td>null</td><td>null</td><td>null</td><td>null</td><td>null</td><td>null</td><td>null</td><td>null</td><td>null</td><td>null</td><td>null</td><td>null</td><td>0.585485</td><td>null</td><td>null</td><td>34.286113</td><td>null</td><td>null</td><td>null</td><td>null</td><td>null</td><td>null</td><td>null</td></tr><tr><td>&quot;std&quot;</td><td>0.400349</td><td>null</td><td>0.420691</td><td>0.23235</td><td>null</td><td>null</td><td>null</td><td>null</td><td>null</td><td>null</td><td>null</td><td>null</td><td>null</td><td>null</td><td>null</td><td>null</td><td>0.479471</td><td>null</td><td>null</td><td>null</td><td>null</td><td>null</td><td>null</td><td>null</td><td>0.322643</td><td>null</td><td>null</td><td>null</td><td>null</td><td>null</td><td>null</td><td>null</td><td>null</td><td>null</td><td>null</td><td>null</td><td>null</td><td>null</td><td>null</td><td>null</td><td>null</td><td>null</td><td>null</td><td>null</td><td>null</td><td>null</td><td>null</td><td>null</td><td>null</td><td>null</td><td>null</td><td>null</td><td>0.49281</td><td>null</td><td>null</td><td>11.290931</td><td>null</td><td>null</td><td>null</td><td>null</td><td>null</td><td>null</td><td>null</td></tr><tr><td>&quot;min&quot;</td><td>0.0</td><td>&quot;1-5&quot;</td><td>0.0</td><td>0.0</td><td>&quot;I don&#x27;t know&quot;</td><td>&quot;I am not sure&quot;</td><td>&quot;I don&#x27;t know&quot;</td><td>&quot;I don&#x27;t know&quot;</td><td>&quot;I don&#x27;t know&quot;</td><td>&quot;I don&#x27;t know&quot;</td><td>&quot;Maybe&quot;</td><td>&quot;Maybe&quot;</td><td>&quot;Maybe&quot;</td><td>&quot;Maybe&quot;</td><td>&quot;I don&#x27;t know&quot;</td><td>&quot;No&quot;</td><td>0.0</td><td>&quot;I know some&quot;</td><td>&quot;No, because it doesn&#x27;t matter&quot;</td><td>&quot;I&#x27;m not sure&quot;</td><td>&quot;No, because it doesn&#x27;t matter&quot;</td><td>&quot;I&#x27;m not sure&quot;</td><td>&quot;No&quot;</td><td>&quot;1-25%&quot;</td><td>0.0</td><td>&quot;I don&#x27;t know&quot;</td><td>&quot;I was aware of some&quot;</td><td>&quot;I don&#x27;t know&quot;</td><td>&quot;None did&quot;</td><td>&quot;I don&#x27;t know&quot;</td><td>&quot;I don&#x27;t know&quot;</td><td>&quot;None of them&quot;</td><td>&quot;No, at none of my previous emp…</td><td>&quot;I don&#x27;t know&quot;</td><td>&quot;I don&#x27;t know&quot;</td><td>&quot;None of them&quot;</td><td>&quot;Maybe&quot;</td><td>&quot; Don&#x27;t trust potential employe…</td><td>&quot;Maybe&quot;</td><td>&quot; I don&#x27;t want to poison the we…</td><td>&quot;Maybe&quot;</td><td>&quot;Maybe&quot;</td><td>&quot;Neutral&quot;</td><td>&quot;Maybe/Not sure&quot;</td><td>&quot;Maybe&quot;</td><td>&quot;I don&#x27;t know&quot;</td><td>&quot;Maybe&quot;</td><td>&quot;Maybe&quot;</td><td>&quot;Addictive Disorder&quot;</td><td>&quot;Addictive Disorder&quot;</td><td>&quot;No&quot;</td><td>&quot;ADD (w/o Hyperactivity)&quot;</td><td>0.0</td><td>&quot;Never&quot;</td><td>&quot;Never&quot;</td><td>3.0</td><td>&quot; Female&quot;</td><td>&quot;Afghanistan&quot;</td><td>&quot;Alabama&quot;</td><td>&quot;Afghanistan&quot;</td><td>&quot;Alabama&quot;</td><td>&quot;Back-end Developer&quot;</td><td>&quot;Always&quot;</td></tr><tr><td>&quot;25%&quot;</td><td>0.0</td><td>null</td><td>1.0</td><td>1.0</td><td>null</td><td>null</td><td>null</td><td>null</td><td>null</td><td>null</td><td>null</td><td>null</td><td>null</td><td>null</td><td>null</td><td>null</td><td>0.0</td><td>null</td><td>null</td><td>null</td><td>null</td><td>null</td><td>null</td><td>null</td><td>1.0</td><td>null</td><td>null</td><td>null</td><td>null</td><td>null</td><td>null</td><td>null</td><td>null</td><td>null</td><td>null</td><td>null</td><td>null</td><td>null</td><td>null</td><td>null</td><td>null</td><td>null</td><td>null</td><td>null</td><td>null</td><td>null</td><td>null</td><td>null</td><td>null</td><td>null</td><td>null</td><td>null</td><td>0.0</td><td>null</td><td>null</td><td>28.0</td><td>null</td><td>null</td><td>null</td><td>null</td><td>null</td><td>null</td><td>null</td></tr><tr><td>&quot;50%&quot;</td><td>0.0</td><td>null</td><td>1.0</td><td>1.0</td><td>null</td><td>null</td><td>null</td><td>null</td><td>null</td><td>null</td><td>null</td><td>null</td><td>null</td><td>null</td><td>null</td><td>null</td><td>1.0</td><td>null</td><td>null</td><td>null</td><td>null</td><td>null</td><td>null</td><td>null</td><td>1.0</td><td>null</td><td>null</td><td>null</td><td>null</td><td>null</td><td>null</td><td>null</td><td>null</td><td>null</td><td>null</td><td>null</td><td>null</td><td>null</td><td>null</td><td>null</td><td>null</td><td>null</td><td>null</td><td>null</td><td>null</td><td>null</td><td>null</td><td>null</td><td>null</td><td>null</td><td>null</td><td>null</td><td>1.0</td><td>null</td><td>null</td><td>33.0</td><td>null</td><td>null</td><td>null</td><td>null</td><td>null</td><td>null</td><td>null</td></tr><tr><td>&quot;75%&quot;</td><td>0.0</td><td>null</td><td>1.0</td><td>1.0</td><td>null</td><td>null</td><td>null</td><td>null</td><td>null</td><td>null</td><td>null</td><td>null</td><td>null</td><td>null</td><td>null</td><td>null</td><td>1.0</td><td>null</td><td>null</td><td>null</td><td>null</td><td>null</td><td>null</td><td>null</td><td>1.0</td><td>null</td><td>null</td><td>null</td><td>null</td><td>null</td><td>null</td><td>null</td><td>null</td><td>null</td><td>null</td><td>null</td><td>null</td><td>null</td><td>null</td><td>null</td><td>null</td><td>null</td><td>null</td><td>null</td><td>null</td><td>null</td><td>null</td><td>null</td><td>null</td><td>null</td><td>null</td><td>null</td><td>1.0</td><td>null</td><td>null</td><td>39.0</td><td>null</td><td>null</td><td>null</td><td>null</td><td>null</td><td>null</td><td>null</td></tr><tr><td>&quot;max&quot;</td><td>1.0</td><td>&quot;More than 1000&quot;</td><td>1.0</td><td>1.0</td><td>&quot;Yes&quot;</td><td>&quot;Yes&quot;</td><td>&quot;Yes&quot;</td><td>&quot;Yes&quot;</td><td>&quot;Yes&quot;</td><td>&quot;Very easy&quot;</td><td>&quot;Yes&quot;</td><td>&quot;Yes&quot;</td><td>&quot;Yes&quot;</td><td>&quot;Yes&quot;</td><td>&quot;Yes&quot;</td><td>&quot;Yes&quot;</td><td>1.0</td><td>&quot;Yes, I know several&quot;</td><td>&quot;Yes, always&quot;</td><td>&quot;Yes&quot;</td><td>&quot;Yes, always&quot;</td><td>&quot;Yes&quot;</td><td>&quot;Yes&quot;</td><td>&quot;76-100%&quot;</td><td>1.0</td><td>&quot;Yes, they all did&quot;</td><td>&quot;Yes, I was aware of all of the…</td><td>&quot;Yes, they all did&quot;</td><td>&quot;Yes, they all did&quot;</td><td>&quot;Yes, always&quot;</td><td>&quot;Yes, all of them&quot;</td><td>&quot;Yes, all of them&quot;</td><td>&quot;Yes, at all of my previous emp…</td><td>&quot;Yes, at all of my previous emp…</td><td>&quot;Yes, they all did&quot;</td><td>&quot;Yes, all of them&quot;</td><td>&quot;Yes&quot;</td><td>&quot;xxx&quot;</td><td>&quot;Yes&quot;</td><td>&quot;you never know who is intervie…</td><td>&quot;Yes, it has&quot;</td><td>&quot;Yes, they do&quot;</td><td>&quot;Very open&quot;</td><td>&quot;Yes, I observed&quot;</td><td>&quot;Yes&quot;</td><td>&quot;Yes&quot;</td><td>&quot;Yes&quot;</td><td>&quot;Yes&quot;</td><td>&quot;Traumatic Brain Injury&quot;</td><td>&quot;post-partum / anxiety&quot;</td><td>&quot;Yes&quot;</td><td>&quot;autism spectrum disorder&quot;</td><td>1.0</td><td>&quot;Sometimes&quot;</td><td>&quot;Sometimes&quot;</td><td>323.0</td><td>&quot;woman&quot;</td><td>&quot;Vietnam&quot;</td><td>&quot;Wisconsin&quot;</td><td>&quot;Vietnam&quot;</td><td>&quot;Wisconsin&quot;</td><td>&quot;Support|Sales|Designer&quot;</td><td>&quot;Sometimes&quot;</td></tr></tbody></table></div>"
      ],
      "text/plain": [
       "shape: (9, 64)\n",
       "┌────────────┬──────────────┬──────────────┬──────────────┬───┬──────────────┬─────────────┬─────────────┬─────────────┐\n",
       "│ statistic  ┆ Are you self ┆ How many     ┆ Is your      ┆ … ┆ What country ┆ What US     ┆ Which of    ┆ Do you work │\n",
       "│ ---        ┆ -employed?   ┆ employees    ┆ employer     ┆   ┆ do you work  ┆ state or    ┆ the         ┆ remotely?   │\n",
       "│ str        ┆ ---          ┆ does your c… ┆ primarily a  ┆   ┆ in?          ┆ territory   ┆ following   ┆ ---         │\n",
       "│            ┆ f64          ┆ ---          ┆ t…           ┆   ┆ ---          ┆ do …        ┆ best de…    ┆ str         │\n",
       "│            ┆              ┆ str          ┆ ---          ┆   ┆ str          ┆ ---         ┆ ---         ┆             │\n",
       "│            ┆              ┆              ┆ f64          ┆   ┆              ┆ str         ┆ str         ┆             │\n",
       "╞════════════╪══════════════╪══════════════╪══════════════╪═══╪══════════════╪═════════════╪═════════════╪═════════════╡\n",
       "│ count      ┆ 1433.0       ┆ 1146         ┆ 1146.0       ┆ … ┆ 1433         ┆ 851         ┆ 1433        ┆ 1433        │\n",
       "│ null_count ┆ 0.0          ┆ 287          ┆ 287.0        ┆ … ┆ 0            ┆ 582         ┆ 0           ┆ 0           │\n",
       "│ mean       ┆ 0.200279     ┆ null         ┆ 0.770506     ┆ … ┆ null         ┆ null        ┆ null        ┆ null        │\n",
       "│ std        ┆ 0.400349     ┆ null         ┆ 0.420691     ┆ … ┆ null         ┆ null        ┆ null        ┆ null        │\n",
       "│ min        ┆ 0.0          ┆ 1-5          ┆ 0.0          ┆ … ┆ Afghanistan  ┆ Alabama     ┆ Back-end    ┆ Always      │\n",
       "│            ┆              ┆              ┆              ┆   ┆              ┆             ┆ Developer   ┆             │\n",
       "│ 25%        ┆ 0.0          ┆ null         ┆ 1.0          ┆ … ┆ null         ┆ null        ┆ null        ┆ null        │\n",
       "│ 50%        ┆ 0.0          ┆ null         ┆ 1.0          ┆ … ┆ null         ┆ null        ┆ null        ┆ null        │\n",
       "│ 75%        ┆ 0.0          ┆ null         ┆ 1.0          ┆ … ┆ null         ┆ null        ┆ null        ┆ null        │\n",
       "│ max        ┆ 1.0          ┆ More than    ┆ 1.0          ┆ … ┆ Vietnam      ┆ Wisconsin   ┆ Support|Sal ┆ Sometimes   │\n",
       "│            ┆              ┆ 1000         ┆              ┆   ┆              ┆             ┆ es|Designer ┆             │\n",
       "└────────────┴──────────────┴──────────────┴──────────────┴───┴──────────────┴─────────────┴─────────────┴─────────────┘"
      ]
     },
     "execution_count": 3,
     "metadata": {},
     "output_type": "execute_result"
    }
   ],
   "source": [
    "# Get insights into Statistics\n",
    "df_csv.describe()"
   ]
  },
  {
   "cell_type": "code",
   "execution_count": 4,
   "id": "8a433d65-baa2-41d4-9948-56f3afb14cf5",
   "metadata": {},
   "outputs": [
    {
     "name": "stdout",
     "output_type": "stream",
     "text": [
      "Rows: 1433\n",
      "Columns: 63\n",
      "$ Are you self-employed?                             <i64> 0, 0, 0, 1, 0, 0, 0, 0, 0, 1\n",
      "$ How many employees does your company or organizat… <str> '26-100', '6-25', '6-25', None, '6-25', 'More than 1000', '26-100', 'More than 1000', '26-100', None\n",
      "$ Is your employer primarily a tech company/organiz… <i64> 1, 1, 1, None, 0, 1, 1, 1, 0, None\n",
      "$ Is your primary role within your company related … <i64> None, None, None, None, 1, None, None, None, 1, None\n",
      "$ Does your employer provide mental health benefits… <str> 'Not eligible for coverage / N/A', 'No', 'No', None, 'Yes', 'Yes', \"I don't know\", 'Yes', \"I don't know\", None\n",
      "$ Do you know the options for mental health care av… <str> 'N/A', 'Yes', 'N/A', None, 'Yes', 'I am not sure', 'No', 'Yes', 'No', None\n",
      "$ Has your employer ever formally discussed mental … <str> 'No', 'Yes', 'No', None, 'No', 'No', 'No', 'No', 'No', None\n",
      "$ Does your employer offer resources to learn more … <str> 'No', 'Yes', 'No', None, 'No', 'Yes', 'No', 'Yes', 'No', None\n",
      "$ Is your anonymity protected if you choose to take… <str> \"I don't know\", 'Yes', \"I don't know\", None, 'No', 'Yes', \"I don't know\", 'Yes', \"I don't know\", None\n",
      "$ If a mental health issue prompted you to request … <str> 'Very easy', 'Somewhat easy', 'Neither easy nor difficult', None, 'Neither easy nor difficult', 'Somewhat easy', 'Somewhat easy', 'Very easy', 'Very difficult', None\n",
      "$ Do you think that discussing a mental health diso… <str> 'No', 'No', 'Maybe', None, 'Yes', 'Yes', 'No', 'No', 'Yes', None\n",
      "$ Do you think that discussing a physical health is… <str> 'No', 'No', 'No', None, 'Maybe', 'Yes', 'No', 'No', 'Yes', None\n",
      "$ Would you feel comfortable discussing a mental he… <str> 'Maybe', 'Maybe', 'Maybe', None, 'Maybe', 'Maybe', 'Maybe', 'Maybe', 'Yes', None\n",
      "$ Would you feel comfortable discussing a mental he… <str> 'Yes', 'Yes', 'Maybe', None, 'No', 'Yes', 'Yes', 'Yes', 'Maybe', None\n",
      "$ Do you feel that your employer takes mental healt… <str> \"I don't know\", 'Yes', \"I don't know\", None, 'No', 'No', 'Yes', \"I don't know\", 'No', None\n",
      "$ Have you heard of or observed negative consequenc… <str> 'No', 'No', 'No', None, 'No', 'Yes', 'No', 'No', 'No', None\n",
      "$ Do you have medical coverage (private insurance o… <i64> None, None, None, 1, None, None, None, None, None, 1\n",
      "$ Do you know local or online resources to seek hel… <str> None, None, None, 'Yes, I know several', None, None, None, None, None, 'I know some'\n",
      "$ If you have been diagnosed or treated for a menta… <str> None, None, None, 'Sometimes, if it comes up', None, None, None, None, None, \"No, because it doesn't matter\"\n",
      "$ If you have revealed a mental health issue to a c… <str> None, None, None, \"I'm not sure\", None, None, None, None, None, 'N/A'\n",
      "$ If you have been diagnosed or treated for a menta… <str> None, None, None, 'Sometimes, if it comes up', None, None, None, None, None, 'Sometimes, if it comes up'\n",
      "$ If you have revealed a mental health issue to a c… <str> None, None, None, \"I'm not sure\", None, None, None, None, None, 'No'\n",
      "$ Do you believe your productivity is ever affected… <str> None, None, None, 'Yes', None, None, None, None, None, 'Yes'\n",
      "$ If yes, what percentage of your work time (time p… <str> None, None, None, '1-25%', None, None, None, None, None, '1-25%'\n",
      "$ Do you have previous employers?                    <i64> 1, 1, 1, 1, 1, 1, 1, 1, 1, 1\n",
      "$ Have your previous employers provided mental heal… <str> 'No, none did', 'Yes, they all did', 'No, none did', 'Some did', \"I don't know\", 'No, none did', 'Some did', 'Some did', \"I don't know\", 'Some did'\n",
      "$ Were you aware of the options for mental health c… <str> 'N/A (not currently aware)', 'I was aware of some', 'N/A (not currently aware)', 'N/A (not currently aware)', 'N/A (not currently aware)', 'Yes, I was aware of all of them', 'I was aware of some', 'I was aware of some', 'N/A (not currently aware)', 'I was aware of some'\n",
      "$ Did your previous employers ever formally discuss… <str> \"I don't know\", 'None did', 'None did', 'None did', 'Some did', 'None did', 'None did', 'Some did', 'Some did', 'None did'\n",
      "$ Did your previous employers provide resources to … <str> 'None did', 'Some did', 'Some did', 'None did', 'None did', 'None did', 'Some did', 'Some did', 'None did', 'None did'\n",
      "$ Was your anonymity protected if you chose to take… <str> \"I don't know\", 'Yes, always', \"I don't know\", \"I don't know\", \"I don't know\", \"I don't know\", \"I don't know\", 'Sometimes', \"I don't know\", \"I don't know\"\n",
      "$ Do you think that discussing a mental health diso… <str> 'Some of them', 'None of them', \"I don't know\", 'Some of them', 'Some of them', 'Yes, all of them', 'None of them', 'Some of them', 'Yes, all of them', 'Some of them'\n",
      "$ Do you think that discussing a physical health is… <str> 'None of them', 'None of them', 'Some of them', 'Some of them', 'Some of them', 'Some of them', 'None of them', 'Some of them', 'Yes, all of them', 'Some of them'\n",
      "$ Would you have been willing to discuss a mental h… <str> 'Some of my previous employers', 'No, at none of my previous employers', 'Some of my previous employers', 'Some of my previous employers', 'No, at none of my previous employers', 'No, at none of my previous employers', 'Some of my previous employers', 'Some of my previous employers', 'No, at none of my previous employers', 'Some of my previous employers'\n",
      "$ Would you have been willing to discuss a mental h… <str> 'Some of my previous employers', 'Some of my previous employers', \"I don't know\", 'Some of my previous employers', 'Some of my previous employers', 'No, at none of my previous employers', 'Yes, at all of my previous employers', 'Some of my previous employers', 'No, at none of my previous employers', 'Some of my previous employers'\n",
      "$ Did you feel that your previous employers took me… <str> \"I don't know\", 'Some did', \"I don't know\", \"I don't know\", 'Some did', 'None did', 'Some did', 'Some did', 'None did', \"I don't know\"\n",
      "$ Did you hear of or observe negative consequences … <str> 'None of them', 'None of them', 'Some of them', 'Some of them', 'Some of them', 'Some of them', 'None of them', 'Some of them', 'None of them', 'None of them'\n",
      "$ Would you be willing to bring up a physical healt… <str> 'Maybe', 'Maybe', 'Yes', 'Yes', 'Maybe', 'Yes', 'Yes', 'No', 'Maybe', 'Yes'\n",
      "$ Why or why not?                                    <str> None, 'It would depend on the health issue. If there is a health issue that would not immediately affect my job performance, such as diabetes, I would not bring it up during the interview. If it was something more severe, such as narcolepsy, I might bring it up depending on how controlled it was.', 'They would provable need to know, to Judge if I can do my job or not. ', \"old back injury, doesn't cause me many issues but occasionally impacts my ability to work at desk \", 'Depending on the interview stage and whether I required an accommodation, I would', 'If it would potentially affect my ability to do the job or might require special equipment/etc then it would only be fair and honest.', 'I want to gauge their ability to support this issue.', \"I feel it's irrelevant.\", 'Makes me a less attractive candidate.', \"Generally speaking, and this isn't always the case, physical health issues don't carry the same stigma as mental ones.\"\n",
      "$ Would you bring up a mental health issue with a p… <str> 'Maybe', 'No', 'Yes', 'Maybe', 'No', 'Maybe', 'Yes', 'No', 'Maybe', 'Maybe'\n",
      "$ Why or why not?_duplicated_0                       <str> None, 'While mental health has become a more prominent issue recently, I feel like there is still a lot of stigma surrounding it. At this point, with our culture, I would not bring it up. I hope that within the next 20-30 years that stigma will be gone and it can be brought up safely in an interview.', 'Stigma, mainly. ', 'would not if I was not 100% sure that the disclosure would not affect my application', \"I don't know\", 'It would depend on the field & what I knew of the employer.', 'I want to gauge their ability to support, understand and empathize with my situation.', 'Same reason.', 'Only if I felt I required accommodation. Even then, reluctantly because it makes me a less attractive candidate.', 'It really depends on the person, the employer, and how comfortable I felt discussing the issue.'\n",
      "$ Do you feel that being identified as a person wit… <str> 'Maybe', \"No, I don't think it would\", 'Maybe', 'Yes, I think it would', 'Yes, I think it would', 'Yes, I think it would', 'Yes, I think it would', 'Maybe', 'Maybe', 'Maybe'\n",
      "$ Do you think that team members/co-workers would v… <str> \"No, I don't think they would\", \"No, I don't think they would\", 'Maybe', 'Maybe', 'Maybe', 'Maybe', \"No, I don't think they would\", 'Maybe', 'Yes, they do', \"No, I don't think they would\"\n",
      "$ How willing would you be to share with friends an… <str> 'Somewhat open', 'Somewhat open', 'Somewhat open', 'Neutral', 'Somewhat open', 'Somewhat open', 'Not applicable to me (I do not have a mental illness)', 'Somewhat open', 'Somewhat open', 'Very open'\n",
      "$ Have you observed or experienced an unsupportive … <str> 'No', 'No', 'Maybe/Not sure', 'No', 'Yes, I experienced', 'Yes, I experienced', 'No', 'Yes, I observed', 'Yes, I observed', 'No'\n",
      "$ Have your observations of how another individual … <str> None, None, 'Yes', None, 'Yes', 'No', None, 'Maybe', 'No', None\n",
      "$ Do you have a family history of mental illness?    <str> 'No', 'Yes', 'No', 'No', 'Yes', 'No', 'No', 'Yes', 'Yes', 'Yes'\n",
      "$ Have you had a mental health disorder in the past? <str> 'Yes', 'Yes', 'Maybe', 'Yes', 'Yes', 'No', 'No', 'Yes', 'Yes', 'Yes'\n",
      "$ Do you currently have a mental health disorder?    <str> 'No', 'Yes', 'No', 'Yes', 'Yes', 'Yes', 'No', 'Yes', 'Yes', 'Yes'\n",
      "$ If yes, what condition(s) have you been diagnosed… <str> None, 'Anxiety Disorder (Generalized, Social, Phobia, etc)|Mood Disorder (Depression, Bipolar Disorder, etc)', None, 'Anxiety Disorder (Generalized, Social, Phobia, etc)|Mood Disorder (Depression, Bipolar Disorder, etc)', 'Anxiety Disorder (Generalized, Social, Phobia, etc)|Stress Response Syndromes', 'Anxiety Disorder (Generalized, Social, Phobia, etc)|Stress Response Syndromes|Substance Use Disorder', None, 'Anxiety Disorder (Generalized, Social, Phobia, etc)|Substance Use Disorder', 'Mood Disorder (Depression, Bipolar Disorder, etc)', 'Anxiety Disorder (Generalized, Social, Phobia, etc)|Mood Disorder (Depression, Bipolar Disorder, etc)'\n",
      "$ If maybe, what condition(s) do you believe you ha… <str> None, None, None, None, None, None, None, None, None, None\n",
      "$ Have you been diagnosed with a mental health cond… <str> 'Yes', 'Yes', 'No', 'Yes', 'Yes', 'No', 'No', 'Yes', 'Yes', 'Yes'\n",
      "$ If so, what condition(s) were you diagnosed with?  <str> 'Anxiety Disorder (Generalized, Social, Phobia, etc)', 'Anxiety Disorder (Generalized, Social, Phobia, etc)|Mood Disorder (Depression, Bipolar Disorder, etc)', None, 'Anxiety Disorder (Generalized, Social, Phobia, etc)|Mood Disorder (Depression, Bipolar Disorder, etc)', 'Anxiety Disorder (Generalized, Social, Phobia, etc)', None, None, 'Anxiety Disorder (Generalized, Social, Phobia, etc)|Substance Use Disorder', 'Mood Disorder (Depression, Bipolar Disorder, etc)', 'Anxiety Disorder (Generalized, Social, Phobia, etc)|Mood Disorder (Depression, Bipolar Disorder, etc)'\n",
      "$ Have you ever sought treatment for a mental healt… <i64> 0, 1, 1, 1, 1, 1, 0, 1, 1, 1\n",
      "$ If you have a mental health issue, do you feel th… <str> 'Not applicable to me', 'Rarely', 'Not applicable to me', 'Sometimes', 'Sometimes', 'Not applicable to me', 'Not applicable to me', 'Sometimes', 'Rarely', 'Rarely'\n",
      "$ If you have a mental health issue, do you feel th… <str> 'Not applicable to me', 'Sometimes', 'Not applicable to me', 'Sometimes', 'Sometimes', 'Often', 'Not applicable to me', 'Often', 'Often', 'Often'\n",
      "$ What is your age?                                  <i64> 39, 29, 38, 43, 43, 42, 30, 37, 44, 30\n",
      "$ What is your gender?                               <str> 'Male', 'male', 'Male ', 'male', 'Female', 'Male', 'M', 'female', 'Female', 'Male'\n",
      "$ What country do you live in?                       <str> 'United Kingdom', 'United States of America', 'United Kingdom', 'United Kingdom', 'United States of America', 'United Kingdom', 'United States of America', 'United States of America', 'United States of America', 'United States of America'\n",
      "$ What US state or territory do you live in?         <str> None, 'Illinois', None, None, 'Illinois', None, 'Tennessee', 'Virginia', 'California', 'Kentucky'\n",
      "$ What country do you work in?                       <str> 'United Kingdom', 'United States of America', 'United Kingdom', 'United Kingdom', 'United States of America', 'United Kingdom', 'United States of America', 'United States of America', 'United States of America', 'United States of America'\n",
      "$ What US state or territory do you work in?         <str> None, 'Illinois', None, None, 'Illinois', None, 'Tennessee', 'Virginia', 'California', 'Kentucky'\n",
      "$ Which of the following best describes your work p… <str> 'Back-end Developer', 'Back-end Developer|Front-end Developer', 'Back-end Developer', 'Supervisor/Team Lead', 'Executive Leadership|Supervisor/Team Lead|Dev Evangelist/Advocate|DevOps/SysAdmin|Support|Back-end Developer|Front-end Developer', 'DevOps/SysAdmin|Support|Back-end Developer|Front-end Developer|Designer', 'Back-end Developer', 'Dev Evangelist/Advocate|Back-end Developer', 'Support|Back-end Developer|One-person shop', 'One-person shop|Front-end Developer|Back-end Developer'\n",
      "$ Do you work remotely?                              <str> 'Sometimes', 'Never', 'Always', 'Sometimes', 'Sometimes', 'Sometimes', 'Sometimes', 'Always', 'Sometimes', 'Always'\n",
      "\n"
     ]
    }
   ],
   "source": [
    "# Overview of entries\n",
    "df_csv.glimpse(max_items_per_column=10)"
   ]
  },
  {
   "cell_type": "markdown",
   "id": "acc5f937-5b42-495b-a780-5b646921dc39",
   "metadata": {},
   "source": [
    "## 3. Unicode Normalization"
   ]
  },
  {
   "cell_type": "code",
   "execution_count": 5,
   "id": "f9cffb5d-d6da-49c4-9eff-a6ad570f9339",
   "metadata": {},
   "outputs": [],
   "source": [
    "string_df = df_csv.select(pl.col(pl.String))\n",
    "\n",
    "df_normalized = df_csv.with_columns(\n",
    "    df_csv.select(pl.col(pl.String).map_elements(lambda x : unicodedata.normalize(\"NFD\" , str(x)) , return_dtype=pl.String))\n",
    ")\n",
    "\n",
    "df = df_normalized.with_columns(\n",
    "    df_normalized.select(pl.col(pl.String).map_elements(lambda x : unicodedata.normalize(\"NFC\" , str(x)) , return_dtype=pl.String))\n",
    ")"
   ]
  },
  {
   "cell_type": "markdown",
   "id": "2887da6c-abf9-4e56-ba4c-481a1a549306",
   "metadata": {},
   "source": [
    "## 4. Renaming Columns"
   ]
  },
  {
   "cell_type": "code",
   "execution_count": 6,
   "id": "b016fcff-d8bd-4882-87f6-9e2a5a33d4ea",
   "metadata": {},
   "outputs": [],
   "source": [
    "# Create a list of all column names to preserve the originals for later\n",
    "col_names = df.columns\n",
    "\n",
    "# Dictionary to rename columns\n",
    "new_names = { \"Are you self-employed?\" : \"self-employed_indic\" ,\n",
    "             \"How many employees does your company or organization have?\" : \"comp_size\" ,\n",
    "             \"Is your employer primarily a tech company/organization?\" : \"tech_comp_indic\" ,\n",
    "             \"Is your primary role within your company related to tech/IT?\" : \"tech_role_indic\",\n",
    "             \"Does your employer provide mental health benefits as part of healthcare coverage?\" : \"availability_of_benefits\" ,\n",
    "             \"Do you know the options for mental health care available under your employer-provided coverage?\" : \"awareness_of_benefits\" , \n",
    "             \"Has your employer ever formally discussed mental health (for example, as part of a wellness campaign or other official communication)?\" : \"mh_discussion_indic\" ,\n",
    "             \"Does your employer offer resources to learn more about mental health concerns and options for seeking help?\" : \"mh_resources_availability_indic\" ,\n",
    "             \"Is your anonymity protected if you choose to take advantage of mental health or substance abuse treatment resources provided by your employer?\" : \"anonym_use_benefit_indic\" ,\n",
    "             \"If a mental health issue prompted you to request a medical leave from work, asking for that leave would be:\" : \"sick_leave_difficulty\" ,\n",
    "             \"Do you think that discussing a mental health disorder with your employer would have negative consequences?\" : \"neg_consequences_discussing_mh\" ,\n",
    "             \"Do you think that discussing a physical health issue with your employer would have negative consequences?\" : \"neg_consequences_discussing_ph\" ,\n",
    "             \"Would you feel comfortable discussing a mental health disorder with your coworkers?\" : \"comf_discussing_mh_with_coworker_indic\" ,\n",
    "             \"Would you feel comfortable discussing a mental health disorder with your direct supervisor(s)?\" : \"comf_discussing_mnh_with_supervisor_indic\" ,\n",
    "             \"Do you feel that your employer takes mental health as seriously as physical health?\" : \"employer_importance_mh_vs_ph\" ,\n",
    "             \"Have you heard of or observed negative consequences for co-workers who have been open about mental health issues in your workplace?\" : \"known_neg_consequences_of_mh\" ,\n",
    "             \"Do you have medical coverage (private insurance or state-provided) which includes treatment of \\xa0mental health issues?\" : \"med_coverage_mh_indic\" ,\n",
    "             \"Do you know local or online resources to seek help for a mental health disorder?\" : \"known_mh_sources\" ,\n",
    "             \"If you have been diagnosed or treated for a mental health disorder, do you ever reveal this to clients or business contacts?\" : \"mention_mh_to_clients\" ,\n",
    "             \"If you have revealed a mental health issue to a client or business contact, do you believe this has impacted you negatively?\" : \"neg_impact_of_reveal_to_client_of_mh\" ,\n",
    "             \"If you have been diagnosed or treated for a mental health disorder, do you ever reveal this to coworkers or employees?\" : \"mention_mh_to_employees\" ,\n",
    "             \"If you have revealed a mental health issue to a coworker or employee, do you believe this has impacted you negatively?\" : \"neg_impact_of_reveal_to_employee_of_mh\" ,\n",
    "             \"Do you believe your productivity is ever affected by a mental health issue?\" : \"productivity_effect_of_mh\" ,\n",
    "             \"If yes, what percentage of your work time (time performing primary or secondary job functions) is affected by a mental health issue?\" : \"time_effect_of_mh\" ,\n",
    "             \"Do you have previous employers?\" : \"prev_employers\" ,\n",
    "             \"Have your previous employers provided mental health benefits?\" : \"availability_of_benefits_prev_employer\" , \n",
    "             \"Were you aware of the options for mental health care provided by your previous employers?\" : \"awareness_of_benefits_prev_employer\" ,\n",
    "             \"Did your previous employers ever formally discuss mental health (as part of a wellness campaign or other official communication)?\" : \"mh_discussion_indic_prev_employer\" ,\n",
    "             \"Did your previous employers provide resources to learn more about mental health issues and how to seek help?\" : \"mh_resources_availability_indic_prev_employer\" ,\n",
    "             \"Was your anonymity protected if you chose to take advantage of mental health or substance abuse treatment resources with previous employers?\" : \"anonym_use_benefit_indic_prev_employer\" ,\n",
    "             \"Do you think that discussing a mental health disorder with previous employers would have negative consequences?\" : \"neg_consequences_discussing_mh_prev_employer\" , \n",
    "             \"Do you think that discussing a physical health issue with previous employers would have negative consequences?\" : \"neg_consequences_discussing_ph_prev_employer\" ,\n",
    "             \"Would you have been willing to discuss a mental health issue with your previous co-workers?\" : \"comf_discussing_mh_with_coworker_prev_employer\" ,\n",
    "             \"Would you have been willing to discuss a mental health issue with your direct supervisor(s)?\" : \"comf_discussing_mnh_with_supervisor_prev_employer\" ,\n",
    "             \"Did you feel that your previous employers took mental health as seriously as physical health?\" : \"employer_importance_mh_vs_ph_prev_employer\" ,\n",
    "             \"Did you hear of or observe negative consequences for co-workers with mental health issues in your previous workplaces?\" : \"known_neg_consequences_of_mh_prev_employer\" ,\n",
    "             \"Would you be willing to bring up a physical health issue with a potential employer in an interview?\" : \"willing_discuss_ph_in_hiring_interview\" ,\n",
    "             \"Why or why not?\" : \"why_why_not_1\" ,\n",
    "             \"Would you bring up a mental health issue with a potential employer in an interview?\" : \"willing_discuss_mh_in_hiring_interview\" ,\n",
    "             \"Why or why not?2\" : \"why_why_not_2\" ,\n",
    "             \"Do you feel that being identified as a person with a mental health issue would hurt your career?\" : \"percevied_neg_impact_carreer_of_mh\" ,\n",
    "             \"Do you think that team members/co-workers would view you more negatively if they knew you suffered from a mental health issue?\" : \"perceived_neg_impact_coworker_opiniton_of_mh\" ,\n",
    "             \"How willing would you be to share with friends and family that you have a mental illness?\" : \"willingness_to_share_with_friend_family\" ,\n",
    "             \"Have you observed or experienced an unsupportive or badly handled response to a mental health issue in your current or previous workplace?\" : \"neg_response_to_mh\" ,\n",
    "             \"Have your observations of how another individual who discussed a mental health disorder made you less likely to reveal a mental health issue yourself in your current workplace?\" : \"willingness_to_share_mh_after_observation\" ,\n",
    "             \"Do you have a family history of mental illness?\" : \"mh_family_hist\" ,\n",
    "             \"Have you had a mental health disorder in the past?\" : \"previous_mh\" ,\n",
    "             \"Do you currently have a mental health disorder?\" : \"current_mh\" ,\n",
    "             \"If yes, what condition(s) have you been diagnosed with?\" :  \"diagnosis_name_condition\" ,\n",
    "             \"If maybe, what condition(s) do you believe you have?\" : \"believed_name_condiiton\" ,\n",
    "             \"Have you been diagnosed with a mental health condition by a medical professional?\" : \"diagnosis_professional\" ,\n",
    "             \"If so, what condition(s) were you diagnosed with?\" : \"diagnosis_name_professional_condition\" ,\n",
    "             \"Have you ever sought treatment for a mental health issue from a mental health professional?\" : \"used_therapy\" ,\n",
    "             \"If you have a mental health issue, do you feel that it interferes with your work when being treated effectively?\" : \"interference_mh_treated_with_work\" ,\n",
    "             \"If you have a mental health issue, do you feel that it interferes with your work when NOT being treated effectively?\" : \"interference_mh_untreated_with_work\" ,\n",
    "             \"What is your age?\" : \"age\" ,\n",
    "             \"What is your gender?\" : \"gender\" ,\n",
    "             \"What country do you live in?\" : \"country_residency\" ,\n",
    "             \"What US state or territory do you live in?\" : \"usa_state_residency\" ,\n",
    "             \"What country do you work in?\" : \"country_work\" ,\n",
    "             \"What US state or territory do you work in?\" : \"usa_state_work\" ,\n",
    "             \"Which of the following best describes your work position?\" : \"job_title\" ,\n",
    "             \"Do you work remotely?\" : \"remote\" ,\n",
    "            }\n",
    "\n",
    "# Rename the keys in the dictionary with the names of the original DataFrame.\n",
    "new_names = dict((col_names[list(new_names.keys()).index(key)], value) for key, value in new_names.items())\n",
    "df = df.rename(new_names).with_row_index(\"index\")"
   ]
  },
  {
   "cell_type": "markdown",
   "id": "d7d6cd3e-8bbc-42a8-9e2d-c3fcdcee3e16",
   "metadata": {},
   "source": [
    "## 5. Handling Self-employed Features"
   ]
  },
  {
   "cell_type": "code",
   "execution_count": 7,
   "id": "7c536332-d467-4e6b-bc8d-a0e560f37ca4",
   "metadata": {},
   "outputs": [],
   "source": [
    "# Drop all columns that are meant for self-employed and filter out the people that are self-employed\n",
    "df = df.filter(pl.col(\"self-employed_indic\") != 1)\n",
    "df = df.drop(\"self-employed_indic\")"
   ]
  },
  {
   "cell_type": "markdown",
   "id": "13294aab-4cc6-454d-bfbb-739606e65957",
   "metadata": {},
   "source": [
    "## 6. Investigating Null values"
   ]
  },
  {
   "cell_type": "code",
   "execution_count": 8,
   "id": "23045586-8801-4349-827a-457e0713c6b0",
   "metadata": {},
   "outputs": [],
   "source": [
    "# Count columns with null values and those without\n",
    "null_counts = df.null_count()\n",
    "\n",
    "# Transpose the dataframe to write the amount of null values entriewise\n",
    "null_counts_trans = null_counts.transpose(include_header= True)\n",
    "null_counts_trans = null_counts_trans.filter(pl.col('column')!='index')\n",
    "# Get the number of columns with null values and without\n",
    "true_null_counts = null_counts_trans.filter(pl.col(\"column_0\") == 0).shape[0]\n",
    "non_null_counts = null_counts_trans.filter(pl.col(\"column_0\") != 0).shape[0]\n",
    "\n",
    "# Calculate the percentage of NULL values per column and get the number\n",
    "null_counts_perc = null_counts_trans.with_columns((pl.col(\"column_0\") / df.shape[0] * 100).cast(pl.Int32).alias(\"null_perc\") )\n",
    "\n",
    "# Get the number of columns with 0 percent nulls, according to the percentages.\n",
    "non_null_counts = null_counts_perc.filter(pl.col('null_perc') == 0).shape[0]"
   ]
  },
  {
   "cell_type": "code",
   "execution_count": 9,
   "id": "39993717-8092-4d9a-8fad-f049a271ff7a",
   "metadata": {},
   "outputs": [
    {
     "data": {
      "text/plain": [
       "[Text(0, 0, '34'), Text(0, 0, '17'), Text(0, 0, '11')]"
      ]
     },
     "execution_count": 9,
     "metadata": {},
     "output_type": "execute_result"
    },
    {
     "data": {
      "image/png": "[encoded data removed]",
      "text/plain": [
       "<Figure size 800x550 with 1 Axes>"
      ]
     },
     "metadata": {},
     "output_type": "display_data"
    }
   ],
   "source": [
    "# Construct the number of Columns with exactly 0% null values\n",
    "num_null_counts_zero_perc = null_counts_perc.filter(pl.col(\"null_perc\") ==0).shape[0]\n",
    "\n",
    "# Construct the number for columns with less than 50% of null values but more than 0% null values\n",
    "num_null_counts_below_50_perc = null_counts_perc.filter((pl.col('null_perc') <= 50) & (pl.col('null_perc') > 0)).shape[0]\n",
    "\n",
    "# Construct the number for columns with more than 50% null values\n",
    "num_null_counts_exc_50_perc = null_counts_perc.filter(pl.col(\"null_perc\") > 50).shape[0]\n",
    "\n",
    "# Create a dictionary with the relevant information\n",
    "nulls_dict = {\"Zero (0) Null\" : non_null_counts , \"1% - 50% Null\" : num_null_counts_below_50_perc ,  \"> 50% Null\" : num_null_counts_exc_50_perc}\n",
    "# Plot the amount of columns with null values\n",
    "ax = sns.barplot(data=nulls_dict)\n",
    "ax.set(xlabel='' , ylabel='Number of Columns')\n",
    "ax.set_title(\"Number of Columns with Null Values\")\n",
    "ax.bar_label(ax.containers[0], fontsize=10)"
   ]
  },
  {
   "cell_type": "markdown",
   "id": "14739607-e06a-4162-bb08-388cee9984d1",
   "metadata": {},
   "source": [
    "### Null Value Handling"
   ]
  },
  {
   "cell_type": "code",
   "execution_count": 10,
   "id": "f91c08ad-25af-4e5d-84e1-75d3af98e610",
   "metadata": {},
   "outputs": [
    {
     "name": "stdout",
     "output_type": "stream",
     "text": [
      "['tech_role_indic', 'med_coverage_mh_indic', 'known_mh_sources', 'mention_mh_to_clients', 'neg_impact_of_reveal_to_client_of_mh', 'mention_mh_to_employees', 'neg_impact_of_reveal_to_employee_of_mh', 'productivity_effect_of_mh', 'time_effect_of_mh', 'diagnosis_name_condition', 'believed_name_condiiton']\n"
     ]
    }
   ],
   "source": [
    "# Look at the columns with more than 50% Null Values\n",
    "drop_col_list = pl.Series(null_counts_perc.filter(pl.col(\"null_perc\")>50).select(pl.col(\"column\"))).to_list()\n",
    "print(drop_col_list)"
   ]
  },
  {
   "cell_type": "markdown",
   "id": "417d5081-56c4-45b6-8c74-bf268aa51925",
   "metadata": {},
   "source": [
    "#### Standardizing answers of categorical features"
   ]
  },
  {
   "cell_type": "code",
   "execution_count": 11,
   "id": "0a17e4ad-3f5d-4ce6-9e24-4c11364e1821",
   "metadata": {},
   "outputs": [],
   "source": [
    "# Standardize all categorical columsn that are currently answered with 0/1 instead of yes/no\n",
    "df = df.with_columns(\n",
    "    pl.when(pl.col('tech_comp_indic') == 1).then(pl.lit('yes')).when(pl.col('tech_comp_indic') == 0).then(pl.lit('no')).alias('tech_comp_indic') ,\n",
    "    pl.when(pl.col('tech_role_indic') == 1).then(pl.lit('yes')).when(pl.col('tech_role_indic') == 0).then(pl.lit('no')).alias('tech_role_indic') ,\n",
    "    pl.when(pl.col('used_therapy') == 1).then(pl.lit('yes')).when(pl.col('used_therapy') == 0).then(pl.lit('no')).alias('used_therapy')          ,                          \n",
    "    pl.when(pl.col('prev_employers') == 1).then(pl.lit('yes')).when(pl.col('prev_employers') == 0).then(pl.lit('no')).alias('prev_employers')\n",
    ")"
   ]
  },
  {
   "cell_type": "markdown",
   "id": "fccf7066-7ce8-4042-b7aa-09b3fddc0f6f",
   "metadata": {},
   "source": [
    "### Imputation of Null Values"
   ]
  },
  {
   "cell_type": "code",
   "execution_count": 12,
   "id": "efac0acd-2316-45c4-9388-fc9e00b912e2",
   "metadata": {},
   "outputs": [],
   "source": [
    "# Convert all strings to lower case\n",
    "df = df.with_columns(pl.col(pl.String).str.to_lowercase())"
   ]
  },
  {
   "cell_type": "markdown",
   "id": "c9f9f36a-6ebb-47f8-a2ed-5d8c31c27adb",
   "metadata": {},
   "source": [
    "##### Imputation of feature: 'tech_role_indic'"
   ]
  },
  {
   "cell_type": "code",
   "execution_count": 13,
   "id": "06e158f0-ad89-4717-aac2-bbcfe6e7ddc2",
   "metadata": {},
   "outputs": [],
   "source": [
    "# Now lets find the list of tech jobs\n",
    "tech_jobs_list =  df.filter(pl.col(\"tech_role_indic\") == pl.lit('yes')).select(\"job_title\").rows()\n",
    "\n",
    "# Job list is currently a list nested of tuples\n",
    "# Define function to flatten nested list\n",
    "def flatten_list(list_input):\n",
    "    job_list = []\n",
    "    for x in list_input:\n",
    "        job_list.extend(x)\n",
    "    return job_list\n",
    "\n",
    "# Clear job_list of any nested tuples and splitters\n",
    "job_list = flatten_list(tech_jobs_list)\n",
    "job_list = [x.split('|') for x in job_list]\n",
    "job_list = flatten_list(job_list)\n",
    "job_list = [x.split('/') for x in job_list]\n",
    "job_list = flatten_list(job_list)\n",
    "\n",
    "# Clear job titles of non-tech jobs\n",
    "excluded_jobs = ['other' , 'designer' , 'support' , 'team lead' , 'sales' , 'supervisor' , 'advocate' , 'one-person shop' , 'executive leadership', 'hr']\n",
    "job_list = [x for x in job_list if x not in excluded_jobs]\n",
    "\n",
    "job_list = np.unique(job_list)\n",
    "\n",
    "# Now that we have a cleaned list of tech jobs we need to impute the DataFrame\n",
    "# First we construct a regex pattern to catch all possible values\n",
    "\n",
    "job_pattern = '|'.join(job_list)\n",
    "\n",
    "df = df.with_columns(\n",
    "    pl.when(\n",
    "        (pl.col('job_title').str.contains(job_pattern)) & (pl.col('tech_role_indic').is_null())\n",
    "    ).then(pl.lit('yes')).otherwise(pl.lit('no')).alias('tech_role_indic')\n",
    ")"
   ]
  },
  {
   "cell_type": "markdown",
   "id": "d33026e8-b00a-4bca-8e56-ee6debf4fe3f",
   "metadata": {},
   "source": [
    "##### Imputation of feature 'diagnosis_name_condition'"
   ]
  },
  {
   "cell_type": "code",
   "execution_count": 14,
   "id": "8c80d175-47dc-4251-987e-ffab9694ded5",
   "metadata": {},
   "outputs": [],
   "source": [
    "# For this use the followuing method: if col \"current_mh\" is \"no\"  or \"maybe\" then impute it wiht \"n/a\"\n",
    "df = df.with_columns(\n",
    "    pl.when(pl.col('current_mh').is_in(['no' , 'maybe']) , pl.col('diagnosis_name_condition').is_null() ).then(pl.lit('n/a')).otherwise('diagnosis_name_condition').alias('diagnosis_name_condition')\n",
    ")"
   ]
  },
  {
   "cell_type": "markdown",
   "id": "d79bd1f6-24f8-4558-9cd7-9ae69ecf8bdd",
   "metadata": {},
   "source": [
    "##### Imputation of feature 'believed_name_condition'"
   ]
  },
  {
   "cell_type": "code",
   "execution_count": 15,
   "id": "4a875f5d-deb1-496f-bc14-0ddf3c84c2a5",
   "metadata": {},
   "outputs": [],
   "source": [
    "# For this use the following method: if col \"current_mh\" is \"no\" or \"yes\" then impute it with \"n/a\"\n",
    "df = df.with_columns(\n",
    "    pl.when(pl.col('current_mh').is_in(['no' , 'yes']) , pl.col('believed_name_condiiton').is_null() ).then(pl.lit('n/a')).otherwise('believed_name_condiiton').alias('believed_name_condiiton')\n",
    ")"
   ]
  },
  {
   "cell_type": "markdown",
   "id": "d2580185-5a22-4fdc-b93e-1c3238485b79",
   "metadata": {},
   "source": [
    "##### Imputation of features \"country_residency\" & \"country_work\""
   ]
  },
  {
   "cell_type": "code",
   "execution_count": 16,
   "id": "15d76a3e-9d3f-4aa6-9700-028f30023cbf",
   "metadata": {},
   "outputs": [],
   "source": [
    "df = df.with_columns(\n",
    "    pl.when(pl.col('country_residency') != 'united states of america').then(pl.lit('international')).otherwise('usa_state_residency').alias('usa_state_residency'),\n",
    "    pl.when(pl.col('country_work') != 'united states of america').then(pl.lit('international')).otherwise('usa_state_work').alias('usa_state_work')\n",
    ")"
   ]
  },
  {
   "cell_type": "markdown",
   "id": "57f60de9-9f10-4ed2-9a5a-13529bd917e1",
   "metadata": {},
   "source": [
    "##### Imputation of features relying on feature \"prev_employers\""
   ]
  },
  {
   "cell_type": "code",
   "execution_count": 17,
   "id": "f99cb0bc-60e2-4605-9d5d-5527eaf9356d",
   "metadata": {},
   "outputs": [],
   "source": [
    "df = df.with_columns(\t\n",
    "    pl.when(pl.col('prev_employers') == 'no').then(pl.lit('not applicable')).otherwise(pl.col('availability_of_benefits_prev_employer')).alias('availability_of_benefits_prev_employer') \n",
    "    , pl.when(pl.col('prev_employers') == 'no').then(pl.lit('not applicable')).otherwise(pl.col('awareness_of_benefits_prev_employer')).alias('awareness_of_benefits_prev_employer')\n",
    "    , pl.when(pl.col('prev_employers') == 'no').then(pl.lit('not applicable')).otherwise(pl.col('mh_discussion_indic_prev_employer')).alias('mh_discussion_indic_prev_employer')\n",
    "    , pl.when(pl.col('prev_employers') == 'no').then(pl.lit('not applicable')).otherwise(pl.col('mh_resources_availability_indic_prev_employer')).alias('mh_resources_availability_indic_prev_employer')\n",
    "    , pl.when(pl.col('prev_employers') == 'no').then(pl.lit('not applicable')).otherwise(pl.col('anonym_use_benefit_indic_prev_employer')).alias('anonym_use_benefit_indic_prev_employer')\n",
    "    , pl.when(pl.col('prev_employers') == 'no').then(pl.lit('not applicable')).otherwise(pl.col('neg_consequences_discussing_mh_prev_employer')).alias('neg_consequences_discussing_mh_prev_employer')\n",
    "    , pl.when(pl.col('prev_employers') == 'no').then(pl.lit('not applicable')).otherwise(pl.col('neg_consequences_discussing_ph_prev_employer')).alias('neg_consequences_discussing_ph_prev_employer')\n",
    "    , pl.when(pl.col('prev_employers') == 'no').then(pl.lit('not applicable')).otherwise(pl.col('comf_discussing_mh_with_coworker_prev_employer')).alias('comf_discussing_mh_with_coworker_prev_employer')\n",
    "    , pl.when(pl.col('prev_employers') == 'no').then(pl.lit('not applicable')).otherwise(pl.col('comf_discussing_mnh_with_supervisor_prev_employer')).alias('comf_discussing_mnh_with_supervisor_prev_employer')\n",
    "    , pl.when(pl.col('prev_employers') == 'no').then(pl.lit('not applicable')).otherwise(pl.col('employer_importance_mh_vs_ph_prev_employer')).alias('employer_importance_mh_vs_ph_prev_employer')                    \n",
    "    , pl.when(pl.col('prev_employers') == 'no').then(pl.lit('not applicable')).otherwise(pl.col('known_neg_consequences_of_mh_prev_employer')).alias('known_neg_consequences_of_mh_prev_employer')                                                        \n",
    ")"
   ]
  },
  {
   "cell_type": "markdown",
   "id": "3c7598c2-5bfa-49a0-a69a-593e48538874",
   "metadata": {},
   "source": [
    "##### Imputation of features \"diagnosis_name_condition\" & \"believed_name_condiiton\""
   ]
  },
  {
   "cell_type": "code",
   "execution_count": 18,
   "id": "4c5a3349-15f0-4554-a6eb-0be7fd219e79",
   "metadata": {},
   "outputs": [],
   "source": [
    "# Imputation of \"diagnosis_name_condition\"\n",
    "most_common_diagnosis_name = df.select(pl.col('diagnosis_name_condition')).to_series().value_counts().sort(by='count', descending = True).select(pl.first('diagnosis_name_condition')).to_series()[0]\n",
    "df = df.with_columns(\n",
    "    pl.when(pl.col('diagnosis_name_condition').is_null()).then(pl.lit(most_common_diagnosis_name)).otherwise('diagnosis_name_condition').alias('diagnosis_name_condition')\n",
    ")\n",
    "\n",
    "# Imputation of \"believed_name_condiiton\"\n",
    "most_common_believed_name = df.select(pl.col('believed_name_condiiton')).to_series().value_counts().sort(by='count', descending = True).select(pl.first('believed_name_condiiton')).to_series()[0]\n",
    "df = df.with_columns(\n",
    "    pl.when(pl.col('believed_name_condiiton').is_null()).then(pl.lit(most_common_believed_name)).otherwise('believed_name_condiiton').alias('believed_name_condiiton')\n",
    ")"
   ]
  },
  {
   "cell_type": "markdown",
   "id": "460389e5-ad9c-4148-bb13-dc788ce894ea",
   "metadata": {},
   "source": [
    "##### Imputation of \"willingness_to_share_mh_after_observation\""
   ]
  },
  {
   "cell_type": "code",
   "execution_count": 19,
   "id": "8865ba35-9867-4c93-86a5-e2b0546db069",
   "metadata": {},
   "outputs": [
    {
     "data": {
      "text/html": [
       "<div><style>\n",
       ".dataframe > thead > tr,\n",
       ".dataframe > tbody > tr {\n",
       "  text-align: right;\n",
       "  white-space: pre-wrap;\n",
       "}\n",
       "</style>\n",
       "<small>shape: (543, 2)</small><table border=\"1\" class=\"dataframe\"><thead><tr><th>neg_response_to_mh</th><th>willingness_to_share_mh_after_observation</th></tr><tr><td>str</td><td>str</td></tr></thead><tbody><tr><td>&quot;no&quot;</td><td>null</td></tr><tr><td>&quot;no&quot;</td><td>null</td></tr><tr><td>&quot;no&quot;</td><td>null</td></tr><tr><td>&quot;no&quot;</td><td>null</td></tr><tr><td>&quot;no&quot;</td><td>null</td></tr><tr><td>&hellip;</td><td>&hellip;</td></tr><tr><td>&quot;no&quot;</td><td>null</td></tr><tr><td>&quot;no&quot;</td><td>null</td></tr><tr><td>&quot;no&quot;</td><td>null</td></tr><tr><td>&quot;no&quot;</td><td>null</td></tr><tr><td>&quot;no&quot;</td><td>null</td></tr></tbody></table></div>"
      ],
      "text/plain": [
       "shape: (543, 2)\n",
       "┌────────────────────┬─────────────────────────────────┐\n",
       "│ neg_response_to_mh ┆ willingness_to_share_mh_after_… │\n",
       "│ ---                ┆ ---                             │\n",
       "│ str                ┆ str                             │\n",
       "╞════════════════════╪═════════════════════════════════╡\n",
       "│ no                 ┆ null                            │\n",
       "│ no                 ┆ null                            │\n",
       "│ no                 ┆ null                            │\n",
       "│ no                 ┆ null                            │\n",
       "│ no                 ┆ null                            │\n",
       "│ …                  ┆ …                               │\n",
       "│ no                 ┆ null                            │\n",
       "│ no                 ┆ null                            │\n",
       "│ no                 ┆ null                            │\n",
       "│ no                 ┆ null                            │\n",
       "│ no                 ┆ null                            │\n",
       "└────────────────────┴─────────────────────────────────┘"
      ]
     },
     "execution_count": 19,
     "metadata": {},
     "output_type": "execute_result"
    }
   ],
   "source": [
    "# Investigate how to impute 'willingness_to_share_mh_after_observation' based on 'neg_response_to_mh'\n",
    "df.select(pl.col(['neg_response_to_mh' ,'willingness_to_share_mh_after_observation' ])).filter((pl.col('neg_response_to_mh') == 'no') | (pl.col('neg_response_to_mh') == 'n/a'))"
   ]
  },
  {
   "cell_type": "code",
   "execution_count": 20,
   "id": "de9a22aa-b91f-4677-968f-4bbc48b39ac7",
   "metadata": {},
   "outputs": [],
   "source": [
    "# Impute the columns 'willingness_to_share_mh_after_observation' with n/a incase 'neg_response_to_mh' was answered with 'no' or 'n/a'\n",
    "df = df.with_columns(\n",
    "    pl.when(pl.col('neg_response_to_mh') == 'n/a', pl.col('willingness_to_share_mh_after_observation').is_null()).then(pl.lit('n/a')).otherwise(pl.col('willingness_to_share_mh_after_observation')).alias('willingness_to_share_mh_after_observation')\n",
    ")\n",
    "df = df.with_columns(\n",
    "    pl.when(pl.col('neg_response_to_mh') == 'no', pl.col('willingness_to_share_mh_after_observation').is_null()).then(pl.lit('n/a')).otherwise(pl.col('willingness_to_share_mh_after_observation')).alias('willingness_to_share_mh_after_observation')\n",
    ")"
   ]
  },
  {
   "cell_type": "markdown",
   "id": "cf25c31d-ae01-45b5-8d8d-7ee44dae3e73",
   "metadata": {},
   "source": [
    "##### Imputation & Standardization of feature 'gender'"
   ]
  },
  {
   "cell_type": "code",
   "execution_count": 21,
   "id": "3d3c1121-87e9-4c12-a9bf-cacd1b6728a6",
   "metadata": {},
   "outputs": [],
   "source": [
    "# Strip entries of whitespace\n",
    "df = df.with_columns(\n",
    "    pl.col('gender').str.strip_chars().alias('gender')\n",
    ")\n",
    "# Standardize male\n",
    "df = df.with_columns(\n",
    "    pl.col('gender').replace(['m' ,  'male.' , 'cis male' , 'male (cis)' , 'man' , 'dude' , 'cis man' , 'sex is male' , 'mail' , 'cisdude'], 'male').alias('gender')\n",
    ")\n",
    "# Standardize female\n",
    "df = df.with_columns(\n",
    "    pl.col('gender').replace(['f' ,  'i identify as female.' , 'cis female' , 'female assigned at birth' , 'female/woman' , 'woman' , 'fm' , 'fem' , 'cisgender female' , 'cis-woman' \n",
    "                              ,'female (props for making this a freeform field, though)'], 'female').alias('gender')\n",
    ")\n",
    "# Standardize others\n",
    "df = df.with_columns(\n",
    "    pl.when(pl.col('gender').is_in(['male' , 'female']).not_()).then(pl.lit('other')).otherwise(pl.col('gender')).alias('gender')\n",
    ")\n",
    "# Impute missing gender values with the most common gender\n",
    "most_common_gender = df.select(pl.col('gender')).to_series().value_counts().sort(by='count', descending = True).select(pl.first('gender')).to_series()[0]\n",
    "df = df.with_columns(\n",
    "    pl.when(pl.col('gender').is_null()).then(pl.lit(most_common_gender)).otherwise('gender').alias('gender')\n",
    ")"
   ]
  },
  {
   "cell_type": "markdown",
   "id": "4ed8c955-4133-43e7-97e2-bdf8a85580c8",
   "metadata": {},
   "source": [
    "##### Imputation of feature 'diagnosis_name_professional_condition'"
   ]
  },
  {
   "cell_type": "code",
   "execution_count": 22,
   "id": "be6c9d72-77f2-41ed-8ed5-1f15fe3596a3",
   "metadata": {},
   "outputs": [],
   "source": [
    "# Impute the null values of the feature 'diagnosis_name_professional_condition' , if there is no diagnosis in feature 'diagnosis_professional'\n",
    "df = df.with_columns(\n",
    "    pl.when(pl.col('diagnosis_professional') == 'no').then(pl.lit('n/a')).otherwise('diagnosis_name_professional_condition').alias('diagnosis_name_professional_condition')\n",
    ")\n",
    "# Find the name of the most common diagnosis\n",
    "most_common_mh_diagnosis = df.select(pl.col('diagnosis_name_professional_condition')).to_series().value_counts().sort(by='count' , descending=True).to_series()[1]\n",
    "# Impute the missing values with the most common diagnosis\n",
    "df = df.with_columns(\n",
    "    pl.when(pl.col('diagnosis_name_professional_condition').is_null()).then(pl.lit(most_common_mh_diagnosis)).otherwise('diagnosis_name_professional_condition').alias('diagnosis_name_professional_condition')\n",
    ")"
   ]
  },
  {
   "cell_type": "markdown",
   "id": "d4ce89f4-98e4-4a08-ae91-836e3d30e4e3",
   "metadata": {},
   "source": [
    "##### Imputation of feature 'willingness_to_share_mh_after_observation'"
   ]
  },
  {
   "cell_type": "code",
   "execution_count": 23,
   "id": "3e3c2027-dd10-42c8-94bc-371f71bdbbed",
   "metadata": {},
   "outputs": [],
   "source": [
    "# Find the name of the most common answer\n",
    "most_common_willingness = df.select(pl.col('willingness_to_share_mh_after_observation')).to_series().value_counts().sort(by='count' , descending=True).to_series()[1]\n",
    "# Impute the missing values with the most common answer to 'willingness_to_share_mh_after_observation'\n",
    "df = df.with_columns(\n",
    "    pl.when(pl.col('willingness_to_share_mh_after_observation').is_null()).then(pl.lit(most_common_willingness)).otherwise('willingness_to_share_mh_after_observation').alias('willingness_to_share_mh_after_observation')\n",
    ")"
   ]
  },
  {
   "cell_type": "markdown",
   "id": "3b3a9d24-b33b-4c8f-b3c6-010936f8d7a5",
   "metadata": {},
   "source": [
    "##### Drop columns with too many NULL values"
   ]
  },
  {
   "cell_type": "code",
   "execution_count": 24,
   "id": "81102305-c7ec-4d58-b8e2-f7b5fd037cc1",
   "metadata": {},
   "outputs": [
    {
     "name": "stdout",
     "output_type": "stream",
     "text": [
      "['med_coverage_mh_indic', 'known_mh_sources', 'mention_mh_to_clients', 'neg_impact_of_reveal_to_client_of_mh', 'mention_mh_to_employees', 'neg_impact_of_reveal_to_employee_of_mh', 'productivity_effect_of_mh', 'time_effect_of_mh']\n"
     ]
    }
   ],
   "source": [
    "# Reconstruct the columns with too many null values\n",
    "null_counts = df.null_count().transpose(include_header= True)\n",
    "null_counts_perc = null_counts.with_columns((pl.col(\"column_0\") / df.shape[0] * 100).cast(pl.Int32).alias(\"null_perc\") )\n",
    "drop_col_list = pl.Series(null_counts_perc.filter(pl.col(\"null_perc\")>50).select(pl.col(\"column\"))).to_list()\n",
    "\n",
    "print(drop_col_list)"
   ]
  },
  {
   "cell_type": "code",
   "execution_count": 25,
   "id": "4f17dbd7-49b6-4341-adcc-65dfa6c8dc06",
   "metadata": {},
   "outputs": [],
   "source": [
    "# Drop the columns with more than 50% null values\n",
    "df = df.drop(drop_col_list)"
   ]
  },
  {
   "cell_type": "markdown",
   "id": "dfd03bed-02f5-4c3c-81fc-01f75a34f01e",
   "metadata": {},
   "source": [
    "##### Investigate shape of new DataFrame"
   ]
  },
  {
   "cell_type": "code",
   "execution_count": 26,
   "id": "0179263f-a889-41ef-b605-a3437e7ac4ac",
   "metadata": {},
   "outputs": [
    {
     "name": "stdout",
     "output_type": "stream",
     "text": [
      "(1146, 55)\n"
     ]
    }
   ],
   "source": [
    "print(df.shape)"
   ]
  },
  {
   "cell_type": "markdown",
   "id": "b9f4b521-14a6-4e87-bc17-88c0d7f26357",
   "metadata": {},
   "source": [
    "##### Investigate the remaining columns with null values and impute them if necessary or possible"
   ]
  },
  {
   "cell_type": "code",
   "execution_count": 27,
   "id": "f72c02f8-fdbc-4ea4-bbde-3c7b237f8355",
   "metadata": {},
   "outputs": [
    {
     "data": {
      "text/html": [
       "<div><style>\n",
       ".dataframe > thead > tr,\n",
       ".dataframe > tbody > tr {\n",
       "  text-align: right;\n",
       "  white-space: pre-wrap;\n",
       "}\n",
       "</style>\n",
       "<small>shape: (2, 2)</small><table border=\"1\" class=\"dataframe\"><thead><tr><th>column</th><th>column_0</th></tr><tr><td>str</td><td>u32</td></tr></thead><tbody><tr><td>&quot;why_why_not_1&quot;</td><td>274</td></tr><tr><td>&quot;why_why_not_2&quot;</td><td>249</td></tr></tbody></table></div>"
      ],
      "text/plain": [
       "shape: (2, 2)\n",
       "┌───────────────┬──────────┐\n",
       "│ column        ┆ column_0 │\n",
       "│ ---           ┆ ---      │\n",
       "│ str           ┆ u32      │\n",
       "╞═══════════════╪══════════╡\n",
       "│ why_why_not_1 ┆ 274      │\n",
       "│ why_why_not_2 ┆ 249      │\n",
       "└───────────────┴──────────┘"
      ]
     },
     "execution_count": 27,
     "metadata": {},
     "output_type": "execute_result"
    }
   ],
   "source": [
    "df.null_count().transpose(include_header= True).filter(pl.col('column_0') > 0)"
   ]
  },
  {
   "cell_type": "markdown",
   "id": "97af9156-da22-43ec-ad63-15ba97f46af9",
   "metadata": {},
   "source": [
    "## 7. Create 2 new Target Variables to apply feature selection methods to"
   ]
  },
  {
   "cell_type": "markdown",
   "id": "438ba5c0-4731-414e-ac24-1777d46b54ee",
   "metadata": {},
   "source": [
    "#### Generate feature of people that have the feeling their mental health issue can interfering with their work"
   ]
  },
  {
   "cell_type": "code",
   "execution_count": 28,
   "id": "819f0d7e-555c-475a-b67b-507677deece8",
   "metadata": {},
   "outputs": [],
   "source": [
    "# Generate feature about the interference of MH issue with work \n",
    "df = df.with_columns(\n",
    "    pl.when( (pl.col('interference_mh_treated_with_work').is_in(['not applicable to me' , 'never']).not_() ) | (pl.col('interference_mh_untreated_with_work').is_in(['not applicable to me' , 'never']).not_()) ).then(pl.lit(1)).otherwise(pl.lit(0)).alias('inter_all')\n",
    ")"
   ]
  },
  {
   "cell_type": "code",
   "execution_count": 29,
   "id": "ec915b8e-c61c-4db6-a932-3ed49395f2d1",
   "metadata": {},
   "outputs": [],
   "source": [
    "# Generate feature about the suspicion of negative consequences for being honest about MH issue\n",
    "df = df.with_columns(\n",
    "    pl.when( (pl.col('neg_consequences_discussing_mh').is_in(['yes' , 'maybe']))  |  (pl.col('perceived_neg_impact_coworker_opiniton_of_mh').is_in(['yes, i think they would' , 'yes, they do' , 'maybe'])) ).then(pl.lit('1')).otherwise(pl.lit('0')).alias('suspicion_neg_consequences') \n",
    ")"
   ]
  },
  {
   "cell_type": "markdown",
   "id": "e43d814d-517a-4e53-95fd-58f5422fa721",
   "metadata": {},
   "source": [
    "## 8. Investigate feature type by value_counts"
   ]
  },
  {
   "cell_type": "code",
   "execution_count": 30,
   "id": "b4f8393f-903f-4091-9fa6-b0cb363f4a6b",
   "metadata": {},
   "outputs": [
    {
     "data": {
      "text/html": [
       "<div><style>\n",
       ".dataframe > thead > tr,\n",
       ".dataframe > tbody > tr {\n",
       "  text-align: right;\n",
       "  white-space: pre-wrap;\n",
       "}\n",
       "</style>\n",
       "<small>shape: (1, 57)</small><table border=\"1\" class=\"dataframe\"><thead><tr><th>index</th><th>comp_size</th><th>tech_comp_indic</th><th>tech_role_indic</th><th>availability_of_benefits</th><th>awareness_of_benefits</th><th>mh_discussion_indic</th><th>mh_resources_availability_indic</th><th>anonym_use_benefit_indic</th><th>sick_leave_difficulty</th><th>neg_consequences_discussing_mh</th><th>neg_consequences_discussing_ph</th><th>comf_discussing_mh_with_coworker_indic</th><th>comf_discussing_mnh_with_supervisor_indic</th><th>employer_importance_mh_vs_ph</th><th>known_neg_consequences_of_mh</th><th>prev_employers</th><th>availability_of_benefits_prev_employer</th><th>awareness_of_benefits_prev_employer</th><th>mh_discussion_indic_prev_employer</th><th>mh_resources_availability_indic_prev_employer</th><th>anonym_use_benefit_indic_prev_employer</th><th>neg_consequences_discussing_mh_prev_employer</th><th>neg_consequences_discussing_ph_prev_employer</th><th>comf_discussing_mh_with_coworker_prev_employer</th><th>comf_discussing_mnh_with_supervisor_prev_employer</th><th>employer_importance_mh_vs_ph_prev_employer</th><th>known_neg_consequences_of_mh_prev_employer</th><th>willing_discuss_ph_in_hiring_interview</th><th>why_why_not_1</th><th>willing_discuss_mh_in_hiring_interview</th><th>why_why_not_2</th><th>percevied_neg_impact_carreer_of_mh</th><th>perceived_neg_impact_coworker_opiniton_of_mh</th><th>willingness_to_share_with_friend_family</th><th>neg_response_to_mh</th><th>willingness_to_share_mh_after_observation</th><th>mh_family_hist</th><th>previous_mh</th><th>current_mh</th><th>diagnosis_name_condition</th><th>believed_name_condiiton</th><th>diagnosis_professional</th><th>diagnosis_name_professional_condition</th><th>used_therapy</th><th>interference_mh_treated_with_work</th><th>interference_mh_untreated_with_work</th><th>age</th><th>gender</th><th>country_residency</th><th>usa_state_residency</th><th>country_work</th><th>usa_state_work</th><th>job_title</th><th>remote</th><th>inter_all</th><th>suspicion_neg_consequences</th></tr><tr><td>u32</td><td>u32</td><td>u32</td><td>u32</td><td>u32</td><td>u32</td><td>u32</td><td>u32</td><td>u32</td><td>u32</td><td>u32</td><td>u32</td><td>u32</td><td>u32</td><td>u32</td><td>u32</td><td>u32</td><td>u32</td><td>u32</td><td>u32</td><td>u32</td><td>u32</td><td>u32</td><td>u32</td><td>u32</td><td>u32</td><td>u32</td><td>u32</td><td>u32</td><td>u32</td><td>u32</td><td>u32</td><td>u32</td><td>u32</td><td>u32</td><td>u32</td><td>u32</td><td>u32</td><td>u32</td><td>u32</td><td>u32</td><td>u32</td><td>u32</td><td>u32</td><td>u32</td><td>u32</td><td>u32</td><td>u32</td><td>u32</td><td>u32</td><td>u32</td><td>u32</td><td>u32</td><td>u32</td><td>u32</td><td>u32</td><td>u32</td></tr></thead><tbody><tr><td>1146</td><td>6</td><td>2</td><td>2</td><td>4</td><td>4</td><td>3</td><td>3</td><td>3</td><td>6</td><td>3</td><td>3</td><td>3</td><td>3</td><td>3</td><td>2</td><td>2</td><td>5</td><td>5</td><td>5</td><td>4</td><td>5</td><td>5</td><td>4</td><td>4</td><td>5</td><td>5</td><td>4</td><td>3</td><td>863</td><td>3</td><td>854</td><td>5</td><td>5</td><td>6</td><td>5</td><td>4</td><td>3</td><td>3</td><td>3</td><td>102</td><td>78</td><td>2</td><td>90</td><td>2</td><td>5</td><td>5</td><td>51</td><td>3</td><td>43</td><td>48</td><td>44</td><td>49</td><td>180</td><td>3</td><td>2</td><td>2</td></tr></tbody></table></div>"
      ],
      "text/plain": [
       "shape: (1, 57)\n",
       "┌───────┬───────────┬─────────────────┬─────────────────┬───┬───────────┬────────┬───────────┬─────────────────────────┐\n",
       "│ index ┆ comp_size ┆ tech_comp_indic ┆ tech_role_indic ┆ … ┆ job_title ┆ remote ┆ inter_all ┆ suspicion_neg_consequen │\n",
       "│ ---   ┆ ---       ┆ ---             ┆ ---             ┆   ┆ ---       ┆ ---    ┆ ---       ┆ ces                     │\n",
       "│ u32   ┆ u32       ┆ u32             ┆ u32             ┆   ┆ u32       ┆ u32    ┆ u32       ┆ ---                     │\n",
       "│       ┆           ┆                 ┆                 ┆   ┆           ┆        ┆           ┆ u32                     │\n",
       "╞═══════╪═══════════╪═════════════════╪═════════════════╪═══╪═══════════╪════════╪═══════════╪═════════════════════════╡\n",
       "│ 1146  ┆ 6         ┆ 2               ┆ 2               ┆ … ┆ 180       ┆ 3      ┆ 2         ┆ 2                       │\n",
       "└───────┴───────────┴─────────────────┴─────────────────┴───┴───────────┴────────┴───────────┴─────────────────────────┘"
      ]
     },
     "execution_count": 30,
     "metadata": {},
     "output_type": "execute_result"
    }
   ],
   "source": [
    "df.select(pl.all().n_unique())"
   ]
  },
  {
   "cell_type": "markdown",
   "id": "d21261d4-18a9-4fdb-9417-61ebf7b9c2fe",
   "metadata": {},
   "source": [
    "### Categorize the Features by their type"
   ]
  },
  {
   "cell_type": "code",
   "execution_count": 31,
   "id": "823f6cd7-a5cb-431e-a9c3-9b37de9a4f71",
   "metadata": {},
   "outputs": [],
   "source": [
    "# Manually categorize ordinal and nominal features\n",
    "feat_cat_ordinal = ['comp_size' , 'sick_leave_difficulty' , 'availability_of_benefits' , 'availability_of_benefits_prev_employer' ,  'awareness_of_benefits_prev_employer' , 'mh_discussion_indic_prev_employer' \n",
    "                    , 'mh_resources_availability_indic_prev_employer' , 'anonym_use_benefit_indic_prev_employer' , 'neg_consequences_discussing_mh_prev_employer'\n",
    "                    , 'neg_consequences_discussing_ph_prev_employer' , 'comf_discussing_mh_with_coworker_prev_employer' , 'comf_discussing_mnh_with_supervisor_prev_employer'\n",
    "                    , 'employer_importance_mh_vs_ph_prev_employer' , 'known_neg_consequences_of_mh_prev_employer', 'percevied_neg_impact_carreer_of_mh' , \n",
    "                    'perceived_neg_impact_coworker_opiniton_of_mh' ,'willingness_to_share_with_friend_family' , 'interference_mh_treated_with_work'\n",
    "                    , 'interference_mh_untreated_with_work' , 'remote']\n",
    "feat_cat_nominal = ['tech_comp_indic' , 'tech_role_indic' , 'awareness_of_benefits' , 'mh_discussion_indic' , 'mh_resources_availability_indic' \n",
    "                    , 'anonym_use_benefit_indic' , 'neg_consequences_discussing_mh' , 'neg_consequences_discussing_ph' , 'comf_discussing_mh_with_coworker_indic' , 'comf_discussing_mnh_with_supervisor_indic' \n",
    "                    , 'employer_importance_mh_vs_ph' ,'known_neg_consequences_of_mh' , 'prev_employers'  , 'willing_discuss_ph_in_hiring_interview'\n",
    "                    , 'willing_discuss_mh_in_hiring_interview' ,  'neg_response_to_mh' , \n",
    "                    'willingness_to_share_mh_after_observation' , 'mh_family_hist' , 'previous_mh' , 'current_mh'  , 'used_therapy'  , 'gender' , 'country_residency'\n",
    "                    , 'usa_state_residency' , 'country_work' , 'usa_state_work' , 'job_title' , 'diagnosis_name_professional_condition' , 'diagnosis_name_condition' , 'age' , 'diagnosis_professional' , 'believed_name_condiiton'\n",
    "                   , 'inter_all' , 'suspicion_neg_consequences']\n",
    "\n",
    "\n",
    "feat_target_variable = []\n",
    "\n",
    "# This variable can be filled later dynamically\n",
    "feat_text = []"
   ]
  },
  {
   "cell_type": "code",
   "execution_count": 32,
   "id": "576e18a2-0813-4618-aa71-48e2363dfdf5",
   "metadata": {},
   "outputs": [],
   "source": [
    "# Fill the feat_text list with the remaining features\n",
    "# get a list of all columns to compare to\n",
    "column_list = df.columns\n",
    "\n",
    "# Define function to check if entries are missing\n",
    "def fill_feat_text():\n",
    "    for x in column_list:\n",
    "        if x not in feat_cat_ordinal and x not in feat_cat_nominal and x not in feat_target_variable and x not in feat_text:\n",
    "            feat_text.append(x)\n",
    "        else:\n",
    "            continue\n",
    "fill_feat_text()\n",
    "\n",
    "# remove the index feature\n",
    "feat_text.remove('index')"
   ]
  },
  {
   "cell_type": "markdown",
   "id": "4a47716d-b390-4341-b455-80a470a1c88d",
   "metadata": {},
   "source": [
    "## Feature Encoding"
   ]
  },
  {
   "cell_type": "code",
   "execution_count": 33,
   "id": "71eaf7b5-7e8b-49f3-ae56-e576d8af3489",
   "metadata": {},
   "outputs": [],
   "source": [
    "# Create a DataFrame for the Target encoding\n",
    "df_targ = df.drop(feat_text)\n",
    "df_targ = df_targ.drop('index') "
   ]
  },
  {
   "cell_type": "markdown",
   "id": "a876e1f2-d2bc-4738-935a-67c8fc03702a",
   "metadata": {},
   "source": [
    "#### Ordinal Encoding for the whole dataset"
   ]
  },
  {
   "cell_type": "code",
   "execution_count": 34,
   "id": "3002c5fe-55d7-47ad-89c8-1d35e5afcea3",
   "metadata": {},
   "outputs": [],
   "source": [
    "# First encode the Ordinal features via ordinalencoder\n",
    "enc = OrdinalEncoder(categories=[\n",
    "    ['1-5','6-25','26-100','100-500','500-1000','more than 1000'] ,\n",
    "    [\"i don't know\",'very easy','somewhat easy','neither easy nor difficult','somewhat difficult','very difficult'] , \n",
    "    ['not eligible for coverage / n/a',\"i don't know\",'yes','no'] ,\n",
    "    ['not applicable' , \"i don't know\" , \"yes, they all did\" , \"some did\",\"no, none did\"] , \n",
    "    [\"not applicable\",\"yes, i was aware of all of them\",\"i was aware of some\",\"no, i only became aware later\",\"n/a (not currently aware)\"] , \n",
    "    [\"not applicable\",\"i don't know\",\"yes, they all did\",\"some did\",\"none did\"] , \n",
    "    [\"not applicable\",\"yes, they all did\",\"some did\",\"none did\"]  ,\n",
    "    [\"not applicable\", \"i don't know\" ,\"yes, always\" ,\"sometimes\" ,\"no\"] , \n",
    "    [\"not applicable\",\"i don't know\",\"yes, all of them\",\"some of them\",\"none of them\"] , \n",
    "    [\"not applicable\",\"yes, all of them\",\"some of them\",\"none of them\"] , \n",
    "    [\"not applicable\",\"yes, at all of my previous employers\",\"some of my previous employers\",\"no, at none of my previous employers\"] , \n",
    "    [\"not applicable\",\"i don't know\",\"yes, at all of my previous employers\",\"some of my previous employers\",\"no, at none of my previous employers\"] ,\n",
    "    [\"not applicable\",\"i don't know\",\"yes, they all did\",\"some did\",\"none did\"] ,\n",
    "    [\"not applicable\",\"yes, all of them\",\"some of them\",\"none of them\"] ,\n",
    "    [\"yes, it has\",\"yes, i think it would\",\"maybe\",\"no, i don't think it would\",\"no, it has not\"] , \n",
    "    [\"yes, they do\",\"yes, i think they would\",\"maybe\",\"no, i don't think they would\",\"no, they do not\"] ,\n",
    "    [\"not applicable to me (i do not have a mental illness)\",\"very open\",\"somewhat open\",\"neutral\",\"somewhat not open\",\"not open at all\"] , \n",
    "    [\"not applicable to me\",\"often\",\"sometimes\",\"rarely\",\"never\"] ,\n",
    "    [\"not applicable to me\",\"often\",\"sometimes\",\"rarely\",\"never\"] , \n",
    "    [\"always\",\"sometimes\",\"never\"]\n",
    "                                ]\n",
    ")"
   ]
  },
  {
   "cell_type": "code",
   "execution_count": 35,
   "id": "95cef480-3840-419a-8706-426d2a018709",
   "metadata": {},
   "outputs": [],
   "source": [
    "# Create a ordered list of column names of ordinal features\n",
    "ord_columns = df.select(pl.col(feat_cat_ordinal)).columns\n",
    "# fit and transform the ordinal featrues to the OrdinalTransformation\n",
    "ordinal_transformation = enc.fit_transform(df.select(pl.col(feat_cat_ordinal)))\n",
    "# Create a dataframe of the transformed features\n",
    "df_ordinal_transformation = pl.DataFrame(ordinal_transformation, schema = ord_columns)\n",
    "\n",
    "# replace the original columns with the transformed ones:\n",
    "df = df.with_columns(df_ordinal_transformation)"
   ]
  },
  {
   "cell_type": "markdown",
   "id": "84ed38b0-012f-4bb4-bcdc-6c4843b2c7f0",
   "metadata": {},
   "source": [
    "#### Label Encoding for the whole data set (Path 1)"
   ]
  },
  {
   "cell_type": "code",
   "execution_count": 36,
   "id": "d9def749-7aec-4f5c-976c-4e333508a53a",
   "metadata": {},
   "outputs": [],
   "source": [
    "enc_label = LabelEncoder()\n",
    "\n",
    "label_mappings = {}\n",
    "\n",
    "for x in feat_cat_nominal:\n",
    "    df = df.with_columns(pl.Series(x , enc_label.fit_transform(df[x].to_numpy())))\n",
    "    label_mappings[x] = dict(zip(enc_label.classes_, range(len(enc_label.classes_))))"
   ]
  },
  {
   "cell_type": "markdown",
   "id": "f8f93304-01f1-4c05-9995-49be1a94e706",
   "metadata": {},
   "source": [
    "#### TargetEncoder for the 2 new Target Variables: 'inter_all' & 'suspicion_neg_consequences' (Path 2)"
   ]
  },
  {
   "cell_type": "code",
   "execution_count": 37,
   "id": "9e2bdd60-4d70-4851-bf69-c1c1571678b8",
   "metadata": {},
   "outputs": [],
   "source": [
    "# From here on we use the dataframe: df_targ\n",
    "\n",
    "# First Target Variable 1: 'inter_all'\n",
    "# Invoke TargetEncoder Class\n",
    "enc_auto = TargetEncoder(smooth=\"auto\")\n",
    "# Fit the TargetEncoder and Transform the nominal features based on the target variable\n",
    "X_trans_t1 = enc_auto.fit_transform(df_targ.drop('inter_all').to_numpy(), df_targ.select(pl.col('inter_all')).to_numpy().ravel())\n",
    "\n",
    "# construct a dataframe out of the transformed features\n",
    "columns_df_t1 = df_targ.drop('inter_all').columns\n",
    "df_targ_1 = pl.DataFrame(X_trans_t1 , schema=columns_df_t1)\n",
    "df_targ_1 = df_targ_1.with_columns(\n",
    "    df_targ.select(pl.col('inter_all'))\n",
    ")\n",
    "\n",
    "\n",
    "# First Target Variable 1: 'suspicion_neg_consequences'\n",
    "X_trans_t2 = enc_auto.fit_transform(df_targ.drop('suspicion_neg_consequences').to_numpy(), df_targ.select(pl.col('suspicion_neg_consequences')).to_numpy().ravel())\n",
    "\n",
    "# construct a dataframe out of the transformed features\n",
    "columns_df_t2 = df_targ.drop('suspicion_neg_consequences').columns\n",
    "df_targ_2 = pl.DataFrame(X_trans_t2 , schema=columns_df_t2)\n",
    "df_targ_2 = df_targ_2.with_columns(\n",
    "    df_targ.select(pl.col('suspicion_neg_consequences'))\n",
    ")"
   ]
  },
  {
   "cell_type": "markdown",
   "id": "85664672-a660-4953-904c-083a1bf6480a",
   "metadata": {},
   "source": [
    "## Feature Scaling (Path 1)"
   ]
  },
  {
   "cell_type": "code",
   "execution_count": 38,
   "id": "280c787f-d6a9-48a6-8ada-c4361f486681",
   "metadata": {},
   "outputs": [],
   "source": [
    "# create feature df_scale\n",
    "df_scale = df.drop(['index' , 'why_why_not_1' , 'why_why_not_2'])"
   ]
  },
  {
   "cell_type": "code",
   "execution_count": 39,
   "id": "7bf0eeea-7d98-4d69-a1dc-8140d68fa1de",
   "metadata": {},
   "outputs": [
    {
     "data": {
      "text/html": [
       "<style>#sk-container-id-1 {\n",
       "  /* Definition of color scheme common for light and dark mode */\n",
       "  --sklearn-color-text: black;\n",
       "  --sklearn-color-line: gray;\n",
       "  /* Definition of color scheme for unfitted estimators */\n",
       "  --sklearn-color-unfitted-level-0: #fff5e6;\n",
       "  --sklearn-color-unfitted-level-1: #f6e4d2;\n",
       "  --sklearn-color-unfitted-level-2: #ffe0b3;\n",
       "  --sklearn-color-unfitted-level-3: chocolate;\n",
       "  /* Definition of color scheme for fitted estimators */\n",
       "  --sklearn-color-fitted-level-0: #f0f8ff;\n",
       "  --sklearn-color-fitted-level-1: #d4ebff;\n",
       "  --sklearn-color-fitted-level-2: #b3dbfd;\n",
       "  --sklearn-color-fitted-level-3: cornflowerblue;\n",
       "\n",
       "  /* Specific color for light theme */\n",
       "  --sklearn-color-text-on-default-background: var(--sg-text-color, var(--theme-code-foreground, var(--jp-content-font-color1, black)));\n",
       "  --sklearn-color-background: var(--sg-background-color, var(--theme-background, var(--jp-layout-color0, white)));\n",
       "  --sklearn-color-border-box: var(--sg-text-color, var(--theme-code-foreground, var(--jp-content-font-color1, black)));\n",
       "  --sklearn-color-icon: #696969;\n",
       "\n",
       "  @media (prefers-color-scheme: dark) {\n",
       "    /* Redefinition of color scheme for dark theme */\n",
       "    --sklearn-color-text-on-default-background: var(--sg-text-color, var(--theme-code-foreground, var(--jp-content-font-color1, white)));\n",
       "    --sklearn-color-background: var(--sg-background-color, var(--theme-background, var(--jp-layout-color0, #111)));\n",
       "    --sklearn-color-border-box: var(--sg-text-color, var(--theme-code-foreground, var(--jp-content-font-color1, white)));\n",
       "    --sklearn-color-icon: #878787;\n",
       "  }\n",
       "}\n",
       "\n",
       "#sk-container-id-1 {\n",
       "  color: var(--sklearn-color-text);\n",
       "}\n",
       "\n",
       "#sk-container-id-1 pre {\n",
       "  padding: 0;\n",
       "}\n",
       "\n",
       "#sk-container-id-1 input.sk-hidden--visually {\n",
       "  border: 0;\n",
       "  clip: rect(1px 1px 1px 1px);\n",
       "  clip: rect(1px, 1px, 1px, 1px);\n",
       "  height: 1px;\n",
       "  margin: -1px;\n",
       "  overflow: hidden;\n",
       "  padding: 0;\n",
       "  position: absolute;\n",
       "  width: 1px;\n",
       "}\n",
       "\n",
       "#sk-container-id-1 div.sk-dashed-wrapped {\n",
       "  border: 1px dashed var(--sklearn-color-line);\n",
       "  margin: 0 0.4em 0.5em 0.4em;\n",
       "  box-sizing: border-box;\n",
       "  padding-bottom: 0.4em;\n",
       "  background-color: var(--sklearn-color-background);\n",
       "}\n",
       "\n",
       "#sk-container-id-1 div.sk-container {\n",
       "  /* jupyter's `normalize.less` sets `[hidden] { display: none; }`\n",
       "     but bootstrap.min.css set `[hidden] { display: none !important; }`\n",
       "     so we also need the `!important` here to be able to override the\n",
       "     default hidden behavior on the sphinx rendered scikit-learn.org.\n",
       "     See: https://github.com/scikit-learn/scikit-learn/issues/21755 */\n",
       "  display: inline-block !important;\n",
       "  position: relative;\n",
       "}\n",
       "\n",
       "#sk-container-id-1 div.sk-text-repr-fallback {\n",
       "  display: none;\n",
       "}\n",
       "\n",
       "div.sk-parallel-item,\n",
       "div.sk-serial,\n",
       "div.sk-item {\n",
       "  /* draw centered vertical line to link estimators */\n",
       "  background-image: linear-gradient(var(--sklearn-color-text-on-default-background), var(--sklearn-color-text-on-default-background));\n",
       "  background-size: 2px 100%;\n",
       "  background-repeat: no-repeat;\n",
       "  background-position: center center;\n",
       "}\n",
       "\n",
       "/* Parallel-specific style estimator block */\n",
       "\n",
       "#sk-container-id-1 div.sk-parallel-item::after {\n",
       "  content: \"\";\n",
       "  width: 100%;\n",
       "  border-bottom: 2px solid var(--sklearn-color-text-on-default-background);\n",
       "  flex-grow: 1;\n",
       "}\n",
       "\n",
       "#sk-container-id-1 div.sk-parallel {\n",
       "  display: flex;\n",
       "  align-items: stretch;\n",
       "  justify-content: center;\n",
       "  background-color: var(--sklearn-color-background);\n",
       "  position: relative;\n",
       "}\n",
       "\n",
       "#sk-container-id-1 div.sk-parallel-item {\n",
       "  display: flex;\n",
       "  flex-direction: column;\n",
       "}\n",
       "\n",
       "#sk-container-id-1 div.sk-parallel-item:first-child::after {\n",
       "  align-self: flex-end;\n",
       "  width: 50%;\n",
       "}\n",
       "\n",
       "#sk-container-id-1 div.sk-parallel-item:last-child::after {\n",
       "  align-self: flex-start;\n",
       "  width: 50%;\n",
       "}\n",
       "\n",
       "#sk-container-id-1 div.sk-parallel-item:only-child::after {\n",
       "  width: 0;\n",
       "}\n",
       "\n",
       "/* Serial-specific style estimator block */\n",
       "\n",
       "#sk-container-id-1 div.sk-serial {\n",
       "  display: flex;\n",
       "  flex-direction: column;\n",
       "  align-items: center;\n",
       "  background-color: var(--sklearn-color-background);\n",
       "  padding-right: 1em;\n",
       "  padding-left: 1em;\n",
       "}\n",
       "\n",
       "\n",
       "/* Toggleable style: style used for estimator/Pipeline/ColumnTransformer box that is\n",
       "clickable and can be expanded/collapsed.\n",
       "- Pipeline and ColumnTransformer use this feature and define the default style\n",
       "- Estimators will overwrite some part of the style using the `sk-estimator` class\n",
       "*/\n",
       "\n",
       "/* Pipeline and ColumnTransformer style (default) */\n",
       "\n",
       "#sk-container-id-1 div.sk-toggleable {\n",
       "  /* Default theme specific background. It is overwritten whether we have a\n",
       "  specific estimator or a Pipeline/ColumnTransformer */\n",
       "  background-color: var(--sklearn-color-background);\n",
       "}\n",
       "\n",
       "/* Toggleable label */\n",
       "#sk-container-id-1 label.sk-toggleable__label {\n",
       "  cursor: pointer;\n",
       "  display: block;\n",
       "  width: 100%;\n",
       "  margin-bottom: 0;\n",
       "  padding: 0.5em;\n",
       "  box-sizing: border-box;\n",
       "  text-align: center;\n",
       "}\n",
       "\n",
       "#sk-container-id-1 label.sk-toggleable__label-arrow:before {\n",
       "  /* Arrow on the left of the label */\n",
       "  content: \"▸\";\n",
       "  float: left;\n",
       "  margin-right: 0.25em;\n",
       "  color: var(--sklearn-color-icon);\n",
       "}\n",
       "\n",
       "#sk-container-id-1 label.sk-toggleable__label-arrow:hover:before {\n",
       "  color: var(--sklearn-color-text);\n",
       "}\n",
       "\n",
       "/* Toggleable content - dropdown */\n",
       "\n",
       "#sk-container-id-1 div.sk-toggleable__content {\n",
       "  max-height: 0;\n",
       "  max-width: 0;\n",
       "  overflow: hidden;\n",
       "  text-align: left;\n",
       "  /* unfitted */\n",
       "  background-color: var(--sklearn-color-unfitted-level-0);\n",
       "}\n",
       "\n",
       "#sk-container-id-1 div.sk-toggleable__content.fitted {\n",
       "  /* fitted */\n",
       "  background-color: var(--sklearn-color-fitted-level-0);\n",
       "}\n",
       "\n",
       "#sk-container-id-1 div.sk-toggleable__content pre {\n",
       "  margin: 0.2em;\n",
       "  border-radius: 0.25em;\n",
       "  color: var(--sklearn-color-text);\n",
       "  /* unfitted */\n",
       "  background-color: var(--sklearn-color-unfitted-level-0);\n",
       "}\n",
       "\n",
       "#sk-container-id-1 div.sk-toggleable__content.fitted pre {\n",
       "  /* unfitted */\n",
       "  background-color: var(--sklearn-color-fitted-level-0);\n",
       "}\n",
       "\n",
       "#sk-container-id-1 input.sk-toggleable__control:checked~div.sk-toggleable__content {\n",
       "  /* Expand drop-down */\n",
       "  max-height: 200px;\n",
       "  max-width: 100%;\n",
       "  overflow: auto;\n",
       "}\n",
       "\n",
       "#sk-container-id-1 input.sk-toggleable__control:checked~label.sk-toggleable__label-arrow:before {\n",
       "  content: \"▾\";\n",
       "}\n",
       "\n",
       "/* Pipeline/ColumnTransformer-specific style */\n",
       "\n",
       "#sk-container-id-1 div.sk-label input.sk-toggleable__control:checked~label.sk-toggleable__label {\n",
       "  color: var(--sklearn-color-text);\n",
       "  background-color: var(--sklearn-color-unfitted-level-2);\n",
       "}\n",
       "\n",
       "#sk-container-id-1 div.sk-label.fitted input.sk-toggleable__control:checked~label.sk-toggleable__label {\n",
       "  background-color: var(--sklearn-color-fitted-level-2);\n",
       "}\n",
       "\n",
       "/* Estimator-specific style */\n",
       "\n",
       "/* Colorize estimator box */\n",
       "#sk-container-id-1 div.sk-estimator input.sk-toggleable__control:checked~label.sk-toggleable__label {\n",
       "  /* unfitted */\n",
       "  background-color: var(--sklearn-color-unfitted-level-2);\n",
       "}\n",
       "\n",
       "#sk-container-id-1 div.sk-estimator.fitted input.sk-toggleable__control:checked~label.sk-toggleable__label {\n",
       "  /* fitted */\n",
       "  background-color: var(--sklearn-color-fitted-level-2);\n",
       "}\n",
       "\n",
       "#sk-container-id-1 div.sk-label label.sk-toggleable__label,\n",
       "#sk-container-id-1 div.sk-label label {\n",
       "  /* The background is the default theme color */\n",
       "  color: var(--sklearn-color-text-on-default-background);\n",
       "}\n",
       "\n",
       "/* On hover, darken the color of the background */\n",
       "#sk-container-id-1 div.sk-label:hover label.sk-toggleable__label {\n",
       "  color: var(--sklearn-color-text);\n",
       "  background-color: var(--sklearn-color-unfitted-level-2);\n",
       "}\n",
       "\n",
       "/* Label box, darken color on hover, fitted */\n",
       "#sk-container-id-1 div.sk-label.fitted:hover label.sk-toggleable__label.fitted {\n",
       "  color: var(--sklearn-color-text);\n",
       "  background-color: var(--sklearn-color-fitted-level-2);\n",
       "}\n",
       "\n",
       "/* Estimator label */\n",
       "\n",
       "#sk-container-id-1 div.sk-label label {\n",
       "  font-family: monospace;\n",
       "  font-weight: bold;\n",
       "  display: inline-block;\n",
       "  line-height: 1.2em;\n",
       "}\n",
       "\n",
       "#sk-container-id-1 div.sk-label-container {\n",
       "  text-align: center;\n",
       "}\n",
       "\n",
       "/* Estimator-specific */\n",
       "#sk-container-id-1 div.sk-estimator {\n",
       "  font-family: monospace;\n",
       "  border: 1px dotted var(--sklearn-color-border-box);\n",
       "  border-radius: 0.25em;\n",
       "  box-sizing: border-box;\n",
       "  margin-bottom: 0.5em;\n",
       "  /* unfitted */\n",
       "  background-color: var(--sklearn-color-unfitted-level-0);\n",
       "}\n",
       "\n",
       "#sk-container-id-1 div.sk-estimator.fitted {\n",
       "  /* fitted */\n",
       "  background-color: var(--sklearn-color-fitted-level-0);\n",
       "}\n",
       "\n",
       "/* on hover */\n",
       "#sk-container-id-1 div.sk-estimator:hover {\n",
       "  /* unfitted */\n",
       "  background-color: var(--sklearn-color-unfitted-level-2);\n",
       "}\n",
       "\n",
       "#sk-container-id-1 div.sk-estimator.fitted:hover {\n",
       "  /* fitted */\n",
       "  background-color: var(--sklearn-color-fitted-level-2);\n",
       "}\n",
       "\n",
       "/* Specification for estimator info (e.g. \"i\" and \"?\") */\n",
       "\n",
       "/* Common style for \"i\" and \"?\" */\n",
       "\n",
       ".sk-estimator-doc-link,\n",
       "a:link.sk-estimator-doc-link,\n",
       "a:visited.sk-estimator-doc-link {\n",
       "  float: right;\n",
       "  font-size: smaller;\n",
       "  line-height: 1em;\n",
       "  font-family: monospace;\n",
       "  background-color: var(--sklearn-color-background);\n",
       "  border-radius: 1em;\n",
       "  height: 1em;\n",
       "  width: 1em;\n",
       "  text-decoration: none !important;\n",
       "  margin-left: 1ex;\n",
       "  /* unfitted */\n",
       "  border: var(--sklearn-color-unfitted-level-1) 1pt solid;\n",
       "  color: var(--sklearn-color-unfitted-level-1);\n",
       "}\n",
       "\n",
       ".sk-estimator-doc-link.fitted,\n",
       "a:link.sk-estimator-doc-link.fitted,\n",
       "a:visited.sk-estimator-doc-link.fitted {\n",
       "  /* fitted */\n",
       "  border: var(--sklearn-color-fitted-level-1) 1pt solid;\n",
       "  color: var(--sklearn-color-fitted-level-1);\n",
       "}\n",
       "\n",
       "/* On hover */\n",
       "div.sk-estimator:hover .sk-estimator-doc-link:hover,\n",
       ".sk-estimator-doc-link:hover,\n",
       "div.sk-label-container:hover .sk-estimator-doc-link:hover,\n",
       ".sk-estimator-doc-link:hover {\n",
       "  /* unfitted */\n",
       "  background-color: var(--sklearn-color-unfitted-level-3);\n",
       "  color: var(--sklearn-color-background);\n",
       "  text-decoration: none;\n",
       "}\n",
       "\n",
       "div.sk-estimator.fitted:hover .sk-estimator-doc-link.fitted:hover,\n",
       ".sk-estimator-doc-link.fitted:hover,\n",
       "div.sk-label-container:hover .sk-estimator-doc-link.fitted:hover,\n",
       ".sk-estimator-doc-link.fitted:hover {\n",
       "  /* fitted */\n",
       "  background-color: var(--sklearn-color-fitted-level-3);\n",
       "  color: var(--sklearn-color-background);\n",
       "  text-decoration: none;\n",
       "}\n",
       "\n",
       "/* Span, style for the box shown on hovering the info icon */\n",
       ".sk-estimator-doc-link span {\n",
       "  display: none;\n",
       "  z-index: 9999;\n",
       "  position: relative;\n",
       "  font-weight: normal;\n",
       "  right: .2ex;\n",
       "  padding: .5ex;\n",
       "  margin: .5ex;\n",
       "  width: min-content;\n",
       "  min-width: 20ex;\n",
       "  max-width: 50ex;\n",
       "  color: var(--sklearn-color-text);\n",
       "  box-shadow: 2pt 2pt 4pt #999;\n",
       "  /* unfitted */\n",
       "  background: var(--sklearn-color-unfitted-level-0);\n",
       "  border: .5pt solid var(--sklearn-color-unfitted-level-3);\n",
       "}\n",
       "\n",
       ".sk-estimator-doc-link.fitted span {\n",
       "  /* fitted */\n",
       "  background: var(--sklearn-color-fitted-level-0);\n",
       "  border: var(--sklearn-color-fitted-level-3);\n",
       "}\n",
       "\n",
       ".sk-estimator-doc-link:hover span {\n",
       "  display: block;\n",
       "}\n",
       "\n",
       "/* \"?\"-specific style due to the `<a>` HTML tag */\n",
       "\n",
       "#sk-container-id-1 a.estimator_doc_link {\n",
       "  float: right;\n",
       "  font-size: 1rem;\n",
       "  line-height: 1em;\n",
       "  font-family: monospace;\n",
       "  background-color: var(--sklearn-color-background);\n",
       "  border-radius: 1rem;\n",
       "  height: 1rem;\n",
       "  width: 1rem;\n",
       "  text-decoration: none;\n",
       "  /* unfitted */\n",
       "  color: var(--sklearn-color-unfitted-level-1);\n",
       "  border: var(--sklearn-color-unfitted-level-1) 1pt solid;\n",
       "}\n",
       "\n",
       "#sk-container-id-1 a.estimator_doc_link.fitted {\n",
       "  /* fitted */\n",
       "  border: var(--sklearn-color-fitted-level-1) 1pt solid;\n",
       "  color: var(--sklearn-color-fitted-level-1);\n",
       "}\n",
       "\n",
       "/* On hover */\n",
       "#sk-container-id-1 a.estimator_doc_link:hover {\n",
       "  /* unfitted */\n",
       "  background-color: var(--sklearn-color-unfitted-level-3);\n",
       "  color: var(--sklearn-color-background);\n",
       "  text-decoration: none;\n",
       "}\n",
       "\n",
       "#sk-container-id-1 a.estimator_doc_link.fitted:hover {\n",
       "  /* fitted */\n",
       "  background-color: var(--sklearn-color-fitted-level-3);\n",
       "}\n",
       "</style><div id=\"sk-container-id-1\" class=\"sk-top-container\"><div class=\"sk-text-repr-fallback\"><pre>StandardScaler()</pre><b>In a Jupyter environment, please rerun this cell to show the HTML representation or trust the notebook. <br />On GitHub, the HTML representation is unable to render, please try loading this page with nbviewer.org.</b></div><div class=\"sk-container\" hidden><div class=\"sk-item\"><div class=\"sk-estimator fitted sk-toggleable\"><input class=\"sk-toggleable__control sk-hidden--visually\" id=\"sk-estimator-id-1\" type=\"checkbox\" checked><label for=\"sk-estimator-id-1\" class=\"sk-toggleable__label fitted sk-toggleable__label-arrow fitted\">&nbsp;&nbsp;StandardScaler<a class=\"sk-estimator-doc-link fitted\" rel=\"noreferrer\" target=\"_blank\" href=\"https://scikit-learn.org/1.5/modules/generated/sklearn.preprocessing.StandardScaler.html\">?<span>Documentation for StandardScaler</span></a><span class=\"sk-estimator-doc-link fitted\">i<span>Fitted</span></span></label><div class=\"sk-toggleable__content fitted\"><pre>StandardScaler()</pre></div> </div></div></div></div>"
      ],
      "text/plain": [
       "StandardScaler()"
      ]
     },
     "execution_count": 39,
     "metadata": {},
     "output_type": "execute_result"
    }
   ],
   "source": [
    "# StandardScaler\n",
    "transformer = StandardScaler().fit(df_scale)\n",
    "transformer"
   ]
  },
  {
   "cell_type": "code",
   "execution_count": 40,
   "id": "a70357ef-0c20-4d10-87fc-eb64362ee458",
   "metadata": {},
   "outputs": [],
   "source": [
    "trans_arr = transformer.transform(df_scale)\n",
    "# Extract the columns of the DataFrame\n",
    "df_scale_columns = df_scale.columns\n",
    "\n",
    "# Re-Construct the DataFrame with the scaled information\n",
    "df_scaled = pl.DataFrame(trans_arr , schema=df_scale_columns)"
   ]
  },
  {
   "cell_type": "markdown",
   "id": "52451e42-eccc-4a5c-9c9c-3259a1119925",
   "metadata": {},
   "source": [
    "## Feature Scaling for Target Variable 1 & Target Variable 2 (Path 2)"
   ]
  },
  {
   "cell_type": "code",
   "execution_count": 41,
   "id": "173e6943-3224-4aa4-b26f-bbf907cc6b05",
   "metadata": {},
   "outputs": [],
   "source": [
    "# Fit the RobusScaler to TARGET VARIABLE 1\n",
    "trans_tv_df = RobustScaler().fit_transform(df_targ_1)\n",
    "# Extract the columns of the DataFrame\n",
    "df_scale_tv_columns = df_scale.columns\n",
    "# Re-Construct the DataFrame with the scaled information\n",
    "df_targ_1 = pl.DataFrame(trans_tv_df , schema=df_scale_tv_columns)\n",
    "\n",
    "\n",
    "\n",
    "# Fit the RobusScaler to TARGET VARIABLE 2\n",
    "trans_tv_df = RobustScaler().fit_transform(df_targ_2)\n",
    "# Extract the columns of the DataFrame\n",
    "df_scale_tv_columns = df_scale.columns\n",
    "# Re-Construct the DataFrame with the scaled information\n",
    "df_targ_2 = pl.DataFrame(trans_tv_df , schema=df_scale_tv_columns)"
   ]
  },
  {
   "cell_type": "markdown",
   "id": "b02dc0e8-206c-48a6-bbc8-4b73a26cb32f",
   "metadata": {},
   "source": [
    "##### Construct 2 different dataframes:\n",
    "    - df_target_var_1\n",
    "    - df_target_var_2"
   ]
  },
  {
   "cell_type": "code",
   "execution_count": 42,
   "id": "5fa77ec2-96cb-464d-92a1-3edb2fcc87a1",
   "metadata": {},
   "outputs": [],
   "source": [
    "# create feature df_target_variable_var_1\n",
    "df_target_variable_var_1 = df_targ_1.drop(['inter_all'])\n",
    "# df_target_variable_var_2\n",
    "df_target_variable_var_2 = df_targ_2.drop(['suspicion_neg_consequences'])"
   ]
  },
  {
   "cell_type": "markdown",
   "id": "ec3610ee-e9f3-4635-b9dc-48366d03680f",
   "metadata": {},
   "source": [
    "## 13. Feature Selection (Path 2)"
   ]
  },
  {
   "cell_type": "markdown",
   "id": "d566e08e-cbd9-4f87-b285-a70bbe677fbf",
   "metadata": {},
   "source": [
    "##### ANOVA - target variable 1"
   ]
  },
  {
   "cell_type": "code",
   "execution_count": 43,
   "id": "1e003d0f-3d96-481f-996e-d5abdc9f4640",
   "metadata": {},
   "outputs": [
    {
     "data": {
      "text/html": [
       "<div><style>\n",
       ".dataframe > thead > tr,\n",
       ".dataframe > tbody > tr {\n",
       "  text-align: right;\n",
       "  white-space: pre-wrap;\n",
       "}\n",
       "</style>\n",
       "<small>shape: (5, 3)</small><table border=\"1\" class=\"dataframe\"><thead><tr><th>features</th><th>Scores</th><th>p-values</th></tr><tr><td>str</td><td>f64</td><td>f64</td></tr></thead><tbody><tr><td>&quot;neg_consequences_discussing_mh&quot;</td><td>46.983104</td><td>3.5235e-72</td></tr><tr><td>&quot;comf_discussing_mnh_with_super…</td><td>21.291969</td><td>1.5919e-33</td></tr><tr><td>&quot;sick_leave_difficulty&quot;</td><td>15.987992</td><td>7.2505e-25</td></tr><tr><td>&quot;willing_discuss_mh_in_hiring_i…</td><td>13.573388</td><td>7.3404e-21</td></tr><tr><td>&quot;comf_discussing_mh_with_cowork…</td><td>12.851657</td><td>1.1717e-19</td></tr></tbody></table></div>"
      ],
      "text/plain": [
       "shape: (5, 3)\n",
       "┌─────────────────────────────────┬───────────┬────────────┐\n",
       "│ features                        ┆ Scores    ┆ p-values   │\n",
       "│ ---                             ┆ ---       ┆ ---        │\n",
       "│ str                             ┆ f64       ┆ f64        │\n",
       "╞═════════════════════════════════╪═══════════╪════════════╡\n",
       "│ neg_consequences_discussing_mh  ┆ 46.983104 ┆ 3.5235e-72 │\n",
       "│ comf_discussing_mnh_with_super… ┆ 21.291969 ┆ 1.5919e-33 │\n",
       "│ sick_leave_difficulty           ┆ 15.987992 ┆ 7.2505e-25 │\n",
       "│ willing_discuss_mh_in_hiring_i… ┆ 13.573388 ┆ 7.3404e-21 │\n",
       "│ comf_discussing_mh_with_cowork… ┆ 12.851657 ┆ 1.1717e-19 │\n",
       "└─────────────────────────────────┴───────────┴────────────┘"
      ]
     },
     "execution_count": 43,
     "metadata": {},
     "output_type": "execute_result"
    }
   ],
   "source": [
    "# Get the feature names\n",
    "feature_names = df_target_variable_var_1.columns\n",
    "\n",
    "# Construct the selecotr\n",
    "selector = SelectKBest(score_func=f_classif, k=2)\n",
    "\n",
    "# Fit the selector and transform the DataFrame so that only the K selected features are left according to Anova\n",
    "df_mh_exist_anov = selector.fit_transform(df_target_variable_var_1, df_targ_1.select('inter_all').to_series())\n",
    "\n",
    "# Results\n",
    "df_anova_t_1 = pl.DataFrame({'features': feature_names, 'Scores': selector.scores_, 'p-values': selector.pvalues_}).sort('Scores', descending=True)\n",
    "df_anova_t_1.head()"
   ]
  },
  {
   "cell_type": "markdown",
   "id": "bd4ebf91-f5c3-484c-a28c-4e40191b7ead",
   "metadata": {},
   "source": [
    "##### ANOVA - target variable 2"
   ]
  },
  {
   "cell_type": "code",
   "execution_count": 44,
   "id": "70513110-2320-458f-989b-374be496c3bd",
   "metadata": {},
   "outputs": [
    {
     "data": {
      "text/html": [
       "<div><style>\n",
       ".dataframe > thead > tr,\n",
       ".dataframe > tbody > tr {\n",
       "  text-align: right;\n",
       "  white-space: pre-wrap;\n",
       "}\n",
       "</style>\n",
       "<small>shape: (5, 3)</small><table border=\"1\" class=\"dataframe\"><thead><tr><th>features</th><th>Scores</th><th>p-values</th></tr><tr><td>str</td><td>f64</td><td>f64</td></tr></thead><tbody><tr><td>&quot;perceived_neg_impact_coworker_…</td><td>1675.972847</td><td>2.3171e-226</td></tr><tr><td>&quot;neg_consequences_discussing_mh&quot;</td><td>817.081115</td><td>4.7255e-136</td></tr><tr><td>&quot;percevied_neg_impact_carreer_o…</td><td>329.089775</td><td>7.7510e-65</td></tr><tr><td>&quot;comf_discussing_mnh_with_super…</td><td>229.044937</td><td>2.6525e-47</td></tr><tr><td>&quot;sick_leave_difficulty&quot;</td><td>193.005414</td><td>1.1540e-40</td></tr></tbody></table></div>"
      ],
      "text/plain": [
       "shape: (5, 3)\n",
       "┌─────────────────────────────────┬─────────────┬─────────────┐\n",
       "│ features                        ┆ Scores      ┆ p-values    │\n",
       "│ ---                             ┆ ---         ┆ ---         │\n",
       "│ str                             ┆ f64         ┆ f64         │\n",
       "╞═════════════════════════════════╪═════════════╪═════════════╡\n",
       "│ perceived_neg_impact_coworker_… ┆ 1675.972847 ┆ 2.3171e-226 │\n",
       "│ neg_consequences_discussing_mh  ┆ 817.081115  ┆ 4.7255e-136 │\n",
       "│ percevied_neg_impact_carreer_o… ┆ 329.089775  ┆ 7.7510e-65  │\n",
       "│ comf_discussing_mnh_with_super… ┆ 229.044937  ┆ 2.6525e-47  │\n",
       "│ sick_leave_difficulty           ┆ 193.005414  ┆ 1.1540e-40  │\n",
       "└─────────────────────────────────┴─────────────┴─────────────┘"
      ]
     },
     "execution_count": 44,
     "metadata": {},
     "output_type": "execute_result"
    }
   ],
   "source": [
    "# Get the feature names\n",
    "feature_names = df_target_variable_var_2.columns\n",
    "\n",
    "# Construct the selecotr\n",
    "selector = SelectKBest(score_func=f_classif, k=2)\n",
    "\n",
    "# Fit the selector and transform the DataFrame so that only the K selected features are left according to Anova\n",
    "df_mh_exist_anov = selector.fit_transform(df_target_variable_var_2, df_targ_2.select('suspicion_neg_consequences').to_series())\n",
    "\n",
    "# Results\n",
    "df_anova_t_2 = pl.DataFrame({'features': feature_names, 'Scores': selector.scores_, 'p-values': selector.pvalues_}).sort('Scores', descending=True)\n",
    "df_anova_t_2.head()"
   ]
  },
  {
   "cell_type": "markdown",
   "id": "7834ba74-33fc-46fd-8b08-15474af4a83f",
   "metadata": {},
   "source": [
    "## 14. K-Means Clustering (Path 1)"
   ]
  },
  {
   "cell_type": "markdown",
   "id": "8c474331-7e4d-4242-acca-29979c2724b3",
   "metadata": {},
   "source": [
    "### Principal Component Analysis"
   ]
  },
  {
   "cell_type": "code",
   "execution_count": 45,
   "id": "c7848b57-839f-4478-92ab-0695e61a44e6",
   "metadata": {},
   "outputs": [
    {
     "data": {
      "text/html": [
       "<div><style>\n",
       ".dataframe > thead > tr,\n",
       ".dataframe > tbody > tr {\n",
       "  text-align: right;\n",
       "  white-space: pre-wrap;\n",
       "}\n",
       "</style>\n",
       "<small>shape: (5, 2)</small><table border=\"1\" class=\"dataframe\"><thead><tr><th>PCA1</th><th>PCA2</th></tr><tr><td>f64</td><td>f64</td></tr></thead><tbody><tr><td>0.505473</td><td>-1.470299</td></tr><tr><td>2.309651</td><td>2.924276</td></tr><tr><td>-0.789315</td><td>-2.319652</td></tr><tr><td>1.702031</td><td>2.996225</td></tr><tr><td>1.40948</td><td>0.15998</td></tr></tbody></table></div>"
      ],
      "text/plain": [
       "shape: (5, 2)\n",
       "┌───────────┬───────────┐\n",
       "│ PCA1      ┆ PCA2      │\n",
       "│ ---       ┆ ---       │\n",
       "│ f64       ┆ f64       │\n",
       "╞═══════════╪═══════════╡\n",
       "│ 0.505473  ┆ -1.470299 │\n",
       "│ 2.309651  ┆ 2.924276  │\n",
       "│ -0.789315 ┆ -2.319652 │\n",
       "│ 1.702031  ┆ 2.996225  │\n",
       "│ 1.40948   ┆ 0.15998   │\n",
       "└───────────┴───────────┘"
      ]
     },
     "execution_count": 45,
     "metadata": {},
     "output_type": "execute_result"
    }
   ],
   "source": [
    "# Apply PCA\n",
    "pca = PCA(n_components=2)\n",
    "X_pca = pca.fit_transform(df_scaled)\n",
    "df_x_pca = pl.DataFrame(X_pca , schema= ['PCA1' , 'PCA2' ])\n",
    "df_x_pca.head()"
   ]
  },
  {
   "cell_type": "code",
   "execution_count": 46,
   "id": "d98b53f9-fe5d-4044-be99-f2ecf5428749",
   "metadata": {},
   "outputs": [
    {
     "name": "stdout",
     "output_type": "stream",
     "text": [
      "[0.13829601 0.09967743]\n"
     ]
    }
   ],
   "source": [
    "# Explain Variance of PCAs\n",
    "explained_variance = pca.explained_variance_ratio_\n",
    "print(explained_variance)"
   ]
  },
  {
   "cell_type": "code",
   "execution_count": 47,
   "id": "16c82dfa-5f7b-46fb-8616-966e2cee7409",
   "metadata": {},
   "outputs": [
    {
     "data": {
      "text/html": [
       "<div><style>\n",
       ".dataframe > thead > tr,\n",
       ".dataframe > tbody > tr {\n",
       "  text-align: right;\n",
       "  white-space: pre-wrap;\n",
       "}\n",
       "</style>\n",
       "<small>shape: (5, 3)</small><table border=\"1\" class=\"dataframe\"><thead><tr><th>index</th><th>PCA1</th><th>PCA2</th></tr><tr><td>str</td><td>f64</td><td>f64</td></tr></thead><tbody><tr><td>&quot;prev_employers&quot;</td><td>0.344497</td><td>-0.092846</td></tr><tr><td>&quot;mh_discussion_indic_prev_emplo…</td><td>0.308612</td><td>-0.075811</td></tr><tr><td>&quot;mh_resources_availability_indi…</td><td>0.30618</td><td>-0.118125</td></tr><tr><td>&quot;comf_discussing_mnh_with_super…</td><td>0.29935</td><td>-0.044143</td></tr><tr><td>&quot;comf_discussing_mh_with_cowork…</td><td>0.296026</td><td>-0.062366</td></tr></tbody></table></div>"
      ],
      "text/plain": [
       "shape: (5, 3)\n",
       "┌─────────────────────────────────┬──────────┬───────────┐\n",
       "│ index                           ┆ PCA1     ┆ PCA2      │\n",
       "│ ---                             ┆ ---      ┆ ---       │\n",
       "│ str                             ┆ f64      ┆ f64       │\n",
       "╞═════════════════════════════════╪══════════╪═══════════╡\n",
       "│ prev_employers                  ┆ 0.344497 ┆ -0.092846 │\n",
       "│ mh_discussion_indic_prev_emplo… ┆ 0.308612 ┆ -0.075811 │\n",
       "│ mh_resources_availability_indi… ┆ 0.30618  ┆ -0.118125 │\n",
       "│ comf_discussing_mnh_with_super… ┆ 0.29935  ┆ -0.044143 │\n",
       "│ comf_discussing_mh_with_cowork… ┆ 0.296026 ┆ -0.062366 │\n",
       "└─────────────────────────────────┴──────────┴───────────┘"
      ]
     },
     "execution_count": 47,
     "metadata": {},
     "output_type": "execute_result"
    }
   ],
   "source": [
    "# Show the loadings of PCAs\n",
    "loadings = pca.components_\n",
    "loadings_df = pl.DataFrame(loadings.T, \n",
    "                           schema=['PCA1', 'PCA2']).select(pl.Series(df_scaled.columns).alias('index') ,pl.all()).sort('PCA1' , descending=True)\n",
    "\n",
    "load_pca_1 = loadings_df.select(['index' , 'PCA1']).sort('PCA1' , descending=True)\n",
    "load_pca_2 = loadings_df.select(['index','PCA2']).sort('PCA2' , descending=True)\n",
    "\n",
    "loadings_df.head()"
   ]
  },
  {
   "cell_type": "markdown",
   "id": "f90b3df1-85f8-45e0-a20d-4c65ebac50e2",
   "metadata": {},
   "source": [
    "#### KMeans for PCA"
   ]
  },
  {
   "cell_type": "markdown",
   "id": "6defd27c-9517-4403-9850-14b34c3ea26b",
   "metadata": {},
   "source": [
    "##### Apply Elbow Method to find ideal K"
   ]
  },
  {
   "cell_type": "code",
   "execution_count": 48,
   "id": "f6536027-1645-4966-a74a-ec42fb7f1441",
   "metadata": {},
   "outputs": [
    {
     "data": {
      "image/png": "[encoded data removed]",
      "text/plain": [
       "<Figure size 800x550 with 2 Axes>"
      ]
     },
     "metadata": {},
     "output_type": "display_data"
    },
    {
     "data": {
      "text/plain": [
       "<Axes: title={'center': 'Distortion Score Elbow for KMeans Clustering'}, xlabel='k', ylabel='distortion score'>"
      ]
     },
     "execution_count": 48,
     "metadata": {},
     "output_type": "execute_result"
    }
   ],
   "source": [
    "model = KMeans()\n",
    "visualizer = KElbowVisualizer(model, k=(1,10))\n",
    "visualizer.fit(df_x_pca.to_pandas())\n",
    "visualizer.show()"
   ]
  },
  {
   "cell_type": "code",
   "execution_count": 49,
   "id": "651ffdc5-a39c-4ebe-8cba-70f72ce2af28",
   "metadata": {},
   "outputs": [],
   "source": [
    "# Fit K-Means Clustering to the training data\n",
    "kmeans = KMeans(n_clusters=3, random_state=0, n_init=\"auto\").fit(df_x_pca)"
   ]
  },
  {
   "cell_type": "code",
   "execution_count": 50,
   "id": "5a269a6f-4717-4f12-a26a-6787fad8344c",
   "metadata": {},
   "outputs": [],
   "source": [
    "# Labels\n",
    "labels = kmeans.labels_"
   ]
  },
  {
   "cell_type": "code",
   "execution_count": 51,
   "id": "80059827-e709-406d-88d4-bdb9899ead12",
   "metadata": {},
   "outputs": [],
   "source": [
    "# Make a prediction on the trained K-Means algorithn\n",
    "prediction_kmean = kmeans.predict(df_x_pca)"
   ]
  },
  {
   "cell_type": "code",
   "execution_count": 52,
   "id": "d9f413b1-b460-47a7-8dec-d432a5f75458",
   "metadata": {},
   "outputs": [],
   "source": [
    "# Construct a DataFrame with the clusters\n",
    "pl_df = pl.DataFrame({'clusters' : prediction_kmean})\n",
    "testing_data_with_clusters = pl.concat([pl_df , df_x_pca], how=\"horizontal\")"
   ]
  },
  {
   "cell_type": "code",
   "execution_count": 53,
   "id": "cf8c48a9-237a-4a87-8d82-9ea7046ef265",
   "metadata": {},
   "outputs": [
    {
     "data": {
      "text/html": [
       "<div><style>\n",
       ".dataframe > thead > tr,\n",
       ".dataframe > tbody > tr {\n",
       "  text-align: right;\n",
       "  white-space: pre-wrap;\n",
       "}\n",
       "</style>\n",
       "<small>shape: (5, 3)</small><table border=\"1\" class=\"dataframe\"><thead><tr><th>clusters</th><th>PCA1</th><th>PCA2</th></tr><tr><td>i32</td><td>f64</td><td>f64</td></tr></thead><tbody><tr><td>1</td><td>0.505473</td><td>-1.470299</td></tr><tr><td>2</td><td>2.309651</td><td>2.924276</td></tr><tr><td>1</td><td>-0.789315</td><td>-2.319652</td></tr><tr><td>2</td><td>1.702031</td><td>2.996225</td></tr><tr><td>2</td><td>1.40948</td><td>0.15998</td></tr></tbody></table></div>"
      ],
      "text/plain": [
       "shape: (5, 3)\n",
       "┌──────────┬───────────┬───────────┐\n",
       "│ clusters ┆ PCA1      ┆ PCA2      │\n",
       "│ ---      ┆ ---       ┆ ---       │\n",
       "│ i32      ┆ f64       ┆ f64       │\n",
       "╞══════════╪═══════════╪═══════════╡\n",
       "│ 1        ┆ 0.505473  ┆ -1.470299 │\n",
       "│ 2        ┆ 2.309651  ┆ 2.924276  │\n",
       "│ 1        ┆ -0.789315 ┆ -2.319652 │\n",
       "│ 2        ┆ 1.702031  ┆ 2.996225  │\n",
       "│ 2        ┆ 1.40948   ┆ 0.15998   │\n",
       "└──────────┴───────────┴───────────┘"
      ]
     },
     "execution_count": 53,
     "metadata": {},
     "output_type": "execute_result"
    }
   ],
   "source": [
    "testing_data_with_clusters.head()"
   ]
  },
  {
   "cell_type": "code",
   "execution_count": 54,
   "id": "9e774df1-3f45-4a09-8d5c-4a14cb466b56",
   "metadata": {},
   "outputs": [
    {
     "data": {
      "text/plain": [
       "array([[-7.16119801,  1.39107396],\n",
       "       [ 0.34550542, -2.35984555],\n",
       "       [ 1.43333679,  1.73832583]])"
      ]
     },
     "execution_count": 54,
     "metadata": {},
     "output_type": "execute_result"
    }
   ],
   "source": [
    "# Show the centers of clusters\n",
    "kmeans.cluster_centers_"
   ]
  },
  {
   "cell_type": "markdown",
   "id": "e1dcd232-086a-4ffa-9175-275da5228ffa",
   "metadata": {},
   "source": [
    "##### Visualize the clusters"
   ]
  },
  {
   "cell_type": "code",
   "execution_count": 55,
   "id": "efcda7c2-c67b-4c0a-b507-d04f562c39c3",
   "metadata": {},
   "outputs": [
    {
     "data": {
      "image/png": "[encoded data removed]",
      "text/plain": [
       "<Figure size 568.236x500 with 6 Axes>"
      ]
     },
     "metadata": {},
     "output_type": "display_data"
    }
   ],
   "source": [
    "sns.pairplot(testing_data_with_clusters.to_pandas(), hue='clusters' , palette='viridis')\n",
    "plt.show()"
   ]
  },
  {
   "cell_type": "markdown",
   "id": "0c7d4e8b-d1fd-4fdc-82f5-062b1603f3b4",
   "metadata": {},
   "source": [
    "##### Silhouette Score"
   ]
  },
  {
   "cell_type": "code",
   "execution_count": 56,
   "id": "ca2ea567-5883-4d76-90d3-9f2f18e3005e",
   "metadata": {},
   "outputs": [
    {
     "name": "stdout",
     "output_type": "stream",
     "text": [
      "0.6191581066900445\n"
     ]
    }
   ],
   "source": [
    "silh_score = silhouette_score(df_x_pca, labels)\n",
    "print(silh_score)"
   ]
  }
 ],
 "metadata": {
  "kernelspec": {
   "display_name": "Python 3 (ipykernel)",
   "language": "python",
   "name": "python3"
  },
  "language_info": {
   "codemirror_mode": {
    "name": "ipython",
    "version": 3
   },
   "file_extension": ".py",
   "mimetype": "text/x-python",
   "name": "python",
   "nbconvert_exporter": "python",
   "pygments_lexer": "ipython3",
   "version": "3.10.14"
  }
 },
 "nbformat": 4,
 "nbformat_minor": 5
}
