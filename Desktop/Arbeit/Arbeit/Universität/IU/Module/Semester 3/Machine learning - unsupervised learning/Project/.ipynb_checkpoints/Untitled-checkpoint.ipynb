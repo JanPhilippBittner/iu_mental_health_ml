{
 "cells": [
  {
   "cell_type": "code",
   "execution_count": 3,
   "id": "4df66915-f400-4ed7-8439-56741e678b7e",
   "metadata": {},
   "outputs": [],
   "source": [
    "feat_cat_ordinal = ['comp_size' , 'sick_leave_difficulty' , 'availability_of_benefits' , 'availability_of_benefits_prev_employer' , 'mh_discussion_indic_prev_employer' \n",
    "                    , 'mh_resources_availability_indic_prev_employer' , 'anonym_use_benefit_indic_prev_employer' , 'neg_consequences_discussing_mh_prev_employer'\n",
    "                    , 'neg_consequences_discussing_ph_prev_employer' , 'comf_discussing_mh_with_coworker_prev_employer' , 'comf_discussing_mnh_with_supervisor_prev_employer'\n",
    "                    , 'employer_importance_mh_vs_ph_prev_employer' , 'known_neg_consequences_of_mh_prev_employer' , 'willingness_to_share_with_friend_family' , 'interference_mh_treated_with_work'\n",
    "                    , 'interference_mh_untreated_with_work' , 'remote']\n",
    "feat_cat_nominal = ['tech_comp_indic' , 'tech_role_indic' , 'awareness_of_benefits' , 'mh_discussion_indic' , 'mh_resources_availability_indic' \n",
    "                    , 'anonym_use_benefit_indic' , 'neg_consequences_discussing_mh' , 'neg_consequences_discussing_ph' , 'comf_discussing_mh_with_coworker_indic' , 'comf_discussing_mnh_with_supervisor_indic' \n",
    "                    , 'employer_importance_mh_vs_ph' ,'known_neg_consequences_of_mh' , 'prev_employers' , 'awareness_of_benefits_prev_employer' , 'willing_discuss_ph_in_hiring_interview'\n",
    "                    , 'willing_discuss_mh_in_hiring_interview' , 'percevied_neg_impact_carreer_of_mh' , 'perceived_neg_impact_coworker_opiniton_of_mh' , 'neg_response_to_mh' , \n",
    "                    'willingness_to_share_mh_after_observation' , 'mh_family_hist' , 'previous_mh' , 'current_mh' , 'diagnosis_professional' , 'used_therapy' , 'age' , 'gender' , 'country_residency'\n",
    "                    , 'usa_state_residency' , 'country_work' , 'usa_state_work'  ]\n",
    "\n",
    "feat_text = ['job_title']"
   ]
  },
  {
   "cell_type": "code",
   "execution_count": 17,
   "id": "06a1912a-50da-4063-bb2b-9b6c6f44a855",
   "metadata": {},
   "outputs": [
    {
     "name": "stdout",
     "output_type": "stream",
     "text": [
      "value\n",
      "nothing happens\n",
      "nothing happens\n",
      "nothing happens\n"
     ]
    }
   ],
   "source": [
    "constructed_list = ['willingness_to_share_mh_after_observation' , 1 ,2 ,3 ]\n",
    "\n",
    "def print_something():\n",
    "    for x in constructed_list:\n",
    "        if x not in feat_cat_ordinal and x not in feat_cat_nominal:\n",
    "            print('nothing happens')\n",
    "        else:\n",
    "            print('value found')\n",
    "\n",
    "print_something()"
   ]
  }
 ],
 "metadata": {
  "kernelspec": {
   "display_name": "Python 3 (ipykernel)",
   "language": "python",
   "name": "python3"
  },
  "language_info": {
   "codemirror_mode": {
    "name": "ipython",
    "version": 3
   },
   "file_extension": ".py",
   "mimetype": "text/x-python",
   "name": "python",
   "nbconvert_exporter": "python",
   "pygments_lexer": "ipython3",
   "version": "3.10.14"
  }
 },
 "nbformat": 4,
 "nbformat_minor": 5
}
