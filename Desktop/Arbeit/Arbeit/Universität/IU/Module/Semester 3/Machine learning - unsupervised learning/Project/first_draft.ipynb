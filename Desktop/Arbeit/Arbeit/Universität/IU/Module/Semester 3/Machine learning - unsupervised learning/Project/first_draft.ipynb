{
 "cells": [
  {
   "cell_type": "code",
   "execution_count": 1,
   "id": "6d0aa54f-ff1d-4155-8982-f81432ec0d6d",
   "metadata": {},
   "outputs": [],
   "source": [
    "# PS: maybe build in a little pie chart or such to have a look at diagnosed, vs perceived mental health of employees vs. self-employed\n",
    "# Graphics and diagrams ideas:\n",
    "        # Mentalhealth different locations\n",
    "        # Mental healt correlation of comp size\n",
    "        # mh correlation of different jobs\n",
    "        # mh correlation of openness via things liike the comfort to discuss mh, and the company showing intiative and Actual Mental health\n",
    "        # Bad experiences with mental health"
   ]
  },
  {
   "cell_type": "code",
   "execution_count": null,
   "id": "b7fd3319-7b7f-4609-bbcf-5015ff87e404",
   "metadata": {},
   "outputs": [],
   "source": [
    "# Possible Angles:\n",
    "    # Predicting mental health existenc:\n",
    "        # kinda failed as can be seen by ANOVA Test\n",
    "    #  How can we accomplish a culture of trust and openness, so what are the features that influence the following features:\n",
    "        # \"Do you think that discussing a mental health disorder with your employer would have negative consequences?\" : \"neg_consequences_discussing_mh\" ,\n",
    "        # \"Do you think that discussing a physical health issue with your employer would have negative consequences?\" : \"neg_consequences_discussing_ph\" ,\n",
    "        # For this we need to create a new feature perhaps and to check if people ever had any mental health issues at any given point so if people have been diagnoes, if they currently have a mental health issue\n",
    "        # or if they previously had a mental health issue\n",
    "        # Can be extended to:\n",
    "            #\"Would you feel comfortable discussing a mental health disorder with your coworkers?\" : \"comf_discussing_mh_with_coworker_indic\" ,\n",
    "            # \"Would you feel comfortable discussing a mental health disorder with your direct supervisor(s)?\" : \"comf_discussing_mnh_with_supervisor_indic\" ,\n",
    "    # What type of people have the feeling that their mental health issues (treated or untreated) are effecting their work and can we prevent this:\n",
    "        # The necessary features are:\n",
    "            # \"If you have a mental health issue, do you feel that it interferes with your work when being treated effectively?\" : \"interference_mh_treated_with_work\" ,\n",
    "            # \"If you have a mental health issue, do you feel that it interferes with your work when NOT being treated effectively?\" : \"interference_mh_untreated_with_work\" ,"
   ]
  },
  {
   "cell_type": "code",
   "execution_count": 2,
   "id": "bca79f0f-290b-4d60-acf0-25c9dfa59f05",
   "metadata": {},
   "outputs": [
    {
     "name": "stdout",
     "output_type": "stream",
     "text": [
      "(1433, 63)\n"
     ]
    }
   ],
   "source": [
    "import polars as pl\n",
    "import unicodedata\n",
    "import numpy as np\n",
    "import seaborn as sns\n",
    "import matplotlib.pyplot as plt\n",
    "from sklearn.preprocessing import OrdinalEncoder , TargetEncoder , RobustScaler\n",
    "from sklearn.cluster import KMeans\n",
    "from yellowbrick.cluster import KElbowVisualizer\n",
    "from sklearn.feature_selection import SelectKBest \n",
    "from sklearn.feature_selection import f_classif\n",
    "\n",
    "# Define the input CSV file and create a DataFrame\n",
    "csv = 'input.csv'\n",
    "df_csv = pl.read_csv(csv)\n",
    "\n",
    "# Get the shape of dataframe\n",
    "print(df_csv.shape)"
   ]
  },
  {
   "cell_type": "code",
   "execution_count": 3,
   "id": "0a6fe6e7-389b-401a-b85f-9274136e2dcc",
   "metadata": {},
   "outputs": [
    {
     "data": {
      "text/html": [
       "<div><style>\n",
       ".dataframe > thead > tr,\n",
       ".dataframe > tbody > tr {\n",
       "  text-align: right;\n",
       "  white-space: pre-wrap;\n",
       "}\n",
       "</style>\n",
       "<small>shape: (9, 64)</small><table border=\"1\" class=\"dataframe\"><thead><tr><th>statistic</th><th>Are you self-employed?</th><th>How many employees does your company or organization have?</th><th>Is your employer primarily a tech company/organization?</th><th>Is your primary role within your company related to tech/IT?</th><th>Does your employer provide mental health benefits as part of healthcare coverage?</th><th>Do you know the options for mental health care available under your employer-provided coverage?</th><th>Has your employer ever formally discussed mental health (for example, as part of a wellness campaign or other official communication)?</th><th>Does your employer offer resources to learn more about mental health concerns and options for seeking help?</th><th>Is your anonymity protected if you choose to take advantage of mental health or substance abuse treatment resources provided by your employer?</th><th>If a mental health issue prompted you to request a medical leave from work, asking for that leave would be:</th><th>Do you think that discussing a mental health disorder with your employer would have negative consequences?</th><th>Do you think that discussing a physical health issue with your employer would have negative consequences?</th><th>Would you feel comfortable discussing a mental health disorder with your coworkers?</th><th>Would you feel comfortable discussing a mental health disorder with your direct supervisor(s)?</th><th>Do you feel that your employer takes mental health as seriously as physical health?</th><th>Have you heard of or observed negative consequences for co-workers who have been open about mental health issues in your workplace?</th><th>Do you have medical coverage (private insurance or state-provided) which includes treatment of  mental health issues?</th><th>Do you know local or online resources to seek help for a mental health disorder?</th><th>If you have been diagnosed or treated for a mental health disorder, do you ever reveal this to clients or business contacts?</th><th>If you have revealed a mental health issue to a client or business contact, do you believe this has impacted you negatively?</th><th>If you have been diagnosed or treated for a mental health disorder, do you ever reveal this to coworkers or employees?</th><th>If you have revealed a mental health issue to a coworker or employee, do you believe this has impacted you negatively?</th><th>Do you believe your productivity is ever affected by a mental health issue?</th><th>If yes, what percentage of your work time (time performing primary or secondary job functions) is affected by a mental health issue?</th><th>Do you have previous employers?</th><th>Have your previous employers provided mental health benefits?</th><th>Were you aware of the options for mental health care provided by your previous employers?</th><th>Did your previous employers ever formally discuss mental health (as part of a wellness campaign or other official communication)?</th><th>Did your previous employers provide resources to learn more about mental health issues and how to seek help?</th><th>Was your anonymity protected if you chose to take advantage of mental health or substance abuse treatment resources with previous employers?</th><th>Do you think that discussing a mental health disorder with previous employers would have negative consequences?</th><th>Do you think that discussing a physical health issue with previous employers would have negative consequences?</th><th>Would you have been willing to discuss a mental health issue with your previous co-workers?</th><th>Would you have been willing to discuss a mental health issue with your direct supervisor(s)?</th><th>Did you feel that your previous employers took mental health as seriously as physical health?</th><th>Did you hear of or observe negative consequences for co-workers with mental health issues in your previous workplaces?</th><th>Would you be willing to bring up a physical health issue with a potential employer in an interview?</th><th>Why or why not?</th><th>Would you bring up a mental health issue with a potential employer in an interview?</th><th>Why or why not?_duplicated_0</th><th>Do you feel that being identified as a person with a mental health issue would hurt your career?</th><th>Do you think that team members/co-workers would view you more negatively if they knew you suffered from a mental health issue?</th><th>How willing would you be to share with friends and family that you have a mental illness?</th><th>Have you observed or experienced an unsupportive or badly handled response to a mental health issue in your current or previous workplace?</th><th>Have your observations of how another individual who discussed a mental health disorder made you less likely to reveal a mental health issue yourself in your current workplace?</th><th>Do you have a family history of mental illness?</th><th>Have you had a mental health disorder in the past?</th><th>Do you currently have a mental health disorder?</th><th>If yes, what condition(s) have you been diagnosed with?</th><th>If maybe, what condition(s) do you believe you have?</th><th>Have you been diagnosed with a mental health condition by a medical professional?</th><th>If so, what condition(s) were you diagnosed with?</th><th>Have you ever sought treatment for a mental health issue from a mental health professional?</th><th>If you have a mental health issue, do you feel that it interferes with your work when being treated effectively?</th><th>If you have a mental health issue, do you feel that it interferes with your work when NOT being treated effectively?</th><th>What is your age?</th><th>What is your gender?</th><th>What country do you live in?</th><th>What US state or territory do you live in?</th><th>What country do you work in?</th><th>What US state or territory do you work in?</th><th>Which of the following best describes your work position?</th><th>Do you work remotely?</th></tr><tr><td>str</td><td>f64</td><td>str</td><td>f64</td><td>f64</td><td>str</td><td>str</td><td>str</td><td>str</td><td>str</td><td>str</td><td>str</td><td>str</td><td>str</td><td>str</td><td>str</td><td>str</td><td>f64</td><td>str</td><td>str</td><td>str</td><td>str</td><td>str</td><td>str</td><td>str</td><td>f64</td><td>str</td><td>str</td><td>str</td><td>str</td><td>str</td><td>str</td><td>str</td><td>str</td><td>str</td><td>str</td><td>str</td><td>str</td><td>str</td><td>str</td><td>str</td><td>str</td><td>str</td><td>str</td><td>str</td><td>str</td><td>str</td><td>str</td><td>str</td><td>str</td><td>str</td><td>str</td><td>str</td><td>f64</td><td>str</td><td>str</td><td>f64</td><td>str</td><td>str</td><td>str</td><td>str</td><td>str</td><td>str</td><td>str</td></tr></thead><tbody><tr><td>&quot;count&quot;</td><td>1433.0</td><td>&quot;1146&quot;</td><td>1146.0</td><td>263.0</td><td>&quot;1146&quot;</td><td>&quot;1146&quot;</td><td>&quot;1146&quot;</td><td>&quot;1146&quot;</td><td>&quot;1146&quot;</td><td>&quot;1146&quot;</td><td>&quot;1146&quot;</td><td>&quot;1146&quot;</td><td>&quot;1146&quot;</td><td>&quot;1146&quot;</td><td>&quot;1146&quot;</td><td>&quot;1146&quot;</td><td>287.0</td><td>&quot;287&quot;</td><td>&quot;287&quot;</td><td>&quot;287&quot;</td><td>&quot;287&quot;</td><td>&quot;287&quot;</td><td>&quot;287&quot;</td><td>&quot;204&quot;</td><td>1433.0</td><td>&quot;1264&quot;</td><td>&quot;1264&quot;</td><td>&quot;1264&quot;</td><td>&quot;1264&quot;</td><td>&quot;1264&quot;</td><td>&quot;1264&quot;</td><td>&quot;1264&quot;</td><td>&quot;1264&quot;</td><td>&quot;1264&quot;</td><td>&quot;1264&quot;</td><td>&quot;1264&quot;</td><td>&quot;1433&quot;</td><td>&quot;1097&quot;</td><td>&quot;1433&quot;</td><td>&quot;1127&quot;</td><td>&quot;1433&quot;</td><td>&quot;1433&quot;</td><td>&quot;1433&quot;</td><td>&quot;1433&quot;</td><td>&quot;774&quot;</td><td>&quot;1433&quot;</td><td>&quot;1433&quot;</td><td>&quot;1433&quot;</td><td>&quot;568&quot;</td><td>&quot;322&quot;</td><td>&quot;1433&quot;</td><td>&quot;711&quot;</td><td>1433.0</td><td>&quot;1433&quot;</td><td>&quot;1433&quot;</td><td>1433.0</td><td>&quot;1432&quot;</td><td>&quot;1433&quot;</td><td>&quot;840&quot;</td><td>&quot;1433&quot;</td><td>&quot;851&quot;</td><td>&quot;1433&quot;</td><td>&quot;1433&quot;</td></tr><tr><td>&quot;null_count&quot;</td><td>0.0</td><td>&quot;287&quot;</td><td>287.0</td><td>1170.0</td><td>&quot;287&quot;</td><td>&quot;287&quot;</td><td>&quot;287&quot;</td><td>&quot;287&quot;</td><td>&quot;287&quot;</td><td>&quot;287&quot;</td><td>&quot;287&quot;</td><td>&quot;287&quot;</td><td>&quot;287&quot;</td><td>&quot;287&quot;</td><td>&quot;287&quot;</td><td>&quot;287&quot;</td><td>1146.0</td><td>&quot;1146&quot;</td><td>&quot;1146&quot;</td><td>&quot;1146&quot;</td><td>&quot;1146&quot;</td><td>&quot;1146&quot;</td><td>&quot;1146&quot;</td><td>&quot;1229&quot;</td><td>0.0</td><td>&quot;169&quot;</td><td>&quot;169&quot;</td><td>&quot;169&quot;</td><td>&quot;169&quot;</td><td>&quot;169&quot;</td><td>&quot;169&quot;</td><td>&quot;169&quot;</td><td>&quot;169&quot;</td><td>&quot;169&quot;</td><td>&quot;169&quot;</td><td>&quot;169&quot;</td><td>&quot;0&quot;</td><td>&quot;336&quot;</td><td>&quot;0&quot;</td><td>&quot;306&quot;</td><td>&quot;0&quot;</td><td>&quot;0&quot;</td><td>&quot;0&quot;</td><td>&quot;0&quot;</td><td>&quot;659&quot;</td><td>&quot;0&quot;</td><td>&quot;0&quot;</td><td>&quot;0&quot;</td><td>&quot;865&quot;</td><td>&quot;1111&quot;</td><td>&quot;0&quot;</td><td>&quot;722&quot;</td><td>0.0</td><td>&quot;0&quot;</td><td>&quot;0&quot;</td><td>0.0</td><td>&quot;1&quot;</td><td>&quot;0&quot;</td><td>&quot;593&quot;</td><td>&quot;0&quot;</td><td>&quot;582&quot;</td><td>&quot;0&quot;</td><td>&quot;0&quot;</td></tr><tr><td>&quot;mean&quot;</td><td>0.200279</td><td>null</td><td>0.770506</td><td>0.942966</td><td>null</td><td>null</td><td>null</td><td>null</td><td>null</td><td>null</td><td>null</td><td>null</td><td>null</td><td>null</td><td>null</td><td>null</td><td>0.644599</td><td>null</td><td>null</td><td>null</td><td>null</td><td>null</td><td>null</td><td>null</td><td>0.882066</td><td>null</td><td>null</td><td>null</td><td>null</td><td>null</td><td>null</td><td>null</td><td>null</td><td>null</td><td>null</td><td>null</td><td>null</td><td>null</td><td>null</td><td>null</td><td>null</td><td>null</td><td>null</td><td>null</td><td>null</td><td>null</td><td>null</td><td>null</td><td>null</td><td>null</td><td>null</td><td>null</td><td>0.585485</td><td>null</td><td>null</td><td>34.286113</td><td>null</td><td>null</td><td>null</td><td>null</td><td>null</td><td>null</td><td>null</td></tr><tr><td>&quot;std&quot;</td><td>0.400349</td><td>null</td><td>0.420691</td><td>0.23235</td><td>null</td><td>null</td><td>null</td><td>null</td><td>null</td><td>null</td><td>null</td><td>null</td><td>null</td><td>null</td><td>null</td><td>null</td><td>0.479471</td><td>null</td><td>null</td><td>null</td><td>null</td><td>null</td><td>null</td><td>null</td><td>0.322643</td><td>null</td><td>null</td><td>null</td><td>null</td><td>null</td><td>null</td><td>null</td><td>null</td><td>null</td><td>null</td><td>null</td><td>null</td><td>null</td><td>null</td><td>null</td><td>null</td><td>null</td><td>null</td><td>null</td><td>null</td><td>null</td><td>null</td><td>null</td><td>null</td><td>null</td><td>null</td><td>null</td><td>0.49281</td><td>null</td><td>null</td><td>11.290931</td><td>null</td><td>null</td><td>null</td><td>null</td><td>null</td><td>null</td><td>null</td></tr><tr><td>&quot;min&quot;</td><td>0.0</td><td>&quot;1-5&quot;</td><td>0.0</td><td>0.0</td><td>&quot;I don&#x27;t know&quot;</td><td>&quot;I am not sure&quot;</td><td>&quot;I don&#x27;t know&quot;</td><td>&quot;I don&#x27;t know&quot;</td><td>&quot;I don&#x27;t know&quot;</td><td>&quot;I don&#x27;t know&quot;</td><td>&quot;Maybe&quot;</td><td>&quot;Maybe&quot;</td><td>&quot;Maybe&quot;</td><td>&quot;Maybe&quot;</td><td>&quot;I don&#x27;t know&quot;</td><td>&quot;No&quot;</td><td>0.0</td><td>&quot;I know some&quot;</td><td>&quot;No, because it doesn&#x27;t matter&quot;</td><td>&quot;I&#x27;m not sure&quot;</td><td>&quot;No, because it doesn&#x27;t matter&quot;</td><td>&quot;I&#x27;m not sure&quot;</td><td>&quot;No&quot;</td><td>&quot;1-25%&quot;</td><td>0.0</td><td>&quot;I don&#x27;t know&quot;</td><td>&quot;I was aware of some&quot;</td><td>&quot;I don&#x27;t know&quot;</td><td>&quot;None did&quot;</td><td>&quot;I don&#x27;t know&quot;</td><td>&quot;I don&#x27;t know&quot;</td><td>&quot;None of them&quot;</td><td>&quot;No, at none of my previous emp…</td><td>&quot;I don&#x27;t know&quot;</td><td>&quot;I don&#x27;t know&quot;</td><td>&quot;None of them&quot;</td><td>&quot;Maybe&quot;</td><td>&quot; Don&#x27;t trust potential employe…</td><td>&quot;Maybe&quot;</td><td>&quot; I don&#x27;t want to poison the we…</td><td>&quot;Maybe&quot;</td><td>&quot;Maybe&quot;</td><td>&quot;Neutral&quot;</td><td>&quot;Maybe/Not sure&quot;</td><td>&quot;Maybe&quot;</td><td>&quot;I don&#x27;t know&quot;</td><td>&quot;Maybe&quot;</td><td>&quot;Maybe&quot;</td><td>&quot;Addictive Disorder&quot;</td><td>&quot;Addictive Disorder&quot;</td><td>&quot;No&quot;</td><td>&quot;ADD (w/o Hyperactivity)&quot;</td><td>0.0</td><td>&quot;Never&quot;</td><td>&quot;Never&quot;</td><td>3.0</td><td>&quot; Female&quot;</td><td>&quot;Afghanistan&quot;</td><td>&quot;Alabama&quot;</td><td>&quot;Afghanistan&quot;</td><td>&quot;Alabama&quot;</td><td>&quot;Back-end Developer&quot;</td><td>&quot;Always&quot;</td></tr><tr><td>&quot;25%&quot;</td><td>0.0</td><td>null</td><td>1.0</td><td>1.0</td><td>null</td><td>null</td><td>null</td><td>null</td><td>null</td><td>null</td><td>null</td><td>null</td><td>null</td><td>null</td><td>null</td><td>null</td><td>0.0</td><td>null</td><td>null</td><td>null</td><td>null</td><td>null</td><td>null</td><td>null</td><td>1.0</td><td>null</td><td>null</td><td>null</td><td>null</td><td>null</td><td>null</td><td>null</td><td>null</td><td>null</td><td>null</td><td>null</td><td>null</td><td>null</td><td>null</td><td>null</td><td>null</td><td>null</td><td>null</td><td>null</td><td>null</td><td>null</td><td>null</td><td>null</td><td>null</td><td>null</td><td>null</td><td>null</td><td>0.0</td><td>null</td><td>null</td><td>28.0</td><td>null</td><td>null</td><td>null</td><td>null</td><td>null</td><td>null</td><td>null</td></tr><tr><td>&quot;50%&quot;</td><td>0.0</td><td>null</td><td>1.0</td><td>1.0</td><td>null</td><td>null</td><td>null</td><td>null</td><td>null</td><td>null</td><td>null</td><td>null</td><td>null</td><td>null</td><td>null</td><td>null</td><td>1.0</td><td>null</td><td>null</td><td>null</td><td>null</td><td>null</td><td>null</td><td>null</td><td>1.0</td><td>null</td><td>null</td><td>null</td><td>null</td><td>null</td><td>null</td><td>null</td><td>null</td><td>null</td><td>null</td><td>null</td><td>null</td><td>null</td><td>null</td><td>null</td><td>null</td><td>null</td><td>null</td><td>null</td><td>null</td><td>null</td><td>null</td><td>null</td><td>null</td><td>null</td><td>null</td><td>null</td><td>1.0</td><td>null</td><td>null</td><td>33.0</td><td>null</td><td>null</td><td>null</td><td>null</td><td>null</td><td>null</td><td>null</td></tr><tr><td>&quot;75%&quot;</td><td>0.0</td><td>null</td><td>1.0</td><td>1.0</td><td>null</td><td>null</td><td>null</td><td>null</td><td>null</td><td>null</td><td>null</td><td>null</td><td>null</td><td>null</td><td>null</td><td>null</td><td>1.0</td><td>null</td><td>null</td><td>null</td><td>null</td><td>null</td><td>null</td><td>null</td><td>1.0</td><td>null</td><td>null</td><td>null</td><td>null</td><td>null</td><td>null</td><td>null</td><td>null</td><td>null</td><td>null</td><td>null</td><td>null</td><td>null</td><td>null</td><td>null</td><td>null</td><td>null</td><td>null</td><td>null</td><td>null</td><td>null</td><td>null</td><td>null</td><td>null</td><td>null</td><td>null</td><td>null</td><td>1.0</td><td>null</td><td>null</td><td>39.0</td><td>null</td><td>null</td><td>null</td><td>null</td><td>null</td><td>null</td><td>null</td></tr><tr><td>&quot;max&quot;</td><td>1.0</td><td>&quot;More than 1000&quot;</td><td>1.0</td><td>1.0</td><td>&quot;Yes&quot;</td><td>&quot;Yes&quot;</td><td>&quot;Yes&quot;</td><td>&quot;Yes&quot;</td><td>&quot;Yes&quot;</td><td>&quot;Very easy&quot;</td><td>&quot;Yes&quot;</td><td>&quot;Yes&quot;</td><td>&quot;Yes&quot;</td><td>&quot;Yes&quot;</td><td>&quot;Yes&quot;</td><td>&quot;Yes&quot;</td><td>1.0</td><td>&quot;Yes, I know several&quot;</td><td>&quot;Yes, always&quot;</td><td>&quot;Yes&quot;</td><td>&quot;Yes, always&quot;</td><td>&quot;Yes&quot;</td><td>&quot;Yes&quot;</td><td>&quot;76-100%&quot;</td><td>1.0</td><td>&quot;Yes, they all did&quot;</td><td>&quot;Yes, I was aware of all of the…</td><td>&quot;Yes, they all did&quot;</td><td>&quot;Yes, they all did&quot;</td><td>&quot;Yes, always&quot;</td><td>&quot;Yes, all of them&quot;</td><td>&quot;Yes, all of them&quot;</td><td>&quot;Yes, at all of my previous emp…</td><td>&quot;Yes, at all of my previous emp…</td><td>&quot;Yes, they all did&quot;</td><td>&quot;Yes, all of them&quot;</td><td>&quot;Yes&quot;</td><td>&quot;xxx&quot;</td><td>&quot;Yes&quot;</td><td>&quot;you never know who is intervie…</td><td>&quot;Yes, it has&quot;</td><td>&quot;Yes, they do&quot;</td><td>&quot;Very open&quot;</td><td>&quot;Yes, I observed&quot;</td><td>&quot;Yes&quot;</td><td>&quot;Yes&quot;</td><td>&quot;Yes&quot;</td><td>&quot;Yes&quot;</td><td>&quot;Traumatic Brain Injury&quot;</td><td>&quot;post-partum / anxiety&quot;</td><td>&quot;Yes&quot;</td><td>&quot;autism spectrum disorder&quot;</td><td>1.0</td><td>&quot;Sometimes&quot;</td><td>&quot;Sometimes&quot;</td><td>323.0</td><td>&quot;woman&quot;</td><td>&quot;Vietnam&quot;</td><td>&quot;Wisconsin&quot;</td><td>&quot;Vietnam&quot;</td><td>&quot;Wisconsin&quot;</td><td>&quot;Support|Sales|Designer&quot;</td><td>&quot;Sometimes&quot;</td></tr></tbody></table></div>"
      ],
      "text/plain": [
       "shape: (9, 64)\n",
       "┌────────────┬──────────────┬──────────────┬──────────────┬───┬──────────────┬─────────────┬─────────────┬─────────────┐\n",
       "│ statistic  ┆ Are you self ┆ How many     ┆ Is your      ┆ … ┆ What country ┆ What US     ┆ Which of    ┆ Do you work │\n",
       "│ ---        ┆ -employed?   ┆ employees    ┆ employer     ┆   ┆ do you work  ┆ state or    ┆ the         ┆ remotely?   │\n",
       "│ str        ┆ ---          ┆ does your c… ┆ primarily a  ┆   ┆ in?          ┆ territory   ┆ following   ┆ ---         │\n",
       "│            ┆ f64          ┆ ---          ┆ t…           ┆   ┆ ---          ┆ do …        ┆ best de…    ┆ str         │\n",
       "│            ┆              ┆ str          ┆ ---          ┆   ┆ str          ┆ ---         ┆ ---         ┆             │\n",
       "│            ┆              ┆              ┆ f64          ┆   ┆              ┆ str         ┆ str         ┆             │\n",
       "╞════════════╪══════════════╪══════════════╪══════════════╪═══╪══════════════╪═════════════╪═════════════╪═════════════╡\n",
       "│ count      ┆ 1433.0       ┆ 1146         ┆ 1146.0       ┆ … ┆ 1433         ┆ 851         ┆ 1433        ┆ 1433        │\n",
       "│ null_count ┆ 0.0          ┆ 287          ┆ 287.0        ┆ … ┆ 0            ┆ 582         ┆ 0           ┆ 0           │\n",
       "│ mean       ┆ 0.200279     ┆ null         ┆ 0.770506     ┆ … ┆ null         ┆ null        ┆ null        ┆ null        │\n",
       "│ std        ┆ 0.400349     ┆ null         ┆ 0.420691     ┆ … ┆ null         ┆ null        ┆ null        ┆ null        │\n",
       "│ min        ┆ 0.0          ┆ 1-5          ┆ 0.0          ┆ … ┆ Afghanistan  ┆ Alabama     ┆ Back-end    ┆ Always      │\n",
       "│            ┆              ┆              ┆              ┆   ┆              ┆             ┆ Developer   ┆             │\n",
       "│ 25%        ┆ 0.0          ┆ null         ┆ 1.0          ┆ … ┆ null         ┆ null        ┆ null        ┆ null        │\n",
       "│ 50%        ┆ 0.0          ┆ null         ┆ 1.0          ┆ … ┆ null         ┆ null        ┆ null        ┆ null        │\n",
       "│ 75%        ┆ 0.0          ┆ null         ┆ 1.0          ┆ … ┆ null         ┆ null        ┆ null        ┆ null        │\n",
       "│ max        ┆ 1.0          ┆ More than    ┆ 1.0          ┆ … ┆ Vietnam      ┆ Wisconsin   ┆ Support|Sal ┆ Sometimes   │\n",
       "│            ┆              ┆ 1000         ┆              ┆   ┆              ┆             ┆ es|Designer ┆             │\n",
       "└────────────┴──────────────┴──────────────┴──────────────┴───┴──────────────┴─────────────┴─────────────┴─────────────┘"
      ]
     },
     "execution_count": 3,
     "metadata": {},
     "output_type": "execute_result"
    }
   ],
   "source": [
    "# Get insights into Statistics. DF too large for useful information\n",
    "df_csv.describe()"
   ]
  },
  {
   "cell_type": "code",
   "execution_count": 4,
   "id": "8a433d65-baa2-41d4-9948-56f3afb14cf5",
   "metadata": {},
   "outputs": [
    {
     "name": "stdout",
     "output_type": "stream",
     "text": [
      "Rows: 1433\n",
      "Columns: 63\n",
      "$ Are you self-employed?                             <i64> 0, 0, 0, 1, 0, 0, 0, 0, 0, 1\n",
      "$ How many employees does your company or organizat… <str> '26-100', '6-25', '6-25', None, '6-25', 'More than 1000', '26-100', 'More than 1000', '26-100', None\n",
      "$ Is your employer primarily a tech company/organiz… <i64> 1, 1, 1, None, 0, 1, 1, 1, 0, None\n",
      "$ Is your primary role within your company related … <i64> None, None, None, None, 1, None, None, None, 1, None\n",
      "$ Does your employer provide mental health benefits… <str> 'Not eligible for coverage / N/A', 'No', 'No', None, 'Yes', 'Yes', \"I don't know\", 'Yes', \"I don't know\", None\n",
      "$ Do you know the options for mental health care av… <str> 'N/A', 'Yes', 'N/A', None, 'Yes', 'I am not sure', 'No', 'Yes', 'No', None\n",
      "$ Has your employer ever formally discussed mental … <str> 'No', 'Yes', 'No', None, 'No', 'No', 'No', 'No', 'No', None\n",
      "$ Does your employer offer resources to learn more … <str> 'No', 'Yes', 'No', None, 'No', 'Yes', 'No', 'Yes', 'No', None\n",
      "$ Is your anonymity protected if you choose to take… <str> \"I don't know\", 'Yes', \"I don't know\", None, 'No', 'Yes', \"I don't know\", 'Yes', \"I don't know\", None\n",
      "$ If a mental health issue prompted you to request … <str> 'Very easy', 'Somewhat easy', 'Neither easy nor difficult', None, 'Neither easy nor difficult', 'Somewhat easy', 'Somewhat easy', 'Very easy', 'Very difficult', None\n",
      "$ Do you think that discussing a mental health diso… <str> 'No', 'No', 'Maybe', None, 'Yes', 'Yes', 'No', 'No', 'Yes', None\n",
      "$ Do you think that discussing a physical health is… <str> 'No', 'No', 'No', None, 'Maybe', 'Yes', 'No', 'No', 'Yes', None\n",
      "$ Would you feel comfortable discussing a mental he… <str> 'Maybe', 'Maybe', 'Maybe', None, 'Maybe', 'Maybe', 'Maybe', 'Maybe', 'Yes', None\n",
      "$ Would you feel comfortable discussing a mental he… <str> 'Yes', 'Yes', 'Maybe', None, 'No', 'Yes', 'Yes', 'Yes', 'Maybe', None\n",
      "$ Do you feel that your employer takes mental healt… <str> \"I don't know\", 'Yes', \"I don't know\", None, 'No', 'No', 'Yes', \"I don't know\", 'No', None\n",
      "$ Have you heard of or observed negative consequenc… <str> 'No', 'No', 'No', None, 'No', 'Yes', 'No', 'No', 'No', None\n",
      "$ Do you have medical coverage (private insurance o… <i64> None, None, None, 1, None, None, None, None, None, 1\n",
      "$ Do you know local or online resources to seek hel… <str> None, None, None, 'Yes, I know several', None, None, None, None, None, 'I know some'\n",
      "$ If you have been diagnosed or treated for a menta… <str> None, None, None, 'Sometimes, if it comes up', None, None, None, None, None, \"No, because it doesn't matter\"\n",
      "$ If you have revealed a mental health issue to a c… <str> None, None, None, \"I'm not sure\", None, None, None, None, None, 'N/A'\n",
      "$ If you have been diagnosed or treated for a menta… <str> None, None, None, 'Sometimes, if it comes up', None, None, None, None, None, 'Sometimes, if it comes up'\n",
      "$ If you have revealed a mental health issue to a c… <str> None, None, None, \"I'm not sure\", None, None, None, None, None, 'No'\n",
      "$ Do you believe your productivity is ever affected… <str> None, None, None, 'Yes', None, None, None, None, None, 'Yes'\n",
      "$ If yes, what percentage of your work time (time p… <str> None, None, None, '1-25%', None, None, None, None, None, '1-25%'\n",
      "$ Do you have previous employers?                    <i64> 1, 1, 1, 1, 1, 1, 1, 1, 1, 1\n",
      "$ Have your previous employers provided mental heal… <str> 'No, none did', 'Yes, they all did', 'No, none did', 'Some did', \"I don't know\", 'No, none did', 'Some did', 'Some did', \"I don't know\", 'Some did'\n",
      "$ Were you aware of the options for mental health c… <str> 'N/A (not currently aware)', 'I was aware of some', 'N/A (not currently aware)', 'N/A (not currently aware)', 'N/A (not currently aware)', 'Yes, I was aware of all of them', 'I was aware of some', 'I was aware of some', 'N/A (not currently aware)', 'I was aware of some'\n",
      "$ Did your previous employers ever formally discuss… <str> \"I don't know\", 'None did', 'None did', 'None did', 'Some did', 'None did', 'None did', 'Some did', 'Some did', 'None did'\n",
      "$ Did your previous employers provide resources to … <str> 'None did', 'Some did', 'Some did', 'None did', 'None did', 'None did', 'Some did', 'Some did', 'None did', 'None did'\n",
      "$ Was your anonymity protected if you chose to take… <str> \"I don't know\", 'Yes, always', \"I don't know\", \"I don't know\", \"I don't know\", \"I don't know\", \"I don't know\", 'Sometimes', \"I don't know\", \"I don't know\"\n",
      "$ Do you think that discussing a mental health diso… <str> 'Some of them', 'None of them', \"I don't know\", 'Some of them', 'Some of them', 'Yes, all of them', 'None of them', 'Some of them', 'Yes, all of them', 'Some of them'\n",
      "$ Do you think that discussing a physical health is… <str> 'None of them', 'None of them', 'Some of them', 'Some of them', 'Some of them', 'Some of them', 'None of them', 'Some of them', 'Yes, all of them', 'Some of them'\n",
      "$ Would you have been willing to discuss a mental h… <str> 'Some of my previous employers', 'No, at none of my previous employers', 'Some of my previous employers', 'Some of my previous employers', 'No, at none of my previous employers', 'No, at none of my previous employers', 'Some of my previous employers', 'Some of my previous employers', 'No, at none of my previous employers', 'Some of my previous employers'\n",
      "$ Would you have been willing to discuss a mental h… <str> 'Some of my previous employers', 'Some of my previous employers', \"I don't know\", 'Some of my previous employers', 'Some of my previous employers', 'No, at none of my previous employers', 'Yes, at all of my previous employers', 'Some of my previous employers', 'No, at none of my previous employers', 'Some of my previous employers'\n",
      "$ Did you feel that your previous employers took me… <str> \"I don't know\", 'Some did', \"I don't know\", \"I don't know\", 'Some did', 'None did', 'Some did', 'Some did', 'None did', \"I don't know\"\n",
      "$ Did you hear of or observe negative consequences … <str> 'None of them', 'None of them', 'Some of them', 'Some of them', 'Some of them', 'Some of them', 'None of them', 'Some of them', 'None of them', 'None of them'\n",
      "$ Would you be willing to bring up a physical healt… <str> 'Maybe', 'Maybe', 'Yes', 'Yes', 'Maybe', 'Yes', 'Yes', 'No', 'Maybe', 'Yes'\n",
      "$ Why or why not?                                    <str> None, 'It would depend on the health issue. If there is a health issue that would not immediately affect my job performance, such as diabetes, I would not bring it up during the interview. If it was something more severe, such as narcolepsy, I might bring it up depending on how controlled it was.', 'They would provable need to know, to Judge if I can do my job or not. ', \"old back injury, doesn't cause me many issues but occasionally impacts my ability to work at desk \", 'Depending on the interview stage and whether I required an accommodation, I would', 'If it would potentially affect my ability to do the job or might require special equipment/etc then it would only be fair and honest.', 'I want to gauge their ability to support this issue.', \"I feel it's irrelevant.\", 'Makes me a less attractive candidate.', \"Generally speaking, and this isn't always the case, physical health issues don't carry the same stigma as mental ones.\"\n",
      "$ Would you bring up a mental health issue with a p… <str> 'Maybe', 'No', 'Yes', 'Maybe', 'No', 'Maybe', 'Yes', 'No', 'Maybe', 'Maybe'\n",
      "$ Why or why not?_duplicated_0                       <str> None, 'While mental health has become a more prominent issue recently, I feel like there is still a lot of stigma surrounding it. At this point, with our culture, I would not bring it up. I hope that within the next 20-30 years that stigma will be gone and it can be brought up safely in an interview.', 'Stigma, mainly. ', 'would not if I was not 100% sure that the disclosure would not affect my application', \"I don't know\", 'It would depend on the field & what I knew of the employer.', 'I want to gauge their ability to support, understand and empathize with my situation.', 'Same reason.', 'Only if I felt I required accommodation. Even then, reluctantly because it makes me a less attractive candidate.', 'It really depends on the person, the employer, and how comfortable I felt discussing the issue.'\n",
      "$ Do you feel that being identified as a person wit… <str> 'Maybe', \"No, I don't think it would\", 'Maybe', 'Yes, I think it would', 'Yes, I think it would', 'Yes, I think it would', 'Yes, I think it would', 'Maybe', 'Maybe', 'Maybe'\n",
      "$ Do you think that team members/co-workers would v… <str> \"No, I don't think they would\", \"No, I don't think they would\", 'Maybe', 'Maybe', 'Maybe', 'Maybe', \"No, I don't think they would\", 'Maybe', 'Yes, they do', \"No, I don't think they would\"\n",
      "$ How willing would you be to share with friends an… <str> 'Somewhat open', 'Somewhat open', 'Somewhat open', 'Neutral', 'Somewhat open', 'Somewhat open', 'Not applicable to me (I do not have a mental illness)', 'Somewhat open', 'Somewhat open', 'Very open'\n",
      "$ Have you observed or experienced an unsupportive … <str> 'No', 'No', 'Maybe/Not sure', 'No', 'Yes, I experienced', 'Yes, I experienced', 'No', 'Yes, I observed', 'Yes, I observed', 'No'\n",
      "$ Have your observations of how another individual … <str> None, None, 'Yes', None, 'Yes', 'No', None, 'Maybe', 'No', None\n",
      "$ Do you have a family history of mental illness?    <str> 'No', 'Yes', 'No', 'No', 'Yes', 'No', 'No', 'Yes', 'Yes', 'Yes'\n",
      "$ Have you had a mental health disorder in the past? <str> 'Yes', 'Yes', 'Maybe', 'Yes', 'Yes', 'No', 'No', 'Yes', 'Yes', 'Yes'\n",
      "$ Do you currently have a mental health disorder?    <str> 'No', 'Yes', 'No', 'Yes', 'Yes', 'Yes', 'No', 'Yes', 'Yes', 'Yes'\n",
      "$ If yes, what condition(s) have you been diagnosed… <str> None, 'Anxiety Disorder (Generalized, Social, Phobia, etc)|Mood Disorder (Depression, Bipolar Disorder, etc)', None, 'Anxiety Disorder (Generalized, Social, Phobia, etc)|Mood Disorder (Depression, Bipolar Disorder, etc)', 'Anxiety Disorder (Generalized, Social, Phobia, etc)|Stress Response Syndromes', 'Anxiety Disorder (Generalized, Social, Phobia, etc)|Stress Response Syndromes|Substance Use Disorder', None, 'Anxiety Disorder (Generalized, Social, Phobia, etc)|Substance Use Disorder', 'Mood Disorder (Depression, Bipolar Disorder, etc)', 'Anxiety Disorder (Generalized, Social, Phobia, etc)|Mood Disorder (Depression, Bipolar Disorder, etc)'\n",
      "$ If maybe, what condition(s) do you believe you ha… <str> None, None, None, None, None, None, None, None, None, None\n",
      "$ Have you been diagnosed with a mental health cond… <str> 'Yes', 'Yes', 'No', 'Yes', 'Yes', 'No', 'No', 'Yes', 'Yes', 'Yes'\n",
      "$ If so, what condition(s) were you diagnosed with?  <str> 'Anxiety Disorder (Generalized, Social, Phobia, etc)', 'Anxiety Disorder (Generalized, Social, Phobia, etc)|Mood Disorder (Depression, Bipolar Disorder, etc)', None, 'Anxiety Disorder (Generalized, Social, Phobia, etc)|Mood Disorder (Depression, Bipolar Disorder, etc)', 'Anxiety Disorder (Generalized, Social, Phobia, etc)', None, None, 'Anxiety Disorder (Generalized, Social, Phobia, etc)|Substance Use Disorder', 'Mood Disorder (Depression, Bipolar Disorder, etc)', 'Anxiety Disorder (Generalized, Social, Phobia, etc)|Mood Disorder (Depression, Bipolar Disorder, etc)'\n",
      "$ Have you ever sought treatment for a mental healt… <i64> 0, 1, 1, 1, 1, 1, 0, 1, 1, 1\n",
      "$ If you have a mental health issue, do you feel th… <str> 'Not applicable to me', 'Rarely', 'Not applicable to me', 'Sometimes', 'Sometimes', 'Not applicable to me', 'Not applicable to me', 'Sometimes', 'Rarely', 'Rarely'\n",
      "$ If you have a mental health issue, do you feel th… <str> 'Not applicable to me', 'Sometimes', 'Not applicable to me', 'Sometimes', 'Sometimes', 'Often', 'Not applicable to me', 'Often', 'Often', 'Often'\n",
      "$ What is your age?                                  <i64> 39, 29, 38, 43, 43, 42, 30, 37, 44, 30\n",
      "$ What is your gender?                               <str> 'Male', 'male', 'Male ', 'male', 'Female', 'Male', 'M', 'female', 'Female', 'Male'\n",
      "$ What country do you live in?                       <str> 'United Kingdom', 'United States of America', 'United Kingdom', 'United Kingdom', 'United States of America', 'United Kingdom', 'United States of America', 'United States of America', 'United States of America', 'United States of America'\n",
      "$ What US state or territory do you live in?         <str> None, 'Illinois', None, None, 'Illinois', None, 'Tennessee', 'Virginia', 'California', 'Kentucky'\n",
      "$ What country do you work in?                       <str> 'United Kingdom', 'United States of America', 'United Kingdom', 'United Kingdom', 'United States of America', 'United Kingdom', 'United States of America', 'United States of America', 'United States of America', 'United States of America'\n",
      "$ What US state or territory do you work in?         <str> None, 'Illinois', None, None, 'Illinois', None, 'Tennessee', 'Virginia', 'California', 'Kentucky'\n",
      "$ Which of the following best describes your work p… <str> 'Back-end Developer', 'Back-end Developer|Front-end Developer', 'Back-end Developer', 'Supervisor/Team Lead', 'Executive Leadership|Supervisor/Team Lead|Dev Evangelist/Advocate|DevOps/SysAdmin|Support|Back-end Developer|Front-end Developer', 'DevOps/SysAdmin|Support|Back-end Developer|Front-end Developer|Designer', 'Back-end Developer', 'Dev Evangelist/Advocate|Back-end Developer', 'Support|Back-end Developer|One-person shop', 'One-person shop|Front-end Developer|Back-end Developer'\n",
      "$ Do you work remotely?                              <str> 'Sometimes', 'Never', 'Always', 'Sometimes', 'Sometimes', 'Sometimes', 'Sometimes', 'Always', 'Sometimes', 'Always'\n",
      "\n"
     ]
    }
   ],
   "source": [
    "# First look at a couple of entries\n",
    "df_csv.glimpse(max_items_per_column=10)\n",
    "# Insights include: Some Categoricals are 0,1 even though it could be yes or no, some questions are for self-employed which can be dropped\n",
    "# Column names are hard to work with and need to be renamed\n",
    "# Lots of textual data, needs unicode normalization and natural language processing (?TF-IDF?)\n",
    "# Imputation necessary for Null values"
   ]
  },
  {
   "cell_type": "code",
   "execution_count": 5,
   "id": "06977c97-55af-42ac-b8a0-04fa5d7cb131",
   "metadata": {},
   "outputs": [
    {
     "data": {
      "text/html": [
       "<div><style>\n",
       ".dataframe > thead > tr,\n",
       ".dataframe > tbody > tr {\n",
       "  text-align: right;\n",
       "  white-space: pre-wrap;\n",
       "}\n",
       "</style>\n",
       "<small>shape: (840, 1)</small><table border=\"1\" class=\"dataframe\"><thead><tr><th>What country do you live in?</th></tr><tr><td>bool</td></tr></thead><tbody><tr><td>true</td></tr><tr><td>true</td></tr><tr><td>true</td></tr><tr><td>true</td></tr><tr><td>true</td></tr><tr><td>&hellip;</td></tr><tr><td>true</td></tr><tr><td>true</td></tr><tr><td>true</td></tr><tr><td>true</td></tr><tr><td>true</td></tr></tbody></table></div>"
      ],
      "text/plain": [
       "shape: (840, 1)\n",
       "┌──────────────────────────────┐\n",
       "│ What country do you live in? │\n",
       "│ ---                          │\n",
       "│ bool                         │\n",
       "╞══════════════════════════════╡\n",
       "│ true                         │\n",
       "│ true                         │\n",
       "│ true                         │\n",
       "│ true                         │\n",
       "│ true                         │\n",
       "│ …                            │\n",
       "│ true                         │\n",
       "│ true                         │\n",
       "│ true                         │\n",
       "│ true                         │\n",
       "│ true                         │\n",
       "└──────────────────────────────┘"
      ]
     },
     "execution_count": 5,
     "metadata": {},
     "output_type": "execute_result"
    }
   ],
   "source": [
    "# Investigate the amount of USA workers\n",
    "# 840 is 59%\n",
    "# Quick win could be visualization of which countires have the most diagnosis vs the most perceived mental health issues\n",
    "# More in depth could be which states have the most mental health issues\n",
    "# For this although you should investigate some percentages instead of absolute values because that could be tricky\n",
    "df_csv.select(pl.col(\"What country do you live in?\") == \"United States of America\").filter(pl.col(\"What country do you live in?\") == True)"
   ]
  },
  {
   "cell_type": "code",
   "execution_count": 6,
   "id": "f9cffb5d-d6da-49c4-9eff-a6ad570f9339",
   "metadata": {},
   "outputs": [],
   "source": [
    "# Unicode normalization to prevent major difficulties with any weird strings\n",
    "string_df = df_csv.select(pl.col(pl.String))\n",
    "\n",
    "df_normalized = df_csv.with_columns(\n",
    "    df_csv.select(pl.col(pl.String).map_elements(lambda x : unicodedata.normalize(\"NFD\" , str(x)) , return_dtype=pl.String))\n",
    ")\n",
    "\n",
    "df = df_normalized.with_columns(\n",
    "    df_normalized.select(pl.col(pl.String).map_elements(lambda x : unicodedata.normalize(\"NFC\" , str(x)) , return_dtype=pl.String))\n",
    ")"
   ]
  },
  {
   "cell_type": "code",
   "execution_count": 7,
   "id": "b016fcff-d8bd-4882-87f6-9e2a5a33d4ea",
   "metadata": {},
   "outputs": [],
   "source": [
    "# Here we rename the columns\n",
    "# Create a list of all column names to preserve the originals for later\n",
    "col_names = df.columns\n",
    "\n",
    "# Dictionary to rename columns\n",
    "new_names = { \"Are you self-employed?\" : \"self-employed_indic\" ,\n",
    "             \"How many employees does your company or organization have?\" : \"comp_size\" ,\n",
    "             \"Is your employer primarily a tech company/organization?\" : \"tech_comp_indic\" ,\n",
    "             \"Is your primary role within your company related to tech/IT?\" : \"tech_role_indic\",\n",
    "             \"Does your employer provide mental health benefits as part of healthcare coverage?\" : \"availability_of_benefits\" ,\n",
    "             \"Do you know the options for mental health care available under your employer-provided coverage?\" : \"awareness_of_benefits\" , \n",
    "             \"Has your employer ever formally discussed mental health (for example, as part of a wellness campaign or other official communication)?\" : \"mh_discussion_indic\" ,\n",
    "             \"Does your employer offer resources to learn more about mental health concerns and options for seeking help?\" : \"mh_resources_availability_indic\" ,\n",
    "             \"Is your anonymity protected if you choose to take advantage of mental health or substance abuse treatment resources provided by your employer?\" : \"anonym_use_benefit_indic\" ,\n",
    "             \"If a mental health issue prompted you to request a medical leave from work, asking for that leave would be:\" : \"sick_leave_difficulty\" ,\n",
    "             \"Do you think that discussing a mental health disorder with your employer would have negative consequences?\" : \"neg_consequences_discussing_mh\" ,\n",
    "             \"Do you think that discussing a physical health issue with your employer would have negative consequences?\" : \"neg_consequences_discussing_ph\" ,\n",
    "             \"Would you feel comfortable discussing a mental health disorder with your coworkers?\" : \"comf_discussing_mh_with_coworker_indic\" ,\n",
    "             \"Would you feel comfortable discussing a mental health disorder with your direct supervisor(s)?\" : \"comf_discussing_mnh_with_supervisor_indic\" ,\n",
    "             \"Do you feel that your employer takes mental health as seriously as physical health?\" : \"employer_importance_mh_vs_ph\" ,\n",
    "             \"Have you heard of or observed negative consequences for co-workers who have been open about mental health issues in your workplace?\" : \"known_neg_consequences_of_mh\" ,\n",
    "             \"Do you have medical coverage (private insurance or state-provided) which includes treatment of \\xa0mental health issues?\" : \"med_coverage_mh_indic\" ,\n",
    "             \"Do you know local or online resources to seek help for a mental health disorder?\" : \"known_mh_sources\" ,\n",
    "             \"If you have been diagnosed or treated for a mental health disorder, do you ever reveal this to clients or business contacts?\" : \"mention_mh_to_clients\" ,\n",
    "             \"If you have revealed a mental health issue to a client or business contact, do you believe this has impacted you negatively?\" : \"neg_impact_of_reveal_to_client_of_mh\" ,\n",
    "             \"If you have been diagnosed or treated for a mental health disorder, do you ever reveal this to coworkers or employees?\" : \"mention_mh_to_employees\" ,\n",
    "             \"If you have revealed a mental health issue to a coworker or employee, do you believe this has impacted you negatively?\" : \"neg_impact_of_reveal_to_employee_of_mh\" ,\n",
    "             \"Do you believe your productivity is ever affected by a mental health issue?\" : \"productivity_effect_of_mh\" ,\n",
    "             \"If yes, what percentage of your work time (time performing primary or secondary job functions) is affected by a mental health issue?\" : \"time_effect_of_mh\" ,\n",
    "             \"Do you have previous employers?\" : \"prev_employers\" ,\n",
    "             \"Have your previous employers provided mental health benefits?\" : \"availability_of_benefits_prev_employer\" , \n",
    "             \"Were you aware of the options for mental health care provided by your previous employers?\" : \"awareness_of_benefits_prev_employer\" ,\n",
    "             \"Did your previous employers ever formally discuss mental health (as part of a wellness campaign or other official communication)?\" : \"mh_discussion_indic_prev_employer\" ,\n",
    "             \"Did your previous employers provide resources to learn more about mental health issues and how to seek help?\" : \"mh_resources_availability_indic_prev_employer\" ,\n",
    "             \"Was your anonymity protected if you chose to take advantage of mental health or substance abuse treatment resources with previous employers?\" : \"anonym_use_benefit_indic_prev_employer\" ,\n",
    "             \"Do you think that discussing a mental health disorder with previous employers would have negative consequences?\" : \"neg_consequences_discussing_mh_prev_employer\" , \n",
    "             \"Do you think that discussing a physical health issue with previous employers would have negative consequences?\" : \"neg_consequences_discussing_ph_prev_employer\" ,\n",
    "             \"Would you have been willing to discuss a mental health issue with your previous co-workers?\" : \"comf_discussing_mh_with_coworker_prev_employer\" ,\n",
    "             \"Would you have been willing to discuss a mental health issue with your direct supervisor(s)?\" : \"comf_discussing_mnh_with_supervisor_prev_employer\" ,\n",
    "             \"Did you feel that your previous employers took mental health as seriously as physical health?\" : \"employer_importance_mh_vs_ph_prev_employer\" ,\n",
    "             \"Did you hear of or observe negative consequences for co-workers with mental health issues in your previous workplaces?\" : \"known_neg_consequences_of_mh_prev_employer\" ,\n",
    "             \"Would you be willing to bring up a physical health issue with a potential employer in an interview?\" : \"willing_discuss_ph_in_hiring_interview\" ,\n",
    "             \"Why or why not?\" : \"why_why_not_1\" ,\n",
    "             \"Would you bring up a mental health issue with a potential employer in an interview?\" : \"willing_discuss_mh_in_hiring_interview\" ,\n",
    "             \"Why or why not?2\" : \"why_why_not_2\" ,\n",
    "             \"Do you feel that being identified as a person with a mental health issue would hurt your career?\" : \"percevied_neg_impact_carreer_of_mh\" ,\n",
    "             \"Do you think that team members/co-workers would view you more negatively if they knew you suffered from a mental health issue?\" : \"perceived_neg_impact_coworker_opiniton_of_mh\" ,\n",
    "             \"How willing would you be to share with friends and family that you have a mental illness?\" : \"willingness_to_share_with_friend_family\" ,\n",
    "             \"Have you observed or experienced an unsupportive or badly handled response to a mental health issue in your current or previous workplace?\" : \"neg_response_to_mh\" ,\n",
    "             \"Have your observations of how another individual who discussed a mental health disorder made you less likely to reveal a mental health issue yourself in your current workplace?\" : \"willingness_to_share_mh_after_observation\" ,\n",
    "             \"Do you have a family history of mental illness?\" : \"mh_family_hist\" ,\n",
    "             \"Have you had a mental health disorder in the past?\" : \"previous_mh\" ,\n",
    "             \"Do you currently have a mental health disorder?\" : \"current_mh\" ,\n",
    "             \"If yes, what condition(s) have you been diagnosed with?\" :  \"diagnosis_name_condition\" ,\n",
    "             \"If maybe, what condition(s) do you believe you have?\" : \"believed_name_condiiton\" ,\n",
    "             \"Have you been diagnosed with a mental health condition by a medical professional?\" : \"diagnosis_professional\" ,\n",
    "             \"If so, what condition(s) were you diagnosed with?\" : \"diagnosis_name_professional_condition\" ,\n",
    "             \"Have you ever sought treatment for a mental health issue from a mental health professional?\" : \"used_therapy\" ,\n",
    "             \"If you have a mental health issue, do you feel that it interferes with your work when being treated effectively?\" : \"interference_mh_treated_with_work\" ,\n",
    "             \"If you have a mental health issue, do you feel that it interferes with your work when NOT being treated effectively?\" : \"interference_mh_untreated_with_work\" ,\n",
    "             \"What is your age?\" : \"age\" ,\n",
    "             \"What is your gender?\" : \"gender\" ,\n",
    "             \"What country do you live in?\" : \"country_residency\" ,\n",
    "             \"What US state or territory do you live in?\" : \"usa_state_residency\" ,\n",
    "             \"What country do you work in?\" : \"country_work\" ,\n",
    "             \"What US state or territory do you work in?\" : \"usa_state_work\" ,\n",
    "             \"Which of the following best describes your work position?\" : \"job_title\" ,\n",
    "             \"Do you work remotely?\" : \"remote\" ,\n",
    "            }\n",
    "\n",
    "# Rename the keys in the dictionary with the names of the original DataFrame. This has to be done because I copied the titles from excel which was stupid and I made a mistake\n",
    "new_names = dict((col_names[list(new_names.keys()).index(key)], value) for key, value in new_names.items())\n",
    "df = df.rename(new_names).with_row_index(\"index\")"
   ]
  },
  {
   "cell_type": "code",
   "execution_count": 8,
   "id": "23045586-8801-4349-827a-457e0713c6b0",
   "metadata": {},
   "outputs": [],
   "source": [
    "# Count columns with null values and those without\n",
    "null_counts = df.null_count()\n",
    "\n",
    "# Transpose the dataframe to write the amount of null values entriewise\n",
    "null_counts_trans = null_counts.transpose(include_header= True)\n",
    "null_counts_trans = null_counts_trans.filter(pl.col('column')!='index')\n",
    "# Get the number of columns with null values and without\n",
    "true_null_counts = null_counts_trans.filter(pl.col(\"column_0\") == 0).shape[0]\n",
    "non_null_counts = null_counts_trans.filter(pl.col(\"column_0\") != 0).shape[0]\n",
    "\n",
    "\n",
    "# Calculate the percentage of NULL values per column and get the number\n",
    "null_counts_perc = null_counts_trans.with_columns((pl.col(\"column_0\") / df.shape[0] * 100).cast(pl.Int32).alias(\"null_perc\") )\n",
    "\n",
    "# Get the number of columns with 0 percent nulls, according to the percentages.\n",
    "non_null_counts = null_counts_perc.filter(pl.col('null_perc') == 0).shape[0]"
   ]
  },
  {
   "cell_type": "code",
   "execution_count": 9,
   "id": "39993717-8092-4d9a-8fad-f049a271ff7a",
   "metadata": {},
   "outputs": [
    {
     "data": {
      "text/plain": [
       "[Text(0, 0, '21'), Text(0, 0, '31'), Text(0, 0, '11')]"
      ]
     },
     "execution_count": 9,
     "metadata": {},
     "output_type": "execute_result"
    },
    {
     "data": {
      "image/png": "[encoded data removed]",
      "text/plain": [
       "<Figure size 800x550 with 1 Axes>"
      ]
     },
     "metadata": {},
     "output_type": "display_data"
    }
   ],
   "source": [
    "# Construct the number of Columns with exactly 0% null values\n",
    "num_null_counts_zero_perc = null_counts_perc.filter(pl.col(\"null_perc\") ==0).shape[0]\n",
    "\n",
    "# Construct the number for columns with less than 50% of null values but more than 0% null values\n",
    "num_null_counts_below_50_perc = null_counts_perc.filter((pl.col('null_perc') <= 50) & (pl.col('null_perc') > 0)).shape[0]\n",
    "\n",
    "# Construct the number for columns with more than 50% null values\n",
    "num_null_counts_exc_50_perc = null_counts_perc.filter(pl.col(\"null_perc\") > 50).shape[0]\n",
    "\n",
    "\n",
    "# Create a dictionary with the relevant information\n",
    "nulls_dict = {\"Zero (0) Null\" : non_null_counts , \"1% - 50% Null\" : num_null_counts_below_50_perc ,  \"> 50% Null\" : num_null_counts_exc_50_perc}\n",
    "# Plot the amount of columns with null values\n",
    "ax = sns.barplot(data=nulls_dict)\n",
    "ax.set(xlabel='' , ylabel='Number of Columns')\n",
    "ax.set_title(\"Number of Columns with Null Values\")\n",
    "ax.bar_label(ax.containers[0], fontsize=10)"
   ]
  },
  {
   "cell_type": "code",
   "execution_count": 10,
   "id": "f91c08ad-25af-4e5d-84e1-75d3af98e610",
   "metadata": {},
   "outputs": [
    {
     "name": "stdout",
     "output_type": "stream",
     "text": [
      "['tech_role_indic', 'med_coverage_mh_indic', 'known_mh_sources', 'mention_mh_to_clients', 'neg_impact_of_reveal_to_client_of_mh', 'mention_mh_to_employees', 'neg_impact_of_reveal_to_employee_of_mh', 'productivity_effect_of_mh', 'time_effect_of_mh', 'diagnosis_name_condition', 'believed_name_condiiton']\n"
     ]
    }
   ],
   "source": [
    "# Drop all columns that are meant for self-employed and have more than 50% Null values\n",
    "df = df.filter(pl.col(\"self-employed_indic\") != 1)\n",
    "df = df.drop(\"self-employed_indic\")\n",
    "\n",
    "# Drop all columns with more than 50% Null values. NOT YET!!!!!!!!!\n",
    "# First look at the columns with more than 50% Null Values\n",
    "drop_col_list = pl.Series(null_counts_perc.filter(pl.col(\"null_perc\")>50).select(pl.col(\"column\"))).to_list()\n",
    "print(drop_col_list)\n",
    "\n",
    "# tech_role_indic can perhaps be imputed via the job title"
   ]
  },
  {
   "cell_type": "markdown",
   "id": "fccf7066-7ce8-4042-b7aa-09b3fddc0f6f",
   "metadata": {},
   "source": [
    "### First impute the entries where possible"
   ]
  },
  {
   "cell_type": "code",
   "execution_count": 11,
   "id": "efac0acd-2316-45c4-9388-fc9e00b912e2",
   "metadata": {},
   "outputs": [],
   "source": [
    "# Convert all strings to lower case\n",
    "df = df.with_columns(pl.col(pl.String).str.to_lowercase())"
   ]
  },
  {
   "cell_type": "code",
   "execution_count": 12,
   "id": "21043391-1822-4eba-988c-525cbf5aaf2c",
   "metadata": {},
   "outputs": [],
   "source": [
    "# Now lets find the list of tech jobs\n",
    "tech_jobs_list =  df.filter(pl.col(\"tech_role_indic\") == 1).select(\"job_title\").rows()\n",
    "\n",
    "# Job list is currently a list nested of tuples\n",
    "# Define function to flatten nested list\n",
    "def flatten_list(list_input):\n",
    "    job_list = []\n",
    "    for x in list_input:\n",
    "        job_list.extend(x)\n",
    "    return job_list\n",
    "\n",
    "# Clear job_list of any nested tuples and splitters\n",
    "job_list = flatten_list(tech_jobs_list)\n",
    "job_list = [x.split('|') for x in job_list]\n",
    "job_list = flatten_list(job_list)\n",
    "job_list = [x.split('/') for x in job_list]\n",
    "job_list = flatten_list(job_list)\n",
    "\n",
    "# Clear job titles of non-tech jobs\n",
    "excluded_jobs = ['other' , 'designer' , 'support' , 'team lead' , 'sales' , 'supervisor' , 'advocate' , 'one-person shop' , 'executive leadership', 'hr']\n",
    "job_list = [x for x in job_list if x not in excluded_jobs]\n",
    "\n",
    "job_list = np.unique(job_list)\n",
    "\n",
    "# Now that we have a cleaned list of tech jobs we need to impute out polars DataFrame\n",
    "# First we construct a regex pattern to catch all possible values\n",
    "\n",
    "job_pattern = '|'.join(job_list)\n",
    "\n",
    "df = df.with_columns(\n",
    "    pl.when(\n",
    "        (pl.col('job_title').str.contains(job_pattern)) & (pl.col('tech_role_indic').is_null())\n",
    "    ).then(1).otherwise(0).alias('tech_role_indic')\n",
    ")"
   ]
  },
  {
   "cell_type": "code",
   "execution_count": 13,
   "id": "6858e32b-6970-4804-87a5-a0e17feffd45",
   "metadata": {},
   "outputs": [
    {
     "name": "stdout",
     "output_type": "stream",
     "text": [
      "(1146, 63)\n"
     ]
    }
   ],
   "source": [
    "print(df.shape)"
   ]
  },
  {
   "cell_type": "code",
   "execution_count": 14,
   "id": "8c80d175-47dc-4251-987e-ffab9694ded5",
   "metadata": {},
   "outputs": [],
   "source": [
    "# Impute the column 'diagnosis_name_condition'\n",
    "# For this use the followuing method: if col \"current_mh\" is \"no\" then impute it wiht \"n/a\"\n",
    "\n",
    "df = df.with_columns(\n",
    "    pl.when(pl.col('current_mh').is_in(['no' , 'maybe']) , pl.col('diagnosis_name_condition').is_null() ).then(pl.lit('n/a')).otherwise('diagnosis_name_condition').alias('diagnosis_name_condition')\n",
    ")"
   ]
  },
  {
   "cell_type": "code",
   "execution_count": 15,
   "id": "4a875f5d-deb1-496f-bc14-0ddf3c84c2a5",
   "metadata": {},
   "outputs": [],
   "source": [
    "# Impute the column 'believed_name_condiiton'\n",
    "# For this use the following method: if col \"current_mh\" is \"no\" or \"yes\" then impute it with \"n/a\"\n",
    "\n",
    "df = df.with_columns(\n",
    "    pl.when(pl.col('current_mh').is_in(['no' , 'yes']) , pl.col('believed_name_condiiton').is_null() ).then(pl.lit('n/a')).otherwise('believed_name_condiiton').alias('believed_name_condiiton')\n",
    ")"
   ]
  },
  {
   "cell_type": "code",
   "execution_count": 16,
   "id": "81102305-c7ec-4d58-b8e2-f7b5fd037cc1",
   "metadata": {},
   "outputs": [
    {
     "name": "stdout",
     "output_type": "stream",
     "text": [
      "['med_coverage_mh_indic', 'known_mh_sources', 'mention_mh_to_clients', 'neg_impact_of_reveal_to_client_of_mh', 'mention_mh_to_employees', 'neg_impact_of_reveal_to_employee_of_mh', 'productivity_effect_of_mh', 'time_effect_of_mh']\n"
     ]
    }
   ],
   "source": [
    "# Reconstruct the columns with too many null values\n",
    "null_counts = df.null_count().transpose(include_header= True)\n",
    "null_counts_perc = null_counts.with_columns((pl.col(\"column_0\") / df.shape[0] * 100).cast(pl.Int32).alias(\"null_perc\") )\n",
    "drop_col_list = pl.Series(null_counts_perc.filter(pl.col(\"null_perc\")>50).select(pl.col(\"column\"))).to_list()\n",
    "\n",
    "print(drop_col_list)"
   ]
  },
  {
   "cell_type": "code",
   "execution_count": 17,
   "id": "4f17dbd7-49b6-4341-adcc-65dfa6c8dc06",
   "metadata": {},
   "outputs": [],
   "source": [
    "# Now drop the columns with more than 50% null values\n",
    "df = df.drop(drop_col_list)"
   ]
  },
  {
   "cell_type": "code",
   "execution_count": 18,
   "id": "0179263f-a889-41ef-b605-a3437e7ac4ac",
   "metadata": {},
   "outputs": [
    {
     "name": "stdout",
     "output_type": "stream",
     "text": [
      "(1146, 55)\n"
     ]
    }
   ],
   "source": [
    "print(df.shape)"
   ]
  },
  {
   "cell_type": "code",
   "execution_count": 19,
   "id": "0a17e4ad-3f5d-4ce6-9e24-4c11364e1821",
   "metadata": {},
   "outputs": [],
   "source": [
    "# Standardize all categorical columsn that are currently answered with 0/1 instead of yes/no\n",
    "df = df.with_columns(\n",
    "    pl.when(pl.col('tech_comp_indic') == 1).then(pl.lit('yes')).when(pl.col('tech_comp_indic') == 0).then(pl.lit('no')).alias('tech_comp_indic') ,\n",
    "    pl.when(pl.col('tech_role_indic') == 1).then(pl.lit('yes')).when(pl.col('tech_role_indic') == 0).then(pl.lit('no')).alias('tech_role_indic') ,\n",
    "    pl.when(pl.col('used_therapy') == 1).then(pl.lit('yes')).when(pl.col('used_therapy') == 0).then(pl.lit('no')).alias('used_therapy')          ,                          \n",
    "    pl.when(pl.col('prev_employers') == 1).then(pl.lit('yes')).when(pl.col('prev_employers') == 0).then(pl.lit('no')).alias('prev_employers')\n",
    ")"
   ]
  },
  {
   "cell_type": "markdown",
   "id": "eccba709-681b-46ab-93b1-4de6a68599da",
   "metadata": {},
   "source": [
    "### Investigate remaining null values"
   ]
  },
  {
   "cell_type": "code",
   "execution_count": 20,
   "id": "b9bdaa1d-1038-415f-b52c-5172f7528b64",
   "metadata": {},
   "outputs": [
    {
     "data": {
      "text/html": [
       "<div><style>\n",
       ".dataframe > thead > tr,\n",
       ".dataframe > tbody > tr {\n",
       "  text-align: right;\n",
       "  white-space: pre-wrap;\n",
       "}\n",
       "</style>\n",
       "<small>shape: (1, 55)</small><table border=\"1\" class=\"dataframe\"><thead><tr><th>index</th><th>comp_size</th><th>tech_comp_indic</th><th>tech_role_indic</th><th>availability_of_benefits</th><th>awareness_of_benefits</th><th>mh_discussion_indic</th><th>mh_resources_availability_indic</th><th>anonym_use_benefit_indic</th><th>sick_leave_difficulty</th><th>neg_consequences_discussing_mh</th><th>neg_consequences_discussing_ph</th><th>comf_discussing_mh_with_coworker_indic</th><th>comf_discussing_mnh_with_supervisor_indic</th><th>employer_importance_mh_vs_ph</th><th>known_neg_consequences_of_mh</th><th>prev_employers</th><th>availability_of_benefits_prev_employer</th><th>awareness_of_benefits_prev_employer</th><th>mh_discussion_indic_prev_employer</th><th>mh_resources_availability_indic_prev_employer</th><th>anonym_use_benefit_indic_prev_employer</th><th>neg_consequences_discussing_mh_prev_employer</th><th>neg_consequences_discussing_ph_prev_employer</th><th>comf_discussing_mh_with_coworker_prev_employer</th><th>comf_discussing_mnh_with_supervisor_prev_employer</th><th>employer_importance_mh_vs_ph_prev_employer</th><th>known_neg_consequences_of_mh_prev_employer</th><th>willing_discuss_ph_in_hiring_interview</th><th>why_why_not_1</th><th>willing_discuss_mh_in_hiring_interview</th><th>why_why_not_2</th><th>percevied_neg_impact_carreer_of_mh</th><th>perceived_neg_impact_coworker_opiniton_of_mh</th><th>willingness_to_share_with_friend_family</th><th>neg_response_to_mh</th><th>willingness_to_share_mh_after_observation</th><th>mh_family_hist</th><th>previous_mh</th><th>current_mh</th><th>diagnosis_name_condition</th><th>believed_name_condiiton</th><th>diagnosis_professional</th><th>diagnosis_name_professional_condition</th><th>used_therapy</th><th>interference_mh_treated_with_work</th><th>interference_mh_untreated_with_work</th><th>age</th><th>gender</th><th>country_residency</th><th>usa_state_residency</th><th>country_work</th><th>usa_state_work</th><th>job_title</th><th>remote</th></tr><tr><td>u32</td><td>u32</td><td>u32</td><td>u32</td><td>u32</td><td>u32</td><td>u32</td><td>u32</td><td>u32</td><td>u32</td><td>u32</td><td>u32</td><td>u32</td><td>u32</td><td>u32</td><td>u32</td><td>u32</td><td>u32</td><td>u32</td><td>u32</td><td>u32</td><td>u32</td><td>u32</td><td>u32</td><td>u32</td><td>u32</td><td>u32</td><td>u32</td><td>u32</td><td>u32</td><td>u32</td><td>u32</td><td>u32</td><td>u32</td><td>u32</td><td>u32</td><td>u32</td><td>u32</td><td>u32</td><td>u32</td><td>u32</td><td>u32</td><td>u32</td><td>u32</td><td>u32</td><td>u32</td><td>u32</td><td>u32</td><td>u32</td><td>u32</td><td>u32</td><td>u32</td><td>u32</td><td>u32</td><td>u32</td></tr></thead><tbody><tr><td>0</td><td>0</td><td>0</td><td>0</td><td>0</td><td>0</td><td>0</td><td>0</td><td>0</td><td>0</td><td>0</td><td>0</td><td>0</td><td>0</td><td>0</td><td>0</td><td>0</td><td>131</td><td>131</td><td>131</td><td>131</td><td>131</td><td>131</td><td>131</td><td>131</td><td>131</td><td>131</td><td>131</td><td>0</td><td>274</td><td>0</td><td>249</td><td>0</td><td>0</td><td>0</td><td>0</td><td>546</td><td>0</td><td>0</td><td>0</td><td>6</td><td>4</td><td>0</td><td>583</td><td>0</td><td>0</td><td>0</td><td>0</td><td>1</td><td>0</td><td>437</td><td>0</td><td>430</td><td>0</td><td>0</td></tr></tbody></table></div>"
      ],
      "text/plain": [
       "shape: (1, 55)\n",
       "┌───────┬───────────┬─────────────────┬─────────────────┬───┬──────────────┬────────────────┬───────────┬────────┐\n",
       "│ index ┆ comp_size ┆ tech_comp_indic ┆ tech_role_indic ┆ … ┆ country_work ┆ usa_state_work ┆ job_title ┆ remote │\n",
       "│ ---   ┆ ---       ┆ ---             ┆ ---             ┆   ┆ ---          ┆ ---            ┆ ---       ┆ ---    │\n",
       "│ u32   ┆ u32       ┆ u32             ┆ u32             ┆   ┆ u32          ┆ u32            ┆ u32       ┆ u32    │\n",
       "╞═══════╪═══════════╪═════════════════╪═════════════════╪═══╪══════════════╪════════════════╪═══════════╪════════╡\n",
       "│ 0     ┆ 0         ┆ 0               ┆ 0               ┆ … ┆ 0            ┆ 430            ┆ 0         ┆ 0      │\n",
       "└───────┴───────────┴─────────────────┴─────────────────┴───┴──────────────┴────────────────┴───────────┴────────┘"
      ]
     },
     "execution_count": 20,
     "metadata": {},
     "output_type": "execute_result"
    }
   ],
   "source": [
    "df.null_count()"
   ]
  },
  {
   "cell_type": "markdown",
   "id": "d2580185-5a22-4fdc-b93e-1c3238485b79",
   "metadata": {},
   "source": [
    "It is evident that country_residency, usa_state_residency , country_work , usa_state_work can be imputed somehow  \n",
    "Instead of NULL we can come up with a string that says 'international' or 'not applicable'"
   ]
  },
  {
   "cell_type": "code",
   "execution_count": 21,
   "id": "15d76a3e-9d3f-4aa6-9700-028f30023cbf",
   "metadata": {},
   "outputs": [],
   "source": [
    "df = df.with_columns(\n",
    "    pl.when(pl.col('country_residency') != 'united states of america').then(pl.lit('international')).otherwise('usa_state_residency').alias('usa_state_residency'),\n",
    "    pl.when(pl.col('country_work') != 'united states of america').then(pl.lit('international')).otherwise('usa_state_work').alias('usa_state_work')\n",
    ")"
   ]
  },
  {
   "cell_type": "markdown",
   "id": "e43d814d-517a-4e53-95fd-58f5422fa721",
   "metadata": {},
   "source": [
    "### Investigate if there are unusual amounts of unique values in a column and investigate\n",
    "This can also help with identifying when to use OneHot Encoding and when to use other Encoding methods"
   ]
  },
  {
   "cell_type": "code",
   "execution_count": 22,
   "id": "b4f8393f-903f-4091-9fa6-b0cb363f4a6b",
   "metadata": {},
   "outputs": [
    {
     "data": {
      "text/html": [
       "<div><style>\n",
       ".dataframe > thead > tr,\n",
       ".dataframe > tbody > tr {\n",
       "  text-align: right;\n",
       "  white-space: pre-wrap;\n",
       "}\n",
       "</style>\n",
       "<small>shape: (1, 55)</small><table border=\"1\" class=\"dataframe\"><thead><tr><th>index</th><th>comp_size</th><th>tech_comp_indic</th><th>tech_role_indic</th><th>availability_of_benefits</th><th>awareness_of_benefits</th><th>mh_discussion_indic</th><th>mh_resources_availability_indic</th><th>anonym_use_benefit_indic</th><th>sick_leave_difficulty</th><th>neg_consequences_discussing_mh</th><th>neg_consequences_discussing_ph</th><th>comf_discussing_mh_with_coworker_indic</th><th>comf_discussing_mnh_with_supervisor_indic</th><th>employer_importance_mh_vs_ph</th><th>known_neg_consequences_of_mh</th><th>prev_employers</th><th>availability_of_benefits_prev_employer</th><th>awareness_of_benefits_prev_employer</th><th>mh_discussion_indic_prev_employer</th><th>mh_resources_availability_indic_prev_employer</th><th>anonym_use_benefit_indic_prev_employer</th><th>neg_consequences_discussing_mh_prev_employer</th><th>neg_consequences_discussing_ph_prev_employer</th><th>comf_discussing_mh_with_coworker_prev_employer</th><th>comf_discussing_mnh_with_supervisor_prev_employer</th><th>employer_importance_mh_vs_ph_prev_employer</th><th>known_neg_consequences_of_mh_prev_employer</th><th>willing_discuss_ph_in_hiring_interview</th><th>why_why_not_1</th><th>willing_discuss_mh_in_hiring_interview</th><th>why_why_not_2</th><th>percevied_neg_impact_carreer_of_mh</th><th>perceived_neg_impact_coworker_opiniton_of_mh</th><th>willingness_to_share_with_friend_family</th><th>neg_response_to_mh</th><th>willingness_to_share_mh_after_observation</th><th>mh_family_hist</th><th>previous_mh</th><th>current_mh</th><th>diagnosis_name_condition</th><th>believed_name_condiiton</th><th>diagnosis_professional</th><th>diagnosis_name_professional_condition</th><th>used_therapy</th><th>interference_mh_treated_with_work</th><th>interference_mh_untreated_with_work</th><th>age</th><th>gender</th><th>country_residency</th><th>usa_state_residency</th><th>country_work</th><th>usa_state_work</th><th>job_title</th><th>remote</th></tr><tr><td>u32</td><td>u32</td><td>u32</td><td>u32</td><td>u32</td><td>u32</td><td>u32</td><td>u32</td><td>u32</td><td>u32</td><td>u32</td><td>u32</td><td>u32</td><td>u32</td><td>u32</td><td>u32</td><td>u32</td><td>u32</td><td>u32</td><td>u32</td><td>u32</td><td>u32</td><td>u32</td><td>u32</td><td>u32</td><td>u32</td><td>u32</td><td>u32</td><td>u32</td><td>u32</td><td>u32</td><td>u32</td><td>u32</td><td>u32</td><td>u32</td><td>u32</td><td>u32</td><td>u32</td><td>u32</td><td>u32</td><td>u32</td><td>u32</td><td>u32</td><td>u32</td><td>u32</td><td>u32</td><td>u32</td><td>u32</td><td>u32</td><td>u32</td><td>u32</td><td>u32</td><td>u32</td><td>u32</td><td>u32</td></tr></thead><tbody><tr><td>1146</td><td>6</td><td>2</td><td>2</td><td>4</td><td>4</td><td>3</td><td>3</td><td>3</td><td>6</td><td>3</td><td>3</td><td>3</td><td>3</td><td>3</td><td>2</td><td>2</td><td>5</td><td>5</td><td>5</td><td>4</td><td>5</td><td>5</td><td>4</td><td>4</td><td>5</td><td>5</td><td>4</td><td>3</td><td>863</td><td>3</td><td>854</td><td>5</td><td>5</td><td>6</td><td>5</td><td>5</td><td>3</td><td>3</td><td>3</td><td>103</td><td>79</td><td>2</td><td>90</td><td>2</td><td>5</td><td>5</td><td>51</td><td>52</td><td>43</td><td>48</td><td>44</td><td>49</td><td>180</td><td>3</td></tr></tbody></table></div>"
      ],
      "text/plain": [
       "shape: (1, 55)\n",
       "┌───────┬───────────┬─────────────────┬─────────────────┬───┬──────────────┬────────────────┬───────────┬────────┐\n",
       "│ index ┆ comp_size ┆ tech_comp_indic ┆ tech_role_indic ┆ … ┆ country_work ┆ usa_state_work ┆ job_title ┆ remote │\n",
       "│ ---   ┆ ---       ┆ ---             ┆ ---             ┆   ┆ ---          ┆ ---            ┆ ---       ┆ ---    │\n",
       "│ u32   ┆ u32       ┆ u32             ┆ u32             ┆   ┆ u32          ┆ u32            ┆ u32       ┆ u32    │\n",
       "╞═══════╪═══════════╪═════════════════╪═════════════════╪═══╪══════════════╪════════════════╪═══════════╪════════╡\n",
       "│ 1146  ┆ 6         ┆ 2               ┆ 2               ┆ … ┆ 44           ┆ 49             ┆ 180       ┆ 3      │\n",
       "└───────┴───────────┴─────────────────┴─────────────────┴───┴──────────────┴────────────────┴───────────┴────────┘"
      ]
     },
     "execution_count": 22,
     "metadata": {},
     "output_type": "execute_result"
    }
   ],
   "source": [
    "df.select(pl.all().n_unique())"
   ]
  },
  {
   "cell_type": "markdown",
   "id": "c95bfc62-b3b5-4022-8c0c-f98a0f6fb1c9",
   "metadata": {},
   "source": [
    "### Investigate the Null values of the questions (1) if subject had previous employers & (2) if those previous employers provided MH health insurance benefits"
   ]
  },
  {
   "cell_type": "code",
   "execution_count": 23,
   "id": "e8cfe344-70eb-4cbe-b1f5-aeb0068c148c",
   "metadata": {
    "scrolled": true
   },
   "outputs": [
    {
     "name": "stdout",
     "output_type": "stream",
     "text": [
      "shape: (2, 2)\n",
      "┌────────────────┬───────┐\n",
      "│ prev_employers ┆ count │\n",
      "│ ---            ┆ ---   │\n",
      "│ str            ┆ u32   │\n",
      "╞════════════════╪═══════╡\n",
      "│ no             ┆ 131   │\n",
      "│ yes            ┆ 1015  │\n",
      "└────────────────┴───────┘\n",
      "shape: (854, 2)\n",
      "┌─────────────────────────────────┬───────┐\n",
      "│ why_why_not_2                   ┆ count │\n",
      "│ ---                             ┆ ---   │\n",
      "│ str                             ┆ u32   │\n",
      "╞═════════════════════════════════╪═══════╡\n",
      "│ viewed as disqualifying         ┆ 1     │\n",
      "│ it's no different from a physi… ┆ 1     │\n",
      "│ it carries a stigma             ┆ 1     │\n",
      "│ i don't suffer from any mental… ┆ 1     │\n",
      "│ unless i felt comfortable or k… ┆ 1     │\n",
      "│ …                               ┆ …     │\n",
      "│ fear that the employer would c… ┆ 1     │\n",
      "│ even though it's unjustified t… ┆ 1     │\n",
      "│ again: honesty.                 ┆ 1     │\n",
      "│ might allude to it under the g… ┆ 1     │\n",
      "│ see my answer above. i don't w… ┆ 1     │\n",
      "└─────────────────────────────────┴───────┘\n"
     ]
    }
   ],
   "source": [
    "print(df.to_series(16).value_counts())\n",
    "with pl.Config(tbl_rows=10):\n",
    "    print(df.to_series(31).value_counts())"
   ]
  },
  {
   "cell_type": "markdown",
   "id": "57f60de9-9f10-4ed2-9a5a-13529bd917e1",
   "metadata": {},
   "source": [
    "### It can be seen that the NULL values are those that do not have previous employers (Same logic applies to columns index 16 to 27)\n",
    "### Impute with \"not applicable\"\n",
    "##### NOTE!! This is also a good project for visualization to see the causality"
   ]
  },
  {
   "cell_type": "code",
   "execution_count": 24,
   "id": "f99cb0bc-60e2-4605-9d5d-5527eaf9356d",
   "metadata": {},
   "outputs": [],
   "source": [
    "df = df.with_columns(\t\n",
    "    pl.when(pl.col('prev_employers') == 'no').then(pl.lit('not applicable')).otherwise(pl.col('availability_of_benefits_prev_employer')).alias('availability_of_benefits_prev_employer') \n",
    "    , pl.when(pl.col('prev_employers') == 'no').then(pl.lit('not applicable')).otherwise(pl.col('awareness_of_benefits_prev_employer')).alias('awareness_of_benefits_prev_employer')\n",
    "    , pl.when(pl.col('prev_employers') == 'no').then(pl.lit('not applicable')).otherwise(pl.col('mh_discussion_indic_prev_employer')).alias('mh_discussion_indic_prev_employer')\n",
    "    , pl.when(pl.col('prev_employers') == 'no').then(pl.lit('not applicable')).otherwise(pl.col('mh_resources_availability_indic_prev_employer')).alias('mh_resources_availability_indic_prev_employer')\n",
    "    , pl.when(pl.col('prev_employers') == 'no').then(pl.lit('not applicable')).otherwise(pl.col('anonym_use_benefit_indic_prev_employer')).alias('anonym_use_benefit_indic_prev_employer')\n",
    "    , pl.when(pl.col('prev_employers') == 'no').then(pl.lit('not applicable')).otherwise(pl.col('neg_consequences_discussing_mh_prev_employer')).alias('neg_consequences_discussing_mh_prev_employer')\n",
    "    , pl.when(pl.col('prev_employers') == 'no').then(pl.lit('not applicable')).otherwise(pl.col('neg_consequences_discussing_ph_prev_employer')).alias('neg_consequences_discussing_ph_prev_employer')\n",
    "    , pl.when(pl.col('prev_employers') == 'no').then(pl.lit('not applicable')).otherwise(pl.col('comf_discussing_mh_with_coworker_prev_employer')).alias('comf_discussing_mh_with_coworker_prev_employer')\n",
    "    , pl.when(pl.col('prev_employers') == 'no').then(pl.lit('not applicable')).otherwise(pl.col('comf_discussing_mnh_with_supervisor_prev_employer')).alias('comf_discussing_mnh_with_supervisor_prev_employer')\n",
    "    , pl.when(pl.col('prev_employers') == 'no').then(pl.lit('not applicable')).otherwise(pl.col('employer_importance_mh_vs_ph_prev_employer')).alias('employer_importance_mh_vs_ph_prev_employer')                    \n",
    "    , pl.when(pl.col('prev_employers') == 'no').then(pl.lit('not applicable')).otherwise(pl.col('known_neg_consequences_of_mh_prev_employer')).alias('known_neg_consequences_of_mh_prev_employer')                                                        \n",
    ")"
   ]
  },
  {
   "cell_type": "code",
   "execution_count": 25,
   "id": "f5812cc6-70f8-47e7-919f-9c5178b07da5",
   "metadata": {},
   "outputs": [],
   "source": [
    "### Investigate the remainin NULL value columns\n",
    "### These are ok and can be imputed with the mean,mode or other techniques"
   ]
  },
  {
   "cell_type": "code",
   "execution_count": 26,
   "id": "59c4b54f-5d8e-4165-b253-0f6c4fee22ae",
   "metadata": {},
   "outputs": [
    {
     "name": "stdout",
     "output_type": "stream",
     "text": [
      "shape: (1_146, 1)\n",
      "┌─────────────────────────────────┐\n",
      "│ employer_importance_mh_vs_ph_p… │\n",
      "│ ---                             │\n",
      "│ str                             │\n",
      "╞═════════════════════════════════╡\n",
      "│ i don't know                    │\n",
      "│ some did                        │\n",
      "│ i don't know                    │\n",
      "│ some did                        │\n",
      "│ none did                        │\n",
      "│ …                               │\n",
      "│ some did                        │\n",
      "│ none did                        │\n",
      "│ none did                        │\n",
      "│ none did                        │\n",
      "│ not applicable                  │\n",
      "└─────────────────────────────────┘\n"
     ]
    }
   ],
   "source": [
    "print(df.select(pl.col('employer_importance_mh_vs_ph_prev_employer')))"
   ]
  },
  {
   "cell_type": "markdown",
   "id": "b9f4b521-14a6-4e87-bc17-88c0d7f26357",
   "metadata": {},
   "source": [
    "### Investigate the remaining columns with null values and impute them if necessary or possible"
   ]
  },
  {
   "cell_type": "code",
   "execution_count": 27,
   "id": "f72c02f8-fdbc-4ea4-bbde-3c7b237f8355",
   "metadata": {},
   "outputs": [
    {
     "data": {
      "text/html": [
       "<div><style>\n",
       ".dataframe > thead > tr,\n",
       ".dataframe > tbody > tr {\n",
       "  text-align: right;\n",
       "  white-space: pre-wrap;\n",
       "}\n",
       "</style>\n",
       "<small>shape: (7, 2)</small><table border=\"1\" class=\"dataframe\"><thead><tr><th>column</th><th>column_0</th></tr><tr><td>str</td><td>u32</td></tr></thead><tbody><tr><td>&quot;why_why_not_1&quot;</td><td>274</td></tr><tr><td>&quot;why_why_not_2&quot;</td><td>249</td></tr><tr><td>&quot;willingness_to_share_mh_after_…</td><td>546</td></tr><tr><td>&quot;diagnosis_name_condition&quot;</td><td>6</td></tr><tr><td>&quot;believed_name_condiiton&quot;</td><td>4</td></tr><tr><td>&quot;diagnosis_name_professional_co…</td><td>583</td></tr><tr><td>&quot;gender&quot;</td><td>1</td></tr></tbody></table></div>"
      ],
      "text/plain": [
       "shape: (7, 2)\n",
       "┌─────────────────────────────────┬──────────┐\n",
       "│ column                          ┆ column_0 │\n",
       "│ ---                             ┆ ---      │\n",
       "│ str                             ┆ u32      │\n",
       "╞═════════════════════════════════╪══════════╡\n",
       "│ why_why_not_1                   ┆ 274      │\n",
       "│ why_why_not_2                   ┆ 249      │\n",
       "│ willingness_to_share_mh_after_… ┆ 546      │\n",
       "│ diagnosis_name_condition        ┆ 6        │\n",
       "│ believed_name_condiiton         ┆ 4        │\n",
       "│ diagnosis_name_professional_co… ┆ 583      │\n",
       "│ gender                          ┆ 1        │\n",
       "└─────────────────────────────────┴──────────┘"
      ]
     },
     "execution_count": 27,
     "metadata": {},
     "output_type": "execute_result"
    }
   ],
   "source": [
    "df.null_count().transpose(include_header= True).filter(pl.col('column_0') > 0)"
   ]
  },
  {
   "cell_type": "code",
   "execution_count": 28,
   "id": "4c5a3349-15f0-4554-a6eb-0be7fd219e79",
   "metadata": {},
   "outputs": [],
   "source": [
    "# Impute \"\" & \"\" with the most occuring value\n",
    "\n",
    "# Imputation of \"diagnosis_name_condition\"\n",
    "most_common_diagnosis_name = df.select(pl.col('diagnosis_name_condition')).to_series().value_counts().sort(by='count', descending = True).select(pl.first('diagnosis_name_condition')).to_series()[0]\n",
    "df = df.with_columns(\n",
    "    pl.when(pl.col('diagnosis_name_condition').is_null()).then(pl.lit(most_common_diagnosis_name)).otherwise('diagnosis_name_condition').alias('diagnosis_name_condition')\n",
    ")\n",
    "\n",
    "# Imputation of \"believed_name_condiiton\"\n",
    "most_common_believed_name = df.select(pl.col('believed_name_condiiton')).to_series().value_counts().sort(by='count', descending = True).select(pl.first('believed_name_condiiton')).to_series()[0]\n",
    "df = df.with_columns(\n",
    "    pl.when(pl.col('believed_name_condiiton').is_null()).then(pl.lit(most_common_believed_name)).otherwise('believed_name_condiiton').alias('believed_name_condiiton')\n",
    ")"
   ]
  },
  {
   "cell_type": "code",
   "execution_count": 29,
   "id": "1e68e1d4-7f9b-40ff-9fc8-f7dfd7f2e4e0",
   "metadata": {},
   "outputs": [],
   "source": [
    "# Need to make a decision what to do with numbers like the comp_size\n",
    "    # Just treat it as a categorical value\n",
    "# Need to make a decision what to do with the textual data (TF-IDF)\n",
    "# Split the Features between textual, ordinal and nominal\n",
    "    # Then encode the categorical features with one technique\n",
    "    # NO, instead use one-hot encoder for nominal and ordinalencoder for ordinal features\n",
    "    # Then encode the textual data with another technique\n",
    "# Scale everything done\n",
    "# Apply Feature selection\n",
    "# Apply dimensionality reduction(?) IS this really necessary at this point? What about principal component analysis as feature selection techinque\n",
    "# Apply K-MEans clustering\n",
    "    # First Choose K via some methods like elbow or some other shit\n",
    "# Evaluate with Matrix and evaluation dataset that I have\n",
    "    # For evaluation take the medical professional diagnosis"
   ]
  },
  {
   "cell_type": "markdown",
   "id": "d21261d4-18a9-4fdb-9417-61ebf7b9c2fe",
   "metadata": {},
   "source": [
    "### Categorize the Features by there type"
   ]
  },
  {
   "cell_type": "code",
   "execution_count": 30,
   "id": "e8c561af-9835-474b-a63d-1fcedbd3bf58",
   "metadata": {},
   "outputs": [
    {
     "name": "stdout",
     "output_type": "stream",
     "text": [
      "shape: (5, 2)\n",
      "┌─────────────────────────────────┬───────┐\n",
      "│ interference_mh_untreated_with… ┆ count │\n",
      "│ ---                             ┆ ---   │\n",
      "│ str                             ┆ u32   │\n",
      "╞═════════════════════════════════╪═══════╡\n",
      "│ rarely                          ┆ 43    │\n",
      "│ often                           ┆ 422   │\n",
      "│ sometimes                       ┆ 287   │\n",
      "│ not applicable to me            ┆ 384   │\n",
      "│ never                           ┆ 10    │\n",
      "└─────────────────────────────────┴───────┘\n"
     ]
    }
   ],
   "source": [
    "# Investigate the different scales of features\n",
    "print(df.to_series(46).value_counts())\n",
    "#with pl.Config(tbl_rows=10):\n",
    "#    print(df.to_series(31).value_counts())"
   ]
  },
  {
   "cell_type": "code",
   "execution_count": 31,
   "id": "823f6cd7-a5cb-431e-a9c3-9b37de9a4f71",
   "metadata": {},
   "outputs": [],
   "source": [
    "# Manually categorize ordinal and nominal features\n",
    "feat_cat_ordinal = ['comp_size' , 'sick_leave_difficulty' , 'availability_of_benefits' , 'availability_of_benefits_prev_employer' , 'mh_discussion_indic_prev_employer' \n",
    "                    , 'mh_resources_availability_indic_prev_employer' , 'anonym_use_benefit_indic_prev_employer' , 'neg_consequences_discussing_mh_prev_employer'\n",
    "                    , 'neg_consequences_discussing_ph_prev_employer' , 'comf_discussing_mh_with_coworker_prev_employer' , 'comf_discussing_mnh_with_supervisor_prev_employer'\n",
    "                    , 'employer_importance_mh_vs_ph_prev_employer' , 'known_neg_consequences_of_mh_prev_employer' , 'willingness_to_share_with_friend_family' , 'interference_mh_treated_with_work'\n",
    "                    , 'interference_mh_untreated_with_work' , 'remote']\n",
    "feat_cat_nominal = ['tech_comp_indic' , 'tech_role_indic' , 'awareness_of_benefits' , 'mh_discussion_indic' , 'mh_resources_availability_indic' \n",
    "                    , 'anonym_use_benefit_indic' , 'neg_consequences_discussing_mh' , 'neg_consequences_discussing_ph' , 'comf_discussing_mh_with_coworker_indic' , 'comf_discussing_mnh_with_supervisor_indic' \n",
    "                    , 'employer_importance_mh_vs_ph' ,'known_neg_consequences_of_mh' , 'prev_employers' , 'awareness_of_benefits_prev_employer' , 'willing_discuss_ph_in_hiring_interview'\n",
    "                    , 'willing_discuss_mh_in_hiring_interview' , 'percevied_neg_impact_carreer_of_mh' , 'perceived_neg_impact_coworker_opiniton_of_mh' , 'neg_response_to_mh' , \n",
    "                    'willingness_to_share_mh_after_observation' , 'mh_family_hist' , 'previous_mh' , 'current_mh'  , 'used_therapy'  , 'gender' , 'country_residency'\n",
    "                    , 'usa_state_residency' , 'country_work' , 'usa_state_work' , 'job_title' , 'diagnosis_name_professional_condition']\n",
    "\n",
    "feat_int = ['age']\n",
    "\n",
    "feat_target_variable = ['diagnosis_professional']\n",
    "\n",
    "# This variable is filled later dynamically\n",
    "feat_text = []"
   ]
  },
  {
   "cell_type": "code",
   "execution_count": 32,
   "id": "576e18a2-0813-4618-aa71-48e2363dfdf5",
   "metadata": {},
   "outputs": [],
   "source": [
    "# Fill the feat_text list with the remaining features\n",
    "# get a list of all columns to compare to\n",
    "column_list = df.columns\n",
    "\n",
    "# Define function to check if entries are missing\n",
    "def fill_feat_text():\n",
    "    for x in column_list:\n",
    "        if x not in feat_cat_ordinal and x not in feat_cat_nominal and x not in feat_int and x not in feat_target_variable and x not in feat_text:\n",
    "            feat_text.append(x)\n",
    "        else:\n",
    "            continue\n",
    "fill_feat_text()\n",
    "\n",
    "# remove the index feature\n",
    "feat_text.remove('index')"
   ]
  },
  {
   "cell_type": "code",
   "execution_count": 33,
   "id": "8865ba35-9867-4c93-86a5-e2b0546db069",
   "metadata": {},
   "outputs": [
    {
     "data": {
      "text/html": [
       "<div><style>\n",
       ".dataframe > thead > tr,\n",
       ".dataframe > tbody > tr {\n",
       "  text-align: right;\n",
       "  white-space: pre-wrap;\n",
       "}\n",
       "</style>\n",
       "<small>shape: (543, 2)</small><table border=\"1\" class=\"dataframe\"><thead><tr><th>neg_response_to_mh</th><th>willingness_to_share_mh_after_observation</th></tr><tr><td>str</td><td>str</td></tr></thead><tbody><tr><td>&quot;no&quot;</td><td>null</td></tr><tr><td>&quot;no&quot;</td><td>null</td></tr><tr><td>&quot;no&quot;</td><td>null</td></tr><tr><td>&quot;no&quot;</td><td>null</td></tr><tr><td>&quot;no&quot;</td><td>null</td></tr><tr><td>&hellip;</td><td>&hellip;</td></tr><tr><td>&quot;no&quot;</td><td>null</td></tr><tr><td>&quot;no&quot;</td><td>null</td></tr><tr><td>&quot;no&quot;</td><td>null</td></tr><tr><td>&quot;no&quot;</td><td>null</td></tr><tr><td>&quot;no&quot;</td><td>null</td></tr></tbody></table></div>"
      ],
      "text/plain": [
       "shape: (543, 2)\n",
       "┌────────────────────┬─────────────────────────────────┐\n",
       "│ neg_response_to_mh ┆ willingness_to_share_mh_after_… │\n",
       "│ ---                ┆ ---                             │\n",
       "│ str                ┆ str                             │\n",
       "╞════════════════════╪═════════════════════════════════╡\n",
       "│ no                 ┆ null                            │\n",
       "│ no                 ┆ null                            │\n",
       "│ no                 ┆ null                            │\n",
       "│ no                 ┆ null                            │\n",
       "│ no                 ┆ null                            │\n",
       "│ …                  ┆ …                               │\n",
       "│ no                 ┆ null                            │\n",
       "│ no                 ┆ null                            │\n",
       "│ no                 ┆ null                            │\n",
       "│ no                 ┆ null                            │\n",
       "│ no                 ┆ null                            │\n",
       "└────────────────────┴─────────────────────────────────┘"
      ]
     },
     "execution_count": 33,
     "metadata": {},
     "output_type": "execute_result"
    }
   ],
   "source": [
    "# Investigate how to impute 'willingness_to_share_mh_after_observation' based on 'neg_response_to_mh'\n",
    "df.select(pl.col(['neg_response_to_mh' ,'willingness_to_share_mh_after_observation' ])).filter((pl.col('neg_response_to_mh') == 'no') | (pl.col('neg_response_to_mh') == 'n/a'))"
   ]
  },
  {
   "cell_type": "code",
   "execution_count": 34,
   "id": "de9a22aa-b91f-4677-968f-4bbc48b39ac7",
   "metadata": {},
   "outputs": [],
   "source": [
    "# Impute the columns 'willingness_to_share_mh_after_observation' with n/a incase 'neg_response_to_mh' was answered with 'no' or 'n/a'\n",
    "df = df.with_columns(\n",
    "    pl.when(pl.col('neg_response_to_mh') == 'n/a', pl.col('willingness_to_share_mh_after_observation').is_null()).then(pl.lit('n/a')).otherwise(pl.col('willingness_to_share_mh_after_observation')).alias('willingness_to_share_mh_after_observation')\n",
    ")\n",
    "df = df.with_columns(\n",
    "    pl.when(pl.col('neg_response_to_mh') == 'no', pl.col('willingness_to_share_mh_after_observation').is_null()).then(pl.lit('n/a')).otherwise(pl.col('willingness_to_share_mh_after_observation')).alias('willingness_to_share_mh_after_observation')\n",
    ")"
   ]
  },
  {
   "cell_type": "code",
   "execution_count": 35,
   "id": "3d3c1121-87e9-4c12-a9bf-cacd1b6728a6",
   "metadata": {},
   "outputs": [],
   "source": [
    "# Impute & standardize the feature 'gender'\n",
    "# At the moment it can be seen that the answers were freeform\n",
    "# To standardize and make things easier the values are converted to only 3, which is 'other' , 'male' and 'female'\n",
    "\n",
    "# Strip entries of whitespace\n",
    "df = df.with_columns(\n",
    "    pl.col('gender').str.strip_chars().alias('gender')\n",
    ")\n",
    "# Standardize male\n",
    "df = df.with_columns(\n",
    "    pl.col('gender').replace(['m' ,  'male.' , 'cis male' , 'male (cis)' , 'man' , 'dude' , 'cis man' , 'sex is male' , 'mail' , 'cisdude'], 'male').alias('gender')\n",
    ")\n",
    "# Standardize female\n",
    "df = df.with_columns(\n",
    "    pl.col('gender').replace(['f' ,  'i identify as female.' , 'cis female' , 'female assigned at birth' , 'female/woman' , 'woman' , 'fm' , 'fem' , 'cisgender female' , 'cis-woman' \n",
    "                              ,'female (props for making this a freeform field, though)'], 'female').alias('gender')\n",
    ")\n",
    "# Standardize female\n",
    "df = df.with_columns(\n",
    "    pl.when(pl.col('gender').is_in(['male' , 'female']).not_()).then(pl.lit('other')).otherwise(pl.col('gender')).alias('gender')\n",
    ")\n",
    "# Impute missing gender values with the most common gender\n",
    "# most common gender\n",
    "most_common_gender = df.select(pl.col('gender')).to_series().value_counts().sort(by='count', descending = True).select(pl.first('gender')).to_series()[0]\n",
    "df = df.with_columns(\n",
    "    pl.when(pl.col('gender').is_null()).then(pl.lit(most_common_gender)).otherwise('gender').alias('gender')\n",
    ")"
   ]
  },
  {
   "cell_type": "code",
   "execution_count": 36,
   "id": "ac25fe40-f7b1-41bd-a2e4-f4d66acea174",
   "metadata": {},
   "outputs": [
    {
     "data": {
      "text/html": [
       "<div><style>\n",
       ".dataframe > thead > tr,\n",
       ".dataframe > tbody > tr {\n",
       "  text-align: right;\n",
       "  white-space: pre-wrap;\n",
       "}\n",
       "</style>\n",
       "<small>shape: (2, 2)</small><table border=\"1\" class=\"dataframe\"><thead><tr><th>diagnosis_professional</th><th>count</th></tr><tr><td>str</td><td>u32</td></tr></thead><tbody><tr><td>&quot;yes&quot;</td><td>567</td></tr><tr><td>&quot;no&quot;</td><td>579</td></tr></tbody></table></div>"
      ],
      "text/plain": [
       "shape: (2, 2)\n",
       "┌────────────────────────┬───────┐\n",
       "│ diagnosis_professional ┆ count │\n",
       "│ ---                    ┆ ---   │\n",
       "│ str                    ┆ u32   │\n",
       "╞════════════════════════╪═══════╡\n",
       "│ yes                    ┆ 567   │\n",
       "│ no                     ┆ 579   │\n",
       "└────────────────────────┴───────┘"
      ]
     },
     "execution_count": 36,
     "metadata": {},
     "output_type": "execute_result"
    }
   ],
   "source": [
    "df.select(pl.col('diagnosis_professional')).to_series().value_counts()"
   ]
  },
  {
   "cell_type": "code",
   "execution_count": 37,
   "id": "e2309797-c3f1-4d33-a66a-ecbc1f706693",
   "metadata": {},
   "outputs": [
    {
     "data": {
      "text/html": [
       "<div><style>\n",
       ".dataframe > thead > tr,\n",
       ".dataframe > tbody > tr {\n",
       "  text-align: right;\n",
       "  white-space: pre-wrap;\n",
       "}\n",
       "</style>\n",
       "<small>shape: (2, 2)</small><table border=\"1\" class=\"dataframe\"><thead><tr><th>diagnosis_name_professional_condition</th><th>count</th></tr><tr><td>bool</td><td>u32</td></tr></thead><tbody><tr><td>true</td><td>583</td></tr><tr><td>false</td><td>563</td></tr></tbody></table></div>"
      ],
      "text/plain": [
       "shape: (2, 2)\n",
       "┌─────────────────────────────────┬───────┐\n",
       "│ diagnosis_name_professional_co… ┆ count │\n",
       "│ ---                             ┆ ---   │\n",
       "│ bool                            ┆ u32   │\n",
       "╞═════════════════════════════════╪═══════╡\n",
       "│ true                            ┆ 583   │\n",
       "│ false                           ┆ 563   │\n",
       "└─────────────────────────────────┴───────┘"
      ]
     },
     "execution_count": 37,
     "metadata": {},
     "output_type": "execute_result"
    }
   ],
   "source": [
    "# imputation diagnosis_name_professional_condition , check for diagnosis_professional and if that is no than put n/a.\n",
    "df.select(pl.col('diagnosis_name_professional_condition').is_null()).to_series().value_counts()"
   ]
  },
  {
   "cell_type": "code",
   "execution_count": 38,
   "id": "be6c9d72-77f2-41ed-8ed5-1f15fe3596a3",
   "metadata": {},
   "outputs": [],
   "source": [
    "# Impute the null values of the feature 'diagnosis_name_professional_condition' , if there is no diagnosis in feature 'diagnosis_professional'\n",
    "# That means they never got one so they cannot give you a name\n",
    "df = df.with_columns(\n",
    "    pl.when(pl.col('diagnosis_professional') == 'no').then(pl.lit('n/a')).otherwise('diagnosis_name_professional_condition').alias('diagnosis_name_professional_condition')\n",
    ")\n",
    "\n",
    "# Impute missing values with the most common diagnosis\n",
    "# Find the name of the most common diagnosis\n",
    "most_common_mh_diagnosis = df.select(pl.col('diagnosis_name_professional_condition')).to_series().value_counts().sort(by='count' , descending=True).to_series()[1]\n",
    "# Impute the missing values with the most common diagnosis\n",
    "df = df.with_columns(\n",
    "    pl.when(pl.col('diagnosis_name_professional_condition').is_null()).then(pl.lit(most_common_mh_diagnosis)).otherwise('diagnosis_name_professional_condition').alias('diagnosis_name_professional_condition')\n",
    ")"
   ]
  },
  {
   "cell_type": "code",
   "execution_count": 39,
   "id": "3e3c2027-dd10-42c8-94bc-371f71bdbbed",
   "metadata": {},
   "outputs": [],
   "source": [
    "# Impute 'willingness_to_share_mh_after_observation' based on the most commonly used answer\n",
    "# Find the name of the most common answer\n",
    "most_common_willingness = df.select(pl.col('willingness_to_share_mh_after_observation')).to_series().value_counts().sort(by='count' , descending=True).to_series()[1]\n",
    "# Impute the missing values with the most common diagnosis\n",
    "df = df.with_columns(\n",
    "    pl.when(pl.col('willingness_to_share_mh_after_observation').is_null()).then(pl.lit(most_common_willingness)).otherwise('willingness_to_share_mh_after_observation').alias('willingness_to_share_mh_after_observation')\n",
    ")"
   ]
  },
  {
   "cell_type": "code",
   "execution_count": 40,
   "id": "b537ec69-25fe-4ad0-81a5-799d6dd67505",
   "metadata": {},
   "outputs": [
    {
     "data": {
      "text/html": [
       "<div><style>\n",
       ".dataframe > thead > tr,\n",
       ".dataframe > tbody > tr {\n",
       "  text-align: right;\n",
       "  white-space: pre-wrap;\n",
       "}\n",
       "</style>\n",
       "<small>shape: (1_146, 17)</small><table border=\"1\" class=\"dataframe\"><thead><tr><th>comp_size</th><th>sick_leave_difficulty</th><th>availability_of_benefits</th><th>availability_of_benefits_prev_employer</th><th>mh_discussion_indic_prev_employer</th><th>mh_resources_availability_indic_prev_employer</th><th>anonym_use_benefit_indic_prev_employer</th><th>neg_consequences_discussing_mh_prev_employer</th><th>neg_consequences_discussing_ph_prev_employer</th><th>comf_discussing_mh_with_coworker_prev_employer</th><th>comf_discussing_mnh_with_supervisor_prev_employer</th><th>employer_importance_mh_vs_ph_prev_employer</th><th>known_neg_consequences_of_mh_prev_employer</th><th>willingness_to_share_with_friend_family</th><th>interference_mh_treated_with_work</th><th>interference_mh_untreated_with_work</th><th>remote</th></tr><tr><td>str</td><td>str</td><td>str</td><td>str</td><td>str</td><td>str</td><td>str</td><td>str</td><td>str</td><td>str</td><td>str</td><td>str</td><td>str</td><td>str</td><td>str</td><td>str</td><td>str</td></tr></thead><tbody><tr><td>&quot;26-100&quot;</td><td>&quot;very easy&quot;</td><td>&quot;not eligible for coverage / n/…</td><td>&quot;no, none did&quot;</td><td>&quot;i don&#x27;t know&quot;</td><td>&quot;none did&quot;</td><td>&quot;i don&#x27;t know&quot;</td><td>&quot;some of them&quot;</td><td>&quot;none of them&quot;</td><td>&quot;some of my previous employers&quot;</td><td>&quot;some of my previous employers&quot;</td><td>&quot;i don&#x27;t know&quot;</td><td>&quot;none of them&quot;</td><td>&quot;somewhat open&quot;</td><td>&quot;not applicable to me&quot;</td><td>&quot;not applicable to me&quot;</td><td>&quot;sometimes&quot;</td></tr><tr><td>&quot;6-25&quot;</td><td>&quot;somewhat easy&quot;</td><td>&quot;no&quot;</td><td>&quot;yes, they all did&quot;</td><td>&quot;none did&quot;</td><td>&quot;some did&quot;</td><td>&quot;yes, always&quot;</td><td>&quot;none of them&quot;</td><td>&quot;none of them&quot;</td><td>&quot;no, at none of my previous emp…</td><td>&quot;some of my previous employers&quot;</td><td>&quot;some did&quot;</td><td>&quot;none of them&quot;</td><td>&quot;somewhat open&quot;</td><td>&quot;rarely&quot;</td><td>&quot;sometimes&quot;</td><td>&quot;never&quot;</td></tr><tr><td>&quot;6-25&quot;</td><td>&quot;neither easy nor difficult&quot;</td><td>&quot;no&quot;</td><td>&quot;no, none did&quot;</td><td>&quot;none did&quot;</td><td>&quot;some did&quot;</td><td>&quot;i don&#x27;t know&quot;</td><td>&quot;i don&#x27;t know&quot;</td><td>&quot;some of them&quot;</td><td>&quot;some of my previous employers&quot;</td><td>&quot;i don&#x27;t know&quot;</td><td>&quot;i don&#x27;t know&quot;</td><td>&quot;some of them&quot;</td><td>&quot;somewhat open&quot;</td><td>&quot;not applicable to me&quot;</td><td>&quot;not applicable to me&quot;</td><td>&quot;always&quot;</td></tr><tr><td>&quot;6-25&quot;</td><td>&quot;neither easy nor difficult&quot;</td><td>&quot;yes&quot;</td><td>&quot;i don&#x27;t know&quot;</td><td>&quot;some did&quot;</td><td>&quot;none did&quot;</td><td>&quot;i don&#x27;t know&quot;</td><td>&quot;some of them&quot;</td><td>&quot;some of them&quot;</td><td>&quot;no, at none of my previous emp…</td><td>&quot;some of my previous employers&quot;</td><td>&quot;some did&quot;</td><td>&quot;some of them&quot;</td><td>&quot;somewhat open&quot;</td><td>&quot;sometimes&quot;</td><td>&quot;sometimes&quot;</td><td>&quot;sometimes&quot;</td></tr><tr><td>&quot;more than 1000&quot;</td><td>&quot;somewhat easy&quot;</td><td>&quot;yes&quot;</td><td>&quot;no, none did&quot;</td><td>&quot;none did&quot;</td><td>&quot;none did&quot;</td><td>&quot;i don&#x27;t know&quot;</td><td>&quot;yes, all of them&quot;</td><td>&quot;some of them&quot;</td><td>&quot;no, at none of my previous emp…</td><td>&quot;no, at none of my previous emp…</td><td>&quot;none did&quot;</td><td>&quot;some of them&quot;</td><td>&quot;somewhat open&quot;</td><td>&quot;not applicable to me&quot;</td><td>&quot;often&quot;</td><td>&quot;sometimes&quot;</td></tr><tr><td>&hellip;</td><td>&hellip;</td><td>&hellip;</td><td>&hellip;</td><td>&hellip;</td><td>&hellip;</td><td>&hellip;</td><td>&hellip;</td><td>&hellip;</td><td>&hellip;</td><td>&hellip;</td><td>&hellip;</td><td>&hellip;</td><td>&hellip;</td><td>&hellip;</td><td>&hellip;</td><td>&hellip;</td></tr><tr><td>&quot;100-500&quot;</td><td>&quot;somewhat easy&quot;</td><td>&quot;i don&#x27;t know&quot;</td><td>&quot;i don&#x27;t know&quot;</td><td>&quot;i don&#x27;t know&quot;</td><td>&quot;some did&quot;</td><td>&quot;i don&#x27;t know&quot;</td><td>&quot;some of them&quot;</td><td>&quot;some of them&quot;</td><td>&quot;some of my previous employers&quot;</td><td>&quot;some of my previous employers&quot;</td><td>&quot;some did&quot;</td><td>&quot;none of them&quot;</td><td>&quot;somewhat open&quot;</td><td>&quot;rarely&quot;</td><td>&quot;often&quot;</td><td>&quot;sometimes&quot;</td></tr><tr><td>&quot;500-1000&quot;</td><td>&quot;somewhat easy&quot;</td><td>&quot;yes&quot;</td><td>&quot;some did&quot;</td><td>&quot;none did&quot;</td><td>&quot;none did&quot;</td><td>&quot;i don&#x27;t know&quot;</td><td>&quot;some of them&quot;</td><td>&quot;none of them&quot;</td><td>&quot;some of my previous employers&quot;</td><td>&quot;no, at none of my previous emp…</td><td>&quot;none did&quot;</td><td>&quot;yes, all of them&quot;</td><td>&quot;very open&quot;</td><td>&quot;rarely&quot;</td><td>&quot;often&quot;</td><td>&quot;always&quot;</td></tr><tr><td>&quot;100-500&quot;</td><td>&quot;somewhat difficult&quot;</td><td>&quot;yes&quot;</td><td>&quot;some did&quot;</td><td>&quot;none did&quot;</td><td>&quot;some did&quot;</td><td>&quot;sometimes&quot;</td><td>&quot;yes, all of them&quot;</td><td>&quot;some of them&quot;</td><td>&quot;some of my previous employers&quot;</td><td>&quot;some of my previous employers&quot;</td><td>&quot;none did&quot;</td><td>&quot;some of them&quot;</td><td>&quot;somewhat open&quot;</td><td>&quot;rarely&quot;</td><td>&quot;sometimes&quot;</td><td>&quot;sometimes&quot;</td></tr><tr><td>&quot;100-500&quot;</td><td>&quot;somewhat difficult&quot;</td><td>&quot;i don&#x27;t know&quot;</td><td>&quot;no, none did&quot;</td><td>&quot;none did&quot;</td><td>&quot;none did&quot;</td><td>&quot;i don&#x27;t know&quot;</td><td>&quot;yes, all of them&quot;</td><td>&quot;none of them&quot;</td><td>&quot;no, at none of my previous emp…</td><td>&quot;no, at none of my previous emp…</td><td>&quot;none did&quot;</td><td>&quot;none of them&quot;</td><td>&quot;somewhat open&quot;</td><td>&quot;sometimes&quot;</td><td>&quot;often&quot;</td><td>&quot;sometimes&quot;</td></tr><tr><td>&quot;100-500&quot;</td><td>&quot;very difficult&quot;</td><td>&quot;yes&quot;</td><td>&quot;not applicable&quot;</td><td>&quot;not applicable&quot;</td><td>&quot;not applicable&quot;</td><td>&quot;not applicable&quot;</td><td>&quot;not applicable&quot;</td><td>&quot;not applicable&quot;</td><td>&quot;not applicable&quot;</td><td>&quot;not applicable&quot;</td><td>&quot;not applicable&quot;</td><td>&quot;not applicable&quot;</td><td>&quot;somewhat open&quot;</td><td>&quot;not applicable to me&quot;</td><td>&quot;often&quot;</td><td>&quot;sometimes&quot;</td></tr></tbody></table></div>"
      ],
      "text/plain": [
       "shape: (1_146, 17)\n",
       "┌──────────────┬──────────────┬──────────────┬──────────────┬───┬──────────────┬─────────────┬─────────────┬───────────┐\n",
       "│ comp_size    ┆ sick_leave_d ┆ availability ┆ availability ┆ … ┆ willingness_ ┆ interferenc ┆ interferenc ┆ remote    │\n",
       "│ ---          ┆ ifficulty    ┆ _of_benefits ┆ _of_benefits ┆   ┆ to_share_wit ┆ e_mh_treate ┆ e_mh_untrea ┆ ---       │\n",
       "│ str          ┆ ---          ┆ ---          ┆ _prev_…      ┆   ┆ h_frie…      ┆ d_with_w…   ┆ ted_with…   ┆ str       │\n",
       "│              ┆ str          ┆ str          ┆ ---          ┆   ┆ ---          ┆ ---         ┆ ---         ┆           │\n",
       "│              ┆              ┆              ┆ str          ┆   ┆ str          ┆ str         ┆ str         ┆           │\n",
       "╞══════════════╪══════════════╪══════════════╪══════════════╪═══╪══════════════╪═════════════╪═════════════╪═══════════╡\n",
       "│ 26-100       ┆ very easy    ┆ not eligible ┆ no, none did ┆ … ┆ somewhat     ┆ not         ┆ not         ┆ sometimes │\n",
       "│              ┆              ┆ for coverage ┆              ┆   ┆ open         ┆ applicable  ┆ applicable  ┆           │\n",
       "│              ┆              ┆ / n/…        ┆              ┆   ┆              ┆ to me       ┆ to me       ┆           │\n",
       "│ 6-25         ┆ somewhat     ┆ no           ┆ yes, they    ┆ … ┆ somewhat     ┆ rarely      ┆ sometimes   ┆ never     │\n",
       "│              ┆ easy         ┆              ┆ all did      ┆   ┆ open         ┆             ┆             ┆           │\n",
       "│ 6-25         ┆ neither easy ┆ no           ┆ no, none did ┆ … ┆ somewhat     ┆ not         ┆ not         ┆ always    │\n",
       "│              ┆ nor          ┆              ┆              ┆   ┆ open         ┆ applicable  ┆ applicable  ┆           │\n",
       "│              ┆ difficult    ┆              ┆              ┆   ┆              ┆ to me       ┆ to me       ┆           │\n",
       "│ 6-25         ┆ neither easy ┆ yes          ┆ i don't know ┆ … ┆ somewhat     ┆ sometimes   ┆ sometimes   ┆ sometimes │\n",
       "│              ┆ nor          ┆              ┆              ┆   ┆ open         ┆             ┆             ┆           │\n",
       "│              ┆ difficult    ┆              ┆              ┆   ┆              ┆             ┆             ┆           │\n",
       "│ more than    ┆ somewhat     ┆ yes          ┆ no, none did ┆ … ┆ somewhat     ┆ not         ┆ often       ┆ sometimes │\n",
       "│ 1000         ┆ easy         ┆              ┆              ┆   ┆ open         ┆ applicable  ┆             ┆           │\n",
       "│              ┆              ┆              ┆              ┆   ┆              ┆ to me       ┆             ┆           │\n",
       "│ …            ┆ …            ┆ …            ┆ …            ┆ … ┆ …            ┆ …           ┆ …           ┆ …         │\n",
       "│ 100-500      ┆ somewhat     ┆ i don't know ┆ i don't know ┆ … ┆ somewhat     ┆ rarely      ┆ often       ┆ sometimes │\n",
       "│              ┆ easy         ┆              ┆              ┆   ┆ open         ┆             ┆             ┆           │\n",
       "│ 500-1000     ┆ somewhat     ┆ yes          ┆ some did     ┆ … ┆ very open    ┆ rarely      ┆ often       ┆ always    │\n",
       "│              ┆ easy         ┆              ┆              ┆   ┆              ┆             ┆             ┆           │\n",
       "│ 100-500      ┆ somewhat     ┆ yes          ┆ some did     ┆ … ┆ somewhat     ┆ rarely      ┆ sometimes   ┆ sometimes │\n",
       "│              ┆ difficult    ┆              ┆              ┆   ┆ open         ┆             ┆             ┆           │\n",
       "│ 100-500      ┆ somewhat     ┆ i don't know ┆ no, none did ┆ … ┆ somewhat     ┆ sometimes   ┆ often       ┆ sometimes │\n",
       "│              ┆ difficult    ┆              ┆              ┆   ┆ open         ┆             ┆             ┆           │\n",
       "│ 100-500      ┆ very         ┆ yes          ┆ not          ┆ … ┆ somewhat     ┆ not         ┆ often       ┆ sometimes │\n",
       "│              ┆ difficult    ┆              ┆ applicable   ┆   ┆ open         ┆ applicable  ┆             ┆           │\n",
       "│              ┆              ┆              ┆              ┆   ┆              ┆ to me       ┆             ┆           │\n",
       "└──────────────┴──────────────┴──────────────┴──────────────┴───┴──────────────┴─────────────┴─────────────┴───────────┘"
      ]
     },
     "execution_count": 40,
     "metadata": {},
     "output_type": "execute_result"
    }
   ],
   "source": [
    "df.select(pl.col(feat_cat_ordinal))"
   ]
  },
  {
   "cell_type": "code",
   "execution_count": 48,
   "id": "bd4cc11e-6b25-410d-8188-e038522f515f",
   "metadata": {},
   "outputs": [
    {
     "data": {
      "text/html": [
       "<div><style>\n",
       ".dataframe > thead > tr,\n",
       ".dataframe > tbody > tr {\n",
       "  text-align: right;\n",
       "  white-space: pre-wrap;\n",
       "}\n",
       "</style>\n",
       "<small>shape: (659, 55)</small><table border=\"1\" class=\"dataframe\"><thead><tr><th>index</th><th>comp_size</th><th>tech_comp_indic</th><th>tech_role_indic</th><th>availability_of_benefits</th><th>awareness_of_benefits</th><th>mh_discussion_indic</th><th>mh_resources_availability_indic</th><th>anonym_use_benefit_indic</th><th>sick_leave_difficulty</th><th>neg_consequences_discussing_mh</th><th>neg_consequences_discussing_ph</th><th>comf_discussing_mh_with_coworker_indic</th><th>comf_discussing_mnh_with_supervisor_indic</th><th>employer_importance_mh_vs_ph</th><th>known_neg_consequences_of_mh</th><th>prev_employers</th><th>availability_of_benefits_prev_employer</th><th>awareness_of_benefits_prev_employer</th><th>mh_discussion_indic_prev_employer</th><th>mh_resources_availability_indic_prev_employer</th><th>anonym_use_benefit_indic_prev_employer</th><th>neg_consequences_discussing_mh_prev_employer</th><th>neg_consequences_discussing_ph_prev_employer</th><th>comf_discussing_mh_with_coworker_prev_employer</th><th>comf_discussing_mnh_with_supervisor_prev_employer</th><th>employer_importance_mh_vs_ph_prev_employer</th><th>known_neg_consequences_of_mh_prev_employer</th><th>willing_discuss_ph_in_hiring_interview</th><th>why_why_not_1</th><th>willing_discuss_mh_in_hiring_interview</th><th>why_why_not_2</th><th>percevied_neg_impact_carreer_of_mh</th><th>perceived_neg_impact_coworker_opiniton_of_mh</th><th>willingness_to_share_with_friend_family</th><th>neg_response_to_mh</th><th>willingness_to_share_mh_after_observation</th><th>mh_family_hist</th><th>previous_mh</th><th>current_mh</th><th>diagnosis_name_condition</th><th>believed_name_condiiton</th><th>diagnosis_professional</th><th>diagnosis_name_professional_condition</th><th>used_therapy</th><th>interference_mh_treated_with_work</th><th>interference_mh_untreated_with_work</th><th>age</th><th>gender</th><th>country_residency</th><th>usa_state_residency</th><th>country_work</th><th>usa_state_work</th><th>job_title</th><th>remote</th></tr><tr><td>u32</td><td>str</td><td>str</td><td>str</td><td>str</td><td>str</td><td>str</td><td>str</td><td>str</td><td>str</td><td>str</td><td>str</td><td>str</td><td>str</td><td>str</td><td>str</td><td>str</td><td>str</td><td>str</td><td>str</td><td>str</td><td>str</td><td>str</td><td>str</td><td>str</td><td>str</td><td>str</td><td>str</td><td>str</td><td>str</td><td>str</td><td>str</td><td>str</td><td>str</td><td>str</td><td>str</td><td>str</td><td>str</td><td>str</td><td>str</td><td>str</td><td>str</td><td>str</td><td>str</td><td>str</td><td>str</td><td>str</td><td>i64</td><td>str</td><td>str</td><td>str</td><td>str</td><td>str</td><td>str</td><td>str</td></tr></thead><tbody><tr><td>0</td><td>&quot;26-100&quot;</td><td>&quot;yes&quot;</td><td>&quot;yes&quot;</td><td>&quot;not eligible for coverage / n/…</td><td>&quot;n/a&quot;</td><td>&quot;no&quot;</td><td>&quot;no&quot;</td><td>&quot;i don&#x27;t know&quot;</td><td>&quot;very easy&quot;</td><td>&quot;no&quot;</td><td>&quot;no&quot;</td><td>&quot;maybe&quot;</td><td>&quot;yes&quot;</td><td>&quot;i don&#x27;t know&quot;</td><td>&quot;no&quot;</td><td>&quot;yes&quot;</td><td>&quot;no, none did&quot;</td><td>&quot;n/a (not currently aware)&quot;</td><td>&quot;i don&#x27;t know&quot;</td><td>&quot;none did&quot;</td><td>&quot;i don&#x27;t know&quot;</td><td>&quot;some of them&quot;</td><td>&quot;none of them&quot;</td><td>&quot;some of my previous employers&quot;</td><td>&quot;some of my previous employers&quot;</td><td>&quot;i don&#x27;t know&quot;</td><td>&quot;none of them&quot;</td><td>&quot;maybe&quot;</td><td>null</td><td>&quot;maybe&quot;</td><td>null</td><td>&quot;maybe&quot;</td><td>&quot;no, i don&#x27;t think they would&quot;</td><td>&quot;somewhat open&quot;</td><td>&quot;no&quot;</td><td>&quot;n/a&quot;</td><td>&quot;no&quot;</td><td>&quot;yes&quot;</td><td>&quot;no&quot;</td><td>&quot;n/a&quot;</td><td>&quot;n/a&quot;</td><td>&quot;yes&quot;</td><td>&quot;anxiety disorder (generalized,…</td><td>&quot;no&quot;</td><td>&quot;not applicable to me&quot;</td><td>&quot;not applicable to me&quot;</td><td>39</td><td>&quot;male&quot;</td><td>&quot;united kingdom&quot;</td><td>&quot;international&quot;</td><td>&quot;united kingdom&quot;</td><td>&quot;international&quot;</td><td>&quot;back-end developer&quot;</td><td>&quot;sometimes&quot;</td></tr><tr><td>1</td><td>&quot;6-25&quot;</td><td>&quot;yes&quot;</td><td>&quot;yes&quot;</td><td>&quot;no&quot;</td><td>&quot;yes&quot;</td><td>&quot;yes&quot;</td><td>&quot;yes&quot;</td><td>&quot;yes&quot;</td><td>&quot;somewhat easy&quot;</td><td>&quot;no&quot;</td><td>&quot;no&quot;</td><td>&quot;maybe&quot;</td><td>&quot;yes&quot;</td><td>&quot;yes&quot;</td><td>&quot;no&quot;</td><td>&quot;yes&quot;</td><td>&quot;yes, they all did&quot;</td><td>&quot;i was aware of some&quot;</td><td>&quot;none did&quot;</td><td>&quot;some did&quot;</td><td>&quot;yes, always&quot;</td><td>&quot;none of them&quot;</td><td>&quot;none of them&quot;</td><td>&quot;no, at none of my previous emp…</td><td>&quot;some of my previous employers&quot;</td><td>&quot;some did&quot;</td><td>&quot;none of them&quot;</td><td>&quot;maybe&quot;</td><td>&quot;it would depend on the health …</td><td>&quot;no&quot;</td><td>&quot;while mental health has become…</td><td>&quot;no, i don&#x27;t think it would&quot;</td><td>&quot;no, i don&#x27;t think they would&quot;</td><td>&quot;somewhat open&quot;</td><td>&quot;no&quot;</td><td>&quot;n/a&quot;</td><td>&quot;yes&quot;</td><td>&quot;yes&quot;</td><td>&quot;yes&quot;</td><td>&quot;anxiety disorder (generalized,…</td><td>&quot;n/a&quot;</td><td>&quot;yes&quot;</td><td>&quot;anxiety disorder (generalized,…</td><td>&quot;yes&quot;</td><td>&quot;rarely&quot;</td><td>&quot;sometimes&quot;</td><td>29</td><td>&quot;male&quot;</td><td>&quot;united states of america&quot;</td><td>&quot;illinois&quot;</td><td>&quot;united states of america&quot;</td><td>&quot;illinois&quot;</td><td>&quot;back-end developer|front-end d…</td><td>&quot;never&quot;</td></tr><tr><td>4</td><td>&quot;6-25&quot;</td><td>&quot;no&quot;</td><td>&quot;no&quot;</td><td>&quot;yes&quot;</td><td>&quot;yes&quot;</td><td>&quot;no&quot;</td><td>&quot;no&quot;</td><td>&quot;no&quot;</td><td>&quot;neither easy nor difficult&quot;</td><td>&quot;yes&quot;</td><td>&quot;maybe&quot;</td><td>&quot;maybe&quot;</td><td>&quot;no&quot;</td><td>&quot;no&quot;</td><td>&quot;no&quot;</td><td>&quot;yes&quot;</td><td>&quot;i don&#x27;t know&quot;</td><td>&quot;n/a (not currently aware)&quot;</td><td>&quot;some did&quot;</td><td>&quot;none did&quot;</td><td>&quot;i don&#x27;t know&quot;</td><td>&quot;some of them&quot;</td><td>&quot;some of them&quot;</td><td>&quot;no, at none of my previous emp…</td><td>&quot;some of my previous employers&quot;</td><td>&quot;some did&quot;</td><td>&quot;some of them&quot;</td><td>&quot;maybe&quot;</td><td>&quot;depending on the interview sta…</td><td>&quot;no&quot;</td><td>&quot;i don&#x27;t know&quot;</td><td>&quot;yes, i think it would&quot;</td><td>&quot;maybe&quot;</td><td>&quot;somewhat open&quot;</td><td>&quot;yes, i experienced&quot;</td><td>&quot;yes&quot;</td><td>&quot;yes&quot;</td><td>&quot;yes&quot;</td><td>&quot;yes&quot;</td><td>&quot;anxiety disorder (generalized,…</td><td>&quot;n/a&quot;</td><td>&quot;yes&quot;</td><td>&quot;anxiety disorder (generalized,…</td><td>&quot;yes&quot;</td><td>&quot;sometimes&quot;</td><td>&quot;sometimes&quot;</td><td>43</td><td>&quot;female&quot;</td><td>&quot;united states of america&quot;</td><td>&quot;illinois&quot;</td><td>&quot;united states of america&quot;</td><td>&quot;illinois&quot;</td><td>&quot;executive leadership|superviso…</td><td>&quot;sometimes&quot;</td></tr><tr><td>5</td><td>&quot;more than 1000&quot;</td><td>&quot;yes&quot;</td><td>&quot;yes&quot;</td><td>&quot;yes&quot;</td><td>&quot;i am not sure&quot;</td><td>&quot;no&quot;</td><td>&quot;yes&quot;</td><td>&quot;yes&quot;</td><td>&quot;somewhat easy&quot;</td><td>&quot;yes&quot;</td><td>&quot;yes&quot;</td><td>&quot;maybe&quot;</td><td>&quot;yes&quot;</td><td>&quot;no&quot;</td><td>&quot;yes&quot;</td><td>&quot;yes&quot;</td><td>&quot;no, none did&quot;</td><td>&quot;yes, i was aware of all of the…</td><td>&quot;none did&quot;</td><td>&quot;none did&quot;</td><td>&quot;i don&#x27;t know&quot;</td><td>&quot;yes, all of them&quot;</td><td>&quot;some of them&quot;</td><td>&quot;no, at none of my previous emp…</td><td>&quot;no, at none of my previous emp…</td><td>&quot;none did&quot;</td><td>&quot;some of them&quot;</td><td>&quot;yes&quot;</td><td>&quot;if it would potentially affect…</td><td>&quot;maybe&quot;</td><td>&quot;it would depend on the field &amp;…</td><td>&quot;yes, i think it would&quot;</td><td>&quot;maybe&quot;</td><td>&quot;somewhat open&quot;</td><td>&quot;yes, i experienced&quot;</td><td>&quot;no&quot;</td><td>&quot;no&quot;</td><td>&quot;no&quot;</td><td>&quot;yes&quot;</td><td>&quot;anxiety disorder (generalized,…</td><td>&quot;n/a&quot;</td><td>&quot;no&quot;</td><td>&quot;n/a&quot;</td><td>&quot;yes&quot;</td><td>&quot;not applicable to me&quot;</td><td>&quot;often&quot;</td><td>42</td><td>&quot;male&quot;</td><td>&quot;united kingdom&quot;</td><td>&quot;international&quot;</td><td>&quot;united kingdom&quot;</td><td>&quot;international&quot;</td><td>&quot;devops/sysadmin|support|back-e…</td><td>&quot;sometimes&quot;</td></tr><tr><td>7</td><td>&quot;more than 1000&quot;</td><td>&quot;yes&quot;</td><td>&quot;yes&quot;</td><td>&quot;yes&quot;</td><td>&quot;yes&quot;</td><td>&quot;no&quot;</td><td>&quot;yes&quot;</td><td>&quot;yes&quot;</td><td>&quot;very easy&quot;</td><td>&quot;no&quot;</td><td>&quot;no&quot;</td><td>&quot;maybe&quot;</td><td>&quot;yes&quot;</td><td>&quot;i don&#x27;t know&quot;</td><td>&quot;no&quot;</td><td>&quot;yes&quot;</td><td>&quot;some did&quot;</td><td>&quot;i was aware of some&quot;</td><td>&quot;some did&quot;</td><td>&quot;some did&quot;</td><td>&quot;sometimes&quot;</td><td>&quot;some of them&quot;</td><td>&quot;some of them&quot;</td><td>&quot;some of my previous employers&quot;</td><td>&quot;some of my previous employers&quot;</td><td>&quot;some did&quot;</td><td>&quot;some of them&quot;</td><td>&quot;no&quot;</td><td>&quot;i feel it&#x27;s irrelevant.&quot;</td><td>&quot;no&quot;</td><td>&quot;same reason.&quot;</td><td>&quot;maybe&quot;</td><td>&quot;maybe&quot;</td><td>&quot;somewhat open&quot;</td><td>&quot;yes, i observed&quot;</td><td>&quot;maybe&quot;</td><td>&quot;yes&quot;</td><td>&quot;yes&quot;</td><td>&quot;yes&quot;</td><td>&quot;anxiety disorder (generalized,…</td><td>&quot;n/a&quot;</td><td>&quot;yes&quot;</td><td>&quot;anxiety disorder (generalized,…</td><td>&quot;yes&quot;</td><td>&quot;sometimes&quot;</td><td>&quot;often&quot;</td><td>37</td><td>&quot;female&quot;</td><td>&quot;united states of america&quot;</td><td>&quot;virginia&quot;</td><td>&quot;united states of america&quot;</td><td>&quot;virginia&quot;</td><td>&quot;dev evangelist/advocate|back-e…</td><td>&quot;always&quot;</td></tr><tr><td>&hellip;</td><td>&hellip;</td><td>&hellip;</td><td>&hellip;</td><td>&hellip;</td><td>&hellip;</td><td>&hellip;</td><td>&hellip;</td><td>&hellip;</td><td>&hellip;</td><td>&hellip;</td><td>&hellip;</td><td>&hellip;</td><td>&hellip;</td><td>&hellip;</td><td>&hellip;</td><td>&hellip;</td><td>&hellip;</td><td>&hellip;</td><td>&hellip;</td><td>&hellip;</td><td>&hellip;</td><td>&hellip;</td><td>&hellip;</td><td>&hellip;</td><td>&hellip;</td><td>&hellip;</td><td>&hellip;</td><td>&hellip;</td><td>&hellip;</td><td>&hellip;</td><td>&hellip;</td><td>&hellip;</td><td>&hellip;</td><td>&hellip;</td><td>&hellip;</td><td>&hellip;</td><td>&hellip;</td><td>&hellip;</td><td>&hellip;</td><td>&hellip;</td><td>&hellip;</td><td>&hellip;</td><td>&hellip;</td><td>&hellip;</td><td>&hellip;</td><td>&hellip;</td><td>&hellip;</td><td>&hellip;</td><td>&hellip;</td><td>&hellip;</td><td>&hellip;</td><td>&hellip;</td><td>&hellip;</td><td>&hellip;</td></tr><tr><td>1426</td><td>&quot;100-500&quot;</td><td>&quot;yes&quot;</td><td>&quot;no&quot;</td><td>&quot;i don&#x27;t know&quot;</td><td>&quot;i am not sure&quot;</td><td>&quot;no&quot;</td><td>&quot;i don&#x27;t know&quot;</td><td>&quot;i don&#x27;t know&quot;</td><td>&quot;somewhat easy&quot;</td><td>&quot;maybe&quot;</td><td>&quot;no&quot;</td><td>&quot;maybe&quot;</td><td>&quot;maybe&quot;</td><td>&quot;i don&#x27;t know&quot;</td><td>&quot;no&quot;</td><td>&quot;yes&quot;</td><td>&quot;i don&#x27;t know&quot;</td><td>&quot;n/a (not currently aware)&quot;</td><td>&quot;i don&#x27;t know&quot;</td><td>&quot;some did&quot;</td><td>&quot;i don&#x27;t know&quot;</td><td>&quot;some of them&quot;</td><td>&quot;some of them&quot;</td><td>&quot;some of my previous employers&quot;</td><td>&quot;some of my previous employers&quot;</td><td>&quot;some did&quot;</td><td>&quot;none of them&quot;</td><td>&quot;maybe&quot;</td><td>null</td><td>&quot;maybe&quot;</td><td>null</td><td>&quot;yes, it has&quot;</td><td>&quot;maybe&quot;</td><td>&quot;somewhat open&quot;</td><td>&quot;yes, i experienced&quot;</td><td>&quot;maybe&quot;</td><td>&quot;i don&#x27;t know&quot;</td><td>&quot;yes&quot;</td><td>&quot;yes&quot;</td><td>&quot;attention deficit hyperactivit…</td><td>&quot;n/a&quot;</td><td>&quot;yes&quot;</td><td>&quot;attention deficit hyperactivit…</td><td>&quot;yes&quot;</td><td>&quot;rarely&quot;</td><td>&quot;often&quot;</td><td>26</td><td>&quot;female&quot;</td><td>&quot;canada&quot;</td><td>&quot;international&quot;</td><td>&quot;canada&quot;</td><td>&quot;international&quot;</td><td>&quot;other&quot;</td><td>&quot;sometimes&quot;</td></tr><tr><td>1427</td><td>&quot;500-1000&quot;</td><td>&quot;yes&quot;</td><td>&quot;no&quot;</td><td>&quot;yes&quot;</td><td>&quot;no&quot;</td><td>&quot;no&quot;</td><td>&quot;no&quot;</td><td>&quot;yes&quot;</td><td>&quot;somewhat easy&quot;</td><td>&quot;no&quot;</td><td>&quot;no&quot;</td><td>&quot;yes&quot;</td><td>&quot;yes&quot;</td><td>&quot;yes&quot;</td><td>&quot;no&quot;</td><td>&quot;yes&quot;</td><td>&quot;some did&quot;</td><td>&quot;i was aware of some&quot;</td><td>&quot;none did&quot;</td><td>&quot;none did&quot;</td><td>&quot;i don&#x27;t know&quot;</td><td>&quot;some of them&quot;</td><td>&quot;none of them&quot;</td><td>&quot;some of my previous employers&quot;</td><td>&quot;no, at none of my previous emp…</td><td>&quot;none did&quot;</td><td>&quot;yes, all of them&quot;</td><td>&quot;no&quot;</td><td>&quot;i would be afraid it would ref…</td><td>&quot;no&quot;</td><td>&quot;i would be certain it would re…</td><td>&quot;maybe&quot;</td><td>&quot;no, i don&#x27;t think they would&quot;</td><td>&quot;very open&quot;</td><td>&quot;yes, i experienced&quot;</td><td>&quot;yes&quot;</td><td>&quot;yes&quot;</td><td>&quot;yes&quot;</td><td>&quot;yes&quot;</td><td>&quot;anxiety disorder (generalized,…</td><td>&quot;n/a&quot;</td><td>&quot;yes&quot;</td><td>&quot;anxiety disorder (generalized,…</td><td>&quot;yes&quot;</td><td>&quot;rarely&quot;</td><td>&quot;often&quot;</td><td>38</td><td>&quot;female&quot;</td><td>&quot;united states of america&quot;</td><td>&quot;illinois&quot;</td><td>&quot;united states of america&quot;</td><td>&quot;illinois&quot;</td><td>&quot;support&quot;</td><td>&quot;always&quot;</td></tr><tr><td>1430</td><td>&quot;100-500&quot;</td><td>&quot;yes&quot;</td><td>&quot;yes&quot;</td><td>&quot;yes&quot;</td><td>&quot;yes&quot;</td><td>&quot;yes&quot;</td><td>&quot;yes&quot;</td><td>&quot;i don&#x27;t know&quot;</td><td>&quot;somewhat difficult&quot;</td><td>&quot;maybe&quot;</td><td>&quot;maybe&quot;</td><td>&quot;yes&quot;</td><td>&quot;yes&quot;</td><td>&quot;i don&#x27;t know&quot;</td><td>&quot;yes&quot;</td><td>&quot;yes&quot;</td><td>&quot;some did&quot;</td><td>&quot;i was aware of some&quot;</td><td>&quot;none did&quot;</td><td>&quot;some did&quot;</td><td>&quot;sometimes&quot;</td><td>&quot;yes, all of them&quot;</td><td>&quot;some of them&quot;</td><td>&quot;some of my previous employers&quot;</td><td>&quot;some of my previous employers&quot;</td><td>&quot;none did&quot;</td><td>&quot;some of them&quot;</td><td>&quot;maybe&quot;</td><td>&quot;fear that doing so would cause…</td><td>&quot;no&quot;</td><td>&quot;fear that the employer would c…</td><td>&quot;yes, it has&quot;</td><td>&quot;no, i don&#x27;t think they would&quot;</td><td>&quot;somewhat open&quot;</td><td>&quot;yes, i observed&quot;</td><td>&quot;yes&quot;</td><td>&quot;yes&quot;</td><td>&quot;yes&quot;</td><td>&quot;maybe&quot;</td><td>&quot;n/a&quot;</td><td>&quot;anxiety disorder (generalized,…</td><td>&quot;yes&quot;</td><td>&quot;anxiety disorder (generalized,…</td><td>&quot;yes&quot;</td><td>&quot;rarely&quot;</td><td>&quot;sometimes&quot;</td><td>52</td><td>&quot;male&quot;</td><td>&quot;united states of america&quot;</td><td>&quot;georgia&quot;</td><td>&quot;united states of america&quot;</td><td>&quot;georgia&quot;</td><td>&quot;back-end developer&quot;</td><td>&quot;sometimes&quot;</td></tr><tr><td>1431</td><td>&quot;100-500&quot;</td><td>&quot;no&quot;</td><td>&quot;no&quot;</td><td>&quot;i don&#x27;t know&quot;</td><td>&quot;i am not sure&quot;</td><td>&quot;no&quot;</td><td>&quot;yes&quot;</td><td>&quot;i don&#x27;t know&quot;</td><td>&quot;somewhat difficult&quot;</td><td>&quot;maybe&quot;</td><td>&quot;no&quot;</td><td>&quot;maybe&quot;</td><td>&quot;yes&quot;</td><td>&quot;no&quot;</td><td>&quot;no&quot;</td><td>&quot;yes&quot;</td><td>&quot;no, none did&quot;</td><td>&quot;n/a (not currently aware)&quot;</td><td>&quot;none did&quot;</td><td>&quot;none did&quot;</td><td>&quot;i don&#x27;t know&quot;</td><td>&quot;yes, all of them&quot;</td><td>&quot;none of them&quot;</td><td>&quot;no, at none of my previous emp…</td><td>&quot;no, at none of my previous emp…</td><td>&quot;none did&quot;</td><td>&quot;none of them&quot;</td><td>&quot;maybe&quot;</td><td>&quot;stigma with some diseases&quot;</td><td>&quot;no&quot;</td><td>&quot;feels like i&#x27;m making a mounta…</td><td>&quot;no, i don&#x27;t think it would&quot;</td><td>&quot;no, i don&#x27;t think they would&quot;</td><td>&quot;somewhat open&quot;</td><td>&quot;yes, i experienced&quot;</td><td>&quot;maybe&quot;</td><td>&quot;yes&quot;</td><td>&quot;maybe&quot;</td><td>&quot;yes&quot;</td><td>&quot;anxiety disorder (generalized,…</td><td>&quot;n/a&quot;</td><td>&quot;yes&quot;</td><td>&quot;mood disorder (depression, bip…</td><td>&quot;no&quot;</td><td>&quot;sometimes&quot;</td><td>&quot;often&quot;</td><td>30</td><td>&quot;female&quot;</td><td>&quot;united states of america&quot;</td><td>&quot;nebraska&quot;</td><td>&quot;united states of america&quot;</td><td>&quot;nebraska&quot;</td><td>&quot;devops/sysadmin&quot;</td><td>&quot;sometimes&quot;</td></tr><tr><td>1432</td><td>&quot;100-500&quot;</td><td>&quot;yes&quot;</td><td>&quot;no&quot;</td><td>&quot;yes&quot;</td><td>&quot;no&quot;</td><td>&quot;no&quot;</td><td>&quot;no&quot;</td><td>&quot;i don&#x27;t know&quot;</td><td>&quot;very difficult&quot;</td><td>&quot;maybe&quot;</td><td>&quot;no&quot;</td><td>&quot;maybe&quot;</td><td>&quot;maybe&quot;</td><td>&quot;no&quot;</td><td>&quot;no&quot;</td><td>&quot;no&quot;</td><td>&quot;not applicable&quot;</td><td>&quot;not applicable&quot;</td><td>&quot;not applicable&quot;</td><td>&quot;not applicable&quot;</td><td>&quot;not applicable&quot;</td><td>&quot;not applicable&quot;</td><td>&quot;not applicable&quot;</td><td>&quot;not applicable&quot;</td><td>&quot;not applicable&quot;</td><td>&quot;not applicable&quot;</td><td>&quot;not applicable&quot;</td><td>&quot;maybe&quot;</td><td>null</td><td>&quot;no&quot;</td><td>null</td><td>&quot;yes, i think it would&quot;</td><td>&quot;no, i don&#x27;t think they would&quot;</td><td>&quot;somewhat open&quot;</td><td>&quot;maybe/not sure&quot;</td><td>&quot;no&quot;</td><td>&quot;i don&#x27;t know&quot;</td><td>&quot;yes&quot;</td><td>&quot;yes&quot;</td><td>&quot;obsessive-compulsive disorder|…</td><td>&quot;n/a&quot;</td><td>&quot;no&quot;</td><td>&quot;n/a&quot;</td><td>&quot;no&quot;</td><td>&quot;not applicable to me&quot;</td><td>&quot;often&quot;</td><td>25</td><td>&quot;other&quot;</td><td>&quot;canada&quot;</td><td>&quot;international&quot;</td><td>&quot;canada&quot;</td><td>&quot;international&quot;</td><td>&quot;other&quot;</td><td>&quot;sometimes&quot;</td></tr></tbody></table></div>"
      ],
      "text/plain": [
       "shape: (659, 55)\n",
       "┌───────┬───────────┬────────────────┬────────────────┬───┬────────────────┬───────────────┬───────────────┬───────────┐\n",
       "│ index ┆ comp_size ┆ tech_comp_indi ┆ tech_role_indi ┆ … ┆ country_work   ┆ usa_state_wor ┆ job_title     ┆ remote    │\n",
       "│ ---   ┆ ---       ┆ c              ┆ c              ┆   ┆ ---            ┆ k             ┆ ---           ┆ ---       │\n",
       "│ u32   ┆ str       ┆ ---            ┆ ---            ┆   ┆ str            ┆ ---           ┆ str           ┆ str       │\n",
       "│       ┆           ┆ str            ┆ str            ┆   ┆                ┆ str           ┆               ┆           │\n",
       "╞═══════╪═══════════╪════════════════╪════════════════╪═══╪════════════════╪═══════════════╪═══════════════╪═══════════╡\n",
       "│ 0     ┆ 26-100    ┆ yes            ┆ yes            ┆ … ┆ united kingdom ┆ international ┆ back-end      ┆ sometimes │\n",
       "│       ┆           ┆                ┆                ┆   ┆                ┆               ┆ developer     ┆           │\n",
       "│ 1     ┆ 6-25      ┆ yes            ┆ yes            ┆ … ┆ united states  ┆ illinois      ┆ back-end deve ┆ never     │\n",
       "│       ┆           ┆                ┆                ┆   ┆ of america     ┆               ┆ loper|front-e ┆           │\n",
       "│       ┆           ┆                ┆                ┆   ┆                ┆               ┆ nd d…         ┆           │\n",
       "│ 4     ┆ 6-25      ┆ no             ┆ no             ┆ … ┆ united states  ┆ illinois      ┆ executive lea ┆ sometimes │\n",
       "│       ┆           ┆                ┆                ┆   ┆ of america     ┆               ┆ dership|super ┆           │\n",
       "│       ┆           ┆                ┆                ┆   ┆                ┆               ┆ viso…         ┆           │\n",
       "│ 5     ┆ more than ┆ yes            ┆ yes            ┆ … ┆ united kingdom ┆ international ┆ devops/sysadm ┆ sometimes │\n",
       "│       ┆ 1000      ┆                ┆                ┆   ┆                ┆               ┆ in|support|ba ┆           │\n",
       "│       ┆           ┆                ┆                ┆   ┆                ┆               ┆ ck-e…         ┆           │\n",
       "│ 7     ┆ more than ┆ yes            ┆ yes            ┆ … ┆ united states  ┆ virginia      ┆ dev evangelis ┆ always    │\n",
       "│       ┆ 1000      ┆                ┆                ┆   ┆ of america     ┆               ┆ t/advocate|ba ┆           │\n",
       "│       ┆           ┆                ┆                ┆   ┆                ┆               ┆ ck-e…         ┆           │\n",
       "│ …     ┆ …         ┆ …              ┆ …              ┆ … ┆ …              ┆ …             ┆ …             ┆ …         │\n",
       "│ 1426  ┆ 100-500   ┆ yes            ┆ no             ┆ … ┆ canada         ┆ international ┆ other         ┆ sometimes │\n",
       "│ 1427  ┆ 500-1000  ┆ yes            ┆ no             ┆ … ┆ united states  ┆ illinois      ┆ support       ┆ always    │\n",
       "│       ┆           ┆                ┆                ┆   ┆ of america     ┆               ┆               ┆           │\n",
       "│ 1430  ┆ 100-500   ┆ yes            ┆ yes            ┆ … ┆ united states  ┆ georgia       ┆ back-end      ┆ sometimes │\n",
       "│       ┆           ┆                ┆                ┆   ┆ of america     ┆               ┆ developer     ┆           │\n",
       "│ 1431  ┆ 100-500   ┆ no             ┆ no             ┆ … ┆ united states  ┆ nebraska      ┆ devops/sysadm ┆ sometimes │\n",
       "│       ┆           ┆                ┆                ┆   ┆ of america     ┆               ┆ in            ┆           │\n",
       "│ 1432  ┆ 100-500   ┆ yes            ┆ no             ┆ … ┆ canada         ┆ international ┆ other         ┆ sometimes │\n",
       "└───────┴───────────┴────────────────┴────────────────┴───┴────────────────┴───────────────┴───────────────┴───────────┘"
      ]
     },
     "execution_count": 48,
     "metadata": {},
     "output_type": "execute_result"
    }
   ],
   "source": [
    "# Investigate how many people have or had mental health issues to find out what interesting target variables we can construct\n",
    "# filter for diagnosis_professional OR current_mh OR previous_mh \n",
    "# Result: 659 people experienced mental health issues at some point. This could lead to a new target variable. Based on this target variable we do what? Maybe we look for those with negative experiences? Or Some other interesting \n",
    "# stuff\n",
    "df.filter(\n",
    "    (pl.col('diagnosis_professional').is_in(pl.lit('yes')))\n",
    "    | (pl.col('current_mh').is_in(pl.lit('yes')))\n",
    "    | (pl.col('previous_mh').is_in(pl.lit('yes')))\n",
    ")"
   ]
  },
  {
   "cell_type": "markdown",
   "id": "4a47716d-b390-4341-b455-80a470a1c88d",
   "metadata": {},
   "source": [
    "### Here the Feature Encoding starts"
   ]
  },
  {
   "cell_type": "markdown",
   "id": "a876e1f2-d2bc-4738-935a-67c8fc03702a",
   "metadata": {},
   "source": [
    "#### Start with Ordinal Encoding"
   ]
  },
  {
   "cell_type": "code",
   "execution_count": null,
   "id": "3002c5fe-55d7-47ad-89c8-1d35e5afcea3",
   "metadata": {},
   "outputs": [],
   "source": [
    "# First encode the Ordinal features via ordinalencoder\n",
    "enc = OrdinalEncoder()\n",
    "#enc.fit(df.select(pl.col(feat_cat_ordinal)))"
   ]
  },
  {
   "cell_type": "code",
   "execution_count": null,
   "id": "03a7bfc0-44e1-433a-afcd-c59095389aac",
   "metadata": {},
   "outputs": [],
   "source": [
    "#enc.categories_"
   ]
  },
  {
   "cell_type": "code",
   "execution_count": null,
   "id": "95cef480-3840-419a-8706-426d2a018709",
   "metadata": {},
   "outputs": [],
   "source": [
    "# Create a ordered list of column names of ordinal features\n",
    "ord_columns = df.select(pl.col(feat_cat_ordinal)).columns\n",
    "# fit and transform the ordinal featrues to the OrdinalTransformation\n",
    "ordinal_transformation = enc.fit_transform(df.select(pl.col(feat_cat_ordinal)))\n",
    "# Create a dataframe of the transformed features\n",
    "df_ordinal_transformation = pl.DataFrame(ordinal_transformation, schema = ord_columns)\n",
    "\n",
    "# replace the original columns with the transformed ones:\n",
    "df = df.with_columns(df_ordinal_transformation)"
   ]
  },
  {
   "cell_type": "code",
   "execution_count": null,
   "id": "c094580e-7ce2-4595-952e-8ca6b2a3254e",
   "metadata": {},
   "outputs": [],
   "source": [
    "df.null_count().transpose(include_header= True).filter(pl.col('column_0') > 0)"
   ]
  },
  {
   "cell_type": "markdown",
   "id": "84ed38b0-012f-4bb4-bcdc-6c4843b2c7f0",
   "metadata": {},
   "source": [
    "#### Target Encoding"
   ]
  },
  {
   "cell_type": "code",
   "execution_count": null,
   "id": "3c565f1a-2016-4003-8b4c-2dfc2b0ae41b",
   "metadata": {},
   "outputs": [],
   "source": [
    "# Investigate the values of each columns and What encoding to apply\n",
    "# Seems like OneHot Encoding would result in waaay too many columns\n",
    "# Instead use target encoding since we have the right values\n",
    "df.select(pl.col(feat_cat_nominal[28])).to_series().value_counts()"
   ]
  },
  {
   "cell_type": "code",
   "execution_count": null,
   "id": "9e2bdd60-4d70-4851-bf69-c1c1571678b8",
   "metadata": {},
   "outputs": [],
   "source": [
    "# Invoke TargetEncoder Class\n",
    "# Select smoothness as \"auto\" because I don't know at the moment how to deal with this properly\n",
    "enc_auto = TargetEncoder(smooth=\"auto\")\n",
    "# Fit the TargetEncoder and Transform the nominal features based on the target variable\n",
    "X_trans = enc_auto.fit_transform(df.select(feat_cat_nominal).to_numpy(), df.select(pl.col(feat_target_variable)).to_numpy().ravel())\n",
    "\n",
    "# construct a dataframe out of the transformed features\n",
    "# Create a dictionary for renaming the columns\n",
    "column_rename_dict = {f\"column_{i}\": col_name for i, col_name in enumerate(feat_cat_nominal)}\n",
    "encoded_features_df = pl.DataFrame(X_trans).rename(column_rename_dict)\n",
    "\n",
    "\n",
    "df = df.with_columns(encoded_features_df)"
   ]
  },
  {
   "cell_type": "markdown",
   "id": "ca088fca-a20f-4a8c-8d35-f5579ba04a06",
   "metadata": {},
   "source": [
    "#### Text-encoding (TF-IDF)"
   ]
  },
  {
   "cell_type": "markdown",
   "id": "bacb48c9-33b6-4794-9c9f-ebe296fa54ea",
   "metadata": {},
   "source": [
    "#### Nothing to see here yet"
   ]
  },
  {
   "cell_type": "markdown",
   "id": "da94c88e-e6d7-4f41-b6a2-b9666b594038",
   "metadata": {},
   "source": [
    "#### Here we can apply TF-IDF and see if we can cluster this with K-Means to find something interesting in the text"
   ]
  },
  {
   "cell_type": "code",
   "execution_count": null,
   "id": "658d594c-f3b8-43d1-b891-1710cd65f948",
   "metadata": {},
   "outputs": [],
   "source": [
    "#with pl.Config(tbl_rows=1500):\n",
    "#    print(df.select(pl.col(['why_why_not_1' , 'why_why_not_2'])))"
   ]
  },
  {
   "cell_type": "markdown",
   "id": "415f58fb-7441-4cc2-a4a1-b7ac2bfa4fd5",
   "metadata": {},
   "source": [
    "#### Construct the almost final DataFrame (For now we leave why_why_not_1/2 out becase maybe this goes into its' own clustering)"
   ]
  },
  {
   "cell_type": "markdown",
   "id": "85664672-a660-4953-904c-083a1bf6480a",
   "metadata": {},
   "source": [
    "#### Scale everything"
   ]
  },
  {
   "cell_type": "code",
   "execution_count": null,
   "id": "a78b95a5-00b1-4b68-a96e-ca8f73dc08d9",
   "metadata": {},
   "outputs": [],
   "source": [
    "# Available methods are:\n",
    "    # Standardscaler/Standardization\n",
    "    # MinMax Scaler\n",
    "    # Robust Scaler --> Is the winner because we will have outliers"
   ]
  },
  {
   "cell_type": "code",
   "execution_count": null,
   "id": "280c787f-d6a9-48a6-8ada-c4361f486681",
   "metadata": {},
   "outputs": [],
   "source": [
    "# Remove textual data and the target variable\n",
    "df_scale = df.drop(['index' , 'diagnosis_professional' , 'why_why_not_1' , 'why_why_not_2' , 'diagnosis_name_condition' , 'believed_name_condiiton'])"
   ]
  },
  {
   "cell_type": "markdown",
   "id": "25bd516b-1db0-4f9b-a426-b8274ca7de4e",
   "metadata": {},
   "source": [
    "#### Construct different Target variables"
   ]
  },
  {
   "cell_type": "code",
   "execution_count": null,
   "id": "7f1d0b18-0606-42fa-903c-43a04d1321b9",
   "metadata": {},
   "outputs": [],
   "source": [
    "df_target_mh_exist = df.select(pl.col('diagnosis_professional'))\n",
    "df_target_mh_effect = None"
   ]
  },
  {
   "cell_type": "code",
   "execution_count": null,
   "id": "4907f09c-d187-4c35-a57a-f18fc7e70bf1",
   "metadata": {},
   "outputs": [],
   "source": [
    "df_scale.head()"
   ]
  },
  {
   "cell_type": "code",
   "execution_count": null,
   "id": "a91645ba-4189-4fc2-8669-6f47d80c9673",
   "metadata": {},
   "outputs": [],
   "source": [
    "# Fit the RobusScaler\n",
    "transformer = RobustScaler().fit(df_scale)\n",
    "transformer"
   ]
  },
  {
   "cell_type": "code",
   "execution_count": null,
   "id": "a70357ef-0c20-4d10-87fc-eb64362ee458",
   "metadata": {},
   "outputs": [],
   "source": [
    "trans_arr = transformer.transform(df_scale)\n",
    "# Extract the columns of the DataFrame\n",
    "df_scale_columns = df_scale.columns\n",
    "# Re-Construct the DataFrame with the scaled information\n",
    "df_trans_arr = pl.DataFrame(trans_arr , schema=df_scale_columns)"
   ]
  },
  {
   "cell_type": "code",
   "execution_count": null,
   "id": "6969e1ec-efeb-4f42-8371-39bd8e3f8b7a",
   "metadata": {},
   "outputs": [],
   "source": [
    "df_trans_arr.head()"
   ]
  },
  {
   "cell_type": "markdown",
   "id": "c837671d-c835-4533-bf62-7d076c8dbddc",
   "metadata": {},
   "source": [
    "### Here we split into to Paths. The goal is to investigate if we can build two predictors via K-Means Clustering: 1 for the existence of Mental health issues and one for the negative impact of existing mental health issues\n",
    "        Note: Check how many people even have mental healht issues\n",
    "### For this purpose we are going to apply different Feature Selection techniques towards different target variables (in theory we need to do the same for the TargetEncoding)\n",
    "        Note: A discussion and consideration of which techniques are supposed to be used needs to be done"
   ]
  },
  {
   "cell_type": "markdown",
   "id": "ec3610ee-e9f3-4635-b9dc-48366d03680f",
   "metadata": {},
   "source": [
    "### Apply Feature Selection"
   ]
  },
  {
   "cell_type": "code",
   "execution_count": null,
   "id": "957e7530-e95b-4b91-9de6-bd18a6eabdd4",
   "metadata": {},
   "outputs": [],
   "source": [
    "# The available techniques are:\n",
    "    # ANOVA-test/Chi-square\n",
    "    # Mutual Information\n",
    "    # Correlation Matrix"
   ]
  },
  {
   "cell_type": "code",
   "execution_count": null,
   "id": "ea19ddbd-44d2-496f-be18-90fe8bfd0995",
   "metadata": {},
   "outputs": [],
   "source": [
    "# Correlation Matrix takes the Variance of a feature and if the variance is below a certain threshold then it is droppd, if it is above than it is selected because it carries information"
   ]
  },
  {
   "cell_type": "markdown",
   "id": "d566e08e-cbd9-4f87-b285-a70bbe677fbf",
   "metadata": {},
   "source": [
    "#### Apply Anova with k=2 for the existence of "
   ]
  },
  {
   "cell_type": "code",
   "execution_count": null,
   "id": "1e003d0f-3d96-481f-996e-d5abdc9f4640",
   "metadata": {},
   "outputs": [],
   "source": [
    "# Get the feature names\n",
    "feature_names = df_scale.columns\n",
    "\n",
    "# Construct the selecotr\n",
    "selector = SelectKBest(score_func=f_classif, k=2)\n",
    "\n",
    "# Fit the selector and transform the DataFrame so that only the K selected features are left according to Anova\n",
    "df_mh_exist_anov = selector.fit_transform(df_scale, df_target_mh_exist.to_series())"
   ]
  },
  {
   "cell_type": "code",
   "execution_count": null,
   "id": "9e97814e-8265-48ae-8249-0045e9cd37c9",
   "metadata": {},
   "outputs": [],
   "source": [
    "# print F- and p-values per feature, sorted by the best features. In vestigate what is happening\n",
    "# Result: It can be seen that the most correlating features are those already implying a mental health issue\n",
    "pl.DataFrame({'features': feature_names, 'Scores': selector.scores_, 'p-values': selector.pvalues_}).sort('Scores', descending=True)"
   ]
  },
  {
   "cell_type": "code",
   "execution_count": null,
   "id": "65240509-f74b-4ed8-811d-d941a613c22b",
   "metadata": {},
   "outputs": [],
   "source": []
  },
  {
   "cell_type": "markdown",
   "id": "f04a2dcf-cf00-45a3-89cf-522e1145e2fa",
   "metadata": {},
   "source": [
    "### Remove a portion of the data to hold back for evaluation and testing"
   ]
  },
  {
   "cell_type": "code",
   "execution_count": null,
   "id": "a71fa2ca-e2fe-4417-a136-ab1d16987866",
   "metadata": {},
   "outputs": [],
   "source": [
    "#df.select(pl.count('index')).max().to_series()[0]\n",
    "df_training = df_trans_arr.with_row_index().filter(pl.col('index') < df.select(pl.count('index')).max().to_series()[0] * 0.7)\n",
    "df_training_no_index = df_training.drop('index') \n",
    "df_testing = df_trans_arr.with_row_index().filter(pl.col('index') >= df.select(pl.count('index')).max().to_series()[0] * 0.7)\n",
    "df_testing_no_index = df_testing.drop('index') "
   ]
  },
  {
   "cell_type": "markdown",
   "id": "6f5d9666-1619-48fb-b41d-6da20eef43eb",
   "metadata": {},
   "source": [
    "### K-Means Clustering"
   ]
  },
  {
   "cell_type": "markdown",
   "id": "6defd27c-9517-4403-9850-14b34c3ea26b",
   "metadata": {},
   "source": [
    "#### Apply Elbow Method to find ideal K"
   ]
  },
  {
   "cell_type": "code",
   "execution_count": null,
   "id": "f6536027-1645-4966-a74a-ec42fb7f1441",
   "metadata": {},
   "outputs": [],
   "source": [
    "model = KMeans()\n",
    "visualizer = KElbowVisualizer(model, k=(1,10))\n",
    "visualizer.fit(df_training_no_index.to_pandas())\n",
    "visualizer.show()"
   ]
  },
  {
   "cell_type": "markdown",
   "id": "7af9e6d1-f2e9-45d3-86cc-20301fffb042",
   "metadata": {},
   "source": [
    "#### Fit K-Means Clustering to the training data"
   ]
  },
  {
   "cell_type": "code",
   "execution_count": null,
   "id": "651ffdc5-a39c-4ebe-8cba-70f72ce2af28",
   "metadata": {},
   "outputs": [],
   "source": [
    "kmeans = KMeans(n_clusters=3, random_state=0, n_init=\"auto\").fit(df_training_no_index)"
   ]
  },
  {
   "cell_type": "markdown",
   "id": "10eb12c4-9ec2-4451-96c8-53bf64436500",
   "metadata": {},
   "source": [
    "#### Show labels, apply testing data to Model and show cluster centers"
   ]
  },
  {
   "cell_type": "code",
   "execution_count": null,
   "id": "5a269a6f-4717-4f12-a26a-6787fad8344c",
   "metadata": {},
   "outputs": [],
   "source": [
    "kmeans.labels_"
   ]
  },
  {
   "cell_type": "code",
   "execution_count": null,
   "id": "80059827-e709-406d-88d4-bdb9899ead12",
   "metadata": {},
   "outputs": [],
   "source": [
    "# Make a prediction on the trained K-Means algorithn\n",
    "prediction_kmean = kmeans.predict(df_testing_no_index)"
   ]
  },
  {
   "cell_type": "code",
   "execution_count": null,
   "id": "d9f413b1-b460-47a7-8dec-d432a5f75458",
   "metadata": {},
   "outputs": [],
   "source": [
    "pl_df = pl.DataFrame({'clusters' : prediction_kmean})\n",
    "testing_data_with_clusters = pl.concat([pl_df , df_testing], how=\"horizontal\")\n",
    "testing_data_with_clusters.head()"
   ]
  },
  {
   "cell_type": "code",
   "execution_count": null,
   "id": "9e774df1-3f45-4a09-8d5c-4a14cb466b56",
   "metadata": {},
   "outputs": [],
   "source": [
    "kmeans.cluster_centers_"
   ]
  }
 ],
 "metadata": {
  "kernelspec": {
   "display_name": "Python 3 (ipykernel)",
   "language": "python",
   "name": "python3"
  },
  "language_info": {
   "codemirror_mode": {
    "name": "ipython",
    "version": 3
   },
   "file_extension": ".py",
   "mimetype": "text/x-python",
   "name": "python",
   "nbconvert_exporter": "python",
   "pygments_lexer": "ipython3",
   "version": "3.10.14"
  }
 },
 "nbformat": 4,
 "nbformat_minor": 5
}
