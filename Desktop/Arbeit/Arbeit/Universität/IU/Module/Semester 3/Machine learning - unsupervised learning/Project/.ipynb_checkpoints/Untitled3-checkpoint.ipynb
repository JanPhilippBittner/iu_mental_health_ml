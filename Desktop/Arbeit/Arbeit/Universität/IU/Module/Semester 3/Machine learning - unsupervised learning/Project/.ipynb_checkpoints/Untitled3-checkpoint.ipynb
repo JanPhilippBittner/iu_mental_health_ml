{
 "cells": [
  {
   "cell_type": "code",
   "execution_count": null,
   "id": "997c9c87-edcf-43b2-9479-c7ba6c2e4c2b",
   "metadata": {},
   "outputs": [],
   "source": [
    "from sklearn.feature_extraction.text import TfidfVectorizer\n",
    "corpus = [\n",
    "    'This is the first document.',\n",
    "    'This document is the second document.',\n",
    "    'And this is the third one.',\n",
    "    'Is this the first document?',\n",
    "]\n",
    "vectorizer = TfidfVectorizer()\n",
    "X = vectorizer.fit_transform(corpus)\n",
    "vectorizer.get_feature_names_out()"
   ]
  },
  {
   "cell_type": "code",
   "execution_count": null,
   "id": "74a58444-bb04-4c6d-81a6-d1654d66f60c",
   "metadata": {},
   "outputs": [],
   "source": [
    "print(X.shape)"
   ]
  }
 ],
 "metadata": {
  "kernelspec": {
   "display_name": "Python 3 (ipykernel)",
   "language": "python",
   "name": "python3"
  },
  "language_info": {
   "codemirror_mode": {
    "name": "ipython",
    "version": 3
   },
   "file_extension": ".py",
   "mimetype": "text/x-python",
   "name": "python",
   "nbconvert_exporter": "python",
   "pygments_lexer": "ipython3",
   "version": "3.10.14"
  }
 },
 "nbformat": 4,
 "nbformat_minor": 5
}
