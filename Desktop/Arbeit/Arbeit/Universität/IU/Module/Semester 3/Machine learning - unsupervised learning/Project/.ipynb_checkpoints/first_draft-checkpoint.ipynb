{
 "cells": [
  {
   "cell_type": "code",
   "execution_count": 35,
   "id": "bca79f0f-290b-4d60-acf0-25c9dfa59f05",
   "metadata": {},
   "outputs": [
    {
     "ename": "SyntaxError",
     "evalue": "invalid syntax (3250906165.py, line 14)",
     "output_type": "error",
     "traceback": [
      "\u001b[1;36m  Cell \u001b[1;32mIn[35], line 14\u001b[1;36m\u001b[0m\n\u001b[1;33m    df_csv[]\u001b[0m\n\u001b[1;37m           ^\u001b[0m\n\u001b[1;31mSyntaxError\u001b[0m\u001b[1;31m:\u001b[0m invalid syntax\n"
     ]
    }
   ],
   "source": [
    "import polars as pl\n",
    "import unicodedata\n",
    "import numpy\n",
    "import seaborn as sns\n",
    "import matplotlib.pyplot as plt\n",
    "\n",
    "# Define the input CSV file and create a DataFrame\n",
    "csv = 'input.csv'\n",
    "df_csv = pl.read_csv(csv)\n",
    "\n",
    "# Get the shape of dataframe\n",
    "print(df_csv.shape)"
   ]
  },
  {
   "cell_type": "code",
   "execution_count": 26,
   "id": "6930a0ed-4e0a-4812-af22-c5582ff937b4",
   "metadata": {},
   "outputs": [
    {
     "name": "stdout",
     "output_type": "stream",
     "text": [
      "<class 'polars.dataframe.frame.DataFrame'>\n"
     ]
    },
    {
     "ename": "AttributeError",
     "evalue": "'Series' object has no attribute 'apply'",
     "output_type": "error",
     "traceback": [
      "\u001b[1;31m---------------------------------------------------------------------------\u001b[0m",
      "\u001b[1;31mAttributeError\u001b[0m                            Traceback (most recent call last)",
      "Cell \u001b[1;32mIn[26], line 11\u001b[0m\n\u001b[0;32m      9\u001b[0m         dataframe[x] \u001b[38;5;241m=\u001b[39m dataframe[x]\u001b[38;5;241m.\u001b[39mapply(\u001b[38;5;28;01mlambda\u001b[39;00m y: unicodedata\u001b[38;5;241m.\u001b[39mnormalize(\u001b[38;5;124m'\u001b[39m\u001b[38;5;124mNFKC\u001b[39m\u001b[38;5;124m'\u001b[39m, \u001b[38;5;28mstr\u001b[39m(y)))\n\u001b[0;32m     10\u001b[0m     \u001b[38;5;28;01mreturn\u001b[39;00m dataframe\n\u001b[1;32m---> 11\u001b[0m \u001b[43mnormalize\u001b[49m\u001b[43m(\u001b[49m\u001b[43mdf_csv\u001b[49m\u001b[43m)\u001b[49m\n",
      "Cell \u001b[1;32mIn[26], line 6\u001b[0m, in \u001b[0;36mnormalize\u001b[1;34m(dataframe)\u001b[0m\n\u001b[0;32m      4\u001b[0m \u001b[38;5;28mprint\u001b[39m(\u001b[38;5;28mtype\u001b[39m(dataframe))\n\u001b[0;32m      5\u001b[0m \u001b[38;5;28;01mfor\u001b[39;00m x \u001b[38;5;129;01min\u001b[39;00m columns:\n\u001b[1;32m----> 6\u001b[0m     dataframe[x] \u001b[38;5;241m=\u001b[39m \u001b[43mdataframe\u001b[49m\u001b[43m[\u001b[49m\u001b[43mx\u001b[49m\u001b[43m]\u001b[49m\u001b[38;5;241;43m.\u001b[39;49m\u001b[43mapply\u001b[49m(\u001b[38;5;28;01mlambda\u001b[39;00m y: unicodedata\u001b[38;5;241m.\u001b[39mnormalize(\u001b[38;5;124m'\u001b[39m\u001b[38;5;124mNFD\u001b[39m\u001b[38;5;124m'\u001b[39m , \u001b[38;5;28mstr\u001b[39m(y)))\n\u001b[0;32m      7\u001b[0m     dataframe[x] \u001b[38;5;241m=\u001b[39m dataframe[x]\u001b[38;5;241m.\u001b[39mapply(\u001b[38;5;28;01mlambda\u001b[39;00m y: unicodedata\u001b[38;5;241m.\u001b[39mnormalize(\u001b[38;5;124m'\u001b[39m\u001b[38;5;124mNFC\u001b[39m\u001b[38;5;124m'\u001b[39m , \u001b[38;5;28mstr\u001b[39m(y)))\n\u001b[0;32m      8\u001b[0m     dataframe[x] \u001b[38;5;241m=\u001b[39m dataframe[x]\u001b[38;5;241m.\u001b[39mapply(\u001b[38;5;28;01mlambda\u001b[39;00m y: unicodedata\u001b[38;5;241m.\u001b[39mnormalize(\u001b[38;5;124m'\u001b[39m\u001b[38;5;124mNFKD\u001b[39m\u001b[38;5;124m'\u001b[39m , \u001b[38;5;28mstr\u001b[39m(y)))\n",
      "\u001b[1;31mAttributeError\u001b[0m: 'Series' object has no attribute 'apply'"
     ]
    }
   ],
   "source": [
    "# unicode normalization\n",
    "def normalize(dataframe):\n",
    "    columns = dataframe.columns\n",
    "    for x in columns:\n",
    "        dataframe[x] = dataframe[x].apply(lambda y: unicodedata.normalize('NFD' , str(y)))\n",
    "        dataframe[x] = dataframe[x].apply(lambda y: unicodedata.normalize('NFC' , str(y)))\n",
    "        dataframe[x] = dataframe[x].apply(lambda y: unicodedata.normalize('NFKD' , str(y)))\n",
    "        dataframe[x] = dataframe[x].apply(lambda y: unicodedata.normalize('NFKC', str(y)))\n",
    "    return dataframe\n",
    "normalize(df_csv)"
   ]
  },
  {
   "cell_type": "code",
   "execution_count": 3,
   "id": "b016fcff-d8bd-4882-87f6-9e2a5a33d4ea",
   "metadata": {},
   "outputs": [
    {
     "name": "stdout",
     "output_type": "stream",
     "text": [
      "['self-employed_indic', 'comp_size', 'tech_comp_indic', 'tech_role_indic', 'availability_of_benefits', 'awareness_of_benefits', 'mh_discussion_indic', 'mh_resources_availability_indic', 'anonym_use_benefit_indic', 'sick_leave_difficulty', 'neg_consequences_discussing_mh', 'neg_consequences_discussing_ph', 'comf_discussing_mh_with_coworker_indic', 'comf_discussing_mnh_with_supervisor_indic', 'employer_importance_mh_vs_ph', 'known_neg_consequences_of_mh', 'med_coverage_mh_indic', 'known_mh_sources', 'mention_mh_to_clients', 'neg_impact_of_reveal_to_client_of_mh', 'mention_mh_to_employees', 'neg_impact_of_reveal_to_employee_of_mh', 'productivity_effect_of_mh', 'time_effect_of_mh', 'prev_employers', 'availability_of_benefits_prev_employer', 'awareness_of_benefits_prev_employer', 'mh_discussion_indic_prev_employer', 'mh_resources_availability_indic_prev_employer', 'anonym_use_benefit_indic_prev_employer', 'neg_consequences_discussing_mh_prev_employer', 'neg_consequences_discussing_ph_prev_employer', 'comf_discussing_mh_with_coworker_prev_employer', 'comf_discussing_mnh_with_supervisor_prev_employer', 'employer_importance_mh_vs_ph_prev_employer', 'known_neg_consequences_of_mh_prev_employer', 'willing_discuss_ph_in_hiring_interview', 'why_why_not_1', 'willing_discuss_mh_in_hiring_interview', 'why_why_not_2', 'percevied_neg_impact_carreer_of_mh', 'perceived_neg_impact_coworker_opiniton_of_mh', 'willingness_to_share_with_friend_family', 'neg_response_to_mh', 'willingness_to_share_mh_after_observation', 'mh_family_hist', 'previous_mh', 'current_mh', 'diagnosis_name_condition', 'believed_name_condiiton', 'diagnosis_professional', 'diagnosis_name_professional_condition', 'used_therapy', 'interference_mh_treated_with_work', 'interference_mh_untreated_with_work', 'age', 'gender', 'country_residency', 'usa_state_residency', 'country_work', 'usa_state_work', 'job_title', 'remote']\n"
     ]
    }
   ],
   "source": [
    "# Here we rename the columns\n",
    "# Create a list of all column names to preserve the originals for later\n",
    "col_names = df_csv.columns\n",
    "\n",
    "# Dictionary to rename columns\n",
    "new_names = { \"Are you self-employed?\" : \"self-employed_indic\" ,\n",
    "             \"How many employees does your company or organization have?\" : \"comp_size\" ,\n",
    "             \"Is your employer primarily a tech company/organization?\" : \"tech_comp_indic\" ,\n",
    "             \"Is your primary role within your company related to tech/IT?\" : \"tech_role_indic\",\n",
    "             \"Does your employer provide mental health benefits as part of healthcare coverage?\" : \"availability_of_benefits\" ,\n",
    "             \"Do you know the options for mental health care available under your employer-provided coverage?\" : \"awareness_of_benefits\" , \n",
    "             \"Has your employer ever formally discussed mental health (for example, as part of a wellness campaign or other official communication)?\" : \"mh_discussion_indic\" ,\n",
    "             \"Does your employer offer resources to learn more about mental health concerns and options for seeking help?\" : \"mh_resources_availability_indic\" ,\n",
    "             \"Is your anonymity protected if you choose to take advantage of mental health or substance abuse treatment resources provided by your employer?\" : \"anonym_use_benefit_indic\" ,\n",
    "             \"If a mental health issue prompted you to request a medical leave from work, asking for that leave would be:\" : \"sick_leave_difficulty\" ,\n",
    "             \"Do you think that discussing a mental health disorder with your employer would have negative consequences?\" : \"neg_consequences_discussing_mh\" ,\n",
    "             \"Do you think that discussing a physical health issue with your employer would have negative consequences?\" : \"neg_consequences_discussing_ph\" ,\n",
    "             \"Would you feel comfortable discussing a mental health disorder with your coworkers?\" : \"comf_discussing_mh_with_coworker_indic\" ,\n",
    "             \"Would you feel comfortable discussing a mental health disorder with your direct supervisor(s)?\" : \"comf_discussing_mnh_with_supervisor_indic\" ,\n",
    "             \"Do you feel that your employer takes mental health as seriously as physical health?\" : \"employer_importance_mh_vs_ph\" ,\n",
    "             \"Have you heard of or observed negative consequences for co-workers who have been open about mental health issues in your workplace?\" : \"known_neg_consequences_of_mh\" ,\n",
    "             \"Do you have medical coverage (private insurance or state-provided) which includes treatment of \\xa0mental health issues?\" : \"med_coverage_mh_indic\" ,\n",
    "             \"Do you know local or online resources to seek help for a mental health disorder?\" : \"known_mh_sources\" ,\n",
    "             \"If you have been diagnosed or treated for a mental health disorder, do you ever reveal this to clients or business contacts?\" : \"mention_mh_to_clients\" ,\n",
    "             \"If you have revealed a mental health issue to a client or business contact, do you believe this has impacted you negatively?\" : \"neg_impact_of_reveal_to_client_of_mh\" ,\n",
    "             \"If you have been diagnosed or treated for a mental health disorder, do you ever reveal this to coworkers or employees?\" : \"mention_mh_to_employees\" ,\n",
    "             \"If you have revealed a mental health issue to a coworker or employee, do you believe this has impacted you negatively?\" : \"neg_impact_of_reveal_to_employee_of_mh\" ,\n",
    "             \"Do you believe your productivity is ever affected by a mental health issue?\" : \"productivity_effect_of_mh\" ,\n",
    "             \"If yes, what percentage of your work time (time performing primary or secondary job functions) is affected by a mental health issue?\" : \"time_effect_of_mh\" ,\n",
    "             \"Do you have previous employers?\" : \"prev_employers\" ,\n",
    "             \"Have your previous employers provided mental health benefits?\" : \"availability_of_benefits_prev_employer\" , \n",
    "             \"Were you aware of the options for mental health care provided by your previous employers?\" : \"awareness_of_benefits_prev_employer\" ,\n",
    "             \"Did your previous employers ever formally discuss mental health (as part of a wellness campaign or other official communication)?\" : \"mh_discussion_indic_prev_employer\" ,\n",
    "             \"Did your previous employers provide resources to learn more about mental health issues and how to seek help?\" : \"mh_resources_availability_indic_prev_employer\" ,\n",
    "             \"Was your anonymity protected if you chose to take advantage of mental health or substance abuse treatment resources with previous employers?\" : \"anonym_use_benefit_indic_prev_employer\" ,\n",
    "             \"Do you think that discussing a mental health disorder with previous employers would have negative consequences?\" : \"neg_consequences_discussing_mh_prev_employer\" , \n",
    "             \"Do you think that discussing a physical health issue with previous employers would have negative consequences?\" : \"neg_consequences_discussing_ph_prev_employer\" ,\n",
    "             \"Would you have been willing to discuss a mental health issue with your previous co-workers?\" : \"comf_discussing_mh_with_coworker_prev_employer\" ,\n",
    "             \"Would you have been willing to discuss a mental health issue with your direct supervisor(s)?\" : \"comf_discussing_mnh_with_supervisor_prev_employer\" ,\n",
    "             \"Did you feel that your previous employers took mental health as seriously as physical health?\" : \"employer_importance_mh_vs_ph_prev_employer\" ,\n",
    "             \"Did you hear of or observe negative consequences for co-workers with mental health issues in your previous workplaces?\" : \"known_neg_consequences_of_mh_prev_employer\" ,\n",
    "             \"Would you be willing to bring up a physical health issue with a potential employer in an interview?\" : \"willing_discuss_ph_in_hiring_interview\" ,\n",
    "             \"Why or why not?\" : \"why_why_not_1\" ,\n",
    "             \"Would you bring up a mental health issue with a potential employer in an interview?\" : \"willing_discuss_mh_in_hiring_interview\" ,\n",
    "             \"Why or why not?2\" : \"why_why_not_2\" ,\n",
    "             \"Do you feel that being identified as a person with a mental health issue would hurt your career?\" : \"percevied_neg_impact_carreer_of_mh\" ,\n",
    "             \"Do you think that team members/co-workers would view you more negatively if they knew you suffered from a mental health issue?\" : \"perceived_neg_impact_coworker_opiniton_of_mh\" ,\n",
    "             \"How willing would you be to share with friends and family that you have a mental illness?\" : \"willingness_to_share_with_friend_family\" ,\n",
    "             \"Have you observed or experienced an unsupportive or badly handled response to a mental health issue in your current or previous workplace?\" : \"neg_response_to_mh\" ,\n",
    "             \"Have your observations of how another individual who discussed a mental health disorder made you less likely to reveal a mental health issue yourself in your current workplace?\" : \"willingness_to_share_mh_after_observation\" ,\n",
    "             \"Do you have a family history of mental illness?\" : \"mh_family_hist\" ,\n",
    "             \"Have you had a mental health disorder in the past?\" : \"previous_mh\" ,\n",
    "             \"Do you currently have a mental health disorder?\" : \"current_mh\" ,\n",
    "             \"If yes, what condition(s) have you been diagnosed with?\" :  \"diagnosis_name_condition\" ,\n",
    "             \"If maybe, what condition(s) do you believe you have?\" : \"believed_name_condiiton\" ,\n",
    "             \"Have you been diagnosed with a mental health condition by a medical professional?\" : \"diagnosis_professional\" ,\n",
    "             \"If so, what condition(s) were you diagnosed with?\" : \"diagnosis_name_professional_condition\" ,\n",
    "             \"Have you ever sought treatment for a mental health issue from a mental health professional?\" : \"used_therapy\" ,\n",
    "             \"If you have a mental health issue, do you feel that it interferes with your work when being treated effectively?\" : \"interference_mh_treated_with_work\" ,\n",
    "             \"If you have a mental health issue, do you feel that it interferes with your work when NOT being treated effectively?\" : \"interference_mh_untreated_with_work\" ,\n",
    "             \"What is your age?\" : \"age\" ,\n",
    "             \"What is your gender?\" : \"gender\" ,\n",
    "             \"What country do you live in?\" : \"country_residency\" ,\n",
    "             \"What US state or territory do you live in?\" : \"usa_state_residency\" ,\n",
    "             \"What country do you work in?\" : \"country_work\" ,\n",
    "             \"What US state or territory do you work in?\" : \"usa_state_work\" ,\n",
    "             \"Which of the following best describes your work position?\" : \"job_title\" ,\n",
    "             \"Do you work remotely?\" : \"remote\" ,\n",
    "            }\n",
    "\n",
    "# Rename the keys in the dictionary with the names of the original DataFrame. This has to be done because I copied the titles from excel which was stupid\n",
    "new_names = dict( (col_names[list(new_names.keys()).index(key)], value) for key, value in new_names.items() )\n",
    "\n",
    "df_csv = df_csv.rename(new_names)"
   ]
  },
  {
   "cell_type": "code",
   "execution_count": 2,
   "id": "23045586-8801-4349-827a-457e0713c6b0",
   "metadata": {},
   "outputs": [
    {
     "data": {
      "text/plain": [
       "[Text(0, 0, '43'), Text(0, 0, '20'), Text(0, 0, '12')]"
      ]
     },
     "execution_count": 2,
     "metadata": {},
     "output_type": "execute_result"
    },
    {
     "data": {
      "image/png": "[encoded data removed]",
      "text/plain": [
       "<Figure size 640x480 with 1 Axes>"
      ]
     },
     "metadata": {},
     "output_type": "display_data"
    }
   ],
   "source": [
    "# Count columns with null values and those without\n",
    "null_counts = df_csv.null_count()\n",
    "\n",
    "# Transpose the dataframe to write the amount of null values entriewise\n",
    "null_counts_trans = null_counts.transpose(include_header= True)\n",
    "# Get the number of columns with null values and without\n",
    "true_null_counts = null_counts_trans.filter(pl.col(\"column_0\") == 0).shape[0]\n",
    "non_null_counts = null_counts_trans.filter(pl.col(\"column_0\") != 0).shape[0]\n",
    "\n",
    "# Calculate the percentage of NULL values per column and get the number\n",
    "null_counts_perc = null_counts_trans.with_columns((pl.col(\"column_0\") / 1433 * 100).cast(pl.Int32).alias(\"null_perc\") )\n",
    "num_null_counts_exc_50_perc = null_counts_perc.filter(pl.col(\"null_perc\") >= 50).shape[0]\n",
    "\n",
    "# Create a dictionary with the relevant information\n",
    "nulls_dict = {\"No Nulls\" : non_null_counts , \"Nulls\" : true_null_counts ,  \"> 50% Null\" : num_null_counts_exc_50_perc}\n",
    "# Plot the amount of columns with null values\n",
    "ax = sns.barplot(data=nulls_dict)\n",
    "ax.set(xlabel='' , ylabel='Number of Columns')\n",
    "ax.set_title(\"Number of Columns with Null Values\")\n",
    "ax.bar_label(ax.containers[0], fontsize=10)"
   ]
  },
  {
   "cell_type": "code",
   "execution_count": 4,
   "id": "0a6fe6e7-389b-401a-b85f-9274136e2dcc",
   "metadata": {},
   "outputs": [
    {
     "name": "stdout",
     "output_type": "stream",
     "text": [
      "Rows: 1433\n",
      "Columns: 63\n",
      "$ self-employed_indic                               <i64> 0, 0, 0, 1, 0, 0, 0, 0, 0, 1\n",
      "$ comp_size                                         <str> '26-100', '6-25', '6-25', None, '6-25', 'More than 1000', '26-100', 'More than 1000', '26-100', None\n",
      "$ tech_comp_indic                                   <i64> 1, 1, 1, None, 0, 1, 1, 1, 0, None\n",
      "$ tech_role_indic                                   <i64> None, None, None, None, 1, None, None, None, 1, None\n",
      "$ availability_of_benefits                          <str> 'Not eligible for coverage / N/A', 'No', 'No', None, 'Yes', 'Yes', \"I don't know\", 'Yes', \"I don't know\", None\n",
      "$ awareness_of_benefits                             <str> 'N/A', 'Yes', 'N/A', None, 'Yes', 'I am not sure', 'No', 'Yes', 'No', None\n",
      "$ mh_discussion_indic                               <str> 'No', 'Yes', 'No', None, 'No', 'No', 'No', 'No', 'No', None\n",
      "$ mh_resources_availability_indic                   <str> 'No', 'Yes', 'No', None, 'No', 'Yes', 'No', 'Yes', 'No', None\n",
      "$ anonym_use_benefit_indic                          <str> \"I don't know\", 'Yes', \"I don't know\", None, 'No', 'Yes', \"I don't know\", 'Yes', \"I don't know\", None\n",
      "$ sick_leave_difficulty                             <str> 'Very easy', 'Somewhat easy', 'Neither easy nor difficult', None, 'Neither easy nor difficult', 'Somewhat easy', 'Somewhat easy', 'Very easy', 'Very difficult', None\n",
      "$ neg_consequences_discussing_mh                    <str> 'No', 'No', 'Maybe', None, 'Yes', 'Yes', 'No', 'No', 'Yes', None\n",
      "$ neg_consequences_discussing_ph                    <str> 'No', 'No', 'No', None, 'Maybe', 'Yes', 'No', 'No', 'Yes', None\n",
      "$ comf_discussing_mh_with_coworker_indic            <str> 'Maybe', 'Maybe', 'Maybe', None, 'Maybe', 'Maybe', 'Maybe', 'Maybe', 'Yes', None\n",
      "$ comf_discussing_mnh_with_supervisor_indic         <str> 'Yes', 'Yes', 'Maybe', None, 'No', 'Yes', 'Yes', 'Yes', 'Maybe', None\n",
      "$ employer_importance_mh_vs_ph                      <str> \"I don't know\", 'Yes', \"I don't know\", None, 'No', 'No', 'Yes', \"I don't know\", 'No', None\n",
      "$ known_neg_consequences_of_mh                      <str> 'No', 'No', 'No', None, 'No', 'Yes', 'No', 'No', 'No', None\n",
      "$ med_coverage_mh_indic                             <i64> None, None, None, 1, None, None, None, None, None, 1\n",
      "$ known_mh_sources                                  <str> None, None, None, 'Yes, I know several', None, None, None, None, None, 'I know some'\n",
      "$ mention_mh_to_clients                             <str> None, None, None, 'Sometimes, if it comes up', None, None, None, None, None, \"No, because it doesn't matter\"\n",
      "$ neg_impact_of_reveal_to_client_of_mh              <str> None, None, None, \"I'm not sure\", None, None, None, None, None, 'N/A'\n",
      "$ mention_mh_to_employees                           <str> None, None, None, 'Sometimes, if it comes up', None, None, None, None, None, 'Sometimes, if it comes up'\n",
      "$ neg_impact_of_reveal_to_employee_of_mh            <str> None, None, None, \"I'm not sure\", None, None, None, None, None, 'No'\n",
      "$ productivity_effect_of_mh                         <str> None, None, None, 'Yes', None, None, None, None, None, 'Yes'\n",
      "$ time_effect_of_mh                                 <str> None, None, None, '1-25%', None, None, None, None, None, '1-25%'\n",
      "$ prev_employers                                    <i64> 1, 1, 1, 1, 1, 1, 1, 1, 1, 1\n",
      "$ availability_of_benefits_prev_employer            <str> 'No, none did', 'Yes, they all did', 'No, none did', 'Some did', \"I don't know\", 'No, none did', 'Some did', 'Some did', \"I don't know\", 'Some did'\n",
      "$ awareness_of_benefits_prev_employer               <str> 'N/A (not currently aware)', 'I was aware of some', 'N/A (not currently aware)', 'N/A (not currently aware)', 'N/A (not currently aware)', 'Yes, I was aware of all of them', 'I was aware of some', 'I was aware of some', 'N/A (not currently aware)', 'I was aware of some'\n",
      "$ mh_discussion_indic_prev_employer                 <str> \"I don't know\", 'None did', 'None did', 'None did', 'Some did', 'None did', 'None did', 'Some did', 'Some did', 'None did'\n",
      "$ mh_resources_availability_indic_prev_employer     <str> 'None did', 'Some did', 'Some did', 'None did', 'None did', 'None did', 'Some did', 'Some did', 'None did', 'None did'\n",
      "$ anonym_use_benefit_indic_prev_employer            <str> \"I don't know\", 'Yes, always', \"I don't know\", \"I don't know\", \"I don't know\", \"I don't know\", \"I don't know\", 'Sometimes', \"I don't know\", \"I don't know\"\n",
      "$ neg_consequences_discussing_mh_prev_employer      <str> 'Some of them', 'None of them', \"I don't know\", 'Some of them', 'Some of them', 'Yes, all of them', 'None of them', 'Some of them', 'Yes, all of them', 'Some of them'\n",
      "$ neg_consequences_discussing_ph_prev_employer      <str> 'None of them', 'None of them', 'Some of them', 'Some of them', 'Some of them', 'Some of them', 'None of them', 'Some of them', 'Yes, all of them', 'Some of them'\n",
      "$ comf_discussing_mh_with_coworker_prev_employer    <str> 'Some of my previous employers', 'No, at none of my previous employers', 'Some of my previous employers', 'Some of my previous employers', 'No, at none of my previous employers', 'No, at none of my previous employers', 'Some of my previous employers', 'Some of my previous employers', 'No, at none of my previous employers', 'Some of my previous employers'\n",
      "$ comf_discussing_mnh_with_supervisor_prev_employer <str> 'Some of my previous employers', 'Some of my previous employers', \"I don't know\", 'Some of my previous employers', 'Some of my previous employers', 'No, at none of my previous employers', 'Yes, at all of my previous employers', 'Some of my previous employers', 'No, at none of my previous employers', 'Some of my previous employers'\n",
      "$ employer_importance_mh_vs_ph_prev_employer        <str> \"I don't know\", 'Some did', \"I don't know\", \"I don't know\", 'Some did', 'None did', 'Some did', 'Some did', 'None did', \"I don't know\"\n",
      "$ known_neg_consequences_of_mh_prev_employer        <str> 'None of them', 'None of them', 'Some of them', 'Some of them', 'Some of them', 'Some of them', 'None of them', 'Some of them', 'None of them', 'None of them'\n",
      "$ willing_discuss_ph_in_hiring_interview            <str> 'Maybe', 'Maybe', 'Yes', 'Yes', 'Maybe', 'Yes', 'Yes', 'No', 'Maybe', 'Yes'\n",
      "$ why_why_not_1                                     <str> None, 'It would depend on the health issue. If there is a health issue that would not immediately affect my job performance, such as diabetes, I would not bring it up during the interview. If it was something more severe, such as narcolepsy, I might bring it up depending on how controlled it was.', 'They would provable need to know, to Judge if I can do my job or not. ', \"old back injury, doesn't cause me many issues but occasionally impacts my ability to work at desk \", 'Depending on the interview stage and whether I required an accommodation, I would', 'If it would potentially affect my ability to do the job or might require special equipment/etc then it would only be fair and honest.', 'I want to gauge their ability to support this issue.', \"I feel it's irrelevant.\", 'Makes me a less attractive candidate.', \"Generally speaking, and this isn't always the case, physical health issues don't carry the same stigma as mental ones.\"\n",
      "$ willing_discuss_mh_in_hiring_interview            <str> 'Maybe', 'No', 'Yes', 'Maybe', 'No', 'Maybe', 'Yes', 'No', 'Maybe', 'Maybe'\n",
      "$ why_why_not_2                                     <str> None, 'While mental health has become a more prominent issue recently, I feel like there is still a lot of stigma surrounding it. At this point, with our culture, I would not bring it up. I hope that within the next 20-30 years that stigma will be gone and it can be brought up safely in an interview.', 'Stigma, mainly. ', 'would not if I was not 100% sure that the disclosure would not affect my application', \"I don't know\", 'It would depend on the field & what I knew of the employer.', 'I want to gauge their ability to support, understand and empathize with my situation.', 'Same reason.', 'Only if I felt I required accommodation. Even then, reluctantly because it makes me a less attractive candidate.', 'It really depends on the person, the employer, and how comfortable I felt discussing the issue.'\n",
      "$ percevied_neg_impact_carreer_of_mh                <str> 'Maybe', \"No, I don't think it would\", 'Maybe', 'Yes, I think it would', 'Yes, I think it would', 'Yes, I think it would', 'Yes, I think it would', 'Maybe', 'Maybe', 'Maybe'\n",
      "$ perceived_neg_impact_coworker_opiniton_of_mh      <str> \"No, I don't think they would\", \"No, I don't think they would\", 'Maybe', 'Maybe', 'Maybe', 'Maybe', \"No, I don't think they would\", 'Maybe', 'Yes, they do', \"No, I don't think they would\"\n",
      "$ willingness_to_share_with_friend_family           <str> 'Somewhat open', 'Somewhat open', 'Somewhat open', 'Neutral', 'Somewhat open', 'Somewhat open', 'Not applicable to me (I do not have a mental illness)', 'Somewhat open', 'Somewhat open', 'Very open'\n",
      "$ neg_response_to_mh                                <str> 'No', 'No', 'Maybe/Not sure', 'No', 'Yes, I experienced', 'Yes, I experienced', 'No', 'Yes, I observed', 'Yes, I observed', 'No'\n",
      "$ willingness_to_share_mh_after_observation         <str> None, None, 'Yes', None, 'Yes', 'No', None, 'Maybe', 'No', None\n",
      "$ mh_family_hist                                    <str> 'No', 'Yes', 'No', 'No', 'Yes', 'No', 'No', 'Yes', 'Yes', 'Yes'\n",
      "$ previous_mh                                       <str> 'Yes', 'Yes', 'Maybe', 'Yes', 'Yes', 'No', 'No', 'Yes', 'Yes', 'Yes'\n",
      "$ current_mh                                        <str> 'No', 'Yes', 'No', 'Yes', 'Yes', 'Yes', 'No', 'Yes', 'Yes', 'Yes'\n",
      "$ diagnosis_name_condition                          <str> None, 'Anxiety Disorder (Generalized, Social, Phobia, etc)|Mood Disorder (Depression, Bipolar Disorder, etc)', None, 'Anxiety Disorder (Generalized, Social, Phobia, etc)|Mood Disorder (Depression, Bipolar Disorder, etc)', 'Anxiety Disorder (Generalized, Social, Phobia, etc)|Stress Response Syndromes', 'Anxiety Disorder (Generalized, Social, Phobia, etc)|Stress Response Syndromes|Substance Use Disorder', None, 'Anxiety Disorder (Generalized, Social, Phobia, etc)|Substance Use Disorder', 'Mood Disorder (Depression, Bipolar Disorder, etc)', 'Anxiety Disorder (Generalized, Social, Phobia, etc)|Mood Disorder (Depression, Bipolar Disorder, etc)'\n",
      "$ believed_name_condiiton                           <str> None, None, None, None, None, None, None, None, None, None\n",
      "$ diagnosis_professional                            <str> 'Yes', 'Yes', 'No', 'Yes', 'Yes', 'No', 'No', 'Yes', 'Yes', 'Yes'\n",
      "$ diagnosis_name_professional_condition             <str> 'Anxiety Disorder (Generalized, Social, Phobia, etc)', 'Anxiety Disorder (Generalized, Social, Phobia, etc)|Mood Disorder (Depression, Bipolar Disorder, etc)', None, 'Anxiety Disorder (Generalized, Social, Phobia, etc)|Mood Disorder (Depression, Bipolar Disorder, etc)', 'Anxiety Disorder (Generalized, Social, Phobia, etc)', None, None, 'Anxiety Disorder (Generalized, Social, Phobia, etc)|Substance Use Disorder', 'Mood Disorder (Depression, Bipolar Disorder, etc)', 'Anxiety Disorder (Generalized, Social, Phobia, etc)|Mood Disorder (Depression, Bipolar Disorder, etc)'\n",
      "$ used_therapy                                      <i64> 0, 1, 1, 1, 1, 1, 0, 1, 1, 1\n",
      "$ interference_mh_treated_with_work                 <str> 'Not applicable to me', 'Rarely', 'Not applicable to me', 'Sometimes', 'Sometimes', 'Not applicable to me', 'Not applicable to me', 'Sometimes', 'Rarely', 'Rarely'\n",
      "$ interference_mh_untreated_with_work               <str> 'Not applicable to me', 'Sometimes', 'Not applicable to me', 'Sometimes', 'Sometimes', 'Often', 'Not applicable to me', 'Often', 'Often', 'Often'\n",
      "$ age                                               <i64> 39, 29, 38, 43, 43, 42, 30, 37, 44, 30\n",
      "$ gender                                            <str> 'Male', 'male', 'Male ', 'male', 'Female', 'Male', 'M', 'female', 'Female', 'Male'\n",
      "$ country_residency                                 <str> 'United Kingdom', 'United States of America', 'United Kingdom', 'United Kingdom', 'United States of America', 'United Kingdom', 'United States of America', 'United States of America', 'United States of America', 'United States of America'\n",
      "$ usa_state_residency                               <str> None, 'Illinois', None, None, 'Illinois', None, 'Tennessee', 'Virginia', 'California', 'Kentucky'\n",
      "$ country_work                                      <str> 'United Kingdom', 'United States of America', 'United Kingdom', 'United Kingdom', 'United States of America', 'United Kingdom', 'United States of America', 'United States of America', 'United States of America', 'United States of America'\n",
      "$ usa_state_work                                    <str> None, 'Illinois', None, None, 'Illinois', None, 'Tennessee', 'Virginia', 'California', 'Kentucky'\n",
      "$ job_title                                         <str> 'Back-end Developer', 'Back-end Developer|Front-end Developer', 'Back-end Developer', 'Supervisor/Team Lead', 'Executive Leadership|Supervisor/Team Lead|Dev Evangelist/Advocate|DevOps/SysAdmin|Support|Back-end Developer|Front-end Developer', 'DevOps/SysAdmin|Support|Back-end Developer|Front-end Developer|Designer', 'Back-end Developer', 'Dev Evangelist/Advocate|Back-end Developer', 'Support|Back-end Developer|One-person shop', 'One-person shop|Front-end Developer|Back-end Developer'\n",
      "$ remote                                            <str> 'Sometimes', 'Never', 'Always', 'Sometimes', 'Sometimes', 'Sometimes', 'Sometimes', 'Always', 'Sometimes', 'Always'\n",
      "\n"
     ]
    }
   ],
   "source": [
    "# Get insights into Statistics. DF too large for useful information\n",
    "df_csv.describe()\n",
    "\n",
    "# First look at a couple of entries\n",
    "df_csv.glimpse(max_items_per_column=10)\n",
    "# Insights include: Some Categoricals are 0,1 even though it oculd be yes or no, some questions are for self-employed which can be dropped\n",
    "# Column names are hard to work with and need to be renamed"
   ]
  },
  {
   "cell_type": "code",
   "execution_count": 5,
   "id": "6d0aa54f-ff1d-4155-8982-f81432ec0d6d",
   "metadata": {},
   "outputs": [],
   "source": [
    "# We are only interested in the columns with less than 50% NaN values. Drop the rest\n",
    "\n",
    "# We are only interested in the columns that are meant for employees. Drop the rest\n",
    "\n",
    "# We are only interested in entries from employees. Drop the rest (Self-employed etc.)\n",
    "# PS: maybe build in a little pie chart or such to have a look at diagnoesed, vs perceived mental health of employees vs. self-employed"
   ]
  }
 ],
 "metadata": {
  "kernelspec": {
   "display_name": "Python 3 (ipykernel)",
   "language": "python",
   "name": "python3"
  },
  "language_info": {
   "codemirror_mode": {
    "name": "ipython",
    "version": 3
   },
   "file_extension": ".py",
   "mimetype": "text/x-python",
   "name": "python",
   "nbconvert_exporter": "python",
   "pygments_lexer": "ipython3",
   "version": "3.10.14"
  }
 },
 "nbformat": 4,
 "nbformat_minor": 5
}
