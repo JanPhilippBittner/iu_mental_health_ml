{
 "cells": [
  {
   "cell_type": "code",
   "execution_count": 1,
   "id": "6d0aa54f-ff1d-4155-8982-f81432ec0d6d",
   "metadata": {},
   "outputs": [],
   "source": [
    "# PS: maybe build in a little pie chart or such to have a look at diagnosed, vs perceived mental health of employees vs. self-employed\n",
    "# Graphics and diagrams ideas:\n",
    "        # Mentalhealth different locations\n",
    "        # Mental healt correlation of comp size\n",
    "        # mh correlation of different jobs\n",
    "        # mh correlation of openness via things liike the comfort to discuss mh, and the company showing intiative and Actual Mental health\n",
    "        # Bad experiences with mental health"
   ]
  },
  {
   "cell_type": "code",
   "execution_count": 2,
   "id": "b7fd3319-7b7f-4609-bbcf-5015ff87e404",
   "metadata": {},
   "outputs": [],
   "source": [
    "# Possible Angles:\n",
    "    # Predicting mental health existenc:\n",
    "        # kinda failed as can be seen by ANOVA Test\n",
    "   \n",
    "#  How can we accomplish a culture of trust and openness, so what are the features that influence the following features:\n",
    "        # \"Do you think that discussing a mental health disorder with your employer would have negative consequences?\" : \"neg_consequences_discussing_mh\" ,\n",
    "        # \"Do you think that discussing a physical health issue with your employer would have negative consequences?\" : \"neg_consequences_discussing_ph\" ,\n",
    "        # For this we need to create a new feature perhaps and to check if people ever had any mental health issues at any given point so if people have been diagnoes, if they currently have a mental health issue\n",
    "        # or if they previously had a mental health issue\n",
    "        # Can be extended to:\n",
    "            #\"Would you feel comfortable discussing a mental health disorder with your coworkers?\" : \"comf_discussing_mh_with_coworker_indic\" ,\n",
    "            # \"Would you feel comfortable discussing a mental health disorder with your direct supervisor(s)?\" : \"comf_discussing_mnh_with_supervisor_indic\" ,\n",
    "\n",
    "    # What type of people have the feeling that their mental health issues (treated or untreated) are effecting their work and can we prevent this:\n",
    "        # The necessary features are:\n",
    "            # \"If you have a mental health issue, do you feel that it interferes with your work when being treated effectively?\" : \"interference_mh_treated_with_work\" ,\n",
    "            # \"If you have a mental health issue, do you feel that it interferes with your work when NOT being treated effectively?\" : \"interference_mh_untreated_with_work\" ,\n",
    "            # For this to work we need a new feature that is \"mh_inf_work\"\n",
    "                # if \"interference_mh_treated_with_work\" = Y OR \"interference_mh_untreated_with_work\" = Y then effect on work"
   ]
  },
  {
   "cell_type": "markdown",
   "id": "bcd4eed5-9d99-4a68-a33f-689829ef9285",
   "metadata": {},
   "source": [
    "## 1. Libraries & Importing Dataset"
   ]
  },
  {
   "cell_type": "code",
   "execution_count": 3,
   "id": "bca79f0f-290b-4d60-acf0-25c9dfa59f05",
   "metadata": {},
   "outputs": [],
   "source": [
    "import polars as pl\n",
    "import unicodedata\n",
    "import numpy as np\n",
    "import seaborn as sns\n",
    "import matplotlib.pyplot as plt\n",
    "from mpl_toolkits.mplot3d import Axes3D\n",
    "from scipy import stats\n",
    "from sklearn.preprocessing import OrdinalEncoder , TargetEncoder , RobustScaler , LabelEncoder\n",
    "from sklearn.cluster import KMeans\n",
    "from yellowbrick.cluster import KElbowVisualizer\n",
    "from sklearn.feature_selection import SelectKBest \n",
    "from sklearn.feature_selection import f_classif\n",
    "from sklearn.feature_selection import chi2\n",
    "from sklearn.decomposition import PCA\n",
    "from sklearn.feature_extraction.text import TfidfVectorizer\n",
    "\n",
    "# Define the input CSV file and create a DataFrame\n",
    "csv = 'input.csv'\n",
    "df_csv = pl.read_csv(csv)"
   ]
  },
  {
   "cell_type": "markdown",
   "id": "ecff599c-dbe4-434b-985d-7eb2509a06cd",
   "metadata": {},
   "source": [
    "## 2. Data Exploration"
   ]
  },
  {
   "cell_type": "code",
   "execution_count": 4,
   "id": "869b132c-ac4b-442a-8023-12d835a7b0c2",
   "metadata": {},
   "outputs": [
    {
     "name": "stdout",
     "output_type": "stream",
     "text": [
      "(1433, 63)\n"
     ]
    }
   ],
   "source": [
    "# Get the shape of dataframe\n",
    "print(df_csv.shape)"
   ]
  },
  {
   "cell_type": "code",
   "execution_count": 5,
   "id": "0a6fe6e7-389b-401a-b85f-9274136e2dcc",
   "metadata": {},
   "outputs": [
    {
     "data": {
      "text/html": [
       "<div><style>\n",
       ".dataframe > thead > tr,\n",
       ".dataframe > tbody > tr {\n",
       "  text-align: right;\n",
       "  white-space: pre-wrap;\n",
       "}\n",
       "</style>\n",
       "<small>shape: (9, 64)</small><table border=\"1\" class=\"dataframe\"><thead><tr><th>statistic</th><th>Are you self-employed?</th><th>How many employees does your company or organization have?</th><th>Is your employer primarily a tech company/organization?</th><th>Is your primary role within your company related to tech/IT?</th><th>Does your employer provide mental health benefits as part of healthcare coverage?</th><th>Do you know the options for mental health care available under your employer-provided coverage?</th><th>Has your employer ever formally discussed mental health (for example, as part of a wellness campaign or other official communication)?</th><th>Does your employer offer resources to learn more about mental health concerns and options for seeking help?</th><th>Is your anonymity protected if you choose to take advantage of mental health or substance abuse treatment resources provided by your employer?</th><th>If a mental health issue prompted you to request a medical leave from work, asking for that leave would be:</th><th>Do you think that discussing a mental health disorder with your employer would have negative consequences?</th><th>Do you think that discussing a physical health issue with your employer would have negative consequences?</th><th>Would you feel comfortable discussing a mental health disorder with your coworkers?</th><th>Would you feel comfortable discussing a mental health disorder with your direct supervisor(s)?</th><th>Do you feel that your employer takes mental health as seriously as physical health?</th><th>Have you heard of or observed negative consequences for co-workers who have been open about mental health issues in your workplace?</th><th>Do you have medical coverage (private insurance or state-provided) which includes treatment of  mental health issues?</th><th>Do you know local or online resources to seek help for a mental health disorder?</th><th>If you have been diagnosed or treated for a mental health disorder, do you ever reveal this to clients or business contacts?</th><th>If you have revealed a mental health issue to a client or business contact, do you believe this has impacted you negatively?</th><th>If you have been diagnosed or treated for a mental health disorder, do you ever reveal this to coworkers or employees?</th><th>If you have revealed a mental health issue to a coworker or employee, do you believe this has impacted you negatively?</th><th>Do you believe your productivity is ever affected by a mental health issue?</th><th>If yes, what percentage of your work time (time performing primary or secondary job functions) is affected by a mental health issue?</th><th>Do you have previous employers?</th><th>Have your previous employers provided mental health benefits?</th><th>Were you aware of the options for mental health care provided by your previous employers?</th><th>Did your previous employers ever formally discuss mental health (as part of a wellness campaign or other official communication)?</th><th>Did your previous employers provide resources to learn more about mental health issues and how to seek help?</th><th>Was your anonymity protected if you chose to take advantage of mental health or substance abuse treatment resources with previous employers?</th><th>Do you think that discussing a mental health disorder with previous employers would have negative consequences?</th><th>Do you think that discussing a physical health issue with previous employers would have negative consequences?</th><th>Would you have been willing to discuss a mental health issue with your previous co-workers?</th><th>Would you have been willing to discuss a mental health issue with your direct supervisor(s)?</th><th>Did you feel that your previous employers took mental health as seriously as physical health?</th><th>Did you hear of or observe negative consequences for co-workers with mental health issues in your previous workplaces?</th><th>Would you be willing to bring up a physical health issue with a potential employer in an interview?</th><th>Why or why not?</th><th>Would you bring up a mental health issue with a potential employer in an interview?</th><th>Why or why not?_duplicated_0</th><th>Do you feel that being identified as a person with a mental health issue would hurt your career?</th><th>Do you think that team members/co-workers would view you more negatively if they knew you suffered from a mental health issue?</th><th>How willing would you be to share with friends and family that you have a mental illness?</th><th>Have you observed or experienced an unsupportive or badly handled response to a mental health issue in your current or previous workplace?</th><th>Have your observations of how another individual who discussed a mental health disorder made you less likely to reveal a mental health issue yourself in your current workplace?</th><th>Do you have a family history of mental illness?</th><th>Have you had a mental health disorder in the past?</th><th>Do you currently have a mental health disorder?</th><th>If yes, what condition(s) have you been diagnosed with?</th><th>If maybe, what condition(s) do you believe you have?</th><th>Have you been diagnosed with a mental health condition by a medical professional?</th><th>If so, what condition(s) were you diagnosed with?</th><th>Have you ever sought treatment for a mental health issue from a mental health professional?</th><th>If you have a mental health issue, do you feel that it interferes with your work when being treated effectively?</th><th>If you have a mental health issue, do you feel that it interferes with your work when NOT being treated effectively?</th><th>What is your age?</th><th>What is your gender?</th><th>What country do you live in?</th><th>What US state or territory do you live in?</th><th>What country do you work in?</th><th>What US state or territory do you work in?</th><th>Which of the following best describes your work position?</th><th>Do you work remotely?</th></tr><tr><td>str</td><td>f64</td><td>str</td><td>f64</td><td>f64</td><td>str</td><td>str</td><td>str</td><td>str</td><td>str</td><td>str</td><td>str</td><td>str</td><td>str</td><td>str</td><td>str</td><td>str</td><td>f64</td><td>str</td><td>str</td><td>str</td><td>str</td><td>str</td><td>str</td><td>str</td><td>f64</td><td>str</td><td>str</td><td>str</td><td>str</td><td>str</td><td>str</td><td>str</td><td>str</td><td>str</td><td>str</td><td>str</td><td>str</td><td>str</td><td>str</td><td>str</td><td>str</td><td>str</td><td>str</td><td>str</td><td>str</td><td>str</td><td>str</td><td>str</td><td>str</td><td>str</td><td>str</td><td>str</td><td>f64</td><td>str</td><td>str</td><td>f64</td><td>str</td><td>str</td><td>str</td><td>str</td><td>str</td><td>str</td><td>str</td></tr></thead><tbody><tr><td>&quot;count&quot;</td><td>1433.0</td><td>&quot;1146&quot;</td><td>1146.0</td><td>263.0</td><td>&quot;1146&quot;</td><td>&quot;1146&quot;</td><td>&quot;1146&quot;</td><td>&quot;1146&quot;</td><td>&quot;1146&quot;</td><td>&quot;1146&quot;</td><td>&quot;1146&quot;</td><td>&quot;1146&quot;</td><td>&quot;1146&quot;</td><td>&quot;1146&quot;</td><td>&quot;1146&quot;</td><td>&quot;1146&quot;</td><td>287.0</td><td>&quot;287&quot;</td><td>&quot;287&quot;</td><td>&quot;287&quot;</td><td>&quot;287&quot;</td><td>&quot;287&quot;</td><td>&quot;287&quot;</td><td>&quot;204&quot;</td><td>1433.0</td><td>&quot;1264&quot;</td><td>&quot;1264&quot;</td><td>&quot;1264&quot;</td><td>&quot;1264&quot;</td><td>&quot;1264&quot;</td><td>&quot;1264&quot;</td><td>&quot;1264&quot;</td><td>&quot;1264&quot;</td><td>&quot;1264&quot;</td><td>&quot;1264&quot;</td><td>&quot;1264&quot;</td><td>&quot;1433&quot;</td><td>&quot;1097&quot;</td><td>&quot;1433&quot;</td><td>&quot;1127&quot;</td><td>&quot;1433&quot;</td><td>&quot;1433&quot;</td><td>&quot;1433&quot;</td><td>&quot;1433&quot;</td><td>&quot;774&quot;</td><td>&quot;1433&quot;</td><td>&quot;1433&quot;</td><td>&quot;1433&quot;</td><td>&quot;568&quot;</td><td>&quot;322&quot;</td><td>&quot;1433&quot;</td><td>&quot;711&quot;</td><td>1433.0</td><td>&quot;1433&quot;</td><td>&quot;1433&quot;</td><td>1433.0</td><td>&quot;1432&quot;</td><td>&quot;1433&quot;</td><td>&quot;840&quot;</td><td>&quot;1433&quot;</td><td>&quot;851&quot;</td><td>&quot;1433&quot;</td><td>&quot;1433&quot;</td></tr><tr><td>&quot;null_count&quot;</td><td>0.0</td><td>&quot;287&quot;</td><td>287.0</td><td>1170.0</td><td>&quot;287&quot;</td><td>&quot;287&quot;</td><td>&quot;287&quot;</td><td>&quot;287&quot;</td><td>&quot;287&quot;</td><td>&quot;287&quot;</td><td>&quot;287&quot;</td><td>&quot;287&quot;</td><td>&quot;287&quot;</td><td>&quot;287&quot;</td><td>&quot;287&quot;</td><td>&quot;287&quot;</td><td>1146.0</td><td>&quot;1146&quot;</td><td>&quot;1146&quot;</td><td>&quot;1146&quot;</td><td>&quot;1146&quot;</td><td>&quot;1146&quot;</td><td>&quot;1146&quot;</td><td>&quot;1229&quot;</td><td>0.0</td><td>&quot;169&quot;</td><td>&quot;169&quot;</td><td>&quot;169&quot;</td><td>&quot;169&quot;</td><td>&quot;169&quot;</td><td>&quot;169&quot;</td><td>&quot;169&quot;</td><td>&quot;169&quot;</td><td>&quot;169&quot;</td><td>&quot;169&quot;</td><td>&quot;169&quot;</td><td>&quot;0&quot;</td><td>&quot;336&quot;</td><td>&quot;0&quot;</td><td>&quot;306&quot;</td><td>&quot;0&quot;</td><td>&quot;0&quot;</td><td>&quot;0&quot;</td><td>&quot;0&quot;</td><td>&quot;659&quot;</td><td>&quot;0&quot;</td><td>&quot;0&quot;</td><td>&quot;0&quot;</td><td>&quot;865&quot;</td><td>&quot;1111&quot;</td><td>&quot;0&quot;</td><td>&quot;722&quot;</td><td>0.0</td><td>&quot;0&quot;</td><td>&quot;0&quot;</td><td>0.0</td><td>&quot;1&quot;</td><td>&quot;0&quot;</td><td>&quot;593&quot;</td><td>&quot;0&quot;</td><td>&quot;582&quot;</td><td>&quot;0&quot;</td><td>&quot;0&quot;</td></tr><tr><td>&quot;mean&quot;</td><td>0.200279</td><td>null</td><td>0.770506</td><td>0.942966</td><td>null</td><td>null</td><td>null</td><td>null</td><td>null</td><td>null</td><td>null</td><td>null</td><td>null</td><td>null</td><td>null</td><td>null</td><td>0.644599</td><td>null</td><td>null</td><td>null</td><td>null</td><td>null</td><td>null</td><td>null</td><td>0.882066</td><td>null</td><td>null</td><td>null</td><td>null</td><td>null</td><td>null</td><td>null</td><td>null</td><td>null</td><td>null</td><td>null</td><td>null</td><td>null</td><td>null</td><td>null</td><td>null</td><td>null</td><td>null</td><td>null</td><td>null</td><td>null</td><td>null</td><td>null</td><td>null</td><td>null</td><td>null</td><td>null</td><td>0.585485</td><td>null</td><td>null</td><td>34.286113</td><td>null</td><td>null</td><td>null</td><td>null</td><td>null</td><td>null</td><td>null</td></tr><tr><td>&quot;std&quot;</td><td>0.400349</td><td>null</td><td>0.420691</td><td>0.23235</td><td>null</td><td>null</td><td>null</td><td>null</td><td>null</td><td>null</td><td>null</td><td>null</td><td>null</td><td>null</td><td>null</td><td>null</td><td>0.479471</td><td>null</td><td>null</td><td>null</td><td>null</td><td>null</td><td>null</td><td>null</td><td>0.322643</td><td>null</td><td>null</td><td>null</td><td>null</td><td>null</td><td>null</td><td>null</td><td>null</td><td>null</td><td>null</td><td>null</td><td>null</td><td>null</td><td>null</td><td>null</td><td>null</td><td>null</td><td>null</td><td>null</td><td>null</td><td>null</td><td>null</td><td>null</td><td>null</td><td>null</td><td>null</td><td>null</td><td>0.49281</td><td>null</td><td>null</td><td>11.290931</td><td>null</td><td>null</td><td>null</td><td>null</td><td>null</td><td>null</td><td>null</td></tr><tr><td>&quot;min&quot;</td><td>0.0</td><td>&quot;1-5&quot;</td><td>0.0</td><td>0.0</td><td>&quot;I don&#x27;t know&quot;</td><td>&quot;I am not sure&quot;</td><td>&quot;I don&#x27;t know&quot;</td><td>&quot;I don&#x27;t know&quot;</td><td>&quot;I don&#x27;t know&quot;</td><td>&quot;I don&#x27;t know&quot;</td><td>&quot;Maybe&quot;</td><td>&quot;Maybe&quot;</td><td>&quot;Maybe&quot;</td><td>&quot;Maybe&quot;</td><td>&quot;I don&#x27;t know&quot;</td><td>&quot;No&quot;</td><td>0.0</td><td>&quot;I know some&quot;</td><td>&quot;No, because it doesn&#x27;t matter&quot;</td><td>&quot;I&#x27;m not sure&quot;</td><td>&quot;No, because it doesn&#x27;t matter&quot;</td><td>&quot;I&#x27;m not sure&quot;</td><td>&quot;No&quot;</td><td>&quot;1-25%&quot;</td><td>0.0</td><td>&quot;I don&#x27;t know&quot;</td><td>&quot;I was aware of some&quot;</td><td>&quot;I don&#x27;t know&quot;</td><td>&quot;None did&quot;</td><td>&quot;I don&#x27;t know&quot;</td><td>&quot;I don&#x27;t know&quot;</td><td>&quot;None of them&quot;</td><td>&quot;No, at none of my previous emp…</td><td>&quot;I don&#x27;t know&quot;</td><td>&quot;I don&#x27;t know&quot;</td><td>&quot;None of them&quot;</td><td>&quot;Maybe&quot;</td><td>&quot; Don&#x27;t trust potential employe…</td><td>&quot;Maybe&quot;</td><td>&quot; I don&#x27;t want to poison the we…</td><td>&quot;Maybe&quot;</td><td>&quot;Maybe&quot;</td><td>&quot;Neutral&quot;</td><td>&quot;Maybe/Not sure&quot;</td><td>&quot;Maybe&quot;</td><td>&quot;I don&#x27;t know&quot;</td><td>&quot;Maybe&quot;</td><td>&quot;Maybe&quot;</td><td>&quot;Addictive Disorder&quot;</td><td>&quot;Addictive Disorder&quot;</td><td>&quot;No&quot;</td><td>&quot;ADD (w/o Hyperactivity)&quot;</td><td>0.0</td><td>&quot;Never&quot;</td><td>&quot;Never&quot;</td><td>3.0</td><td>&quot; Female&quot;</td><td>&quot;Afghanistan&quot;</td><td>&quot;Alabama&quot;</td><td>&quot;Afghanistan&quot;</td><td>&quot;Alabama&quot;</td><td>&quot;Back-end Developer&quot;</td><td>&quot;Always&quot;</td></tr><tr><td>&quot;25%&quot;</td><td>0.0</td><td>null</td><td>1.0</td><td>1.0</td><td>null</td><td>null</td><td>null</td><td>null</td><td>null</td><td>null</td><td>null</td><td>null</td><td>null</td><td>null</td><td>null</td><td>null</td><td>0.0</td><td>null</td><td>null</td><td>null</td><td>null</td><td>null</td><td>null</td><td>null</td><td>1.0</td><td>null</td><td>null</td><td>null</td><td>null</td><td>null</td><td>null</td><td>null</td><td>null</td><td>null</td><td>null</td><td>null</td><td>null</td><td>null</td><td>null</td><td>null</td><td>null</td><td>null</td><td>null</td><td>null</td><td>null</td><td>null</td><td>null</td><td>null</td><td>null</td><td>null</td><td>null</td><td>null</td><td>0.0</td><td>null</td><td>null</td><td>28.0</td><td>null</td><td>null</td><td>null</td><td>null</td><td>null</td><td>null</td><td>null</td></tr><tr><td>&quot;50%&quot;</td><td>0.0</td><td>null</td><td>1.0</td><td>1.0</td><td>null</td><td>null</td><td>null</td><td>null</td><td>null</td><td>null</td><td>null</td><td>null</td><td>null</td><td>null</td><td>null</td><td>null</td><td>1.0</td><td>null</td><td>null</td><td>null</td><td>null</td><td>null</td><td>null</td><td>null</td><td>1.0</td><td>null</td><td>null</td><td>null</td><td>null</td><td>null</td><td>null</td><td>null</td><td>null</td><td>null</td><td>null</td><td>null</td><td>null</td><td>null</td><td>null</td><td>null</td><td>null</td><td>null</td><td>null</td><td>null</td><td>null</td><td>null</td><td>null</td><td>null</td><td>null</td><td>null</td><td>null</td><td>null</td><td>1.0</td><td>null</td><td>null</td><td>33.0</td><td>null</td><td>null</td><td>null</td><td>null</td><td>null</td><td>null</td><td>null</td></tr><tr><td>&quot;75%&quot;</td><td>0.0</td><td>null</td><td>1.0</td><td>1.0</td><td>null</td><td>null</td><td>null</td><td>null</td><td>null</td><td>null</td><td>null</td><td>null</td><td>null</td><td>null</td><td>null</td><td>null</td><td>1.0</td><td>null</td><td>null</td><td>null</td><td>null</td><td>null</td><td>null</td><td>null</td><td>1.0</td><td>null</td><td>null</td><td>null</td><td>null</td><td>null</td><td>null</td><td>null</td><td>null</td><td>null</td><td>null</td><td>null</td><td>null</td><td>null</td><td>null</td><td>null</td><td>null</td><td>null</td><td>null</td><td>null</td><td>null</td><td>null</td><td>null</td><td>null</td><td>null</td><td>null</td><td>null</td><td>null</td><td>1.0</td><td>null</td><td>null</td><td>39.0</td><td>null</td><td>null</td><td>null</td><td>null</td><td>null</td><td>null</td><td>null</td></tr><tr><td>&quot;max&quot;</td><td>1.0</td><td>&quot;More than 1000&quot;</td><td>1.0</td><td>1.0</td><td>&quot;Yes&quot;</td><td>&quot;Yes&quot;</td><td>&quot;Yes&quot;</td><td>&quot;Yes&quot;</td><td>&quot;Yes&quot;</td><td>&quot;Very easy&quot;</td><td>&quot;Yes&quot;</td><td>&quot;Yes&quot;</td><td>&quot;Yes&quot;</td><td>&quot;Yes&quot;</td><td>&quot;Yes&quot;</td><td>&quot;Yes&quot;</td><td>1.0</td><td>&quot;Yes, I know several&quot;</td><td>&quot;Yes, always&quot;</td><td>&quot;Yes&quot;</td><td>&quot;Yes, always&quot;</td><td>&quot;Yes&quot;</td><td>&quot;Yes&quot;</td><td>&quot;76-100%&quot;</td><td>1.0</td><td>&quot;Yes, they all did&quot;</td><td>&quot;Yes, I was aware of all of the…</td><td>&quot;Yes, they all did&quot;</td><td>&quot;Yes, they all did&quot;</td><td>&quot;Yes, always&quot;</td><td>&quot;Yes, all of them&quot;</td><td>&quot;Yes, all of them&quot;</td><td>&quot;Yes, at all of my previous emp…</td><td>&quot;Yes, at all of my previous emp…</td><td>&quot;Yes, they all did&quot;</td><td>&quot;Yes, all of them&quot;</td><td>&quot;Yes&quot;</td><td>&quot;xxx&quot;</td><td>&quot;Yes&quot;</td><td>&quot;you never know who is intervie…</td><td>&quot;Yes, it has&quot;</td><td>&quot;Yes, they do&quot;</td><td>&quot;Very open&quot;</td><td>&quot;Yes, I observed&quot;</td><td>&quot;Yes&quot;</td><td>&quot;Yes&quot;</td><td>&quot;Yes&quot;</td><td>&quot;Yes&quot;</td><td>&quot;Traumatic Brain Injury&quot;</td><td>&quot;post-partum / anxiety&quot;</td><td>&quot;Yes&quot;</td><td>&quot;autism spectrum disorder&quot;</td><td>1.0</td><td>&quot;Sometimes&quot;</td><td>&quot;Sometimes&quot;</td><td>323.0</td><td>&quot;woman&quot;</td><td>&quot;Vietnam&quot;</td><td>&quot;Wisconsin&quot;</td><td>&quot;Vietnam&quot;</td><td>&quot;Wisconsin&quot;</td><td>&quot;Support|Sales|Designer&quot;</td><td>&quot;Sometimes&quot;</td></tr></tbody></table></div>"
      ],
      "text/plain": [
       "shape: (9, 64)\n",
       "┌────────────┬──────────────┬──────────────┬──────────────┬───┬──────────────┬─────────────┬─────────────┬─────────────┐\n",
       "│ statistic  ┆ Are you self ┆ How many     ┆ Is your      ┆ … ┆ What country ┆ What US     ┆ Which of    ┆ Do you work │\n",
       "│ ---        ┆ -employed?   ┆ employees    ┆ employer     ┆   ┆ do you work  ┆ state or    ┆ the         ┆ remotely?   │\n",
       "│ str        ┆ ---          ┆ does your c… ┆ primarily a  ┆   ┆ in?          ┆ territory   ┆ following   ┆ ---         │\n",
       "│            ┆ f64          ┆ ---          ┆ t…           ┆   ┆ ---          ┆ do …        ┆ best de…    ┆ str         │\n",
       "│            ┆              ┆ str          ┆ ---          ┆   ┆ str          ┆ ---         ┆ ---         ┆             │\n",
       "│            ┆              ┆              ┆ f64          ┆   ┆              ┆ str         ┆ str         ┆             │\n",
       "╞════════════╪══════════════╪══════════════╪══════════════╪═══╪══════════════╪═════════════╪═════════════╪═════════════╡\n",
       "│ count      ┆ 1433.0       ┆ 1146         ┆ 1146.0       ┆ … ┆ 1433         ┆ 851         ┆ 1433        ┆ 1433        │\n",
       "│ null_count ┆ 0.0          ┆ 287          ┆ 287.0        ┆ … ┆ 0            ┆ 582         ┆ 0           ┆ 0           │\n",
       "│ mean       ┆ 0.200279     ┆ null         ┆ 0.770506     ┆ … ┆ null         ┆ null        ┆ null        ┆ null        │\n",
       "│ std        ┆ 0.400349     ┆ null         ┆ 0.420691     ┆ … ┆ null         ┆ null        ┆ null        ┆ null        │\n",
       "│ min        ┆ 0.0          ┆ 1-5          ┆ 0.0          ┆ … ┆ Afghanistan  ┆ Alabama     ┆ Back-end    ┆ Always      │\n",
       "│            ┆              ┆              ┆              ┆   ┆              ┆             ┆ Developer   ┆             │\n",
       "│ 25%        ┆ 0.0          ┆ null         ┆ 1.0          ┆ … ┆ null         ┆ null        ┆ null        ┆ null        │\n",
       "│ 50%        ┆ 0.0          ┆ null         ┆ 1.0          ┆ … ┆ null         ┆ null        ┆ null        ┆ null        │\n",
       "│ 75%        ┆ 0.0          ┆ null         ┆ 1.0          ┆ … ┆ null         ┆ null        ┆ null        ┆ null        │\n",
       "│ max        ┆ 1.0          ┆ More than    ┆ 1.0          ┆ … ┆ Vietnam      ┆ Wisconsin   ┆ Support|Sal ┆ Sometimes   │\n",
       "│            ┆              ┆ 1000         ┆              ┆   ┆              ┆             ┆ es|Designer ┆             │\n",
       "└────────────┴──────────────┴──────────────┴──────────────┴───┴──────────────┴─────────────┴─────────────┴─────────────┘"
      ]
     },
     "execution_count": 5,
     "metadata": {},
     "output_type": "execute_result"
    }
   ],
   "source": [
    "# Get insights into Statistics. DF too large for useful information\n",
    "df_csv.describe()"
   ]
  },
  {
   "cell_type": "code",
   "execution_count": 6,
   "id": "8a433d65-baa2-41d4-9948-56f3afb14cf5",
   "metadata": {},
   "outputs": [
    {
     "name": "stdout",
     "output_type": "stream",
     "text": [
      "Rows: 1433\n",
      "Columns: 63\n",
      "$ Are you self-employed?                             <i64> 0, 0, 0, 1, 0, 0, 0, 0, 0, 1\n",
      "$ How many employees does your company or organizat… <str> '26-100', '6-25', '6-25', None, '6-25', 'More than 1000', '26-100', 'More than 1000', '26-100', None\n",
      "$ Is your employer primarily a tech company/organiz… <i64> 1, 1, 1, None, 0, 1, 1, 1, 0, None\n",
      "$ Is your primary role within your company related … <i64> None, None, None, None, 1, None, None, None, 1, None\n",
      "$ Does your employer provide mental health benefits… <str> 'Not eligible for coverage / N/A', 'No', 'No', None, 'Yes', 'Yes', \"I don't know\", 'Yes', \"I don't know\", None\n",
      "$ Do you know the options for mental health care av… <str> 'N/A', 'Yes', 'N/A', None, 'Yes', 'I am not sure', 'No', 'Yes', 'No', None\n",
      "$ Has your employer ever formally discussed mental … <str> 'No', 'Yes', 'No', None, 'No', 'No', 'No', 'No', 'No', None\n",
      "$ Does your employer offer resources to learn more … <str> 'No', 'Yes', 'No', None, 'No', 'Yes', 'No', 'Yes', 'No', None\n",
      "$ Is your anonymity protected if you choose to take… <str> \"I don't know\", 'Yes', \"I don't know\", None, 'No', 'Yes', \"I don't know\", 'Yes', \"I don't know\", None\n",
      "$ If a mental health issue prompted you to request … <str> 'Very easy', 'Somewhat easy', 'Neither easy nor difficult', None, 'Neither easy nor difficult', 'Somewhat easy', 'Somewhat easy', 'Very easy', 'Very difficult', None\n",
      "$ Do you think that discussing a mental health diso… <str> 'No', 'No', 'Maybe', None, 'Yes', 'Yes', 'No', 'No', 'Yes', None\n",
      "$ Do you think that discussing a physical health is… <str> 'No', 'No', 'No', None, 'Maybe', 'Yes', 'No', 'No', 'Yes', None\n",
      "$ Would you feel comfortable discussing a mental he… <str> 'Maybe', 'Maybe', 'Maybe', None, 'Maybe', 'Maybe', 'Maybe', 'Maybe', 'Yes', None\n",
      "$ Would you feel comfortable discussing a mental he… <str> 'Yes', 'Yes', 'Maybe', None, 'No', 'Yes', 'Yes', 'Yes', 'Maybe', None\n",
      "$ Do you feel that your employer takes mental healt… <str> \"I don't know\", 'Yes', \"I don't know\", None, 'No', 'No', 'Yes', \"I don't know\", 'No', None\n",
      "$ Have you heard of or observed negative consequenc… <str> 'No', 'No', 'No', None, 'No', 'Yes', 'No', 'No', 'No', None\n",
      "$ Do you have medical coverage (private insurance o… <i64> None, None, None, 1, None, None, None, None, None, 1\n",
      "$ Do you know local or online resources to seek hel… <str> None, None, None, 'Yes, I know several', None, None, None, None, None, 'I know some'\n",
      "$ If you have been diagnosed or treated for a menta… <str> None, None, None, 'Sometimes, if it comes up', None, None, None, None, None, \"No, because it doesn't matter\"\n",
      "$ If you have revealed a mental health issue to a c… <str> None, None, None, \"I'm not sure\", None, None, None, None, None, 'N/A'\n",
      "$ If you have been diagnosed or treated for a menta… <str> None, None, None, 'Sometimes, if it comes up', None, None, None, None, None, 'Sometimes, if it comes up'\n",
      "$ If you have revealed a mental health issue to a c… <str> None, None, None, \"I'm not sure\", None, None, None, None, None, 'No'\n",
      "$ Do you believe your productivity is ever affected… <str> None, None, None, 'Yes', None, None, None, None, None, 'Yes'\n",
      "$ If yes, what percentage of your work time (time p… <str> None, None, None, '1-25%', None, None, None, None, None, '1-25%'\n",
      "$ Do you have previous employers?                    <i64> 1, 1, 1, 1, 1, 1, 1, 1, 1, 1\n",
      "$ Have your previous employers provided mental heal… <str> 'No, none did', 'Yes, they all did', 'No, none did', 'Some did', \"I don't know\", 'No, none did', 'Some did', 'Some did', \"I don't know\", 'Some did'\n",
      "$ Were you aware of the options for mental health c… <str> 'N/A (not currently aware)', 'I was aware of some', 'N/A (not currently aware)', 'N/A (not currently aware)', 'N/A (not currently aware)', 'Yes, I was aware of all of them', 'I was aware of some', 'I was aware of some', 'N/A (not currently aware)', 'I was aware of some'\n",
      "$ Did your previous employers ever formally discuss… <str> \"I don't know\", 'None did', 'None did', 'None did', 'Some did', 'None did', 'None did', 'Some did', 'Some did', 'None did'\n",
      "$ Did your previous employers provide resources to … <str> 'None did', 'Some did', 'Some did', 'None did', 'None did', 'None did', 'Some did', 'Some did', 'None did', 'None did'\n",
      "$ Was your anonymity protected if you chose to take… <str> \"I don't know\", 'Yes, always', \"I don't know\", \"I don't know\", \"I don't know\", \"I don't know\", \"I don't know\", 'Sometimes', \"I don't know\", \"I don't know\"\n",
      "$ Do you think that discussing a mental health diso… <str> 'Some of them', 'None of them', \"I don't know\", 'Some of them', 'Some of them', 'Yes, all of them', 'None of them', 'Some of them', 'Yes, all of them', 'Some of them'\n",
      "$ Do you think that discussing a physical health is… <str> 'None of them', 'None of them', 'Some of them', 'Some of them', 'Some of them', 'Some of them', 'None of them', 'Some of them', 'Yes, all of them', 'Some of them'\n",
      "$ Would you have been willing to discuss a mental h… <str> 'Some of my previous employers', 'No, at none of my previous employers', 'Some of my previous employers', 'Some of my previous employers', 'No, at none of my previous employers', 'No, at none of my previous employers', 'Some of my previous employers', 'Some of my previous employers', 'No, at none of my previous employers', 'Some of my previous employers'\n",
      "$ Would you have been willing to discuss a mental h… <str> 'Some of my previous employers', 'Some of my previous employers', \"I don't know\", 'Some of my previous employers', 'Some of my previous employers', 'No, at none of my previous employers', 'Yes, at all of my previous employers', 'Some of my previous employers', 'No, at none of my previous employers', 'Some of my previous employers'\n",
      "$ Did you feel that your previous employers took me… <str> \"I don't know\", 'Some did', \"I don't know\", \"I don't know\", 'Some did', 'None did', 'Some did', 'Some did', 'None did', \"I don't know\"\n",
      "$ Did you hear of or observe negative consequences … <str> 'None of them', 'None of them', 'Some of them', 'Some of them', 'Some of them', 'Some of them', 'None of them', 'Some of them', 'None of them', 'None of them'\n",
      "$ Would you be willing to bring up a physical healt… <str> 'Maybe', 'Maybe', 'Yes', 'Yes', 'Maybe', 'Yes', 'Yes', 'No', 'Maybe', 'Yes'\n",
      "$ Why or why not?                                    <str> None, 'It would depend on the health issue. If there is a health issue that would not immediately affect my job performance, such as diabetes, I would not bring it up during the interview. If it was something more severe, such as narcolepsy, I might bring it up depending on how controlled it was.', 'They would provable need to know, to Judge if I can do my job or not. ', \"old back injury, doesn't cause me many issues but occasionally impacts my ability to work at desk \", 'Depending on the interview stage and whether I required an accommodation, I would', 'If it would potentially affect my ability to do the job or might require special equipment/etc then it would only be fair and honest.', 'I want to gauge their ability to support this issue.', \"I feel it's irrelevant.\", 'Makes me a less attractive candidate.', \"Generally speaking, and this isn't always the case, physical health issues don't carry the same stigma as mental ones.\"\n",
      "$ Would you bring up a mental health issue with a p… <str> 'Maybe', 'No', 'Yes', 'Maybe', 'No', 'Maybe', 'Yes', 'No', 'Maybe', 'Maybe'\n",
      "$ Why or why not?_duplicated_0                       <str> None, 'While mental health has become a more prominent issue recently, I feel like there is still a lot of stigma surrounding it. At this point, with our culture, I would not bring it up. I hope that within the next 20-30 years that stigma will be gone and it can be brought up safely in an interview.', 'Stigma, mainly. ', 'would not if I was not 100% sure that the disclosure would not affect my application', \"I don't know\", 'It would depend on the field & what I knew of the employer.', 'I want to gauge their ability to support, understand and empathize with my situation.', 'Same reason.', 'Only if I felt I required accommodation. Even then, reluctantly because it makes me a less attractive candidate.', 'It really depends on the person, the employer, and how comfortable I felt discussing the issue.'\n",
      "$ Do you feel that being identified as a person wit… <str> 'Maybe', \"No, I don't think it would\", 'Maybe', 'Yes, I think it would', 'Yes, I think it would', 'Yes, I think it would', 'Yes, I think it would', 'Maybe', 'Maybe', 'Maybe'\n",
      "$ Do you think that team members/co-workers would v… <str> \"No, I don't think they would\", \"No, I don't think they would\", 'Maybe', 'Maybe', 'Maybe', 'Maybe', \"No, I don't think they would\", 'Maybe', 'Yes, they do', \"No, I don't think they would\"\n",
      "$ How willing would you be to share with friends an… <str> 'Somewhat open', 'Somewhat open', 'Somewhat open', 'Neutral', 'Somewhat open', 'Somewhat open', 'Not applicable to me (I do not have a mental illness)', 'Somewhat open', 'Somewhat open', 'Very open'\n",
      "$ Have you observed or experienced an unsupportive … <str> 'No', 'No', 'Maybe/Not sure', 'No', 'Yes, I experienced', 'Yes, I experienced', 'No', 'Yes, I observed', 'Yes, I observed', 'No'\n",
      "$ Have your observations of how another individual … <str> None, None, 'Yes', None, 'Yes', 'No', None, 'Maybe', 'No', None\n",
      "$ Do you have a family history of mental illness?    <str> 'No', 'Yes', 'No', 'No', 'Yes', 'No', 'No', 'Yes', 'Yes', 'Yes'\n",
      "$ Have you had a mental health disorder in the past? <str> 'Yes', 'Yes', 'Maybe', 'Yes', 'Yes', 'No', 'No', 'Yes', 'Yes', 'Yes'\n",
      "$ Do you currently have a mental health disorder?    <str> 'No', 'Yes', 'No', 'Yes', 'Yes', 'Yes', 'No', 'Yes', 'Yes', 'Yes'\n",
      "$ If yes, what condition(s) have you been diagnosed… <str> None, 'Anxiety Disorder (Generalized, Social, Phobia, etc)|Mood Disorder (Depression, Bipolar Disorder, etc)', None, 'Anxiety Disorder (Generalized, Social, Phobia, etc)|Mood Disorder (Depression, Bipolar Disorder, etc)', 'Anxiety Disorder (Generalized, Social, Phobia, etc)|Stress Response Syndromes', 'Anxiety Disorder (Generalized, Social, Phobia, etc)|Stress Response Syndromes|Substance Use Disorder', None, 'Anxiety Disorder (Generalized, Social, Phobia, etc)|Substance Use Disorder', 'Mood Disorder (Depression, Bipolar Disorder, etc)', 'Anxiety Disorder (Generalized, Social, Phobia, etc)|Mood Disorder (Depression, Bipolar Disorder, etc)'\n",
      "$ If maybe, what condition(s) do you believe you ha… <str> None, None, None, None, None, None, None, None, None, None\n",
      "$ Have you been diagnosed with a mental health cond… <str> 'Yes', 'Yes', 'No', 'Yes', 'Yes', 'No', 'No', 'Yes', 'Yes', 'Yes'\n",
      "$ If so, what condition(s) were you diagnosed with?  <str> 'Anxiety Disorder (Generalized, Social, Phobia, etc)', 'Anxiety Disorder (Generalized, Social, Phobia, etc)|Mood Disorder (Depression, Bipolar Disorder, etc)', None, 'Anxiety Disorder (Generalized, Social, Phobia, etc)|Mood Disorder (Depression, Bipolar Disorder, etc)', 'Anxiety Disorder (Generalized, Social, Phobia, etc)', None, None, 'Anxiety Disorder (Generalized, Social, Phobia, etc)|Substance Use Disorder', 'Mood Disorder (Depression, Bipolar Disorder, etc)', 'Anxiety Disorder (Generalized, Social, Phobia, etc)|Mood Disorder (Depression, Bipolar Disorder, etc)'\n",
      "$ Have you ever sought treatment for a mental healt… <i64> 0, 1, 1, 1, 1, 1, 0, 1, 1, 1\n",
      "$ If you have a mental health issue, do you feel th… <str> 'Not applicable to me', 'Rarely', 'Not applicable to me', 'Sometimes', 'Sometimes', 'Not applicable to me', 'Not applicable to me', 'Sometimes', 'Rarely', 'Rarely'\n",
      "$ If you have a mental health issue, do you feel th… <str> 'Not applicable to me', 'Sometimes', 'Not applicable to me', 'Sometimes', 'Sometimes', 'Often', 'Not applicable to me', 'Often', 'Often', 'Often'\n",
      "$ What is your age?                                  <i64> 39, 29, 38, 43, 43, 42, 30, 37, 44, 30\n",
      "$ What is your gender?                               <str> 'Male', 'male', 'Male ', 'male', 'Female', 'Male', 'M', 'female', 'Female', 'Male'\n",
      "$ What country do you live in?                       <str> 'United Kingdom', 'United States of America', 'United Kingdom', 'United Kingdom', 'United States of America', 'United Kingdom', 'United States of America', 'United States of America', 'United States of America', 'United States of America'\n",
      "$ What US state or territory do you live in?         <str> None, 'Illinois', None, None, 'Illinois', None, 'Tennessee', 'Virginia', 'California', 'Kentucky'\n",
      "$ What country do you work in?                       <str> 'United Kingdom', 'United States of America', 'United Kingdom', 'United Kingdom', 'United States of America', 'United Kingdom', 'United States of America', 'United States of America', 'United States of America', 'United States of America'\n",
      "$ What US state or territory do you work in?         <str> None, 'Illinois', None, None, 'Illinois', None, 'Tennessee', 'Virginia', 'California', 'Kentucky'\n",
      "$ Which of the following best describes your work p… <str> 'Back-end Developer', 'Back-end Developer|Front-end Developer', 'Back-end Developer', 'Supervisor/Team Lead', 'Executive Leadership|Supervisor/Team Lead|Dev Evangelist/Advocate|DevOps/SysAdmin|Support|Back-end Developer|Front-end Developer', 'DevOps/SysAdmin|Support|Back-end Developer|Front-end Developer|Designer', 'Back-end Developer', 'Dev Evangelist/Advocate|Back-end Developer', 'Support|Back-end Developer|One-person shop', 'One-person shop|Front-end Developer|Back-end Developer'\n",
      "$ Do you work remotely?                              <str> 'Sometimes', 'Never', 'Always', 'Sometimes', 'Sometimes', 'Sometimes', 'Sometimes', 'Always', 'Sometimes', 'Always'\n",
      "\n"
     ]
    }
   ],
   "source": [
    "# First look at a couple of entries\n",
    "df_csv.glimpse(max_items_per_column=10)\n",
    "# Insights include: Some Categoricals are 0,1 even though it could be yes or no, some questions are for self-employed which can be dropped\n",
    "# Column names are hard to work with and need to be renamed\n",
    "# Lots of textual data, needs unicode normalization and natural language processing (?TF-IDF?)\n",
    "# Imputation necessary for Null values"
   ]
  },
  {
   "cell_type": "code",
   "execution_count": 7,
   "id": "06977c97-55af-42ac-b8a0-04fa5d7cb131",
   "metadata": {},
   "outputs": [
    {
     "data": {
      "text/html": [
       "<div><style>\n",
       ".dataframe > thead > tr,\n",
       ".dataframe > tbody > tr {\n",
       "  text-align: right;\n",
       "  white-space: pre-wrap;\n",
       "}\n",
       "</style>\n",
       "<small>shape: (840, 1)</small><table border=\"1\" class=\"dataframe\"><thead><tr><th>What country do you live in?</th></tr><tr><td>bool</td></tr></thead><tbody><tr><td>true</td></tr><tr><td>true</td></tr><tr><td>true</td></tr><tr><td>true</td></tr><tr><td>true</td></tr><tr><td>&hellip;</td></tr><tr><td>true</td></tr><tr><td>true</td></tr><tr><td>true</td></tr><tr><td>true</td></tr><tr><td>true</td></tr></tbody></table></div>"
      ],
      "text/plain": [
       "shape: (840, 1)\n",
       "┌──────────────────────────────┐\n",
       "│ What country do you live in? │\n",
       "│ ---                          │\n",
       "│ bool                         │\n",
       "╞══════════════════════════════╡\n",
       "│ true                         │\n",
       "│ true                         │\n",
       "│ true                         │\n",
       "│ true                         │\n",
       "│ true                         │\n",
       "│ …                            │\n",
       "│ true                         │\n",
       "│ true                         │\n",
       "│ true                         │\n",
       "│ true                         │\n",
       "│ true                         │\n",
       "└──────────────────────────────┘"
      ]
     },
     "execution_count": 7,
     "metadata": {},
     "output_type": "execute_result"
    }
   ],
   "source": [
    "# Investigate the amount of USA workers\n",
    "# 840 is 59%\n",
    "# Quick win could be visualization of which countires have the most diagnosis vs the most perceived mental health issues\n",
    "# More in depth could be which states have the most mental health issues\n",
    "# For this although you should investigate some percentages instead of absolute values because that could be tricky\n",
    "df_csv.select(pl.col(\"What country do you live in?\") == \"United States of America\").filter(pl.col(\"What country do you live in?\") == True)"
   ]
  },
  {
   "cell_type": "markdown",
   "id": "acc5f937-5b42-495b-a780-5b646921dc39",
   "metadata": {},
   "source": [
    "## 3. Unicode Normalization"
   ]
  },
  {
   "cell_type": "code",
   "execution_count": 8,
   "id": "f9cffb5d-d6da-49c4-9eff-a6ad570f9339",
   "metadata": {},
   "outputs": [],
   "source": [
    "# Unicode normalization to prevent major difficulties with any weird strings\n",
    "string_df = df_csv.select(pl.col(pl.String))\n",
    "\n",
    "df_normalized = df_csv.with_columns(\n",
    "    df_csv.select(pl.col(pl.String).map_elements(lambda x : unicodedata.normalize(\"NFD\" , str(x)) , return_dtype=pl.String))\n",
    ")\n",
    "\n",
    "df = df_normalized.with_columns(\n",
    "    df_normalized.select(pl.col(pl.String).map_elements(lambda x : unicodedata.normalize(\"NFC\" , str(x)) , return_dtype=pl.String))\n",
    ")"
   ]
  },
  {
   "cell_type": "markdown",
   "id": "2887da6c-abf9-4e56-ba4c-481a1a549306",
   "metadata": {},
   "source": [
    "## 4. Renaming Columns"
   ]
  },
  {
   "cell_type": "code",
   "execution_count": 9,
   "id": "b016fcff-d8bd-4882-87f6-9e2a5a33d4ea",
   "metadata": {},
   "outputs": [],
   "source": [
    "# Here we rename the columns\n",
    "# Create a list of all column names to preserve the originals for later\n",
    "col_names = df.columns\n",
    "\n",
    "# Dictionary to rename columns\n",
    "new_names = { \"Are you self-employed?\" : \"self-employed_indic\" ,\n",
    "             \"How many employees does your company or organization have?\" : \"comp_size\" ,\n",
    "             \"Is your employer primarily a tech company/organization?\" : \"tech_comp_indic\" ,\n",
    "             \"Is your primary role within your company related to tech/IT?\" : \"tech_role_indic\",\n",
    "             \"Does your employer provide mental health benefits as part of healthcare coverage?\" : \"availability_of_benefits\" ,\n",
    "             \"Do you know the options for mental health care available under your employer-provided coverage?\" : \"awareness_of_benefits\" , \n",
    "             \"Has your employer ever formally discussed mental health (for example, as part of a wellness campaign or other official communication)?\" : \"mh_discussion_indic\" ,\n",
    "             \"Does your employer offer resources to learn more about mental health concerns and options for seeking help?\" : \"mh_resources_availability_indic\" ,\n",
    "             \"Is your anonymity protected if you choose to take advantage of mental health or substance abuse treatment resources provided by your employer?\" : \"anonym_use_benefit_indic\" ,\n",
    "             \"If a mental health issue prompted you to request a medical leave from work, asking for that leave would be:\" : \"sick_leave_difficulty\" ,\n",
    "             \"Do you think that discussing a mental health disorder with your employer would have negative consequences?\" : \"neg_consequences_discussing_mh\" ,\n",
    "             \"Do you think that discussing a physical health issue with your employer would have negative consequences?\" : \"neg_consequences_discussing_ph\" ,\n",
    "             \"Would you feel comfortable discussing a mental health disorder with your coworkers?\" : \"comf_discussing_mh_with_coworker_indic\" ,\n",
    "             \"Would you feel comfortable discussing a mental health disorder with your direct supervisor(s)?\" : \"comf_discussing_mnh_with_supervisor_indic\" ,\n",
    "             \"Do you feel that your employer takes mental health as seriously as physical health?\" : \"employer_importance_mh_vs_ph\" ,\n",
    "             \"Have you heard of or observed negative consequences for co-workers who have been open about mental health issues in your workplace?\" : \"known_neg_consequences_of_mh\" ,\n",
    "             \"Do you have medical coverage (private insurance or state-provided) which includes treatment of \\xa0mental health issues?\" : \"med_coverage_mh_indic\" ,\n",
    "             \"Do you know local or online resources to seek help for a mental health disorder?\" : \"known_mh_sources\" ,\n",
    "             \"If you have been diagnosed or treated for a mental health disorder, do you ever reveal this to clients or business contacts?\" : \"mention_mh_to_clients\" ,\n",
    "             \"If you have revealed a mental health issue to a client or business contact, do you believe this has impacted you negatively?\" : \"neg_impact_of_reveal_to_client_of_mh\" ,\n",
    "             \"If you have been diagnosed or treated for a mental health disorder, do you ever reveal this to coworkers or employees?\" : \"mention_mh_to_employees\" ,\n",
    "             \"If you have revealed a mental health issue to a coworker or employee, do you believe this has impacted you negatively?\" : \"neg_impact_of_reveal_to_employee_of_mh\" ,\n",
    "             \"Do you believe your productivity is ever affected by a mental health issue?\" : \"productivity_effect_of_mh\" ,\n",
    "             \"If yes, what percentage of your work time (time performing primary or secondary job functions) is affected by a mental health issue?\" : \"time_effect_of_mh\" ,\n",
    "             \"Do you have previous employers?\" : \"prev_employers\" ,\n",
    "             \"Have your previous employers provided mental health benefits?\" : \"availability_of_benefits_prev_employer\" , \n",
    "             \"Were you aware of the options for mental health care provided by your previous employers?\" : \"awareness_of_benefits_prev_employer\" ,\n",
    "             \"Did your previous employers ever formally discuss mental health (as part of a wellness campaign or other official communication)?\" : \"mh_discussion_indic_prev_employer\" ,\n",
    "             \"Did your previous employers provide resources to learn more about mental health issues and how to seek help?\" : \"mh_resources_availability_indic_prev_employer\" ,\n",
    "             \"Was your anonymity protected if you chose to take advantage of mental health or substance abuse treatment resources with previous employers?\" : \"anonym_use_benefit_indic_prev_employer\" ,\n",
    "             \"Do you think that discussing a mental health disorder with previous employers would have negative consequences?\" : \"neg_consequences_discussing_mh_prev_employer\" , \n",
    "             \"Do you think that discussing a physical health issue with previous employers would have negative consequences?\" : \"neg_consequences_discussing_ph_prev_employer\" ,\n",
    "             \"Would you have been willing to discuss a mental health issue with your previous co-workers?\" : \"comf_discussing_mh_with_coworker_prev_employer\" ,\n",
    "             \"Would you have been willing to discuss a mental health issue with your direct supervisor(s)?\" : \"comf_discussing_mnh_with_supervisor_prev_employer\" ,\n",
    "             \"Did you feel that your previous employers took mental health as seriously as physical health?\" : \"employer_importance_mh_vs_ph_prev_employer\" ,\n",
    "             \"Did you hear of or observe negative consequences for co-workers with mental health issues in your previous workplaces?\" : \"known_neg_consequences_of_mh_prev_employer\" ,\n",
    "             \"Would you be willing to bring up a physical health issue with a potential employer in an interview?\" : \"willing_discuss_ph_in_hiring_interview\" ,\n",
    "             \"Why or why not?\" : \"why_why_not_1\" ,\n",
    "             \"Would you bring up a mental health issue with a potential employer in an interview?\" : \"willing_discuss_mh_in_hiring_interview\" ,\n",
    "             \"Why or why not?2\" : \"why_why_not_2\" ,\n",
    "             \"Do you feel that being identified as a person with a mental health issue would hurt your career?\" : \"percevied_neg_impact_carreer_of_mh\" ,\n",
    "             \"Do you think that team members/co-workers would view you more negatively if they knew you suffered from a mental health issue?\" : \"perceived_neg_impact_coworker_opiniton_of_mh\" ,\n",
    "             \"How willing would you be to share with friends and family that you have a mental illness?\" : \"willingness_to_share_with_friend_family\" ,\n",
    "             \"Have you observed or experienced an unsupportive or badly handled response to a mental health issue in your current or previous workplace?\" : \"neg_response_to_mh\" ,\n",
    "             \"Have your observations of how another individual who discussed a mental health disorder made you less likely to reveal a mental health issue yourself in your current workplace?\" : \"willingness_to_share_mh_after_observation\" ,\n",
    "             \"Do you have a family history of mental illness?\" : \"mh_family_hist\" ,\n",
    "             \"Have you had a mental health disorder in the past?\" : \"previous_mh\" ,\n",
    "             \"Do you currently have a mental health disorder?\" : \"current_mh\" ,\n",
    "             \"If yes, what condition(s) have you been diagnosed with?\" :  \"diagnosis_name_condition\" ,\n",
    "             \"If maybe, what condition(s) do you believe you have?\" : \"believed_name_condiiton\" ,\n",
    "             \"Have you been diagnosed with a mental health condition by a medical professional?\" : \"diagnosis_professional\" ,\n",
    "             \"If so, what condition(s) were you diagnosed with?\" : \"diagnosis_name_professional_condition\" ,\n",
    "             \"Have you ever sought treatment for a mental health issue from a mental health professional?\" : \"used_therapy\" ,\n",
    "             \"If you have a mental health issue, do you feel that it interferes with your work when being treated effectively?\" : \"interference_mh_treated_with_work\" ,\n",
    "             \"If you have a mental health issue, do you feel that it interferes with your work when NOT being treated effectively?\" : \"interference_mh_untreated_with_work\" ,\n",
    "             \"What is your age?\" : \"age\" ,\n",
    "             \"What is your gender?\" : \"gender\" ,\n",
    "             \"What country do you live in?\" : \"country_residency\" ,\n",
    "             \"What US state or territory do you live in?\" : \"usa_state_residency\" ,\n",
    "             \"What country do you work in?\" : \"country_work\" ,\n",
    "             \"What US state or territory do you work in?\" : \"usa_state_work\" ,\n",
    "             \"Which of the following best describes your work position?\" : \"job_title\" ,\n",
    "             \"Do you work remotely?\" : \"remote\" ,\n",
    "            }\n",
    "\n",
    "# Rename the keys in the dictionary with the names of the original DataFrame. This has to be done because I copied the titles from excel which was stupid and I made a mistake\n",
    "new_names = dict((col_names[list(new_names.keys()).index(key)], value) for key, value in new_names.items())\n",
    "df = df.rename(new_names).with_row_index(\"index\")"
   ]
  },
  {
   "cell_type": "markdown",
   "id": "d7d6cd3e-8bbc-42a8-9e2d-c3fcdcee3e16",
   "metadata": {},
   "source": [
    "## 5. Handling Self-employed Features"
   ]
  },
  {
   "cell_type": "code",
   "execution_count": 10,
   "id": "7c536332-d467-4e6b-bc8d-a0e560f37ca4",
   "metadata": {},
   "outputs": [],
   "source": [
    "# Drop all columns that are meant for self-employed and filter out the people that are self-employed\n",
    "df = df.filter(pl.col(\"self-employed_indic\") != 1)\n",
    "df = df.drop(\"self-employed_indic\")"
   ]
  },
  {
   "cell_type": "markdown",
   "id": "13294aab-4cc6-454d-bfbb-739606e65957",
   "metadata": {},
   "source": [
    "## 6. Investigating Null values"
   ]
  },
  {
   "cell_type": "code",
   "execution_count": 11,
   "id": "23045586-8801-4349-827a-457e0713c6b0",
   "metadata": {},
   "outputs": [],
   "source": [
    "# Count columns with null values and those without\n",
    "null_counts = df.null_count()\n",
    "\n",
    "# Transpose the dataframe to write the amount of null values entriewise\n",
    "null_counts_trans = null_counts.transpose(include_header= True)\n",
    "null_counts_trans = null_counts_trans.filter(pl.col('column')!='index')\n",
    "# Get the number of columns with null values and without\n",
    "true_null_counts = null_counts_trans.filter(pl.col(\"column_0\") == 0).shape[0]\n",
    "non_null_counts = null_counts_trans.filter(pl.col(\"column_0\") != 0).shape[0]\n",
    "\n",
    "\n",
    "# Calculate the percentage of NULL values per column and get the number\n",
    "null_counts_perc = null_counts_trans.with_columns((pl.col(\"column_0\") / df.shape[0] * 100).cast(pl.Int32).alias(\"null_perc\") )\n",
    "\n",
    "# Get the number of columns with 0 percent nulls, according to the percentages.\n",
    "non_null_counts = null_counts_perc.filter(pl.col('null_perc') == 0).shape[0]"
   ]
  },
  {
   "cell_type": "code",
   "execution_count": 12,
   "id": "39993717-8092-4d9a-8fad-f049a271ff7a",
   "metadata": {},
   "outputs": [
    {
     "data": {
      "text/plain": [
       "[Text(0, 0, '34'), Text(0, 0, '17'), Text(0, 0, '11')]"
      ]
     },
     "execution_count": 12,
     "metadata": {},
     "output_type": "execute_result"
    },
    {
     "data": {
      "image/png": "[encoded data removed]",
      "text/plain": [
       "<Figure size 800x550 with 1 Axes>"
      ]
     },
     "metadata": {},
     "output_type": "display_data"
    }
   ],
   "source": [
    "# Construct the number of Columns with exactly 0% null values\n",
    "num_null_counts_zero_perc = null_counts_perc.filter(pl.col(\"null_perc\") ==0).shape[0]\n",
    "\n",
    "# Construct the number for columns with less than 50% of null values but more than 0% null values\n",
    "num_null_counts_below_50_perc = null_counts_perc.filter((pl.col('null_perc') <= 50) & (pl.col('null_perc') > 0)).shape[0]\n",
    "\n",
    "# Construct the number for columns with more than 50% null values\n",
    "num_null_counts_exc_50_perc = null_counts_perc.filter(pl.col(\"null_perc\") > 50).shape[0]\n",
    "\n",
    "\n",
    "# Create a dictionary with the relevant information\n",
    "nulls_dict = {\"Zero (0) Null\" : non_null_counts , \"1% - 50% Null\" : num_null_counts_below_50_perc ,  \"> 50% Null\" : num_null_counts_exc_50_perc}\n",
    "# Plot the amount of columns with null values\n",
    "ax = sns.barplot(data=nulls_dict)\n",
    "ax.set(xlabel='' , ylabel='Number of Columns')\n",
    "ax.set_title(\"Number of Columns with Null Values\")\n",
    "ax.bar_label(ax.containers[0], fontsize=10)"
   ]
  },
  {
   "cell_type": "markdown",
   "id": "14739607-e06a-4162-bb08-388cee9984d1",
   "metadata": {},
   "source": [
    "### Null Value Handling"
   ]
  },
  {
   "cell_type": "code",
   "execution_count": 13,
   "id": "f91c08ad-25af-4e5d-84e1-75d3af98e610",
   "metadata": {},
   "outputs": [
    {
     "name": "stdout",
     "output_type": "stream",
     "text": [
      "['tech_role_indic', 'med_coverage_mh_indic', 'known_mh_sources', 'mention_mh_to_clients', 'neg_impact_of_reveal_to_client_of_mh', 'mention_mh_to_employees', 'neg_impact_of_reveal_to_employee_of_mh', 'productivity_effect_of_mh', 'time_effect_of_mh', 'diagnosis_name_condition', 'believed_name_condiiton']\n"
     ]
    }
   ],
   "source": [
    "# Drop all columns with more than 50% Null values. NOT YET!!!!!!!!!\n",
    "# First look at the columns with more than 50% Null Values\n",
    "drop_col_list = pl.Series(null_counts_perc.filter(pl.col(\"null_perc\")>50).select(pl.col(\"column\"))).to_list()\n",
    "print(drop_col_list)\n",
    "\n",
    "# tech_role_indic can perhaps be imputed via the job title"
   ]
  },
  {
   "cell_type": "markdown",
   "id": "417d5081-56c4-45b6-8c74-bf268aa51925",
   "metadata": {},
   "source": [
    "#### Standardizing answers of categorical features"
   ]
  },
  {
   "cell_type": "code",
   "execution_count": 14,
   "id": "0a17e4ad-3f5d-4ce6-9e24-4c11364e1821",
   "metadata": {},
   "outputs": [],
   "source": [
    "# Standardize all categorical columsn that are currently answered with 0/1 instead of yes/no\n",
    "df = df.with_columns(\n",
    "    pl.when(pl.col('tech_comp_indic') == 1).then(pl.lit('yes')).when(pl.col('tech_comp_indic') == 0).then(pl.lit('no')).alias('tech_comp_indic') ,\n",
    "    pl.when(pl.col('tech_role_indic') == 1).then(pl.lit('yes')).when(pl.col('tech_role_indic') == 0).then(pl.lit('no')).alias('tech_role_indic') ,\n",
    "    pl.when(pl.col('used_therapy') == 1).then(pl.lit('yes')).when(pl.col('used_therapy') == 0).then(pl.lit('no')).alias('used_therapy')          ,                          \n",
    "    pl.when(pl.col('prev_employers') == 1).then(pl.lit('yes')).when(pl.col('prev_employers') == 0).then(pl.lit('no')).alias('prev_employers')\n",
    ")"
   ]
  },
  {
   "cell_type": "markdown",
   "id": "fccf7066-7ce8-4042-b7aa-09b3fddc0f6f",
   "metadata": {},
   "source": [
    "### Imputation of Null Values"
   ]
  },
  {
   "cell_type": "code",
   "execution_count": 15,
   "id": "efac0acd-2316-45c4-9388-fc9e00b912e2",
   "metadata": {},
   "outputs": [],
   "source": [
    "# Convert all strings to lower case\n",
    "df = df.with_columns(pl.col(pl.String).str.to_lowercase())"
   ]
  },
  {
   "cell_type": "markdown",
   "id": "c9f9f36a-6ebb-47f8-a2ed-5d8c31c27adb",
   "metadata": {},
   "source": [
    "##### Imputation of feature: 'tech_role_indic'"
   ]
  },
  {
   "cell_type": "code",
   "execution_count": 16,
   "id": "06e158f0-ad89-4717-aac2-bbcfe6e7ddc2",
   "metadata": {},
   "outputs": [],
   "source": [
    "# Now lets find the list of tech jobs\n",
    "tech_jobs_list =  df.filter(pl.col(\"tech_role_indic\") == pl.lit('yes')).select(\"job_title\").rows()\n",
    "\n",
    "# Job list is currently a list nested of tuples\n",
    "# Define function to flatten nested list\n",
    "def flatten_list(list_input):\n",
    "    job_list = []\n",
    "    for x in list_input:\n",
    "        job_list.extend(x)\n",
    "    return job_list\n",
    "\n",
    "# Clear job_list of any nested tuples and splitters\n",
    "job_list = flatten_list(tech_jobs_list)\n",
    "job_list = [x.split('|') for x in job_list]\n",
    "job_list = flatten_list(job_list)\n",
    "job_list = [x.split('/') for x in job_list]\n",
    "job_list = flatten_list(job_list)\n",
    "\n",
    "# Clear job titles of non-tech jobs\n",
    "excluded_jobs = ['other' , 'designer' , 'support' , 'team lead' , 'sales' , 'supervisor' , 'advocate' , 'one-person shop' , 'executive leadership', 'hr']\n",
    "job_list = [x for x in job_list if x not in excluded_jobs]\n",
    "\n",
    "job_list = np.unique(job_list)\n",
    "\n",
    "# Now that we have a cleaned list of tech jobs we need to impute out polars DataFrame\n",
    "# First we construct a regex pattern to catch all possible values\n",
    "\n",
    "job_pattern = '|'.join(job_list)\n",
    "\n",
    "df = df.with_columns(\n",
    "    pl.when(\n",
    "        (pl.col('job_title').str.contains(job_pattern)) & (pl.col('tech_role_indic').is_null())\n",
    "    ).then(pl.lit('yes')).otherwise(pl.lit('no')).alias('tech_role_indic')\n",
    ")"
   ]
  },
  {
   "cell_type": "markdown",
   "id": "d33026e8-b00a-4bca-8e56-ee6debf4fe3f",
   "metadata": {},
   "source": [
    "##### Imputation of feature 'diagnosis_name_condition'"
   ]
  },
  {
   "cell_type": "code",
   "execution_count": 17,
   "id": "8c80d175-47dc-4251-987e-ffab9694ded5",
   "metadata": {},
   "outputs": [],
   "source": [
    "# For this use the followuing method: if col \"current_mh\" is \"no\" then impute it wiht \"n/a\"\n",
    "df = df.with_columns(\n",
    "    pl.when(pl.col('current_mh').is_in(['no' , 'maybe']) , pl.col('diagnosis_name_condition').is_null() ).then(pl.lit('n/a')).otherwise('diagnosis_name_condition').alias('diagnosis_name_condition')\n",
    ")"
   ]
  },
  {
   "cell_type": "markdown",
   "id": "d79bd1f6-24f8-4558-9cd7-9ae69ecf8bdd",
   "metadata": {},
   "source": [
    "##### Imputation of feature 'believed_name_condiiton'"
   ]
  },
  {
   "cell_type": "code",
   "execution_count": 18,
   "id": "4a875f5d-deb1-496f-bc14-0ddf3c84c2a5",
   "metadata": {},
   "outputs": [],
   "source": [
    "# For this use the following method: if col \"current_mh\" is \"no\" or \"yes\" then impute it with \"n/a\"\n",
    "df = df.with_columns(\n",
    "    pl.when(pl.col('current_mh').is_in(['no' , 'yes']) , pl.col('believed_name_condiiton').is_null() ).then(pl.lit('n/a')).otherwise('believed_name_condiiton').alias('believed_name_condiiton')\n",
    ")"
   ]
  },
  {
   "cell_type": "markdown",
   "id": "d2580185-5a22-4fdc-b93e-1c3238485b79",
   "metadata": {},
   "source": [
    "##### Imputation of features \"country_residency\" & \"country_work\""
   ]
  },
  {
   "cell_type": "code",
   "execution_count": 19,
   "id": "15d76a3e-9d3f-4aa6-9700-028f30023cbf",
   "metadata": {},
   "outputs": [],
   "source": [
    "df = df.with_columns(\n",
    "    pl.when(pl.col('country_residency') != 'united states of america').then(pl.lit('international')).otherwise('usa_state_residency').alias('usa_state_residency'),\n",
    "    pl.when(pl.col('country_work') != 'united states of america').then(pl.lit('international')).otherwise('usa_state_work').alias('usa_state_work')\n",
    ")"
   ]
  },
  {
   "cell_type": "markdown",
   "id": "57f60de9-9f10-4ed2-9a5a-13529bd917e1",
   "metadata": {},
   "source": [
    "##### Imputation of features relying on feature \"prev_employers\"\n",
    "##### It can be seen that the NULL values are those that do not have previous employers (Same logic applies to columns index 16 to 27)\n",
    "##### Impute with \"not applicable\"\n",
    "##### NOTE!! This is also a good project for visualization to see the causality"
   ]
  },
  {
   "cell_type": "code",
   "execution_count": 20,
   "id": "f99cb0bc-60e2-4605-9d5d-5527eaf9356d",
   "metadata": {},
   "outputs": [],
   "source": [
    "df = df.with_columns(\t\n",
    "    pl.when(pl.col('prev_employers') == 'no').then(pl.lit('not applicable')).otherwise(pl.col('availability_of_benefits_prev_employer')).alias('availability_of_benefits_prev_employer') \n",
    "    , pl.when(pl.col('prev_employers') == 'no').then(pl.lit('not applicable')).otherwise(pl.col('awareness_of_benefits_prev_employer')).alias('awareness_of_benefits_prev_employer')\n",
    "    , pl.when(pl.col('prev_employers') == 'no').then(pl.lit('not applicable')).otherwise(pl.col('mh_discussion_indic_prev_employer')).alias('mh_discussion_indic_prev_employer')\n",
    "    , pl.when(pl.col('prev_employers') == 'no').then(pl.lit('not applicable')).otherwise(pl.col('mh_resources_availability_indic_prev_employer')).alias('mh_resources_availability_indic_prev_employer')\n",
    "    , pl.when(pl.col('prev_employers') == 'no').then(pl.lit('not applicable')).otherwise(pl.col('anonym_use_benefit_indic_prev_employer')).alias('anonym_use_benefit_indic_prev_employer')\n",
    "    , pl.when(pl.col('prev_employers') == 'no').then(pl.lit('not applicable')).otherwise(pl.col('neg_consequences_discussing_mh_prev_employer')).alias('neg_consequences_discussing_mh_prev_employer')\n",
    "    , pl.when(pl.col('prev_employers') == 'no').then(pl.lit('not applicable')).otherwise(pl.col('neg_consequences_discussing_ph_prev_employer')).alias('neg_consequences_discussing_ph_prev_employer')\n",
    "    , pl.when(pl.col('prev_employers') == 'no').then(pl.lit('not applicable')).otherwise(pl.col('comf_discussing_mh_with_coworker_prev_employer')).alias('comf_discussing_mh_with_coworker_prev_employer')\n",
    "    , pl.when(pl.col('prev_employers') == 'no').then(pl.lit('not applicable')).otherwise(pl.col('comf_discussing_mnh_with_supervisor_prev_employer')).alias('comf_discussing_mnh_with_supervisor_prev_employer')\n",
    "    , pl.when(pl.col('prev_employers') == 'no').then(pl.lit('not applicable')).otherwise(pl.col('employer_importance_mh_vs_ph_prev_employer')).alias('employer_importance_mh_vs_ph_prev_employer')                    \n",
    "    , pl.when(pl.col('prev_employers') == 'no').then(pl.lit('not applicable')).otherwise(pl.col('known_neg_consequences_of_mh_prev_employer')).alias('known_neg_consequences_of_mh_prev_employer')                                                        \n",
    ")"
   ]
  },
  {
   "cell_type": "markdown",
   "id": "3c7598c2-5bfa-49a0-a69a-593e48538874",
   "metadata": {},
   "source": [
    "##### Imputation of features \"diagnosis_name_condition\" & \"believed_name_condiiton\""
   ]
  },
  {
   "cell_type": "code",
   "execution_count": 21,
   "id": "4c5a3349-15f0-4554-a6eb-0be7fd219e79",
   "metadata": {},
   "outputs": [],
   "source": [
    "# Imputation of \"diagnosis_name_condition\"\n",
    "most_common_diagnosis_name = df.select(pl.col('diagnosis_name_condition')).to_series().value_counts().sort(by='count', descending = True).select(pl.first('diagnosis_name_condition')).to_series()[0]\n",
    "df = df.with_columns(\n",
    "    pl.when(pl.col('diagnosis_name_condition').is_null()).then(pl.lit(most_common_diagnosis_name)).otherwise('diagnosis_name_condition').alias('diagnosis_name_condition')\n",
    ")\n",
    "\n",
    "# Imputation of \"believed_name_condiiton\"\n",
    "most_common_believed_name = df.select(pl.col('believed_name_condiiton')).to_series().value_counts().sort(by='count', descending = True).select(pl.first('believed_name_condiiton')).to_series()[0]\n",
    "df = df.with_columns(\n",
    "    pl.when(pl.col('believed_name_condiiton').is_null()).then(pl.lit(most_common_believed_name)).otherwise('believed_name_condiiton').alias('believed_name_condiiton')\n",
    ")"
   ]
  },
  {
   "cell_type": "markdown",
   "id": "460389e5-ad9c-4148-bb13-dc788ce894ea",
   "metadata": {},
   "source": [
    "##### Imputation of \"willingness_to_share_mh_after_observation\""
   ]
  },
  {
   "cell_type": "code",
   "execution_count": 22,
   "id": "8865ba35-9867-4c93-86a5-e2b0546db069",
   "metadata": {},
   "outputs": [
    {
     "data": {
      "text/html": [
       "<div><style>\n",
       ".dataframe > thead > tr,\n",
       ".dataframe > tbody > tr {\n",
       "  text-align: right;\n",
       "  white-space: pre-wrap;\n",
       "}\n",
       "</style>\n",
       "<small>shape: (543, 2)</small><table border=\"1\" class=\"dataframe\"><thead><tr><th>neg_response_to_mh</th><th>willingness_to_share_mh_after_observation</th></tr><tr><td>str</td><td>str</td></tr></thead><tbody><tr><td>&quot;no&quot;</td><td>null</td></tr><tr><td>&quot;no&quot;</td><td>null</td></tr><tr><td>&quot;no&quot;</td><td>null</td></tr><tr><td>&quot;no&quot;</td><td>null</td></tr><tr><td>&quot;no&quot;</td><td>null</td></tr><tr><td>&hellip;</td><td>&hellip;</td></tr><tr><td>&quot;no&quot;</td><td>null</td></tr><tr><td>&quot;no&quot;</td><td>null</td></tr><tr><td>&quot;no&quot;</td><td>null</td></tr><tr><td>&quot;no&quot;</td><td>null</td></tr><tr><td>&quot;no&quot;</td><td>null</td></tr></tbody></table></div>"
      ],
      "text/plain": [
       "shape: (543, 2)\n",
       "┌────────────────────┬─────────────────────────────────┐\n",
       "│ neg_response_to_mh ┆ willingness_to_share_mh_after_… │\n",
       "│ ---                ┆ ---                             │\n",
       "│ str                ┆ str                             │\n",
       "╞════════════════════╪═════════════════════════════════╡\n",
       "│ no                 ┆ null                            │\n",
       "│ no                 ┆ null                            │\n",
       "│ no                 ┆ null                            │\n",
       "│ no                 ┆ null                            │\n",
       "│ no                 ┆ null                            │\n",
       "│ …                  ┆ …                               │\n",
       "│ no                 ┆ null                            │\n",
       "│ no                 ┆ null                            │\n",
       "│ no                 ┆ null                            │\n",
       "│ no                 ┆ null                            │\n",
       "│ no                 ┆ null                            │\n",
       "└────────────────────┴─────────────────────────────────┘"
      ]
     },
     "execution_count": 22,
     "metadata": {},
     "output_type": "execute_result"
    }
   ],
   "source": [
    "# Investigate how to impute 'willingness_to_share_mh_after_observation' based on 'neg_response_to_mh'\n",
    "df.select(pl.col(['neg_response_to_mh' ,'willingness_to_share_mh_after_observation' ])).filter((pl.col('neg_response_to_mh') == 'no') | (pl.col('neg_response_to_mh') == 'n/a'))"
   ]
  },
  {
   "cell_type": "code",
   "execution_count": 23,
   "id": "de9a22aa-b91f-4677-968f-4bbc48b39ac7",
   "metadata": {},
   "outputs": [],
   "source": [
    "# Impute the columns 'willingness_to_share_mh_after_observation' with n/a incase 'neg_response_to_mh' was answered with 'no' or 'n/a'\n",
    "df = df.with_columns(\n",
    "    pl.when(pl.col('neg_response_to_mh') == 'n/a', pl.col('willingness_to_share_mh_after_observation').is_null()).then(pl.lit('n/a')).otherwise(pl.col('willingness_to_share_mh_after_observation')).alias('willingness_to_share_mh_after_observation')\n",
    ")\n",
    "df = df.with_columns(\n",
    "    pl.when(pl.col('neg_response_to_mh') == 'no', pl.col('willingness_to_share_mh_after_observation').is_null()).then(pl.lit('n/a')).otherwise(pl.col('willingness_to_share_mh_after_observation')).alias('willingness_to_share_mh_after_observation')\n",
    ")"
   ]
  },
  {
   "cell_type": "markdown",
   "id": "cf25c31d-ae01-45b5-8d8d-7ee44dae3e73",
   "metadata": {},
   "source": [
    "##### Imputation & Standardization of feature 'gender'"
   ]
  },
  {
   "cell_type": "code",
   "execution_count": 24,
   "id": "3d3c1121-87e9-4c12-a9bf-cacd1b6728a6",
   "metadata": {},
   "outputs": [],
   "source": [
    "# Impute & standardize the feature 'gender'\n",
    "\n",
    "# Strip entries of whitespace\n",
    "df = df.with_columns(\n",
    "    pl.col('gender').str.strip_chars().alias('gender')\n",
    ")\n",
    "# Standardize male\n",
    "df = df.with_columns(\n",
    "    pl.col('gender').replace(['m' ,  'male.' , 'cis male' , 'male (cis)' , 'man' , 'dude' , 'cis man' , 'sex is male' , 'mail' , 'cisdude'], 'male').alias('gender')\n",
    ")\n",
    "# Standardize female\n",
    "df = df.with_columns(\n",
    "    pl.col('gender').replace(['f' ,  'i identify as female.' , 'cis female' , 'female assigned at birth' , 'female/woman' , 'woman' , 'fm' , 'fem' , 'cisgender female' , 'cis-woman' \n",
    "                              ,'female (props for making this a freeform field, though)'], 'female').alias('gender')\n",
    ")\n",
    "# Standardize others\n",
    "df = df.with_columns(\n",
    "    pl.when(pl.col('gender').is_in(['male' , 'female']).not_()).then(pl.lit('other')).otherwise(pl.col('gender')).alias('gender')\n",
    ")\n",
    "# Impute missing gender values with the most common gender\n",
    "most_common_gender = df.select(pl.col('gender')).to_series().value_counts().sort(by='count', descending = True).select(pl.first('gender')).to_series()[0]\n",
    "df = df.with_columns(\n",
    "    pl.when(pl.col('gender').is_null()).then(pl.lit(most_common_gender)).otherwise('gender').alias('gender')\n",
    ")"
   ]
  },
  {
   "cell_type": "markdown",
   "id": "4ed8c955-4133-43e7-97e2-bdf8a85580c8",
   "metadata": {},
   "source": [
    "##### Imputation of feature 'diagnosis_name_professional_condition'"
   ]
  },
  {
   "cell_type": "code",
   "execution_count": 25,
   "id": "be6c9d72-77f2-41ed-8ed5-1f15fe3596a3",
   "metadata": {},
   "outputs": [],
   "source": [
    "# Impute the null values of the feature 'diagnosis_name_professional_condition' , if there is no diagnosis in feature 'diagnosis_professional'\n",
    "df = df.with_columns(\n",
    "    pl.when(pl.col('diagnosis_professional') == 'no').then(pl.lit('n/a')).otherwise('diagnosis_name_professional_condition').alias('diagnosis_name_professional_condition')\n",
    ")\n",
    "# Find the name of the most common diagnosis\n",
    "most_common_mh_diagnosis = df.select(pl.col('diagnosis_name_professional_condition')).to_series().value_counts().sort(by='count' , descending=True).to_series()[1]\n",
    "# Impute the missing values with the most common diagnosis\n",
    "df = df.with_columns(\n",
    "    pl.when(pl.col('diagnosis_name_professional_condition').is_null()).then(pl.lit(most_common_mh_diagnosis)).otherwise('diagnosis_name_professional_condition').alias('diagnosis_name_professional_condition')\n",
    ")"
   ]
  },
  {
   "cell_type": "markdown",
   "id": "d4ce89f4-98e4-4a08-ae91-836e3d30e4e3",
   "metadata": {},
   "source": [
    "##### Imputation of feature 'willingness_to_share_mh_after_observation'"
   ]
  },
  {
   "cell_type": "code",
   "execution_count": 26,
   "id": "3e3c2027-dd10-42c8-94bc-371f71bdbbed",
   "metadata": {},
   "outputs": [],
   "source": [
    "# Find the name of the most common answer\n",
    "most_common_willingness = df.select(pl.col('willingness_to_share_mh_after_observation')).to_series().value_counts().sort(by='count' , descending=True).to_series()[1]\n",
    "# Impute the missing values with the most common answer to 'willingness_to_share_mh_after_observation'\n",
    "df = df.with_columns(\n",
    "    pl.when(pl.col('willingness_to_share_mh_after_observation').is_null()).then(pl.lit(most_common_willingness)).otherwise('willingness_to_share_mh_after_observation').alias('willingness_to_share_mh_after_observation')\n",
    ")"
   ]
  },
  {
   "cell_type": "markdown",
   "id": "3b3a9d24-b33b-4c8f-b3c6-010936f8d7a5",
   "metadata": {},
   "source": [
    "##### Drop columns with too many NULL values"
   ]
  },
  {
   "cell_type": "code",
   "execution_count": 27,
   "id": "81102305-c7ec-4d58-b8e2-f7b5fd037cc1",
   "metadata": {},
   "outputs": [
    {
     "name": "stdout",
     "output_type": "stream",
     "text": [
      "['med_coverage_mh_indic', 'known_mh_sources', 'mention_mh_to_clients', 'neg_impact_of_reveal_to_client_of_mh', 'mention_mh_to_employees', 'neg_impact_of_reveal_to_employee_of_mh', 'productivity_effect_of_mh', 'time_effect_of_mh']\n"
     ]
    }
   ],
   "source": [
    "# Reconstruct the columns with too many null values\n",
    "null_counts = df.null_count().transpose(include_header= True)\n",
    "null_counts_perc = null_counts.with_columns((pl.col(\"column_0\") / df.shape[0] * 100).cast(pl.Int32).alias(\"null_perc\") )\n",
    "drop_col_list = pl.Series(null_counts_perc.filter(pl.col(\"null_perc\")>50).select(pl.col(\"column\"))).to_list()\n",
    "\n",
    "print(drop_col_list)"
   ]
  },
  {
   "cell_type": "code",
   "execution_count": 28,
   "id": "4f17dbd7-49b6-4341-adcc-65dfa6c8dc06",
   "metadata": {},
   "outputs": [],
   "source": [
    "# Now drop the columns with more than 50% null values\n",
    "df = df.drop(drop_col_list)"
   ]
  },
  {
   "cell_type": "markdown",
   "id": "dfd03bed-02f5-4c3c-81fc-01f75a34f01e",
   "metadata": {},
   "source": [
    "##### Investigate shape of new DataFrame"
   ]
  },
  {
   "cell_type": "code",
   "execution_count": 29,
   "id": "0179263f-a889-41ef-b605-a3437e7ac4ac",
   "metadata": {},
   "outputs": [
    {
     "name": "stdout",
     "output_type": "stream",
     "text": [
      "(1146, 55)\n"
     ]
    }
   ],
   "source": [
    "print(df.shape)"
   ]
  },
  {
   "cell_type": "markdown",
   "id": "b9f4b521-14a6-4e87-bc17-88c0d7f26357",
   "metadata": {},
   "source": [
    "##### Investigate the remaining columns with null values and impute them if necessary or possible\n",
    "The result shows that only two remaining columns, which are textual features, remain. The imputation of this can be done after their encoding, if necessary."
   ]
  },
  {
   "cell_type": "code",
   "execution_count": 30,
   "id": "f72c02f8-fdbc-4ea4-bbde-3c7b237f8355",
   "metadata": {},
   "outputs": [
    {
     "data": {
      "text/html": [
       "<div><style>\n",
       ".dataframe > thead > tr,\n",
       ".dataframe > tbody > tr {\n",
       "  text-align: right;\n",
       "  white-space: pre-wrap;\n",
       "}\n",
       "</style>\n",
       "<small>shape: (2, 2)</small><table border=\"1\" class=\"dataframe\"><thead><tr><th>column</th><th>column_0</th></tr><tr><td>str</td><td>u32</td></tr></thead><tbody><tr><td>&quot;why_why_not_1&quot;</td><td>274</td></tr><tr><td>&quot;why_why_not_2&quot;</td><td>249</td></tr></tbody></table></div>"
      ],
      "text/plain": [
       "shape: (2, 2)\n",
       "┌───────────────┬──────────┐\n",
       "│ column        ┆ column_0 │\n",
       "│ ---           ┆ ---      │\n",
       "│ str           ┆ u32      │\n",
       "╞═══════════════╪══════════╡\n",
       "│ why_why_not_1 ┆ 274      │\n",
       "│ why_why_not_2 ┆ 249      │\n",
       "└───────────────┴──────────┘"
      ]
     },
     "execution_count": 30,
     "metadata": {},
     "output_type": "execute_result"
    }
   ],
   "source": [
    "df.null_count().transpose(include_header= True).filter(pl.col('column_0') > 0)"
   ]
  },
  {
   "cell_type": "markdown",
   "id": "97af9156-da22-43ec-ad63-15ba97f46af9",
   "metadata": {},
   "source": [
    "## 7. Create 2 new Target Variables to apply feature selection methods to"
   ]
  },
  {
   "cell_type": "markdown",
   "id": "438ba5c0-4731-414e-ac24-1777d46b54ee",
   "metadata": {},
   "source": [
    "#### Generate feature of people that have the feeling their mental health issue can interfering with their work"
   ]
  },
  {
   "cell_type": "code",
   "execution_count": 31,
   "id": "819f0d7e-555c-475a-b67b-507677deece8",
   "metadata": {},
   "outputs": [],
   "source": [
    "# Generate feature about the interference of MH issue with work \n",
    "df = df.with_columns(\n",
    "    pl.when( (pl.col('interference_mh_treated_with_work').is_in(['not applicable to me' , 'never']).not_() ) | (pl.col('interference_mh_untreated_with_work').is_in(['not applicable to me' , 'never']).not_()) ).then(pl.lit(1)).otherwise(pl.lit(0)).alias('inter_all')\n",
    ")"
   ]
  },
  {
   "cell_type": "code",
   "execution_count": 32,
   "id": "ec915b8e-c61c-4db6-a932-3ed49395f2d1",
   "metadata": {},
   "outputs": [],
   "source": [
    "# Generate feature about the suspicion of negative consequences for being honest about MH issue\n",
    "df = df.with_columns(\n",
    "    pl.when( (pl.col('neg_consequences_discussing_mh').is_in(['yes' , 'maybe']))  |  (pl.col('perceived_neg_impact_coworker_opiniton_of_mh').is_in(['yes, i think they would' , 'yes, they do' , 'maybe'])) ).then(pl.lit('1')).otherwise(pl.lit('0')).alias('suspicion_neg_consequences') \n",
    ")"
   ]
  },
  {
   "cell_type": "code",
   "execution_count": 33,
   "id": "bd4cc11e-6b25-410d-8188-e038522f515f",
   "metadata": {},
   "outputs": [
    {
     "data": {
      "text/html": [
       "<div><style>\n",
       ".dataframe > thead > tr,\n",
       ".dataframe > tbody > tr {\n",
       "  text-align: right;\n",
       "  white-space: pre-wrap;\n",
       "}\n",
       "</style>\n",
       "<small>shape: (659, 57)</small><table border=\"1\" class=\"dataframe\"><thead><tr><th>index</th><th>comp_size</th><th>tech_comp_indic</th><th>tech_role_indic</th><th>availability_of_benefits</th><th>awareness_of_benefits</th><th>mh_discussion_indic</th><th>mh_resources_availability_indic</th><th>anonym_use_benefit_indic</th><th>sick_leave_difficulty</th><th>neg_consequences_discussing_mh</th><th>neg_consequences_discussing_ph</th><th>comf_discussing_mh_with_coworker_indic</th><th>comf_discussing_mnh_with_supervisor_indic</th><th>employer_importance_mh_vs_ph</th><th>known_neg_consequences_of_mh</th><th>prev_employers</th><th>availability_of_benefits_prev_employer</th><th>awareness_of_benefits_prev_employer</th><th>mh_discussion_indic_prev_employer</th><th>mh_resources_availability_indic_prev_employer</th><th>anonym_use_benefit_indic_prev_employer</th><th>neg_consequences_discussing_mh_prev_employer</th><th>neg_consequences_discussing_ph_prev_employer</th><th>comf_discussing_mh_with_coworker_prev_employer</th><th>comf_discussing_mnh_with_supervisor_prev_employer</th><th>employer_importance_mh_vs_ph_prev_employer</th><th>known_neg_consequences_of_mh_prev_employer</th><th>willing_discuss_ph_in_hiring_interview</th><th>why_why_not_1</th><th>willing_discuss_mh_in_hiring_interview</th><th>why_why_not_2</th><th>percevied_neg_impact_carreer_of_mh</th><th>perceived_neg_impact_coworker_opiniton_of_mh</th><th>willingness_to_share_with_friend_family</th><th>neg_response_to_mh</th><th>willingness_to_share_mh_after_observation</th><th>mh_family_hist</th><th>previous_mh</th><th>current_mh</th><th>diagnosis_name_condition</th><th>believed_name_condiiton</th><th>diagnosis_professional</th><th>diagnosis_name_professional_condition</th><th>used_therapy</th><th>interference_mh_treated_with_work</th><th>interference_mh_untreated_with_work</th><th>age</th><th>gender</th><th>country_residency</th><th>usa_state_residency</th><th>country_work</th><th>usa_state_work</th><th>job_title</th><th>remote</th><th>inter_all</th><th>suspicion_neg_consequences</th></tr><tr><td>u32</td><td>str</td><td>str</td><td>str</td><td>str</td><td>str</td><td>str</td><td>str</td><td>str</td><td>str</td><td>str</td><td>str</td><td>str</td><td>str</td><td>str</td><td>str</td><td>str</td><td>str</td><td>str</td><td>str</td><td>str</td><td>str</td><td>str</td><td>str</td><td>str</td><td>str</td><td>str</td><td>str</td><td>str</td><td>str</td><td>str</td><td>str</td><td>str</td><td>str</td><td>str</td><td>str</td><td>str</td><td>str</td><td>str</td><td>str</td><td>str</td><td>str</td><td>str</td><td>str</td><td>str</td><td>str</td><td>str</td><td>i64</td><td>str</td><td>str</td><td>str</td><td>str</td><td>str</td><td>str</td><td>str</td><td>i32</td><td>str</td></tr></thead><tbody><tr><td>0</td><td>&quot;26-100&quot;</td><td>&quot;yes&quot;</td><td>&quot;yes&quot;</td><td>&quot;not eligible for coverage / n/…</td><td>&quot;n/a&quot;</td><td>&quot;no&quot;</td><td>&quot;no&quot;</td><td>&quot;i don&#x27;t know&quot;</td><td>&quot;very easy&quot;</td><td>&quot;no&quot;</td><td>&quot;no&quot;</td><td>&quot;maybe&quot;</td><td>&quot;yes&quot;</td><td>&quot;i don&#x27;t know&quot;</td><td>&quot;no&quot;</td><td>&quot;yes&quot;</td><td>&quot;no, none did&quot;</td><td>&quot;n/a (not currently aware)&quot;</td><td>&quot;i don&#x27;t know&quot;</td><td>&quot;none did&quot;</td><td>&quot;i don&#x27;t know&quot;</td><td>&quot;some of them&quot;</td><td>&quot;none of them&quot;</td><td>&quot;some of my previous employers&quot;</td><td>&quot;some of my previous employers&quot;</td><td>&quot;i don&#x27;t know&quot;</td><td>&quot;none of them&quot;</td><td>&quot;maybe&quot;</td><td>null</td><td>&quot;maybe&quot;</td><td>null</td><td>&quot;maybe&quot;</td><td>&quot;no, i don&#x27;t think they would&quot;</td><td>&quot;somewhat open&quot;</td><td>&quot;no&quot;</td><td>&quot;n/a&quot;</td><td>&quot;no&quot;</td><td>&quot;yes&quot;</td><td>&quot;no&quot;</td><td>&quot;n/a&quot;</td><td>&quot;n/a&quot;</td><td>&quot;yes&quot;</td><td>&quot;anxiety disorder (generalized,…</td><td>&quot;no&quot;</td><td>&quot;not applicable to me&quot;</td><td>&quot;not applicable to me&quot;</td><td>39</td><td>&quot;male&quot;</td><td>&quot;united kingdom&quot;</td><td>&quot;international&quot;</td><td>&quot;united kingdom&quot;</td><td>&quot;international&quot;</td><td>&quot;back-end developer&quot;</td><td>&quot;sometimes&quot;</td><td>0</td><td>&quot;0&quot;</td></tr><tr><td>1</td><td>&quot;6-25&quot;</td><td>&quot;yes&quot;</td><td>&quot;yes&quot;</td><td>&quot;no&quot;</td><td>&quot;yes&quot;</td><td>&quot;yes&quot;</td><td>&quot;yes&quot;</td><td>&quot;yes&quot;</td><td>&quot;somewhat easy&quot;</td><td>&quot;no&quot;</td><td>&quot;no&quot;</td><td>&quot;maybe&quot;</td><td>&quot;yes&quot;</td><td>&quot;yes&quot;</td><td>&quot;no&quot;</td><td>&quot;yes&quot;</td><td>&quot;yes, they all did&quot;</td><td>&quot;i was aware of some&quot;</td><td>&quot;none did&quot;</td><td>&quot;some did&quot;</td><td>&quot;yes, always&quot;</td><td>&quot;none of them&quot;</td><td>&quot;none of them&quot;</td><td>&quot;no, at none of my previous emp…</td><td>&quot;some of my previous employers&quot;</td><td>&quot;some did&quot;</td><td>&quot;none of them&quot;</td><td>&quot;maybe&quot;</td><td>&quot;it would depend on the health …</td><td>&quot;no&quot;</td><td>&quot;while mental health has become…</td><td>&quot;no, i don&#x27;t think it would&quot;</td><td>&quot;no, i don&#x27;t think they would&quot;</td><td>&quot;somewhat open&quot;</td><td>&quot;no&quot;</td><td>&quot;n/a&quot;</td><td>&quot;yes&quot;</td><td>&quot;yes&quot;</td><td>&quot;yes&quot;</td><td>&quot;anxiety disorder (generalized,…</td><td>&quot;n/a&quot;</td><td>&quot;yes&quot;</td><td>&quot;anxiety disorder (generalized,…</td><td>&quot;yes&quot;</td><td>&quot;rarely&quot;</td><td>&quot;sometimes&quot;</td><td>29</td><td>&quot;male&quot;</td><td>&quot;united states of america&quot;</td><td>&quot;illinois&quot;</td><td>&quot;united states of america&quot;</td><td>&quot;illinois&quot;</td><td>&quot;back-end developer|front-end d…</td><td>&quot;never&quot;</td><td>1</td><td>&quot;0&quot;</td></tr><tr><td>4</td><td>&quot;6-25&quot;</td><td>&quot;no&quot;</td><td>&quot;no&quot;</td><td>&quot;yes&quot;</td><td>&quot;yes&quot;</td><td>&quot;no&quot;</td><td>&quot;no&quot;</td><td>&quot;no&quot;</td><td>&quot;neither easy nor difficult&quot;</td><td>&quot;yes&quot;</td><td>&quot;maybe&quot;</td><td>&quot;maybe&quot;</td><td>&quot;no&quot;</td><td>&quot;no&quot;</td><td>&quot;no&quot;</td><td>&quot;yes&quot;</td><td>&quot;i don&#x27;t know&quot;</td><td>&quot;n/a (not currently aware)&quot;</td><td>&quot;some did&quot;</td><td>&quot;none did&quot;</td><td>&quot;i don&#x27;t know&quot;</td><td>&quot;some of them&quot;</td><td>&quot;some of them&quot;</td><td>&quot;no, at none of my previous emp…</td><td>&quot;some of my previous employers&quot;</td><td>&quot;some did&quot;</td><td>&quot;some of them&quot;</td><td>&quot;maybe&quot;</td><td>&quot;depending on the interview sta…</td><td>&quot;no&quot;</td><td>&quot;i don&#x27;t know&quot;</td><td>&quot;yes, i think it would&quot;</td><td>&quot;maybe&quot;</td><td>&quot;somewhat open&quot;</td><td>&quot;yes, i experienced&quot;</td><td>&quot;yes&quot;</td><td>&quot;yes&quot;</td><td>&quot;yes&quot;</td><td>&quot;yes&quot;</td><td>&quot;anxiety disorder (generalized,…</td><td>&quot;n/a&quot;</td><td>&quot;yes&quot;</td><td>&quot;anxiety disorder (generalized,…</td><td>&quot;yes&quot;</td><td>&quot;sometimes&quot;</td><td>&quot;sometimes&quot;</td><td>43</td><td>&quot;female&quot;</td><td>&quot;united states of america&quot;</td><td>&quot;illinois&quot;</td><td>&quot;united states of america&quot;</td><td>&quot;illinois&quot;</td><td>&quot;executive leadership|superviso…</td><td>&quot;sometimes&quot;</td><td>1</td><td>&quot;1&quot;</td></tr><tr><td>5</td><td>&quot;more than 1000&quot;</td><td>&quot;yes&quot;</td><td>&quot;yes&quot;</td><td>&quot;yes&quot;</td><td>&quot;i am not sure&quot;</td><td>&quot;no&quot;</td><td>&quot;yes&quot;</td><td>&quot;yes&quot;</td><td>&quot;somewhat easy&quot;</td><td>&quot;yes&quot;</td><td>&quot;yes&quot;</td><td>&quot;maybe&quot;</td><td>&quot;yes&quot;</td><td>&quot;no&quot;</td><td>&quot;yes&quot;</td><td>&quot;yes&quot;</td><td>&quot;no, none did&quot;</td><td>&quot;yes, i was aware of all of the…</td><td>&quot;none did&quot;</td><td>&quot;none did&quot;</td><td>&quot;i don&#x27;t know&quot;</td><td>&quot;yes, all of them&quot;</td><td>&quot;some of them&quot;</td><td>&quot;no, at none of my previous emp…</td><td>&quot;no, at none of my previous emp…</td><td>&quot;none did&quot;</td><td>&quot;some of them&quot;</td><td>&quot;yes&quot;</td><td>&quot;if it would potentially affect…</td><td>&quot;maybe&quot;</td><td>&quot;it would depend on the field &amp;…</td><td>&quot;yes, i think it would&quot;</td><td>&quot;maybe&quot;</td><td>&quot;somewhat open&quot;</td><td>&quot;yes, i experienced&quot;</td><td>&quot;no&quot;</td><td>&quot;no&quot;</td><td>&quot;no&quot;</td><td>&quot;yes&quot;</td><td>&quot;anxiety disorder (generalized,…</td><td>&quot;n/a&quot;</td><td>&quot;no&quot;</td><td>&quot;n/a&quot;</td><td>&quot;yes&quot;</td><td>&quot;not applicable to me&quot;</td><td>&quot;often&quot;</td><td>42</td><td>&quot;male&quot;</td><td>&quot;united kingdom&quot;</td><td>&quot;international&quot;</td><td>&quot;united kingdom&quot;</td><td>&quot;international&quot;</td><td>&quot;devops/sysadmin|support|back-e…</td><td>&quot;sometimes&quot;</td><td>1</td><td>&quot;1&quot;</td></tr><tr><td>7</td><td>&quot;more than 1000&quot;</td><td>&quot;yes&quot;</td><td>&quot;yes&quot;</td><td>&quot;yes&quot;</td><td>&quot;yes&quot;</td><td>&quot;no&quot;</td><td>&quot;yes&quot;</td><td>&quot;yes&quot;</td><td>&quot;very easy&quot;</td><td>&quot;no&quot;</td><td>&quot;no&quot;</td><td>&quot;maybe&quot;</td><td>&quot;yes&quot;</td><td>&quot;i don&#x27;t know&quot;</td><td>&quot;no&quot;</td><td>&quot;yes&quot;</td><td>&quot;some did&quot;</td><td>&quot;i was aware of some&quot;</td><td>&quot;some did&quot;</td><td>&quot;some did&quot;</td><td>&quot;sometimes&quot;</td><td>&quot;some of them&quot;</td><td>&quot;some of them&quot;</td><td>&quot;some of my previous employers&quot;</td><td>&quot;some of my previous employers&quot;</td><td>&quot;some did&quot;</td><td>&quot;some of them&quot;</td><td>&quot;no&quot;</td><td>&quot;i feel it&#x27;s irrelevant.&quot;</td><td>&quot;no&quot;</td><td>&quot;same reason.&quot;</td><td>&quot;maybe&quot;</td><td>&quot;maybe&quot;</td><td>&quot;somewhat open&quot;</td><td>&quot;yes, i observed&quot;</td><td>&quot;maybe&quot;</td><td>&quot;yes&quot;</td><td>&quot;yes&quot;</td><td>&quot;yes&quot;</td><td>&quot;anxiety disorder (generalized,…</td><td>&quot;n/a&quot;</td><td>&quot;yes&quot;</td><td>&quot;anxiety disorder (generalized,…</td><td>&quot;yes&quot;</td><td>&quot;sometimes&quot;</td><td>&quot;often&quot;</td><td>37</td><td>&quot;female&quot;</td><td>&quot;united states of america&quot;</td><td>&quot;virginia&quot;</td><td>&quot;united states of america&quot;</td><td>&quot;virginia&quot;</td><td>&quot;dev evangelist/advocate|back-e…</td><td>&quot;always&quot;</td><td>1</td><td>&quot;1&quot;</td></tr><tr><td>&hellip;</td><td>&hellip;</td><td>&hellip;</td><td>&hellip;</td><td>&hellip;</td><td>&hellip;</td><td>&hellip;</td><td>&hellip;</td><td>&hellip;</td><td>&hellip;</td><td>&hellip;</td><td>&hellip;</td><td>&hellip;</td><td>&hellip;</td><td>&hellip;</td><td>&hellip;</td><td>&hellip;</td><td>&hellip;</td><td>&hellip;</td><td>&hellip;</td><td>&hellip;</td><td>&hellip;</td><td>&hellip;</td><td>&hellip;</td><td>&hellip;</td><td>&hellip;</td><td>&hellip;</td><td>&hellip;</td><td>&hellip;</td><td>&hellip;</td><td>&hellip;</td><td>&hellip;</td><td>&hellip;</td><td>&hellip;</td><td>&hellip;</td><td>&hellip;</td><td>&hellip;</td><td>&hellip;</td><td>&hellip;</td><td>&hellip;</td><td>&hellip;</td><td>&hellip;</td><td>&hellip;</td><td>&hellip;</td><td>&hellip;</td><td>&hellip;</td><td>&hellip;</td><td>&hellip;</td><td>&hellip;</td><td>&hellip;</td><td>&hellip;</td><td>&hellip;</td><td>&hellip;</td><td>&hellip;</td><td>&hellip;</td><td>&hellip;</td><td>&hellip;</td></tr><tr><td>1426</td><td>&quot;100-500&quot;</td><td>&quot;yes&quot;</td><td>&quot;no&quot;</td><td>&quot;i don&#x27;t know&quot;</td><td>&quot;i am not sure&quot;</td><td>&quot;no&quot;</td><td>&quot;i don&#x27;t know&quot;</td><td>&quot;i don&#x27;t know&quot;</td><td>&quot;somewhat easy&quot;</td><td>&quot;maybe&quot;</td><td>&quot;no&quot;</td><td>&quot;maybe&quot;</td><td>&quot;maybe&quot;</td><td>&quot;i don&#x27;t know&quot;</td><td>&quot;no&quot;</td><td>&quot;yes&quot;</td><td>&quot;i don&#x27;t know&quot;</td><td>&quot;n/a (not currently aware)&quot;</td><td>&quot;i don&#x27;t know&quot;</td><td>&quot;some did&quot;</td><td>&quot;i don&#x27;t know&quot;</td><td>&quot;some of them&quot;</td><td>&quot;some of them&quot;</td><td>&quot;some of my previous employers&quot;</td><td>&quot;some of my previous employers&quot;</td><td>&quot;some did&quot;</td><td>&quot;none of them&quot;</td><td>&quot;maybe&quot;</td><td>null</td><td>&quot;maybe&quot;</td><td>null</td><td>&quot;yes, it has&quot;</td><td>&quot;maybe&quot;</td><td>&quot;somewhat open&quot;</td><td>&quot;yes, i experienced&quot;</td><td>&quot;maybe&quot;</td><td>&quot;i don&#x27;t know&quot;</td><td>&quot;yes&quot;</td><td>&quot;yes&quot;</td><td>&quot;attention deficit hyperactivit…</td><td>&quot;n/a&quot;</td><td>&quot;yes&quot;</td><td>&quot;attention deficit hyperactivit…</td><td>&quot;yes&quot;</td><td>&quot;rarely&quot;</td><td>&quot;often&quot;</td><td>26</td><td>&quot;female&quot;</td><td>&quot;canada&quot;</td><td>&quot;international&quot;</td><td>&quot;canada&quot;</td><td>&quot;international&quot;</td><td>&quot;other&quot;</td><td>&quot;sometimes&quot;</td><td>1</td><td>&quot;1&quot;</td></tr><tr><td>1427</td><td>&quot;500-1000&quot;</td><td>&quot;yes&quot;</td><td>&quot;no&quot;</td><td>&quot;yes&quot;</td><td>&quot;no&quot;</td><td>&quot;no&quot;</td><td>&quot;no&quot;</td><td>&quot;yes&quot;</td><td>&quot;somewhat easy&quot;</td><td>&quot;no&quot;</td><td>&quot;no&quot;</td><td>&quot;yes&quot;</td><td>&quot;yes&quot;</td><td>&quot;yes&quot;</td><td>&quot;no&quot;</td><td>&quot;yes&quot;</td><td>&quot;some did&quot;</td><td>&quot;i was aware of some&quot;</td><td>&quot;none did&quot;</td><td>&quot;none did&quot;</td><td>&quot;i don&#x27;t know&quot;</td><td>&quot;some of them&quot;</td><td>&quot;none of them&quot;</td><td>&quot;some of my previous employers&quot;</td><td>&quot;no, at none of my previous emp…</td><td>&quot;none did&quot;</td><td>&quot;yes, all of them&quot;</td><td>&quot;no&quot;</td><td>&quot;i would be afraid it would ref…</td><td>&quot;no&quot;</td><td>&quot;i would be certain it would re…</td><td>&quot;maybe&quot;</td><td>&quot;no, i don&#x27;t think they would&quot;</td><td>&quot;very open&quot;</td><td>&quot;yes, i experienced&quot;</td><td>&quot;yes&quot;</td><td>&quot;yes&quot;</td><td>&quot;yes&quot;</td><td>&quot;yes&quot;</td><td>&quot;anxiety disorder (generalized,…</td><td>&quot;n/a&quot;</td><td>&quot;yes&quot;</td><td>&quot;anxiety disorder (generalized,…</td><td>&quot;yes&quot;</td><td>&quot;rarely&quot;</td><td>&quot;often&quot;</td><td>38</td><td>&quot;female&quot;</td><td>&quot;united states of america&quot;</td><td>&quot;illinois&quot;</td><td>&quot;united states of america&quot;</td><td>&quot;illinois&quot;</td><td>&quot;support&quot;</td><td>&quot;always&quot;</td><td>1</td><td>&quot;0&quot;</td></tr><tr><td>1430</td><td>&quot;100-500&quot;</td><td>&quot;yes&quot;</td><td>&quot;yes&quot;</td><td>&quot;yes&quot;</td><td>&quot;yes&quot;</td><td>&quot;yes&quot;</td><td>&quot;yes&quot;</td><td>&quot;i don&#x27;t know&quot;</td><td>&quot;somewhat difficult&quot;</td><td>&quot;maybe&quot;</td><td>&quot;maybe&quot;</td><td>&quot;yes&quot;</td><td>&quot;yes&quot;</td><td>&quot;i don&#x27;t know&quot;</td><td>&quot;yes&quot;</td><td>&quot;yes&quot;</td><td>&quot;some did&quot;</td><td>&quot;i was aware of some&quot;</td><td>&quot;none did&quot;</td><td>&quot;some did&quot;</td><td>&quot;sometimes&quot;</td><td>&quot;yes, all of them&quot;</td><td>&quot;some of them&quot;</td><td>&quot;some of my previous employers&quot;</td><td>&quot;some of my previous employers&quot;</td><td>&quot;none did&quot;</td><td>&quot;some of them&quot;</td><td>&quot;maybe&quot;</td><td>&quot;fear that doing so would cause…</td><td>&quot;no&quot;</td><td>&quot;fear that the employer would c…</td><td>&quot;yes, it has&quot;</td><td>&quot;no, i don&#x27;t think they would&quot;</td><td>&quot;somewhat open&quot;</td><td>&quot;yes, i observed&quot;</td><td>&quot;yes&quot;</td><td>&quot;yes&quot;</td><td>&quot;yes&quot;</td><td>&quot;maybe&quot;</td><td>&quot;n/a&quot;</td><td>&quot;anxiety disorder (generalized,…</td><td>&quot;yes&quot;</td><td>&quot;anxiety disorder (generalized,…</td><td>&quot;yes&quot;</td><td>&quot;rarely&quot;</td><td>&quot;sometimes&quot;</td><td>52</td><td>&quot;male&quot;</td><td>&quot;united states of america&quot;</td><td>&quot;georgia&quot;</td><td>&quot;united states of america&quot;</td><td>&quot;georgia&quot;</td><td>&quot;back-end developer&quot;</td><td>&quot;sometimes&quot;</td><td>1</td><td>&quot;1&quot;</td></tr><tr><td>1431</td><td>&quot;100-500&quot;</td><td>&quot;no&quot;</td><td>&quot;no&quot;</td><td>&quot;i don&#x27;t know&quot;</td><td>&quot;i am not sure&quot;</td><td>&quot;no&quot;</td><td>&quot;yes&quot;</td><td>&quot;i don&#x27;t know&quot;</td><td>&quot;somewhat difficult&quot;</td><td>&quot;maybe&quot;</td><td>&quot;no&quot;</td><td>&quot;maybe&quot;</td><td>&quot;yes&quot;</td><td>&quot;no&quot;</td><td>&quot;no&quot;</td><td>&quot;yes&quot;</td><td>&quot;no, none did&quot;</td><td>&quot;n/a (not currently aware)&quot;</td><td>&quot;none did&quot;</td><td>&quot;none did&quot;</td><td>&quot;i don&#x27;t know&quot;</td><td>&quot;yes, all of them&quot;</td><td>&quot;none of them&quot;</td><td>&quot;no, at none of my previous emp…</td><td>&quot;no, at none of my previous emp…</td><td>&quot;none did&quot;</td><td>&quot;none of them&quot;</td><td>&quot;maybe&quot;</td><td>&quot;stigma with some diseases&quot;</td><td>&quot;no&quot;</td><td>&quot;feels like i&#x27;m making a mounta…</td><td>&quot;no, i don&#x27;t think it would&quot;</td><td>&quot;no, i don&#x27;t think they would&quot;</td><td>&quot;somewhat open&quot;</td><td>&quot;yes, i experienced&quot;</td><td>&quot;maybe&quot;</td><td>&quot;yes&quot;</td><td>&quot;maybe&quot;</td><td>&quot;yes&quot;</td><td>&quot;anxiety disorder (generalized,…</td><td>&quot;n/a&quot;</td><td>&quot;yes&quot;</td><td>&quot;mood disorder (depression, bip…</td><td>&quot;no&quot;</td><td>&quot;sometimes&quot;</td><td>&quot;often&quot;</td><td>30</td><td>&quot;female&quot;</td><td>&quot;united states of america&quot;</td><td>&quot;nebraska&quot;</td><td>&quot;united states of america&quot;</td><td>&quot;nebraska&quot;</td><td>&quot;devops/sysadmin&quot;</td><td>&quot;sometimes&quot;</td><td>1</td><td>&quot;1&quot;</td></tr><tr><td>1432</td><td>&quot;100-500&quot;</td><td>&quot;yes&quot;</td><td>&quot;no&quot;</td><td>&quot;yes&quot;</td><td>&quot;no&quot;</td><td>&quot;no&quot;</td><td>&quot;no&quot;</td><td>&quot;i don&#x27;t know&quot;</td><td>&quot;very difficult&quot;</td><td>&quot;maybe&quot;</td><td>&quot;no&quot;</td><td>&quot;maybe&quot;</td><td>&quot;maybe&quot;</td><td>&quot;no&quot;</td><td>&quot;no&quot;</td><td>&quot;no&quot;</td><td>&quot;not applicable&quot;</td><td>&quot;not applicable&quot;</td><td>&quot;not applicable&quot;</td><td>&quot;not applicable&quot;</td><td>&quot;not applicable&quot;</td><td>&quot;not applicable&quot;</td><td>&quot;not applicable&quot;</td><td>&quot;not applicable&quot;</td><td>&quot;not applicable&quot;</td><td>&quot;not applicable&quot;</td><td>&quot;not applicable&quot;</td><td>&quot;maybe&quot;</td><td>null</td><td>&quot;no&quot;</td><td>null</td><td>&quot;yes, i think it would&quot;</td><td>&quot;no, i don&#x27;t think they would&quot;</td><td>&quot;somewhat open&quot;</td><td>&quot;maybe/not sure&quot;</td><td>&quot;no&quot;</td><td>&quot;i don&#x27;t know&quot;</td><td>&quot;yes&quot;</td><td>&quot;yes&quot;</td><td>&quot;obsessive-compulsive disorder|…</td><td>&quot;n/a&quot;</td><td>&quot;no&quot;</td><td>&quot;n/a&quot;</td><td>&quot;no&quot;</td><td>&quot;not applicable to me&quot;</td><td>&quot;often&quot;</td><td>25</td><td>&quot;other&quot;</td><td>&quot;canada&quot;</td><td>&quot;international&quot;</td><td>&quot;canada&quot;</td><td>&quot;international&quot;</td><td>&quot;other&quot;</td><td>&quot;sometimes&quot;</td><td>1</td><td>&quot;1&quot;</td></tr></tbody></table></div>"
      ],
      "text/plain": [
       "shape: (659, 57)\n",
       "┌───────┬───────────┬─────────────────┬─────────────────┬───┬─────────────────┬───────────┬───────────┬────────────────┐\n",
       "│ index ┆ comp_size ┆ tech_comp_indic ┆ tech_role_indic ┆ … ┆ job_title       ┆ remote    ┆ inter_all ┆ suspicion_neg_ │\n",
       "│ ---   ┆ ---       ┆ ---             ┆ ---             ┆   ┆ ---             ┆ ---       ┆ ---       ┆ consequences   │\n",
       "│ u32   ┆ str       ┆ str             ┆ str             ┆   ┆ str             ┆ str       ┆ i32       ┆ ---            │\n",
       "│       ┆           ┆                 ┆                 ┆   ┆                 ┆           ┆           ┆ str            │\n",
       "╞═══════╪═══════════╪═════════════════╪═════════════════╪═══╪═════════════════╪═══════════╪═══════════╪════════════════╡\n",
       "│ 0     ┆ 26-100    ┆ yes             ┆ yes             ┆ … ┆ back-end        ┆ sometimes ┆ 0         ┆ 0              │\n",
       "│       ┆           ┆                 ┆                 ┆   ┆ developer       ┆           ┆           ┆                │\n",
       "│ 1     ┆ 6-25      ┆ yes             ┆ yes             ┆ … ┆ back-end develo ┆ never     ┆ 1         ┆ 0              │\n",
       "│       ┆           ┆                 ┆                 ┆   ┆ per|front-end   ┆           ┆           ┆                │\n",
       "│       ┆           ┆                 ┆                 ┆   ┆ d…              ┆           ┆           ┆                │\n",
       "│ 4     ┆ 6-25      ┆ no              ┆ no              ┆ … ┆ executive leade ┆ sometimes ┆ 1         ┆ 1              │\n",
       "│       ┆           ┆                 ┆                 ┆   ┆ rship|superviso ┆           ┆           ┆                │\n",
       "│       ┆           ┆                 ┆                 ┆   ┆ …               ┆           ┆           ┆                │\n",
       "│ 5     ┆ more than ┆ yes             ┆ yes             ┆ … ┆ devops/sysadmin ┆ sometimes ┆ 1         ┆ 1              │\n",
       "│       ┆ 1000      ┆                 ┆                 ┆   ┆ |support|back-e ┆           ┆           ┆                │\n",
       "│       ┆           ┆                 ┆                 ┆   ┆ …               ┆           ┆           ┆                │\n",
       "│ 7     ┆ more than ┆ yes             ┆ yes             ┆ … ┆ dev evangelist/ ┆ always    ┆ 1         ┆ 1              │\n",
       "│       ┆ 1000      ┆                 ┆                 ┆   ┆ advocate|back-e ┆           ┆           ┆                │\n",
       "│       ┆           ┆                 ┆                 ┆   ┆ …               ┆           ┆           ┆                │\n",
       "│ …     ┆ …         ┆ …               ┆ …               ┆ … ┆ …               ┆ …         ┆ …         ┆ …              │\n",
       "│ 1426  ┆ 100-500   ┆ yes             ┆ no              ┆ … ┆ other           ┆ sometimes ┆ 1         ┆ 1              │\n",
       "│ 1427  ┆ 500-1000  ┆ yes             ┆ no              ┆ … ┆ support         ┆ always    ┆ 1         ┆ 0              │\n",
       "│ 1430  ┆ 100-500   ┆ yes             ┆ yes             ┆ … ┆ back-end        ┆ sometimes ┆ 1         ┆ 1              │\n",
       "│       ┆           ┆                 ┆                 ┆   ┆ developer       ┆           ┆           ┆                │\n",
       "│ 1431  ┆ 100-500   ┆ no              ┆ no              ┆ … ┆ devops/sysadmin ┆ sometimes ┆ 1         ┆ 1              │\n",
       "│ 1432  ┆ 100-500   ┆ yes             ┆ no              ┆ … ┆ other           ┆ sometimes ┆ 1         ┆ 1              │\n",
       "└───────┴───────────┴─────────────────┴─────────────────┴───┴─────────────────┴───────────┴───────────┴────────────────┘"
      ]
     },
     "execution_count": 33,
     "metadata": {},
     "output_type": "execute_result"
    }
   ],
   "source": [
    "# Investigate how many people have or had mental health issues to find out what interesting target variables we can construct\n",
    "# filter for diagnosis_professional OR current_mh OR previous_mh \n",
    "# Result: 659 people experienced mental health issues at some point. This could lead to a new target variable. Based on this target variable we do what? Maybe we look for those with negative experiences? Or Some other interesting \n",
    "# stuff\n",
    "df.filter(\n",
    "    (pl.col('diagnosis_professional').is_in(pl.lit('yes')))\n",
    "    | (pl.col('current_mh').is_in(pl.lit('yes')))\n",
    "    | (pl.col('previous_mh').is_in(pl.lit('yes')))\n",
    ")"
   ]
  },
  {
   "cell_type": "code",
   "execution_count": 34,
   "id": "068c2961-4011-4e38-9d0c-f197be3f36a1",
   "metadata": {},
   "outputs": [
    {
     "data": {
      "text/html": [
       "<div><style>\n",
       ".dataframe > thead > tr,\n",
       ".dataframe > tbody > tr {\n",
       "  text-align: right;\n",
       "  white-space: pre-wrap;\n",
       "}\n",
       "</style>\n",
       "<small>shape: (5, 57)</small><table border=\"1\" class=\"dataframe\"><thead><tr><th>index</th><th>comp_size</th><th>tech_comp_indic</th><th>tech_role_indic</th><th>availability_of_benefits</th><th>awareness_of_benefits</th><th>mh_discussion_indic</th><th>mh_resources_availability_indic</th><th>anonym_use_benefit_indic</th><th>sick_leave_difficulty</th><th>neg_consequences_discussing_mh</th><th>neg_consequences_discussing_ph</th><th>comf_discussing_mh_with_coworker_indic</th><th>comf_discussing_mnh_with_supervisor_indic</th><th>employer_importance_mh_vs_ph</th><th>known_neg_consequences_of_mh</th><th>prev_employers</th><th>availability_of_benefits_prev_employer</th><th>awareness_of_benefits_prev_employer</th><th>mh_discussion_indic_prev_employer</th><th>mh_resources_availability_indic_prev_employer</th><th>anonym_use_benefit_indic_prev_employer</th><th>neg_consequences_discussing_mh_prev_employer</th><th>neg_consequences_discussing_ph_prev_employer</th><th>comf_discussing_mh_with_coworker_prev_employer</th><th>comf_discussing_mnh_with_supervisor_prev_employer</th><th>employer_importance_mh_vs_ph_prev_employer</th><th>known_neg_consequences_of_mh_prev_employer</th><th>willing_discuss_ph_in_hiring_interview</th><th>why_why_not_1</th><th>willing_discuss_mh_in_hiring_interview</th><th>why_why_not_2</th><th>percevied_neg_impact_carreer_of_mh</th><th>perceived_neg_impact_coworker_opiniton_of_mh</th><th>willingness_to_share_with_friend_family</th><th>neg_response_to_mh</th><th>willingness_to_share_mh_after_observation</th><th>mh_family_hist</th><th>previous_mh</th><th>current_mh</th><th>diagnosis_name_condition</th><th>believed_name_condiiton</th><th>diagnosis_professional</th><th>diagnosis_name_professional_condition</th><th>used_therapy</th><th>interference_mh_treated_with_work</th><th>interference_mh_untreated_with_work</th><th>age</th><th>gender</th><th>country_residency</th><th>usa_state_residency</th><th>country_work</th><th>usa_state_work</th><th>job_title</th><th>remote</th><th>inter_all</th><th>suspicion_neg_consequences</th></tr><tr><td>u32</td><td>str</td><td>str</td><td>str</td><td>str</td><td>str</td><td>str</td><td>str</td><td>str</td><td>str</td><td>str</td><td>str</td><td>str</td><td>str</td><td>str</td><td>str</td><td>str</td><td>str</td><td>str</td><td>str</td><td>str</td><td>str</td><td>str</td><td>str</td><td>str</td><td>str</td><td>str</td><td>str</td><td>str</td><td>str</td><td>str</td><td>str</td><td>str</td><td>str</td><td>str</td><td>str</td><td>str</td><td>str</td><td>str</td><td>str</td><td>str</td><td>str</td><td>str</td><td>str</td><td>str</td><td>str</td><td>str</td><td>i64</td><td>str</td><td>str</td><td>str</td><td>str</td><td>str</td><td>str</td><td>str</td><td>i32</td><td>str</td></tr></thead><tbody><tr><td>0</td><td>&quot;26-100&quot;</td><td>&quot;yes&quot;</td><td>&quot;yes&quot;</td><td>&quot;not eligible for coverage / n/…</td><td>&quot;n/a&quot;</td><td>&quot;no&quot;</td><td>&quot;no&quot;</td><td>&quot;i don&#x27;t know&quot;</td><td>&quot;very easy&quot;</td><td>&quot;no&quot;</td><td>&quot;no&quot;</td><td>&quot;maybe&quot;</td><td>&quot;yes&quot;</td><td>&quot;i don&#x27;t know&quot;</td><td>&quot;no&quot;</td><td>&quot;yes&quot;</td><td>&quot;no, none did&quot;</td><td>&quot;n/a (not currently aware)&quot;</td><td>&quot;i don&#x27;t know&quot;</td><td>&quot;none did&quot;</td><td>&quot;i don&#x27;t know&quot;</td><td>&quot;some of them&quot;</td><td>&quot;none of them&quot;</td><td>&quot;some of my previous employers&quot;</td><td>&quot;some of my previous employers&quot;</td><td>&quot;i don&#x27;t know&quot;</td><td>&quot;none of them&quot;</td><td>&quot;maybe&quot;</td><td>null</td><td>&quot;maybe&quot;</td><td>null</td><td>&quot;maybe&quot;</td><td>&quot;no, i don&#x27;t think they would&quot;</td><td>&quot;somewhat open&quot;</td><td>&quot;no&quot;</td><td>&quot;n/a&quot;</td><td>&quot;no&quot;</td><td>&quot;yes&quot;</td><td>&quot;no&quot;</td><td>&quot;n/a&quot;</td><td>&quot;n/a&quot;</td><td>&quot;yes&quot;</td><td>&quot;anxiety disorder (generalized,…</td><td>&quot;no&quot;</td><td>&quot;not applicable to me&quot;</td><td>&quot;not applicable to me&quot;</td><td>39</td><td>&quot;male&quot;</td><td>&quot;united kingdom&quot;</td><td>&quot;international&quot;</td><td>&quot;united kingdom&quot;</td><td>&quot;international&quot;</td><td>&quot;back-end developer&quot;</td><td>&quot;sometimes&quot;</td><td>0</td><td>&quot;0&quot;</td></tr><tr><td>1</td><td>&quot;6-25&quot;</td><td>&quot;yes&quot;</td><td>&quot;yes&quot;</td><td>&quot;no&quot;</td><td>&quot;yes&quot;</td><td>&quot;yes&quot;</td><td>&quot;yes&quot;</td><td>&quot;yes&quot;</td><td>&quot;somewhat easy&quot;</td><td>&quot;no&quot;</td><td>&quot;no&quot;</td><td>&quot;maybe&quot;</td><td>&quot;yes&quot;</td><td>&quot;yes&quot;</td><td>&quot;no&quot;</td><td>&quot;yes&quot;</td><td>&quot;yes, they all did&quot;</td><td>&quot;i was aware of some&quot;</td><td>&quot;none did&quot;</td><td>&quot;some did&quot;</td><td>&quot;yes, always&quot;</td><td>&quot;none of them&quot;</td><td>&quot;none of them&quot;</td><td>&quot;no, at none of my previous emp…</td><td>&quot;some of my previous employers&quot;</td><td>&quot;some did&quot;</td><td>&quot;none of them&quot;</td><td>&quot;maybe&quot;</td><td>&quot;it would depend on the health …</td><td>&quot;no&quot;</td><td>&quot;while mental health has become…</td><td>&quot;no, i don&#x27;t think it would&quot;</td><td>&quot;no, i don&#x27;t think they would&quot;</td><td>&quot;somewhat open&quot;</td><td>&quot;no&quot;</td><td>&quot;n/a&quot;</td><td>&quot;yes&quot;</td><td>&quot;yes&quot;</td><td>&quot;yes&quot;</td><td>&quot;anxiety disorder (generalized,…</td><td>&quot;n/a&quot;</td><td>&quot;yes&quot;</td><td>&quot;anxiety disorder (generalized,…</td><td>&quot;yes&quot;</td><td>&quot;rarely&quot;</td><td>&quot;sometimes&quot;</td><td>29</td><td>&quot;male&quot;</td><td>&quot;united states of america&quot;</td><td>&quot;illinois&quot;</td><td>&quot;united states of america&quot;</td><td>&quot;illinois&quot;</td><td>&quot;back-end developer|front-end d…</td><td>&quot;never&quot;</td><td>1</td><td>&quot;0&quot;</td></tr><tr><td>2</td><td>&quot;6-25&quot;</td><td>&quot;yes&quot;</td><td>&quot;yes&quot;</td><td>&quot;no&quot;</td><td>&quot;n/a&quot;</td><td>&quot;no&quot;</td><td>&quot;no&quot;</td><td>&quot;i don&#x27;t know&quot;</td><td>&quot;neither easy nor difficult&quot;</td><td>&quot;maybe&quot;</td><td>&quot;no&quot;</td><td>&quot;maybe&quot;</td><td>&quot;maybe&quot;</td><td>&quot;i don&#x27;t know&quot;</td><td>&quot;no&quot;</td><td>&quot;yes&quot;</td><td>&quot;no, none did&quot;</td><td>&quot;n/a (not currently aware)&quot;</td><td>&quot;none did&quot;</td><td>&quot;some did&quot;</td><td>&quot;i don&#x27;t know&quot;</td><td>&quot;i don&#x27;t know&quot;</td><td>&quot;some of them&quot;</td><td>&quot;some of my previous employers&quot;</td><td>&quot;i don&#x27;t know&quot;</td><td>&quot;i don&#x27;t know&quot;</td><td>&quot;some of them&quot;</td><td>&quot;yes&quot;</td><td>&quot;they would provable need to kn…</td><td>&quot;yes&quot;</td><td>&quot;stigma, mainly. &quot;</td><td>&quot;maybe&quot;</td><td>&quot;maybe&quot;</td><td>&quot;somewhat open&quot;</td><td>&quot;maybe/not sure&quot;</td><td>&quot;yes&quot;</td><td>&quot;no&quot;</td><td>&quot;maybe&quot;</td><td>&quot;no&quot;</td><td>&quot;n/a&quot;</td><td>&quot;n/a&quot;</td><td>&quot;no&quot;</td><td>&quot;n/a&quot;</td><td>&quot;yes&quot;</td><td>&quot;not applicable to me&quot;</td><td>&quot;not applicable to me&quot;</td><td>38</td><td>&quot;male&quot;</td><td>&quot;united kingdom&quot;</td><td>&quot;international&quot;</td><td>&quot;united kingdom&quot;</td><td>&quot;international&quot;</td><td>&quot;back-end developer&quot;</td><td>&quot;always&quot;</td><td>0</td><td>&quot;1&quot;</td></tr><tr><td>4</td><td>&quot;6-25&quot;</td><td>&quot;no&quot;</td><td>&quot;no&quot;</td><td>&quot;yes&quot;</td><td>&quot;yes&quot;</td><td>&quot;no&quot;</td><td>&quot;no&quot;</td><td>&quot;no&quot;</td><td>&quot;neither easy nor difficult&quot;</td><td>&quot;yes&quot;</td><td>&quot;maybe&quot;</td><td>&quot;maybe&quot;</td><td>&quot;no&quot;</td><td>&quot;no&quot;</td><td>&quot;no&quot;</td><td>&quot;yes&quot;</td><td>&quot;i don&#x27;t know&quot;</td><td>&quot;n/a (not currently aware)&quot;</td><td>&quot;some did&quot;</td><td>&quot;none did&quot;</td><td>&quot;i don&#x27;t know&quot;</td><td>&quot;some of them&quot;</td><td>&quot;some of them&quot;</td><td>&quot;no, at none of my previous emp…</td><td>&quot;some of my previous employers&quot;</td><td>&quot;some did&quot;</td><td>&quot;some of them&quot;</td><td>&quot;maybe&quot;</td><td>&quot;depending on the interview sta…</td><td>&quot;no&quot;</td><td>&quot;i don&#x27;t know&quot;</td><td>&quot;yes, i think it would&quot;</td><td>&quot;maybe&quot;</td><td>&quot;somewhat open&quot;</td><td>&quot;yes, i experienced&quot;</td><td>&quot;yes&quot;</td><td>&quot;yes&quot;</td><td>&quot;yes&quot;</td><td>&quot;yes&quot;</td><td>&quot;anxiety disorder (generalized,…</td><td>&quot;n/a&quot;</td><td>&quot;yes&quot;</td><td>&quot;anxiety disorder (generalized,…</td><td>&quot;yes&quot;</td><td>&quot;sometimes&quot;</td><td>&quot;sometimes&quot;</td><td>43</td><td>&quot;female&quot;</td><td>&quot;united states of america&quot;</td><td>&quot;illinois&quot;</td><td>&quot;united states of america&quot;</td><td>&quot;illinois&quot;</td><td>&quot;executive leadership|superviso…</td><td>&quot;sometimes&quot;</td><td>1</td><td>&quot;1&quot;</td></tr><tr><td>5</td><td>&quot;more than 1000&quot;</td><td>&quot;yes&quot;</td><td>&quot;yes&quot;</td><td>&quot;yes&quot;</td><td>&quot;i am not sure&quot;</td><td>&quot;no&quot;</td><td>&quot;yes&quot;</td><td>&quot;yes&quot;</td><td>&quot;somewhat easy&quot;</td><td>&quot;yes&quot;</td><td>&quot;yes&quot;</td><td>&quot;maybe&quot;</td><td>&quot;yes&quot;</td><td>&quot;no&quot;</td><td>&quot;yes&quot;</td><td>&quot;yes&quot;</td><td>&quot;no, none did&quot;</td><td>&quot;yes, i was aware of all of the…</td><td>&quot;none did&quot;</td><td>&quot;none did&quot;</td><td>&quot;i don&#x27;t know&quot;</td><td>&quot;yes, all of them&quot;</td><td>&quot;some of them&quot;</td><td>&quot;no, at none of my previous emp…</td><td>&quot;no, at none of my previous emp…</td><td>&quot;none did&quot;</td><td>&quot;some of them&quot;</td><td>&quot;yes&quot;</td><td>&quot;if it would potentially affect…</td><td>&quot;maybe&quot;</td><td>&quot;it would depend on the field &amp;…</td><td>&quot;yes, i think it would&quot;</td><td>&quot;maybe&quot;</td><td>&quot;somewhat open&quot;</td><td>&quot;yes, i experienced&quot;</td><td>&quot;no&quot;</td><td>&quot;no&quot;</td><td>&quot;no&quot;</td><td>&quot;yes&quot;</td><td>&quot;anxiety disorder (generalized,…</td><td>&quot;n/a&quot;</td><td>&quot;no&quot;</td><td>&quot;n/a&quot;</td><td>&quot;yes&quot;</td><td>&quot;not applicable to me&quot;</td><td>&quot;often&quot;</td><td>42</td><td>&quot;male&quot;</td><td>&quot;united kingdom&quot;</td><td>&quot;international&quot;</td><td>&quot;united kingdom&quot;</td><td>&quot;international&quot;</td><td>&quot;devops/sysadmin|support|back-e…</td><td>&quot;sometimes&quot;</td><td>1</td><td>&quot;1&quot;</td></tr></tbody></table></div>"
      ],
      "text/plain": [
       "shape: (5, 57)\n",
       "┌───────┬───────────┬─────────────────┬─────────────────┬───┬─────────────────┬───────────┬───────────┬────────────────┐\n",
       "│ index ┆ comp_size ┆ tech_comp_indic ┆ tech_role_indic ┆ … ┆ job_title       ┆ remote    ┆ inter_all ┆ suspicion_neg_ │\n",
       "│ ---   ┆ ---       ┆ ---             ┆ ---             ┆   ┆ ---             ┆ ---       ┆ ---       ┆ consequences   │\n",
       "│ u32   ┆ str       ┆ str             ┆ str             ┆   ┆ str             ┆ str       ┆ i32       ┆ ---            │\n",
       "│       ┆           ┆                 ┆                 ┆   ┆                 ┆           ┆           ┆ str            │\n",
       "╞═══════╪═══════════╪═════════════════╪═════════════════╪═══╪═════════════════╪═══════════╪═══════════╪════════════════╡\n",
       "│ 0     ┆ 26-100    ┆ yes             ┆ yes             ┆ … ┆ back-end        ┆ sometimes ┆ 0         ┆ 0              │\n",
       "│       ┆           ┆                 ┆                 ┆   ┆ developer       ┆           ┆           ┆                │\n",
       "│ 1     ┆ 6-25      ┆ yes             ┆ yes             ┆ … ┆ back-end develo ┆ never     ┆ 1         ┆ 0              │\n",
       "│       ┆           ┆                 ┆                 ┆   ┆ per|front-end   ┆           ┆           ┆                │\n",
       "│       ┆           ┆                 ┆                 ┆   ┆ d…              ┆           ┆           ┆                │\n",
       "│ 2     ┆ 6-25      ┆ yes             ┆ yes             ┆ … ┆ back-end        ┆ always    ┆ 0         ┆ 1              │\n",
       "│       ┆           ┆                 ┆                 ┆   ┆ developer       ┆           ┆           ┆                │\n",
       "│ 4     ┆ 6-25      ┆ no              ┆ no              ┆ … ┆ executive leade ┆ sometimes ┆ 1         ┆ 1              │\n",
       "│       ┆           ┆                 ┆                 ┆   ┆ rship|superviso ┆           ┆           ┆                │\n",
       "│       ┆           ┆                 ┆                 ┆   ┆ …               ┆           ┆           ┆                │\n",
       "│ 5     ┆ more than ┆ yes             ┆ yes             ┆ … ┆ devops/sysadmin ┆ sometimes ┆ 1         ┆ 1              │\n",
       "│       ┆ 1000      ┆                 ┆                 ┆   ┆ |support|back-e ┆           ┆           ┆                │\n",
       "│       ┆           ┆                 ┆                 ┆   ┆ …               ┆           ┆           ┆                │\n",
       "└───────┴───────────┴─────────────────┴─────────────────┴───┴─────────────────┴───────────┴───────────┴────────────────┘"
      ]
     },
     "execution_count": 34,
     "metadata": {},
     "output_type": "execute_result"
    }
   ],
   "source": [
    "df.head()"
   ]
  },
  {
   "cell_type": "markdown",
   "id": "e43d814d-517a-4e53-95fd-58f5422fa721",
   "metadata": {},
   "source": [
    "## 8. Investigate feature type by value_counts\n",
    "This can also help with identifying when to use OneHot Encoding and when to use other Encoding methods"
   ]
  },
  {
   "cell_type": "code",
   "execution_count": 35,
   "id": "b4f8393f-903f-4091-9fa6-b0cb363f4a6b",
   "metadata": {},
   "outputs": [
    {
     "data": {
      "text/html": [
       "<div><style>\n",
       ".dataframe > thead > tr,\n",
       ".dataframe > tbody > tr {\n",
       "  text-align: right;\n",
       "  white-space: pre-wrap;\n",
       "}\n",
       "</style>\n",
       "<small>shape: (1, 57)</small><table border=\"1\" class=\"dataframe\"><thead><tr><th>index</th><th>comp_size</th><th>tech_comp_indic</th><th>tech_role_indic</th><th>availability_of_benefits</th><th>awareness_of_benefits</th><th>mh_discussion_indic</th><th>mh_resources_availability_indic</th><th>anonym_use_benefit_indic</th><th>sick_leave_difficulty</th><th>neg_consequences_discussing_mh</th><th>neg_consequences_discussing_ph</th><th>comf_discussing_mh_with_coworker_indic</th><th>comf_discussing_mnh_with_supervisor_indic</th><th>employer_importance_mh_vs_ph</th><th>known_neg_consequences_of_mh</th><th>prev_employers</th><th>availability_of_benefits_prev_employer</th><th>awareness_of_benefits_prev_employer</th><th>mh_discussion_indic_prev_employer</th><th>mh_resources_availability_indic_prev_employer</th><th>anonym_use_benefit_indic_prev_employer</th><th>neg_consequences_discussing_mh_prev_employer</th><th>neg_consequences_discussing_ph_prev_employer</th><th>comf_discussing_mh_with_coworker_prev_employer</th><th>comf_discussing_mnh_with_supervisor_prev_employer</th><th>employer_importance_mh_vs_ph_prev_employer</th><th>known_neg_consequences_of_mh_prev_employer</th><th>willing_discuss_ph_in_hiring_interview</th><th>why_why_not_1</th><th>willing_discuss_mh_in_hiring_interview</th><th>why_why_not_2</th><th>percevied_neg_impact_carreer_of_mh</th><th>perceived_neg_impact_coworker_opiniton_of_mh</th><th>willingness_to_share_with_friend_family</th><th>neg_response_to_mh</th><th>willingness_to_share_mh_after_observation</th><th>mh_family_hist</th><th>previous_mh</th><th>current_mh</th><th>diagnosis_name_condition</th><th>believed_name_condiiton</th><th>diagnosis_professional</th><th>diagnosis_name_professional_condition</th><th>used_therapy</th><th>interference_mh_treated_with_work</th><th>interference_mh_untreated_with_work</th><th>age</th><th>gender</th><th>country_residency</th><th>usa_state_residency</th><th>country_work</th><th>usa_state_work</th><th>job_title</th><th>remote</th><th>inter_all</th><th>suspicion_neg_consequences</th></tr><tr><td>u32</td><td>u32</td><td>u32</td><td>u32</td><td>u32</td><td>u32</td><td>u32</td><td>u32</td><td>u32</td><td>u32</td><td>u32</td><td>u32</td><td>u32</td><td>u32</td><td>u32</td><td>u32</td><td>u32</td><td>u32</td><td>u32</td><td>u32</td><td>u32</td><td>u32</td><td>u32</td><td>u32</td><td>u32</td><td>u32</td><td>u32</td><td>u32</td><td>u32</td><td>u32</td><td>u32</td><td>u32</td><td>u32</td><td>u32</td><td>u32</td><td>u32</td><td>u32</td><td>u32</td><td>u32</td><td>u32</td><td>u32</td><td>u32</td><td>u32</td><td>u32</td><td>u32</td><td>u32</td><td>u32</td><td>u32</td><td>u32</td><td>u32</td><td>u32</td><td>u32</td><td>u32</td><td>u32</td><td>u32</td><td>u32</td><td>u32</td></tr></thead><tbody><tr><td>1146</td><td>6</td><td>2</td><td>2</td><td>4</td><td>4</td><td>3</td><td>3</td><td>3</td><td>6</td><td>3</td><td>3</td><td>3</td><td>3</td><td>3</td><td>2</td><td>2</td><td>5</td><td>5</td><td>5</td><td>4</td><td>5</td><td>5</td><td>4</td><td>4</td><td>5</td><td>5</td><td>4</td><td>3</td><td>863</td><td>3</td><td>854</td><td>5</td><td>5</td><td>6</td><td>5</td><td>4</td><td>3</td><td>3</td><td>3</td><td>102</td><td>78</td><td>2</td><td>90</td><td>2</td><td>5</td><td>5</td><td>51</td><td>3</td><td>43</td><td>48</td><td>44</td><td>49</td><td>180</td><td>3</td><td>2</td><td>2</td></tr></tbody></table></div>"
      ],
      "text/plain": [
       "shape: (1, 57)\n",
       "┌───────┬───────────┬─────────────────┬─────────────────┬───┬───────────┬────────┬───────────┬─────────────────────────┐\n",
       "│ index ┆ comp_size ┆ tech_comp_indic ┆ tech_role_indic ┆ … ┆ job_title ┆ remote ┆ inter_all ┆ suspicion_neg_consequen │\n",
       "│ ---   ┆ ---       ┆ ---             ┆ ---             ┆   ┆ ---       ┆ ---    ┆ ---       ┆ ces                     │\n",
       "│ u32   ┆ u32       ┆ u32             ┆ u32             ┆   ┆ u32       ┆ u32    ┆ u32       ┆ ---                     │\n",
       "│       ┆           ┆                 ┆                 ┆   ┆           ┆        ┆           ┆ u32                     │\n",
       "╞═══════╪═══════════╪═════════════════╪═════════════════╪═══╪═══════════╪════════╪═══════════╪═════════════════════════╡\n",
       "│ 1146  ┆ 6         ┆ 2               ┆ 2               ┆ … ┆ 180       ┆ 3      ┆ 2         ┆ 2                       │\n",
       "└───────┴───────────┴─────────────────┴─────────────────┴───┴───────────┴────────┴───────────┴─────────────────────────┘"
      ]
     },
     "execution_count": 35,
     "metadata": {},
     "output_type": "execute_result"
    }
   ],
   "source": [
    "df.select(pl.all().n_unique())"
   ]
  },
  {
   "cell_type": "code",
   "execution_count": 36,
   "id": "1e68e1d4-7f9b-40ff-9fc8-f7dfd7f2e4e0",
   "metadata": {},
   "outputs": [],
   "source": [
    "# Need to make a decision what to do with numbers like the comp_size\n",
    "    # Just treat it as a categorical value\n",
    "# Need to make a decision what to do with the textual data (TF-IDF)\n",
    "# Split the Features between textual, ordinal and nominal\n",
    "    # Then encode the categorical features with one technique\n",
    "    # NO, instead use one-hot encoder for nominal and ordinalencoder for ordinal features\n",
    "    # Then encode the textual data with another technique\n",
    "# Scale everything done\n",
    "# Apply Feature selection\n",
    "# Apply dimensionality reduction(?) IS this really necessary at this point? What about principal component analysis as feature selection techinque\n",
    "# Apply K-MEans clustering\n",
    "    # First Choose K via some methods like elbow or some other shit\n",
    "# Evaluate with Matrix and evaluation dataset that I have\n",
    "    # For evaluation take the medical professional diagnosis"
   ]
  },
  {
   "cell_type": "markdown",
   "id": "d21261d4-18a9-4fdb-9417-61ebf7b9c2fe",
   "metadata": {},
   "source": [
    "### Categorize the Features by their type"
   ]
  },
  {
   "cell_type": "code",
   "execution_count": 37,
   "id": "e8c561af-9835-474b-a63d-1fcedbd3bf58",
   "metadata": {},
   "outputs": [
    {
     "name": "stdout",
     "output_type": "stream",
     "text": [
      "shape: (5, 2)\n",
      "┌─────────────────────────────────┬───────┐\n",
      "│ interference_mh_untreated_with… ┆ count │\n",
      "│ ---                             ┆ ---   │\n",
      "│ str                             ┆ u32   │\n",
      "╞═════════════════════════════════╪═══════╡\n",
      "│ never                           ┆ 10    │\n",
      "│ sometimes                       ┆ 287   │\n",
      "│ not applicable to me            ┆ 384   │\n",
      "│ rarely                          ┆ 43    │\n",
      "│ often                           ┆ 422   │\n",
      "└─────────────────────────────────┴───────┘\n"
     ]
    }
   ],
   "source": [
    "# Investigate the different scales of features\n",
    "print(df.to_series(46).value_counts())\n",
    "#with pl.Config(tbl_rows=10):\n",
    "#    print(df.to_series(31).value_counts())"
   ]
  },
  {
   "cell_type": "code",
   "execution_count": 38,
   "id": "823f6cd7-a5cb-431e-a9c3-9b37de9a4f71",
   "metadata": {},
   "outputs": [],
   "source": [
    "# Manually categorize ordinal and nominal features\n",
    "feat_cat_ordinal = ['comp_size' , 'sick_leave_difficulty' , 'availability_of_benefits' , 'availability_of_benefits_prev_employer' , 'mh_discussion_indic_prev_employer' \n",
    "                    , 'mh_resources_availability_indic_prev_employer' , 'anonym_use_benefit_indic_prev_employer' , 'neg_consequences_discussing_mh_prev_employer'\n",
    "                    , 'neg_consequences_discussing_ph_prev_employer' , 'comf_discussing_mh_with_coworker_prev_employer' , 'comf_discussing_mnh_with_supervisor_prev_employer'\n",
    "                    , 'employer_importance_mh_vs_ph_prev_employer' , 'known_neg_consequences_of_mh_prev_employer' , 'willingness_to_share_with_friend_family' , 'interference_mh_treated_with_work'\n",
    "                    , 'interference_mh_untreated_with_work' , 'remote']\n",
    "feat_cat_nominal = ['tech_comp_indic' , 'tech_role_indic' , 'awareness_of_benefits' , 'mh_discussion_indic' , 'mh_resources_availability_indic' \n",
    "                    , 'anonym_use_benefit_indic' , 'neg_consequences_discussing_mh' , 'neg_consequences_discussing_ph' , 'comf_discussing_mh_with_coworker_indic' , 'comf_discussing_mnh_with_supervisor_indic' \n",
    "                    , 'employer_importance_mh_vs_ph' ,'known_neg_consequences_of_mh' , 'prev_employers' , 'awareness_of_benefits_prev_employer' , 'willing_discuss_ph_in_hiring_interview'\n",
    "                    , 'willing_discuss_mh_in_hiring_interview' , 'percevied_neg_impact_carreer_of_mh' , 'perceived_neg_impact_coworker_opiniton_of_mh' , 'neg_response_to_mh' , \n",
    "                    'willingness_to_share_mh_after_observation' , 'mh_family_hist' , 'previous_mh' , 'current_mh'  , 'used_therapy'  , 'gender' , 'country_residency'\n",
    "                    , 'usa_state_residency' , 'country_work' , 'usa_state_work' , 'job_title' , 'diagnosis_name_professional_condition' , 'diagnosis_name_condition' , 'age' , 'diagnosis_professional' , 'believed_name_condiiton']\n",
    "\n",
    "\n",
    "feat_target_variable = []\n",
    "\n",
    "# This variable is filled later dynamically\n",
    "feat_text = []"
   ]
  },
  {
   "cell_type": "code",
   "execution_count": 39,
   "id": "576e18a2-0813-4618-aa71-48e2363dfdf5",
   "metadata": {},
   "outputs": [],
   "source": [
    "# Fill the feat_text list with the remaining features\n",
    "# get a list of all columns to compare to\n",
    "column_list = df.columns\n",
    "\n",
    "# Define function to check if entries are missing\n",
    "def fill_feat_text():\n",
    "    for x in column_list:\n",
    "        if x not in feat_cat_ordinal and x not in feat_cat_nominal and x not in feat_target_variable and x not in feat_text:\n",
    "            feat_text.append(x)\n",
    "        else:\n",
    "            continue\n",
    "fill_feat_text()\n",
    "\n",
    "# remove the index feature\n",
    "feat_text.remove('index')"
   ]
  },
  {
   "cell_type": "markdown",
   "id": "4a47716d-b390-4341-b455-80a470a1c88d",
   "metadata": {},
   "source": [
    "## Feature Encoding"
   ]
  },
  {
   "cell_type": "markdown",
   "id": "a876e1f2-d2bc-4738-935a-67c8fc03702a",
   "metadata": {},
   "source": [
    "#### Start with Ordinal Encoding"
   ]
  },
  {
   "cell_type": "code",
   "execution_count": 40,
   "id": "3002c5fe-55d7-47ad-89c8-1d35e5afcea3",
   "metadata": {},
   "outputs": [],
   "source": [
    "# First encode the Ordinal features via ordinalencoder\n",
    "enc = OrdinalEncoder()\n",
    "#enc.fit(df.select(pl.col(feat_cat_ordinal)))"
   ]
  },
  {
   "cell_type": "code",
   "execution_count": 41,
   "id": "03a7bfc0-44e1-433a-afcd-c59095389aac",
   "metadata": {},
   "outputs": [],
   "source": [
    "#enc.categories_"
   ]
  },
  {
   "cell_type": "code",
   "execution_count": 42,
   "id": "95cef480-3840-419a-8706-426d2a018709",
   "metadata": {},
   "outputs": [],
   "source": [
    "# Create a ordered list of column names of ordinal features\n",
    "ord_columns = df.select(pl.col(feat_cat_ordinal)).columns\n",
    "# fit and transform the ordinal featrues to the OrdinalTransformation\n",
    "ordinal_transformation = enc.fit_transform(df.select(pl.col(feat_cat_ordinal)))\n",
    "# Create a dataframe of the transformed features\n",
    "df_ordinal_transformation = pl.DataFrame(ordinal_transformation, schema = ord_columns)\n",
    "\n",
    "# replace the original columns with the transformed ones:\n",
    "df = df.with_columns(df_ordinal_transformation)"
   ]
  },
  {
   "cell_type": "code",
   "execution_count": 43,
   "id": "c094580e-7ce2-4595-952e-8ca6b2a3254e",
   "metadata": {},
   "outputs": [
    {
     "data": {
      "text/html": [
       "<div><style>\n",
       ".dataframe > thead > tr,\n",
       ".dataframe > tbody > tr {\n",
       "  text-align: right;\n",
       "  white-space: pre-wrap;\n",
       "}\n",
       "</style>\n",
       "<small>shape: (2, 2)</small><table border=\"1\" class=\"dataframe\"><thead><tr><th>column</th><th>column_0</th></tr><tr><td>str</td><td>u32</td></tr></thead><tbody><tr><td>&quot;why_why_not_1&quot;</td><td>274</td></tr><tr><td>&quot;why_why_not_2&quot;</td><td>249</td></tr></tbody></table></div>"
      ],
      "text/plain": [
       "shape: (2, 2)\n",
       "┌───────────────┬──────────┐\n",
       "│ column        ┆ column_0 │\n",
       "│ ---           ┆ ---      │\n",
       "│ str           ┆ u32      │\n",
       "╞═══════════════╪══════════╡\n",
       "│ why_why_not_1 ┆ 274      │\n",
       "│ why_why_not_2 ┆ 249      │\n",
       "└───────────────┴──────────┘"
      ]
     },
     "execution_count": 43,
     "metadata": {},
     "output_type": "execute_result"
    }
   ],
   "source": [
    "df.null_count().transpose(include_header= True).filter(pl.col('column_0') > 0)"
   ]
  },
  {
   "cell_type": "markdown",
   "id": "84ed38b0-012f-4bb4-bcdc-6c4843b2c7f0",
   "metadata": {},
   "source": [
    "#### Target Encoding/Label Encoding"
   ]
  },
  {
   "cell_type": "code",
   "execution_count": 44,
   "id": "3c565f1a-2016-4003-8b4c-2dfc2b0ae41b",
   "metadata": {},
   "outputs": [
    {
     "data": {
      "text/html": [
       "<div><style>\n",
       ".dataframe > thead > tr,\n",
       ".dataframe > tbody > tr {\n",
       "  text-align: right;\n",
       "  white-space: pre-wrap;\n",
       "}\n",
       "</style>\n",
       "<small>shape: (49, 2)</small><table border=\"1\" class=\"dataframe\"><thead><tr><th>usa_state_work</th><th>count</th></tr><tr><td>str</td><td>u32</td></tr></thead><tbody><tr><td>&quot;pennsylvania&quot;</td><td>29</td></tr><tr><td>&quot;kansas&quot;</td><td>14</td></tr><tr><td>&quot;oklahoma&quot;</td><td>13</td></tr><tr><td>&quot;wisconsin&quot;</td><td>9</td></tr><tr><td>&quot;hawaii&quot;</td><td>1</td></tr><tr><td>&hellip;</td><td>&hellip;</td></tr><tr><td>&quot;virginia&quot;</td><td>13</td></tr><tr><td>&quot;nebraska&quot;</td><td>10</td></tr><tr><td>&quot;california&quot;</td><td>120</td></tr><tr><td>&quot;north carolina&quot;</td><td>20</td></tr><tr><td>&quot;alaska&quot;</td><td>2</td></tr></tbody></table></div>"
      ],
      "text/plain": [
       "shape: (49, 2)\n",
       "┌────────────────┬───────┐\n",
       "│ usa_state_work ┆ count │\n",
       "│ ---            ┆ ---   │\n",
       "│ str            ┆ u32   │\n",
       "╞════════════════╪═══════╡\n",
       "│ pennsylvania   ┆ 29    │\n",
       "│ kansas         ┆ 14    │\n",
       "│ oklahoma       ┆ 13    │\n",
       "│ wisconsin      ┆ 9     │\n",
       "│ hawaii         ┆ 1     │\n",
       "│ …              ┆ …     │\n",
       "│ virginia       ┆ 13    │\n",
       "│ nebraska       ┆ 10    │\n",
       "│ california     ┆ 120   │\n",
       "│ north carolina ┆ 20    │\n",
       "│ alaska         ┆ 2     │\n",
       "└────────────────┴───────┘"
      ]
     },
     "execution_count": 44,
     "metadata": {},
     "output_type": "execute_result"
    }
   ],
   "source": [
    "# Investigate the values of each columns and What encoding to apply\n",
    "# Seems like OneHot Encoding would result in waaay too many columns\n",
    "# Instead use target encoding since we have the right values\n",
    "df.select(pl.col(feat_cat_nominal[28])).to_series().value_counts()"
   ]
  },
  {
   "cell_type": "code",
   "execution_count": 45,
   "id": "d9def749-7aec-4f5c-976c-4e333508a53a",
   "metadata": {},
   "outputs": [],
   "source": [
    "enc_label = LabelEncoder()\n",
    "#X_trans = enc_label.fit_transform(df.select(feat_cat_nominal).to_numpy().ravel())\n",
    "for x in feat_cat_nominal:\n",
    "    df = df.with_columns(pl.Series(x , enc_label.fit_transform(df[x].to_numpy())))"
   ]
  },
  {
   "cell_type": "code",
   "execution_count": 46,
   "id": "a98e49b8-4b71-4e54-8a7c-3a873e68ee0e",
   "metadata": {},
   "outputs": [
    {
     "data": {
      "text/html": [
       "<div><style>\n",
       ".dataframe > thead > tr,\n",
       ".dataframe > tbody > tr {\n",
       "  text-align: right;\n",
       "  white-space: pre-wrap;\n",
       "}\n",
       "</style>\n",
       "<small>shape: (5, 57)</small><table border=\"1\" class=\"dataframe\"><thead><tr><th>index</th><th>comp_size</th><th>tech_comp_indic</th><th>tech_role_indic</th><th>availability_of_benefits</th><th>awareness_of_benefits</th><th>mh_discussion_indic</th><th>mh_resources_availability_indic</th><th>anonym_use_benefit_indic</th><th>sick_leave_difficulty</th><th>neg_consequences_discussing_mh</th><th>neg_consequences_discussing_ph</th><th>comf_discussing_mh_with_coworker_indic</th><th>comf_discussing_mnh_with_supervisor_indic</th><th>employer_importance_mh_vs_ph</th><th>known_neg_consequences_of_mh</th><th>prev_employers</th><th>availability_of_benefits_prev_employer</th><th>awareness_of_benefits_prev_employer</th><th>mh_discussion_indic_prev_employer</th><th>mh_resources_availability_indic_prev_employer</th><th>anonym_use_benefit_indic_prev_employer</th><th>neg_consequences_discussing_mh_prev_employer</th><th>neg_consequences_discussing_ph_prev_employer</th><th>comf_discussing_mh_with_coworker_prev_employer</th><th>comf_discussing_mnh_with_supervisor_prev_employer</th><th>employer_importance_mh_vs_ph_prev_employer</th><th>known_neg_consequences_of_mh_prev_employer</th><th>willing_discuss_ph_in_hiring_interview</th><th>why_why_not_1</th><th>willing_discuss_mh_in_hiring_interview</th><th>why_why_not_2</th><th>percevied_neg_impact_carreer_of_mh</th><th>perceived_neg_impact_coworker_opiniton_of_mh</th><th>willingness_to_share_with_friend_family</th><th>neg_response_to_mh</th><th>willingness_to_share_mh_after_observation</th><th>mh_family_hist</th><th>previous_mh</th><th>current_mh</th><th>diagnosis_name_condition</th><th>believed_name_condiiton</th><th>diagnosis_professional</th><th>diagnosis_name_professional_condition</th><th>used_therapy</th><th>interference_mh_treated_with_work</th><th>interference_mh_untreated_with_work</th><th>age</th><th>gender</th><th>country_residency</th><th>usa_state_residency</th><th>country_work</th><th>usa_state_work</th><th>job_title</th><th>remote</th><th>inter_all</th><th>suspicion_neg_consequences</th></tr><tr><td>u32</td><td>f64</td><td>i64</td><td>i64</td><td>f64</td><td>i64</td><td>i64</td><td>i64</td><td>i64</td><td>f64</td><td>i64</td><td>i64</td><td>i64</td><td>i64</td><td>i64</td><td>i64</td><td>i64</td><td>f64</td><td>i64</td><td>f64</td><td>f64</td><td>f64</td><td>f64</td><td>f64</td><td>f64</td><td>f64</td><td>f64</td><td>f64</td><td>i64</td><td>str</td><td>i64</td><td>str</td><td>i64</td><td>i64</td><td>f64</td><td>i64</td><td>i64</td><td>i64</td><td>i64</td><td>i64</td><td>i64</td><td>i64</td><td>i64</td><td>i64</td><td>i64</td><td>f64</td><td>f64</td><td>i64</td><td>i64</td><td>i64</td><td>i64</td><td>i64</td><td>i64</td><td>i64</td><td>f64</td><td>i32</td><td>str</td></tr></thead><tbody><tr><td>0</td><td>2.0</td><td>1</td><td>1</td><td>2.0</td><td>1</td><td>1</td><td>1</td><td>0</td><td>5.0</td><td>1</td><td>1</td><td>0</td><td>2</td><td>0</td><td>0</td><td>1</td><td>1.0</td><td>1</td><td>0.0</td><td>0.0</td><td>0.0</td><td>3.0</td><td>0.0</td><td>2.0</td><td>3.0</td><td>0.0</td><td>0.0</td><td>0</td><td>null</td><td>0</td><td>null</td><td>0</td><td>1</td><td>4.0</td><td>2</td><td>1</td><td>1</td><td>2</td><td>1</td><td>84</td><td>62</td><td>1</td><td>2</td><td>0</td><td>1.0</td><td>1.0</td><td>22</td><td>1</td><td>40</td><td>13</td><td>41</td><td>14</td><td>0</td><td>2.0</td><td>0</td><td>&quot;0&quot;</td></tr><tr><td>1</td><td>4.0</td><td>1</td><td>1</td><td>1.0</td><td>3</td><td>2</td><td>2</td><td>2</td><td>3.0</td><td>1</td><td>1</td><td>0</td><td>2</td><td>2</td><td>0</td><td>1</td><td>4.0</td><td>0</td><td>1.0</td><td>2.0</td><td>4.0</td><td>1.0</td><td>0.0</td><td>0.0</td><td>3.0</td><td>3.0</td><td>0.0</td><td>0</td><td>&quot;it would depend on the health …</td><td>1</td><td>&quot;while mental health has become…</td><td>1</td><td>1</td><td>4.0</td><td>2</td><td>1</td><td>2</td><td>2</td><td>2</td><td>9</td><td>62</td><td>1</td><td>7</td><td>1</td><td>3.0</td><td>4.0</td><td>12</td><td>1</td><td>41</td><td>11</td><td>42</td><td>12</td><td>6</td><td>1.0</td><td>1</td><td>&quot;0&quot;</td></tr><tr><td>2</td><td>4.0</td><td>1</td><td>1</td><td>1.0</td><td>1</td><td>1</td><td>1</td><td>0</td><td>1.0</td><td>0</td><td>1</td><td>0</td><td>0</td><td>0</td><td>0</td><td>1</td><td>1.0</td><td>1</td><td>1.0</td><td>2.0</td><td>0.0</td><td>0.0</td><td>2.0</td><td>2.0</td><td>0.0</td><td>0.0</td><td>2.0</td><td>2</td><td>&quot;they would provable need to kn…</td><td>2</td><td>&quot;stigma, mainly. &quot;</td><td>0</td><td>0</td><td>4.0</td><td>0</td><td>3</td><td>1</td><td>0</td><td>1</td><td>84</td><td>62</td><td>0</td><td>77</td><td>1</td><td>1.0</td><td>1.0</td><td>21</td><td>1</td><td>40</td><td>13</td><td>41</td><td>14</td><td>0</td><td>0.0</td><td>0</td><td>&quot;1&quot;</td></tr><tr><td>4</td><td>4.0</td><td>0</td><td>0</td><td>3.0</td><td>3</td><td>1</td><td>1</td><td>1</td><td>1.0</td><td>2</td><td>0</td><td>0</td><td>1</td><td>1</td><td>0</td><td>1</td><td>0.0</td><td>1</td><td>3.0</td><td>0.0</td><td>0.0</td><td>3.0</td><td>2.0</td><td>0.0</td><td>3.0</td><td>3.0</td><td>2.0</td><td>0</td><td>&quot;depending on the interview sta…</td><td>1</td><td>&quot;i don&#x27;t know&quot;</td><td>3</td><td>0</td><td>4.0</td><td>3</td><td>3</td><td>2</td><td>2</td><td>2</td><td>51</td><td>62</td><td>1</td><td>2</td><td>1</td><td>4.0</td><td>4.0</td><td>26</td><td>0</td><td>41</td><td>11</td><td>42</td><td>12</td><td>65</td><td>2.0</td><td>1</td><td>&quot;1&quot;</td></tr><tr><td>5</td><td>5.0</td><td>1</td><td>1</td><td>3.0</td><td>0</td><td>1</td><td>2</td><td>2</td><td>3.0</td><td>2</td><td>2</td><td>0</td><td>2</td><td>1</td><td>1</td><td>1</td><td>1.0</td><td>4</td><td>1.0</td><td>0.0</td><td>0.0</td><td>4.0</td><td>2.0</td><td>0.0</td><td>1.0</td><td>1.0</td><td>2.0</td><td>2</td><td>&quot;if it would potentially affect…</td><td>0</td><td>&quot;it would depend on the field &amp;…</td><td>3</td><td>0</td><td>4.0</td><td>3</td><td>2</td><td>1</td><td>1</td><td>2</td><td>52</td><td>62</td><td>0</td><td>77</td><td>1</td><td>1.0</td><td>2.0</td><td>25</td><td>1</td><td>40</td><td>13</td><td>41</td><td>14</td><td>50</td><td>2.0</td><td>1</td><td>&quot;1&quot;</td></tr></tbody></table></div>"
      ],
      "text/plain": [
       "shape: (5, 57)\n",
       "┌───────┬───────────┬─────────────────┬─────────────────┬───┬───────────┬────────┬───────────┬─────────────────────────┐\n",
       "│ index ┆ comp_size ┆ tech_comp_indic ┆ tech_role_indic ┆ … ┆ job_title ┆ remote ┆ inter_all ┆ suspicion_neg_consequen │\n",
       "│ ---   ┆ ---       ┆ ---             ┆ ---             ┆   ┆ ---       ┆ ---    ┆ ---       ┆ ces                     │\n",
       "│ u32   ┆ f64       ┆ i64             ┆ i64             ┆   ┆ i64       ┆ f64    ┆ i32       ┆ ---                     │\n",
       "│       ┆           ┆                 ┆                 ┆   ┆           ┆        ┆           ┆ str                     │\n",
       "╞═══════╪═══════════╪═════════════════╪═════════════════╪═══╪═══════════╪════════╪═══════════╪═════════════════════════╡\n",
       "│ 0     ┆ 2.0       ┆ 1               ┆ 1               ┆ … ┆ 0         ┆ 2.0    ┆ 0         ┆ 0                       │\n",
       "│ 1     ┆ 4.0       ┆ 1               ┆ 1               ┆ … ┆ 6         ┆ 1.0    ┆ 1         ┆ 0                       │\n",
       "│ 2     ┆ 4.0       ┆ 1               ┆ 1               ┆ … ┆ 0         ┆ 0.0    ┆ 0         ┆ 1                       │\n",
       "│ 4     ┆ 4.0       ┆ 0               ┆ 0               ┆ … ┆ 65        ┆ 2.0    ┆ 1         ┆ 1                       │\n",
       "│ 5     ┆ 5.0       ┆ 1               ┆ 1               ┆ … ┆ 50        ┆ 2.0    ┆ 1         ┆ 1                       │\n",
       "└───────┴───────────┴─────────────────┴─────────────────┴───┴───────────┴────────┴───────────┴─────────────────────────┘"
      ]
     },
     "execution_count": 46,
     "metadata": {},
     "output_type": "execute_result"
    }
   ],
   "source": [
    "df.head()"
   ]
  },
  {
   "cell_type": "code",
   "execution_count": 47,
   "id": "9e2bdd60-4d70-4851-bf69-c1c1571678b8",
   "metadata": {},
   "outputs": [
    {
     "data": {
      "text/plain": [
       "'\\n# Invoke TargetEncoder Class\\n# Select smoothness as \"auto\" because I don\\'t know at the moment how to deal with this properly\\nenc_auto = TargetEncoder(smooth=\"auto\")\\n# Fit the TargetEncoder and Transform the nominal features based on the target variable\\nX_trans = enc_auto.fit_transform(df.select(feat_cat_nominal).to_numpy(), df.select(pl.col(feat_target_variable)).to_numpy().ravel())\\n\\n# construct a dataframe out of the transformed features\\n# Create a dictionary for renaming the columns\\ncolumn_rename_dict = {f\"column_{i}\": col_name for i, col_name in enumerate(feat_cat_nominal)}\\nencoded_features_df = pl.DataFrame(X_trans).rename(column_rename_dict)\\n\\n\\ndf = df.with_columns(encoded_features_df)\\n'"
      ]
     },
     "execution_count": 47,
     "metadata": {},
     "output_type": "execute_result"
    }
   ],
   "source": [
    "\"\"\"\n",
    "# Invoke TargetEncoder Class\n",
    "# Select smoothness as \"auto\" because I don't know at the moment how to deal with this properly\n",
    "enc_auto = TargetEncoder(smooth=\"auto\")\n",
    "# Fit the TargetEncoder and Transform the nominal features based on the target variable\n",
    "X_trans = enc_auto.fit_transform(df.select(feat_cat_nominal).to_numpy(), df.select(pl.col(feat_target_variable)).to_numpy().ravel())\n",
    "\n",
    "# construct a dataframe out of the transformed features\n",
    "# Create a dictionary for renaming the columns\n",
    "column_rename_dict = {f\"column_{i}\": col_name for i, col_name in enumerate(feat_cat_nominal)}\n",
    "encoded_features_df = pl.DataFrame(X_trans).rename(column_rename_dict)\n",
    "\n",
    "\n",
    "df = df.with_columns(encoded_features_df)\n",
    "\"\"\""
   ]
  },
  {
   "cell_type": "markdown",
   "id": "ca088fca-a20f-4a8c-8d35-f5579ba04a06",
   "metadata": {},
   "source": [
    "## Text-encoding (TF-IDF)"
   ]
  },
  {
   "cell_type": "markdown",
   "id": "bacb48c9-33b6-4794-9c9f-ebe296fa54ea",
   "metadata": {},
   "source": [
    "#### Nothing to see here yet"
   ]
  },
  {
   "cell_type": "markdown",
   "id": "da94c88e-e6d7-4f41-b6a2-b9666b594038",
   "metadata": {},
   "source": [
    "#### Here we can apply TF-IDF and see if we can cluster this with K-Means to find something interesting in the text"
   ]
  },
  {
   "cell_type": "code",
   "execution_count": 48,
   "id": "658d594c-f3b8-43d1-b891-1710cd65f948",
   "metadata": {},
   "outputs": [],
   "source": [
    "#with pl.Config(tbl_rows=1500):\n",
    "#    print(df.select(pl.col(['why_why_not_1' , 'why_why_not_2'])))"
   ]
  },
  {
   "cell_type": "code",
   "execution_count": 49,
   "id": "4cc5fe32-e733-405c-87a6-c86421ee7705",
   "metadata": {},
   "outputs": [],
   "source": [
    "df = df.with_columns(\n",
    "    pl.col('why_why_not_1').str.strip_chars().alias('why_why_not_1')\n",
    "    , pl.col('why_why_not_2').str.strip_chars().alias('why_why_not_2')\n",
    ")"
   ]
  },
  {
   "cell_type": "code",
   "execution_count": 50,
   "id": "da9f0d99-7ffa-49ef-a7c5-2ef5bb7d112e",
   "metadata": {},
   "outputs": [],
   "source": [
    "#vectorizer = TfidfVectorizer()\n",
    "#X = vectorizer.fit_transform(df.select(['why_why_not_1' , 'why_why_not_2']).to_numpy().ravel())\n",
    "#vectorizer.get_feature_names_out()"
   ]
  },
  {
   "cell_type": "markdown",
   "id": "85664672-a660-4953-904c-083a1bf6480a",
   "metadata": {},
   "source": [
    "## Feature Scaling"
   ]
  },
  {
   "cell_type": "code",
   "execution_count": 51,
   "id": "a78b95a5-00b1-4b68-a96e-ca8f73dc08d9",
   "metadata": {},
   "outputs": [],
   "source": [
    "# Available methods are:\n",
    "    # Standardscaler/Standardization\n",
    "    # MinMax Scaler\n",
    "    # Robust Scaler --> Is the winner because we will have outliers"
   ]
  },
  {
   "cell_type": "code",
   "execution_count": 53,
   "id": "280c787f-d6a9-48a6-8ada-c4361f486681",
   "metadata": {},
   "outputs": [],
   "source": [
    "# create feature df_scale\n",
    "df_scale = df.drop(['index' , 'why_why_not_1' , 'why_why_not_2'])"
   ]
  },
  {
   "cell_type": "code",
   "execution_count": 55,
   "id": "a91645ba-4189-4fc2-8669-6f47d80c9673",
   "metadata": {},
   "outputs": [
    {
     "data": {
      "text/html": [
       "<style>#sk-container-id-1 {\n",
       "  /* Definition of color scheme common for light and dark mode */\n",
       "  --sklearn-color-text: black;\n",
       "  --sklearn-color-line: gray;\n",
       "  /* Definition of color scheme for unfitted estimators */\n",
       "  --sklearn-color-unfitted-level-0: #fff5e6;\n",
       "  --sklearn-color-unfitted-level-1: #f6e4d2;\n",
       "  --sklearn-color-unfitted-level-2: #ffe0b3;\n",
       "  --sklearn-color-unfitted-level-3: chocolate;\n",
       "  /* Definition of color scheme for fitted estimators */\n",
       "  --sklearn-color-fitted-level-0: #f0f8ff;\n",
       "  --sklearn-color-fitted-level-1: #d4ebff;\n",
       "  --sklearn-color-fitted-level-2: #b3dbfd;\n",
       "  --sklearn-color-fitted-level-3: cornflowerblue;\n",
       "\n",
       "  /* Specific color for light theme */\n",
       "  --sklearn-color-text-on-default-background: var(--sg-text-color, var(--theme-code-foreground, var(--jp-content-font-color1, black)));\n",
       "  --sklearn-color-background: var(--sg-background-color, var(--theme-background, var(--jp-layout-color0, white)));\n",
       "  --sklearn-color-border-box: var(--sg-text-color, var(--theme-code-foreground, var(--jp-content-font-color1, black)));\n",
       "  --sklearn-color-icon: #696969;\n",
       "\n",
       "  @media (prefers-color-scheme: dark) {\n",
       "    /* Redefinition of color scheme for dark theme */\n",
       "    --sklearn-color-text-on-default-background: var(--sg-text-color, var(--theme-code-foreground, var(--jp-content-font-color1, white)));\n",
       "    --sklearn-color-background: var(--sg-background-color, var(--theme-background, var(--jp-layout-color0, #111)));\n",
       "    --sklearn-color-border-box: var(--sg-text-color, var(--theme-code-foreground, var(--jp-content-font-color1, white)));\n",
       "    --sklearn-color-icon: #878787;\n",
       "  }\n",
       "}\n",
       "\n",
       "#sk-container-id-1 {\n",
       "  color: var(--sklearn-color-text);\n",
       "}\n",
       "\n",
       "#sk-container-id-1 pre {\n",
       "  padding: 0;\n",
       "}\n",
       "\n",
       "#sk-container-id-1 input.sk-hidden--visually {\n",
       "  border: 0;\n",
       "  clip: rect(1px 1px 1px 1px);\n",
       "  clip: rect(1px, 1px, 1px, 1px);\n",
       "  height: 1px;\n",
       "  margin: -1px;\n",
       "  overflow: hidden;\n",
       "  padding: 0;\n",
       "  position: absolute;\n",
       "  width: 1px;\n",
       "}\n",
       "\n",
       "#sk-container-id-1 div.sk-dashed-wrapped {\n",
       "  border: 1px dashed var(--sklearn-color-line);\n",
       "  margin: 0 0.4em 0.5em 0.4em;\n",
       "  box-sizing: border-box;\n",
       "  padding-bottom: 0.4em;\n",
       "  background-color: var(--sklearn-color-background);\n",
       "}\n",
       "\n",
       "#sk-container-id-1 div.sk-container {\n",
       "  /* jupyter's `normalize.less` sets `[hidden] { display: none; }`\n",
       "     but bootstrap.min.css set `[hidden] { display: none !important; }`\n",
       "     so we also need the `!important` here to be able to override the\n",
       "     default hidden behavior on the sphinx rendered scikit-learn.org.\n",
       "     See: https://github.com/scikit-learn/scikit-learn/issues/21755 */\n",
       "  display: inline-block !important;\n",
       "  position: relative;\n",
       "}\n",
       "\n",
       "#sk-container-id-1 div.sk-text-repr-fallback {\n",
       "  display: none;\n",
       "}\n",
       "\n",
       "div.sk-parallel-item,\n",
       "div.sk-serial,\n",
       "div.sk-item {\n",
       "  /* draw centered vertical line to link estimators */\n",
       "  background-image: linear-gradient(var(--sklearn-color-text-on-default-background), var(--sklearn-color-text-on-default-background));\n",
       "  background-size: 2px 100%;\n",
       "  background-repeat: no-repeat;\n",
       "  background-position: center center;\n",
       "}\n",
       "\n",
       "/* Parallel-specific style estimator block */\n",
       "\n",
       "#sk-container-id-1 div.sk-parallel-item::after {\n",
       "  content: \"\";\n",
       "  width: 100%;\n",
       "  border-bottom: 2px solid var(--sklearn-color-text-on-default-background);\n",
       "  flex-grow: 1;\n",
       "}\n",
       "\n",
       "#sk-container-id-1 div.sk-parallel {\n",
       "  display: flex;\n",
       "  align-items: stretch;\n",
       "  justify-content: center;\n",
       "  background-color: var(--sklearn-color-background);\n",
       "  position: relative;\n",
       "}\n",
       "\n",
       "#sk-container-id-1 div.sk-parallel-item {\n",
       "  display: flex;\n",
       "  flex-direction: column;\n",
       "}\n",
       "\n",
       "#sk-container-id-1 div.sk-parallel-item:first-child::after {\n",
       "  align-self: flex-end;\n",
       "  width: 50%;\n",
       "}\n",
       "\n",
       "#sk-container-id-1 div.sk-parallel-item:last-child::after {\n",
       "  align-self: flex-start;\n",
       "  width: 50%;\n",
       "}\n",
       "\n",
       "#sk-container-id-1 div.sk-parallel-item:only-child::after {\n",
       "  width: 0;\n",
       "}\n",
       "\n",
       "/* Serial-specific style estimator block */\n",
       "\n",
       "#sk-container-id-1 div.sk-serial {\n",
       "  display: flex;\n",
       "  flex-direction: column;\n",
       "  align-items: center;\n",
       "  background-color: var(--sklearn-color-background);\n",
       "  padding-right: 1em;\n",
       "  padding-left: 1em;\n",
       "}\n",
       "\n",
       "\n",
       "/* Toggleable style: style used for estimator/Pipeline/ColumnTransformer box that is\n",
       "clickable and can be expanded/collapsed.\n",
       "- Pipeline and ColumnTransformer use this feature and define the default style\n",
       "- Estimators will overwrite some part of the style using the `sk-estimator` class\n",
       "*/\n",
       "\n",
       "/* Pipeline and ColumnTransformer style (default) */\n",
       "\n",
       "#sk-container-id-1 div.sk-toggleable {\n",
       "  /* Default theme specific background. It is overwritten whether we have a\n",
       "  specific estimator or a Pipeline/ColumnTransformer */\n",
       "  background-color: var(--sklearn-color-background);\n",
       "}\n",
       "\n",
       "/* Toggleable label */\n",
       "#sk-container-id-1 label.sk-toggleable__label {\n",
       "  cursor: pointer;\n",
       "  display: block;\n",
       "  width: 100%;\n",
       "  margin-bottom: 0;\n",
       "  padding: 0.5em;\n",
       "  box-sizing: border-box;\n",
       "  text-align: center;\n",
       "}\n",
       "\n",
       "#sk-container-id-1 label.sk-toggleable__label-arrow:before {\n",
       "  /* Arrow on the left of the label */\n",
       "  content: \"▸\";\n",
       "  float: left;\n",
       "  margin-right: 0.25em;\n",
       "  color: var(--sklearn-color-icon);\n",
       "}\n",
       "\n",
       "#sk-container-id-1 label.sk-toggleable__label-arrow:hover:before {\n",
       "  color: var(--sklearn-color-text);\n",
       "}\n",
       "\n",
       "/* Toggleable content - dropdown */\n",
       "\n",
       "#sk-container-id-1 div.sk-toggleable__content {\n",
       "  max-height: 0;\n",
       "  max-width: 0;\n",
       "  overflow: hidden;\n",
       "  text-align: left;\n",
       "  /* unfitted */\n",
       "  background-color: var(--sklearn-color-unfitted-level-0);\n",
       "}\n",
       "\n",
       "#sk-container-id-1 div.sk-toggleable__content.fitted {\n",
       "  /* fitted */\n",
       "  background-color: var(--sklearn-color-fitted-level-0);\n",
       "}\n",
       "\n",
       "#sk-container-id-1 div.sk-toggleable__content pre {\n",
       "  margin: 0.2em;\n",
       "  border-radius: 0.25em;\n",
       "  color: var(--sklearn-color-text);\n",
       "  /* unfitted */\n",
       "  background-color: var(--sklearn-color-unfitted-level-0);\n",
       "}\n",
       "\n",
       "#sk-container-id-1 div.sk-toggleable__content.fitted pre {\n",
       "  /* unfitted */\n",
       "  background-color: var(--sklearn-color-fitted-level-0);\n",
       "}\n",
       "\n",
       "#sk-container-id-1 input.sk-toggleable__control:checked~div.sk-toggleable__content {\n",
       "  /* Expand drop-down */\n",
       "  max-height: 200px;\n",
       "  max-width: 100%;\n",
       "  overflow: auto;\n",
       "}\n",
       "\n",
       "#sk-container-id-1 input.sk-toggleable__control:checked~label.sk-toggleable__label-arrow:before {\n",
       "  content: \"▾\";\n",
       "}\n",
       "\n",
       "/* Pipeline/ColumnTransformer-specific style */\n",
       "\n",
       "#sk-container-id-1 div.sk-label input.sk-toggleable__control:checked~label.sk-toggleable__label {\n",
       "  color: var(--sklearn-color-text);\n",
       "  background-color: var(--sklearn-color-unfitted-level-2);\n",
       "}\n",
       "\n",
       "#sk-container-id-1 div.sk-label.fitted input.sk-toggleable__control:checked~label.sk-toggleable__label {\n",
       "  background-color: var(--sklearn-color-fitted-level-2);\n",
       "}\n",
       "\n",
       "/* Estimator-specific style */\n",
       "\n",
       "/* Colorize estimator box */\n",
       "#sk-container-id-1 div.sk-estimator input.sk-toggleable__control:checked~label.sk-toggleable__label {\n",
       "  /* unfitted */\n",
       "  background-color: var(--sklearn-color-unfitted-level-2);\n",
       "}\n",
       "\n",
       "#sk-container-id-1 div.sk-estimator.fitted input.sk-toggleable__control:checked~label.sk-toggleable__label {\n",
       "  /* fitted */\n",
       "  background-color: var(--sklearn-color-fitted-level-2);\n",
       "}\n",
       "\n",
       "#sk-container-id-1 div.sk-label label.sk-toggleable__label,\n",
       "#sk-container-id-1 div.sk-label label {\n",
       "  /* The background is the default theme color */\n",
       "  color: var(--sklearn-color-text-on-default-background);\n",
       "}\n",
       "\n",
       "/* On hover, darken the color of the background */\n",
       "#sk-container-id-1 div.sk-label:hover label.sk-toggleable__label {\n",
       "  color: var(--sklearn-color-text);\n",
       "  background-color: var(--sklearn-color-unfitted-level-2);\n",
       "}\n",
       "\n",
       "/* Label box, darken color on hover, fitted */\n",
       "#sk-container-id-1 div.sk-label.fitted:hover label.sk-toggleable__label.fitted {\n",
       "  color: var(--sklearn-color-text);\n",
       "  background-color: var(--sklearn-color-fitted-level-2);\n",
       "}\n",
       "\n",
       "/* Estimator label */\n",
       "\n",
       "#sk-container-id-1 div.sk-label label {\n",
       "  font-family: monospace;\n",
       "  font-weight: bold;\n",
       "  display: inline-block;\n",
       "  line-height: 1.2em;\n",
       "}\n",
       "\n",
       "#sk-container-id-1 div.sk-label-container {\n",
       "  text-align: center;\n",
       "}\n",
       "\n",
       "/* Estimator-specific */\n",
       "#sk-container-id-1 div.sk-estimator {\n",
       "  font-family: monospace;\n",
       "  border: 1px dotted var(--sklearn-color-border-box);\n",
       "  border-radius: 0.25em;\n",
       "  box-sizing: border-box;\n",
       "  margin-bottom: 0.5em;\n",
       "  /* unfitted */\n",
       "  background-color: var(--sklearn-color-unfitted-level-0);\n",
       "}\n",
       "\n",
       "#sk-container-id-1 div.sk-estimator.fitted {\n",
       "  /* fitted */\n",
       "  background-color: var(--sklearn-color-fitted-level-0);\n",
       "}\n",
       "\n",
       "/* on hover */\n",
       "#sk-container-id-1 div.sk-estimator:hover {\n",
       "  /* unfitted */\n",
       "  background-color: var(--sklearn-color-unfitted-level-2);\n",
       "}\n",
       "\n",
       "#sk-container-id-1 div.sk-estimator.fitted:hover {\n",
       "  /* fitted */\n",
       "  background-color: var(--sklearn-color-fitted-level-2);\n",
       "}\n",
       "\n",
       "/* Specification for estimator info (e.g. \"i\" and \"?\") */\n",
       "\n",
       "/* Common style for \"i\" and \"?\" */\n",
       "\n",
       ".sk-estimator-doc-link,\n",
       "a:link.sk-estimator-doc-link,\n",
       "a:visited.sk-estimator-doc-link {\n",
       "  float: right;\n",
       "  font-size: smaller;\n",
       "  line-height: 1em;\n",
       "  font-family: monospace;\n",
       "  background-color: var(--sklearn-color-background);\n",
       "  border-radius: 1em;\n",
       "  height: 1em;\n",
       "  width: 1em;\n",
       "  text-decoration: none !important;\n",
       "  margin-left: 1ex;\n",
       "  /* unfitted */\n",
       "  border: var(--sklearn-color-unfitted-level-1) 1pt solid;\n",
       "  color: var(--sklearn-color-unfitted-level-1);\n",
       "}\n",
       "\n",
       ".sk-estimator-doc-link.fitted,\n",
       "a:link.sk-estimator-doc-link.fitted,\n",
       "a:visited.sk-estimator-doc-link.fitted {\n",
       "  /* fitted */\n",
       "  border: var(--sklearn-color-fitted-level-1) 1pt solid;\n",
       "  color: var(--sklearn-color-fitted-level-1);\n",
       "}\n",
       "\n",
       "/* On hover */\n",
       "div.sk-estimator:hover .sk-estimator-doc-link:hover,\n",
       ".sk-estimator-doc-link:hover,\n",
       "div.sk-label-container:hover .sk-estimator-doc-link:hover,\n",
       ".sk-estimator-doc-link:hover {\n",
       "  /* unfitted */\n",
       "  background-color: var(--sklearn-color-unfitted-level-3);\n",
       "  color: var(--sklearn-color-background);\n",
       "  text-decoration: none;\n",
       "}\n",
       "\n",
       "div.sk-estimator.fitted:hover .sk-estimator-doc-link.fitted:hover,\n",
       ".sk-estimator-doc-link.fitted:hover,\n",
       "div.sk-label-container:hover .sk-estimator-doc-link.fitted:hover,\n",
       ".sk-estimator-doc-link.fitted:hover {\n",
       "  /* fitted */\n",
       "  background-color: var(--sklearn-color-fitted-level-3);\n",
       "  color: var(--sklearn-color-background);\n",
       "  text-decoration: none;\n",
       "}\n",
       "\n",
       "/* Span, style for the box shown on hovering the info icon */\n",
       ".sk-estimator-doc-link span {\n",
       "  display: none;\n",
       "  z-index: 9999;\n",
       "  position: relative;\n",
       "  font-weight: normal;\n",
       "  right: .2ex;\n",
       "  padding: .5ex;\n",
       "  margin: .5ex;\n",
       "  width: min-content;\n",
       "  min-width: 20ex;\n",
       "  max-width: 50ex;\n",
       "  color: var(--sklearn-color-text);\n",
       "  box-shadow: 2pt 2pt 4pt #999;\n",
       "  /* unfitted */\n",
       "  background: var(--sklearn-color-unfitted-level-0);\n",
       "  border: .5pt solid var(--sklearn-color-unfitted-level-3);\n",
       "}\n",
       "\n",
       ".sk-estimator-doc-link.fitted span {\n",
       "  /* fitted */\n",
       "  background: var(--sklearn-color-fitted-level-0);\n",
       "  border: var(--sklearn-color-fitted-level-3);\n",
       "}\n",
       "\n",
       ".sk-estimator-doc-link:hover span {\n",
       "  display: block;\n",
       "}\n",
       "\n",
       "/* \"?\"-specific style due to the `<a>` HTML tag */\n",
       "\n",
       "#sk-container-id-1 a.estimator_doc_link {\n",
       "  float: right;\n",
       "  font-size: 1rem;\n",
       "  line-height: 1em;\n",
       "  font-family: monospace;\n",
       "  background-color: var(--sklearn-color-background);\n",
       "  border-radius: 1rem;\n",
       "  height: 1rem;\n",
       "  width: 1rem;\n",
       "  text-decoration: none;\n",
       "  /* unfitted */\n",
       "  color: var(--sklearn-color-unfitted-level-1);\n",
       "  border: var(--sklearn-color-unfitted-level-1) 1pt solid;\n",
       "}\n",
       "\n",
       "#sk-container-id-1 a.estimator_doc_link.fitted {\n",
       "  /* fitted */\n",
       "  border: var(--sklearn-color-fitted-level-1) 1pt solid;\n",
       "  color: var(--sklearn-color-fitted-level-1);\n",
       "}\n",
       "\n",
       "/* On hover */\n",
       "#sk-container-id-1 a.estimator_doc_link:hover {\n",
       "  /* unfitted */\n",
       "  background-color: var(--sklearn-color-unfitted-level-3);\n",
       "  color: var(--sklearn-color-background);\n",
       "  text-decoration: none;\n",
       "}\n",
       "\n",
       "#sk-container-id-1 a.estimator_doc_link.fitted:hover {\n",
       "  /* fitted */\n",
       "  background-color: var(--sklearn-color-fitted-level-3);\n",
       "}\n",
       "</style><div id=\"sk-container-id-1\" class=\"sk-top-container\"><div class=\"sk-text-repr-fallback\"><pre>RobustScaler()</pre><b>In a Jupyter environment, please rerun this cell to show the HTML representation or trust the notebook. <br />On GitHub, the HTML representation is unable to render, please try loading this page with nbviewer.org.</b></div><div class=\"sk-container\" hidden><div class=\"sk-item\"><div class=\"sk-estimator fitted sk-toggleable\"><input class=\"sk-toggleable__control sk-hidden--visually\" id=\"sk-estimator-id-1\" type=\"checkbox\" checked><label for=\"sk-estimator-id-1\" class=\"sk-toggleable__label fitted sk-toggleable__label-arrow fitted\">&nbsp;&nbsp;RobustScaler<a class=\"sk-estimator-doc-link fitted\" rel=\"noreferrer\" target=\"_blank\" href=\"https://scikit-learn.org/1.5/modules/generated/sklearn.preprocessing.RobustScaler.html\">?<span>Documentation for RobustScaler</span></a><span class=\"sk-estimator-doc-link fitted\">i<span>Fitted</span></span></label><div class=\"sk-toggleable__content fitted\"><pre>RobustScaler()</pre></div> </div></div></div></div>"
      ],
      "text/plain": [
       "RobustScaler()"
      ]
     },
     "execution_count": 55,
     "metadata": {},
     "output_type": "execute_result"
    }
   ],
   "source": [
    "# Fit the RobusScaler\n",
    "transformer = RobustScaler().fit(df_scale)\n",
    "transformer"
   ]
  },
  {
   "cell_type": "code",
   "execution_count": 56,
   "id": "a70357ef-0c20-4d10-87fc-eb64362ee458",
   "metadata": {},
   "outputs": [],
   "source": [
    "trans_arr = transformer.transform(df_scale)\n",
    "# Extract the columns of the DataFrame\n",
    "df_scale_columns = df_scale.columns\n",
    "# Re-Construct the DataFrame with the scaled information\n",
    "df_scaled = pl.DataFrame(trans_arr , schema=df_scale_columns)"
   ]
  },
  {
   "cell_type": "code",
   "execution_count": 57,
   "id": "6969e1ec-efeb-4f42-8371-39bd8e3f8b7a",
   "metadata": {},
   "outputs": [
    {
     "data": {
      "text/html": [
       "<div><style>\n",
       ".dataframe > thead > tr,\n",
       ".dataframe > tbody > tr {\n",
       "  text-align: right;\n",
       "  white-space: pre-wrap;\n",
       "}\n",
       "</style>\n",
       "<small>shape: (5, 54)</small><table border=\"1\" class=\"dataframe\"><thead><tr><th>comp_size</th><th>tech_comp_indic</th><th>tech_role_indic</th><th>availability_of_benefits</th><th>awareness_of_benefits</th><th>mh_discussion_indic</th><th>mh_resources_availability_indic</th><th>anonym_use_benefit_indic</th><th>sick_leave_difficulty</th><th>neg_consequences_discussing_mh</th><th>neg_consequences_discussing_ph</th><th>comf_discussing_mh_with_coworker_indic</th><th>comf_discussing_mnh_with_supervisor_indic</th><th>employer_importance_mh_vs_ph</th><th>known_neg_consequences_of_mh</th><th>prev_employers</th><th>availability_of_benefits_prev_employer</th><th>awareness_of_benefits_prev_employer</th><th>mh_discussion_indic_prev_employer</th><th>mh_resources_availability_indic_prev_employer</th><th>anonym_use_benefit_indic_prev_employer</th><th>neg_consequences_discussing_mh_prev_employer</th><th>neg_consequences_discussing_ph_prev_employer</th><th>comf_discussing_mh_with_coworker_prev_employer</th><th>comf_discussing_mnh_with_supervisor_prev_employer</th><th>employer_importance_mh_vs_ph_prev_employer</th><th>known_neg_consequences_of_mh_prev_employer</th><th>willing_discuss_ph_in_hiring_interview</th><th>willing_discuss_mh_in_hiring_interview</th><th>percevied_neg_impact_carreer_of_mh</th><th>perceived_neg_impact_coworker_opiniton_of_mh</th><th>willingness_to_share_with_friend_family</th><th>neg_response_to_mh</th><th>willingness_to_share_mh_after_observation</th><th>mh_family_hist</th><th>previous_mh</th><th>current_mh</th><th>diagnosis_name_condition</th><th>believed_name_condiiton</th><th>diagnosis_professional</th><th>diagnosis_name_professional_condition</th><th>used_therapy</th><th>interference_mh_treated_with_work</th><th>interference_mh_untreated_with_work</th><th>age</th><th>gender</th><th>country_residency</th><th>usa_state_residency</th><th>country_work</th><th>usa_state_work</th><th>job_title</th><th>remote</th><th>inter_all</th><th>suspicion_neg_consequences</th></tr><tr><td>f64</td><td>f64</td><td>f64</td><td>f64</td><td>f64</td><td>f64</td><td>f64</td><td>f64</td><td>f64</td><td>f64</td><td>f64</td><td>f64</td><td>f64</td><td>f64</td><td>f64</td><td>f64</td><td>f64</td><td>f64</td><td>f64</td><td>f64</td><td>f64</td><td>f64</td><td>f64</td><td>f64</td><td>f64</td><td>f64</td><td>f64</td><td>f64</td><td>f64</td><td>f64</td><td>f64</td><td>f64</td><td>f64</td><td>f64</td><td>f64</td><td>f64</td><td>f64</td><td>f64</td><td>f64</td><td>f64</td><td>f64</td><td>f64</td><td>f64</td><td>f64</td><td>f64</td><td>f64</td><td>f64</td><td>f64</td><td>f64</td><td>f64</td><td>f64</td><td>f64</td><td>f64</td><td>f64</td></tr></thead><tbody><tr><td>0.0</td><td>0.0</td><td>0.0</td><td>0.0</td><td>-0.333333</td><td>0.0</td><td>0.0</td><td>0.0</td><td>0.666667</td><td>0.0</td><td>0.0</td><td>-1.0</td><td>0.5</td><td>-0.5</td><td>0.0</td><td>0.0</td><td>-0.5</td><td>0.0</td><td>-1.0</td><td>0.0</td><td>0.0</td><td>0.0</td><td>-0.5</td><td>0.0</td><td>0.0</td><td>-0.5</td><td>0.0</td><td>-0.5</td><td>-1.0</td><td>-0.333333</td><td>0.0</td><td>0.0</td><td>0.0</td><td>0.0</td><td>0.0</td><td>0.0</td><td>0.0</td><td>0.0</td><td>0.0</td><td>1.0</td><td>-1.923077</td><td>-1.0</td><td>-0.5</td><td>-0.363636</td><td>0.7</td><td>0.0</td><td>-0.333333</td><td>0.0</td><td>-0.25</td><td>0.0</td><td>-0.797753</td><td>0.0</td><td>-1.0</td><td>-1.0</td></tr><tr><td>0.666667</td><td>0.0</td><td>0.0</td><td>-0.333333</td><td>0.333333</td><td>1.0</td><td>0.5</td><td>1.0</td><td>0.0</td><td>0.0</td><td>0.0</td><td>-1.0</td><td>0.5</td><td>0.5</td><td>0.0</td><td>0.0</td><td>1.0</td><td>-0.5</td><td>0.0</td><td>1.0</td><td>2.0</td><td>-1.0</td><td>-0.5</td><td>-1.0</td><td>0.0</td><td>1.0</td><td>0.0</td><td>-0.5</td><td>0.0</td><td>0.0</td><td>0.0</td><td>0.0</td><td>0.0</td><td>0.0</td><td>1.0</td><td>0.0</td><td>1.0</td><td>-2.803738</td><td>0.0</td><td>1.0</td><td>-1.794872</td><td>0.0</td><td>0.5</td><td>0.727273</td><td>-0.3</td><td>0.0</td><td>0.0</td><td>-0.117647</td><td>0.0</td><td>-0.133333</td><td>-0.730337</td><td>-1.0</td><td>0.0</td><td>-1.0</td></tr><tr><td>0.666667</td><td>0.0</td><td>0.0</td><td>-0.333333</td><td>-0.333333</td><td>0.0</td><td>0.0</td><td>0.0</td><td>-0.666667</td><td>-1.0</td><td>0.0</td><td>-1.0</td><td>-0.5</td><td>-0.5</td><td>0.0</td><td>0.0</td><td>-0.5</td><td>0.0</td><td>0.0</td><td>1.0</td><td>0.0</td><td>-1.5</td><td>0.5</td><td>0.0</td><td>-1.5</td><td>-0.5</td><td>1.0</td><td>0.5</td><td>1.0</td><td>-0.333333</td><td>-0.333333</td><td>0.0</td><td>-1.0</td><td>2.0</td><td>0.0</td><td>-2.0</td><td>0.0</td><td>0.0</td><td>0.0</td><td>0.0</td><td>0.0</td><td>0.0</td><td>-0.5</td><td>-0.363636</td><td>0.6</td><td>0.0</td><td>-0.333333</td><td>0.0</td><td>-0.25</td><td>0.0</td><td>-0.797753</td><td>-2.0</td><td>-1.0</td><td>0.0</td></tr><tr><td>0.666667</td><td>-1.0</td><td>-1.0</td><td>0.333333</td><td>0.333333</td><td>0.0</td><td>0.0</td><td>0.5</td><td>-0.666667</td><td>1.0</td><td>-1.0</td><td>-1.0</td><td>0.0</td><td>0.0</td><td>0.0</td><td>0.0</td><td>-1.0</td><td>0.0</td><td>2.0</td><td>0.0</td><td>0.0</td><td>0.0</td><td>0.5</td><td>-1.0</td><td>0.0</td><td>1.0</td><td>1.0</td><td>-0.5</td><td>0.0</td><td>0.666667</td><td>-0.333333</td><td>0.0</td><td>0.5</td><td>2.0</td><td>1.0</td><td>0.0</td><td>1.0</td><td>-1.233645</td><td>0.0</td><td>1.0</td><td>-1.923077</td><td>0.0</td><td>1.0</td><td>0.727273</td><td>1.1</td><td>-1.0</td><td>0.0</td><td>-0.117647</td><td>0.0</td><td>-0.133333</td><td>-0.067416</td><td>0.0</td><td>0.0</td><td>0.0</td></tr><tr><td>1.0</td><td>0.0</td><td>0.0</td><td>0.333333</td><td>-0.666667</td><td>0.0</td><td>0.5</td><td>1.0</td><td>0.0</td><td>1.0</td><td>1.0</td><td>-1.0</td><td>0.5</td><td>0.0</td><td>1.0</td><td>0.0</td><td>-0.5</td><td>1.5</td><td>0.0</td><td>0.0</td><td>0.0</td><td>0.5</td><td>0.5</td><td>-1.0</td><td>-1.0</td><td>0.0</td><td>1.0</td><td>0.5</td><td>-1.0</td><td>0.666667</td><td>-0.333333</td><td>0.0</td><td>0.5</td><td>1.0</td><td>0.0</td><td>-1.0</td><td>1.0</td><td>-1.196262</td><td>0.0</td><td>0.0</td><td>0.0</td><td>0.0</td><td>-0.5</td><td>0.0</td><td>1.0</td><td>0.0</td><td>-0.333333</td><td>0.0</td><td>-0.25</td><td>0.0</td><td>-0.235955</td><td>0.0</td><td>0.0</td><td>0.0</td></tr></tbody></table></div>"
      ],
      "text/plain": [
       "shape: (5, 54)\n",
       "┌───────────┬─────────────────┬─────────────────┬────────────────┬───┬───────────┬────────┬───────────┬────────────────┐\n",
       "│ comp_size ┆ tech_comp_indic ┆ tech_role_indic ┆ availability_o ┆ … ┆ job_title ┆ remote ┆ inter_all ┆ suspicion_neg_ │\n",
       "│ ---       ┆ ---             ┆ ---             ┆ f_benefits     ┆   ┆ ---       ┆ ---    ┆ ---       ┆ consequences   │\n",
       "│ f64       ┆ f64             ┆ f64             ┆ ---            ┆   ┆ f64       ┆ f64    ┆ f64       ┆ ---            │\n",
       "│           ┆                 ┆                 ┆ f64            ┆   ┆           ┆        ┆           ┆ f64            │\n",
       "╞═══════════╪═════════════════╪═════════════════╪════════════════╪═══╪═══════════╪════════╪═══════════╪════════════════╡\n",
       "│ 0.0       ┆ 0.0             ┆ 0.0             ┆ 0.0            ┆ … ┆ -0.797753 ┆ 0.0    ┆ -1.0      ┆ -1.0           │\n",
       "│ 0.666667  ┆ 0.0             ┆ 0.0             ┆ -0.333333      ┆ … ┆ -0.730337 ┆ -1.0   ┆ 0.0       ┆ -1.0           │\n",
       "│ 0.666667  ┆ 0.0             ┆ 0.0             ┆ -0.333333      ┆ … ┆ -0.797753 ┆ -2.0   ┆ -1.0      ┆ 0.0            │\n",
       "│ 0.666667  ┆ -1.0            ┆ -1.0            ┆ 0.333333       ┆ … ┆ -0.067416 ┆ 0.0    ┆ 0.0       ┆ 0.0            │\n",
       "│ 1.0       ┆ 0.0             ┆ 0.0             ┆ 0.333333       ┆ … ┆ -0.235955 ┆ 0.0    ┆ 0.0       ┆ 0.0            │\n",
       "└───────────┴─────────────────┴─────────────────┴────────────────┴───┴───────────┴────────┴───────────┴────────────────┘"
      ]
     },
     "execution_count": 57,
     "metadata": {},
     "output_type": "execute_result"
    }
   ],
   "source": [
    "df_scaled.head()"
   ]
  },
  {
   "cell_type": "markdown",
   "id": "b02dc0e8-206c-48a6-bbc8-4b73a26cb32f",
   "metadata": {},
   "source": [
    "##### Construct 2 different dataframes:\n",
    "    - df_target_var_1\n",
    "    - df_target_var_2"
   ]
  },
  {
   "cell_type": "code",
   "execution_count": 58,
   "id": "5fa77ec2-96cb-464d-92a1-3edb2fcc87a1",
   "metadata": {},
   "outputs": [
    {
     "ename": "ColumnNotFoundError",
     "evalue": "\"why_why_not_1\" not found",
     "output_type": "error",
     "traceback": [
      "\u001b[1;31m---------------------------------------------------------------------------\u001b[0m",
      "\u001b[1;31mColumnNotFoundError\u001b[0m                       Traceback (most recent call last)",
      "Cell \u001b[1;32mIn[58], line 2\u001b[0m\n\u001b[0;32m      1\u001b[0m \u001b[38;5;66;03m# create feature df_target_variable_var_1\u001b[39;00m\n\u001b[1;32m----> 2\u001b[0m df_target_variable_var_1 \u001b[38;5;241m=\u001b[39m \u001b[43mdf_scale\u001b[49m\u001b[38;5;241;43m.\u001b[39;49m\u001b[43mdrop\u001b[49m\u001b[43m(\u001b[49m\u001b[43m[\u001b[49m\u001b[38;5;124;43m'\u001b[39;49m\u001b[38;5;124;43mindex\u001b[39;49m\u001b[38;5;124;43m'\u001b[39;49m\u001b[43m \u001b[49m\u001b[43m,\u001b[49m\u001b[43m \u001b[49m\u001b[38;5;124;43m'\u001b[39;49m\u001b[38;5;124;43mwhy_why_not_1\u001b[39;49m\u001b[38;5;124;43m'\u001b[39;49m\u001b[43m \u001b[49m\u001b[43m,\u001b[49m\u001b[43m \u001b[49m\u001b[38;5;124;43m'\u001b[39;49m\u001b[38;5;124;43mwhy_why_not_2\u001b[39;49m\u001b[38;5;124;43m'\u001b[39;49m\u001b[43m \u001b[49m\u001b[43m,\u001b[49m\u001b[43m \u001b[49m\u001b[38;5;124;43m'\u001b[39;49m\u001b[38;5;124;43minter_all\u001b[39;49m\u001b[38;5;124;43m'\u001b[39;49m\u001b[43m \u001b[49m\u001b[43m]\u001b[49m\u001b[43m)\u001b[49m\n\u001b[0;32m      3\u001b[0m \u001b[38;5;66;03m# df_target_variable_var_2\u001b[39;00m\n\u001b[0;32m      4\u001b[0m df_target_variable_var_2 \u001b[38;5;241m=\u001b[39m df_scale\u001b[38;5;241m.\u001b[39mdrop([\u001b[38;5;124m'\u001b[39m\u001b[38;5;124mindex\u001b[39m\u001b[38;5;124m'\u001b[39m , \u001b[38;5;124m'\u001b[39m\u001b[38;5;124mwhy_why_not_1\u001b[39m\u001b[38;5;124m'\u001b[39m , \u001b[38;5;124m'\u001b[39m\u001b[38;5;124mwhy_why_not_2\u001b[39m\u001b[38;5;124m'\u001b[39m , \u001b[38;5;124m'\u001b[39m\u001b[38;5;124msuspicion_neg_consequences\u001b[39m\u001b[38;5;124m'\u001b[39m ])\n",
      "File \u001b[1;32m~\\anaconda3\\envs\\IU_unsupervised_learning_projec\\lib\\site-packages\\polars\\dataframe\\frame.py:7278\u001b[0m, in \u001b[0;36mDataFrame.drop\u001b[1;34m(self, strict, *columns)\u001b[0m\n\u001b[0;32m   7195\u001b[0m \u001b[38;5;28;01mdef\u001b[39;00m \u001b[38;5;21mdrop\u001b[39m(\n\u001b[0;32m   7196\u001b[0m     \u001b[38;5;28mself\u001b[39m,\n\u001b[0;32m   7197\u001b[0m     \u001b[38;5;241m*\u001b[39mcolumns: ColumnNameOrSelector \u001b[38;5;241m|\u001b[39m Iterable[ColumnNameOrSelector],\n\u001b[0;32m   7198\u001b[0m     strict: \u001b[38;5;28mbool\u001b[39m \u001b[38;5;241m=\u001b[39m \u001b[38;5;28;01mTrue\u001b[39;00m,\n\u001b[0;32m   7199\u001b[0m ) \u001b[38;5;241m-\u001b[39m\u001b[38;5;241m>\u001b[39m DataFrame:\n\u001b[0;32m   7200\u001b[0m \u001b[38;5;250m    \u001b[39m\u001b[38;5;124;03m\"\"\"\u001b[39;00m\n\u001b[0;32m   7201\u001b[0m \u001b[38;5;124;03m    Remove columns from the dataframe.\u001b[39;00m\n\u001b[0;32m   7202\u001b[0m \n\u001b[1;32m   (...)\u001b[0m\n\u001b[0;32m   7276\u001b[0m \u001b[38;5;124;03m    └─────┘\u001b[39;00m\n\u001b[0;32m   7277\u001b[0m \u001b[38;5;124;03m    \"\"\"\u001b[39;00m\n\u001b[1;32m-> 7278\u001b[0m     \u001b[38;5;28;01mreturn\u001b[39;00m \u001b[38;5;28;43mself\u001b[39;49m\u001b[38;5;241;43m.\u001b[39;49m\u001b[43mlazy\u001b[49m\u001b[43m(\u001b[49m\u001b[43m)\u001b[49m\u001b[38;5;241;43m.\u001b[39;49m\u001b[43mdrop\u001b[49m\u001b[43m(\u001b[49m\u001b[38;5;241;43m*\u001b[39;49m\u001b[43mcolumns\u001b[49m\u001b[43m,\u001b[49m\u001b[43m \u001b[49m\u001b[43mstrict\u001b[49m\u001b[38;5;241;43m=\u001b[39;49m\u001b[43mstrict\u001b[49m\u001b[43m)\u001b[49m\u001b[38;5;241;43m.\u001b[39;49m\u001b[43mcollect\u001b[49m\u001b[43m(\u001b[49m\u001b[43m_eager\u001b[49m\u001b[38;5;241;43m=\u001b[39;49m\u001b[38;5;28;43;01mTrue\u001b[39;49;00m\u001b[43m)\u001b[49m\n",
      "File \u001b[1;32m~\\anaconda3\\envs\\IU_unsupervised_learning_projec\\lib\\site-packages\\polars\\lazyframe\\frame.py:2027\u001b[0m, in \u001b[0;36mLazyFrame.collect\u001b[1;34m(self, type_coercion, predicate_pushdown, projection_pushdown, simplify_expression, slice_pushdown, comm_subplan_elim, comm_subexpr_elim, cluster_with_columns, no_optimization, streaming, engine, background, _eager, **_kwargs)\u001b[0m\n\u001b[0;32m   2025\u001b[0m \u001b[38;5;66;03m# Only for testing purposes\u001b[39;00m\n\u001b[0;32m   2026\u001b[0m callback \u001b[38;5;241m=\u001b[39m _kwargs\u001b[38;5;241m.\u001b[39mget(\u001b[38;5;124m\"\u001b[39m\u001b[38;5;124mpost_opt_callback\u001b[39m\u001b[38;5;124m\"\u001b[39m, callback)\n\u001b[1;32m-> 2027\u001b[0m \u001b[38;5;28;01mreturn\u001b[39;00m wrap_df(\u001b[43mldf\u001b[49m\u001b[38;5;241;43m.\u001b[39;49m\u001b[43mcollect\u001b[49m\u001b[43m(\u001b[49m\u001b[43mcallback\u001b[49m\u001b[43m)\u001b[49m)\n",
      "\u001b[1;31mColumnNotFoundError\u001b[0m: \"why_why_not_1\" not found"
     ]
    }
   ],
   "source": [
    "# create feature df_target_variable_var_1\n",
    "df_target_variable_var_1 = df_scale.drop(['inter_all'])\n",
    "# df_target_variable_var_2\n",
    "df_target_variable_var_2 = df_scale.drop(['suspicion_neg_consequences'])"
   ]
  },
  {
   "cell_type": "markdown",
   "id": "c837671d-c835-4533-bf62-7d076c8dbddc",
   "metadata": {},
   "source": [
    "### Here we split into to Paths. The goal is to investigate if we can build two predictors via K-Means Clustering: 1 for the existence of Mental health issues and one for the negative impact of existing mental health issues\n",
    "        Note: Check how many people even have mental healht issues\n",
    "### For this purpose we are going to apply different Feature Selection techniques towards different target variables (in theory we need to do the same for the TargetEncoding)\n",
    "        Note: A discussion and consideration of which techniques are supposed to be used needs to be done"
   ]
  },
  {
   "cell_type": "markdown",
   "id": "ec3610ee-e9f3-4635-b9dc-48366d03680f",
   "metadata": {},
   "source": [
    "## 13. Feature Selection"
   ]
  },
  {
   "cell_type": "code",
   "execution_count": null,
   "id": "957e7530-e95b-4b91-9de6-bd18a6eabdd4",
   "metadata": {},
   "outputs": [],
   "source": [
    "# The available techniques are:\n",
    "    # ANOVA-test/Chi-square\n",
    "    # Mutual Information\n",
    "    # Correlation Matrix"
   ]
  },
  {
   "cell_type": "code",
   "execution_count": null,
   "id": "ea19ddbd-44d2-496f-be18-90fe8bfd0995",
   "metadata": {},
   "outputs": [],
   "source": [
    "# Correlation Matrix takes the Variance of a feature and if the variance is below a certain threshold then it is droppd, if it is above than it is selected because it carries information"
   ]
  },
  {
   "cell_type": "markdown",
   "id": "d566e08e-cbd9-4f87-b285-a70bbe677fbf",
   "metadata": {},
   "source": [
    "##### ANOVA - target variable 1"
   ]
  },
  {
   "cell_type": "code",
   "execution_count": null,
   "id": "1e003d0f-3d96-481f-996e-d5abdc9f4640",
   "metadata": {},
   "outputs": [],
   "source": [
    "# Get the feature names\n",
    "feature_names = df_scale.columns\n",
    "\n",
    "# Construct the selecotr\n",
    "selector = SelectKBest(score_func=f_classif, k=2)\n",
    "\n",
    "# Fit the selector and transform the DataFrame so that only the K selected features are left according to Anova\n",
    "df_mh_exist_anov = selector.fit_transform(df_scale, df_target_mh_exist.to_series())"
   ]
  },
  {
   "cell_type": "code",
   "execution_count": null,
   "id": "9e97814e-8265-48ae-8249-0045e9cd37c9",
   "metadata": {},
   "outputs": [],
   "source": [
    "# print F- and p-values per feature, sorted by the best features. In vestigate what is happening\n",
    "# Result: It can be seen that the most correlating features are those already implying a mental health issue\n",
    "pl.DataFrame({'features': feature_names, 'Scores': selector.scores_, 'p-values': selector.pvalues_}).sort('Scores', descending=True)"
   ]
  },
  {
   "cell_type": "markdown",
   "id": "ae908bca-557a-4dae-8dbb-8da02e4a03e2",
   "metadata": {},
   "source": [
    "##### Chi-Square - target variable 1"
   ]
  },
  {
   "cell_type": "code",
   "execution_count": null,
   "id": "eef1be8f-fdf8-43b7-9398-b56fc48b4ee4",
   "metadata": {},
   "outputs": [],
   "source": [
    "chi2_stats, p_values = chi2(df_scale, df_target_mh_exist.to_series())\n",
    "pl.DataFrame({'features': feature_names, 'Scores': chi2_stats, 'p-values': p_values}).sort('Scores', descending=True)"
   ]
  },
  {
   "cell_type": "markdown",
   "id": "b5980a23-aea6-43e2-9493-1f19d893e393",
   "metadata": {},
   "source": [
    "### Correlation Heatmap"
   ]
  },
  {
   "cell_type": "code",
   "execution_count": null,
   "id": "0c459271-50a9-403a-a299-741d467b00c9",
   "metadata": {},
   "outputs": [],
   "source": [
    "cor_mat = df.select(df_scale).corr()"
   ]
  },
  {
   "cell_type": "code",
   "execution_count": null,
   "id": "9cdca757-046c-4083-a891-42475faecb6a",
   "metadata": {},
   "outputs": [],
   "source": [
    "ax = sns.heatmap(cor_mat, vmin=-1, vmax=1, annot=True, fmt=\"f\")\n",
    "plt.show()"
   ]
  },
  {
   "cell_type": "markdown",
   "id": "8c474331-7e4d-4242-acca-29979c2724b3",
   "metadata": {},
   "source": [
    "### Principal Component Analysis"
   ]
  },
  {
   "cell_type": "code",
   "execution_count": null,
   "id": "c7848b57-839f-4478-92ab-0695e61a44e6",
   "metadata": {},
   "outputs": [],
   "source": [
    "# Apply PCA\n",
    "pca = PCA(n_components=3)\n",
    "X_pca = pca.fit_transform(df_scale)\n",
    "df_x_pca = pl.DataFrame(X_pca , schema= ['PCA1' , 'PCA2' , 'PCA3'])\n",
    "df_x_pca.head()"
   ]
  },
  {
   "cell_type": "code",
   "execution_count": null,
   "id": "d98b53f9-fe5d-4044-be99-f2ecf5428749",
   "metadata": {},
   "outputs": [],
   "source": [
    "# Explain Variance of PCAs\n",
    "explained_variance = pca.explained_variance_ratio_\n",
    "print(explained_variance)"
   ]
  },
  {
   "cell_type": "code",
   "execution_count": null,
   "id": "16c82dfa-5f7b-46fb-8616-966e2cee7409",
   "metadata": {},
   "outputs": [],
   "source": [
    "# Show the loadings of PCAs\n",
    "loadings = pca.components_\n",
    "loadings_df = pl.DataFrame(loadings.T, \n",
    "                           schema=['PCA1', 'PCA2', 'PCA3']).select(pl.Series(df_scale.columns).alias('index') ,pl.all()).sort('PCA1' , descending=True)\n",
    "\n",
    "print(loadings_df)"
   ]
  },
  {
   "cell_type": "markdown",
   "id": "7834ba74-33fc-46fd-8b08-15474af4a83f",
   "metadata": {},
   "source": [
    "## 14. K-Means Clustering"
   ]
  },
  {
   "cell_type": "markdown",
   "id": "f04a2dcf-cf00-45a3-89cf-522e1145e2fa",
   "metadata": {},
   "source": [
    "##### Remove a portion of the data to hold back for evaluation and testing"
   ]
  },
  {
   "cell_type": "code",
   "execution_count": null,
   "id": "a71fa2ca-e2fe-4417-a136-ab1d16987866",
   "metadata": {},
   "outputs": [],
   "source": [
    "#df.select(pl.count('index')).max().to_series()[0]\n",
    "df_training = df_scaled.with_row_index().filter(pl.col('index') < df.select(pl.count('index')).max().to_series()[0] * 0.7)\n",
    "df_training_no_index = df_training.drop('index') \n",
    "df_testing = df_scaled.with_row_index().filter(pl.col('index') >= df.select(pl.count('index')).max().to_series()[0] * 0.7)\n",
    "df_testing_no_index = df_testing.drop('index') "
   ]
  },
  {
   "cell_type": "markdown",
   "id": "6defd27c-9517-4403-9850-14b34c3ea26b",
   "metadata": {},
   "source": [
    "##### Apply Elbow Method to find ideal K"
   ]
  },
  {
   "cell_type": "code",
   "execution_count": null,
   "id": "f6536027-1645-4966-a74a-ec42fb7f1441",
   "metadata": {},
   "outputs": [],
   "source": [
    "model = KMeans()\n",
    "visualizer = KElbowVisualizer(model, k=(1,10))\n",
    "visualizer.fit(df_x_pca.to_pandas())\n",
    "visualizer.show()"
   ]
  },
  {
   "cell_type": "code",
   "execution_count": null,
   "id": "651ffdc5-a39c-4ebe-8cba-70f72ce2af28",
   "metadata": {},
   "outputs": [],
   "source": [
    "# Fit K-Means Clustering to the training data\n",
    "kmeans = KMeans(n_clusters=3, random_state=0, n_init=\"auto\").fit(df_x_pca)"
   ]
  },
  {
   "cell_type": "code",
   "execution_count": null,
   "id": "5a269a6f-4717-4f12-a26a-6787fad8344c",
   "metadata": {},
   "outputs": [],
   "source": [
    "# Show labels\n",
    "kmeans.labels_"
   ]
  },
  {
   "cell_type": "code",
   "execution_count": null,
   "id": "80059827-e709-406d-88d4-bdb9899ead12",
   "metadata": {},
   "outputs": [],
   "source": [
    "# Make a prediction on the trained K-Means algorithn\n",
    "prediction_kmean = kmeans.predict(df_x_pca)"
   ]
  },
  {
   "cell_type": "code",
   "execution_count": null,
   "id": "d9f413b1-b460-47a7-8dec-d432a5f75458",
   "metadata": {},
   "outputs": [],
   "source": [
    "# Construct a DataFrame with the clusters\n",
    "pl_df = pl.DataFrame({'clusters' : prediction_kmean})\n",
    "testing_data_with_clusters = pl.concat([pl_df , df_x_pca], how=\"horizontal\")"
   ]
  },
  {
   "cell_type": "code",
   "execution_count": null,
   "id": "cf8c48a9-237a-4a87-8d82-9ea7046ef265",
   "metadata": {},
   "outputs": [],
   "source": [
    "testing_data_with_clusters.head()"
   ]
  },
  {
   "cell_type": "code",
   "execution_count": null,
   "id": "9e774df1-3f45-4a09-8d5c-4a14cb466b56",
   "metadata": {},
   "outputs": [],
   "source": [
    "# Show the centers of clusters\n",
    "kmeans.cluster_centers_"
   ]
  },
  {
   "cell_type": "markdown",
   "id": "e1dcd232-086a-4ffa-9175-275da5228ffa",
   "metadata": {},
   "source": [
    "##### Visualize the clusters"
   ]
  },
  {
   "cell_type": "code",
   "execution_count": null,
   "id": "f1bac830-b690-46c1-bc7b-284fe5620a53",
   "metadata": {},
   "outputs": [],
   "source": [
    "# Create a 3D scatter plot\n",
    "fig = plt.figure(figsize=(10, 7))\n",
    "ax = fig.add_subplot(111, projection='3d')\n",
    "\n",
    "# Scatter plot with different colors for each cluster\n",
    "scatter = ax.scatter(\n",
    "    testing_data_with_clusters['PCA1'], \n",
    "    testing_data_with_clusters['PCA2'], \n",
    "    testing_data_with_clusters['PCA3'], \n",
    "    c=testing_data_with_clusters['clusters'],  # Color by cluster\n",
    "    cmap='viridis',  # You can choose other colormaps like 'plasma', 'coolwarm', etc.\n",
    "    s=50  # Size of the points\n",
    ")\n",
    "\n",
    "# Set labels\n",
    "ax.set_xlabel('Principal Component 1')\n",
    "ax.set_ylabel('Principal Component 2')\n",
    "ax.set_zlabel('Principal Component 3')\n",
    "\n",
    "# Add a legend\n",
    "legend1 = ax.legend(*scatter.legend_elements(), title=\"Clusters\")\n",
    "ax.add_artist(legend1)\n",
    "\n",
    "# Show the plot\n",
    "plt.show()"
   ]
  },
  {
   "cell_type": "code",
   "execution_count": null,
   "id": "efcda7c2-c67b-4c0a-b507-d04f562c39c3",
   "metadata": {},
   "outputs": [],
   "source": [
    "sns.pairplot(testing_data_with_clusters.to_pandas(), hue='clusters', palette='viridis')\n",
    "plt.show()"
   ]
  }
 ],
 "metadata": {
  "kernelspec": {
   "display_name": "Python 3 (ipykernel)",
   "language": "python",
   "name": "python3"
  },
  "language_info": {
   "codemirror_mode": {
    "name": "ipython",
    "version": 3
   },
   "file_extension": ".py",
   "mimetype": "text/x-python",
   "name": "python",
   "nbconvert_exporter": "python",
   "pygments_lexer": "ipython3",
   "version": "3.10.14"
  }
 },
 "nbformat": 4,
 "nbformat_minor": 5
}
