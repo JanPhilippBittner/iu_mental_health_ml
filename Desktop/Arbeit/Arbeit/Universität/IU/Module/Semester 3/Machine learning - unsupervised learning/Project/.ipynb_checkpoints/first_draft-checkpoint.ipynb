{
 "cells": [
  {
   "cell_type": "code",
   "execution_count": 1,
   "id": "6d0aa54f-ff1d-4155-8982-f81432ec0d6d",
   "metadata": {},
   "outputs": [],
   "source": [
    "# PS: maybe build in a little pie chart or such to have a look at diagnosed, vs perceived mental health of employees vs. self-employed\n",
    "# Graphics and diagrams ideas:\n",
    "        # Mentalhealth different locations\n",
    "        # Mental healt correlation of comp size\n",
    "        # mh correlation of different jobs\n",
    "        # mh correlation of openness via things liike the comfort to discuss mh, and the company showing intiative and Actual Mental health\n",
    "        # Bad experiences with mental health"
   ]
  },
  {
   "cell_type": "code",
   "execution_count": 2,
   "id": "bca79f0f-290b-4d60-acf0-25c9dfa59f05",
   "metadata": {},
   "outputs": [
    {
     "name": "stdout",
     "output_type": "stream",
     "text": [
      "(1433, 63)\n"
     ]
    }
   ],
   "source": [
    "# DataFrame handling\n",
    "import polars as pl\n",
    "# Unicode normalization\n",
    "import unicodedata\n",
    "# Mathematical operations and possible handling of NULL values\n",
    "import numpy as np\n",
    "# Visualization\n",
    "import seaborn as sns\n",
    "import matplotlib.pyplot as plt\n",
    "# Feature engineering, selection & Machine Learning\n",
    "from sklearn.preprocessing import OrdinalEncoder , TargetEncoder\n",
    "\n",
    "# Define the input CSV file and create a DataFrame\n",
    "csv = 'input.csv'\n",
    "df_csv = pl.read_csv(csv)\n",
    "\n",
    "# Get the shape of dataframe\n",
    "print(df_csv.shape)"
   ]
  },
  {
   "cell_type": "code",
   "execution_count": 3,
   "id": "80a9e1ce-5e78-4ecb-be27-5a3c892dc792",
   "metadata": {},
   "outputs": [
    {
     "data": {
      "text/html": [
       "<div><style>\n",
       ".dataframe > thead > tr,\n",
       ".dataframe > tbody > tr {\n",
       "  text-align: right;\n",
       "  white-space: pre-wrap;\n",
       "}\n",
       "</style>\n",
       "<small>shape: (5, 63)</small><table border=\"1\" class=\"dataframe\"><thead><tr><th>Are you self-employed?</th><th>How many employees does your company or organization have?</th><th>Is your employer primarily a tech company/organization?</th><th>Is your primary role within your company related to tech/IT?</th><th>Does your employer provide mental health benefits as part of healthcare coverage?</th><th>Do you know the options for mental health care available under your employer-provided coverage?</th><th>Has your employer ever formally discussed mental health (for example, as part of a wellness campaign or other official communication)?</th><th>Does your employer offer resources to learn more about mental health concerns and options for seeking help?</th><th>Is your anonymity protected if you choose to take advantage of mental health or substance abuse treatment resources provided by your employer?</th><th>If a mental health issue prompted you to request a medical leave from work, asking for that leave would be:</th><th>Do you think that discussing a mental health disorder with your employer would have negative consequences?</th><th>Do you think that discussing a physical health issue with your employer would have negative consequences?</th><th>Would you feel comfortable discussing a mental health disorder with your coworkers?</th><th>Would you feel comfortable discussing a mental health disorder with your direct supervisor(s)?</th><th>Do you feel that your employer takes mental health as seriously as physical health?</th><th>Have you heard of or observed negative consequences for co-workers who have been open about mental health issues in your workplace?</th><th>Do you have medical coverage (private insurance or state-provided) which includes treatment of  mental health issues?</th><th>Do you know local or online resources to seek help for a mental health disorder?</th><th>If you have been diagnosed or treated for a mental health disorder, do you ever reveal this to clients or business contacts?</th><th>If you have revealed a mental health issue to a client or business contact, do you believe this has impacted you negatively?</th><th>If you have been diagnosed or treated for a mental health disorder, do you ever reveal this to coworkers or employees?</th><th>If you have revealed a mental health issue to a coworker or employee, do you believe this has impacted you negatively?</th><th>Do you believe your productivity is ever affected by a mental health issue?</th><th>If yes, what percentage of your work time (time performing primary or secondary job functions) is affected by a mental health issue?</th><th>Do you have previous employers?</th><th>Have your previous employers provided mental health benefits?</th><th>Were you aware of the options for mental health care provided by your previous employers?</th><th>Did your previous employers ever formally discuss mental health (as part of a wellness campaign or other official communication)?</th><th>Did your previous employers provide resources to learn more about mental health issues and how to seek help?</th><th>Was your anonymity protected if you chose to take advantage of mental health or substance abuse treatment resources with previous employers?</th><th>Do you think that discussing a mental health disorder with previous employers would have negative consequences?</th><th>Do you think that discussing a physical health issue with previous employers would have negative consequences?</th><th>Would you have been willing to discuss a mental health issue with your previous co-workers?</th><th>Would you have been willing to discuss a mental health issue with your direct supervisor(s)?</th><th>Did you feel that your previous employers took mental health as seriously as physical health?</th><th>Did you hear of or observe negative consequences for co-workers with mental health issues in your previous workplaces?</th><th>Would you be willing to bring up a physical health issue with a potential employer in an interview?</th><th>Why or why not?</th><th>Would you bring up a mental health issue with a potential employer in an interview?</th><th>Why or why not?_duplicated_0</th><th>Do you feel that being identified as a person with a mental health issue would hurt your career?</th><th>Do you think that team members/co-workers would view you more negatively if they knew you suffered from a mental health issue?</th><th>How willing would you be to share with friends and family that you have a mental illness?</th><th>Have you observed or experienced an unsupportive or badly handled response to a mental health issue in your current or previous workplace?</th><th>Have your observations of how another individual who discussed a mental health disorder made you less likely to reveal a mental health issue yourself in your current workplace?</th><th>Do you have a family history of mental illness?</th><th>Have you had a mental health disorder in the past?</th><th>Do you currently have a mental health disorder?</th><th>If yes, what condition(s) have you been diagnosed with?</th><th>If maybe, what condition(s) do you believe you have?</th><th>Have you been diagnosed with a mental health condition by a medical professional?</th><th>If so, what condition(s) were you diagnosed with?</th><th>Have you ever sought treatment for a mental health issue from a mental health professional?</th><th>If you have a mental health issue, do you feel that it interferes with your work when being treated effectively?</th><th>If you have a mental health issue, do you feel that it interferes with your work when NOT being treated effectively?</th><th>What is your age?</th><th>What is your gender?</th><th>What country do you live in?</th><th>What US state or territory do you live in?</th><th>What country do you work in?</th><th>What US state or territory do you work in?</th><th>Which of the following best describes your work position?</th><th>Do you work remotely?</th></tr><tr><td>i64</td><td>str</td><td>i64</td><td>i64</td><td>str</td><td>str</td><td>str</td><td>str</td><td>str</td><td>str</td><td>str</td><td>str</td><td>str</td><td>str</td><td>str</td><td>str</td><td>i64</td><td>str</td><td>str</td><td>str</td><td>str</td><td>str</td><td>str</td><td>str</td><td>i64</td><td>str</td><td>str</td><td>str</td><td>str</td><td>str</td><td>str</td><td>str</td><td>str</td><td>str</td><td>str</td><td>str</td><td>str</td><td>str</td><td>str</td><td>str</td><td>str</td><td>str</td><td>str</td><td>str</td><td>str</td><td>str</td><td>str</td><td>str</td><td>str</td><td>str</td><td>str</td><td>str</td><td>i64</td><td>str</td><td>str</td><td>i64</td><td>str</td><td>str</td><td>str</td><td>str</td><td>str</td><td>str</td><td>str</td></tr></thead><tbody><tr><td>0</td><td>&quot;26-100&quot;</td><td>1</td><td>null</td><td>&quot;Not eligible for coverage / N/…</td><td>&quot;N/A&quot;</td><td>&quot;No&quot;</td><td>&quot;No&quot;</td><td>&quot;I don&#x27;t know&quot;</td><td>&quot;Very easy&quot;</td><td>&quot;No&quot;</td><td>&quot;No&quot;</td><td>&quot;Maybe&quot;</td><td>&quot;Yes&quot;</td><td>&quot;I don&#x27;t know&quot;</td><td>&quot;No&quot;</td><td>null</td><td>null</td><td>null</td><td>null</td><td>null</td><td>null</td><td>null</td><td>null</td><td>1</td><td>&quot;No, none did&quot;</td><td>&quot;N/A (not currently aware)&quot;</td><td>&quot;I don&#x27;t know&quot;</td><td>&quot;None did&quot;</td><td>&quot;I don&#x27;t know&quot;</td><td>&quot;Some of them&quot;</td><td>&quot;None of them&quot;</td><td>&quot;Some of my previous employers&quot;</td><td>&quot;Some of my previous employers&quot;</td><td>&quot;I don&#x27;t know&quot;</td><td>&quot;None of them&quot;</td><td>&quot;Maybe&quot;</td><td>null</td><td>&quot;Maybe&quot;</td><td>null</td><td>&quot;Maybe&quot;</td><td>&quot;No, I don&#x27;t think they would&quot;</td><td>&quot;Somewhat open&quot;</td><td>&quot;No&quot;</td><td>null</td><td>&quot;No&quot;</td><td>&quot;Yes&quot;</td><td>&quot;No&quot;</td><td>null</td><td>null</td><td>&quot;Yes&quot;</td><td>&quot;Anxiety Disorder (Generalized,…</td><td>0</td><td>&quot;Not applicable to me&quot;</td><td>&quot;Not applicable to me&quot;</td><td>39</td><td>&quot;Male&quot;</td><td>&quot;United Kingdom&quot;</td><td>null</td><td>&quot;United Kingdom&quot;</td><td>null</td><td>&quot;Back-end Developer&quot;</td><td>&quot;Sometimes&quot;</td></tr><tr><td>0</td><td>&quot;6-25&quot;</td><td>1</td><td>null</td><td>&quot;No&quot;</td><td>&quot;Yes&quot;</td><td>&quot;Yes&quot;</td><td>&quot;Yes&quot;</td><td>&quot;Yes&quot;</td><td>&quot;Somewhat easy&quot;</td><td>&quot;No&quot;</td><td>&quot;No&quot;</td><td>&quot;Maybe&quot;</td><td>&quot;Yes&quot;</td><td>&quot;Yes&quot;</td><td>&quot;No&quot;</td><td>null</td><td>null</td><td>null</td><td>null</td><td>null</td><td>null</td><td>null</td><td>null</td><td>1</td><td>&quot;Yes, they all did&quot;</td><td>&quot;I was aware of some&quot;</td><td>&quot;None did&quot;</td><td>&quot;Some did&quot;</td><td>&quot;Yes, always&quot;</td><td>&quot;None of them&quot;</td><td>&quot;None of them&quot;</td><td>&quot;No, at none of my previous emp…</td><td>&quot;Some of my previous employers&quot;</td><td>&quot;Some did&quot;</td><td>&quot;None of them&quot;</td><td>&quot;Maybe&quot;</td><td>&quot;It would depend on the health …</td><td>&quot;No&quot;</td><td>&quot;While mental health has become…</td><td>&quot;No, I don&#x27;t think it would&quot;</td><td>&quot;No, I don&#x27;t think they would&quot;</td><td>&quot;Somewhat open&quot;</td><td>&quot;No&quot;</td><td>null</td><td>&quot;Yes&quot;</td><td>&quot;Yes&quot;</td><td>&quot;Yes&quot;</td><td>&quot;Anxiety Disorder (Generalized,…</td><td>null</td><td>&quot;Yes&quot;</td><td>&quot;Anxiety Disorder (Generalized,…</td><td>1</td><td>&quot;Rarely&quot;</td><td>&quot;Sometimes&quot;</td><td>29</td><td>&quot;male&quot;</td><td>&quot;United States of America&quot;</td><td>&quot;Illinois&quot;</td><td>&quot;United States of America&quot;</td><td>&quot;Illinois&quot;</td><td>&quot;Back-end Developer|Front-end D…</td><td>&quot;Never&quot;</td></tr><tr><td>0</td><td>&quot;6-25&quot;</td><td>1</td><td>null</td><td>&quot;No&quot;</td><td>&quot;N/A&quot;</td><td>&quot;No&quot;</td><td>&quot;No&quot;</td><td>&quot;I don&#x27;t know&quot;</td><td>&quot;Neither easy nor difficult&quot;</td><td>&quot;Maybe&quot;</td><td>&quot;No&quot;</td><td>&quot;Maybe&quot;</td><td>&quot;Maybe&quot;</td><td>&quot;I don&#x27;t know&quot;</td><td>&quot;No&quot;</td><td>null</td><td>null</td><td>null</td><td>null</td><td>null</td><td>null</td><td>null</td><td>null</td><td>1</td><td>&quot;No, none did&quot;</td><td>&quot;N/A (not currently aware)&quot;</td><td>&quot;None did&quot;</td><td>&quot;Some did&quot;</td><td>&quot;I don&#x27;t know&quot;</td><td>&quot;I don&#x27;t know&quot;</td><td>&quot;Some of them&quot;</td><td>&quot;Some of my previous employers&quot;</td><td>&quot;I don&#x27;t know&quot;</td><td>&quot;I don&#x27;t know&quot;</td><td>&quot;Some of them&quot;</td><td>&quot;Yes&quot;</td><td>&quot;They would provable need to kn…</td><td>&quot;Yes&quot;</td><td>&quot;Stigma, mainly. &quot;</td><td>&quot;Maybe&quot;</td><td>&quot;Maybe&quot;</td><td>&quot;Somewhat open&quot;</td><td>&quot;Maybe/Not sure&quot;</td><td>&quot;Yes&quot;</td><td>&quot;No&quot;</td><td>&quot;Maybe&quot;</td><td>&quot;No&quot;</td><td>null</td><td>null</td><td>&quot;No&quot;</td><td>null</td><td>1</td><td>&quot;Not applicable to me&quot;</td><td>&quot;Not applicable to me&quot;</td><td>38</td><td>&quot;Male &quot;</td><td>&quot;United Kingdom&quot;</td><td>null</td><td>&quot;United Kingdom&quot;</td><td>null</td><td>&quot;Back-end Developer&quot;</td><td>&quot;Always&quot;</td></tr><tr><td>1</td><td>null</td><td>null</td><td>null</td><td>null</td><td>null</td><td>null</td><td>null</td><td>null</td><td>null</td><td>null</td><td>null</td><td>null</td><td>null</td><td>null</td><td>null</td><td>1</td><td>&quot;Yes, I know several&quot;</td><td>&quot;Sometimes, if it comes up&quot;</td><td>&quot;I&#x27;m not sure&quot;</td><td>&quot;Sometimes, if it comes up&quot;</td><td>&quot;I&#x27;m not sure&quot;</td><td>&quot;Yes&quot;</td><td>&quot;1-25%&quot;</td><td>1</td><td>&quot;Some did&quot;</td><td>&quot;N/A (not currently aware)&quot;</td><td>&quot;None did&quot;</td><td>&quot;None did&quot;</td><td>&quot;I don&#x27;t know&quot;</td><td>&quot;Some of them&quot;</td><td>&quot;Some of them&quot;</td><td>&quot;Some of my previous employers&quot;</td><td>&quot;Some of my previous employers&quot;</td><td>&quot;I don&#x27;t know&quot;</td><td>&quot;Some of them&quot;</td><td>&quot;Yes&quot;</td><td>&quot;old back injury, doesn&#x27;t cause…</td><td>&quot;Maybe&quot;</td><td>&quot;would not if I was not 100% su…</td><td>&quot;Yes, I think it would&quot;</td><td>&quot;Maybe&quot;</td><td>&quot;Neutral&quot;</td><td>&quot;No&quot;</td><td>null</td><td>&quot;No&quot;</td><td>&quot;Yes&quot;</td><td>&quot;Yes&quot;</td><td>&quot;Anxiety Disorder (Generalized,…</td><td>null</td><td>&quot;Yes&quot;</td><td>&quot;Anxiety Disorder (Generalized,…</td><td>1</td><td>&quot;Sometimes&quot;</td><td>&quot;Sometimes&quot;</td><td>43</td><td>&quot;male&quot;</td><td>&quot;United Kingdom&quot;</td><td>null</td><td>&quot;United Kingdom&quot;</td><td>null</td><td>&quot;Supervisor/Team Lead&quot;</td><td>&quot;Sometimes&quot;</td></tr><tr><td>0</td><td>&quot;6-25&quot;</td><td>0</td><td>1</td><td>&quot;Yes&quot;</td><td>&quot;Yes&quot;</td><td>&quot;No&quot;</td><td>&quot;No&quot;</td><td>&quot;No&quot;</td><td>&quot;Neither easy nor difficult&quot;</td><td>&quot;Yes&quot;</td><td>&quot;Maybe&quot;</td><td>&quot;Maybe&quot;</td><td>&quot;No&quot;</td><td>&quot;No&quot;</td><td>&quot;No&quot;</td><td>null</td><td>null</td><td>null</td><td>null</td><td>null</td><td>null</td><td>null</td><td>null</td><td>1</td><td>&quot;I don&#x27;t know&quot;</td><td>&quot;N/A (not currently aware)&quot;</td><td>&quot;Some did&quot;</td><td>&quot;None did&quot;</td><td>&quot;I don&#x27;t know&quot;</td><td>&quot;Some of them&quot;</td><td>&quot;Some of them&quot;</td><td>&quot;No, at none of my previous emp…</td><td>&quot;Some of my previous employers&quot;</td><td>&quot;Some did&quot;</td><td>&quot;Some of them&quot;</td><td>&quot;Maybe&quot;</td><td>&quot;Depending on the interview sta…</td><td>&quot;No&quot;</td><td>&quot;I don&#x27;t know&quot;</td><td>&quot;Yes, I think it would&quot;</td><td>&quot;Maybe&quot;</td><td>&quot;Somewhat open&quot;</td><td>&quot;Yes, I experienced&quot;</td><td>&quot;Yes&quot;</td><td>&quot;Yes&quot;</td><td>&quot;Yes&quot;</td><td>&quot;Yes&quot;</td><td>&quot;Anxiety Disorder (Generalized,…</td><td>null</td><td>&quot;Yes&quot;</td><td>&quot;Anxiety Disorder (Generalized,…</td><td>1</td><td>&quot;Sometimes&quot;</td><td>&quot;Sometimes&quot;</td><td>43</td><td>&quot;Female&quot;</td><td>&quot;United States of America&quot;</td><td>&quot;Illinois&quot;</td><td>&quot;United States of America&quot;</td><td>&quot;Illinois&quot;</td><td>&quot;Executive Leadership|Superviso…</td><td>&quot;Sometimes&quot;</td></tr></tbody></table></div>"
      ],
      "text/plain": [
       "shape: (5, 63)\n",
       "┌──────────────┬──────────────┬──────────────┬─────────────┬───┬─────────────┬─────────────┬─────────────┬─────────────┐\n",
       "│ Are you self ┆ How many     ┆ Is your      ┆ Is your     ┆ … ┆ What        ┆ What US     ┆ Which of    ┆ Do you work │\n",
       "│ -employed?   ┆ employees    ┆ employer     ┆ primary     ┆   ┆ country do  ┆ state or    ┆ the         ┆ remotely?   │\n",
       "│ ---          ┆ does your c… ┆ primarily a  ┆ role within ┆   ┆ you work    ┆ territory   ┆ following   ┆ ---         │\n",
       "│ i64          ┆ ---          ┆ t…           ┆ yo…         ┆   ┆ in?         ┆ do …        ┆ best de…    ┆ str         │\n",
       "│              ┆ str          ┆ ---          ┆ ---         ┆   ┆ ---         ┆ ---         ┆ ---         ┆             │\n",
       "│              ┆              ┆ i64          ┆ i64         ┆   ┆ str         ┆ str         ┆ str         ┆             │\n",
       "╞══════════════╪══════════════╪══════════════╪═════════════╪═══╪═════════════╪═════════════╪═════════════╪═════════════╡\n",
       "│ 0            ┆ 26-100       ┆ 1            ┆ null        ┆ … ┆ United      ┆ null        ┆ Back-end    ┆ Sometimes   │\n",
       "│              ┆              ┆              ┆             ┆   ┆ Kingdom     ┆             ┆ Developer   ┆             │\n",
       "│ 0            ┆ 6-25         ┆ 1            ┆ null        ┆ … ┆ United      ┆ Illinois    ┆ Back-end    ┆ Never       │\n",
       "│              ┆              ┆              ┆             ┆   ┆ States of   ┆             ┆ Developer|F ┆             │\n",
       "│              ┆              ┆              ┆             ┆   ┆ America     ┆             ┆ ront-end D… ┆             │\n",
       "│ 0            ┆ 6-25         ┆ 1            ┆ null        ┆ … ┆ United      ┆ null        ┆ Back-end    ┆ Always      │\n",
       "│              ┆              ┆              ┆             ┆   ┆ Kingdom     ┆             ┆ Developer   ┆             │\n",
       "│ 1            ┆ null         ┆ null         ┆ null        ┆ … ┆ United      ┆ null        ┆ Supervisor/ ┆ Sometimes   │\n",
       "│              ┆              ┆              ┆             ┆   ┆ Kingdom     ┆             ┆ Team Lead   ┆             │\n",
       "│ 0            ┆ 6-25         ┆ 0            ┆ 1           ┆ … ┆ United      ┆ Illinois    ┆ Executive   ┆ Sometimes   │\n",
       "│              ┆              ┆              ┆             ┆   ┆ States of   ┆             ┆ Leadership| ┆             │\n",
       "│              ┆              ┆              ┆             ┆   ┆ America     ┆             ┆ Superviso…  ┆             │\n",
       "└──────────────┴──────────────┴──────────────┴─────────────┴───┴─────────────┴─────────────┴─────────────┴─────────────┘"
      ]
     },
     "execution_count": 3,
     "metadata": {},
     "output_type": "execute_result"
    }
   ],
   "source": [
    "df_csv.head()"
   ]
  },
  {
   "cell_type": "code",
   "execution_count": 4,
   "id": "0a6fe6e7-389b-401a-b85f-9274136e2dcc",
   "metadata": {},
   "outputs": [
    {
     "data": {
      "text/html": [
       "<div><style>\n",
       ".dataframe > thead > tr,\n",
       ".dataframe > tbody > tr {\n",
       "  text-align: right;\n",
       "  white-space: pre-wrap;\n",
       "}\n",
       "</style>\n",
       "<small>shape: (9, 64)</small><table border=\"1\" class=\"dataframe\"><thead><tr><th>statistic</th><th>Are you self-employed?</th><th>How many employees does your company or organization have?</th><th>Is your employer primarily a tech company/organization?</th><th>Is your primary role within your company related to tech/IT?</th><th>Does your employer provide mental health benefits as part of healthcare coverage?</th><th>Do you know the options for mental health care available under your employer-provided coverage?</th><th>Has your employer ever formally discussed mental health (for example, as part of a wellness campaign or other official communication)?</th><th>Does your employer offer resources to learn more about mental health concerns and options for seeking help?</th><th>Is your anonymity protected if you choose to take advantage of mental health or substance abuse treatment resources provided by your employer?</th><th>If a mental health issue prompted you to request a medical leave from work, asking for that leave would be:</th><th>Do you think that discussing a mental health disorder with your employer would have negative consequences?</th><th>Do you think that discussing a physical health issue with your employer would have negative consequences?</th><th>Would you feel comfortable discussing a mental health disorder with your coworkers?</th><th>Would you feel comfortable discussing a mental health disorder with your direct supervisor(s)?</th><th>Do you feel that your employer takes mental health as seriously as physical health?</th><th>Have you heard of or observed negative consequences for co-workers who have been open about mental health issues in your workplace?</th><th>Do you have medical coverage (private insurance or state-provided) which includes treatment of  mental health issues?</th><th>Do you know local or online resources to seek help for a mental health disorder?</th><th>If you have been diagnosed or treated for a mental health disorder, do you ever reveal this to clients or business contacts?</th><th>If you have revealed a mental health issue to a client or business contact, do you believe this has impacted you negatively?</th><th>If you have been diagnosed or treated for a mental health disorder, do you ever reveal this to coworkers or employees?</th><th>If you have revealed a mental health issue to a coworker or employee, do you believe this has impacted you negatively?</th><th>Do you believe your productivity is ever affected by a mental health issue?</th><th>If yes, what percentage of your work time (time performing primary or secondary job functions) is affected by a mental health issue?</th><th>Do you have previous employers?</th><th>Have your previous employers provided mental health benefits?</th><th>Were you aware of the options for mental health care provided by your previous employers?</th><th>Did your previous employers ever formally discuss mental health (as part of a wellness campaign or other official communication)?</th><th>Did your previous employers provide resources to learn more about mental health issues and how to seek help?</th><th>Was your anonymity protected if you chose to take advantage of mental health or substance abuse treatment resources with previous employers?</th><th>Do you think that discussing a mental health disorder with previous employers would have negative consequences?</th><th>Do you think that discussing a physical health issue with previous employers would have negative consequences?</th><th>Would you have been willing to discuss a mental health issue with your previous co-workers?</th><th>Would you have been willing to discuss a mental health issue with your direct supervisor(s)?</th><th>Did you feel that your previous employers took mental health as seriously as physical health?</th><th>Did you hear of or observe negative consequences for co-workers with mental health issues in your previous workplaces?</th><th>Would you be willing to bring up a physical health issue with a potential employer in an interview?</th><th>Why or why not?</th><th>Would you bring up a mental health issue with a potential employer in an interview?</th><th>Why or why not?_duplicated_0</th><th>Do you feel that being identified as a person with a mental health issue would hurt your career?</th><th>Do you think that team members/co-workers would view you more negatively if they knew you suffered from a mental health issue?</th><th>How willing would you be to share with friends and family that you have a mental illness?</th><th>Have you observed or experienced an unsupportive or badly handled response to a mental health issue in your current or previous workplace?</th><th>Have your observations of how another individual who discussed a mental health disorder made you less likely to reveal a mental health issue yourself in your current workplace?</th><th>Do you have a family history of mental illness?</th><th>Have you had a mental health disorder in the past?</th><th>Do you currently have a mental health disorder?</th><th>If yes, what condition(s) have you been diagnosed with?</th><th>If maybe, what condition(s) do you believe you have?</th><th>Have you been diagnosed with a mental health condition by a medical professional?</th><th>If so, what condition(s) were you diagnosed with?</th><th>Have you ever sought treatment for a mental health issue from a mental health professional?</th><th>If you have a mental health issue, do you feel that it interferes with your work when being treated effectively?</th><th>If you have a mental health issue, do you feel that it interferes with your work when NOT being treated effectively?</th><th>What is your age?</th><th>What is your gender?</th><th>What country do you live in?</th><th>What US state or territory do you live in?</th><th>What country do you work in?</th><th>What US state or territory do you work in?</th><th>Which of the following best describes your work position?</th><th>Do you work remotely?</th></tr><tr><td>str</td><td>f64</td><td>str</td><td>f64</td><td>f64</td><td>str</td><td>str</td><td>str</td><td>str</td><td>str</td><td>str</td><td>str</td><td>str</td><td>str</td><td>str</td><td>str</td><td>str</td><td>f64</td><td>str</td><td>str</td><td>str</td><td>str</td><td>str</td><td>str</td><td>str</td><td>f64</td><td>str</td><td>str</td><td>str</td><td>str</td><td>str</td><td>str</td><td>str</td><td>str</td><td>str</td><td>str</td><td>str</td><td>str</td><td>str</td><td>str</td><td>str</td><td>str</td><td>str</td><td>str</td><td>str</td><td>str</td><td>str</td><td>str</td><td>str</td><td>str</td><td>str</td><td>str</td><td>str</td><td>f64</td><td>str</td><td>str</td><td>f64</td><td>str</td><td>str</td><td>str</td><td>str</td><td>str</td><td>str</td><td>str</td></tr></thead><tbody><tr><td>&quot;count&quot;</td><td>1433.0</td><td>&quot;1146&quot;</td><td>1146.0</td><td>263.0</td><td>&quot;1146&quot;</td><td>&quot;1146&quot;</td><td>&quot;1146&quot;</td><td>&quot;1146&quot;</td><td>&quot;1146&quot;</td><td>&quot;1146&quot;</td><td>&quot;1146&quot;</td><td>&quot;1146&quot;</td><td>&quot;1146&quot;</td><td>&quot;1146&quot;</td><td>&quot;1146&quot;</td><td>&quot;1146&quot;</td><td>287.0</td><td>&quot;287&quot;</td><td>&quot;287&quot;</td><td>&quot;287&quot;</td><td>&quot;287&quot;</td><td>&quot;287&quot;</td><td>&quot;287&quot;</td><td>&quot;204&quot;</td><td>1433.0</td><td>&quot;1264&quot;</td><td>&quot;1264&quot;</td><td>&quot;1264&quot;</td><td>&quot;1264&quot;</td><td>&quot;1264&quot;</td><td>&quot;1264&quot;</td><td>&quot;1264&quot;</td><td>&quot;1264&quot;</td><td>&quot;1264&quot;</td><td>&quot;1264&quot;</td><td>&quot;1264&quot;</td><td>&quot;1433&quot;</td><td>&quot;1097&quot;</td><td>&quot;1433&quot;</td><td>&quot;1127&quot;</td><td>&quot;1433&quot;</td><td>&quot;1433&quot;</td><td>&quot;1433&quot;</td><td>&quot;1433&quot;</td><td>&quot;774&quot;</td><td>&quot;1433&quot;</td><td>&quot;1433&quot;</td><td>&quot;1433&quot;</td><td>&quot;568&quot;</td><td>&quot;322&quot;</td><td>&quot;1433&quot;</td><td>&quot;711&quot;</td><td>1433.0</td><td>&quot;1433&quot;</td><td>&quot;1433&quot;</td><td>1433.0</td><td>&quot;1432&quot;</td><td>&quot;1433&quot;</td><td>&quot;840&quot;</td><td>&quot;1433&quot;</td><td>&quot;851&quot;</td><td>&quot;1433&quot;</td><td>&quot;1433&quot;</td></tr><tr><td>&quot;null_count&quot;</td><td>0.0</td><td>&quot;287&quot;</td><td>287.0</td><td>1170.0</td><td>&quot;287&quot;</td><td>&quot;287&quot;</td><td>&quot;287&quot;</td><td>&quot;287&quot;</td><td>&quot;287&quot;</td><td>&quot;287&quot;</td><td>&quot;287&quot;</td><td>&quot;287&quot;</td><td>&quot;287&quot;</td><td>&quot;287&quot;</td><td>&quot;287&quot;</td><td>&quot;287&quot;</td><td>1146.0</td><td>&quot;1146&quot;</td><td>&quot;1146&quot;</td><td>&quot;1146&quot;</td><td>&quot;1146&quot;</td><td>&quot;1146&quot;</td><td>&quot;1146&quot;</td><td>&quot;1229&quot;</td><td>0.0</td><td>&quot;169&quot;</td><td>&quot;169&quot;</td><td>&quot;169&quot;</td><td>&quot;169&quot;</td><td>&quot;169&quot;</td><td>&quot;169&quot;</td><td>&quot;169&quot;</td><td>&quot;169&quot;</td><td>&quot;169&quot;</td><td>&quot;169&quot;</td><td>&quot;169&quot;</td><td>&quot;0&quot;</td><td>&quot;336&quot;</td><td>&quot;0&quot;</td><td>&quot;306&quot;</td><td>&quot;0&quot;</td><td>&quot;0&quot;</td><td>&quot;0&quot;</td><td>&quot;0&quot;</td><td>&quot;659&quot;</td><td>&quot;0&quot;</td><td>&quot;0&quot;</td><td>&quot;0&quot;</td><td>&quot;865&quot;</td><td>&quot;1111&quot;</td><td>&quot;0&quot;</td><td>&quot;722&quot;</td><td>0.0</td><td>&quot;0&quot;</td><td>&quot;0&quot;</td><td>0.0</td><td>&quot;1&quot;</td><td>&quot;0&quot;</td><td>&quot;593&quot;</td><td>&quot;0&quot;</td><td>&quot;582&quot;</td><td>&quot;0&quot;</td><td>&quot;0&quot;</td></tr><tr><td>&quot;mean&quot;</td><td>0.200279</td><td>null</td><td>0.770506</td><td>0.942966</td><td>null</td><td>null</td><td>null</td><td>null</td><td>null</td><td>null</td><td>null</td><td>null</td><td>null</td><td>null</td><td>null</td><td>null</td><td>0.644599</td><td>null</td><td>null</td><td>null</td><td>null</td><td>null</td><td>null</td><td>null</td><td>0.882066</td><td>null</td><td>null</td><td>null</td><td>null</td><td>null</td><td>null</td><td>null</td><td>null</td><td>null</td><td>null</td><td>null</td><td>null</td><td>null</td><td>null</td><td>null</td><td>null</td><td>null</td><td>null</td><td>null</td><td>null</td><td>null</td><td>null</td><td>null</td><td>null</td><td>null</td><td>null</td><td>null</td><td>0.585485</td><td>null</td><td>null</td><td>34.286113</td><td>null</td><td>null</td><td>null</td><td>null</td><td>null</td><td>null</td><td>null</td></tr><tr><td>&quot;std&quot;</td><td>0.400349</td><td>null</td><td>0.420691</td><td>0.23235</td><td>null</td><td>null</td><td>null</td><td>null</td><td>null</td><td>null</td><td>null</td><td>null</td><td>null</td><td>null</td><td>null</td><td>null</td><td>0.479471</td><td>null</td><td>null</td><td>null</td><td>null</td><td>null</td><td>null</td><td>null</td><td>0.322643</td><td>null</td><td>null</td><td>null</td><td>null</td><td>null</td><td>null</td><td>null</td><td>null</td><td>null</td><td>null</td><td>null</td><td>null</td><td>null</td><td>null</td><td>null</td><td>null</td><td>null</td><td>null</td><td>null</td><td>null</td><td>null</td><td>null</td><td>null</td><td>null</td><td>null</td><td>null</td><td>null</td><td>0.49281</td><td>null</td><td>null</td><td>11.290931</td><td>null</td><td>null</td><td>null</td><td>null</td><td>null</td><td>null</td><td>null</td></tr><tr><td>&quot;min&quot;</td><td>0.0</td><td>&quot;1-5&quot;</td><td>0.0</td><td>0.0</td><td>&quot;I don&#x27;t know&quot;</td><td>&quot;I am not sure&quot;</td><td>&quot;I don&#x27;t know&quot;</td><td>&quot;I don&#x27;t know&quot;</td><td>&quot;I don&#x27;t know&quot;</td><td>&quot;I don&#x27;t know&quot;</td><td>&quot;Maybe&quot;</td><td>&quot;Maybe&quot;</td><td>&quot;Maybe&quot;</td><td>&quot;Maybe&quot;</td><td>&quot;I don&#x27;t know&quot;</td><td>&quot;No&quot;</td><td>0.0</td><td>&quot;I know some&quot;</td><td>&quot;No, because it doesn&#x27;t matter&quot;</td><td>&quot;I&#x27;m not sure&quot;</td><td>&quot;No, because it doesn&#x27;t matter&quot;</td><td>&quot;I&#x27;m not sure&quot;</td><td>&quot;No&quot;</td><td>&quot;1-25%&quot;</td><td>0.0</td><td>&quot;I don&#x27;t know&quot;</td><td>&quot;I was aware of some&quot;</td><td>&quot;I don&#x27;t know&quot;</td><td>&quot;None did&quot;</td><td>&quot;I don&#x27;t know&quot;</td><td>&quot;I don&#x27;t know&quot;</td><td>&quot;None of them&quot;</td><td>&quot;No, at none of my previous emp…</td><td>&quot;I don&#x27;t know&quot;</td><td>&quot;I don&#x27;t know&quot;</td><td>&quot;None of them&quot;</td><td>&quot;Maybe&quot;</td><td>&quot; Don&#x27;t trust potential employe…</td><td>&quot;Maybe&quot;</td><td>&quot; I don&#x27;t want to poison the we…</td><td>&quot;Maybe&quot;</td><td>&quot;Maybe&quot;</td><td>&quot;Neutral&quot;</td><td>&quot;Maybe/Not sure&quot;</td><td>&quot;Maybe&quot;</td><td>&quot;I don&#x27;t know&quot;</td><td>&quot;Maybe&quot;</td><td>&quot;Maybe&quot;</td><td>&quot;Addictive Disorder&quot;</td><td>&quot;Addictive Disorder&quot;</td><td>&quot;No&quot;</td><td>&quot;ADD (w/o Hyperactivity)&quot;</td><td>0.0</td><td>&quot;Never&quot;</td><td>&quot;Never&quot;</td><td>3.0</td><td>&quot; Female&quot;</td><td>&quot;Afghanistan&quot;</td><td>&quot;Alabama&quot;</td><td>&quot;Afghanistan&quot;</td><td>&quot;Alabama&quot;</td><td>&quot;Back-end Developer&quot;</td><td>&quot;Always&quot;</td></tr><tr><td>&quot;25%&quot;</td><td>0.0</td><td>null</td><td>1.0</td><td>1.0</td><td>null</td><td>null</td><td>null</td><td>null</td><td>null</td><td>null</td><td>null</td><td>null</td><td>null</td><td>null</td><td>null</td><td>null</td><td>0.0</td><td>null</td><td>null</td><td>null</td><td>null</td><td>null</td><td>null</td><td>null</td><td>1.0</td><td>null</td><td>null</td><td>null</td><td>null</td><td>null</td><td>null</td><td>null</td><td>null</td><td>null</td><td>null</td><td>null</td><td>null</td><td>null</td><td>null</td><td>null</td><td>null</td><td>null</td><td>null</td><td>null</td><td>null</td><td>null</td><td>null</td><td>null</td><td>null</td><td>null</td><td>null</td><td>null</td><td>0.0</td><td>null</td><td>null</td><td>28.0</td><td>null</td><td>null</td><td>null</td><td>null</td><td>null</td><td>null</td><td>null</td></tr><tr><td>&quot;50%&quot;</td><td>0.0</td><td>null</td><td>1.0</td><td>1.0</td><td>null</td><td>null</td><td>null</td><td>null</td><td>null</td><td>null</td><td>null</td><td>null</td><td>null</td><td>null</td><td>null</td><td>null</td><td>1.0</td><td>null</td><td>null</td><td>null</td><td>null</td><td>null</td><td>null</td><td>null</td><td>1.0</td><td>null</td><td>null</td><td>null</td><td>null</td><td>null</td><td>null</td><td>null</td><td>null</td><td>null</td><td>null</td><td>null</td><td>null</td><td>null</td><td>null</td><td>null</td><td>null</td><td>null</td><td>null</td><td>null</td><td>null</td><td>null</td><td>null</td><td>null</td><td>null</td><td>null</td><td>null</td><td>null</td><td>1.0</td><td>null</td><td>null</td><td>33.0</td><td>null</td><td>null</td><td>null</td><td>null</td><td>null</td><td>null</td><td>null</td></tr><tr><td>&quot;75%&quot;</td><td>0.0</td><td>null</td><td>1.0</td><td>1.0</td><td>null</td><td>null</td><td>null</td><td>null</td><td>null</td><td>null</td><td>null</td><td>null</td><td>null</td><td>null</td><td>null</td><td>null</td><td>1.0</td><td>null</td><td>null</td><td>null</td><td>null</td><td>null</td><td>null</td><td>null</td><td>1.0</td><td>null</td><td>null</td><td>null</td><td>null</td><td>null</td><td>null</td><td>null</td><td>null</td><td>null</td><td>null</td><td>null</td><td>null</td><td>null</td><td>null</td><td>null</td><td>null</td><td>null</td><td>null</td><td>null</td><td>null</td><td>null</td><td>null</td><td>null</td><td>null</td><td>null</td><td>null</td><td>null</td><td>1.0</td><td>null</td><td>null</td><td>39.0</td><td>null</td><td>null</td><td>null</td><td>null</td><td>null</td><td>null</td><td>null</td></tr><tr><td>&quot;max&quot;</td><td>1.0</td><td>&quot;More than 1000&quot;</td><td>1.0</td><td>1.0</td><td>&quot;Yes&quot;</td><td>&quot;Yes&quot;</td><td>&quot;Yes&quot;</td><td>&quot;Yes&quot;</td><td>&quot;Yes&quot;</td><td>&quot;Very easy&quot;</td><td>&quot;Yes&quot;</td><td>&quot;Yes&quot;</td><td>&quot;Yes&quot;</td><td>&quot;Yes&quot;</td><td>&quot;Yes&quot;</td><td>&quot;Yes&quot;</td><td>1.0</td><td>&quot;Yes, I know several&quot;</td><td>&quot;Yes, always&quot;</td><td>&quot;Yes&quot;</td><td>&quot;Yes, always&quot;</td><td>&quot;Yes&quot;</td><td>&quot;Yes&quot;</td><td>&quot;76-100%&quot;</td><td>1.0</td><td>&quot;Yes, they all did&quot;</td><td>&quot;Yes, I was aware of all of the…</td><td>&quot;Yes, they all did&quot;</td><td>&quot;Yes, they all did&quot;</td><td>&quot;Yes, always&quot;</td><td>&quot;Yes, all of them&quot;</td><td>&quot;Yes, all of them&quot;</td><td>&quot;Yes, at all of my previous emp…</td><td>&quot;Yes, at all of my previous emp…</td><td>&quot;Yes, they all did&quot;</td><td>&quot;Yes, all of them&quot;</td><td>&quot;Yes&quot;</td><td>&quot;xxx&quot;</td><td>&quot;Yes&quot;</td><td>&quot;you never know who is intervie…</td><td>&quot;Yes, it has&quot;</td><td>&quot;Yes, they do&quot;</td><td>&quot;Very open&quot;</td><td>&quot;Yes, I observed&quot;</td><td>&quot;Yes&quot;</td><td>&quot;Yes&quot;</td><td>&quot;Yes&quot;</td><td>&quot;Yes&quot;</td><td>&quot;Traumatic Brain Injury&quot;</td><td>&quot;post-partum / anxiety&quot;</td><td>&quot;Yes&quot;</td><td>&quot;autism spectrum disorder&quot;</td><td>1.0</td><td>&quot;Sometimes&quot;</td><td>&quot;Sometimes&quot;</td><td>323.0</td><td>&quot;woman&quot;</td><td>&quot;Vietnam&quot;</td><td>&quot;Wisconsin&quot;</td><td>&quot;Vietnam&quot;</td><td>&quot;Wisconsin&quot;</td><td>&quot;Support|Sales|Designer&quot;</td><td>&quot;Sometimes&quot;</td></tr></tbody></table></div>"
      ],
      "text/plain": [
       "shape: (9, 64)\n",
       "┌────────────┬──────────────┬──────────────┬──────────────┬───┬──────────────┬─────────────┬─────────────┬─────────────┐\n",
       "│ statistic  ┆ Are you self ┆ How many     ┆ Is your      ┆ … ┆ What country ┆ What US     ┆ Which of    ┆ Do you work │\n",
       "│ ---        ┆ -employed?   ┆ employees    ┆ employer     ┆   ┆ do you work  ┆ state or    ┆ the         ┆ remotely?   │\n",
       "│ str        ┆ ---          ┆ does your c… ┆ primarily a  ┆   ┆ in?          ┆ territory   ┆ following   ┆ ---         │\n",
       "│            ┆ f64          ┆ ---          ┆ t…           ┆   ┆ ---          ┆ do …        ┆ best de…    ┆ str         │\n",
       "│            ┆              ┆ str          ┆ ---          ┆   ┆ str          ┆ ---         ┆ ---         ┆             │\n",
       "│            ┆              ┆              ┆ f64          ┆   ┆              ┆ str         ┆ str         ┆             │\n",
       "╞════════════╪══════════════╪══════════════╪══════════════╪═══╪══════════════╪═════════════╪═════════════╪═════════════╡\n",
       "│ count      ┆ 1433.0       ┆ 1146         ┆ 1146.0       ┆ … ┆ 1433         ┆ 851         ┆ 1433        ┆ 1433        │\n",
       "│ null_count ┆ 0.0          ┆ 287          ┆ 287.0        ┆ … ┆ 0            ┆ 582         ┆ 0           ┆ 0           │\n",
       "│ mean       ┆ 0.200279     ┆ null         ┆ 0.770506     ┆ … ┆ null         ┆ null        ┆ null        ┆ null        │\n",
       "│ std        ┆ 0.400349     ┆ null         ┆ 0.420691     ┆ … ┆ null         ┆ null        ┆ null        ┆ null        │\n",
       "│ min        ┆ 0.0          ┆ 1-5          ┆ 0.0          ┆ … ┆ Afghanistan  ┆ Alabama     ┆ Back-end    ┆ Always      │\n",
       "│            ┆              ┆              ┆              ┆   ┆              ┆             ┆ Developer   ┆             │\n",
       "│ 25%        ┆ 0.0          ┆ null         ┆ 1.0          ┆ … ┆ null         ┆ null        ┆ null        ┆ null        │\n",
       "│ 50%        ┆ 0.0          ┆ null         ┆ 1.0          ┆ … ┆ null         ┆ null        ┆ null        ┆ null        │\n",
       "│ 75%        ┆ 0.0          ┆ null         ┆ 1.0          ┆ … ┆ null         ┆ null        ┆ null        ┆ null        │\n",
       "│ max        ┆ 1.0          ┆ More than    ┆ 1.0          ┆ … ┆ Vietnam      ┆ Wisconsin   ┆ Support|Sal ┆ Sometimes   │\n",
       "│            ┆              ┆ 1000         ┆              ┆   ┆              ┆             ┆ es|Designer ┆             │\n",
       "└────────────┴──────────────┴──────────────┴──────────────┴───┴──────────────┴─────────────┴─────────────┴─────────────┘"
      ]
     },
     "execution_count": 4,
     "metadata": {},
     "output_type": "execute_result"
    }
   ],
   "source": [
    "# Get insights into Statistics. DF too large for useful information\n",
    "df_csv.describe()"
   ]
  },
  {
   "cell_type": "code",
   "execution_count": 5,
   "id": "8a433d65-baa2-41d4-9948-56f3afb14cf5",
   "metadata": {},
   "outputs": [
    {
     "name": "stdout",
     "output_type": "stream",
     "text": [
      "Rows: 1433\n",
      "Columns: 63\n",
      "$ Are you self-employed?                             <i64> 0, 0, 0, 1, 0, 0, 0, 0, 0, 1\n",
      "$ How many employees does your company or organizat… <str> '26-100', '6-25', '6-25', None, '6-25', 'More than 1000', '26-100', 'More than 1000', '26-100', None\n",
      "$ Is your employer primarily a tech company/organiz… <i64> 1, 1, 1, None, 0, 1, 1, 1, 0, None\n",
      "$ Is your primary role within your company related … <i64> None, None, None, None, 1, None, None, None, 1, None\n",
      "$ Does your employer provide mental health benefits… <str> 'Not eligible for coverage / N/A', 'No', 'No', None, 'Yes', 'Yes', \"I don't know\", 'Yes', \"I don't know\", None\n",
      "$ Do you know the options for mental health care av… <str> 'N/A', 'Yes', 'N/A', None, 'Yes', 'I am not sure', 'No', 'Yes', 'No', None\n",
      "$ Has your employer ever formally discussed mental … <str> 'No', 'Yes', 'No', None, 'No', 'No', 'No', 'No', 'No', None\n",
      "$ Does your employer offer resources to learn more … <str> 'No', 'Yes', 'No', None, 'No', 'Yes', 'No', 'Yes', 'No', None\n",
      "$ Is your anonymity protected if you choose to take… <str> \"I don't know\", 'Yes', \"I don't know\", None, 'No', 'Yes', \"I don't know\", 'Yes', \"I don't know\", None\n",
      "$ If a mental health issue prompted you to request … <str> 'Very easy', 'Somewhat easy', 'Neither easy nor difficult', None, 'Neither easy nor difficult', 'Somewhat easy', 'Somewhat easy', 'Very easy', 'Very difficult', None\n",
      "$ Do you think that discussing a mental health diso… <str> 'No', 'No', 'Maybe', None, 'Yes', 'Yes', 'No', 'No', 'Yes', None\n",
      "$ Do you think that discussing a physical health is… <str> 'No', 'No', 'No', None, 'Maybe', 'Yes', 'No', 'No', 'Yes', None\n",
      "$ Would you feel comfortable discussing a mental he… <str> 'Maybe', 'Maybe', 'Maybe', None, 'Maybe', 'Maybe', 'Maybe', 'Maybe', 'Yes', None\n",
      "$ Would you feel comfortable discussing a mental he… <str> 'Yes', 'Yes', 'Maybe', None, 'No', 'Yes', 'Yes', 'Yes', 'Maybe', None\n",
      "$ Do you feel that your employer takes mental healt… <str> \"I don't know\", 'Yes', \"I don't know\", None, 'No', 'No', 'Yes', \"I don't know\", 'No', None\n",
      "$ Have you heard of or observed negative consequenc… <str> 'No', 'No', 'No', None, 'No', 'Yes', 'No', 'No', 'No', None\n",
      "$ Do you have medical coverage (private insurance o… <i64> None, None, None, 1, None, None, None, None, None, 1\n",
      "$ Do you know local or online resources to seek hel… <str> None, None, None, 'Yes, I know several', None, None, None, None, None, 'I know some'\n",
      "$ If you have been diagnosed or treated for a menta… <str> None, None, None, 'Sometimes, if it comes up', None, None, None, None, None, \"No, because it doesn't matter\"\n",
      "$ If you have revealed a mental health issue to a c… <str> None, None, None, \"I'm not sure\", None, None, None, None, None, 'N/A'\n",
      "$ If you have been diagnosed or treated for a menta… <str> None, None, None, 'Sometimes, if it comes up', None, None, None, None, None, 'Sometimes, if it comes up'\n",
      "$ If you have revealed a mental health issue to a c… <str> None, None, None, \"I'm not sure\", None, None, None, None, None, 'No'\n",
      "$ Do you believe your productivity is ever affected… <str> None, None, None, 'Yes', None, None, None, None, None, 'Yes'\n",
      "$ If yes, what percentage of your work time (time p… <str> None, None, None, '1-25%', None, None, None, None, None, '1-25%'\n",
      "$ Do you have previous employers?                    <i64> 1, 1, 1, 1, 1, 1, 1, 1, 1, 1\n",
      "$ Have your previous employers provided mental heal… <str> 'No, none did', 'Yes, they all did', 'No, none did', 'Some did', \"I don't know\", 'No, none did', 'Some did', 'Some did', \"I don't know\", 'Some did'\n",
      "$ Were you aware of the options for mental health c… <str> 'N/A (not currently aware)', 'I was aware of some', 'N/A (not currently aware)', 'N/A (not currently aware)', 'N/A (not currently aware)', 'Yes, I was aware of all of them', 'I was aware of some', 'I was aware of some', 'N/A (not currently aware)', 'I was aware of some'\n",
      "$ Did your previous employers ever formally discuss… <str> \"I don't know\", 'None did', 'None did', 'None did', 'Some did', 'None did', 'None did', 'Some did', 'Some did', 'None did'\n",
      "$ Did your previous employers provide resources to … <str> 'None did', 'Some did', 'Some did', 'None did', 'None did', 'None did', 'Some did', 'Some did', 'None did', 'None did'\n",
      "$ Was your anonymity protected if you chose to take… <str> \"I don't know\", 'Yes, always', \"I don't know\", \"I don't know\", \"I don't know\", \"I don't know\", \"I don't know\", 'Sometimes', \"I don't know\", \"I don't know\"\n",
      "$ Do you think that discussing a mental health diso… <str> 'Some of them', 'None of them', \"I don't know\", 'Some of them', 'Some of them', 'Yes, all of them', 'None of them', 'Some of them', 'Yes, all of them', 'Some of them'\n",
      "$ Do you think that discussing a physical health is… <str> 'None of them', 'None of them', 'Some of them', 'Some of them', 'Some of them', 'Some of them', 'None of them', 'Some of them', 'Yes, all of them', 'Some of them'\n",
      "$ Would you have been willing to discuss a mental h… <str> 'Some of my previous employers', 'No, at none of my previous employers', 'Some of my previous employers', 'Some of my previous employers', 'No, at none of my previous employers', 'No, at none of my previous employers', 'Some of my previous employers', 'Some of my previous employers', 'No, at none of my previous employers', 'Some of my previous employers'\n",
      "$ Would you have been willing to discuss a mental h… <str> 'Some of my previous employers', 'Some of my previous employers', \"I don't know\", 'Some of my previous employers', 'Some of my previous employers', 'No, at none of my previous employers', 'Yes, at all of my previous employers', 'Some of my previous employers', 'No, at none of my previous employers', 'Some of my previous employers'\n",
      "$ Did you feel that your previous employers took me… <str> \"I don't know\", 'Some did', \"I don't know\", \"I don't know\", 'Some did', 'None did', 'Some did', 'Some did', 'None did', \"I don't know\"\n",
      "$ Did you hear of or observe negative consequences … <str> 'None of them', 'None of them', 'Some of them', 'Some of them', 'Some of them', 'Some of them', 'None of them', 'Some of them', 'None of them', 'None of them'\n",
      "$ Would you be willing to bring up a physical healt… <str> 'Maybe', 'Maybe', 'Yes', 'Yes', 'Maybe', 'Yes', 'Yes', 'No', 'Maybe', 'Yes'\n",
      "$ Why or why not?                                    <str> None, 'It would depend on the health issue. If there is a health issue that would not immediately affect my job performance, such as diabetes, I would not bring it up during the interview. If it was something more severe, such as narcolepsy, I might bring it up depending on how controlled it was.', 'They would provable need to know, to Judge if I can do my job or not. ', \"old back injury, doesn't cause me many issues but occasionally impacts my ability to work at desk \", 'Depending on the interview stage and whether I required an accommodation, I would', 'If it would potentially affect my ability to do the job or might require special equipment/etc then it would only be fair and honest.', 'I want to gauge their ability to support this issue.', \"I feel it's irrelevant.\", 'Makes me a less attractive candidate.', \"Generally speaking, and this isn't always the case, physical health issues don't carry the same stigma as mental ones.\"\n",
      "$ Would you bring up a mental health issue with a p… <str> 'Maybe', 'No', 'Yes', 'Maybe', 'No', 'Maybe', 'Yes', 'No', 'Maybe', 'Maybe'\n",
      "$ Why or why not?_duplicated_0                       <str> None, 'While mental health has become a more prominent issue recently, I feel like there is still a lot of stigma surrounding it. At this point, with our culture, I would not bring it up. I hope that within the next 20-30 years that stigma will be gone and it can be brought up safely in an interview.', 'Stigma, mainly. ', 'would not if I was not 100% sure that the disclosure would not affect my application', \"I don't know\", 'It would depend on the field & what I knew of the employer.', 'I want to gauge their ability to support, understand and empathize with my situation.', 'Same reason.', 'Only if I felt I required accommodation. Even then, reluctantly because it makes me a less attractive candidate.', 'It really depends on the person, the employer, and how comfortable I felt discussing the issue.'\n",
      "$ Do you feel that being identified as a person wit… <str> 'Maybe', \"No, I don't think it would\", 'Maybe', 'Yes, I think it would', 'Yes, I think it would', 'Yes, I think it would', 'Yes, I think it would', 'Maybe', 'Maybe', 'Maybe'\n",
      "$ Do you think that team members/co-workers would v… <str> \"No, I don't think they would\", \"No, I don't think they would\", 'Maybe', 'Maybe', 'Maybe', 'Maybe', \"No, I don't think they would\", 'Maybe', 'Yes, they do', \"No, I don't think they would\"\n",
      "$ How willing would you be to share with friends an… <str> 'Somewhat open', 'Somewhat open', 'Somewhat open', 'Neutral', 'Somewhat open', 'Somewhat open', 'Not applicable to me (I do not have a mental illness)', 'Somewhat open', 'Somewhat open', 'Very open'\n",
      "$ Have you observed or experienced an unsupportive … <str> 'No', 'No', 'Maybe/Not sure', 'No', 'Yes, I experienced', 'Yes, I experienced', 'No', 'Yes, I observed', 'Yes, I observed', 'No'\n",
      "$ Have your observations of how another individual … <str> None, None, 'Yes', None, 'Yes', 'No', None, 'Maybe', 'No', None\n",
      "$ Do you have a family history of mental illness?    <str> 'No', 'Yes', 'No', 'No', 'Yes', 'No', 'No', 'Yes', 'Yes', 'Yes'\n",
      "$ Have you had a mental health disorder in the past? <str> 'Yes', 'Yes', 'Maybe', 'Yes', 'Yes', 'No', 'No', 'Yes', 'Yes', 'Yes'\n",
      "$ Do you currently have a mental health disorder?    <str> 'No', 'Yes', 'No', 'Yes', 'Yes', 'Yes', 'No', 'Yes', 'Yes', 'Yes'\n",
      "$ If yes, what condition(s) have you been diagnosed… <str> None, 'Anxiety Disorder (Generalized, Social, Phobia, etc)|Mood Disorder (Depression, Bipolar Disorder, etc)', None, 'Anxiety Disorder (Generalized, Social, Phobia, etc)|Mood Disorder (Depression, Bipolar Disorder, etc)', 'Anxiety Disorder (Generalized, Social, Phobia, etc)|Stress Response Syndromes', 'Anxiety Disorder (Generalized, Social, Phobia, etc)|Stress Response Syndromes|Substance Use Disorder', None, 'Anxiety Disorder (Generalized, Social, Phobia, etc)|Substance Use Disorder', 'Mood Disorder (Depression, Bipolar Disorder, etc)', 'Anxiety Disorder (Generalized, Social, Phobia, etc)|Mood Disorder (Depression, Bipolar Disorder, etc)'\n",
      "$ If maybe, what condition(s) do you believe you ha… <str> None, None, None, None, None, None, None, None, None, None\n",
      "$ Have you been diagnosed with a mental health cond… <str> 'Yes', 'Yes', 'No', 'Yes', 'Yes', 'No', 'No', 'Yes', 'Yes', 'Yes'\n",
      "$ If so, what condition(s) were you diagnosed with?  <str> 'Anxiety Disorder (Generalized, Social, Phobia, etc)', 'Anxiety Disorder (Generalized, Social, Phobia, etc)|Mood Disorder (Depression, Bipolar Disorder, etc)', None, 'Anxiety Disorder (Generalized, Social, Phobia, etc)|Mood Disorder (Depression, Bipolar Disorder, etc)', 'Anxiety Disorder (Generalized, Social, Phobia, etc)', None, None, 'Anxiety Disorder (Generalized, Social, Phobia, etc)|Substance Use Disorder', 'Mood Disorder (Depression, Bipolar Disorder, etc)', 'Anxiety Disorder (Generalized, Social, Phobia, etc)|Mood Disorder (Depression, Bipolar Disorder, etc)'\n",
      "$ Have you ever sought treatment for a mental healt… <i64> 0, 1, 1, 1, 1, 1, 0, 1, 1, 1\n",
      "$ If you have a mental health issue, do you feel th… <str> 'Not applicable to me', 'Rarely', 'Not applicable to me', 'Sometimes', 'Sometimes', 'Not applicable to me', 'Not applicable to me', 'Sometimes', 'Rarely', 'Rarely'\n",
      "$ If you have a mental health issue, do you feel th… <str> 'Not applicable to me', 'Sometimes', 'Not applicable to me', 'Sometimes', 'Sometimes', 'Often', 'Not applicable to me', 'Often', 'Often', 'Often'\n",
      "$ What is your age?                                  <i64> 39, 29, 38, 43, 43, 42, 30, 37, 44, 30\n",
      "$ What is your gender?                               <str> 'Male', 'male', 'Male ', 'male', 'Female', 'Male', 'M', 'female', 'Female', 'Male'\n",
      "$ What country do you live in?                       <str> 'United Kingdom', 'United States of America', 'United Kingdom', 'United Kingdom', 'United States of America', 'United Kingdom', 'United States of America', 'United States of America', 'United States of America', 'United States of America'\n",
      "$ What US state or territory do you live in?         <str> None, 'Illinois', None, None, 'Illinois', None, 'Tennessee', 'Virginia', 'California', 'Kentucky'\n",
      "$ What country do you work in?                       <str> 'United Kingdom', 'United States of America', 'United Kingdom', 'United Kingdom', 'United States of America', 'United Kingdom', 'United States of America', 'United States of America', 'United States of America', 'United States of America'\n",
      "$ What US state or territory do you work in?         <str> None, 'Illinois', None, None, 'Illinois', None, 'Tennessee', 'Virginia', 'California', 'Kentucky'\n",
      "$ Which of the following best describes your work p… <str> 'Back-end Developer', 'Back-end Developer|Front-end Developer', 'Back-end Developer', 'Supervisor/Team Lead', 'Executive Leadership|Supervisor/Team Lead|Dev Evangelist/Advocate|DevOps/SysAdmin|Support|Back-end Developer|Front-end Developer', 'DevOps/SysAdmin|Support|Back-end Developer|Front-end Developer|Designer', 'Back-end Developer', 'Dev Evangelist/Advocate|Back-end Developer', 'Support|Back-end Developer|One-person shop', 'One-person shop|Front-end Developer|Back-end Developer'\n",
      "$ Do you work remotely?                              <str> 'Sometimes', 'Never', 'Always', 'Sometimes', 'Sometimes', 'Sometimes', 'Sometimes', 'Always', 'Sometimes', 'Always'\n",
      "\n"
     ]
    }
   ],
   "source": [
    "# First look at a couple of entries\n",
    "df_csv.glimpse(max_items_per_column=10)\n",
    "# Insights include: Some Categoricals are 0,1 even though it could be yes or no, some questions are for self-employed which can be dropped\n",
    "# Column names are hard to work with and need to be renamed\n",
    "# Lots of textual data, needs unicode normalization and natural language processing (?TF-IDF?)\n",
    "# Imputation necessary for Null values"
   ]
  },
  {
   "cell_type": "code",
   "execution_count": 6,
   "id": "06977c97-55af-42ac-b8a0-04fa5d7cb131",
   "metadata": {},
   "outputs": [
    {
     "data": {
      "text/html": [
       "<div><style>\n",
       ".dataframe > thead > tr,\n",
       ".dataframe > tbody > tr {\n",
       "  text-align: right;\n",
       "  white-space: pre-wrap;\n",
       "}\n",
       "</style>\n",
       "<small>shape: (840, 1)</small><table border=\"1\" class=\"dataframe\"><thead><tr><th>What country do you live in?</th></tr><tr><td>bool</td></tr></thead><tbody><tr><td>true</td></tr><tr><td>true</td></tr><tr><td>true</td></tr><tr><td>true</td></tr><tr><td>true</td></tr><tr><td>&hellip;</td></tr><tr><td>true</td></tr><tr><td>true</td></tr><tr><td>true</td></tr><tr><td>true</td></tr><tr><td>true</td></tr></tbody></table></div>"
      ],
      "text/plain": [
       "shape: (840, 1)\n",
       "┌──────────────────────────────┐\n",
       "│ What country do you live in? │\n",
       "│ ---                          │\n",
       "│ bool                         │\n",
       "╞══════════════════════════════╡\n",
       "│ true                         │\n",
       "│ true                         │\n",
       "│ true                         │\n",
       "│ true                         │\n",
       "│ true                         │\n",
       "│ …                            │\n",
       "│ true                         │\n",
       "│ true                         │\n",
       "│ true                         │\n",
       "│ true                         │\n",
       "│ true                         │\n",
       "└──────────────────────────────┘"
      ]
     },
     "execution_count": 6,
     "metadata": {},
     "output_type": "execute_result"
    }
   ],
   "source": [
    "# Investigate the amount of USA workers\n",
    "# 840 is 59%\n",
    "# Quick win could be visualization of which countires have the most diagnosis vs the most perceived mental health issues\n",
    "# More in depth could be which states have the most mental health issues\n",
    "# For this although you should investigate some percentages instead of absolute values because that could be tricky\n",
    "df_csv.select(pl.col(\"What country do you live in?\") == \"United States of America\").filter(pl.col(\"What country do you live in?\") == True)"
   ]
  },
  {
   "cell_type": "code",
   "execution_count": 7,
   "id": "f9cffb5d-d6da-49c4-9eff-a6ad570f9339",
   "metadata": {},
   "outputs": [],
   "source": [
    "# Unicode normalization to prevent major difficulties with any weird strings\n",
    "string_df = df_csv.select(pl.col(pl.String))\n",
    "\n",
    "df_normalized = df_csv.with_columns(\n",
    "    df_csv.select(pl.col(pl.String).map_elements(lambda x : unicodedata.normalize(\"NFD\" , str(x)) , return_dtype=pl.String))\n",
    ")\n",
    "\n",
    "df = df_normalized.with_columns(\n",
    "    df_normalized.select(pl.col(pl.String).map_elements(lambda x : unicodedata.normalize(\"NFC\" , str(x)) , return_dtype=pl.String))\n",
    ")"
   ]
  },
  {
   "cell_type": "code",
   "execution_count": null,
   "id": "f9668120-c74e-4ebc-b85a-6513fef63eb6",
   "metadata": {},
   "outputs": [],
   "source": []
  },
  {
   "cell_type": "code",
   "execution_count": 8,
   "id": "b016fcff-d8bd-4882-87f6-9e2a5a33d4ea",
   "metadata": {},
   "outputs": [],
   "source": [
    "# Here we rename the columns\n",
    "# Create a list of all column names to preserve the originals for later\n",
    "col_names = df.columns\n",
    "\n",
    "# Dictionary to rename columns\n",
    "new_names = { \"Are you self-employed?\" : \"self-employed_indic\" ,\n",
    "             \"How many employees does your company or organization have?\" : \"comp_size\" ,\n",
    "             \"Is your employer primarily a tech company/organization?\" : \"tech_comp_indic\" ,\n",
    "             \"Is your primary role within your company related to tech/IT?\" : \"tech_role_indic\",\n",
    "             \"Does your employer provide mental health benefits as part of healthcare coverage?\" : \"availability_of_benefits\" ,\n",
    "             \"Do you know the options for mental health care available under your employer-provided coverage?\" : \"awareness_of_benefits\" , \n",
    "             \"Has your employer ever formally discussed mental health (for example, as part of a wellness campaign or other official communication)?\" : \"mh_discussion_indic\" ,\n",
    "             \"Does your employer offer resources to learn more about mental health concerns and options for seeking help?\" : \"mh_resources_availability_indic\" ,\n",
    "             \"Is your anonymity protected if you choose to take advantage of mental health or substance abuse treatment resources provided by your employer?\" : \"anonym_use_benefit_indic\" ,\n",
    "             \"If a mental health issue prompted you to request a medical leave from work, asking for that leave would be:\" : \"sick_leave_difficulty\" ,\n",
    "             \"Do you think that discussing a mental health disorder with your employer would have negative consequences?\" : \"neg_consequences_discussing_mh\" ,\n",
    "             \"Do you think that discussing a physical health issue with your employer would have negative consequences?\" : \"neg_consequences_discussing_ph\" ,\n",
    "             \"Would you feel comfortable discussing a mental health disorder with your coworkers?\" : \"comf_discussing_mh_with_coworker_indic\" ,\n",
    "             \"Would you feel comfortable discussing a mental health disorder with your direct supervisor(s)?\" : \"comf_discussing_mnh_with_supervisor_indic\" ,\n",
    "             \"Do you feel that your employer takes mental health as seriously as physical health?\" : \"employer_importance_mh_vs_ph\" ,\n",
    "             \"Have you heard of or observed negative consequences for co-workers who have been open about mental health issues in your workplace?\" : \"known_neg_consequences_of_mh\" ,\n",
    "             \"Do you have medical coverage (private insurance or state-provided) which includes treatment of \\xa0mental health issues?\" : \"med_coverage_mh_indic\" ,\n",
    "             \"Do you know local or online resources to seek help for a mental health disorder?\" : \"known_mh_sources\" ,\n",
    "             \"If you have been diagnosed or treated for a mental health disorder, do you ever reveal this to clients or business contacts?\" : \"mention_mh_to_clients\" ,\n",
    "             \"If you have revealed a mental health issue to a client or business contact, do you believe this has impacted you negatively?\" : \"neg_impact_of_reveal_to_client_of_mh\" ,\n",
    "             \"If you have been diagnosed or treated for a mental health disorder, do you ever reveal this to coworkers or employees?\" : \"mention_mh_to_employees\" ,\n",
    "             \"If you have revealed a mental health issue to a coworker or employee, do you believe this has impacted you negatively?\" : \"neg_impact_of_reveal_to_employee_of_mh\" ,\n",
    "             \"Do you believe your productivity is ever affected by a mental health issue?\" : \"productivity_effect_of_mh\" ,\n",
    "             \"If yes, what percentage of your work time (time performing primary or secondary job functions) is affected by a mental health issue?\" : \"time_effect_of_mh\" ,\n",
    "             \"Do you have previous employers?\" : \"prev_employers\" ,\n",
    "             \"Have your previous employers provided mental health benefits?\" : \"availability_of_benefits_prev_employer\" , \n",
    "             \"Were you aware of the options for mental health care provided by your previous employers?\" : \"awareness_of_benefits_prev_employer\" ,\n",
    "             \"Did your previous employers ever formally discuss mental health (as part of a wellness campaign or other official communication)?\" : \"mh_discussion_indic_prev_employer\" ,\n",
    "             \"Did your previous employers provide resources to learn more about mental health issues and how to seek help?\" : \"mh_resources_availability_indic_prev_employer\" ,\n",
    "             \"Was your anonymity protected if you chose to take advantage of mental health or substance abuse treatment resources with previous employers?\" : \"anonym_use_benefit_indic_prev_employer\" ,\n",
    "             \"Do you think that discussing a mental health disorder with previous employers would have negative consequences?\" : \"neg_consequences_discussing_mh_prev_employer\" , \n",
    "             \"Do you think that discussing a physical health issue with previous employers would have negative consequences?\" : \"neg_consequences_discussing_ph_prev_employer\" ,\n",
    "             \"Would you have been willing to discuss a mental health issue with your previous co-workers?\" : \"comf_discussing_mh_with_coworker_prev_employer\" ,\n",
    "             \"Would you have been willing to discuss a mental health issue with your direct supervisor(s)?\" : \"comf_discussing_mnh_with_supervisor_prev_employer\" ,\n",
    "             \"Did you feel that your previous employers took mental health as seriously as physical health?\" : \"employer_importance_mh_vs_ph_prev_employer\" ,\n",
    "             \"Did you hear of or observe negative consequences for co-workers with mental health issues in your previous workplaces?\" : \"known_neg_consequences_of_mh_prev_employer\" ,\n",
    "             \"Would you be willing to bring up a physical health issue with a potential employer in an interview?\" : \"willing_discuss_ph_in_hiring_interview\" ,\n",
    "             \"Why or why not?\" : \"why_why_not_1\" ,\n",
    "             \"Would you bring up a mental health issue with a potential employer in an interview?\" : \"willing_discuss_mh_in_hiring_interview\" ,\n",
    "             \"Why or why not?2\" : \"why_why_not_2\" ,\n",
    "             \"Do you feel that being identified as a person with a mental health issue would hurt your career?\" : \"percevied_neg_impact_carreer_of_mh\" ,\n",
    "             \"Do you think that team members/co-workers would view you more negatively if they knew you suffered from a mental health issue?\" : \"perceived_neg_impact_coworker_opiniton_of_mh\" ,\n",
    "             \"How willing would you be to share with friends and family that you have a mental illness?\" : \"willingness_to_share_with_friend_family\" ,\n",
    "             \"Have you observed or experienced an unsupportive or badly handled response to a mental health issue in your current or previous workplace?\" : \"neg_response_to_mh\" ,\n",
    "             \"Have your observations of how another individual who discussed a mental health disorder made you less likely to reveal a mental health issue yourself in your current workplace?\" : \"willingness_to_share_mh_after_observation\" ,\n",
    "             \"Do you have a family history of mental illness?\" : \"mh_family_hist\" ,\n",
    "             \"Have you had a mental health disorder in the past?\" : \"previous_mh\" ,\n",
    "             \"Do you currently have a mental health disorder?\" : \"current_mh\" ,\n",
    "             \"If yes, what condition(s) have you been diagnosed with?\" :  \"diagnosis_name_condition\" ,\n",
    "             \"If maybe, what condition(s) do you believe you have?\" : \"believed_name_condiiton\" ,\n",
    "             \"Have you been diagnosed with a mental health condition by a medical professional?\" : \"diagnosis_professional\" ,\n",
    "             \"If so, what condition(s) were you diagnosed with?\" : \"diagnosis_name_professional_condition\" ,\n",
    "             \"Have you ever sought treatment for a mental health issue from a mental health professional?\" : \"used_therapy\" ,\n",
    "             \"If you have a mental health issue, do you feel that it interferes with your work when being treated effectively?\" : \"interference_mh_treated_with_work\" ,\n",
    "             \"If you have a mental health issue, do you feel that it interferes with your work when NOT being treated effectively?\" : \"interference_mh_untreated_with_work\" ,\n",
    "             \"What is your age?\" : \"age\" ,\n",
    "             \"What is your gender?\" : \"gender\" ,\n",
    "             \"What country do you live in?\" : \"country_residency\" ,\n",
    "             \"What US state or territory do you live in?\" : \"usa_state_residency\" ,\n",
    "             \"What country do you work in?\" : \"country_work\" ,\n",
    "             \"What US state or territory do you work in?\" : \"usa_state_work\" ,\n",
    "             \"Which of the following best describes your work position?\" : \"job_title\" ,\n",
    "             \"Do you work remotely?\" : \"remote\" ,\n",
    "            }\n",
    "\n",
    "# Rename the keys in the dictionary with the names of the original DataFrame. This has to be done because I copied the titles from excel which was stupid and I made a mistake\n",
    "new_names = dict((col_names[list(new_names.keys()).index(key)], value) for key, value in new_names.items())\n",
    "df = df.rename(new_names).with_row_index(\"index\")"
   ]
  },
  {
   "cell_type": "code",
   "execution_count": 9,
   "id": "f5c4f3bf-83f7-4038-b418-724e3d4756a4",
   "metadata": {},
   "outputs": [
    {
     "name": "stdout",
     "output_type": "stream",
     "text": [
      "Rows: 1433\n",
      "Columns: 64\n",
      "$ index                                             <u32> 0, 1, 2, 3, 4, 5, 6, 7, 8, 9\n",
      "$ self-employed_indic                               <i64> 0, 0, 0, 1, 0, 0, 0, 0, 0, 1\n",
      "$ comp_size                                         <str> '26-100', '6-25', '6-25', None, '6-25', 'More than 1000', '26-100', 'More than 1000', '26-100', None\n",
      "$ tech_comp_indic                                   <i64> 1, 1, 1, None, 0, 1, 1, 1, 0, None\n",
      "$ tech_role_indic                                   <i64> None, None, None, None, 1, None, None, None, 1, None\n",
      "$ availability_of_benefits                          <str> 'Not eligible for coverage / N/A', 'No', 'No', None, 'Yes', 'Yes', \"I don't know\", 'Yes', \"I don't know\", None\n",
      "$ awareness_of_benefits                             <str> 'N/A', 'Yes', 'N/A', None, 'Yes', 'I am not sure', 'No', 'Yes', 'No', None\n",
      "$ mh_discussion_indic                               <str> 'No', 'Yes', 'No', None, 'No', 'No', 'No', 'No', 'No', None\n",
      "$ mh_resources_availability_indic                   <str> 'No', 'Yes', 'No', None, 'No', 'Yes', 'No', 'Yes', 'No', None\n",
      "$ anonym_use_benefit_indic                          <str> \"I don't know\", 'Yes', \"I don't know\", None, 'No', 'Yes', \"I don't know\", 'Yes', \"I don't know\", None\n",
      "$ sick_leave_difficulty                             <str> 'Very easy', 'Somewhat easy', 'Neither easy nor difficult', None, 'Neither easy nor difficult', 'Somewhat easy', 'Somewhat easy', 'Very easy', 'Very difficult', None\n",
      "$ neg_consequences_discussing_mh                    <str> 'No', 'No', 'Maybe', None, 'Yes', 'Yes', 'No', 'No', 'Yes', None\n",
      "$ neg_consequences_discussing_ph                    <str> 'No', 'No', 'No', None, 'Maybe', 'Yes', 'No', 'No', 'Yes', None\n",
      "$ comf_discussing_mh_with_coworker_indic            <str> 'Maybe', 'Maybe', 'Maybe', None, 'Maybe', 'Maybe', 'Maybe', 'Maybe', 'Yes', None\n",
      "$ comf_discussing_mnh_with_supervisor_indic         <str> 'Yes', 'Yes', 'Maybe', None, 'No', 'Yes', 'Yes', 'Yes', 'Maybe', None\n",
      "$ employer_importance_mh_vs_ph                      <str> \"I don't know\", 'Yes', \"I don't know\", None, 'No', 'No', 'Yes', \"I don't know\", 'No', None\n",
      "$ known_neg_consequences_of_mh                      <str> 'No', 'No', 'No', None, 'No', 'Yes', 'No', 'No', 'No', None\n",
      "$ med_coverage_mh_indic                             <i64> None, None, None, 1, None, None, None, None, None, 1\n",
      "$ known_mh_sources                                  <str> None, None, None, 'Yes, I know several', None, None, None, None, None, 'I know some'\n",
      "$ mention_mh_to_clients                             <str> None, None, None, 'Sometimes, if it comes up', None, None, None, None, None, \"No, because it doesn't matter\"\n",
      "$ neg_impact_of_reveal_to_client_of_mh              <str> None, None, None, \"I'm not sure\", None, None, None, None, None, 'N/A'\n",
      "$ mention_mh_to_employees                           <str> None, None, None, 'Sometimes, if it comes up', None, None, None, None, None, 'Sometimes, if it comes up'\n",
      "$ neg_impact_of_reveal_to_employee_of_mh            <str> None, None, None, \"I'm not sure\", None, None, None, None, None, 'No'\n",
      "$ productivity_effect_of_mh                         <str> None, None, None, 'Yes', None, None, None, None, None, 'Yes'\n",
      "$ time_effect_of_mh                                 <str> None, None, None, '1-25%', None, None, None, None, None, '1-25%'\n",
      "$ prev_employers                                    <i64> 1, 1, 1, 1, 1, 1, 1, 1, 1, 1\n",
      "$ availability_of_benefits_prev_employer            <str> 'No, none did', 'Yes, they all did', 'No, none did', 'Some did', \"I don't know\", 'No, none did', 'Some did', 'Some did', \"I don't know\", 'Some did'\n",
      "$ awareness_of_benefits_prev_employer               <str> 'N/A (not currently aware)', 'I was aware of some', 'N/A (not currently aware)', 'N/A (not currently aware)', 'N/A (not currently aware)', 'Yes, I was aware of all of them', 'I was aware of some', 'I was aware of some', 'N/A (not currently aware)', 'I was aware of some'\n",
      "$ mh_discussion_indic_prev_employer                 <str> \"I don't know\", 'None did', 'None did', 'None did', 'Some did', 'None did', 'None did', 'Some did', 'Some did', 'None did'\n",
      "$ mh_resources_availability_indic_prev_employer     <str> 'None did', 'Some did', 'Some did', 'None did', 'None did', 'None did', 'Some did', 'Some did', 'None did', 'None did'\n",
      "$ anonym_use_benefit_indic_prev_employer            <str> \"I don't know\", 'Yes, always', \"I don't know\", \"I don't know\", \"I don't know\", \"I don't know\", \"I don't know\", 'Sometimes', \"I don't know\", \"I don't know\"\n",
      "$ neg_consequences_discussing_mh_prev_employer      <str> 'Some of them', 'None of them', \"I don't know\", 'Some of them', 'Some of them', 'Yes, all of them', 'None of them', 'Some of them', 'Yes, all of them', 'Some of them'\n",
      "$ neg_consequences_discussing_ph_prev_employer      <str> 'None of them', 'None of them', 'Some of them', 'Some of them', 'Some of them', 'Some of them', 'None of them', 'Some of them', 'Yes, all of them', 'Some of them'\n",
      "$ comf_discussing_mh_with_coworker_prev_employer    <str> 'Some of my previous employers', 'No, at none of my previous employers', 'Some of my previous employers', 'Some of my previous employers', 'No, at none of my previous employers', 'No, at none of my previous employers', 'Some of my previous employers', 'Some of my previous employers', 'No, at none of my previous employers', 'Some of my previous employers'\n",
      "$ comf_discussing_mnh_with_supervisor_prev_employer <str> 'Some of my previous employers', 'Some of my previous employers', \"I don't know\", 'Some of my previous employers', 'Some of my previous employers', 'No, at none of my previous employers', 'Yes, at all of my previous employers', 'Some of my previous employers', 'No, at none of my previous employers', 'Some of my previous employers'\n",
      "$ employer_importance_mh_vs_ph_prev_employer        <str> \"I don't know\", 'Some did', \"I don't know\", \"I don't know\", 'Some did', 'None did', 'Some did', 'Some did', 'None did', \"I don't know\"\n",
      "$ known_neg_consequences_of_mh_prev_employer        <str> 'None of them', 'None of them', 'Some of them', 'Some of them', 'Some of them', 'Some of them', 'None of them', 'Some of them', 'None of them', 'None of them'\n",
      "$ willing_discuss_ph_in_hiring_interview            <str> 'Maybe', 'Maybe', 'Yes', 'Yes', 'Maybe', 'Yes', 'Yes', 'No', 'Maybe', 'Yes'\n",
      "$ why_why_not_1                                     <str> None, 'It would depend on the health issue. If there is a health issue that would not immediately affect my job performance, such as diabetes, I would not bring it up during the interview. If it was something more severe, such as narcolepsy, I might bring it up depending on how controlled it was.', 'They would provable need to know, to Judge if I can do my job or not. ', \"old back injury, doesn't cause me many issues but occasionally impacts my ability to work at desk \", 'Depending on the interview stage and whether I required an accommodation, I would', 'If it would potentially affect my ability to do the job or might require special equipment/etc then it would only be fair and honest.', 'I want to gauge their ability to support this issue.', \"I feel it's irrelevant.\", 'Makes me a less attractive candidate.', \"Generally speaking, and this isn't always the case, physical health issues don't carry the same stigma as mental ones.\"\n",
      "$ willing_discuss_mh_in_hiring_interview            <str> 'Maybe', 'No', 'Yes', 'Maybe', 'No', 'Maybe', 'Yes', 'No', 'Maybe', 'Maybe'\n",
      "$ why_why_not_2                                     <str> None, 'While mental health has become a more prominent issue recently, I feel like there is still a lot of stigma surrounding it. At this point, with our culture, I would not bring it up. I hope that within the next 20-30 years that stigma will be gone and it can be brought up safely in an interview.', 'Stigma, mainly. ', 'would not if I was not 100% sure that the disclosure would not affect my application', \"I don't know\", 'It would depend on the field & what I knew of the employer.', 'I want to gauge their ability to support, understand and empathize with my situation.', 'Same reason.', 'Only if I felt I required accommodation. Even then, reluctantly because it makes me a less attractive candidate.', 'It really depends on the person, the employer, and how comfortable I felt discussing the issue.'\n",
      "$ percevied_neg_impact_carreer_of_mh                <str> 'Maybe', \"No, I don't think it would\", 'Maybe', 'Yes, I think it would', 'Yes, I think it would', 'Yes, I think it would', 'Yes, I think it would', 'Maybe', 'Maybe', 'Maybe'\n",
      "$ perceived_neg_impact_coworker_opiniton_of_mh      <str> \"No, I don't think they would\", \"No, I don't think they would\", 'Maybe', 'Maybe', 'Maybe', 'Maybe', \"No, I don't think they would\", 'Maybe', 'Yes, they do', \"No, I don't think they would\"\n",
      "$ willingness_to_share_with_friend_family           <str> 'Somewhat open', 'Somewhat open', 'Somewhat open', 'Neutral', 'Somewhat open', 'Somewhat open', 'Not applicable to me (I do not have a mental illness)', 'Somewhat open', 'Somewhat open', 'Very open'\n",
      "$ neg_response_to_mh                                <str> 'No', 'No', 'Maybe/Not sure', 'No', 'Yes, I experienced', 'Yes, I experienced', 'No', 'Yes, I observed', 'Yes, I observed', 'No'\n",
      "$ willingness_to_share_mh_after_observation         <str> None, None, 'Yes', None, 'Yes', 'No', None, 'Maybe', 'No', None\n",
      "$ mh_family_hist                                    <str> 'No', 'Yes', 'No', 'No', 'Yes', 'No', 'No', 'Yes', 'Yes', 'Yes'\n",
      "$ previous_mh                                       <str> 'Yes', 'Yes', 'Maybe', 'Yes', 'Yes', 'No', 'No', 'Yes', 'Yes', 'Yes'\n",
      "$ current_mh                                        <str> 'No', 'Yes', 'No', 'Yes', 'Yes', 'Yes', 'No', 'Yes', 'Yes', 'Yes'\n",
      "$ diagnosis_name_condition                          <str> None, 'Anxiety Disorder (Generalized, Social, Phobia, etc)|Mood Disorder (Depression, Bipolar Disorder, etc)', None, 'Anxiety Disorder (Generalized, Social, Phobia, etc)|Mood Disorder (Depression, Bipolar Disorder, etc)', 'Anxiety Disorder (Generalized, Social, Phobia, etc)|Stress Response Syndromes', 'Anxiety Disorder (Generalized, Social, Phobia, etc)|Stress Response Syndromes|Substance Use Disorder', None, 'Anxiety Disorder (Generalized, Social, Phobia, etc)|Substance Use Disorder', 'Mood Disorder (Depression, Bipolar Disorder, etc)', 'Anxiety Disorder (Generalized, Social, Phobia, etc)|Mood Disorder (Depression, Bipolar Disorder, etc)'\n",
      "$ believed_name_condiiton                           <str> None, None, None, None, None, None, None, None, None, None\n",
      "$ diagnosis_professional                            <str> 'Yes', 'Yes', 'No', 'Yes', 'Yes', 'No', 'No', 'Yes', 'Yes', 'Yes'\n",
      "$ diagnosis_name_professional_condition             <str> 'Anxiety Disorder (Generalized, Social, Phobia, etc)', 'Anxiety Disorder (Generalized, Social, Phobia, etc)|Mood Disorder (Depression, Bipolar Disorder, etc)', None, 'Anxiety Disorder (Generalized, Social, Phobia, etc)|Mood Disorder (Depression, Bipolar Disorder, etc)', 'Anxiety Disorder (Generalized, Social, Phobia, etc)', None, None, 'Anxiety Disorder (Generalized, Social, Phobia, etc)|Substance Use Disorder', 'Mood Disorder (Depression, Bipolar Disorder, etc)', 'Anxiety Disorder (Generalized, Social, Phobia, etc)|Mood Disorder (Depression, Bipolar Disorder, etc)'\n",
      "$ used_therapy                                      <i64> 0, 1, 1, 1, 1, 1, 0, 1, 1, 1\n",
      "$ interference_mh_treated_with_work                 <str> 'Not applicable to me', 'Rarely', 'Not applicable to me', 'Sometimes', 'Sometimes', 'Not applicable to me', 'Not applicable to me', 'Sometimes', 'Rarely', 'Rarely'\n",
      "$ interference_mh_untreated_with_work               <str> 'Not applicable to me', 'Sometimes', 'Not applicable to me', 'Sometimes', 'Sometimes', 'Often', 'Not applicable to me', 'Often', 'Often', 'Often'\n",
      "$ age                                               <i64> 39, 29, 38, 43, 43, 42, 30, 37, 44, 30\n",
      "$ gender                                            <str> 'Male', 'male', 'Male ', 'male', 'Female', 'Male', 'M', 'female', 'Female', 'Male'\n",
      "$ country_residency                                 <str> 'United Kingdom', 'United States of America', 'United Kingdom', 'United Kingdom', 'United States of America', 'United Kingdom', 'United States of America', 'United States of America', 'United States of America', 'United States of America'\n",
      "$ usa_state_residency                               <str> None, 'Illinois', None, None, 'Illinois', None, 'Tennessee', 'Virginia', 'California', 'Kentucky'\n",
      "$ country_work                                      <str> 'United Kingdom', 'United States of America', 'United Kingdom', 'United Kingdom', 'United States of America', 'United Kingdom', 'United States of America', 'United States of America', 'United States of America', 'United States of America'\n",
      "$ usa_state_work                                    <str> None, 'Illinois', None, None, 'Illinois', None, 'Tennessee', 'Virginia', 'California', 'Kentucky'\n",
      "$ job_title                                         <str> 'Back-end Developer', 'Back-end Developer|Front-end Developer', 'Back-end Developer', 'Supervisor/Team Lead', 'Executive Leadership|Supervisor/Team Lead|Dev Evangelist/Advocate|DevOps/SysAdmin|Support|Back-end Developer|Front-end Developer', 'DevOps/SysAdmin|Support|Back-end Developer|Front-end Developer|Designer', 'Back-end Developer', 'Dev Evangelist/Advocate|Back-end Developer', 'Support|Back-end Developer|One-person shop', 'One-person shop|Front-end Developer|Back-end Developer'\n",
      "$ remote                                            <str> 'Sometimes', 'Never', 'Always', 'Sometimes', 'Sometimes', 'Sometimes', 'Sometimes', 'Always', 'Sometimes', 'Always'\n",
      "\n"
     ]
    }
   ],
   "source": [
    "# Second look at a couple of entries\n",
    "df.glimpse(max_items_per_column=10)"
   ]
  },
  {
   "cell_type": "code",
   "execution_count": 10,
   "id": "23045586-8801-4349-827a-457e0713c6b0",
   "metadata": {},
   "outputs": [
    {
     "data": {
      "text/plain": [
       "[Text(0, 0, '21'), Text(0, 0, '30'), Text(0, 0, '12')]"
      ]
     },
     "execution_count": 10,
     "metadata": {},
     "output_type": "execute_result"
    },
    {
     "data": {
      "image/png": "[encoded data removed]",
      "text/plain": [
       "<Figure size 640x480 with 1 Axes>"
      ]
     },
     "metadata": {},
     "output_type": "display_data"
    }
   ],
   "source": [
    "# Count columns with null values and those without\n",
    "null_counts = df.null_count()\n",
    "\n",
    "# Transpose the dataframe to write the amount of null values entriewise\n",
    "null_counts_trans = null_counts.transpose(include_header= True)\n",
    "null_counts_trans = null_counts_trans.filter(pl.col('column')!='index')\n",
    "# Get the number of columns with null values and without\n",
    "true_null_counts = null_counts_trans.filter(pl.col(\"column_0\") == 0).shape[0]\n",
    "non_null_counts = null_counts_trans.filter(pl.col(\"column_0\") != 0).shape[0]\n",
    "\n",
    "\n",
    "# Calculate the percentage of NULL values per column and get the number\n",
    "null_counts_perc = null_counts_trans.with_columns((pl.col(\"column_0\") / df.shape[0] * 100).cast(pl.Int32).alias(\"null_perc\") )\n",
    "\n",
    "print(cull_counts_perc)"
   ]
  },
  {
   "cell_type": "code",
   "execution_count": null,
   "id": "39993717-8092-4d9a-8fad-f049a271ff7a",
   "metadata": {},
   "outputs": [],
   "source": [
    "# Construct the number of Columns with exactly 0% null values\n",
    "num_null_counts_zero_perc = null_counts_perc.filter(pl.col(\"null_perc\") ==0).shape[0]\n",
    "\n",
    "# Construct the number for columns with less than 50% of null values but more than 0% null values\n",
    "num_null_counts_below_50_perc = null_counts_perc.filter((pl.col('null_perc') < 50) & (pl.col('null_perc') > 1)).shape[0]\n",
    "\n",
    "# Construct the number for columns with more than 50% null values\n",
    "num_null_counts_exc_50_perc = null_counts_perc.filter(pl.col(\"null_perc\") >= 50).shape[0]\n",
    "\n",
    "\n",
    "# Create a dictionary with the relevant information\n",
    "nulls_dict = {\"Zero (0) Null\" : non_null_counts , \"> 0% Null\" : num_null_counts_below_50_perc ,  \"> 50% Null\" : num_null_counts_exc_50_perc}\n",
    "# Plot the amount of columns with null values\n",
    "ax = sns.barplot(data=nulls_dict)\n",
    "ax.set(xlabel='' , ylabel='Number of Columns')\n",
    "ax.set_title(\"Number of Columns with Null Values\")\n",
    "ax.bar_label(ax.containers[0], fontsize=10)"
   ]
  },
  {
   "cell_type": "code",
   "execution_count": 11,
   "id": "bccab9ff-52a5-41ec-b2b2-90b4c16167a4",
   "metadata": {},
   "outputs": [
    {
     "data": {
      "text/html": [
       "<div><style>\n",
       ".dataframe > thead > tr,\n",
       ".dataframe > tbody > tr {\n",
       "  text-align: right;\n",
       "  white-space: pre-wrap;\n",
       "}\n",
       "</style>\n",
       "<small>shape: (42, 3)</small><table border=\"1\" class=\"dataframe\"><thead><tr><th>column</th><th>column_0</th><th>null_perc</th></tr><tr><td>str</td><td>u32</td><td>i32</td></tr></thead><tbody><tr><td>&quot;comp_size&quot;</td><td>287</td><td>20</td></tr><tr><td>&quot;tech_comp_indic&quot;</td><td>287</td><td>20</td></tr><tr><td>&quot;tech_role_indic&quot;</td><td>1170</td><td>81</td></tr><tr><td>&quot;availability_of_benefits&quot;</td><td>287</td><td>20</td></tr><tr><td>&quot;awareness_of_benefits&quot;</td><td>287</td><td>20</td></tr><tr><td>&hellip;</td><td>&hellip;</td><td>&hellip;</td></tr><tr><td>&quot;diagnosis_name_condition&quot;</td><td>865</td><td>60</td></tr><tr><td>&quot;believed_name_condiiton&quot;</td><td>1111</td><td>77</td></tr><tr><td>&quot;diagnosis_name_professional_co…</td><td>722</td><td>50</td></tr><tr><td>&quot;usa_state_residency&quot;</td><td>593</td><td>41</td></tr><tr><td>&quot;usa_state_work&quot;</td><td>582</td><td>40</td></tr></tbody></table></div>"
      ],
      "text/plain": [
       "shape: (42, 3)\n",
       "┌─────────────────────────────────┬──────────┬───────────┐\n",
       "│ column                          ┆ column_0 ┆ null_perc │\n",
       "│ ---                             ┆ ---      ┆ ---       │\n",
       "│ str                             ┆ u32      ┆ i32       │\n",
       "╞═════════════════════════════════╪══════════╪═══════════╡\n",
       "│ comp_size                       ┆ 287      ┆ 20        │\n",
       "│ tech_comp_indic                 ┆ 287      ┆ 20        │\n",
       "│ tech_role_indic                 ┆ 1170     ┆ 81        │\n",
       "│ availability_of_benefits        ┆ 287      ┆ 20        │\n",
       "│ awareness_of_benefits           ┆ 287      ┆ 20        │\n",
       "│ …                               ┆ …        ┆ …         │\n",
       "│ diagnosis_name_condition        ┆ 865      ┆ 60        │\n",
       "│ believed_name_condiiton         ┆ 1111     ┆ 77        │\n",
       "│ diagnosis_name_professional_co… ┆ 722      ┆ 50        │\n",
       "│ usa_state_residency             ┆ 593      ┆ 41        │\n",
       "│ usa_state_work                  ┆ 582      ┆ 40        │\n",
       "└─────────────────────────────────┴──────────┴───────────┘"
      ]
     },
     "execution_count": 11,
     "metadata": {},
     "output_type": "execute_result"
    }
   ],
   "source": [
    "null_counts_perc.filter(pl.col('null_perc') != 0)"
   ]
  },
  {
   "cell_type": "code",
   "execution_count": 12,
   "id": "8252559a-6f3a-4e3e-bc8d-2d23d4959c1c",
   "metadata": {},
   "outputs": [
    {
     "data": {
      "text/html": [
       "<div><style>\n",
       ".dataframe > thead > tr,\n",
       ".dataframe > tbody > tr {\n",
       "  text-align: right;\n",
       "  white-space: pre-wrap;\n",
       "}\n",
       "</style>\n",
       "<small>shape: (52, 3)</small><table border=\"1\" class=\"dataframe\"><thead><tr><th>column</th><th>column_0</th><th>null_perc</th></tr><tr><td>str</td><td>u32</td><td>i32</td></tr></thead><tbody><tr><td>&quot;self-employed_indic&quot;</td><td>0</td><td>0</td></tr><tr><td>&quot;comp_size&quot;</td><td>287</td><td>20</td></tr><tr><td>&quot;tech_comp_indic&quot;</td><td>287</td><td>20</td></tr><tr><td>&quot;availability_of_benefits&quot;</td><td>287</td><td>20</td></tr><tr><td>&quot;awareness_of_benefits&quot;</td><td>287</td><td>20</td></tr><tr><td>&hellip;</td><td>&hellip;</td><td>&hellip;</td></tr><tr><td>&quot;usa_state_residency&quot;</td><td>593</td><td>41</td></tr><tr><td>&quot;country_work&quot;</td><td>0</td><td>0</td></tr><tr><td>&quot;usa_state_work&quot;</td><td>582</td><td>40</td></tr><tr><td>&quot;job_title&quot;</td><td>0</td><td>0</td></tr><tr><td>&quot;remote&quot;</td><td>0</td><td>0</td></tr></tbody></table></div>"
      ],
      "text/plain": [
       "shape: (52, 3)\n",
       "┌──────────────────────────┬──────────┬───────────┐\n",
       "│ column                   ┆ column_0 ┆ null_perc │\n",
       "│ ---                      ┆ ---      ┆ ---       │\n",
       "│ str                      ┆ u32      ┆ i32       │\n",
       "╞══════════════════════════╪══════════╪═══════════╡\n",
       "│ self-employed_indic      ┆ 0        ┆ 0         │\n",
       "│ comp_size                ┆ 287      ┆ 20        │\n",
       "│ tech_comp_indic          ┆ 287      ┆ 20        │\n",
       "│ availability_of_benefits ┆ 287      ┆ 20        │\n",
       "│ awareness_of_benefits    ┆ 287      ┆ 20        │\n",
       "│ …                        ┆ …        ┆ …         │\n",
       "│ usa_state_residency      ┆ 593      ┆ 41        │\n",
       "│ country_work             ┆ 0        ┆ 0         │\n",
       "│ usa_state_work           ┆ 582      ┆ 40        │\n",
       "│ job_title                ┆ 0        ┆ 0         │\n",
       "│ remote                   ┆ 0        ┆ 0         │\n",
       "└──────────────────────────┴──────────┴───────────┘"
      ]
     },
     "execution_count": 12,
     "metadata": {},
     "output_type": "execute_result"
    }
   ],
   "source": [
    "null_counts_perc.filter((pl.col('null_perc') <= 50) & (pl.col('null_perc') >= 0))"
   ]
  },
  {
   "cell_type": "code",
   "execution_count": 13,
   "id": "1dd50ee3-5c21-4efd-8da0-e90a73d433cc",
   "metadata": {},
   "outputs": [
    {
     "name": "stdout",
     "output_type": "stream",
     "text": [
      "shape: (63, 3)\n",
      "┌──────────────────────────┬──────────┬───────────┐\n",
      "│ column                   ┆ column_0 ┆ null_perc │\n",
      "│ ---                      ┆ ---      ┆ ---       │\n",
      "│ str                      ┆ u32      ┆ i32       │\n",
      "╞══════════════════════════╪══════════╪═══════════╡\n",
      "│ self-employed_indic      ┆ 0        ┆ 0         │\n",
      "│ comp_size                ┆ 287      ┆ 20        │\n",
      "│ tech_comp_indic          ┆ 287      ┆ 20        │\n",
      "│ tech_role_indic          ┆ 1170     ┆ 81        │\n",
      "│ availability_of_benefits ┆ 287      ┆ 20        │\n",
      "│ …                        ┆ …        ┆ …         │\n",
      "│ usa_state_residency      ┆ 593      ┆ 41        │\n",
      "│ country_work             ┆ 0        ┆ 0         │\n",
      "│ usa_state_work           ┆ 582      ┆ 40        │\n",
      "│ job_title                ┆ 0        ┆ 0         │\n",
      "│ remote                   ┆ 0        ┆ 0         │\n",
      "└──────────────────────────┴──────────┴───────────┘\n"
     ]
    }
   ],
   "source": [
    "print(null_counts_perc)"
   ]
  },
  {
   "cell_type": "code",
   "execution_count": 14,
   "id": "f91c08ad-25af-4e5d-84e1-75d3af98e610",
   "metadata": {},
   "outputs": [
    {
     "name": "stdout",
     "output_type": "stream",
     "text": [
      "['tech_role_indic', 'med_coverage_mh_indic', 'known_mh_sources', 'mention_mh_to_clients', 'neg_impact_of_reveal_to_client_of_mh', 'mention_mh_to_employees', 'neg_impact_of_reveal_to_employee_of_mh', 'productivity_effect_of_mh', 'time_effect_of_mh', 'diagnosis_name_condition', 'believed_name_condiiton']\n"
     ]
    }
   ],
   "source": [
    "# Drop all columns that are meant for self-employed and have more than 50% Null values\n",
    "df = df.filter(pl.col(\"self-employed_indic\") != 1)\n",
    "df = df.drop(\"self-employed_indic\")\n",
    "\n",
    "# Drop all columns with more than 50% Null values\n",
    "# First look at the columns with more than 50% Null Values\n",
    "drop_col_list = pl.Series(null_counts_perc.filter(pl.col(\"null_perc\")>50).select(pl.col(\"column\"))).to_list()\n",
    "print(drop_col_list)\n",
    "\n",
    "# tech_role_indic can perhaps be imputed via the job title"
   ]
  },
  {
   "cell_type": "code",
   "execution_count": 15,
   "id": "efac0acd-2316-45c4-9388-fc9e00b912e2",
   "metadata": {},
   "outputs": [],
   "source": [
    "# Convert all strings lower case\n",
    "df = df.with_columns(pl.col(pl.String).str.to_lowercase())"
   ]
  },
  {
   "cell_type": "code",
   "execution_count": 16,
   "id": "21043391-1822-4eba-988c-525cbf5aaf2c",
   "metadata": {},
   "outputs": [],
   "source": [
    "# Now lets find the list of tech jobs\n",
    "tech_jobs_list =  df.filter(pl.col(\"tech_role_indic\") == 1).select(\"job_title\").rows()\n",
    "\n",
    "# Job list is currently a list nested of tuples\n",
    "# Define function to flatten nested list\n",
    "def flatten_list(list_input):\n",
    "    job_list = []\n",
    "    for x in list_input:\n",
    "        job_list.extend(x)\n",
    "    return job_list\n",
    "\n",
    "# Clear job_list of any nested tuples and splitters\n",
    "job_list = flatten_list(tech_jobs_list)\n",
    "job_list = [x.split('|') for x in job_list]\n",
    "job_list = flatten_list(job_list)\n",
    "job_list = [x.split('/') for x in job_list]\n",
    "job_list = flatten_list(job_list)\n",
    "\n",
    "# Clear job titles of non-tech jobs\n",
    "excluded_jobs = ['other' , 'designer' , 'support' , 'team lead' , 'sales' , 'supervisor' , 'advocate' , 'one-person shop' , 'executive leadership', 'hr']\n",
    "job_list = [x for x in job_list if x not in excluded_jobs]\n",
    "\n",
    "job_list = np.unique(job_list)\n",
    "\n",
    "# Now that we have a cleaned list of tech jobs we need to impute out polars DataFrame\n",
    "# First we construct a regex pattern to catch all possible values\n",
    "\n",
    "job_pattern = '|'.join(job_list)\n",
    "\n",
    "df = df.with_columns(\n",
    "    pl.when(\n",
    "        (pl.col('job_title').str.contains(job_pattern)) & (pl.col('tech_role_indic').is_null())\n",
    "    ).then(1).otherwise(0).alias('tech_role_indic')\n",
    ")"
   ]
  },
  {
   "cell_type": "code",
   "execution_count": 17,
   "id": "fc13e76b-e1b8-476e-a9ad-1d9f069d79b3",
   "metadata": {},
   "outputs": [
    {
     "name": "stdout",
     "output_type": "stream",
     "text": [
      "Rows: 1146\n",
      "Columns: 63\n",
      "$ index                                             <u32> 0, 1, 2, 4, 5, 6, 7, 8, 10, 11\n",
      "$ comp_size                                         <str> '26-100', '6-25', '6-25', '6-25', 'more than 1000', '26-100', 'more than 1000', '26-100', '26-100', '100-500'\n",
      "$ tech_comp_indic                                   <i64> 1, 1, 1, 0, 1, 1, 1, 0, 1, 0\n",
      "$ tech_role_indic                                   <i32> 1, 1, 1, 0, 1, 1, 1, 0, 1, 0\n",
      "$ availability_of_benefits                          <str> 'not eligible for coverage / n/a', 'no', 'no', 'yes', 'yes', \"i don't know\", 'yes', \"i don't know\", 'yes', 'yes'\n",
      "$ awareness_of_benefits                             <str> 'n/a', 'yes', 'n/a', 'yes', 'i am not sure', 'no', 'yes', 'no', 'i am not sure', 'yes'\n",
      "$ mh_discussion_indic                               <str> 'no', 'yes', 'no', 'no', 'no', 'no', 'no', 'no', 'yes', 'no'\n",
      "$ mh_resources_availability_indic                   <str> 'no', 'yes', 'no', 'no', 'yes', 'no', 'yes', 'no', 'yes', \"i don't know\"\n",
      "$ anonym_use_benefit_indic                          <str> \"i don't know\", 'yes', \"i don't know\", 'no', 'yes', \"i don't know\", 'yes', \"i don't know\", 'yes', \"i don't know\"\n",
      "$ sick_leave_difficulty                             <str> 'very easy', 'somewhat easy', 'neither easy nor difficult', 'neither easy nor difficult', 'somewhat easy', 'somewhat easy', 'very easy', 'very difficult', 'very easy', 'somewhat difficult'\n",
      "$ neg_consequences_discussing_mh                    <str> 'no', 'no', 'maybe', 'yes', 'yes', 'no', 'no', 'yes', 'no', 'yes'\n",
      "$ neg_consequences_discussing_ph                    <str> 'no', 'no', 'no', 'maybe', 'yes', 'no', 'no', 'yes', 'no', 'no'\n",
      "$ comf_discussing_mh_with_coworker_indic            <str> 'maybe', 'maybe', 'maybe', 'maybe', 'maybe', 'maybe', 'maybe', 'yes', 'maybe', 'no'\n",
      "$ comf_discussing_mnh_with_supervisor_indic         <str> 'yes', 'yes', 'maybe', 'no', 'yes', 'yes', 'yes', 'maybe', 'yes', 'no'\n",
      "$ employer_importance_mh_vs_ph                      <str> \"i don't know\", 'yes', \"i don't know\", 'no', 'no', 'yes', \"i don't know\", 'no', 'yes', 'no'\n",
      "$ known_neg_consequences_of_mh                      <str> 'no', 'no', 'no', 'no', 'yes', 'no', 'no', 'no', 'no', 'no'\n",
      "$ med_coverage_mh_indic                             <i64> None, None, None, None, None, None, None, None, None, None\n",
      "$ known_mh_sources                                  <str> None, None, None, None, None, None, None, None, None, None\n",
      "$ mention_mh_to_clients                             <str> None, None, None, None, None, None, None, None, None, None\n",
      "$ neg_impact_of_reveal_to_client_of_mh              <str> None, None, None, None, None, None, None, None, None, None\n",
      "$ mention_mh_to_employees                           <str> None, None, None, None, None, None, None, None, None, None\n",
      "$ neg_impact_of_reveal_to_employee_of_mh            <str> None, None, None, None, None, None, None, None, None, None\n",
      "$ productivity_effect_of_mh                         <str> None, None, None, None, None, None, None, None, None, None\n",
      "$ time_effect_of_mh                                 <str> None, None, None, None, None, None, None, None, None, None\n",
      "$ prev_employers                                    <i64> 1, 1, 1, 1, 1, 1, 1, 1, 1, 1\n",
      "$ availability_of_benefits_prev_employer            <str> 'no, none did', 'yes, they all did', 'no, none did', \"i don't know\", 'no, none did', 'some did', 'some did', \"i don't know\", 'no, none did', 'no, none did'\n",
      "$ awareness_of_benefits_prev_employer               <str> 'n/a (not currently aware)', 'i was aware of some', 'n/a (not currently aware)', 'n/a (not currently aware)', 'yes, i was aware of all of them', 'i was aware of some', 'i was aware of some', 'n/a (not currently aware)', 'n/a (not currently aware)', 'n/a (not currently aware)'\n",
      "$ mh_discussion_indic_prev_employer                 <str> \"i don't know\", 'none did', 'none did', 'some did', 'none did', 'none did', 'some did', 'some did', 'none did', 'none did'\n",
      "$ mh_resources_availability_indic_prev_employer     <str> 'none did', 'some did', 'some did', 'none did', 'none did', 'some did', 'some did', 'none did', 'none did', 'none did'\n",
      "$ anonym_use_benefit_indic_prev_employer            <str> \"i don't know\", 'yes, always', \"i don't know\", \"i don't know\", \"i don't know\", \"i don't know\", 'sometimes', \"i don't know\", 'no', \"i don't know\"\n",
      "$ neg_consequences_discussing_mh_prev_employer      <str> 'some of them', 'none of them', \"i don't know\", 'some of them', 'yes, all of them', 'none of them', 'some of them', 'yes, all of them', 'some of them', 'yes, all of them'\n",
      "$ neg_consequences_discussing_ph_prev_employer      <str> 'none of them', 'none of them', 'some of them', 'some of them', 'some of them', 'none of them', 'some of them', 'yes, all of them', 'some of them', 'some of them'\n",
      "$ comf_discussing_mh_with_coworker_prev_employer    <str> 'some of my previous employers', 'no, at none of my previous employers', 'some of my previous employers', 'no, at none of my previous employers', 'no, at none of my previous employers', 'some of my previous employers', 'some of my previous employers', 'no, at none of my previous employers', 'no, at none of my previous employers', 'no, at none of my previous employers'\n",
      "$ comf_discussing_mnh_with_supervisor_prev_employer <str> 'some of my previous employers', 'some of my previous employers', \"i don't know\", 'some of my previous employers', 'no, at none of my previous employers', 'yes, at all of my previous employers', 'some of my previous employers', 'no, at none of my previous employers', 'some of my previous employers', 'no, at none of my previous employers'\n",
      "$ employer_importance_mh_vs_ph_prev_employer        <str> \"i don't know\", 'some did', \"i don't know\", 'some did', 'none did', 'some did', 'some did', 'none did', 'none did', 'none did'\n",
      "$ known_neg_consequences_of_mh_prev_employer        <str> 'none of them', 'none of them', 'some of them', 'some of them', 'some of them', 'none of them', 'some of them', 'none of them', 'some of them', 'none of them'\n",
      "$ willing_discuss_ph_in_hiring_interview            <str> 'maybe', 'maybe', 'yes', 'maybe', 'yes', 'yes', 'no', 'maybe', 'yes', 'no'\n",
      "$ why_why_not_1                                     <str> None, 'it would depend on the health issue. if there is a health issue that would not immediately affect my job performance, such as diabetes, i would not bring it up during the interview. if it was something more severe, such as narcolepsy, i might bring it up depending on how controlled it was.', 'they would provable need to know, to judge if i can do my job or not. ', 'depending on the interview stage and whether i required an accommodation, i would', 'if it would potentially affect my ability to do the job or might require special equipment/etc then it would only be fair and honest.', 'i want to gauge their ability to support this issue.', \"i feel it's irrelevant.\", 'makes me a less attractive candidate.', \"being honest upfront shows respect for the future employer. if they see that as a stumbling block in hiring you, then it probably wouldn't have been a good fit in the long run anyways.\", \"it isn't relevant to my ability as a programmer.\"\n",
      "$ willing_discuss_mh_in_hiring_interview            <str> 'maybe', 'no', 'yes', 'no', 'maybe', 'yes', 'no', 'maybe', 'yes', 'no'\n",
      "$ why_why_not_2                                     <str> None, 'while mental health has become a more prominent issue recently, i feel like there is still a lot of stigma surrounding it. at this point, with our culture, i would not bring it up. i hope that within the next 20-30 years that stigma will be gone and it can be brought up safely in an interview.', 'stigma, mainly. ', \"i don't know\", 'it would depend on the field & what i knew of the employer.', 'i want to gauge their ability to support, understand and empathize with my situation.', 'same reason.', 'only if i felt i required accommodation. even then, reluctantly because it makes me a less attractive candidate.', 'same reason as above.', \"it isn't relevant to my ability as a programmer.\"\n",
      "$ percevied_neg_impact_carreer_of_mh                <str> 'maybe', \"no, i don't think it would\", 'maybe', 'yes, i think it would', 'yes, i think it would', 'yes, i think it would', 'maybe', 'maybe', \"no, i don't think it would\", 'yes, i think it would'\n",
      "$ perceived_neg_impact_coworker_opiniton_of_mh      <str> \"no, i don't think they would\", \"no, i don't think they would\", 'maybe', 'maybe', 'maybe', \"no, i don't think they would\", 'maybe', 'yes, they do', 'maybe', 'yes, i think they would'\n",
      "$ willingness_to_share_with_friend_family           <str> 'somewhat open', 'somewhat open', 'somewhat open', 'somewhat open', 'somewhat open', 'not applicable to me (i do not have a mental illness)', 'somewhat open', 'somewhat open', 'very open', 'not open at all'\n",
      "$ neg_response_to_mh                                <str> 'no', 'no', 'maybe/not sure', 'yes, i experienced', 'yes, i experienced', 'no', 'yes, i observed', 'yes, i observed', 'yes, i observed', 'no'\n",
      "$ willingness_to_share_mh_after_observation         <str> None, None, 'yes', 'yes', 'no', None, 'maybe', 'no', 'maybe', None\n",
      "$ mh_family_hist                                    <str> 'no', 'yes', 'no', 'yes', 'no', 'no', 'yes', 'yes', \"i don't know\", 'yes'\n",
      "$ previous_mh                                       <str> 'yes', 'yes', 'maybe', 'yes', 'no', 'no', 'yes', 'yes', 'yes', 'yes'\n",
      "$ current_mh                                        <str> 'no', 'yes', 'no', 'yes', 'yes', 'no', 'yes', 'yes', 'yes', 'yes'\n",
      "$ diagnosis_name_condition                          <str> None, 'anxiety disorder (generalized, social, phobia, etc)|mood disorder (depression, bipolar disorder, etc)', None, 'anxiety disorder (generalized, social, phobia, etc)|stress response syndromes', 'anxiety disorder (generalized, social, phobia, etc)|stress response syndromes|substance use disorder', None, 'anxiety disorder (generalized, social, phobia, etc)|substance use disorder', 'mood disorder (depression, bipolar disorder, etc)', 'mood disorder (depression, bipolar disorder, etc)', 'anxiety disorder (generalized, social, phobia, etc)'\n",
      "$ believed_name_condiiton                           <str> None, None, None, None, None, None, None, None, None, None\n",
      "$ diagnosis_professional                            <str> 'yes', 'yes', 'no', 'yes', 'no', 'no', 'yes', 'yes', 'yes', 'yes'\n",
      "$ diagnosis_name_professional_condition             <str> 'anxiety disorder (generalized, social, phobia, etc)', 'anxiety disorder (generalized, social, phobia, etc)|mood disorder (depression, bipolar disorder, etc)', None, 'anxiety disorder (generalized, social, phobia, etc)', None, None, 'anxiety disorder (generalized, social, phobia, etc)|substance use disorder', 'mood disorder (depression, bipolar disorder, etc)', 'mood disorder (depression, bipolar disorder, etc)', 'anxiety disorder (generalized, social, phobia, etc)'\n",
      "$ used_therapy                                      <i64> 0, 1, 1, 1, 1, 0, 1, 1, 1, 1\n",
      "$ interference_mh_treated_with_work                 <str> 'not applicable to me', 'rarely', 'not applicable to me', 'sometimes', 'not applicable to me', 'not applicable to me', 'sometimes', 'rarely', 'sometimes', 'never'\n",
      "$ interference_mh_untreated_with_work               <str> 'not applicable to me', 'sometimes', 'not applicable to me', 'sometimes', 'often', 'not applicable to me', 'often', 'often', 'often', 'rarely'\n",
      "$ age                                               <i64> 39, 29, 38, 43, 42, 30, 37, 44, 28, 34\n",
      "$ gender                                            <str> 'male', 'male', 'male ', 'female', 'male', 'm', 'female', 'female', 'male', 'male'\n",
      "$ country_residency                                 <str> 'united kingdom', 'united states of america', 'united kingdom', 'united states of america', 'united kingdom', 'united states of america', 'united states of america', 'united states of america', 'united states of america', 'united states of america'\n",
      "$ usa_state_residency                               <str> None, 'illinois', None, 'illinois', None, 'tennessee', 'virginia', 'california', 'oregon', 'pennsylvania'\n",
      "$ country_work                                      <str> 'united kingdom', 'united states of america', 'united kingdom', 'united states of america', 'united kingdom', 'united states of america', 'united states of america', 'united states of america', 'united states of america', 'united states of america'\n",
      "$ usa_state_work                                    <str> None, 'illinois', None, 'illinois', None, 'tennessee', 'virginia', 'california', 'oregon', 'pennsylvania'\n",
      "$ job_title                                         <str> 'back-end developer', 'back-end developer|front-end developer', 'back-end developer', 'executive leadership|supervisor/team lead|dev evangelist/advocate|devops/sysadmin|support|back-end developer|front-end developer', 'devops/sysadmin|support|back-end developer|front-end developer|designer', 'back-end developer', 'dev evangelist/advocate|back-end developer', 'support|back-end developer|one-person shop', 'front-end developer', 'executive leadership'\n",
      "$ remote                                            <str> 'sometimes', 'never', 'always', 'sometimes', 'sometimes', 'sometimes', 'always', 'sometimes', 'never', 'sometimes'\n",
      "\n"
     ]
    }
   ],
   "source": [
    "df.glimpse(max_items_per_column=10)"
   ]
  },
  {
   "cell_type": "code",
   "execution_count": 18,
   "id": "6858e32b-6970-4804-87a5-a0e17feffd45",
   "metadata": {},
   "outputs": [
    {
     "name": "stdout",
     "output_type": "stream",
     "text": [
      "(1146, 63)\n"
     ]
    }
   ],
   "source": [
    "print(df.shape)"
   ]
  },
  {
   "cell_type": "code",
   "execution_count": 19,
   "id": "81102305-c7ec-4d58-b8e2-f7b5fd037cc1",
   "metadata": {},
   "outputs": [],
   "source": [
    "# Reconstruct the columns with too many null values\n",
    "null_counts = df.null_count().transpose(include_header= True)\n",
    "null_counts_perc = null_counts.with_columns((pl.col(\"column_0\") / df.shape[0] * 100).cast(pl.Int32).alias(\"null_perc\") )\n",
    "drop_col_list = pl.Series(null_counts_perc.filter(pl.col(\"null_perc\")>50).select(pl.col(\"column\"))).to_list()\n",
    "\n",
    "# Now drop the columns with more than 50% null values\n",
    "df = df.drop(drop_col_list)"
   ]
  },
  {
   "cell_type": "code",
   "execution_count": 20,
   "id": "0179263f-a889-41ef-b605-a3437e7ac4ac",
   "metadata": {},
   "outputs": [
    {
     "name": "stdout",
     "output_type": "stream",
     "text": [
      "(1146, 53)\n"
     ]
    }
   ],
   "source": [
    "print(df.shape)"
   ]
  },
  {
   "cell_type": "code",
   "execution_count": 21,
   "id": "98b75260-35c7-47ed-8743-ecbe7d75bd1d",
   "metadata": {},
   "outputs": [
    {
     "name": "stdout",
     "output_type": "stream",
     "text": [
      "Rows: 1146\n",
      "Columns: 53\n",
      "$ index                                             <u32> 0, 1, 2, 4, 5, 6, 7, 8, 10, 11\n",
      "$ comp_size                                         <str> '26-100', '6-25', '6-25', '6-25', 'more than 1000', '26-100', 'more than 1000', '26-100', '26-100', '100-500'\n",
      "$ tech_comp_indic                                   <i64> 1, 1, 1, 0, 1, 1, 1, 0, 1, 0\n",
      "$ tech_role_indic                                   <i32> 1, 1, 1, 0, 1, 1, 1, 0, 1, 0\n",
      "$ availability_of_benefits                          <str> 'not eligible for coverage / n/a', 'no', 'no', 'yes', 'yes', \"i don't know\", 'yes', \"i don't know\", 'yes', 'yes'\n",
      "$ awareness_of_benefits                             <str> 'n/a', 'yes', 'n/a', 'yes', 'i am not sure', 'no', 'yes', 'no', 'i am not sure', 'yes'\n",
      "$ mh_discussion_indic                               <str> 'no', 'yes', 'no', 'no', 'no', 'no', 'no', 'no', 'yes', 'no'\n",
      "$ mh_resources_availability_indic                   <str> 'no', 'yes', 'no', 'no', 'yes', 'no', 'yes', 'no', 'yes', \"i don't know\"\n",
      "$ anonym_use_benefit_indic                          <str> \"i don't know\", 'yes', \"i don't know\", 'no', 'yes', \"i don't know\", 'yes', \"i don't know\", 'yes', \"i don't know\"\n",
      "$ sick_leave_difficulty                             <str> 'very easy', 'somewhat easy', 'neither easy nor difficult', 'neither easy nor difficult', 'somewhat easy', 'somewhat easy', 'very easy', 'very difficult', 'very easy', 'somewhat difficult'\n",
      "$ neg_consequences_discussing_mh                    <str> 'no', 'no', 'maybe', 'yes', 'yes', 'no', 'no', 'yes', 'no', 'yes'\n",
      "$ neg_consequences_discussing_ph                    <str> 'no', 'no', 'no', 'maybe', 'yes', 'no', 'no', 'yes', 'no', 'no'\n",
      "$ comf_discussing_mh_with_coworker_indic            <str> 'maybe', 'maybe', 'maybe', 'maybe', 'maybe', 'maybe', 'maybe', 'yes', 'maybe', 'no'\n",
      "$ comf_discussing_mnh_with_supervisor_indic         <str> 'yes', 'yes', 'maybe', 'no', 'yes', 'yes', 'yes', 'maybe', 'yes', 'no'\n",
      "$ employer_importance_mh_vs_ph                      <str> \"i don't know\", 'yes', \"i don't know\", 'no', 'no', 'yes', \"i don't know\", 'no', 'yes', 'no'\n",
      "$ known_neg_consequences_of_mh                      <str> 'no', 'no', 'no', 'no', 'yes', 'no', 'no', 'no', 'no', 'no'\n",
      "$ prev_employers                                    <i64> 1, 1, 1, 1, 1, 1, 1, 1, 1, 1\n",
      "$ availability_of_benefits_prev_employer            <str> 'no, none did', 'yes, they all did', 'no, none did', \"i don't know\", 'no, none did', 'some did', 'some did', \"i don't know\", 'no, none did', 'no, none did'\n",
      "$ awareness_of_benefits_prev_employer               <str> 'n/a (not currently aware)', 'i was aware of some', 'n/a (not currently aware)', 'n/a (not currently aware)', 'yes, i was aware of all of them', 'i was aware of some', 'i was aware of some', 'n/a (not currently aware)', 'n/a (not currently aware)', 'n/a (not currently aware)'\n",
      "$ mh_discussion_indic_prev_employer                 <str> \"i don't know\", 'none did', 'none did', 'some did', 'none did', 'none did', 'some did', 'some did', 'none did', 'none did'\n",
      "$ mh_resources_availability_indic_prev_employer     <str> 'none did', 'some did', 'some did', 'none did', 'none did', 'some did', 'some did', 'none did', 'none did', 'none did'\n",
      "$ anonym_use_benefit_indic_prev_employer            <str> \"i don't know\", 'yes, always', \"i don't know\", \"i don't know\", \"i don't know\", \"i don't know\", 'sometimes', \"i don't know\", 'no', \"i don't know\"\n",
      "$ neg_consequences_discussing_mh_prev_employer      <str> 'some of them', 'none of them', \"i don't know\", 'some of them', 'yes, all of them', 'none of them', 'some of them', 'yes, all of them', 'some of them', 'yes, all of them'\n",
      "$ neg_consequences_discussing_ph_prev_employer      <str> 'none of them', 'none of them', 'some of them', 'some of them', 'some of them', 'none of them', 'some of them', 'yes, all of them', 'some of them', 'some of them'\n",
      "$ comf_discussing_mh_with_coworker_prev_employer    <str> 'some of my previous employers', 'no, at none of my previous employers', 'some of my previous employers', 'no, at none of my previous employers', 'no, at none of my previous employers', 'some of my previous employers', 'some of my previous employers', 'no, at none of my previous employers', 'no, at none of my previous employers', 'no, at none of my previous employers'\n",
      "$ comf_discussing_mnh_with_supervisor_prev_employer <str> 'some of my previous employers', 'some of my previous employers', \"i don't know\", 'some of my previous employers', 'no, at none of my previous employers', 'yes, at all of my previous employers', 'some of my previous employers', 'no, at none of my previous employers', 'some of my previous employers', 'no, at none of my previous employers'\n",
      "$ employer_importance_mh_vs_ph_prev_employer        <str> \"i don't know\", 'some did', \"i don't know\", 'some did', 'none did', 'some did', 'some did', 'none did', 'none did', 'none did'\n",
      "$ known_neg_consequences_of_mh_prev_employer        <str> 'none of them', 'none of them', 'some of them', 'some of them', 'some of them', 'none of them', 'some of them', 'none of them', 'some of them', 'none of them'\n",
      "$ willing_discuss_ph_in_hiring_interview            <str> 'maybe', 'maybe', 'yes', 'maybe', 'yes', 'yes', 'no', 'maybe', 'yes', 'no'\n",
      "$ why_why_not_1                                     <str> None, 'it would depend on the health issue. if there is a health issue that would not immediately affect my job performance, such as diabetes, i would not bring it up during the interview. if it was something more severe, such as narcolepsy, i might bring it up depending on how controlled it was.', 'they would provable need to know, to judge if i can do my job or not. ', 'depending on the interview stage and whether i required an accommodation, i would', 'if it would potentially affect my ability to do the job or might require special equipment/etc then it would only be fair and honest.', 'i want to gauge their ability to support this issue.', \"i feel it's irrelevant.\", 'makes me a less attractive candidate.', \"being honest upfront shows respect for the future employer. if they see that as a stumbling block in hiring you, then it probably wouldn't have been a good fit in the long run anyways.\", \"it isn't relevant to my ability as a programmer.\"\n",
      "$ willing_discuss_mh_in_hiring_interview            <str> 'maybe', 'no', 'yes', 'no', 'maybe', 'yes', 'no', 'maybe', 'yes', 'no'\n",
      "$ why_why_not_2                                     <str> None, 'while mental health has become a more prominent issue recently, i feel like there is still a lot of stigma surrounding it. at this point, with our culture, i would not bring it up. i hope that within the next 20-30 years that stigma will be gone and it can be brought up safely in an interview.', 'stigma, mainly. ', \"i don't know\", 'it would depend on the field & what i knew of the employer.', 'i want to gauge their ability to support, understand and empathize with my situation.', 'same reason.', 'only if i felt i required accommodation. even then, reluctantly because it makes me a less attractive candidate.', 'same reason as above.', \"it isn't relevant to my ability as a programmer.\"\n",
      "$ percevied_neg_impact_carreer_of_mh                <str> 'maybe', \"no, i don't think it would\", 'maybe', 'yes, i think it would', 'yes, i think it would', 'yes, i think it would', 'maybe', 'maybe', \"no, i don't think it would\", 'yes, i think it would'\n",
      "$ perceived_neg_impact_coworker_opiniton_of_mh      <str> \"no, i don't think they would\", \"no, i don't think they would\", 'maybe', 'maybe', 'maybe', \"no, i don't think they would\", 'maybe', 'yes, they do', 'maybe', 'yes, i think they would'\n",
      "$ willingness_to_share_with_friend_family           <str> 'somewhat open', 'somewhat open', 'somewhat open', 'somewhat open', 'somewhat open', 'not applicable to me (i do not have a mental illness)', 'somewhat open', 'somewhat open', 'very open', 'not open at all'\n",
      "$ neg_response_to_mh                                <str> 'no', 'no', 'maybe/not sure', 'yes, i experienced', 'yes, i experienced', 'no', 'yes, i observed', 'yes, i observed', 'yes, i observed', 'no'\n",
      "$ willingness_to_share_mh_after_observation         <str> None, None, 'yes', 'yes', 'no', None, 'maybe', 'no', 'maybe', None\n",
      "$ mh_family_hist                                    <str> 'no', 'yes', 'no', 'yes', 'no', 'no', 'yes', 'yes', \"i don't know\", 'yes'\n",
      "$ previous_mh                                       <str> 'yes', 'yes', 'maybe', 'yes', 'no', 'no', 'yes', 'yes', 'yes', 'yes'\n",
      "$ current_mh                                        <str> 'no', 'yes', 'no', 'yes', 'yes', 'no', 'yes', 'yes', 'yes', 'yes'\n",
      "$ diagnosis_professional                            <str> 'yes', 'yes', 'no', 'yes', 'no', 'no', 'yes', 'yes', 'yes', 'yes'\n",
      "$ diagnosis_name_professional_condition             <str> 'anxiety disorder (generalized, social, phobia, etc)', 'anxiety disorder (generalized, social, phobia, etc)|mood disorder (depression, bipolar disorder, etc)', None, 'anxiety disorder (generalized, social, phobia, etc)', None, None, 'anxiety disorder (generalized, social, phobia, etc)|substance use disorder', 'mood disorder (depression, bipolar disorder, etc)', 'mood disorder (depression, bipolar disorder, etc)', 'anxiety disorder (generalized, social, phobia, etc)'\n",
      "$ used_therapy                                      <i64> 0, 1, 1, 1, 1, 0, 1, 1, 1, 1\n",
      "$ interference_mh_treated_with_work                 <str> 'not applicable to me', 'rarely', 'not applicable to me', 'sometimes', 'not applicable to me', 'not applicable to me', 'sometimes', 'rarely', 'sometimes', 'never'\n",
      "$ interference_mh_untreated_with_work               <str> 'not applicable to me', 'sometimes', 'not applicable to me', 'sometimes', 'often', 'not applicable to me', 'often', 'often', 'often', 'rarely'\n",
      "$ age                                               <i64> 39, 29, 38, 43, 42, 30, 37, 44, 28, 34\n",
      "$ gender                                            <str> 'male', 'male', 'male ', 'female', 'male', 'm', 'female', 'female', 'male', 'male'\n",
      "$ country_residency                                 <str> 'united kingdom', 'united states of america', 'united kingdom', 'united states of america', 'united kingdom', 'united states of america', 'united states of america', 'united states of america', 'united states of america', 'united states of america'\n",
      "$ usa_state_residency                               <str> None, 'illinois', None, 'illinois', None, 'tennessee', 'virginia', 'california', 'oregon', 'pennsylvania'\n",
      "$ country_work                                      <str> 'united kingdom', 'united states of america', 'united kingdom', 'united states of america', 'united kingdom', 'united states of america', 'united states of america', 'united states of america', 'united states of america', 'united states of america'\n",
      "$ usa_state_work                                    <str> None, 'illinois', None, 'illinois', None, 'tennessee', 'virginia', 'california', 'oregon', 'pennsylvania'\n",
      "$ job_title                                         <str> 'back-end developer', 'back-end developer|front-end developer', 'back-end developer', 'executive leadership|supervisor/team lead|dev evangelist/advocate|devops/sysadmin|support|back-end developer|front-end developer', 'devops/sysadmin|support|back-end developer|front-end developer|designer', 'back-end developer', 'dev evangelist/advocate|back-end developer', 'support|back-end developer|one-person shop', 'front-end developer', 'executive leadership'\n",
      "$ remote                                            <str> 'sometimes', 'never', 'always', 'sometimes', 'sometimes', 'sometimes', 'always', 'sometimes', 'never', 'sometimes'\n",
      "\n"
     ]
    }
   ],
   "source": [
    "df.glimpse(max_items_per_column=10)"
   ]
  },
  {
   "cell_type": "code",
   "execution_count": 22,
   "id": "0a17e4ad-3f5d-4ce6-9e24-4c11364e1821",
   "metadata": {},
   "outputs": [],
   "source": [
    "# Standardize all categorical columsn that are currently answered with 0/1 instead of yes/no\n",
    "df = df.with_columns(\n",
    "    pl.when(pl.col('tech_comp_indic') == 1).then(pl.lit('yes')).when(pl.col('tech_comp_indic') == 0).then(pl.lit('no')).alias('tech_comp_indic') ,\n",
    "    pl.when(pl.col('tech_role_indic') == 1).then(pl.lit('yes')).when(pl.col('tech_role_indic') == 0).then(pl.lit('no')).alias('tech_role_indic') ,\n",
    "    pl.when(pl.col('used_therapy') == 1).then(pl.lit('yes')).when(pl.col('used_therapy') == 0).then(pl.lit('no')).alias('used_therapy')          ,                          \n",
    "    pl.when(pl.col('prev_employers') == 1).then(pl.lit('yes')).when(pl.col('prev_employers') == 0).then(pl.lit('no')).alias('prev_employers')\n",
    ")"
   ]
  },
  {
   "cell_type": "code",
   "execution_count": 23,
   "id": "b9bdaa1d-1038-415f-b52c-5172f7528b64",
   "metadata": {},
   "outputs": [
    {
     "data": {
      "text/html": [
       "<div><style>\n",
       ".dataframe > thead > tr,\n",
       ".dataframe > tbody > tr {\n",
       "  text-align: right;\n",
       "  white-space: pre-wrap;\n",
       "}\n",
       "</style>\n",
       "<small>shape: (1, 53)</small><table border=\"1\" class=\"dataframe\"><thead><tr><th>index</th><th>comp_size</th><th>tech_comp_indic</th><th>tech_role_indic</th><th>availability_of_benefits</th><th>awareness_of_benefits</th><th>mh_discussion_indic</th><th>mh_resources_availability_indic</th><th>anonym_use_benefit_indic</th><th>sick_leave_difficulty</th><th>neg_consequences_discussing_mh</th><th>neg_consequences_discussing_ph</th><th>comf_discussing_mh_with_coworker_indic</th><th>comf_discussing_mnh_with_supervisor_indic</th><th>employer_importance_mh_vs_ph</th><th>known_neg_consequences_of_mh</th><th>prev_employers</th><th>availability_of_benefits_prev_employer</th><th>awareness_of_benefits_prev_employer</th><th>mh_discussion_indic_prev_employer</th><th>mh_resources_availability_indic_prev_employer</th><th>anonym_use_benefit_indic_prev_employer</th><th>neg_consequences_discussing_mh_prev_employer</th><th>neg_consequences_discussing_ph_prev_employer</th><th>comf_discussing_mh_with_coworker_prev_employer</th><th>comf_discussing_mnh_with_supervisor_prev_employer</th><th>employer_importance_mh_vs_ph_prev_employer</th><th>known_neg_consequences_of_mh_prev_employer</th><th>willing_discuss_ph_in_hiring_interview</th><th>why_why_not_1</th><th>willing_discuss_mh_in_hiring_interview</th><th>why_why_not_2</th><th>percevied_neg_impact_carreer_of_mh</th><th>perceived_neg_impact_coworker_opiniton_of_mh</th><th>willingness_to_share_with_friend_family</th><th>neg_response_to_mh</th><th>willingness_to_share_mh_after_observation</th><th>mh_family_hist</th><th>previous_mh</th><th>current_mh</th><th>diagnosis_professional</th><th>diagnosis_name_professional_condition</th><th>used_therapy</th><th>interference_mh_treated_with_work</th><th>interference_mh_untreated_with_work</th><th>age</th><th>gender</th><th>country_residency</th><th>usa_state_residency</th><th>country_work</th><th>usa_state_work</th><th>job_title</th><th>remote</th></tr><tr><td>u32</td><td>u32</td><td>u32</td><td>u32</td><td>u32</td><td>u32</td><td>u32</td><td>u32</td><td>u32</td><td>u32</td><td>u32</td><td>u32</td><td>u32</td><td>u32</td><td>u32</td><td>u32</td><td>u32</td><td>u32</td><td>u32</td><td>u32</td><td>u32</td><td>u32</td><td>u32</td><td>u32</td><td>u32</td><td>u32</td><td>u32</td><td>u32</td><td>u32</td><td>u32</td><td>u32</td><td>u32</td><td>u32</td><td>u32</td><td>u32</td><td>u32</td><td>u32</td><td>u32</td><td>u32</td><td>u32</td><td>u32</td><td>u32</td><td>u32</td><td>u32</td><td>u32</td><td>u32</td><td>u32</td><td>u32</td><td>u32</td><td>u32</td><td>u32</td><td>u32</td><td>u32</td></tr></thead><tbody><tr><td>0</td><td>0</td><td>0</td><td>0</td><td>0</td><td>0</td><td>0</td><td>0</td><td>0</td><td>0</td><td>0</td><td>0</td><td>0</td><td>0</td><td>0</td><td>0</td><td>0</td><td>131</td><td>131</td><td>131</td><td>131</td><td>131</td><td>131</td><td>131</td><td>131</td><td>131</td><td>131</td><td>131</td><td>0</td><td>274</td><td>0</td><td>249</td><td>0</td><td>0</td><td>0</td><td>0</td><td>546</td><td>0</td><td>0</td><td>0</td><td>0</td><td>583</td><td>0</td><td>0</td><td>0</td><td>0</td><td>1</td><td>0</td><td>437</td><td>0</td><td>430</td><td>0</td><td>0</td></tr></tbody></table></div>"
      ],
      "text/plain": [
       "shape: (1, 53)\n",
       "┌───────┬───────────┬─────────────────┬─────────────────┬───┬──────────────┬────────────────┬───────────┬────────┐\n",
       "│ index ┆ comp_size ┆ tech_comp_indic ┆ tech_role_indic ┆ … ┆ country_work ┆ usa_state_work ┆ job_title ┆ remote │\n",
       "│ ---   ┆ ---       ┆ ---             ┆ ---             ┆   ┆ ---          ┆ ---            ┆ ---       ┆ ---    │\n",
       "│ u32   ┆ u32       ┆ u32             ┆ u32             ┆   ┆ u32          ┆ u32            ┆ u32       ┆ u32    │\n",
       "╞═══════╪═══════════╪═════════════════╪═════════════════╪═══╪══════════════╪════════════════╪═══════════╪════════╡\n",
       "│ 0     ┆ 0         ┆ 0               ┆ 0               ┆ … ┆ 0            ┆ 430            ┆ 0         ┆ 0      │\n",
       "└───────┴───────────┴─────────────────┴─────────────────┴───┴──────────────┴────────────────┴───────────┴────────┘"
      ]
     },
     "execution_count": 23,
     "metadata": {},
     "output_type": "execute_result"
    }
   ],
   "source": [
    "df.null_count()"
   ]
  },
  {
   "cell_type": "markdown",
   "id": "d2580185-5a22-4fdc-b93e-1c3238485b79",
   "metadata": {},
   "source": [
    "It is evident that country_residency, usa_state_residency , country_work , usa_state_work can be imputed somehow  \n",
    "Instead of NULL we can come up with a string that says 'international' or 'not applicable'"
   ]
  },
  {
   "cell_type": "code",
   "execution_count": 24,
   "id": "15d76a3e-9d3f-4aa6-9700-028f30023cbf",
   "metadata": {},
   "outputs": [],
   "source": [
    "df = df.with_columns(\n",
    "    pl.when(pl.col('country_residency') != 'united states of america').then(pl.lit('international')).otherwise('usa_state_residency').alias('usa_state_residency'),\n",
    "    pl.when(pl.col('country_work') != 'united states of america').then(pl.lit('international')).otherwise('usa_state_work').alias('usa_state_work')\n",
    ")"
   ]
  },
  {
   "cell_type": "markdown",
   "id": "5e2431d7-89e8-4eed-aa2b-59ccf2e8b6d0",
   "metadata": {},
   "source": [
    "### Investigate Null Values"
   ]
  },
  {
   "cell_type": "code",
   "execution_count": 25,
   "id": "cadc0323-1293-43ae-ab86-80fe564e6613",
   "metadata": {},
   "outputs": [
    {
     "data": {
      "text/html": [
       "<div><style>\n",
       ".dataframe > thead > tr,\n",
       ".dataframe > tbody > tr {\n",
       "  text-align: right;\n",
       "  white-space: pre-wrap;\n",
       "}\n",
       "</style>\n",
       "<small>shape: (1, 53)</small><table border=\"1\" class=\"dataframe\"><thead><tr><th>index</th><th>comp_size</th><th>tech_comp_indic</th><th>tech_role_indic</th><th>availability_of_benefits</th><th>awareness_of_benefits</th><th>mh_discussion_indic</th><th>mh_resources_availability_indic</th><th>anonym_use_benefit_indic</th><th>sick_leave_difficulty</th><th>neg_consequences_discussing_mh</th><th>neg_consequences_discussing_ph</th><th>comf_discussing_mh_with_coworker_indic</th><th>comf_discussing_mnh_with_supervisor_indic</th><th>employer_importance_mh_vs_ph</th><th>known_neg_consequences_of_mh</th><th>prev_employers</th><th>availability_of_benefits_prev_employer</th><th>awareness_of_benefits_prev_employer</th><th>mh_discussion_indic_prev_employer</th><th>mh_resources_availability_indic_prev_employer</th><th>anonym_use_benefit_indic_prev_employer</th><th>neg_consequences_discussing_mh_prev_employer</th><th>neg_consequences_discussing_ph_prev_employer</th><th>comf_discussing_mh_with_coworker_prev_employer</th><th>comf_discussing_mnh_with_supervisor_prev_employer</th><th>employer_importance_mh_vs_ph_prev_employer</th><th>known_neg_consequences_of_mh_prev_employer</th><th>willing_discuss_ph_in_hiring_interview</th><th>why_why_not_1</th><th>willing_discuss_mh_in_hiring_interview</th><th>why_why_not_2</th><th>percevied_neg_impact_carreer_of_mh</th><th>perceived_neg_impact_coworker_opiniton_of_mh</th><th>willingness_to_share_with_friend_family</th><th>neg_response_to_mh</th><th>willingness_to_share_mh_after_observation</th><th>mh_family_hist</th><th>previous_mh</th><th>current_mh</th><th>diagnosis_professional</th><th>diagnosis_name_professional_condition</th><th>used_therapy</th><th>interference_mh_treated_with_work</th><th>interference_mh_untreated_with_work</th><th>age</th><th>gender</th><th>country_residency</th><th>usa_state_residency</th><th>country_work</th><th>usa_state_work</th><th>job_title</th><th>remote</th></tr><tr><td>u32</td><td>u32</td><td>u32</td><td>u32</td><td>u32</td><td>u32</td><td>u32</td><td>u32</td><td>u32</td><td>u32</td><td>u32</td><td>u32</td><td>u32</td><td>u32</td><td>u32</td><td>u32</td><td>u32</td><td>u32</td><td>u32</td><td>u32</td><td>u32</td><td>u32</td><td>u32</td><td>u32</td><td>u32</td><td>u32</td><td>u32</td><td>u32</td><td>u32</td><td>u32</td><td>u32</td><td>u32</td><td>u32</td><td>u32</td><td>u32</td><td>u32</td><td>u32</td><td>u32</td><td>u32</td><td>u32</td><td>u32</td><td>u32</td><td>u32</td><td>u32</td><td>u32</td><td>u32</td><td>u32</td><td>u32</td><td>u32</td><td>u32</td><td>u32</td><td>u32</td><td>u32</td></tr></thead><tbody><tr><td>0</td><td>0</td><td>0</td><td>0</td><td>0</td><td>0</td><td>0</td><td>0</td><td>0</td><td>0</td><td>0</td><td>0</td><td>0</td><td>0</td><td>0</td><td>0</td><td>0</td><td>131</td><td>131</td><td>131</td><td>131</td><td>131</td><td>131</td><td>131</td><td>131</td><td>131</td><td>131</td><td>131</td><td>0</td><td>274</td><td>0</td><td>249</td><td>0</td><td>0</td><td>0</td><td>0</td><td>546</td><td>0</td><td>0</td><td>0</td><td>0</td><td>583</td><td>0</td><td>0</td><td>0</td><td>0</td><td>1</td><td>0</td><td>0</td><td>0</td><td>0</td><td>0</td><td>0</td></tr></tbody></table></div>"
      ],
      "text/plain": [
       "shape: (1, 53)\n",
       "┌───────┬───────────┬─────────────────┬─────────────────┬───┬──────────────┬────────────────┬───────────┬────────┐\n",
       "│ index ┆ comp_size ┆ tech_comp_indic ┆ tech_role_indic ┆ … ┆ country_work ┆ usa_state_work ┆ job_title ┆ remote │\n",
       "│ ---   ┆ ---       ┆ ---             ┆ ---             ┆   ┆ ---          ┆ ---            ┆ ---       ┆ ---    │\n",
       "│ u32   ┆ u32       ┆ u32             ┆ u32             ┆   ┆ u32          ┆ u32            ┆ u32       ┆ u32    │\n",
       "╞═══════╪═══════════╪═════════════════╪═════════════════╪═══╪══════════════╪════════════════╪═══════════╪════════╡\n",
       "│ 0     ┆ 0         ┆ 0               ┆ 0               ┆ … ┆ 0            ┆ 0              ┆ 0         ┆ 0      │\n",
       "└───────┴───────────┴─────────────────┴─────────────────┴───┴──────────────┴────────────────┴───────────┴────────┘"
      ]
     },
     "execution_count": 25,
     "metadata": {},
     "output_type": "execute_result"
    }
   ],
   "source": [
    "df.null_count()"
   ]
  },
  {
   "cell_type": "markdown",
   "id": "e43d814d-517a-4e53-95fd-58f5422fa721",
   "metadata": {},
   "source": [
    "### Investigate if there are unusual amounts of unique values in a column and investigate"
   ]
  },
  {
   "cell_type": "code",
   "execution_count": 26,
   "id": "b4f8393f-903f-4091-9fa6-b0cb363f4a6b",
   "metadata": {},
   "outputs": [
    {
     "data": {
      "text/html": [
       "<div><style>\n",
       ".dataframe > thead > tr,\n",
       ".dataframe > tbody > tr {\n",
       "  text-align: right;\n",
       "  white-space: pre-wrap;\n",
       "}\n",
       "</style>\n",
       "<small>shape: (1, 53)</small><table border=\"1\" class=\"dataframe\"><thead><tr><th>index</th><th>comp_size</th><th>tech_comp_indic</th><th>tech_role_indic</th><th>availability_of_benefits</th><th>awareness_of_benefits</th><th>mh_discussion_indic</th><th>mh_resources_availability_indic</th><th>anonym_use_benefit_indic</th><th>sick_leave_difficulty</th><th>neg_consequences_discussing_mh</th><th>neg_consequences_discussing_ph</th><th>comf_discussing_mh_with_coworker_indic</th><th>comf_discussing_mnh_with_supervisor_indic</th><th>employer_importance_mh_vs_ph</th><th>known_neg_consequences_of_mh</th><th>prev_employers</th><th>availability_of_benefits_prev_employer</th><th>awareness_of_benefits_prev_employer</th><th>mh_discussion_indic_prev_employer</th><th>mh_resources_availability_indic_prev_employer</th><th>anonym_use_benefit_indic_prev_employer</th><th>neg_consequences_discussing_mh_prev_employer</th><th>neg_consequences_discussing_ph_prev_employer</th><th>comf_discussing_mh_with_coworker_prev_employer</th><th>comf_discussing_mnh_with_supervisor_prev_employer</th><th>employer_importance_mh_vs_ph_prev_employer</th><th>known_neg_consequences_of_mh_prev_employer</th><th>willing_discuss_ph_in_hiring_interview</th><th>why_why_not_1</th><th>willing_discuss_mh_in_hiring_interview</th><th>why_why_not_2</th><th>percevied_neg_impact_carreer_of_mh</th><th>perceived_neg_impact_coworker_opiniton_of_mh</th><th>willingness_to_share_with_friend_family</th><th>neg_response_to_mh</th><th>willingness_to_share_mh_after_observation</th><th>mh_family_hist</th><th>previous_mh</th><th>current_mh</th><th>diagnosis_professional</th><th>diagnosis_name_professional_condition</th><th>used_therapy</th><th>interference_mh_treated_with_work</th><th>interference_mh_untreated_with_work</th><th>age</th><th>gender</th><th>country_residency</th><th>usa_state_residency</th><th>country_work</th><th>usa_state_work</th><th>job_title</th><th>remote</th></tr><tr><td>u32</td><td>u32</td><td>u32</td><td>u32</td><td>u32</td><td>u32</td><td>u32</td><td>u32</td><td>u32</td><td>u32</td><td>u32</td><td>u32</td><td>u32</td><td>u32</td><td>u32</td><td>u32</td><td>u32</td><td>u32</td><td>u32</td><td>u32</td><td>u32</td><td>u32</td><td>u32</td><td>u32</td><td>u32</td><td>u32</td><td>u32</td><td>u32</td><td>u32</td><td>u32</td><td>u32</td><td>u32</td><td>u32</td><td>u32</td><td>u32</td><td>u32</td><td>u32</td><td>u32</td><td>u32</td><td>u32</td><td>u32</td><td>u32</td><td>u32</td><td>u32</td><td>u32</td><td>u32</td><td>u32</td><td>u32</td><td>u32</td><td>u32</td><td>u32</td><td>u32</td><td>u32</td></tr></thead><tbody><tr><td>1146</td><td>6</td><td>2</td><td>2</td><td>4</td><td>4</td><td>3</td><td>3</td><td>3</td><td>6</td><td>3</td><td>3</td><td>3</td><td>3</td><td>3</td><td>2</td><td>2</td><td>5</td><td>5</td><td>5</td><td>4</td><td>5</td><td>5</td><td>4</td><td>4</td><td>5</td><td>5</td><td>4</td><td>3</td><td>863</td><td>3</td><td>854</td><td>5</td><td>5</td><td>6</td><td>5</td><td>5</td><td>3</td><td>3</td><td>3</td><td>2</td><td>90</td><td>2</td><td>5</td><td>5</td><td>51</td><td>52</td><td>43</td><td>48</td><td>44</td><td>49</td><td>180</td><td>3</td></tr></tbody></table></div>"
      ],
      "text/plain": [
       "shape: (1, 53)\n",
       "┌───────┬───────────┬─────────────────┬─────────────────┬───┬──────────────┬────────────────┬───────────┬────────┐\n",
       "│ index ┆ comp_size ┆ tech_comp_indic ┆ tech_role_indic ┆ … ┆ country_work ┆ usa_state_work ┆ job_title ┆ remote │\n",
       "│ ---   ┆ ---       ┆ ---             ┆ ---             ┆   ┆ ---          ┆ ---            ┆ ---       ┆ ---    │\n",
       "│ u32   ┆ u32       ┆ u32             ┆ u32             ┆   ┆ u32          ┆ u32            ┆ u32       ┆ u32    │\n",
       "╞═══════╪═══════════╪═════════════════╪═════════════════╪═══╪══════════════╪════════════════╪═══════════╪════════╡\n",
       "│ 1146  ┆ 6         ┆ 2               ┆ 2               ┆ … ┆ 44           ┆ 49             ┆ 180       ┆ 3      │\n",
       "└───────┴───────────┴─────────────────┴─────────────────┴───┴──────────────┴────────────────┴───────────┴────────┘"
      ]
     },
     "execution_count": 26,
     "metadata": {},
     "output_type": "execute_result"
    }
   ],
   "source": [
    "df.select(pl.all().n_unique())"
   ]
  },
  {
   "cell_type": "markdown",
   "id": "c95bfc62-b3b5-4022-8c0c-f98a0f6fb1c9",
   "metadata": {},
   "source": [
    "### Investigate the Null values of the questions (1) if subject had previous employers & (2) if those previous employers provided MH health insurance benefits"
   ]
  },
  {
   "cell_type": "code",
   "execution_count": 27,
   "id": "e8cfe344-70eb-4cbe-b1f5-aeb0068c148c",
   "metadata": {
    "scrolled": true
   },
   "outputs": [
    {
     "name": "stdout",
     "output_type": "stream",
     "text": [
      "shape: (2, 2)\n",
      "┌────────────────┬───────┐\n",
      "│ prev_employers ┆ count │\n",
      "│ ---            ┆ ---   │\n",
      "│ str            ┆ u32   │\n",
      "╞════════════════╪═══════╡\n",
      "│ no             ┆ 131   │\n",
      "│ yes            ┆ 1015  │\n",
      "└────────────────┴───────┘\n",
      "shape: (854, 2)\n",
      "┌─────────────────────────────────┬───────┐\n",
      "│ why_why_not_2                   ┆ count │\n",
      "│ ---                             ┆ ---   │\n",
      "│ str                             ┆ u32   │\n",
      "╞═════════════════════════════════╪═══════╡\n",
      "│ majority of mental health issu… ┆ 1     │\n",
      "│ too much stigma, no way i woul… ┆ 1     │\n",
      "│ stigma.                         ┆ 1     │\n",
      "│ wouldn't want to jeopardize my… ┆ 1     │\n",
      "│ a negative count against me fo… ┆ 1     │\n",
      "│ …                               ┆ …     │\n",
      "│ mental health is still viewed … ┆ 1     │\n",
      "│ depends on likely impact on wo… ┆ 1     │\n",
      "│ i would not because i am very … ┆ 1     │\n",
      "│ i would definitely be worried … ┆ 1     │\n",
      "│ same answer as physical         ┆ 1     │\n",
      "└─────────────────────────────────┴───────┘\n"
     ]
    }
   ],
   "source": [
    "print(df.to_series(16).value_counts())\n",
    "with pl.Config(tbl_rows=10):\n",
    "    print(df.to_series(31).value_counts())"
   ]
  },
  {
   "cell_type": "markdown",
   "id": "57f60de9-9f10-4ed2-9a5a-13529bd917e1",
   "metadata": {},
   "source": [
    "### It can be seen that the NULL values are those that do not have previous employers (Same logi applies to columns index 16 to 27)\n",
    "### Impute with \"not applicable\"\n",
    "##### NOTE!! This is also a good project for visualization to see the causality"
   ]
  },
  {
   "cell_type": "code",
   "execution_count": 28,
   "id": "f99cb0bc-60e2-4605-9d5d-5527eaf9356d",
   "metadata": {},
   "outputs": [],
   "source": [
    "df = df.with_columns(\t\n",
    "    pl.when(pl.col('prev_employers') == 'no').then(pl.lit('not applicable')).otherwise(pl.col('availability_of_benefits_prev_employer')).alias('availability_of_benefits_prev_employer') \n",
    "    , pl.when(pl.col('prev_employers') == 'no').then(pl.lit('not applicable')).otherwise(pl.col('awareness_of_benefits_prev_employer')).alias('awareness_of_benefits_prev_employer')\n",
    "    , pl.when(pl.col('prev_employers') == 'no').then(pl.lit('not applicable')).otherwise(pl.col('mh_discussion_indic_prev_employer')).alias('mh_discussion_indic_prev_employer')\n",
    "    , pl.when(pl.col('prev_employers') == 'no').then(pl.lit('not applicable')).otherwise(pl.col('mh_resources_availability_indic_prev_employer')).alias('mh_resources_availability_indic_prev_employer')\n",
    "    , pl.when(pl.col('prev_employers') == 'no').then(pl.lit('not applicable')).otherwise(pl.col('anonym_use_benefit_indic_prev_employer')).alias('anonym_use_benefit_indic_prev_employer')\n",
    "    , pl.when(pl.col('prev_employers') == 'no').then(pl.lit('not applicable')).otherwise(pl.col('neg_consequences_discussing_mh_prev_employer')).alias('neg_consequences_discussing_mh_prev_employer')\n",
    "    , pl.when(pl.col('prev_employers') == 'no').then(pl.lit('not applicable')).otherwise(pl.col('neg_consequences_discussing_ph_prev_employer')).alias('neg_consequences_discussing_ph_prev_employer')\n",
    "    , pl.when(pl.col('prev_employers') == 'no').then(pl.lit('not applicable')).otherwise(pl.col('comf_discussing_mh_with_coworker_prev_employer')).alias('comf_discussing_mh_with_coworker_prev_employer')\n",
    "    , pl.when(pl.col('prev_employers') == 'no').then(pl.lit('not applicable')).otherwise(pl.col('comf_discussing_mnh_with_supervisor_prev_employer')).alias('comf_discussing_mnh_with_supervisor_prev_employer')\n",
    "    , pl.when(pl.col('prev_employers') == 'no').then(pl.lit('not applicable')).otherwise(pl.col('employer_importance_mh_vs_ph_prev_employer')).alias('employer_importance_mh_vs_ph_prev_employer')                    \n",
    "    , pl.when(pl.col('prev_employers') == 'no').then(pl.lit('not applicable')).otherwise(pl.col('known_neg_consequences_of_mh_prev_employer')).alias('known_neg_consequences_of_mh_prev_employer')                                                        \n",
    ")"
   ]
  },
  {
   "cell_type": "code",
   "execution_count": 29,
   "id": "f5812cc6-70f8-47e7-919f-9c5178b07da5",
   "metadata": {},
   "outputs": [],
   "source": [
    "### Investigate the remainin NULL value columns\n",
    "### These are ok and can be imputed with the mean,mode or other techniques\n",
    "### To make a decision discuss with DS if impuitation before TF-IDF or after makes more sense"
   ]
  },
  {
   "cell_type": "code",
   "execution_count": 30,
   "id": "59c4b54f-5d8e-4165-b253-0f6c4fee22ae",
   "metadata": {},
   "outputs": [
    {
     "name": "stdout",
     "output_type": "stream",
     "text": [
      "shape: (1_146, 1)\n",
      "┌─────────────────────────────────┐\n",
      "│ employer_importance_mh_vs_ph_p… │\n",
      "│ ---                             │\n",
      "│ str                             │\n",
      "╞═════════════════════════════════╡\n",
      "│ i don't know                    │\n",
      "│ some did                        │\n",
      "│ i don't know                    │\n",
      "│ some did                        │\n",
      "│ none did                        │\n",
      "│ …                               │\n",
      "│ some did                        │\n",
      "│ none did                        │\n",
      "│ none did                        │\n",
      "│ none did                        │\n",
      "│ not applicable                  │\n",
      "└─────────────────────────────────┘\n"
     ]
    }
   ],
   "source": [
    "print(df.select(pl.col('employer_importance_mh_vs_ph_prev_employer')))"
   ]
  },
  {
   "cell_type": "code",
   "execution_count": 31,
   "id": "f72c02f8-fdbc-4ea4-bbde-3c7b237f8355",
   "metadata": {},
   "outputs": [
    {
     "data": {
      "text/html": [
       "<div><style>\n",
       ".dataframe > thead > tr,\n",
       ".dataframe > tbody > tr {\n",
       "  text-align: right;\n",
       "  white-space: pre-wrap;\n",
       "}\n",
       "</style>\n",
       "<small>shape: (5, 2)</small><table border=\"1\" class=\"dataframe\"><thead><tr><th>column</th><th>column_0</th></tr><tr><td>str</td><td>u32</td></tr></thead><tbody><tr><td>&quot;why_why_not_1&quot;</td><td>274</td></tr><tr><td>&quot;why_why_not_2&quot;</td><td>249</td></tr><tr><td>&quot;willingness_to_share_mh_after_…</td><td>546</td></tr><tr><td>&quot;diagnosis_name_professional_co…</td><td>583</td></tr><tr><td>&quot;gender&quot;</td><td>1</td></tr></tbody></table></div>"
      ],
      "text/plain": [
       "shape: (5, 2)\n",
       "┌─────────────────────────────────┬──────────┐\n",
       "│ column                          ┆ column_0 │\n",
       "│ ---                             ┆ ---      │\n",
       "│ str                             ┆ u32      │\n",
       "╞═════════════════════════════════╪══════════╡\n",
       "│ why_why_not_1                   ┆ 274      │\n",
       "│ why_why_not_2                   ┆ 249      │\n",
       "│ willingness_to_share_mh_after_… ┆ 546      │\n",
       "│ diagnosis_name_professional_co… ┆ 583      │\n",
       "│ gender                          ┆ 1        │\n",
       "└─────────────────────────────────┴──────────┘"
      ]
     },
     "execution_count": 31,
     "metadata": {},
     "output_type": "execute_result"
    }
   ],
   "source": [
    "df.null_count().transpose(include_header= True).filter(pl.col('column_0') > 0)"
   ]
  },
  {
   "cell_type": "code",
   "execution_count": 32,
   "id": "1e68e1d4-7f9b-40ff-9fc8-f7dfd7f2e4e0",
   "metadata": {},
   "outputs": [],
   "source": [
    "# Need to make a decision what to do with numbers like the comp_size\n",
    "    # Just treat it as a categorical value\n",
    "# Need to make a decision what to do with the textual data (TF-IDF)\n",
    "# Split the Features between textual, ordinal and nominal\n",
    "    # Then encode the categorical features with one technique\n",
    "    # NO, instead use one-hot encoder for nominal and ordinalencoder for ordinal features\n",
    "    # Then encode the textual data with another technique\n",
    "# Scale everything done\n",
    "# Apply Feature selection\n",
    "# Apply dimensionality reduction(?) IS this really necessary at this point? What about principal component analysis as feature selection techinque\n",
    "# Apply K-MEans clustering\n",
    "    # First Choose K via some methods like elbow or some other shit\n",
    "# Evaluate with Matrix and evaluation dataset that I have\n",
    "    # For evaluation take the medical professional diagnosis"
   ]
  },
  {
   "cell_type": "code",
   "execution_count": 33,
   "id": "076e5ec6-a607-4076-9287-9c8ed1163693",
   "metadata": {},
   "outputs": [
    {
     "data": {
      "text/html": [
       "<div><style>\n",
       ".dataframe > thead > tr,\n",
       ".dataframe > tbody > tr {\n",
       "  text-align: right;\n",
       "  white-space: pre-wrap;\n",
       "}\n",
       "</style>\n",
       "<small>shape: (5, 53)</small><table border=\"1\" class=\"dataframe\"><thead><tr><th>index</th><th>comp_size</th><th>tech_comp_indic</th><th>tech_role_indic</th><th>availability_of_benefits</th><th>awareness_of_benefits</th><th>mh_discussion_indic</th><th>mh_resources_availability_indic</th><th>anonym_use_benefit_indic</th><th>sick_leave_difficulty</th><th>neg_consequences_discussing_mh</th><th>neg_consequences_discussing_ph</th><th>comf_discussing_mh_with_coworker_indic</th><th>comf_discussing_mnh_with_supervisor_indic</th><th>employer_importance_mh_vs_ph</th><th>known_neg_consequences_of_mh</th><th>prev_employers</th><th>availability_of_benefits_prev_employer</th><th>awareness_of_benefits_prev_employer</th><th>mh_discussion_indic_prev_employer</th><th>mh_resources_availability_indic_prev_employer</th><th>anonym_use_benefit_indic_prev_employer</th><th>neg_consequences_discussing_mh_prev_employer</th><th>neg_consequences_discussing_ph_prev_employer</th><th>comf_discussing_mh_with_coworker_prev_employer</th><th>comf_discussing_mnh_with_supervisor_prev_employer</th><th>employer_importance_mh_vs_ph_prev_employer</th><th>known_neg_consequences_of_mh_prev_employer</th><th>willing_discuss_ph_in_hiring_interview</th><th>why_why_not_1</th><th>willing_discuss_mh_in_hiring_interview</th><th>why_why_not_2</th><th>percevied_neg_impact_carreer_of_mh</th><th>perceived_neg_impact_coworker_opiniton_of_mh</th><th>willingness_to_share_with_friend_family</th><th>neg_response_to_mh</th><th>willingness_to_share_mh_after_observation</th><th>mh_family_hist</th><th>previous_mh</th><th>current_mh</th><th>diagnosis_professional</th><th>diagnosis_name_professional_condition</th><th>used_therapy</th><th>interference_mh_treated_with_work</th><th>interference_mh_untreated_with_work</th><th>age</th><th>gender</th><th>country_residency</th><th>usa_state_residency</th><th>country_work</th><th>usa_state_work</th><th>job_title</th><th>remote</th></tr><tr><td>u32</td><td>str</td><td>str</td><td>str</td><td>str</td><td>str</td><td>str</td><td>str</td><td>str</td><td>str</td><td>str</td><td>str</td><td>str</td><td>str</td><td>str</td><td>str</td><td>str</td><td>str</td><td>str</td><td>str</td><td>str</td><td>str</td><td>str</td><td>str</td><td>str</td><td>str</td><td>str</td><td>str</td><td>str</td><td>str</td><td>str</td><td>str</td><td>str</td><td>str</td><td>str</td><td>str</td><td>str</td><td>str</td><td>str</td><td>str</td><td>str</td><td>str</td><td>str</td><td>str</td><td>str</td><td>i64</td><td>str</td><td>str</td><td>str</td><td>str</td><td>str</td><td>str</td><td>str</td></tr></thead><tbody><tr><td>0</td><td>&quot;26-100&quot;</td><td>&quot;yes&quot;</td><td>&quot;yes&quot;</td><td>&quot;not eligible for coverage / n/…</td><td>&quot;n/a&quot;</td><td>&quot;no&quot;</td><td>&quot;no&quot;</td><td>&quot;i don&#x27;t know&quot;</td><td>&quot;very easy&quot;</td><td>&quot;no&quot;</td><td>&quot;no&quot;</td><td>&quot;maybe&quot;</td><td>&quot;yes&quot;</td><td>&quot;i don&#x27;t know&quot;</td><td>&quot;no&quot;</td><td>&quot;yes&quot;</td><td>&quot;no, none did&quot;</td><td>&quot;n/a (not currently aware)&quot;</td><td>&quot;i don&#x27;t know&quot;</td><td>&quot;none did&quot;</td><td>&quot;i don&#x27;t know&quot;</td><td>&quot;some of them&quot;</td><td>&quot;none of them&quot;</td><td>&quot;some of my previous employers&quot;</td><td>&quot;some of my previous employers&quot;</td><td>&quot;i don&#x27;t know&quot;</td><td>&quot;none of them&quot;</td><td>&quot;maybe&quot;</td><td>null</td><td>&quot;maybe&quot;</td><td>null</td><td>&quot;maybe&quot;</td><td>&quot;no, i don&#x27;t think they would&quot;</td><td>&quot;somewhat open&quot;</td><td>&quot;no&quot;</td><td>null</td><td>&quot;no&quot;</td><td>&quot;yes&quot;</td><td>&quot;no&quot;</td><td>&quot;yes&quot;</td><td>&quot;anxiety disorder (generalized,…</td><td>&quot;no&quot;</td><td>&quot;not applicable to me&quot;</td><td>&quot;not applicable to me&quot;</td><td>39</td><td>&quot;male&quot;</td><td>&quot;united kingdom&quot;</td><td>&quot;international&quot;</td><td>&quot;united kingdom&quot;</td><td>&quot;international&quot;</td><td>&quot;back-end developer&quot;</td><td>&quot;sometimes&quot;</td></tr><tr><td>1</td><td>&quot;6-25&quot;</td><td>&quot;yes&quot;</td><td>&quot;yes&quot;</td><td>&quot;no&quot;</td><td>&quot;yes&quot;</td><td>&quot;yes&quot;</td><td>&quot;yes&quot;</td><td>&quot;yes&quot;</td><td>&quot;somewhat easy&quot;</td><td>&quot;no&quot;</td><td>&quot;no&quot;</td><td>&quot;maybe&quot;</td><td>&quot;yes&quot;</td><td>&quot;yes&quot;</td><td>&quot;no&quot;</td><td>&quot;yes&quot;</td><td>&quot;yes, they all did&quot;</td><td>&quot;i was aware of some&quot;</td><td>&quot;none did&quot;</td><td>&quot;some did&quot;</td><td>&quot;yes, always&quot;</td><td>&quot;none of them&quot;</td><td>&quot;none of them&quot;</td><td>&quot;no, at none of my previous emp…</td><td>&quot;some of my previous employers&quot;</td><td>&quot;some did&quot;</td><td>&quot;none of them&quot;</td><td>&quot;maybe&quot;</td><td>&quot;it would depend on the health …</td><td>&quot;no&quot;</td><td>&quot;while mental health has become…</td><td>&quot;no, i don&#x27;t think it would&quot;</td><td>&quot;no, i don&#x27;t think they would&quot;</td><td>&quot;somewhat open&quot;</td><td>&quot;no&quot;</td><td>null</td><td>&quot;yes&quot;</td><td>&quot;yes&quot;</td><td>&quot;yes&quot;</td><td>&quot;yes&quot;</td><td>&quot;anxiety disorder (generalized,…</td><td>&quot;yes&quot;</td><td>&quot;rarely&quot;</td><td>&quot;sometimes&quot;</td><td>29</td><td>&quot;male&quot;</td><td>&quot;united states of america&quot;</td><td>&quot;illinois&quot;</td><td>&quot;united states of america&quot;</td><td>&quot;illinois&quot;</td><td>&quot;back-end developer|front-end d…</td><td>&quot;never&quot;</td></tr><tr><td>2</td><td>&quot;6-25&quot;</td><td>&quot;yes&quot;</td><td>&quot;yes&quot;</td><td>&quot;no&quot;</td><td>&quot;n/a&quot;</td><td>&quot;no&quot;</td><td>&quot;no&quot;</td><td>&quot;i don&#x27;t know&quot;</td><td>&quot;neither easy nor difficult&quot;</td><td>&quot;maybe&quot;</td><td>&quot;no&quot;</td><td>&quot;maybe&quot;</td><td>&quot;maybe&quot;</td><td>&quot;i don&#x27;t know&quot;</td><td>&quot;no&quot;</td><td>&quot;yes&quot;</td><td>&quot;no, none did&quot;</td><td>&quot;n/a (not currently aware)&quot;</td><td>&quot;none did&quot;</td><td>&quot;some did&quot;</td><td>&quot;i don&#x27;t know&quot;</td><td>&quot;i don&#x27;t know&quot;</td><td>&quot;some of them&quot;</td><td>&quot;some of my previous employers&quot;</td><td>&quot;i don&#x27;t know&quot;</td><td>&quot;i don&#x27;t know&quot;</td><td>&quot;some of them&quot;</td><td>&quot;yes&quot;</td><td>&quot;they would provable need to kn…</td><td>&quot;yes&quot;</td><td>&quot;stigma, mainly. &quot;</td><td>&quot;maybe&quot;</td><td>&quot;maybe&quot;</td><td>&quot;somewhat open&quot;</td><td>&quot;maybe/not sure&quot;</td><td>&quot;yes&quot;</td><td>&quot;no&quot;</td><td>&quot;maybe&quot;</td><td>&quot;no&quot;</td><td>&quot;no&quot;</td><td>null</td><td>&quot;yes&quot;</td><td>&quot;not applicable to me&quot;</td><td>&quot;not applicable to me&quot;</td><td>38</td><td>&quot;male &quot;</td><td>&quot;united kingdom&quot;</td><td>&quot;international&quot;</td><td>&quot;united kingdom&quot;</td><td>&quot;international&quot;</td><td>&quot;back-end developer&quot;</td><td>&quot;always&quot;</td></tr><tr><td>4</td><td>&quot;6-25&quot;</td><td>&quot;no&quot;</td><td>&quot;no&quot;</td><td>&quot;yes&quot;</td><td>&quot;yes&quot;</td><td>&quot;no&quot;</td><td>&quot;no&quot;</td><td>&quot;no&quot;</td><td>&quot;neither easy nor difficult&quot;</td><td>&quot;yes&quot;</td><td>&quot;maybe&quot;</td><td>&quot;maybe&quot;</td><td>&quot;no&quot;</td><td>&quot;no&quot;</td><td>&quot;no&quot;</td><td>&quot;yes&quot;</td><td>&quot;i don&#x27;t know&quot;</td><td>&quot;n/a (not currently aware)&quot;</td><td>&quot;some did&quot;</td><td>&quot;none did&quot;</td><td>&quot;i don&#x27;t know&quot;</td><td>&quot;some of them&quot;</td><td>&quot;some of them&quot;</td><td>&quot;no, at none of my previous emp…</td><td>&quot;some of my previous employers&quot;</td><td>&quot;some did&quot;</td><td>&quot;some of them&quot;</td><td>&quot;maybe&quot;</td><td>&quot;depending on the interview sta…</td><td>&quot;no&quot;</td><td>&quot;i don&#x27;t know&quot;</td><td>&quot;yes, i think it would&quot;</td><td>&quot;maybe&quot;</td><td>&quot;somewhat open&quot;</td><td>&quot;yes, i experienced&quot;</td><td>&quot;yes&quot;</td><td>&quot;yes&quot;</td><td>&quot;yes&quot;</td><td>&quot;yes&quot;</td><td>&quot;yes&quot;</td><td>&quot;anxiety disorder (generalized,…</td><td>&quot;yes&quot;</td><td>&quot;sometimes&quot;</td><td>&quot;sometimes&quot;</td><td>43</td><td>&quot;female&quot;</td><td>&quot;united states of america&quot;</td><td>&quot;illinois&quot;</td><td>&quot;united states of america&quot;</td><td>&quot;illinois&quot;</td><td>&quot;executive leadership|superviso…</td><td>&quot;sometimes&quot;</td></tr><tr><td>5</td><td>&quot;more than 1000&quot;</td><td>&quot;yes&quot;</td><td>&quot;yes&quot;</td><td>&quot;yes&quot;</td><td>&quot;i am not sure&quot;</td><td>&quot;no&quot;</td><td>&quot;yes&quot;</td><td>&quot;yes&quot;</td><td>&quot;somewhat easy&quot;</td><td>&quot;yes&quot;</td><td>&quot;yes&quot;</td><td>&quot;maybe&quot;</td><td>&quot;yes&quot;</td><td>&quot;no&quot;</td><td>&quot;yes&quot;</td><td>&quot;yes&quot;</td><td>&quot;no, none did&quot;</td><td>&quot;yes, i was aware of all of the…</td><td>&quot;none did&quot;</td><td>&quot;none did&quot;</td><td>&quot;i don&#x27;t know&quot;</td><td>&quot;yes, all of them&quot;</td><td>&quot;some of them&quot;</td><td>&quot;no, at none of my previous emp…</td><td>&quot;no, at none of my previous emp…</td><td>&quot;none did&quot;</td><td>&quot;some of them&quot;</td><td>&quot;yes&quot;</td><td>&quot;if it would potentially affect…</td><td>&quot;maybe&quot;</td><td>&quot;it would depend on the field &amp;…</td><td>&quot;yes, i think it would&quot;</td><td>&quot;maybe&quot;</td><td>&quot;somewhat open&quot;</td><td>&quot;yes, i experienced&quot;</td><td>&quot;no&quot;</td><td>&quot;no&quot;</td><td>&quot;no&quot;</td><td>&quot;yes&quot;</td><td>&quot;no&quot;</td><td>null</td><td>&quot;yes&quot;</td><td>&quot;not applicable to me&quot;</td><td>&quot;often&quot;</td><td>42</td><td>&quot;male&quot;</td><td>&quot;united kingdom&quot;</td><td>&quot;international&quot;</td><td>&quot;united kingdom&quot;</td><td>&quot;international&quot;</td><td>&quot;devops/sysadmin|support|back-e…</td><td>&quot;sometimes&quot;</td></tr></tbody></table></div>"
      ],
      "text/plain": [
       "shape: (5, 53)\n",
       "┌───────┬───────────┬────────────────┬────────────────┬───┬────────────────┬───────────────┬───────────────┬───────────┐\n",
       "│ index ┆ comp_size ┆ tech_comp_indi ┆ tech_role_indi ┆ … ┆ country_work   ┆ usa_state_wor ┆ job_title     ┆ remote    │\n",
       "│ ---   ┆ ---       ┆ c              ┆ c              ┆   ┆ ---            ┆ k             ┆ ---           ┆ ---       │\n",
       "│ u32   ┆ str       ┆ ---            ┆ ---            ┆   ┆ str            ┆ ---           ┆ str           ┆ str       │\n",
       "│       ┆           ┆ str            ┆ str            ┆   ┆                ┆ str           ┆               ┆           │\n",
       "╞═══════╪═══════════╪════════════════╪════════════════╪═══╪════════════════╪═══════════════╪═══════════════╪═══════════╡\n",
       "│ 0     ┆ 26-100    ┆ yes            ┆ yes            ┆ … ┆ united kingdom ┆ international ┆ back-end      ┆ sometimes │\n",
       "│       ┆           ┆                ┆                ┆   ┆                ┆               ┆ developer     ┆           │\n",
       "│ 1     ┆ 6-25      ┆ yes            ┆ yes            ┆ … ┆ united states  ┆ illinois      ┆ back-end deve ┆ never     │\n",
       "│       ┆           ┆                ┆                ┆   ┆ of america     ┆               ┆ loper|front-e ┆           │\n",
       "│       ┆           ┆                ┆                ┆   ┆                ┆               ┆ nd d…         ┆           │\n",
       "│ 2     ┆ 6-25      ┆ yes            ┆ yes            ┆ … ┆ united kingdom ┆ international ┆ back-end      ┆ always    │\n",
       "│       ┆           ┆                ┆                ┆   ┆                ┆               ┆ developer     ┆           │\n",
       "│ 4     ┆ 6-25      ┆ no             ┆ no             ┆ … ┆ united states  ┆ illinois      ┆ executive lea ┆ sometimes │\n",
       "│       ┆           ┆                ┆                ┆   ┆ of america     ┆               ┆ dership|super ┆           │\n",
       "│       ┆           ┆                ┆                ┆   ┆                ┆               ┆ viso…         ┆           │\n",
       "│ 5     ┆ more than ┆ yes            ┆ yes            ┆ … ┆ united kingdom ┆ international ┆ devops/sysadm ┆ sometimes │\n",
       "│       ┆ 1000      ┆                ┆                ┆   ┆                ┆               ┆ in|support|ba ┆           │\n",
       "│       ┆           ┆                ┆                ┆   ┆                ┆               ┆ ck-e…         ┆           │\n",
       "└───────┴───────────┴────────────────┴────────────────┴───┴────────────────┴───────────────┴───────────────┴───────────┘"
      ]
     },
     "execution_count": 33,
     "metadata": {},
     "output_type": "execute_result"
    }
   ],
   "source": [
    "df.head()"
   ]
  },
  {
   "cell_type": "code",
   "execution_count": 34,
   "id": "e8c561af-9835-474b-a63d-1fcedbd3bf58",
   "metadata": {},
   "outputs": [
    {
     "name": "stdout",
     "output_type": "stream",
     "text": [
      "shape: (52, 2)\n",
      "┌──────────────────────────────┬───────┐\n",
      "│ gender                       ┆ count │\n",
      "│ ---                          ┆ ---   │\n",
      "│ str                          ┆ u32   │\n",
      "╞══════════════════════════════╪═══════╡\n",
      "│ male                         ┆ 7     │\n",
      "│ cisdude                      ┆ 1     │\n",
      "│ cis male                     ┆ 3     │\n",
      "│ agender                      ┆ 2     │\n",
      "│ nonbinary                    ┆ 1     │\n",
      "│ …                            ┆ …     │\n",
      "│ genderqueer                  ┆ 2     │\n",
      "│ sex is male                  ┆ 1     │\n",
      "│ cis man                      ┆ 1     │\n",
      "│ female or multi-gender femme ┆ 1     │\n",
      "│ cis female                   ┆ 1     │\n",
      "└──────────────────────────────┴───────┘\n"
     ]
    }
   ],
   "source": [
    "print(df.to_series(46).value_counts())\n",
    "#with pl.Config(tbl_rows=10):\n",
    "#    print(df.to_series(31).value_counts())"
   ]
  },
  {
   "cell_type": "code",
   "execution_count": 35,
   "id": "823f6cd7-a5cb-431e-a9c3-9b37de9a4f71",
   "metadata": {},
   "outputs": [],
   "source": [
    "# Manually categorize ordinal and nominal features\n",
    "feat_cat_ordinal = ['comp_size' , 'sick_leave_difficulty' , 'availability_of_benefits' , 'availability_of_benefits_prev_employer' , 'mh_discussion_indic_prev_employer' \n",
    "                    , 'mh_resources_availability_indic_prev_employer' , 'anonym_use_benefit_indic_prev_employer' , 'neg_consequences_discussing_mh_prev_employer'\n",
    "                    , 'neg_consequences_discussing_ph_prev_employer' , 'comf_discussing_mh_with_coworker_prev_employer' , 'comf_discussing_mnh_with_supervisor_prev_employer'\n",
    "                    , 'employer_importance_mh_vs_ph_prev_employer' , 'known_neg_consequences_of_mh_prev_employer' , 'willingness_to_share_with_friend_family' , 'interference_mh_treated_with_work'\n",
    "                    , 'interference_mh_untreated_with_work' , 'remote']\n",
    "feat_cat_nominal = ['tech_comp_indic' , 'tech_role_indic' , 'awareness_of_benefits' , 'mh_discussion_indic' , 'mh_resources_availability_indic' \n",
    "                    , 'anonym_use_benefit_indic' , 'neg_consequences_discussing_mh' , 'neg_consequences_discussing_ph' , 'comf_discussing_mh_with_coworker_indic' , 'comf_discussing_mnh_with_supervisor_indic' \n",
    "                    , 'employer_importance_mh_vs_ph' ,'known_neg_consequences_of_mh' , 'prev_employers' , 'awareness_of_benefits_prev_employer' , 'willing_discuss_ph_in_hiring_interview'\n",
    "                    , 'willing_discuss_mh_in_hiring_interview' , 'percevied_neg_impact_carreer_of_mh' , 'perceived_neg_impact_coworker_opiniton_of_mh' , 'neg_response_to_mh' , \n",
    "                    'willingness_to_share_mh_after_observation' , 'mh_family_hist' , 'previous_mh' , 'current_mh'  , 'used_therapy'  , 'gender' , 'country_residency'\n",
    "                    , 'usa_state_residency' , 'country_work' , 'usa_state_work'  ]\n",
    "\n",
    "feat_text = []\n",
    "\n",
    "feat_int = ['age']\n",
    "\n",
    "feat_target_variable = 'diagnosis_professional'"
   ]
  },
  {
   "cell_type": "code",
   "execution_count": 36,
   "id": "576e18a2-0813-4618-aa71-48e2363dfdf5",
   "metadata": {},
   "outputs": [],
   "source": [
    "# Fill the feat_text list with the remaining features\n",
    "# get a list of all columns to compare to\n",
    "column_list = df.columns\n",
    "\n",
    "# Define function to check if entries are missing\n",
    "def fill_feat_text():\n",
    "    for x in column_list:\n",
    "        if x not in feat_cat_ordinal and x not in feat_cat_nominal and x not in feat_text:\n",
    "            feat_text.append(x)\n",
    "        else:\n",
    "            continue\n",
    "fill_feat_text()\n",
    "\n",
    "# remove the index feature\n",
    "feat_text.remove('index')"
   ]
  },
  {
   "cell_type": "code",
   "execution_count": 37,
   "id": "8865ba35-9867-4c93-86a5-e2b0546db069",
   "metadata": {},
   "outputs": [
    {
     "data": {
      "text/html": [
       "<div><style>\n",
       ".dataframe > thead > tr,\n",
       ".dataframe > tbody > tr {\n",
       "  text-align: right;\n",
       "  white-space: pre-wrap;\n",
       "}\n",
       "</style>\n",
       "<small>shape: (543, 2)</small><table border=\"1\" class=\"dataframe\"><thead><tr><th>neg_response_to_mh</th><th>willingness_to_share_mh_after_observation</th></tr><tr><td>str</td><td>str</td></tr></thead><tbody><tr><td>&quot;no&quot;</td><td>null</td></tr><tr><td>&quot;no&quot;</td><td>null</td></tr><tr><td>&quot;no&quot;</td><td>null</td></tr><tr><td>&quot;no&quot;</td><td>null</td></tr><tr><td>&quot;no&quot;</td><td>null</td></tr><tr><td>&hellip;</td><td>&hellip;</td></tr><tr><td>&quot;no&quot;</td><td>null</td></tr><tr><td>&quot;no&quot;</td><td>null</td></tr><tr><td>&quot;no&quot;</td><td>null</td></tr><tr><td>&quot;no&quot;</td><td>null</td></tr><tr><td>&quot;no&quot;</td><td>null</td></tr></tbody></table></div>"
      ],
      "text/plain": [
       "shape: (543, 2)\n",
       "┌────────────────────┬─────────────────────────────────┐\n",
       "│ neg_response_to_mh ┆ willingness_to_share_mh_after_… │\n",
       "│ ---                ┆ ---                             │\n",
       "│ str                ┆ str                             │\n",
       "╞════════════════════╪═════════════════════════════════╡\n",
       "│ no                 ┆ null                            │\n",
       "│ no                 ┆ null                            │\n",
       "│ no                 ┆ null                            │\n",
       "│ no                 ┆ null                            │\n",
       "│ no                 ┆ null                            │\n",
       "│ …                  ┆ …                               │\n",
       "│ no                 ┆ null                            │\n",
       "│ no                 ┆ null                            │\n",
       "│ no                 ┆ null                            │\n",
       "│ no                 ┆ null                            │\n",
       "│ no                 ┆ null                            │\n",
       "└────────────────────┴─────────────────────────────────┘"
      ]
     },
     "execution_count": 37,
     "metadata": {},
     "output_type": "execute_result"
    }
   ],
   "source": [
    "# Investigate how to impute 'willingness_to_share_mh_after_observation' based on 'neg_response_to_mh'\n",
    "df.select(pl.col(['neg_response_to_mh' ,'willingness_to_share_mh_after_observation' ])).filter((pl.col('neg_response_to_mh') == 'no') | (pl.col('neg_response_to_mh') == 'n/a'))"
   ]
  },
  {
   "cell_type": "code",
   "execution_count": 38,
   "id": "de9a22aa-b91f-4677-968f-4bbc48b39ac7",
   "metadata": {},
   "outputs": [],
   "source": [
    "# Impute the columns 'willingness_to_share_mh_after_observation' with n/a incase 'neg_response_to_mh' was answered with 'no' or 'n/a'\n",
    "df = df.with_columns(\n",
    "    pl.when(pl.col('neg_response_to_mh') == 'n/a', pl.col('willingness_to_share_mh_after_observation').is_null()).then(pl.lit('n/a')).otherwise(pl.col('willingness_to_share_mh_after_observation')).alias('willingness_to_share_mh_after_observation')\n",
    ")\n",
    "df = df.with_columns(\n",
    "    pl.when(pl.col('neg_response_to_mh') == 'no', pl.col('willingness_to_share_mh_after_observation').is_null()).then(pl.lit('n/a')).otherwise(pl.col('willingness_to_share_mh_after_observation')).alias('willingness_to_share_mh_after_observation')\n",
    ")"
   ]
  },
  {
   "cell_type": "code",
   "execution_count": 39,
   "id": "3d3c1121-87e9-4c12-a9bf-cacd1b6728a6",
   "metadata": {},
   "outputs": [],
   "source": [
    "# Impute & standardize the feature 'gender'\n",
    "# At the moment it can be seen that the answers were freeform\n",
    "# To standardize and make things easier the values are converted to only 3, which is 'other' , 'male' and 'female'\n",
    "\n",
    "# Strip entries of whitespace\n",
    "df = df.with_columns(\n",
    "    pl.col('gender').str.strip_chars().alias('gender')\n",
    ")\n",
    "# Standardize male\n",
    "df = df.with_columns(\n",
    "    pl.col('gender').replace(['m' ,  'male.' , 'cis male' , 'male (cis)' , 'man' , 'dude' , 'cis man' , 'sex is male' , 'mail' , 'cisdude'], 'male').alias('gender')\n",
    ")\n",
    "# Standardize female\n",
    "df = df.with_columns(\n",
    "    pl.col('gender').replace(['f' ,  'i identify as female.' , 'cis female' , 'female assigned at birth' , 'female/woman' , 'woman' , 'fm' , 'fem' , 'cisgender female' , 'cis-woman' \n",
    "                              ,'female (props for making this a freeform field, though)'], 'female').alias('gender')\n",
    ")\n",
    "# Standardize female\n",
    "df = df.with_columns(\n",
    "    pl.when(pl.col('gender').is_in(['male' , 'female']).not_()).then(pl.lit('other')).otherwise(pl.col('gender')).alias('gender')\n",
    ")\n",
    "# Impute missing gender values with the most common gender\n",
    "# most common gender\n",
    "most_common_gender = df.select(pl.col('gender')).to_series().value_counts().sort(by='count', descending = True).select(pl.first('gender')).to_series()[0]\n",
    "df = df.with_columns(\n",
    "    pl.when(pl.col('gender').is_null()).then(pl.lit(most_common_gender)).otherwise('gender').alias('gender')\n",
    ")"
   ]
  },
  {
   "cell_type": "code",
   "execution_count": 40,
   "id": "ac25fe40-f7b1-41bd-a2e4-f4d66acea174",
   "metadata": {},
   "outputs": [
    {
     "data": {
      "text/html": [
       "<div><style>\n",
       ".dataframe > thead > tr,\n",
       ".dataframe > tbody > tr {\n",
       "  text-align: right;\n",
       "  white-space: pre-wrap;\n",
       "}\n",
       "</style>\n",
       "<small>shape: (2, 2)</small><table border=\"1\" class=\"dataframe\"><thead><tr><th>diagnosis_professional</th><th>count</th></tr><tr><td>str</td><td>u32</td></tr></thead><tbody><tr><td>&quot;yes&quot;</td><td>567</td></tr><tr><td>&quot;no&quot;</td><td>579</td></tr></tbody></table></div>"
      ],
      "text/plain": [
       "shape: (2, 2)\n",
       "┌────────────────────────┬───────┐\n",
       "│ diagnosis_professional ┆ count │\n",
       "│ ---                    ┆ ---   │\n",
       "│ str                    ┆ u32   │\n",
       "╞════════════════════════╪═══════╡\n",
       "│ yes                    ┆ 567   │\n",
       "│ no                     ┆ 579   │\n",
       "└────────────────────────┴───────┘"
      ]
     },
     "execution_count": 40,
     "metadata": {},
     "output_type": "execute_result"
    }
   ],
   "source": [
    "df.select(pl.col('diagnosis_professional')).to_series().value_counts()"
   ]
  },
  {
   "cell_type": "code",
   "execution_count": 41,
   "id": "e2309797-c3f1-4d33-a66a-ecbc1f706693",
   "metadata": {},
   "outputs": [
    {
     "data": {
      "text/html": [
       "<div><style>\n",
       ".dataframe > thead > tr,\n",
       ".dataframe > tbody > tr {\n",
       "  text-align: right;\n",
       "  white-space: pre-wrap;\n",
       "}\n",
       "</style>\n",
       "<small>shape: (2, 2)</small><table border=\"1\" class=\"dataframe\"><thead><tr><th>diagnosis_name_professional_condition</th><th>count</th></tr><tr><td>bool</td><td>u32</td></tr></thead><tbody><tr><td>false</td><td>563</td></tr><tr><td>true</td><td>583</td></tr></tbody></table></div>"
      ],
      "text/plain": [
       "shape: (2, 2)\n",
       "┌─────────────────────────────────┬───────┐\n",
       "│ diagnosis_name_professional_co… ┆ count │\n",
       "│ ---                             ┆ ---   │\n",
       "│ bool                            ┆ u32   │\n",
       "╞═════════════════════════════════╪═══════╡\n",
       "│ false                           ┆ 563   │\n",
       "│ true                            ┆ 583   │\n",
       "└─────────────────────────────────┴───────┘"
      ]
     },
     "execution_count": 41,
     "metadata": {},
     "output_type": "execute_result"
    }
   ],
   "source": [
    "# imputation diagnosis_name_professional_condition , check for diagnosis_professional and if that is no than put n/a.\n",
    "df.select(pl.col('diagnosis_name_professional_condition').is_null()).to_series().value_counts()"
   ]
  },
  {
   "cell_type": "code",
   "execution_count": 42,
   "id": "be6c9d72-77f2-41ed-8ed5-1f15fe3596a3",
   "metadata": {},
   "outputs": [],
   "source": [
    "# Impute the null values of the feature 'diagnosis_name_professional_condition' , if there is no diagnosis in feature 'diagnosis_professional'\n",
    "# That means they never got one so they cannot give you a name\n",
    "df = df.with_columns(\n",
    "    pl.when(pl.col('diagnosis_professional') == 'no').then(pl.lit('n/a')).otherwise('diagnosis_name_professional_condition').alias('diagnosis_name_professional_condition')\n",
    ")\n",
    "\n",
    "# Impute missing values with the most common diagnosis\n",
    "# Find the name of the most common diagnosis\n",
    "most_common_mh_diagnosis = df.select(pl.col('diagnosis_name_professional_condition')).to_series().value_counts().sort(by='count' , descending=True).to_series()[1]\n",
    "# Impute the missing values with the most common diagnosis\n",
    "df = df.with_columns(\n",
    "    pl.when(pl.col('diagnosis_name_professional_condition').is_null()).then(pl.lit(most_common_mh_diagnosis)).otherwise('diagnosis_name_professional_condition').alias('diagnosis_name_professional_condition')\n",
    ")"
   ]
  },
  {
   "cell_type": "code",
   "execution_count": 43,
   "id": "3e3c2027-dd10-42c8-94bc-371f71bdbbed",
   "metadata": {},
   "outputs": [],
   "source": [
    "# Impute 'willingness_to_share_mh_after_observation' based on the most commonly used answer\n",
    "# Find the name of the most common answer\n",
    "most_common_willingness = df.select(pl.col('willingness_to_share_mh_after_observation')).to_series().value_counts().sort(by='count' , descending=True).to_series()[1]\n",
    "# Impute the missing values with the most common diagnosis\n",
    "df = df.with_columns(\n",
    "    pl.when(pl.col('willingness_to_share_mh_after_observation').is_null()).then(pl.lit(most_common_willingness)).otherwise('willingness_to_share_mh_after_observation').alias('willingness_to_share_mh_after_observation')\n",
    ")"
   ]
  },
  {
   "cell_type": "code",
   "execution_count": 44,
   "id": "b537ec69-25fe-4ad0-81a5-799d6dd67505",
   "metadata": {},
   "outputs": [
    {
     "data": {
      "text/html": [
       "<div><style>\n",
       ".dataframe > thead > tr,\n",
       ".dataframe > tbody > tr {\n",
       "  text-align: right;\n",
       "  white-space: pre-wrap;\n",
       "}\n",
       "</style>\n",
       "<small>shape: (1_146, 17)</small><table border=\"1\" class=\"dataframe\"><thead><tr><th>comp_size</th><th>sick_leave_difficulty</th><th>availability_of_benefits</th><th>availability_of_benefits_prev_employer</th><th>mh_discussion_indic_prev_employer</th><th>mh_resources_availability_indic_prev_employer</th><th>anonym_use_benefit_indic_prev_employer</th><th>neg_consequences_discussing_mh_prev_employer</th><th>neg_consequences_discussing_ph_prev_employer</th><th>comf_discussing_mh_with_coworker_prev_employer</th><th>comf_discussing_mnh_with_supervisor_prev_employer</th><th>employer_importance_mh_vs_ph_prev_employer</th><th>known_neg_consequences_of_mh_prev_employer</th><th>willingness_to_share_with_friend_family</th><th>interference_mh_treated_with_work</th><th>interference_mh_untreated_with_work</th><th>remote</th></tr><tr><td>str</td><td>str</td><td>str</td><td>str</td><td>str</td><td>str</td><td>str</td><td>str</td><td>str</td><td>str</td><td>str</td><td>str</td><td>str</td><td>str</td><td>str</td><td>str</td><td>str</td></tr></thead><tbody><tr><td>&quot;26-100&quot;</td><td>&quot;very easy&quot;</td><td>&quot;not eligible for coverage / n/…</td><td>&quot;no, none did&quot;</td><td>&quot;i don&#x27;t know&quot;</td><td>&quot;none did&quot;</td><td>&quot;i don&#x27;t know&quot;</td><td>&quot;some of them&quot;</td><td>&quot;none of them&quot;</td><td>&quot;some of my previous employers&quot;</td><td>&quot;some of my previous employers&quot;</td><td>&quot;i don&#x27;t know&quot;</td><td>&quot;none of them&quot;</td><td>&quot;somewhat open&quot;</td><td>&quot;not applicable to me&quot;</td><td>&quot;not applicable to me&quot;</td><td>&quot;sometimes&quot;</td></tr><tr><td>&quot;6-25&quot;</td><td>&quot;somewhat easy&quot;</td><td>&quot;no&quot;</td><td>&quot;yes, they all did&quot;</td><td>&quot;none did&quot;</td><td>&quot;some did&quot;</td><td>&quot;yes, always&quot;</td><td>&quot;none of them&quot;</td><td>&quot;none of them&quot;</td><td>&quot;no, at none of my previous emp…</td><td>&quot;some of my previous employers&quot;</td><td>&quot;some did&quot;</td><td>&quot;none of them&quot;</td><td>&quot;somewhat open&quot;</td><td>&quot;rarely&quot;</td><td>&quot;sometimes&quot;</td><td>&quot;never&quot;</td></tr><tr><td>&quot;6-25&quot;</td><td>&quot;neither easy nor difficult&quot;</td><td>&quot;no&quot;</td><td>&quot;no, none did&quot;</td><td>&quot;none did&quot;</td><td>&quot;some did&quot;</td><td>&quot;i don&#x27;t know&quot;</td><td>&quot;i don&#x27;t know&quot;</td><td>&quot;some of them&quot;</td><td>&quot;some of my previous employers&quot;</td><td>&quot;i don&#x27;t know&quot;</td><td>&quot;i don&#x27;t know&quot;</td><td>&quot;some of them&quot;</td><td>&quot;somewhat open&quot;</td><td>&quot;not applicable to me&quot;</td><td>&quot;not applicable to me&quot;</td><td>&quot;always&quot;</td></tr><tr><td>&quot;6-25&quot;</td><td>&quot;neither easy nor difficult&quot;</td><td>&quot;yes&quot;</td><td>&quot;i don&#x27;t know&quot;</td><td>&quot;some did&quot;</td><td>&quot;none did&quot;</td><td>&quot;i don&#x27;t know&quot;</td><td>&quot;some of them&quot;</td><td>&quot;some of them&quot;</td><td>&quot;no, at none of my previous emp…</td><td>&quot;some of my previous employers&quot;</td><td>&quot;some did&quot;</td><td>&quot;some of them&quot;</td><td>&quot;somewhat open&quot;</td><td>&quot;sometimes&quot;</td><td>&quot;sometimes&quot;</td><td>&quot;sometimes&quot;</td></tr><tr><td>&quot;more than 1000&quot;</td><td>&quot;somewhat easy&quot;</td><td>&quot;yes&quot;</td><td>&quot;no, none did&quot;</td><td>&quot;none did&quot;</td><td>&quot;none did&quot;</td><td>&quot;i don&#x27;t know&quot;</td><td>&quot;yes, all of them&quot;</td><td>&quot;some of them&quot;</td><td>&quot;no, at none of my previous emp…</td><td>&quot;no, at none of my previous emp…</td><td>&quot;none did&quot;</td><td>&quot;some of them&quot;</td><td>&quot;somewhat open&quot;</td><td>&quot;not applicable to me&quot;</td><td>&quot;often&quot;</td><td>&quot;sometimes&quot;</td></tr><tr><td>&hellip;</td><td>&hellip;</td><td>&hellip;</td><td>&hellip;</td><td>&hellip;</td><td>&hellip;</td><td>&hellip;</td><td>&hellip;</td><td>&hellip;</td><td>&hellip;</td><td>&hellip;</td><td>&hellip;</td><td>&hellip;</td><td>&hellip;</td><td>&hellip;</td><td>&hellip;</td><td>&hellip;</td></tr><tr><td>&quot;100-500&quot;</td><td>&quot;somewhat easy&quot;</td><td>&quot;i don&#x27;t know&quot;</td><td>&quot;i don&#x27;t know&quot;</td><td>&quot;i don&#x27;t know&quot;</td><td>&quot;some did&quot;</td><td>&quot;i don&#x27;t know&quot;</td><td>&quot;some of them&quot;</td><td>&quot;some of them&quot;</td><td>&quot;some of my previous employers&quot;</td><td>&quot;some of my previous employers&quot;</td><td>&quot;some did&quot;</td><td>&quot;none of them&quot;</td><td>&quot;somewhat open&quot;</td><td>&quot;rarely&quot;</td><td>&quot;often&quot;</td><td>&quot;sometimes&quot;</td></tr><tr><td>&quot;500-1000&quot;</td><td>&quot;somewhat easy&quot;</td><td>&quot;yes&quot;</td><td>&quot;some did&quot;</td><td>&quot;none did&quot;</td><td>&quot;none did&quot;</td><td>&quot;i don&#x27;t know&quot;</td><td>&quot;some of them&quot;</td><td>&quot;none of them&quot;</td><td>&quot;some of my previous employers&quot;</td><td>&quot;no, at none of my previous emp…</td><td>&quot;none did&quot;</td><td>&quot;yes, all of them&quot;</td><td>&quot;very open&quot;</td><td>&quot;rarely&quot;</td><td>&quot;often&quot;</td><td>&quot;always&quot;</td></tr><tr><td>&quot;100-500&quot;</td><td>&quot;somewhat difficult&quot;</td><td>&quot;yes&quot;</td><td>&quot;some did&quot;</td><td>&quot;none did&quot;</td><td>&quot;some did&quot;</td><td>&quot;sometimes&quot;</td><td>&quot;yes, all of them&quot;</td><td>&quot;some of them&quot;</td><td>&quot;some of my previous employers&quot;</td><td>&quot;some of my previous employers&quot;</td><td>&quot;none did&quot;</td><td>&quot;some of them&quot;</td><td>&quot;somewhat open&quot;</td><td>&quot;rarely&quot;</td><td>&quot;sometimes&quot;</td><td>&quot;sometimes&quot;</td></tr><tr><td>&quot;100-500&quot;</td><td>&quot;somewhat difficult&quot;</td><td>&quot;i don&#x27;t know&quot;</td><td>&quot;no, none did&quot;</td><td>&quot;none did&quot;</td><td>&quot;none did&quot;</td><td>&quot;i don&#x27;t know&quot;</td><td>&quot;yes, all of them&quot;</td><td>&quot;none of them&quot;</td><td>&quot;no, at none of my previous emp…</td><td>&quot;no, at none of my previous emp…</td><td>&quot;none did&quot;</td><td>&quot;none of them&quot;</td><td>&quot;somewhat open&quot;</td><td>&quot;sometimes&quot;</td><td>&quot;often&quot;</td><td>&quot;sometimes&quot;</td></tr><tr><td>&quot;100-500&quot;</td><td>&quot;very difficult&quot;</td><td>&quot;yes&quot;</td><td>&quot;not applicable&quot;</td><td>&quot;not applicable&quot;</td><td>&quot;not applicable&quot;</td><td>&quot;not applicable&quot;</td><td>&quot;not applicable&quot;</td><td>&quot;not applicable&quot;</td><td>&quot;not applicable&quot;</td><td>&quot;not applicable&quot;</td><td>&quot;not applicable&quot;</td><td>&quot;not applicable&quot;</td><td>&quot;somewhat open&quot;</td><td>&quot;not applicable to me&quot;</td><td>&quot;often&quot;</td><td>&quot;sometimes&quot;</td></tr></tbody></table></div>"
      ],
      "text/plain": [
       "shape: (1_146, 17)\n",
       "┌──────────────┬──────────────┬──────────────┬──────────────┬───┬──────────────┬─────────────┬─────────────┬───────────┐\n",
       "│ comp_size    ┆ sick_leave_d ┆ availability ┆ availability ┆ … ┆ willingness_ ┆ interferenc ┆ interferenc ┆ remote    │\n",
       "│ ---          ┆ ifficulty    ┆ _of_benefits ┆ _of_benefits ┆   ┆ to_share_wit ┆ e_mh_treate ┆ e_mh_untrea ┆ ---       │\n",
       "│ str          ┆ ---          ┆ ---          ┆ _prev_…      ┆   ┆ h_frie…      ┆ d_with_w…   ┆ ted_with…   ┆ str       │\n",
       "│              ┆ str          ┆ str          ┆ ---          ┆   ┆ ---          ┆ ---         ┆ ---         ┆           │\n",
       "│              ┆              ┆              ┆ str          ┆   ┆ str          ┆ str         ┆ str         ┆           │\n",
       "╞══════════════╪══════════════╪══════════════╪══════════════╪═══╪══════════════╪═════════════╪═════════════╪═══════════╡\n",
       "│ 26-100       ┆ very easy    ┆ not eligible ┆ no, none did ┆ … ┆ somewhat     ┆ not         ┆ not         ┆ sometimes │\n",
       "│              ┆              ┆ for coverage ┆              ┆   ┆ open         ┆ applicable  ┆ applicable  ┆           │\n",
       "│              ┆              ┆ / n/…        ┆              ┆   ┆              ┆ to me       ┆ to me       ┆           │\n",
       "│ 6-25         ┆ somewhat     ┆ no           ┆ yes, they    ┆ … ┆ somewhat     ┆ rarely      ┆ sometimes   ┆ never     │\n",
       "│              ┆ easy         ┆              ┆ all did      ┆   ┆ open         ┆             ┆             ┆           │\n",
       "│ 6-25         ┆ neither easy ┆ no           ┆ no, none did ┆ … ┆ somewhat     ┆ not         ┆ not         ┆ always    │\n",
       "│              ┆ nor          ┆              ┆              ┆   ┆ open         ┆ applicable  ┆ applicable  ┆           │\n",
       "│              ┆ difficult    ┆              ┆              ┆   ┆              ┆ to me       ┆ to me       ┆           │\n",
       "│ 6-25         ┆ neither easy ┆ yes          ┆ i don't know ┆ … ┆ somewhat     ┆ sometimes   ┆ sometimes   ┆ sometimes │\n",
       "│              ┆ nor          ┆              ┆              ┆   ┆ open         ┆             ┆             ┆           │\n",
       "│              ┆ difficult    ┆              ┆              ┆   ┆              ┆             ┆             ┆           │\n",
       "│ more than    ┆ somewhat     ┆ yes          ┆ no, none did ┆ … ┆ somewhat     ┆ not         ┆ often       ┆ sometimes │\n",
       "│ 1000         ┆ easy         ┆              ┆              ┆   ┆ open         ┆ applicable  ┆             ┆           │\n",
       "│              ┆              ┆              ┆              ┆   ┆              ┆ to me       ┆             ┆           │\n",
       "│ …            ┆ …            ┆ …            ┆ …            ┆ … ┆ …            ┆ …           ┆ …           ┆ …         │\n",
       "│ 100-500      ┆ somewhat     ┆ i don't know ┆ i don't know ┆ … ┆ somewhat     ┆ rarely      ┆ often       ┆ sometimes │\n",
       "│              ┆ easy         ┆              ┆              ┆   ┆ open         ┆             ┆             ┆           │\n",
       "│ 500-1000     ┆ somewhat     ┆ yes          ┆ some did     ┆ … ┆ very open    ┆ rarely      ┆ often       ┆ always    │\n",
       "│              ┆ easy         ┆              ┆              ┆   ┆              ┆             ┆             ┆           │\n",
       "│ 100-500      ┆ somewhat     ┆ yes          ┆ some did     ┆ … ┆ somewhat     ┆ rarely      ┆ sometimes   ┆ sometimes │\n",
       "│              ┆ difficult    ┆              ┆              ┆   ┆ open         ┆             ┆             ┆           │\n",
       "│ 100-500      ┆ somewhat     ┆ i don't know ┆ no, none did ┆ … ┆ somewhat     ┆ sometimes   ┆ often       ┆ sometimes │\n",
       "│              ┆ difficult    ┆              ┆              ┆   ┆ open         ┆             ┆             ┆           │\n",
       "│ 100-500      ┆ very         ┆ yes          ┆ not          ┆ … ┆ somewhat     ┆ not         ┆ often       ┆ sometimes │\n",
       "│              ┆ difficult    ┆              ┆ applicable   ┆   ┆ open         ┆ applicable  ┆             ┆           │\n",
       "│              ┆              ┆              ┆              ┆   ┆              ┆ to me       ┆             ┆           │\n",
       "└──────────────┴──────────────┴──────────────┴──────────────┴───┴──────────────┴─────────────┴─────────────┴───────────┘"
      ]
     },
     "execution_count": 44,
     "metadata": {},
     "output_type": "execute_result"
    }
   ],
   "source": [
    "df.select(pl.col(feat_cat_ordinal))"
   ]
  },
  {
   "cell_type": "markdown",
   "id": "4a47716d-b390-4341-b455-80a470a1c88d",
   "metadata": {},
   "source": [
    "### Here the Feature Encoding starts"
   ]
  },
  {
   "cell_type": "markdown",
   "id": "a876e1f2-d2bc-4738-935a-67c8fc03702a",
   "metadata": {},
   "source": [
    "#### Start with Ordinal Encoding"
   ]
  },
  {
   "cell_type": "code",
   "execution_count": 45,
   "id": "3002c5fe-55d7-47ad-89c8-1d35e5afcea3",
   "metadata": {},
   "outputs": [],
   "source": [
    "# First encode the Ordinal features via ordinalencoder\n",
    "enc = OrdinalEncoder()\n",
    "#enc.fit(df.select(pl.col(feat_cat_ordinal)))"
   ]
  },
  {
   "cell_type": "code",
   "execution_count": 46,
   "id": "03a7bfc0-44e1-433a-afcd-c59095389aac",
   "metadata": {},
   "outputs": [],
   "source": [
    "#enc.categories_"
   ]
  },
  {
   "cell_type": "code",
   "execution_count": 47,
   "id": "95cef480-3840-419a-8706-426d2a018709",
   "metadata": {},
   "outputs": [],
   "source": [
    "# Create a ordered list of column names of ordinal features\n",
    "ord_columns = df.select(pl.col(feat_cat_ordinal)).columns\n",
    "# fit and transform the ordinal featrues to the OrdinalTransformation\n",
    "ordinal_transformation = enc.fit_transform(df.select(pl.col(feat_cat_ordinal)))\n",
    "# Create a dataframe of the transformed features\n",
    "df_ordinal_transformation = pl.DataFrame(ordinal_transformation, schema = ord_columns)\n",
    "\n",
    "# replace the original columns with the transformed ones:\n",
    "df = df.with_columns(df_ordinal_transformation)"
   ]
  },
  {
   "cell_type": "code",
   "execution_count": 48,
   "id": "c094580e-7ce2-4595-952e-8ca6b2a3254e",
   "metadata": {},
   "outputs": [
    {
     "data": {
      "text/html": [
       "<div><style>\n",
       ".dataframe > thead > tr,\n",
       ".dataframe > tbody > tr {\n",
       "  text-align: right;\n",
       "  white-space: pre-wrap;\n",
       "}\n",
       "</style>\n",
       "<small>shape: (2, 2)</small><table border=\"1\" class=\"dataframe\"><thead><tr><th>column</th><th>column_0</th></tr><tr><td>str</td><td>u32</td></tr></thead><tbody><tr><td>&quot;why_why_not_1&quot;</td><td>274</td></tr><tr><td>&quot;why_why_not_2&quot;</td><td>249</td></tr></tbody></table></div>"
      ],
      "text/plain": [
       "shape: (2, 2)\n",
       "┌───────────────┬──────────┐\n",
       "│ column        ┆ column_0 │\n",
       "│ ---           ┆ ---      │\n",
       "│ str           ┆ u32      │\n",
       "╞═══════════════╪══════════╡\n",
       "│ why_why_not_1 ┆ 274      │\n",
       "│ why_why_not_2 ┆ 249      │\n",
       "└───────────────┴──────────┘"
      ]
     },
     "execution_count": 48,
     "metadata": {},
     "output_type": "execute_result"
    }
   ],
   "source": [
    "df.null_count().transpose(include_header= True).filter(pl.col('column_0') > 0)"
   ]
  },
  {
   "cell_type": "markdown",
   "id": "84ed38b0-012f-4bb4-bcdc-6c4843b2c7f0",
   "metadata": {},
   "source": [
    "#### Followed by Target Encoding"
   ]
  },
  {
   "cell_type": "code",
   "execution_count": 49,
   "id": "3c565f1a-2016-4003-8b4c-2dfc2b0ae41b",
   "metadata": {},
   "outputs": [
    {
     "data": {
      "text/html": [
       "<div><style>\n",
       ".dataframe > thead > tr,\n",
       ".dataframe > tbody > tr {\n",
       "  text-align: right;\n",
       "  white-space: pre-wrap;\n",
       "}\n",
       "</style>\n",
       "<small>shape: (49, 2)</small><table border=\"1\" class=\"dataframe\"><thead><tr><th>usa_state_work</th><th>count</th></tr><tr><td>str</td><td>u32</td></tr></thead><tbody><tr><td>&quot;west virginia&quot;</td><td>1</td></tr><tr><td>&quot;kansas&quot;</td><td>14</td></tr><tr><td>&quot;delaware&quot;</td><td>1</td></tr><tr><td>&quot;connecticut&quot;</td><td>3</td></tr><tr><td>&quot;alabama&quot;</td><td>4</td></tr><tr><td>&hellip;</td><td>&hellip;</td></tr><tr><td>&quot;nebraska&quot;</td><td>10</td></tr><tr><td>&quot;utah&quot;</td><td>6</td></tr><tr><td>&quot;maryland&quot;</td><td>11</td></tr><tr><td>&quot;ohio&quot;</td><td>20</td></tr><tr><td>&quot;montana&quot;</td><td>1</td></tr></tbody></table></div>"
      ],
      "text/plain": [
       "shape: (49, 2)\n",
       "┌────────────────┬───────┐\n",
       "│ usa_state_work ┆ count │\n",
       "│ ---            ┆ ---   │\n",
       "│ str            ┆ u32   │\n",
       "╞════════════════╪═══════╡\n",
       "│ west virginia  ┆ 1     │\n",
       "│ kansas         ┆ 14    │\n",
       "│ delaware       ┆ 1     │\n",
       "│ connecticut    ┆ 3     │\n",
       "│ alabama        ┆ 4     │\n",
       "│ …              ┆ …     │\n",
       "│ nebraska       ┆ 10    │\n",
       "│ utah           ┆ 6     │\n",
       "│ maryland       ┆ 11    │\n",
       "│ ohio           ┆ 20    │\n",
       "│ montana        ┆ 1     │\n",
       "└────────────────┴───────┘"
      ]
     },
     "execution_count": 49,
     "metadata": {},
     "output_type": "execute_result"
    }
   ],
   "source": [
    "# Investigate the values of each columns and What encoding to apply\n",
    "# Seems like OneHot Encoding would result in waaay too many columns\n",
    "# Instead use target encoding since we have the right values\n",
    "df.select(pl.col(feat_cat_nominal[28])).to_series().value_counts()"
   ]
  },
  {
   "cell_type": "code",
   "execution_count": 50,
   "id": "9e2bdd60-4d70-4851-bf69-c1c1571678b8",
   "metadata": {},
   "outputs": [],
   "source": [
    "# Invoke TargetEncoder Class\n",
    "# Select smoothness as \"auto\" because I don't know at the moment how to deal with this properly\n",
    "enc_auto = TargetEncoder(smooth=\"auto\")\n",
    "# Fit the TargetEncoder and Transform the nominal features based on the target variable\n",
    "X_trans = enc_auto.fit_transform(df.select(feat_cat_nominal).to_numpy(), df.select(pl.col(feat_target_variable)).to_numpy().ravel())\n",
    "\n",
    "# construct a dataframe out of the transformed features\n",
    "# Create a dictionary for renaming the columns\n",
    "column_rename_dict = {f\"column_{i}\": col_name for i, col_name in enumerate(feat_cat_nominal)}\n",
    "encoded_features_df = pl.DataFrame(X_trans).rename(column_rename_dict)\n",
    "\n",
    "\n",
    "df = df.with_columns(encoded_features_df)"
   ]
  }
 ],
 "metadata": {
  "kernelspec": {
   "display_name": "Python 3 (ipykernel)",
   "language": "python",
   "name": "python3"
  },
  "language_info": {
   "codemirror_mode": {
    "name": "ipython",
    "version": 3
   },
   "file_extension": ".py",
   "mimetype": "text/x-python",
   "name": "python",
   "nbconvert_exporter": "python",
   "pygments_lexer": "ipython3",
   "version": "3.10.14"
  }
 },
 "nbformat": 4,
 "nbformat_minor": 5
}
