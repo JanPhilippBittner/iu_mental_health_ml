{
 "cells": [
  {
   "cell_type": "code",
   "execution_count": 1,
   "id": "caeb60ad-d4b7-41c1-ac70-aba9ef9eb1d9",
   "metadata": {},
   "outputs": [
    {
     "name": "stdout",
     "output_type": "stream",
     "text": [
      "shape: (88, 2)\n",
      "┌───────┬──────┐\n",
      "│ col1  ┆ col2 │\n",
      "│ ---   ┆ ---  │\n",
      "│ str   ┆ f64  │\n",
      "╞═══════╪══════╡\n",
      "│ dog   ┆ 90.3 │\n",
      "│ dog   ┆ 90.3 │\n",
      "│ dog   ┆ 90.3 │\n",
      "│ dog   ┆ 90.3 │\n",
      "│ dog   ┆ 90.3 │\n",
      "│ …     ┆ …    │\n",
      "│ snake ┆ 49.0 │\n",
      "│ snake ┆ 49.0 │\n",
      "│ snake ┆ 49.0 │\n",
      "│ snake ┆ 49.0 │\n",
      "│ snake ┆ 49.0 │\n",
      "└───────┴──────┘\n"
     ]
    }
   ],
   "source": [
    "import numpy as np\n",
    "from sklearn.preprocessing import TargetEncoder\n",
    "import polars as pl\n",
    "\n",
    "\n",
    "X = np.array([[\"dog\"] * 20 + [\"cat\"] * 30 + [\"snake\"] * 38], dtype=object).T\n",
    "X = [item for sublist in X.tolist() for item in sublist]\n",
    "y = [90.3] * 5 + [80.1] * 15 + [20.4] * 5 + [20.1] * 25 + [21.2] * 8 + [49] * 30\n",
    "\n",
    "df = pl.DataFrame({'col1': X  , 'col2':y})\n",
    "print(df)"
   ]
  },
  {
   "cell_type": "code",
   "execution_count": 2,
   "id": "56cc782f-d707-4067-b9cb-04a70be99fca",
   "metadata": {},
   "outputs": [
    {
     "name": "stdout",
     "output_type": "stream",
     "text": [
      "shape: (88, 2)\n",
      "┌───────────┬──────┐\n",
      "│ col1      ┆ col2 │\n",
      "│ ---       ┆ ---  │\n",
      "│ f64       ┆ f64  │\n",
      "╞═══════════╪══════╡\n",
      "│ 80.841084 ┆ 90.3 │\n",
      "│ 80.841084 ┆ 90.3 │\n",
      "│ 80.841084 ┆ 90.3 │\n",
      "│ 80.841084 ┆ 90.3 │\n",
      "│ 82.571349 ┆ 90.3 │\n",
      "│ …         ┆ …    │\n",
      "│ 42.932255 ┆ 49.0 │\n",
      "│ 43.22723  ┆ 49.0 │\n",
      "│ 42.73582  ┆ 49.0 │\n",
      "│ 43.22723  ┆ 49.0 │\n",
      "│ 42.73582  ┆ 49.0 │\n",
      "└───────────┴──────┘\n"
     ]
    }
   ],
   "source": [
    "enc_auto = TargetEncoder(smooth=\"auto\")\n",
    "X_trans = enc_auto.fit_transform(df.select(pl.col('col1')).to_numpy(), df.select(pl.col('col2')).to_numpy().ravel())\n",
    "\n",
    "encoded_features_df = pl.DataFrame(X_trans).rename({'column_0' : 'col1'})\n",
    "\n",
    "df = df.with_columns(encoded_features_df)\n",
    "\n",
    "print(df)"
   ]
  },
  {
   "cell_type": "code",
   "execution_count": 3,
   "id": "63ab14fc-55b6-48fd-87e2-fcccacc806f6",
   "metadata": {},
   "outputs": [
    {
     "data": {
      "text/plain": [
       "np.float64(44.28522727272727)"
      ]
     },
     "execution_count": 3,
     "metadata": {},
     "output_type": "execute_result"
    }
   ],
   "source": [
    "# A high `smooth` parameter puts more weight on global mean on the categorical\n",
    "# encodings:\n",
    "enc_high_smooth = TargetEncoder(smooth=5000.0).fit(df.select(pl.col('col1')).to_numpy(), df.select(pl.col('col2')).to_numpy().ravel())\n",
    "enc_high_smooth.target_mean_"
   ]
  },
  {
   "cell_type": "code",
   "execution_count": 4,
   "id": "36557d4f-b575-4563-b8c3-ef223bde18ec",
   "metadata": {},
   "outputs": [
    {
     "data": {
      "text/plain": [
       "[array([44.25153512, 44.28039119, 44.25147521, 44.25147521, 44.24665263,\n",
       "        44.28720774, 44.2862665 , 44.28532488, 44.2825986 , 44.2761055 ,\n",
       "        44.34344645, 44.31589456, 44.29954745, 44.30670325, 44.31385619])]"
      ]
     },
     "execution_count": 4,
     "metadata": {},
     "output_type": "execute_result"
    }
   ],
   "source": [
    "enc_high_smooth.encodings_"
   ]
  },
  {
   "cell_type": "code",
   "execution_count": 5,
   "id": "2cb87503-ba4a-49df-8675-737dbda435ce",
   "metadata": {},
   "outputs": [
    {
     "data": {
      "text/plain": [
       "[array([23.19815341, 32.19261364, 23.16065341, 23.16065341, 22.82058081,\n",
       "        45.38724747, 44.93565341, 44.35503247, 42.96852273, 39.2094697 ,\n",
       "        80.72315341, 74.97704545, 68.16174242, 71.14630682, 72.93704545])]"
      ]
     },
     "execution_count": 5,
     "metadata": {},
     "output_type": "execute_result"
    }
   ],
   "source": [
    "# On the other hand, a low `smooth` parameter puts more weight on target\n",
    "# conditioned on the value of the categorical:\n",
    "enc_low_smooth = TargetEncoder(smooth=1.0).fit(df.select(pl.col('col1')).to_numpy(), df.select(pl.col('col2')).to_numpy().ravel())\n",
    "enc_low_smooth.encodings_"
   ]
  }
 ],
 "metadata": {
  "kernelspec": {
   "display_name": "Python 3 (ipykernel)",
   "language": "python",
   "name": "python3"
  },
  "language_info": {
   "codemirror_mode": {
    "name": "ipython",
    "version": 3
   },
   "file_extension": ".py",
   "mimetype": "text/x-python",
   "name": "python",
   "nbconvert_exporter": "python",
   "pygments_lexer": "ipython3",
   "version": "3.10.14"
  }
 },
 "nbformat": 4,
 "nbformat_minor": 5
}
