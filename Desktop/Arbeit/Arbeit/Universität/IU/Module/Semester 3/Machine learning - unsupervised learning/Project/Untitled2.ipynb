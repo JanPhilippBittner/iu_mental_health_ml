{
 "cells": [
  {
   "cell_type": "code",
   "execution_count": 1,
   "id": "ba7c4183-3962-40ba-839f-fa98ff934e1a",
   "metadata": {},
   "outputs": [
    {
     "name": "stdout",
     "output_type": "stream",
     "text": [
      "shape: (88, 2)\n",
      "┌───────────┬──────┐\n",
      "│ col1      ┆ col2 │\n",
      "│ ---       ┆ ---  │\n",
      "│ f64       ┆ f64  │\n",
      "╞═══════════╪══════╡\n",
      "│ 82.570967 ┆ 90.3 │\n",
      "│ 82.571418 ┆ 90.3 │\n",
      "│ 82.728915 ┆ 90.3 │\n",
      "│ 82.571126 ┆ 90.3 │\n",
      "│ 82.431867 ┆ 90.3 │\n",
      "│ …         ┆ …    │\n",
      "│ 43.440872 ┆ 49.0 │\n",
      "│ 43.627347 ┆ 49.0 │\n",
      "│ 41.600696 ┆ 49.0 │\n",
      "│ 43.632816 ┆ 49.0 │\n",
      "│ 43.627347 ┆ 49.0 │\n",
      "└───────────┴──────┘\n"
     ]
    }
   ],
   "source": [
    "import numpy as np\n",
    "from sklearn.preprocessing import TargetEncoder\n",
    "import polars as pl\n",
    "\n",
    "# Step 1: Create the original DataFrame\n",
    "X = np.array([[\"dog\"] * 20 + [\"cat\"] * 30 + [\"snake\"] * 38], dtype=object).T\n",
    "X = [item for sublist in X.tolist() for item in sublist]\n",
    "y = [90.3] * 5 + [80.1] * 15 + [20.4] * 5 + [20.1] * 25 + [21.2] * 8 + [49] * 30\n",
    "\n",
    "df = pl.DataFrame({'col1': X, 'col2': y})\n",
    "\n",
    "# Step 2: Apply Target Encoding to 'col1'\n",
    "enc_auto = TargetEncoder(smooth=\"auto\")\n",
    "X_trans = enc_auto.fit_transform(df.select(pl.col('col1')).to_numpy(), df.select(pl.col('col2')).to_numpy().ravel())\n",
    "\n",
    "# Step 3: Reconstruct the DataFrame by replacing 'col1' with the encoded values while keeping 'col2'\n",
    "df = df.with_columns(pl.DataFrame({'col1': X_trans.flatten()}))\n",
    "\n",
    "# Step 4: Print the modified DataFrame to check the result\n",
    "print(df)"
   ]
  },
  {
   "cell_type": "code",
   "execution_count": 3,
   "id": "06905653-4ee7-4cfd-a05c-042239e73cbe",
   "metadata": {},
   "outputs": [
    {
     "name": "stdout",
     "output_type": "stream",
     "text": [
      "{'column_0': 'col1', 'column_1': 'col2', 'column_2': 'col3'}\n"
     ]
    }
   ],
   "source": [
    "import numpy as np\n",
    "from sklearn.preprocessing import TargetEncoder\n",
    "import polars as pl\n",
    "\n",
    "# Let's assume feat_cat_nominal is your list of original column names\n",
    "feat_cat_nominal = [\"col1\", \"col2\", \"col3\"]  # Example list of column names\n",
    "feat_target_variable = \"col_target\"  # Example target variable\n",
    "\n",
    "# Example DataFrame (modify as needed)\n",
    "df = pl.DataFrame({\n",
    "    \"col1\": [\"dog\", \"cat\", \"snake\"] * 10,\n",
    "    \"col3\": [\"red\", \"green\", \"blue\"] * 10,\n",
    "    \"col2\": [\"apple\", \"orange\", \"banana\"] * 10,\n",
    "    \"col_target\": [1, 2, 3] * 10\n",
    "})\n",
    "\n",
    "# Invoke TargetEncoder Class with smoothness \"auto\"\n",
    "enc_auto = TargetEncoder(smooth=\"auto\")\n",
    "\n",
    "# Fit the TargetEncoder and Transform the nominal features based on the target variable\n",
    "X_trans = enc_auto.fit_transform(\n",
    "    df.select(feat_cat_nominal).to_numpy(), \n",
    "    df.select(pl.col(feat_target_variable)).to_numpy().ravel()\n",
    ")\n",
    "\n",
    "# Dynamically rename the encoded columns based on the original column names\n",
    "column_rename_dict = {f\"column_{i}\": name for i, name in enumerate(feat_cat_nominal)}\n",
    "encoded_features_df = pl.DataFrame(X_trans).rename(column_rename_dict)\n",
    "\n",
    "# Replace the original columns in the DataFrame with the encoded values\n",
    "df = df.with_columns(encoded_features_df)\n",
    "\n",
    "# Print the modified DataFrame\n",
    "print(column_rename_dict)"
   ]
  },
  {
   "cell_type": "code",
   "execution_count": 4,
   "id": "216e70ba-504a-4141-aa0d-237e3407312a",
   "metadata": {},
   "outputs": [
    {
     "name": "stdout",
     "output_type": "stream",
     "text": [
      "Return type: <class 'enumerate'>\n",
      "[(0, 'eat'), (1, 'sleep'), (2, 'repeat')]\n",
      "[(2, 'g'), (3, 'e'), (4, 'e'), (5, 'k')]\n"
     ]
    }
   ],
   "source": [
    "l1 = [\"eat\", \"sleep\", \"repeat\"]\n",
    "s1 = \"geek\"\n",
    "\n",
    "# creating enumerate objects\n",
    "obj1 = enumerate(l1)\n",
    "obj2 = enumerate(s1)\n",
    "\n",
    "print (\"Return type:\", type(obj1))\n",
    "print (list(enumerate(l1)))\n",
    "\n",
    "# changing start index to 2 from 0\n",
    "print (list(enumerate(s1, 2)))"
   ]
  }
 ],
 "metadata": {
  "kernelspec": {
   "display_name": "Python 3 (ipykernel)",
   "language": "python",
   "name": "python3"
  },
  "language_info": {
   "codemirror_mode": {
    "name": "ipython",
    "version": 3
   },
   "file_extension": ".py",
   "mimetype": "text/x-python",
   "name": "python",
   "nbconvert_exporter": "python",
   "pygments_lexer": "ipython3",
   "version": "3.10.14"
  }
 },
 "nbformat": 4,
 "nbformat_minor": 5
}
