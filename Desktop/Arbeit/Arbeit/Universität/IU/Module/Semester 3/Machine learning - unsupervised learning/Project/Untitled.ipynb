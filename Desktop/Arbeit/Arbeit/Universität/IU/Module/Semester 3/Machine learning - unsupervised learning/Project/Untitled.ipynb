{
 "cells": [
  {
   "cell_type": "code",
   "execution_count": 1,
   "id": "21232e1f-c973-4e9b-8428-f3392ee62475",
   "metadata": {},
   "outputs": [],
   "source": [
    "import polars as pl"
   ]
  },
  {
   "cell_type": "code",
   "execution_count": 2,
   "id": "4df66915-f400-4ed7-8439-56741e678b7e",
   "metadata": {},
   "outputs": [],
   "source": [
    "feat_cat_ordinal = ['comp_size' , 'sick_leave_difficulty' , 'availability_of_benefits' , 'availability_of_benefits_prev_employer' , 'mh_discussion_indic_prev_employer' \n",
    "                    , 'mh_resources_availability_indic_prev_employer' , 'anonym_use_benefit_indic_prev_employer' , 'neg_consequences_discussing_mh_prev_employer'\n",
    "                    , 'neg_consequences_discussing_ph_prev_employer' , 'comf_discussing_mh_with_coworker_prev_employer' , 'comf_discussing_mnh_with_supervisor_prev_employer'\n",
    "                    , 'employer_importance_mh_vs_ph_prev_employer' , 'known_neg_consequences_of_mh_prev_employer' , 'willingness_to_share_with_friend_family' , 'interference_mh_treated_with_work'\n",
    "                    , 'interference_mh_untreated_with_work' , 'remote']\n",
    "feat_cat_nominal = ['tech_comp_indic' , 'tech_role_indic' , 'awareness_of_benefits' , 'mh_discussion_indic' , 'mh_resources_availability_indic' \n",
    "                    , 'anonym_use_benefit_indic' , 'neg_consequences_discussing_mh' , 'neg_consequences_discussing_ph' , 'comf_discussing_mh_with_coworker_indic' , 'comf_discussing_mnh_with_supervisor_indic' \n",
    "                    , 'employer_importance_mh_vs_ph' ,'known_neg_consequences_of_mh' , 'prev_employers' , 'awareness_of_benefits_prev_employer' , 'willing_discuss_ph_in_hiring_interview'\n",
    "                    , 'willing_discuss_mh_in_hiring_interview' , 'percevied_neg_impact_carreer_of_mh' , 'perceived_neg_impact_coworker_opiniton_of_mh' , 'neg_response_to_mh' , \n",
    "                    'willingness_to_share_mh_after_observation' , 'mh_family_hist' , 'previous_mh' , 'current_mh' , 'diagnosis_professional' , 'used_therapy' , 'age' , 'gender' , 'country_residency'\n",
    "                    , 'usa_state_residency' , 'country_work' , 'usa_state_work'  ]\n",
    "\n",
    "feat_text = ['job_title']"
   ]
  },
  {
   "cell_type": "code",
   "execution_count": 3,
   "id": "8bab6047-cde7-4fa9-94e3-5fe2e00c46e2",
   "metadata": {},
   "outputs": [],
   "source": [
    "df = pl.DataFrame({ 'comp_size' : [1,2,3] , 'tech_comp_indic' : [4,5,6] , 'abcde' : [7,8,9] , 'aJannuzzo' : ['I' , 'am' , 'aJannuzzo']\n",
    "})"
   ]
  },
  {
   "cell_type": "code",
   "execution_count": 4,
   "id": "06a1912a-50da-4063-bb2b-9b6c6f44a855",
   "metadata": {},
   "outputs": [
    {
     "name": "stdout",
     "output_type": "stream",
     "text": [
      "['comp_size', 'tech_comp_indic', 'abcde', 'aJannuzzo']\n"
     ]
    }
   ],
   "source": [
    "column_list = df.columns\n",
    "print(column_list)"
   ]
  },
  {
   "cell_type": "code",
   "execution_count": 5,
   "id": "229434a1-d172-4e87-a28f-4ad8529c6c83",
   "metadata": {},
   "outputs": [
    {
     "name": "stdout",
     "output_type": "stream",
     "text": [
      "['comp_size', 'tech_comp_indic', 'abcde', 'aJannuzzo']\n"
     ]
    }
   ],
   "source": [
    "def fill_func():\n",
    "    for x in column_list:\n",
    "        if x not in feat_cat_ordinal and x not in feat_cat_nominal and x not in feat_text:\n",
    "            feat_text.append(x)\n",
    "        else:\n",
    "            continue\n",
    "\n",
    "fill_func()\n",
    "print(column_list)"
   ]
  },
  {
   "cell_type": "code",
   "execution_count": 6,
   "id": "d3cfa61c-3bb9-452d-924f-b405eb4a28c9",
   "metadata": {},
   "outputs": [
    {
     "name": "stdout",
     "output_type": "stream",
     "text": [
      "['job_title', 'abcde', 'aJannuzzo']\n"
     ]
    }
   ],
   "source": [
    "def fill_feat_text():\n",
    "    for x in feat_cat_ordinal:\n",
    "        if x not in column_list:\n",
    "            feat_text.append(x)\n",
    "            return feat_text\n",
    "        return feat_text\n",
    "    for x in feat_cat_nominal:\n",
    "        if x not in column_list:\n",
    "            feat_text.append(x)\n",
    "            return feat_text\n",
    "        return feat_text\n",
    "    for x in column_list:\n",
    "        if x not in feat_text:\n",
    "            feat_text.append(x)\n",
    "            return feat_text\n",
    "        return feat_text\n",
    "\n",
    "fill_feat_text()\n",
    "print(feat_text)"
   ]
  }
 ],
 "metadata": {
  "kernelspec": {
   "display_name": "Python 3 (ipykernel)",
   "language": "python",
   "name": "python3"
  },
  "language_info": {
   "codemirror_mode": {
    "name": "ipython",
    "version": 3
   },
   "file_extension": ".py",
   "mimetype": "text/x-python",
   "name": "python",
   "nbconvert_exporter": "python",
   "pygments_lexer": "ipython3",
   "version": "3.10.14"
  }
 },
 "nbformat": 4,
 "nbformat_minor": 5
}
