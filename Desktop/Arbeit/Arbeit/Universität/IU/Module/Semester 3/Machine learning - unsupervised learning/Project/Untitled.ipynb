{
 "cells": [
  {
   "cell_type": "code",
   "execution_count": 53,
   "id": "a2b46517-0699-4fdf-b1d6-9ce337c34491",
   "metadata": {},
   "outputs": [
    {
     "name": "stdout",
     "output_type": "stream",
     "text": [
      "shape: (4, 2)\n",
      "┌─────────────────┬───────────────────┐\n",
      "│ tech_role_indic ┆ job_title         │\n",
      "│ ---             ┆ ---               │\n",
      "│ i64             ┆ str               │\n",
      "╞═════════════════╪═══════════════════╡\n",
      "│ 1               ┆ developer|manager │\n",
      "│ 1               ┆ sales             │\n",
      "│ 1               ┆ engineer/lead     │\n",
      "│ null            ┆ support|admin     │\n",
      "└─────────────────┴───────────────────┘\n"
     ]
    }
   ],
   "source": [
    "import polars as pl\n",
    "\n",
    "# Example Polars DataFrame\n",
    "df = pl.DataFrame({\n",
    "    'tech_role_indic': [None, 1, None, None],\n",
    "    'job_title': ['developer|manager', 'sales', 'engineer/lead', 'support|admin']\n",
    "})\n",
    "\n",
    "# Example job list\n",
    "job_list = ['developer', 'engineer', 'data scientist']\n",
    "\n",
    "# Construct a regex pattern that matches any of the job titles in job_list\n",
    "job_pattern = '|'.join(job_list)\n",
    "\n",
    "# Update 'tech_role_indic' based on the regex pattern matching\n",
    "df = df.with_columns(\n",
    "    pl.when(\n",
    "        (pl.col('job_title').str.contains(job_pattern)) & (pl.col('tech_role_indic').is_null())\n",
    "    ).then(1).otherwise(pl.col('tech_role_indic')).alias('tech_role_indic')\n",
    ")\n",
    "\n",
    "print(df)"
   ]
  }
 ],
 "metadata": {
  "kernelspec": {
   "display_name": "Python 3 (ipykernel)",
   "language": "python",
   "name": "python3"
  },
  "language_info": {
   "codemirror_mode": {
    "name": "ipython",
    "version": 3
   },
   "file_extension": ".py",
   "mimetype": "text/x-python",
   "name": "python",
   "nbconvert_exporter": "python",
   "pygments_lexer": "ipython3",
   "version": "3.10.14"
  }
 },
 "nbformat": 4,
 "nbformat_minor": 5
}
