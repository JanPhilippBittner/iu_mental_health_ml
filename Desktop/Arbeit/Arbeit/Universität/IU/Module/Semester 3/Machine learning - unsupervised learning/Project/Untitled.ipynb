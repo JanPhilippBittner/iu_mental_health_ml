{
 "cells": [
  {
   "cell_type": "code",
   "execution_count": 29,
   "id": "21232e1f-c973-4e9b-8428-f3392ee62475",
   "metadata": {},
   "outputs": [],
   "source": [
    "from sklearn.preprocessing import OrdinalEncoder\n",
    "import polars as pl\n",
    "\n",
    "import numpy as np"
   ]
  },
  {
   "cell_type": "code",
   "execution_count": 33,
   "id": "2c1d34cf-b819-4654-9183-4ec50925839c",
   "metadata": {
    "scrolled": true
   },
   "outputs": [
    {
     "name": "stdout",
     "output_type": "stream",
     "text": [
      "shape: (6, 3)\n",
      "┌──────┬────────┬────────┐\n",
      "│ Male ┆ Female ┆ Others │\n",
      "│ ---  ┆ ---    ┆ ---    │\n",
      "│ f64  ┆ f64    ┆ i64    │\n",
      "╞══════╪════════╪════════╡\n",
      "│ 0.0  ┆ 1.0    ┆ 15     │\n",
      "│ 1.0  ┆ 2.0    ┆ 1      │\n",
      "│ 2.0  ┆ 3.0    ┆ 2      │\n",
      "│ 3.0  ┆ 4.0    ┆ 5      │\n",
      "│ 4.0  ┆ 5.0    ┆ 12     │\n",
      "│ 0.0  ┆ 0.0    ┆ 2      │\n",
      "└──────┴────────┴────────┘\n"
     ]
    }
   ],
   "source": [
    "# Construct my DataFrame\n",
    "df = pl.DataFrame({'Male': [1 ,4 , 5 ,6 , 10 ,1] , 'Female' :  [2 , 3 ,7 ,8 ,9 , 1] , 'Others' : [ 15, 1,2 ,5 ,12,2]})\n",
    "chosen_cols = ['Male' , 'Female']\n",
    "\n",
    "# Fit and transform the data\n",
    "enc = OrdinalEncoder()\n",
    "encoded_values = enc.fit_transform(df.select(pl.col(chosen_cols)).to_numpy())\n",
    "\n",
    "# Reconstruct the DataFrame\n",
    "encoded_df = pl.DataFrame(encoded_values, schema=chosen_cols)\n",
    "df = df.with_columns(encoded_df)\n",
    "\n",
    "print(df)"
   ]
  },
  {
   "cell_type": "code",
   "execution_count": 23,
   "id": "f5608182-2ccb-4e0d-9f0e-9e6c043eed8a",
   "metadata": {},
   "outputs": [
    {
     "data": {
      "text/plain": [
       "[array([ 1,  4,  5,  6, 10]), array([1, 2, 3, 7, 8, 9])]"
      ]
     },
     "execution_count": 23,
     "metadata": {},
     "output_type": "execute_result"
    }
   ],
   "source": [
    "enc.categories_"
   ]
  },
  {
   "cell_type": "code",
   "execution_count": 24,
   "id": "ab9f0d94-11e6-48f2-89ba-d92c5b959887",
   "metadata": {},
   "outputs": [
    {
     "name": "stdout",
     "output_type": "stream",
     "text": [
      "[[0. 1.]\n",
      " [1. 2.]\n",
      " [2. 3.]\n",
      " [3. 4.]\n",
      " [4. 5.]\n",
      " [0. 0.]]\n"
     ]
    }
   ],
   "source": [
    "transformation = enc.transform(X)\n",
    "print(transformation)"
   ]
  },
  {
   "cell_type": "code",
   "execution_count": 25,
   "id": "82980698-f3eb-4e56-adc2-84c664b1fa2f",
   "metadata": {},
   "outputs": [
    {
     "name": "stdout",
     "output_type": "stream",
     "text": [
      "[[ 1  2]\n",
      " [ 4  3]\n",
      " [ 5  7]\n",
      " [ 6  8]\n",
      " [10  9]\n",
      " [ 1  1]]\n"
     ]
    }
   ],
   "source": [
    "inverse_transformation = enc.inverse_transform(transformation)\n",
    "print(inverse_transformation)"
   ]
  },
  {
   "cell_type": "code",
   "execution_count": null,
   "id": "e5cc9078-8642-4455-870a-00736f14186a",
   "metadata": {},
   "outputs": [],
   "source": []
  }
 ],
 "metadata": {
  "kernelspec": {
   "display_name": "Python 3 (ipykernel)",
   "language": "python",
   "name": "python3"
  },
  "language_info": {
   "codemirror_mode": {
    "name": "ipython",
    "version": 3
   },
   "file_extension": ".py",
   "mimetype": "text/x-python",
   "name": "python",
   "nbconvert_exporter": "python",
   "pygments_lexer": "ipython3",
   "version": "3.10.14"
  }
 },
 "nbformat": 4,
 "nbformat_minor": 5
}
