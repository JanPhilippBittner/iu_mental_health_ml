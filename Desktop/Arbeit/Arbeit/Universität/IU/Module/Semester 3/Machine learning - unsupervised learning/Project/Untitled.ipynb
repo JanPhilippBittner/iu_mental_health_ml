{
 "cells": [
  {
   "cell_type": "code",
   "execution_count": 3,
   "id": "08d723d9-9e52-4236-a8b0-16fbb10db165",
   "metadata": {},
   "outputs": [
    {
     "name": "stdout",
     "output_type": "stream",
     "text": [
      "[['aJannuzzo', 'uzzo'], ['Bish']]\n",
      "None\n"
     ]
    }
   ],
   "source": [
    "my_tuple = [('aJannuzzo', 'uzzo') ,  ('Bish'  ,)]\n",
    "my_new_list = [list(x) for x in my_tuple]\n",
    "print(my_new_list)\n",
    "\n",
    "end_list = []\n",
    "end_list = end_list.append(x for x in [y for y in my_new_list])\n",
    "print(end_list)"
   ]
  },
  {
   "cell_type": "code",
   "execution_count": 19,
   "id": "520e998d-99bd-486b-be3b-8bdfd297bf33",
   "metadata": {},
   "outputs": [
    {
     "name": "stdout",
     "output_type": "stream",
     "text": [
      "['1']\n"
     ]
    }
   ],
   "source": [
    "example = [['1']]\n",
    "fame = []\n",
    "fame.extend(x for y in example for x in y)\n",
    "print(fame)"
   ]
  }
 ],
 "metadata": {
  "kernelspec": {
   "display_name": "Python 3 (ipykernel)",
   "language": "python",
   "name": "python3"
  },
  "language_info": {
   "codemirror_mode": {
    "name": "ipython",
    "version": 3
   },
   "file_extension": ".py",
   "mimetype": "text/x-python",
   "name": "python",
   "nbconvert_exporter": "python",
   "pygments_lexer": "ipython3",
   "version": "3.10.14"
  }
 },
 "nbformat": 4,
 "nbformat_minor": 5
}
